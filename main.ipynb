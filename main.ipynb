{
 "cells": [
  {
   "cell_type": "markdown",
   "metadata": {},
   "source": [
    "# Advanced Lane Finding Project\n",
    "\n",
    "The goals / steps of this project are the following:\n",
    "\n",
    "* Compute the camera calibration matrix and distortion coefficients given a set of chessboard images.\n",
    "* Apply a distortion correction to raw images.\n",
    "* Use color transforms, gradients, etc., to create a thresholded binary image.\n",
    "* Apply a perspective transform to rectify binary image (\"birds-eye view\").\n",
    "* Detect lane pixels and fit to find the lane boundary.\n",
    "* Determine the curvature of the lane and vehicle position with respect to center.\n",
    "* Warp the detected lane boundaries back onto the original image.\n",
    "* Output visual display of the lane boundaries and numerical estimation of lane curvature and vehicle position.\n",
    "\n",
    "## The project is divided in the four following phases:\n",
    "\n",
    "1 - Compute the camera calibration using chessboard images\n",
    "\n",
    "2 - Build a Lane finding Pipeline for single images\n",
    "\n",
    "3 - Build a Lane finding Pipeline to a video\n",
    "\n",
    "4 - Reinforce the video Pipeline using the provided challenge videos \n",
    "\n",
    "---"
   ]
  },
  {
   "cell_type": "markdown",
   "metadata": {},
   "source": [
    "## Import Packages"
   ]
  },
  {
   "cell_type": "code",
   "execution_count": 1,
   "metadata": {
    "ExecuteTime": {
     "end_time": "2020-05-14T13:19:27.806418Z",
     "start_time": "2020-05-14T13:19:26.028101Z"
    }
   },
   "outputs": [],
   "source": [
    "# Importing some useful packages\n",
    "import numpy as np\n",
    "import cv2\n",
    "import glob\n",
    "import matplotlib.pyplot as plt\n",
    "import matplotlib.image as mpimg\n",
    "import os\n",
    "from helper_functions import *\n",
    "import pickle\n",
    "\n",
    "#Import everything needed to edit/save/watch video clips\n",
    "from moviepy.editor import VideoFileClip\n",
    "from IPython.display import HTML\n",
    "%matplotlib qt\n"
   ]
  },
  {
   "cell_type": "markdown",
   "metadata": {},
   "source": [
    "## 1 - Compute the camera calibration using chessboard images"
   ]
  },
  {
   "cell_type": "code",
   "execution_count": 2,
   "metadata": {},
   "outputs": [],
   "source": [
    "# define the name of the output directory to store the output images\n",
    "output_path = \"output_images/camera_calibration\"\n",
    "\n",
    "# Create output_path directory if doesn't exist\n",
    "if not os.path.exists(output_path):\n",
    "    os.mkdir(output_path)"
   ]
  },
  {
   "cell_type": "code",
   "execution_count": 3,
   "metadata": {
    "ExecuteTime": {
     "end_time": "2020-05-14T13:19:31.648297Z",
     "start_time": "2020-05-14T13:19:27.811639Z"
    }
   },
   "outputs": [],
   "source": [
    "# To avoid running the calibration step everytime, in case the camera coefficients already exist, just load it\n",
    "if os.path.exists('camera_coeff.pkl'):\n",
    "    # Getting back the values:\n",
    "    with open('camera_coeff.pkl', 'rb') as f:  \n",
    "        mtx, dist = pickle.load(f)\n",
    "    \n",
    "else:  \n",
    "    # Prepare object points, like (0,0,0), (1,0,0), (2,0,0) ....,(9,6,0)\n",
    "    objp = np.zeros((9*6,3), np.float32)\n",
    "    objp[:,:2] = np.mgrid[0:9,0:6].T.reshape(-1,2)\n",
    "\n",
    "    # Arrays to store object points and image points from all the images.\n",
    "    objpoints = [] # 3d points in real world space\n",
    "    imgpoints = [] # 2d points in image plane.\n",
    "\n",
    "    # Make a list of calibration images\n",
    "    images = glob.glob('camera_cal/calibration*.jpg')\n",
    "\n",
    "    # Step through the list and search for chessboard corners\n",
    "    for fname in images:\n",
    "\n",
    "        # Read the image\n",
    "        img = cv2.imread(fname)\n",
    "\n",
    "        # Convert the image to gray scale\n",
    "        gray = cv2.cvtColor(img,cv2.COLOR_BGR2GRAY)\n",
    "\n",
    "        # Find the chessboard 54 (9*6) corners \n",
    "        ret, corners = cv2.findChessboardCorners(gray, (9,6),None)\n",
    "\n",
    "        # If found, append object points, image points\n",
    "        if ret == True:\n",
    "            objpoints.append(objp)\n",
    "            imgpoints.append(corners)\n",
    "\n",
    "            # Draw and display the corners\n",
    "            img = cv2.drawChessboardCorners(img, (9,6), corners, ret)\n",
    "            #cv2.imshow('img',img)\n",
    "            #cv2.waitKey(500)\n",
    "\n",
    "    #cv2.destroyAllWindows()\n",
    "\n",
    "    # Perform the camera calibration\n",
    "    ret, mtx, dist, rvecs, tvecs = cv2.calibrateCamera(objpoints, imgpoints, gray.shape[::-1], None, None) \n",
    "\n",
    "    # Store the camera calibration coefficients for future use\n",
    "    with open('camera_coeff.pkl', 'wb') as f:  \n",
    "        pickle.dump([mtx, dist], f)\n",
    "        \n",
    "    # Perform distortion correction on chessboard images to verify the process is doing well\n",
    "\n",
    "    # Step through the list and undistort each image\n",
    "    for fname in images:\n",
    "\n",
    "        # Read the image\n",
    "        image = mpimg.imread(fname)\n",
    "\n",
    "        # Undistort the image an display it \n",
    "        undist = cv2.undistort(image, mtx, dist, None, mtx)\n",
    "\n",
    "        # Save images on output_path Directory\n",
    "        f, (ax1, ax2) = plt.subplots(1, 2, figsize=(24, 9))\n",
    "        f.tight_layout()\n",
    "\n",
    "        ax1.imshow(image)\n",
    "        ax1.set_title('Original Image', fontsize=30)\n",
    "\n",
    "        ax2.imshow(undist)\n",
    "        ax2.set_title('Undistorted Image', fontsize=30)\n",
    "        plt.subplots_adjust(left=0.1, right=0.9, top=1, bottom=0, wspace = 0.1)\n",
    "\n",
    "\n",
    "        plt.savefig(os.path.join(output_path, \"undist_\" + os.path.basename(fname)))\n",
    "        plt.close()"
   ]
  },
  {
   "cell_type": "markdown",
   "metadata": {},
   "source": [
    "## 2 - Build a Lane finding Pipeline for single images\n",
    "The pipeline will be composed by the following steps:\n",
    "\n",
    "1 - Read and apply a distortion correction to the image\n",
    "\n",
    "2 - Use color transforms, gradients, etc., to create a thresholded binary image\n",
    "\n",
    "3 - Apply a perspective transform to rectify binary image (\"birds-eye view\")\n",
    "\n",
    "4 - Detect lane pixels and fit to find the lane boundary\n",
    "\n",
    "5 - Determine the curvature of the lane and vehicle position with respect to center \n",
    "\n",
    "6 - Warp the detected lane boundaries back onto the original image\n",
    "\n",
    "7 - Output visual display of the lane boundaries and numerical estimation of lane curvature and vehicle position"
   ]
  },
  {
   "cell_type": "code",
   "execution_count": 4,
   "metadata": {},
   "outputs": [],
   "source": [
    "# define the name of the directory to store the output images\n",
    "output_path = \"output_images/test_images\"\n",
    "\n",
    "# Create output_path directory if doesn't exist\n",
    "if not os.path.exists(output_path):\n",
    "    os.mkdir(output_path)"
   ]
  },
  {
   "cell_type": "code",
   "execution_count": 5,
   "metadata": {},
   "outputs": [],
   "source": [
    "# Get the transform matrix using 4 source and destination points calculated manually looking to \n",
    "# the straight line images\n",
    "\n",
    "src = np.float32([[195, 720],[1125, 720],[578, 460],[705, 460]])\n",
    "dst = np.float32([[350, 720],[950, 720],[350,0],[950,0]])\n",
    "\n",
    "# Get the transform matrix M using the src and dst points\n",
    "M = cv2.getPerspectiveTransform(src, dst)\n",
    "\n",
    "# Get the invert transform matrix M_inv using the src and dst points\n",
    "M_inv = cv2.getPerspectiveTransform(dst, src)\n",
    "        "
   ]
  },
  {
   "cell_type": "code",
   "execution_count": 6,
   "metadata": {},
   "outputs": [],
   "source": [
    "def process_image(original_image, fname, mtx, dist, M, M_inv):\n",
    "    \n",
    "    ## 1 - Apply a distortion correction to the image ##\n",
    "    undist = undistort_image(original_image, mtx, dist)\n",
    "    save_undistorted_images(output_path, fname, original_image, undist)\n",
    "\n",
    "    ## 2 - Use color transforms, gradients, etc., to create a thresholded binary image ##\n",
    "    ksize = 3 # Sobel kernel size \n",
    "\n",
    "    # Apply each of the gradient thresholding functions\n",
    "    gradx = abs_sobel_thresh(undist, orient='x', sobel_kernel=ksize, thresh=(30, 200))\n",
    "    grady = abs_sobel_thresh(undist, orient='y', sobel_kernel=ksize, thresh=(50, 200))\n",
    "    mag_binary = mag_thresh(undist, sobel_kernel=ksize, mag_thresh=(30, 200))\n",
    "    dir_binary = dir_threshold(undist, sobel_kernel=ksize, thresh=(0.7, 1.3))\n",
    "\n",
    "    # Apply each of the color thresholding functions for HLS color space\n",
    "    hls_colors_binary = hls_select(undist, s_thresh=(170, 240), l_thresh=(200, 255))\n",
    "\n",
    "    # Apply each of the color thresholding functions for HSV color space\n",
    "    hsv_colors_binary = hsv_select(undist, s_thresh=(130,255), v_thresh=(240, 255), vs_thresh=(200, 255))\n",
    "        \n",
    "    # Combine all of the thresholding binaries\n",
    "    binary_image = np.zeros_like(mag_binary)\n",
    "    binary_image[(hsv_colors_binary == 1) | (hls_colors_binary == 1) | ((mag_binary == 1) & (dir_binary == 1)) ] = 1\n",
    "    save_binary_images(output_path, fname, undist, binary_image)\n",
    "    \n",
    "    # 3 - Apply a perspective transform to rectify binary image (\"birds-eye view\") ##\n",
    "\n",
    "    # Warp the image to a top-down view\n",
    "    img_size = (undist.shape[1], undist.shape[0])\n",
    "    binary_warped = cv2.warpPerspective(binary_image, M, img_size, flags=cv2.INTER_LINEAR)\n",
    "    \n",
    "    warped = cv2.warpPerspective(undist, M, img_size, flags=cv2.INTER_LINEAR)\n",
    "    save_warped_images(output_path, fname, original_image, warped)\n",
    "\n",
    "    ## 4 - Detect lane pixels and fit to find the lane boundary ##\n",
    "    \n",
    "    # Create a sliding window and find out which activated pixels fall into the window\n",
    "    out_img, left_fit, right_fit, left_fitx, right_fitx, ploty = fit_polynomial(binary_warped)\n",
    "\n",
    "    ## 5 - Determine the curvature of the lane and vehicle position with respect to center ##\n",
    "    \n",
    "    radius_curvature, left_radius_curvature , right_radius_curvature = measure_curvature_real(out_img.shape[0], left_fit, right_fit)\n",
    "    \n",
    "    rel_vehicle_position = measure_rel_vehicle_position(out_img.shape, left_fit, right_fit)\n",
    "\n",
    "    ## 6 - Warp the detected lane boundaries back onto the original image ##\n",
    "\n",
    "    # Create an image to draw the lines on\n",
    "    warp_zero = np.zeros_like(binary_warped).astype(np.uint8)\n",
    "    color_warp = np.dstack((warp_zero, warp_zero, warp_zero))\n",
    "\n",
    "    # Recast the x and y points into usable format for cv2.fillPoly()\n",
    "    pts_left = np.array([np.transpose(np.vstack([left_fitx, ploty]))])\n",
    "    pts_right = np.array([np.flipud(np.transpose(np.vstack([right_fitx, ploty])))])\n",
    "    pts = np.hstack((pts_left, pts_right))\n",
    "\n",
    "    # Draw the lane onto the warped blank image\n",
    "    cv2.fillPoly(color_warp, np.int_([pts]), (0,255, 0))\n",
    "\n",
    "    # Warp the blank back to original image space using inverse perspective matrix (Minv)\n",
    "    newwarp = cv2.warpPerspective(color_warp, M_inv, img_size) \n",
    "\n",
    "    ## 7 - Output visual display of the lane boundaries and numerical estimation of lane curvature and vehicle position ##\n",
    "    # Combine the result with the original image\n",
    "    result = cv2.addWeighted(original_image, 1, newwarp, 0.3, 0)\n",
    "\n",
    "    save_lane_lines_image(output_path, fname, out_img)\n",
    "\n",
    "    print(\"Radius curvature = \", radius_curvature, 'm')\n",
    "    print(\"Left Radius curvature = \", left_radius_curvature, 'm', \"Right Radius curvature = \", right_radius_curvature, 'm', )\n",
    "    print(\"Relative vehicle position with respect to the line lane center = \",rel_vehicle_position, 'm')\n",
    "\n",
    "    save_pipeline_image(output_path, fname, result, radius_curvature, rel_vehicle_position )"
   ]
  },
  {
   "cell_type": "code",
   "execution_count": 7,
   "metadata": {
    "ExecuteTime": {
     "end_time": "2020-05-14T13:26:17.757281Z",
     "start_time": "2020-05-14T13:26:17.693455Z"
    }
   },
   "outputs": [],
   "source": [
    "%matplotlib inline\n",
    "\n",
    "# Make a list of test images\n",
    "images = glob.glob('test_images/*.jpg')\n",
    "images = []\n",
    "\n",
    "# Step through the list, read the image and apply the lane finding pipeline\n",
    "for fname in images:\n",
    "\n",
    "    print(\"-----------------------\", fname, \"-----------------------\")\n",
    "    \n",
    "    # Read the image\n",
    "    img = mpimg.imread(fname)\n",
    "\n",
    "    process_image(img, fname, mtx, dist, M, M_inv)\n",
    "\n",
    "    print('\\n')"
   ]
  },
  {
   "cell_type": "markdown",
   "metadata": {},
   "source": [
    "## 3 -  Build a Lane finding Pipeline to a video"
   ]
  },
  {
   "cell_type": "code",
   "execution_count": 8,
   "metadata": {
    "ExecuteTime": {
     "end_time": "2020-05-14T13:44:25.527191Z",
     "start_time": "2020-05-14T13:44:25.087142Z"
    }
   },
   "outputs": [],
   "source": [
    "from frame import *\n",
    "img_size = (720,1280)"
   ]
  },
  {
   "cell_type": "code",
   "execution_count": 15,
   "metadata": {},
   "outputs": [
    {
     "name": "stderr",
     "output_type": "stream",
     "text": [
      "t:   0%|          | 0/1260 [00:00<?, ?it/s, now=None]"
     ]
    },
    {
     "name": "stdout",
     "output_type": "stream",
     "text": [
      "Moviepy - Building video project_video_out.mp4.\n",
      "Moviepy - Writing video project_video_out.mp4\n",
      "\n"
     ]
    },
    {
     "name": "stderr",
     "output_type": "stream",
     "text": [
      "t:   1%|          | 14/1260 [00:03<05:11,  4.00it/s, now=None]"
     ]
    },
    {
     "name": "stdout",
     "output_type": "stream",
     "text": [
      "Fail sanity check - curvature left curvature: 4701.0 right curvature: 871.0\n"
     ]
    },
    {
     "name": "stderr",
     "output_type": "stream",
     "text": [
      "t:   4%|▎         | 47/1260 [00:12<05:56,  3.41it/s, now=None]"
     ]
    },
    {
     "name": "stdout",
     "output_type": "stream",
     "text": [
      "Fail sanity check - curvature left curvature: 5368.0 right curvature: 561.0\n"
     ]
    },
    {
     "name": "stderr",
     "output_type": "stream",
     "text": [
      "t:   8%|▊         | 97/1260 [00:26<04:58,  3.90it/s, now=None]"
     ]
    },
    {
     "name": "stdout",
     "output_type": "stream",
     "text": [
      "Error poly fit [-3.25374658e+01 -3.04832253e-01  7.02535189e-03]\n"
     ]
    },
    {
     "name": "stderr",
     "output_type": "stream",
     "text": [
      "t:   9%|▉         | 111/1260 [00:30<04:52,  3.93it/s, now=None]"
     ]
    },
    {
     "name": "stdout",
     "output_type": "stream",
     "text": [
      "Fail sanity check - curvature left curvature: 4404.0 right curvature: 745.0\n"
     ]
    },
    {
     "name": "stderr",
     "output_type": "stream",
     "text": [
      "t:   9%|▉         | 112/1260 [00:30<04:54,  3.90it/s, now=None]"
     ]
    },
    {
     "name": "stdout",
     "output_type": "stream",
     "text": [
      "Fail sanity check - curvature left curvature: 4009.0 right curvature: 708.0\n"
     ]
    },
    {
     "name": "stderr",
     "output_type": "stream",
     "text": [
      "t:  11%|█         | 141/1260 [00:37<04:46,  3.91it/s, now=None]"
     ]
    },
    {
     "name": "stdout",
     "output_type": "stream",
     "text": [
      "Error poly fit [21.78208435 -0.54805716  0.02593728]\n"
     ]
    },
    {
     "name": "stderr",
     "output_type": "stream",
     "text": [
      "t:  13%|█▎        | 165/1260 [00:44<04:39,  3.92it/s, now=None]"
     ]
    },
    {
     "name": "stdout",
     "output_type": "stream",
     "text": [
      "Fail sanity check - curvature left curvature: 4980.0 right curvature: 777.0\n"
     ]
    },
    {
     "name": "stderr",
     "output_type": "stream",
     "text": [
      "t:  16%|█▌        | 201/1260 [00:53<04:28,  3.95it/s, now=None]"
     ]
    },
    {
     "name": "stdout",
     "output_type": "stream",
     "text": [
      "Fail sanity check - curvature left curvature: 4300.0 right curvature: 827.0\n"
     ]
    },
    {
     "name": "stderr",
     "output_type": "stream",
     "text": [
      "t:  18%|█▊        | 226/1260 [00:59<04:22,  3.94it/s, now=None]"
     ]
    },
    {
     "name": "stdout",
     "output_type": "stream",
     "text": [
      "Error poly fit [ 4.74076286e+01 -2.14975160e-01  1.22373127e-02]\n"
     ]
    },
    {
     "name": "stderr",
     "output_type": "stream",
     "text": [
      "t:  22%|██▏       | 282/1260 [01:13<04:02,  4.03it/s, now=None]"
     ]
    },
    {
     "name": "stdout",
     "output_type": "stream",
     "text": [
      "Error poly fit [-1.48209683e+01 -3.39784567e-01  9.53626321e-03]\n"
     ]
    },
    {
     "name": "stderr",
     "output_type": "stream",
     "text": [
      "t:  23%|██▎       | 287/1260 [01:14<04:03,  3.99it/s, now=None]"
     ]
    },
    {
     "name": "stdout",
     "output_type": "stream",
     "text": [
      "Error poly fit [10.50713907 -0.38186969  0.01690182]\n"
     ]
    },
    {
     "name": "stderr",
     "output_type": "stream",
     "text": [
      "t:  25%|██▍       | 311/1260 [01:20<03:55,  4.04it/s, now=None]"
     ]
    },
    {
     "name": "stdout",
     "output_type": "stream",
     "text": [
      "Error poly fit [ 1.73375300e+01  7.02557076e-01 -1.47227749e-02]\n"
     ]
    },
    {
     "name": "stderr",
     "output_type": "stream",
     "text": [
      "t:  25%|██▍       | 314/1260 [01:21<03:53,  4.05it/s, now=None]"
     ]
    },
    {
     "name": "stdout",
     "output_type": "stream",
     "text": [
      "Error poly fit [ 2.25102461e+01 -3.28236745e-01 -1.31899735e-04]\n"
     ]
    },
    {
     "name": "stderr",
     "output_type": "stream",
     "text": [
      "t:  27%|██▋       | 337/1260 [01:27<03:50,  4.01it/s, now=None]"
     ]
    },
    {
     "name": "stdout",
     "output_type": "stream",
     "text": [
      "Error poly fit [ 1.06168355e+02 -5.58283462e-01 -2.33196118e-02]\n"
     ]
    },
    {
     "name": "stderr",
     "output_type": "stream",
     "text": [
      "t:  28%|██▊       | 356/1260 [01:31<03:45,  4.01it/s, now=None]"
     ]
    },
    {
     "name": "stdout",
     "output_type": "stream",
     "text": [
      "Error poly fit [-2.46804616e+00 -3.18218801e+01 -1.35221864e-03]\n"
     ]
    },
    {
     "name": "stderr",
     "output_type": "stream",
     "text": [
      "t:  30%|███       | 379/1260 [01:37<03:43,  3.94it/s, now=None]"
     ]
    },
    {
     "name": "stdout",
     "output_type": "stream",
     "text": [
      "Error poly fit [ 1.24631327e+01 -2.02327194e-01 -3.44379865e-04]\n"
     ]
    },
    {
     "name": "stderr",
     "output_type": "stream",
     "text": [
      "t:  31%|███       | 390/1260 [01:40<03:36,  4.01it/s, now=None]"
     ]
    },
    {
     "name": "stdout",
     "output_type": "stream",
     "text": [
      "Error poly fit [ 2.79320167e-02 -1.31821673e+02 -1.33613877e-02]\n"
     ]
    },
    {
     "name": "stderr",
     "output_type": "stream",
     "text": [
      "t:  32%|███▏      | 403/1260 [01:43<03:37,  3.93it/s, now=None]"
     ]
    },
    {
     "name": "stdout",
     "output_type": "stream",
     "text": [
      "Fail sanity check - curvature left curvature: 926.0 right curvature: 5015.0\n"
     ]
    },
    {
     "name": "stderr",
     "output_type": "stream",
     "text": [
      "t:  35%|███▍      | 440/1260 [01:53<03:26,  3.98it/s, now=None]"
     ]
    },
    {
     "name": "stdout",
     "output_type": "stream",
     "text": [
      "Error poly fit [-12.02236476   3.47537975  -0.01754154]\n"
     ]
    },
    {
     "name": "stderr",
     "output_type": "stream",
     "text": [
      "t:  36%|███▌      | 453/1260 [01:56<03:22,  3.99it/s, now=None]"
     ]
    },
    {
     "name": "stdout",
     "output_type": "stream",
     "text": [
      "Error poly fit [-3.06778261e+01  5.35827335e-01  3.61277762e-05]\n"
     ]
    },
    {
     "name": "stderr",
     "output_type": "stream",
     "text": [
      "t:  37%|███▋      | 460/1260 [01:58<03:21,  3.97it/s, now=None]"
     ]
    },
    {
     "name": "stdout",
     "output_type": "stream",
     "text": [
      "Error poly fit [ 7.18485321e+01 -8.37805323e-01 -4.03018795e-04]\n"
     ]
    },
    {
     "name": "stderr",
     "output_type": "stream",
     "text": [
      "t:  37%|███▋      | 470/1260 [02:00<03:15,  4.04it/s, now=None]"
     ]
    },
    {
     "name": "stdout",
     "output_type": "stream",
     "text": [
      "Error poly fit [-2.14070036e+03 -4.20899539e-01 -1.02064813e-05]\n"
     ]
    },
    {
     "name": "stderr",
     "output_type": "stream",
     "text": [
      "t:  37%|███▋      | 471/1260 [02:00<03:17,  4.00it/s, now=None]"
     ]
    },
    {
     "name": "stdout",
     "output_type": "stream",
     "text": [
      "Error poly fit [1.00066729e+00 3.44059751e+01 1.14692328e-02]\n"
     ]
    },
    {
     "name": "stderr",
     "output_type": "stream",
     "text": [
      "t:  38%|███▊      | 482/1260 [02:03<03:36,  3.60it/s, now=None]"
     ]
    },
    {
     "name": "stdout",
     "output_type": "stream",
     "text": [
      "Error poly fit [ 2.63549975e+00  3.37461502e+02 -2.01002315e-02]\n"
     ]
    },
    {
     "name": "stderr",
     "output_type": "stream",
     "text": [
      "t:  40%|███▉      | 503/1260 [02:09<03:08,  4.01it/s, now=None]"
     ]
    },
    {
     "name": "stdout",
     "output_type": "stream",
     "text": [
      "Error poly fit [ 2.40583586e-01  2.71443110e+01 -1.88859110e-02]\n"
     ]
    },
    {
     "name": "stderr",
     "output_type": "stream",
     "text": [
      "t:  40%|████      | 507/1260 [02:10<03:08,  3.99it/s, now=None]"
     ]
    },
    {
     "name": "stdout",
     "output_type": "stream",
     "text": [
      "Error poly fit [ 5.31950569e+03 -4.34219045e+00 -1.25064173e-02]\n"
     ]
    },
    {
     "name": "stderr",
     "output_type": "stream",
     "text": [
      "t:  41%|████▏     | 522/1260 [02:13<03:04,  3.99it/s, now=None]"
     ]
    },
    {
     "name": "stdout",
     "output_type": "stream",
     "text": [
      "Error poly fit [ 6.00097090e+00 -1.48964842e+01  5.90590203e-03]\n"
     ]
    },
    {
     "name": "stderr",
     "output_type": "stream",
     "text": [
      "t:  42%|████▏     | 526/1260 [02:15<03:13,  3.80it/s, now=None]"
     ]
    },
    {
     "name": "stdout",
     "output_type": "stream",
     "text": [
      "Error poly fit [15.29383703  0.82932014  0.01946967]\n"
     ]
    },
    {
     "name": "stderr",
     "output_type": "stream",
     "text": [
      "t:  42%|████▏     | 528/1260 [02:15<03:14,  3.77it/s, now=None]"
     ]
    },
    {
     "name": "stdout",
     "output_type": "stream",
     "text": [
      "Error poly fit [ 7.57766910e-01  2.57509941e+01 -1.09258076e-02]\n"
     ]
    },
    {
     "name": "stderr",
     "output_type": "stream",
     "text": [
      "t:  44%|████▍     | 552/1260 [02:21<02:54,  4.05it/s, now=None]"
     ]
    },
    {
     "name": "stdout",
     "output_type": "stream",
     "text": [
      "Error poly fit [-9.19195151e+02 -2.88941328e+00 -2.27600787e-02]\n"
     ]
    },
    {
     "name": "stderr",
     "output_type": "stream",
     "text": [
      "t:  45%|████▍     | 561/1260 [02:23<02:57,  3.94it/s, now=None]"
     ]
    },
    {
     "name": "stdout",
     "output_type": "stream",
     "text": [
      "Error poly fit [ 3.78074989e+01  1.25763235e-02 -9.30927266e-02]\n"
     ]
    },
    {
     "name": "stderr",
     "output_type": "stream",
     "text": [
      "t:  45%|████▍     | 563/1260 [02:24<02:54,  3.99it/s, now=None]"
     ]
    },
    {
     "name": "stdout",
     "output_type": "stream",
     "text": [
      "Fail sanity check - curvature left curvature: 846.0 right curvature: 4400.0\n"
     ]
    },
    {
     "name": "stderr",
     "output_type": "stream",
     "text": [
      "t:  45%|████▌     | 572/1260 [02:26<02:54,  3.95it/s, now=None]"
     ]
    },
    {
     "name": "stdout",
     "output_type": "stream",
     "text": [
      "Error poly fit [ 1.15816310e+01  1.29192279e+01 -9.19262085e-03]\n"
     ]
    },
    {
     "name": "stderr",
     "output_type": "stream",
     "text": [
      "t:  46%|████▌     | 578/1260 [02:28<02:48,  4.05it/s, now=None]"
     ]
    },
    {
     "name": "stdout",
     "output_type": "stream",
     "text": [
      "Error poly fit [ 4.74756385e+00 -1.86979126e+01 -3.71381464e-03]\n"
     ]
    },
    {
     "name": "stderr",
     "output_type": "stream",
     "text": [
      "t:  46%|████▌     | 582/1260 [02:29<02:45,  4.10it/s, now=None]"
     ]
    },
    {
     "name": "stdout",
     "output_type": "stream",
     "text": [
      "Fail sanity check - curvature left curvature: 809.0 right curvature: 4828.0\n"
     ]
    },
    {
     "name": "stderr",
     "output_type": "stream",
     "text": [
      "t:  47%|████▋     | 586/1260 [02:30<02:43,  4.12it/s, now=None]"
     ]
    },
    {
     "name": "stdout",
     "output_type": "stream",
     "text": [
      "Error poly fit [ 9.17927050e+01 -1.37060087e+00  1.23121076e-02]\n"
     ]
    },
    {
     "name": "stderr",
     "output_type": "stream",
     "text": [
      "t:  47%|████▋     | 590/1260 [02:31<02:44,  4.08it/s, now=None]"
     ]
    },
    {
     "name": "stdout",
     "output_type": "stream",
     "text": [
      "Fail sanity check - curvature left curvature: 526.0 right curvature: 2733.0\n"
     ]
    },
    {
     "name": "stderr",
     "output_type": "stream",
     "text": [
      "t:  47%|████▋     | 596/1260 [02:32<02:40,  4.14it/s, now=None]"
     ]
    },
    {
     "name": "stdout",
     "output_type": "stream",
     "text": [
      "Error poly fit [ 2.89897155 11.51712464  0.07020063]\n"
     ]
    },
    {
     "name": "stderr",
     "output_type": "stream",
     "text": [
      "t:  48%|████▊     | 602/1260 [02:34<02:40,  4.10it/s, now=None]"
     ]
    },
    {
     "name": "stdout",
     "output_type": "stream",
     "text": [
      "Error poly fit [-11.01562138  -0.05252534   0.01419247]\n"
     ]
    },
    {
     "name": "stderr",
     "output_type": "stream",
     "text": [
      "t:  48%|████▊     | 606/1260 [02:35<02:39,  4.10it/s, now=None]"
     ]
    },
    {
     "name": "stdout",
     "output_type": "stream",
     "text": [
      "Error poly fit [ 1.79472550e+02 -2.64834604e+01  4.03982230e-02]\n"
     ]
    },
    {
     "name": "stderr",
     "output_type": "stream",
     "text": [
      "t:  48%|████▊     | 607/1260 [02:35<02:38,  4.11it/s, now=None]"
     ]
    },
    {
     "name": "stdout",
     "output_type": "stream",
     "text": [
      "Fail sanity check - curvature left curvature: 459.0 right curvature: 2412.0\n"
     ]
    },
    {
     "name": "stderr",
     "output_type": "stream",
     "text": [
      "t:  50%|████▉     | 625/1260 [02:39<02:42,  3.91it/s, now=None]"
     ]
    },
    {
     "name": "stdout",
     "output_type": "stream",
     "text": [
      "Fail sanity check - curvature left curvature: 4944.0 right curvature: 571.0\n"
     ]
    },
    {
     "name": "stderr",
     "output_type": "stream",
     "text": [
      "t:  61%|██████    | 771/1260 [03:15<01:59,  4.08it/s, now=None]"
     ]
    },
    {
     "name": "stdout",
     "output_type": "stream",
     "text": [
      "Fail sanity check - curvature left curvature: 3754.0 right curvature: 629.0\n"
     ]
    },
    {
     "name": "stderr",
     "output_type": "stream",
     "text": [
      "t:  64%|██████▍   | 807/1260 [03:24<01:52,  4.04it/s, now=None]"
     ]
    },
    {
     "name": "stdout",
     "output_type": "stream",
     "text": [
      "Error poly fit [-1.48361417e+01  4.36271195e-01 -5.40937765e-04]\n"
     ]
    },
    {
     "name": "stderr",
     "output_type": "stream",
     "text": [
      "t:  78%|███████▊  | 983/1260 [04:14<01:27,  3.17it/s, now=None]"
     ]
    },
    {
     "name": "stdout",
     "output_type": "stream",
     "text": [
      "Error poly fit [-2.38345684e+02 -5.41239562e-01 -7.24033199e-03]\n"
     ]
    },
    {
     "name": "stderr",
     "output_type": "stream",
     "text": [
      "t:  80%|███████▉  | 1007/1260 [04:20<01:06,  3.82it/s, now=None]"
     ]
    },
    {
     "name": "stdout",
     "output_type": "stream",
     "text": [
      "Fail sanity check - curvature left curvature: 490.0 right curvature: 2852.0\n"
     ]
    },
    {
     "name": "stderr",
     "output_type": "stream",
     "text": [
      "t:  80%|████████  | 1008/1260 [04:21<01:06,  3.79it/s, now=None]"
     ]
    },
    {
     "name": "stdout",
     "output_type": "stream",
     "text": [
      "Fail sanity check - curvature left curvature: 392.0 right curvature: 3834.0\n"
     ]
    },
    {
     "name": "stderr",
     "output_type": "stream",
     "text": [
      "t:  80%|████████  | 1009/1260 [04:21<01:07,  3.72it/s, now=None]"
     ]
    },
    {
     "name": "stdout",
     "output_type": "stream",
     "text": [
      "Fail sanity check - curvature left curvature: 355.0 right curvature: 2503.0\n"
     ]
    },
    {
     "name": "stderr",
     "output_type": "stream",
     "text": [
      "t:  80%|████████  | 1013/1260 [04:22<01:06,  3.72it/s, now=None]"
     ]
    },
    {
     "name": "stdout",
     "output_type": "stream",
     "text": [
      "Fail sanity check - curvature left curvature: 461.0 right curvature: 2579.0\n"
     ]
    },
    {
     "name": "stderr",
     "output_type": "stream",
     "text": [
      "t:  80%|████████  | 1014/1260 [04:22<01:06,  3.69it/s, now=None]"
     ]
    },
    {
     "name": "stdout",
     "output_type": "stream",
     "text": [
      "Error poly fit [13.57341602 -1.13020025 -0.03582402]\n"
     ]
    },
    {
     "name": "stderr",
     "output_type": "stream",
     "text": [
      "t:  81%|████████  | 1015/1260 [04:23<01:06,  3.70it/s, now=None]"
     ]
    },
    {
     "name": "stdout",
     "output_type": "stream",
     "text": [
      "Fail sanity check - curvature left curvature: 398.0 right curvature: 3782.0\n"
     ]
    },
    {
     "name": "stderr",
     "output_type": "stream",
     "text": [
      "t:  81%|████████  | 1016/1260 [04:23<01:05,  3.73it/s, now=None]"
     ]
    },
    {
     "name": "stdout",
     "output_type": "stream",
     "text": [
      "failed\n",
      "Fail sanity check - curvature left curvature: 398.0 right curvature: 3542.0\n"
     ]
    },
    {
     "name": "stderr",
     "output_type": "stream",
     "text": [
      "t:  81%|████████  | 1017/1260 [04:23<01:06,  3.67it/s, now=None]"
     ]
    },
    {
     "name": "stdout",
     "output_type": "stream",
     "text": [
      "Error poly fit [-30.6769169   -2.00276897  -0.06299608]\n"
     ]
    },
    {
     "name": "stderr",
     "output_type": "stream",
     "text": [
      "t:  81%|████████  | 1021/1260 [04:24<01:05,  3.63it/s, now=None]"
     ]
    },
    {
     "name": "stdout",
     "output_type": "stream",
     "text": [
      "Fail sanity check - curvature left curvature: 515.0 right curvature: 2597.0\n"
     ]
    },
    {
     "name": "stderr",
     "output_type": "stream",
     "text": [
      "t:  82%|████████▏ | 1038/1260 [04:29<01:00,  3.66it/s, now=None]"
     ]
    },
    {
     "name": "stdout",
     "output_type": "stream",
     "text": [
      "Fail sanity check - curvature left curvature: 254.0 right curvature: 1912.0\n"
     ]
    },
    {
     "name": "stderr",
     "output_type": "stream",
     "text": [
      "t:  83%|████████▎ | 1042/1260 [04:30<00:59,  3.66it/s, now=None]"
     ]
    },
    {
     "name": "stdout",
     "output_type": "stream",
     "text": [
      "Fail sanity check - roughly parallel (minimum distance) 294.13822192982843\n"
     ]
    },
    {
     "name": "stderr",
     "output_type": "stream",
     "text": [
      "t:  83%|████████▎ | 1043/1260 [04:30<00:58,  3.69it/s, now=None]"
     ]
    },
    {
     "name": "stdout",
     "output_type": "stream",
     "text": [
      "failed\n",
      "Fail sanity check - roughly parallel (minimum distance) 279.2793388587787\n"
     ]
    },
    {
     "name": "stderr",
     "output_type": "stream",
     "text": [
      "t:  83%|████████▎ | 1044/1260 [04:31<00:57,  3.73it/s, now=None]"
     ]
    },
    {
     "name": "stdout",
     "output_type": "stream",
     "text": [
      "failed\n",
      "Fail sanity check - roughly parallel (minimum distance) 286.71000691989383\n"
     ]
    },
    {
     "name": "stderr",
     "output_type": "stream",
     "text": [
      "t:  83%|████████▎ | 1045/1260 [04:31<01:00,  3.55it/s, now=None]"
     ]
    },
    {
     "name": "stdout",
     "output_type": "stream",
     "text": [
      "failed\n",
      "Fail sanity check - roughly parallel (minimum distance) 279.9553616229676\n"
     ]
    },
    {
     "name": "stderr",
     "output_type": "stream",
     "text": [
      "t:  83%|████████▎ | 1046/1260 [04:31<00:58,  3.63it/s, now=None]"
     ]
    },
    {
     "name": "stdout",
     "output_type": "stream",
     "text": [
      "failed\n"
     ]
    },
    {
     "name": "stderr",
     "output_type": "stream",
     "text": [
      "t:  89%|████████▉ | 1119/1260 [04:50<00:36,  3.85it/s, now=None]"
     ]
    },
    {
     "name": "stdout",
     "output_type": "stream",
     "text": [
      "Fail sanity check - curvature left curvature: 468.0 right curvature: 3146.0\n"
     ]
    },
    {
     "name": "stderr",
     "output_type": "stream",
     "text": [
      "t:  89%|████████▉ | 1120/1260 [04:51<00:36,  3.84it/s, now=None]"
     ]
    },
    {
     "name": "stdout",
     "output_type": "stream",
     "text": [
      "Fail sanity check - curvature left curvature: 498.0 right curvature: 3807.0\n"
     ]
    },
    {
     "name": "stderr",
     "output_type": "stream",
     "text": [
      "t:  89%|████████▉ | 1121/1260 [04:51<00:36,  3.84it/s, now=None]"
     ]
    },
    {
     "name": "stdout",
     "output_type": "stream",
     "text": [
      "Fail sanity check - curvature left curvature: 466.0 right curvature: 3712.0\n"
     ]
    },
    {
     "name": "stderr",
     "output_type": "stream",
     "text": [
      "t:  89%|████████▉ | 1122/1260 [04:51<00:36,  3.78it/s, now=None]"
     ]
    },
    {
     "name": "stdout",
     "output_type": "stream",
     "text": [
      "Fail sanity check - curvature left curvature: 467.0 right curvature: 3557.0\n"
     ]
    },
    {
     "name": "stderr",
     "output_type": "stream",
     "text": [
      "t:  89%|████████▉ | 1123/1260 [04:51<00:36,  3.78it/s, now=None]"
     ]
    },
    {
     "name": "stdout",
     "output_type": "stream",
     "text": [
      "Fail sanity check - curvature left curvature: 387.0 right curvature: 3192.0\n"
     ]
    },
    {
     "name": "stderr",
     "output_type": "stream",
     "text": [
      "t:  89%|████████▉ | 1124/1260 [04:52<00:35,  3.80it/s, now=None]"
     ]
    },
    {
     "name": "stdout",
     "output_type": "stream",
     "text": [
      "Fail sanity check - curvature left curvature: 416.0 right curvature: 2954.0\n"
     ]
    },
    {
     "name": "stderr",
     "output_type": "stream",
     "text": [
      "t:  91%|█████████ | 1143/1260 [04:57<00:30,  3.83it/s, now=None]"
     ]
    },
    {
     "name": "stdout",
     "output_type": "stream",
     "text": [
      "Fail sanity check - curvature left curvature: 575.0 right curvature: 2917.0\n"
     ]
    },
    {
     "name": "stderr",
     "output_type": "stream",
     "text": [
      "t:  91%|█████████ | 1145/1260 [04:57<00:30,  3.82it/s, now=None]"
     ]
    },
    {
     "name": "stdout",
     "output_type": "stream",
     "text": [
      "Fail sanity check - curvature left curvature: 488.0 right curvature: 2445.0\n"
     ]
    },
    {
     "name": "stderr",
     "output_type": "stream",
     "text": [
      "t:  99%|█████████▉| 1247/1260 [05:24<00:03,  3.84it/s, now=None]"
     ]
    },
    {
     "name": "stdout",
     "output_type": "stream",
     "text": [
      "Fail sanity check - curvature left curvature: 817.0 right curvature: 4320.0\n"
     ]
    },
    {
     "name": "stderr",
     "output_type": "stream",
     "text": [
      "                                                                \r"
     ]
    },
    {
     "name": "stdout",
     "output_type": "stream",
     "text": [
      "Moviepy - Done !\n",
      "Moviepy - video ready project_video_out.mp4\n",
      "CPU times: user 12min 44s, sys: 2min 9s, total: 14min 54s\n",
      "Wall time: 5min 30s\n"
     ]
    }
   ],
   "source": [
    "if True:\n",
    "#if False:\n",
    "    white_output = 'project_video_out.mp4'\n",
    "    clip1 = VideoFileClip(\"project_video.mp4\")\n",
    "    white_clip = clip1.fl_image(Frame(mtx, dist, M, M_inv, img_size, 2))#.subclip(0,5)\n",
    "    %time white_clip.write_videofile(white_output, audio=False)\n"
   ]
  },
  {
   "cell_type": "code",
   "execution_count": 16,
   "metadata": {},
   "outputs": [
    {
     "data": {
      "text/html": [
       "\n",
       "<video width=\"960\" height=\"540\" controls>\n",
       "  <source src=\"project_video_out.mp4\">\n",
       "</video>\n"
      ],
      "text/plain": [
       "<IPython.core.display.HTML object>"
      ]
     },
     "execution_count": 16,
     "metadata": {},
     "output_type": "execute_result"
    }
   ],
   "source": [
    "HTML(\"\"\"\n",
    "<video width=\"960\" height=\"540\" controls>\n",
    "  <source src=\"{0}\">\n",
    "</video>\n",
    "\"\"\".format(white_output))"
   ]
  },
  {
   "cell_type": "markdown",
   "metadata": {},
   "source": [
    "## 4 - Test the pipeline on Challenge Videos"
   ]
  },
  {
   "cell_type": "code",
   "execution_count": 10,
   "metadata": {},
   "outputs": [
    {
     "name": "stdout",
     "output_type": "stream",
     "text": [
      "Radius curvature =  474.0 m\n",
      "Left Radius curvature =  628.0 m Right Radius curvature =  320.0 m\n",
      "Relative vehicle position with respect to the line lane center =  0.02 m\n",
      "\n",
      "\n"
     ]
    }
   ],
   "source": [
    "# Get the transform matrix using 4 source and destination points calculated looking to the straight line image\n",
    "src = np.float32([[250, 720],[1050, 720],[605, 480],[715, 480]])\n",
    "dst = np.float32([[350, 720],[950, 720],[350,0],[950,0]])\n",
    "\n",
    "# Get the transform matrix M using the src and dst points\n",
    "M_1 = cv2.getPerspectiveTransform(src, dst)\n",
    "\n",
    "# Get the invert transform matrix M_inv using the src and dst points\n",
    "M_inv_1 = cv2.getPerspectiveTransform(dst, src)\n",
    "\n",
    "fname = \"challenge_video.jpg\"\n",
    "\n",
    "# Read the image\n",
    "clip1 = VideoFileClip(\"challenge_video.mp4\")\n",
    "img = clip1.get_frame(52 / clip1.fps) # get frame by index\n",
    "img_size = img.shape\n",
    "\n",
    "process_image(img, fname, mtx, dist, M_1, M_inv_1)\n",
    "\n",
    "print('\\n')"
   ]
  },
  {
   "cell_type": "code",
   "execution_count": 17,
   "metadata": {},
   "outputs": [
    {
     "name": "stderr",
     "output_type": "stream",
     "text": [
      "t:   0%|          | 0/485 [00:00<?, ?it/s, now=None]"
     ]
    },
    {
     "name": "stdout",
     "output_type": "stream",
     "text": [
      "Moviepy - Building video challenge_video_out.mp4.\n",
      "Moviepy - Writing video challenge_video_out.mp4\n",
      "\n"
     ]
    },
    {
     "name": "stderr",
     "output_type": "stream",
     "text": [
      "t:   2%|▏         | 12/485 [00:02<01:57,  4.01it/s, now=None]"
     ]
    },
    {
     "name": "stdout",
     "output_type": "stream",
     "text": [
      "Fail sanity check - curvature left curvature: 1401.0 right curvature: 279.0\n"
     ]
    },
    {
     "name": "stderr",
     "output_type": "stream",
     "text": [
      "t:   3%|▎         | 13/485 [00:03<01:58,  3.97it/s, now=None]"
     ]
    },
    {
     "name": "stdout",
     "output_type": "stream",
     "text": [
      "failed\n",
      "Fail sanity check - curvature left curvature: 1698.0 right curvature: 279.0\n"
     ]
    },
    {
     "name": "stderr",
     "output_type": "stream",
     "text": [
      "t:   3%|▎         | 14/485 [00:03<01:58,  3.97it/s, now=None]"
     ]
    },
    {
     "name": "stdout",
     "output_type": "stream",
     "text": [
      "Error poly fit [ 18.59883279 -30.85398902  -0.43645522]\n"
     ]
    },
    {
     "name": "stderr",
     "output_type": "stream",
     "text": [
      "t:   3%|▎         | 16/485 [00:03<01:58,  3.95it/s, now=None]"
     ]
    },
    {
     "name": "stdout",
     "output_type": "stream",
     "text": [
      "Fail sanity check - curvature left curvature: 802.0 right curvature: 4701.0\n"
     ]
    },
    {
     "name": "stderr",
     "output_type": "stream",
     "text": [
      "t:   4%|▍         | 19/485 [00:04<01:58,  3.94it/s, now=None]"
     ]
    },
    {
     "name": "stdout",
     "output_type": "stream",
     "text": [
      "Error poly fit [-43.56924164  -1.66090345  -0.04682268]\n"
     ]
    },
    {
     "name": "stderr",
     "output_type": "stream",
     "text": [
      "t:   5%|▍         | 22/485 [00:05<01:55,  4.00it/s, now=None]"
     ]
    },
    {
     "name": "stdout",
     "output_type": "stream",
     "text": [
      "Error poly fit [2.29266549e+01 4.92255263e+00 1.37896183e-02]\n"
     ]
    },
    {
     "name": "stderr",
     "output_type": "stream",
     "text": [
      "t:   5%|▍         | 23/485 [00:05<01:55,  4.00it/s, now=None]"
     ]
    },
    {
     "name": "stdout",
     "output_type": "stream",
     "text": [
      "Fail sanity check - curvature left curvature: 322.0 right curvature: 3445.0\n"
     ]
    },
    {
     "name": "stderr",
     "output_type": "stream",
     "text": [
      "t:   5%|▍         | 24/485 [00:05<01:54,  4.01it/s, now=None]"
     ]
    },
    {
     "name": "stdout",
     "output_type": "stream",
     "text": [
      "Fail sanity check - curvature left curvature: 228.0 right curvature: 3155.0\n"
     ]
    },
    {
     "name": "stderr",
     "output_type": "stream",
     "text": [
      "t:   5%|▌         | 25/485 [00:06<01:55,  3.98it/s, now=None]"
     ]
    },
    {
     "name": "stdout",
     "output_type": "stream",
     "text": [
      "Error poly fit [  7.66121334 -15.04247549   0.03601969]\n"
     ]
    },
    {
     "name": "stderr",
     "output_type": "stream",
     "text": [
      "t:   6%|▌         | 28/485 [00:06<01:53,  4.04it/s, now=None]"
     ]
    },
    {
     "name": "stdout",
     "output_type": "stream",
     "text": [
      "Fail sanity check - roughly parallel (maximum distance) 904.8452928153067\n"
     ]
    },
    {
     "name": "stderr",
     "output_type": "stream",
     "text": [
      "t:   7%|▋         | 33/485 [00:08<01:51,  4.05it/s, now=None]"
     ]
    },
    {
     "name": "stdout",
     "output_type": "stream",
     "text": [
      "Fail sanity check - roughly parallel (mean distance) 724.2783471400336\n"
     ]
    },
    {
     "name": "stderr",
     "output_type": "stream",
     "text": [
      "t:   8%|▊         | 37/485 [00:09<01:50,  4.06it/s, now=None]"
     ]
    },
    {
     "name": "stdout",
     "output_type": "stream",
     "text": [
      "Fail sanity check - curvature left curvature: 222.0 right curvature: 4803.0\n"
     ]
    },
    {
     "name": "stderr",
     "output_type": "stream",
     "text": [
      "t:   8%|▊         | 38/485 [00:09<01:50,  4.06it/s, now=None]"
     ]
    },
    {
     "name": "stdout",
     "output_type": "stream",
     "text": [
      "Fail sanity check - curvature left curvature: 487.0 right curvature: 3304.0\n"
     ]
    },
    {
     "name": "stderr",
     "output_type": "stream",
     "text": [
      "t:   9%|▉         | 43/485 [00:10<01:48,  4.06it/s, now=None]"
     ]
    },
    {
     "name": "stdout",
     "output_type": "stream",
     "text": [
      "Fail sanity check - curvature left curvature: 124.0 right curvature: 640.0\n"
     ]
    },
    {
     "name": "stderr",
     "output_type": "stream",
     "text": [
      "t:  12%|█▏        | 59/485 [00:14<01:35,  4.45it/s, now=None]"
     ]
    },
    {
     "name": "stdout",
     "output_type": "stream",
     "text": [
      "Fail sanity check - curvature left curvature: 244.0 right curvature: 1961.0\n",
      "failed\n",
      "Fail sanity check - curvature left curvature: 272.0 right curvature: 1961.0\n"
     ]
    },
    {
     "name": "stderr",
     "output_type": "stream",
     "text": [
      "t:  14%|█▎        | 66/485 [00:16<01:44,  4.00it/s, now=None]"
     ]
    },
    {
     "name": "stdout",
     "output_type": "stream",
     "text": [
      "Error poly fit [-36.42309148  -1.15587631  -0.04340003]\n"
     ]
    },
    {
     "name": "stderr",
     "output_type": "stream",
     "text": [
      "t:  15%|█▌        | 73/485 [00:17<01:43,  3.99it/s, now=None]"
     ]
    },
    {
     "name": "stdout",
     "output_type": "stream",
     "text": [
      "Fail sanity check - roughly parallel (maximum distance) 934.4973800817999\n"
     ]
    },
    {
     "name": "stderr",
     "output_type": "stream",
     "text": [
      "t:  15%|█▌        | 74/485 [00:18<01:42,  4.03it/s, now=None]"
     ]
    },
    {
     "name": "stdout",
     "output_type": "stream",
     "text": [
      "failed\n",
      "failed\n"
     ]
    },
    {
     "name": "stderr",
     "output_type": "stream",
     "text": [
      "t:  16%|█▌        | 76/485 [00:18<01:32,  4.43it/s, now=None]"
     ]
    },
    {
     "name": "stdout",
     "output_type": "stream",
     "text": [
      "failed\n"
     ]
    },
    {
     "name": "stderr",
     "output_type": "stream",
     "text": [
      "t:  16%|█▌        | 77/485 [00:18<01:32,  4.43it/s, now=None]"
     ]
    },
    {
     "name": "stdout",
     "output_type": "stream",
     "text": [
      "failed\n",
      "Fail sanity check - curvature left curvature: 284.0 right curvature: 1710.0\n"
     ]
    },
    {
     "name": "stderr",
     "output_type": "stream",
     "text": [
      "t:  16%|█▌        | 78/485 [00:19<01:33,  4.33it/s, now=None]"
     ]
    },
    {
     "name": "stdout",
     "output_type": "stream",
     "text": [
      "failed\n",
      "Fail sanity check - curvature left curvature: 284.0 right curvature: 1947.0\n",
      "failed\n"
     ]
    },
    {
     "name": "stderr",
     "output_type": "stream",
     "text": [
      "t:  16%|█▋        | 80/485 [00:19<01:29,  4.53it/s, now=None]"
     ]
    },
    {
     "name": "stdout",
     "output_type": "stream",
     "text": [
      "failed\n"
     ]
    },
    {
     "name": "stderr",
     "output_type": "stream",
     "text": [
      "t:  17%|█▋        | 81/485 [00:19<01:33,  4.32it/s, now=None]"
     ]
    },
    {
     "name": "stdout",
     "output_type": "stream",
     "text": [
      "failed\n",
      "Fail sanity check - curvature left curvature: 284.0 right curvature: 1736.0\n"
     ]
    },
    {
     "name": "stderr",
     "output_type": "stream",
     "text": [
      "t:  17%|█▋        | 82/485 [00:19<01:35,  4.20it/s, now=None]"
     ]
    },
    {
     "name": "stdout",
     "output_type": "stream",
     "text": [
      "failed\n"
     ]
    },
    {
     "name": "stderr",
     "output_type": "stream",
     "text": [
      "t:  17%|█▋        | 83/485 [00:20<01:37,  4.12it/s, now=None]"
     ]
    },
    {
     "name": "stdout",
     "output_type": "stream",
     "text": [
      "Error poly fit [-14.81345772 -14.34221604  -0.10409956]\n",
      "failed\n",
      "Fail sanity check - curvature left curvature: 284.0 right curvature: 5663.0\n"
     ]
    },
    {
     "name": "stderr",
     "output_type": "stream",
     "text": [
      "t:  17%|█▋        | 84/485 [00:20<01:38,  4.08it/s, now=None]"
     ]
    },
    {
     "name": "stdout",
     "output_type": "stream",
     "text": [
      "failed\n"
     ]
    },
    {
     "name": "stderr",
     "output_type": "stream",
     "text": [
      "t:  18%|█▊        | 85/485 [00:20<01:39,  4.03it/s, now=None]"
     ]
    },
    {
     "name": "stdout",
     "output_type": "stream",
     "text": [
      "failed\n"
     ]
    },
    {
     "name": "stderr",
     "output_type": "stream",
     "text": [
      "t:  18%|█▊        | 86/485 [00:20<01:40,  3.98it/s, now=None]"
     ]
    },
    {
     "name": "stdout",
     "output_type": "stream",
     "text": [
      "failed\n",
      "Fail sanity check - curvature left curvature: 284.0 right curvature: 1525.0\n"
     ]
    },
    {
     "name": "stderr",
     "output_type": "stream",
     "text": [
      "t:  18%|█▊        | 87/485 [00:21<01:40,  3.97it/s, now=None]"
     ]
    },
    {
     "name": "stdout",
     "output_type": "stream",
     "text": [
      "Error poly fit [ -2.77237073 -16.96447677  -0.01791438]\n",
      "failed\n"
     ]
    },
    {
     "name": "stderr",
     "output_type": "stream",
     "text": [
      "t:  18%|█▊        | 88/485 [00:21<01:40,  3.96it/s, now=None]"
     ]
    },
    {
     "name": "stdout",
     "output_type": "stream",
     "text": [
      "failed\n"
     ]
    },
    {
     "name": "stderr",
     "output_type": "stream",
     "text": [
      "t:  18%|█▊        | 89/485 [00:21<01:40,  3.95it/s, now=None]"
     ]
    },
    {
     "name": "stdout",
     "output_type": "stream",
     "text": [
      "failed\n"
     ]
    },
    {
     "name": "stderr",
     "output_type": "stream",
     "text": [
      "t:  19%|█▊        | 90/485 [00:22<01:39,  3.96it/s, now=None]"
     ]
    },
    {
     "name": "stdout",
     "output_type": "stream",
     "text": [
      "failed\n",
      "Fail sanity check - curvature left curvature: 284.0 right curvature: 1436.0\n"
     ]
    },
    {
     "name": "stderr",
     "output_type": "stream",
     "text": [
      "t:  19%|█▉        | 91/485 [00:22<01:39,  3.96it/s, now=None]"
     ]
    },
    {
     "name": "stdout",
     "output_type": "stream",
     "text": [
      "failed\n",
      "Fail sanity check - curvature left curvature: 284.0 right curvature: 1998.0\n"
     ]
    },
    {
     "name": "stderr",
     "output_type": "stream",
     "text": [
      "t:  19%|█▉        | 92/485 [00:22<01:39,  3.96it/s, now=None]"
     ]
    },
    {
     "name": "stdout",
     "output_type": "stream",
     "text": [
      "failed\n"
     ]
    },
    {
     "name": "stderr",
     "output_type": "stream",
     "text": [
      "t:  19%|█▉        | 93/485 [00:22<01:39,  3.92it/s, now=None]"
     ]
    },
    {
     "name": "stdout",
     "output_type": "stream",
     "text": [
      "failed\n"
     ]
    },
    {
     "name": "stderr",
     "output_type": "stream",
     "text": [
      "t:  19%|█▉        | 94/485 [00:23<01:38,  3.97it/s, now=None]"
     ]
    },
    {
     "name": "stdout",
     "output_type": "stream",
     "text": [
      "failed\n"
     ]
    },
    {
     "name": "stderr",
     "output_type": "stream",
     "text": [
      "t:  20%|█▉        | 95/485 [00:23<01:32,  4.20it/s, now=None]"
     ]
    },
    {
     "name": "stdout",
     "output_type": "stream",
     "text": [
      "failed\n"
     ]
    },
    {
     "name": "stderr",
     "output_type": "stream",
     "text": [
      "t:  20%|█▉        | 96/485 [00:23<01:29,  4.33it/s, now=None]"
     ]
    },
    {
     "name": "stdout",
     "output_type": "stream",
     "text": [
      "failed\n"
     ]
    },
    {
     "name": "stderr",
     "output_type": "stream",
     "text": [
      "t:  20%|██        | 97/485 [00:23<01:32,  4.17it/s, now=None]"
     ]
    },
    {
     "name": "stdout",
     "output_type": "stream",
     "text": [
      "failed\n"
     ]
    },
    {
     "name": "stderr",
     "output_type": "stream",
     "text": [
      "t:  20%|██        | 98/485 [00:23<01:34,  4.11it/s, now=None]"
     ]
    },
    {
     "name": "stdout",
     "output_type": "stream",
     "text": [
      "Error poly fit [-23.32542129  27.41815597   0.09532059]\n",
      "failed\n"
     ]
    },
    {
     "name": "stderr",
     "output_type": "stream",
     "text": [
      "t:  20%|██        | 99/485 [00:24<01:34,  4.09it/s, now=None]"
     ]
    },
    {
     "name": "stdout",
     "output_type": "stream",
     "text": [
      "failed\n"
     ]
    },
    {
     "name": "stderr",
     "output_type": "stream",
     "text": [
      "t:  21%|██        | 100/485 [00:24<01:34,  4.05it/s, now=None]"
     ]
    },
    {
     "name": "stdout",
     "output_type": "stream",
     "text": [
      "failed\n"
     ]
    },
    {
     "name": "stderr",
     "output_type": "stream",
     "text": [
      "t:  21%|██        | 101/485 [00:24<01:35,  4.01it/s, now=None]"
     ]
    },
    {
     "name": "stdout",
     "output_type": "stream",
     "text": [
      "failed\n"
     ]
    },
    {
     "name": "stderr",
     "output_type": "stream",
     "text": [
      "t:  21%|██▏       | 104/485 [00:25<01:35,  3.98it/s, now=None]"
     ]
    },
    {
     "name": "stdout",
     "output_type": "stream",
     "text": [
      "Fail sanity check - roughly parallel (mean distance) 722.3908442354992\n"
     ]
    },
    {
     "name": "stderr",
     "output_type": "stream",
     "text": [
      "t:  22%|██▏       | 105/485 [00:25<01:38,  3.88it/s, now=None]"
     ]
    },
    {
     "name": "stdout",
     "output_type": "stream",
     "text": [
      "failed\n"
     ]
    },
    {
     "name": "stderr",
     "output_type": "stream",
     "text": [
      "t:  22%|██▏       | 106/485 [00:25<01:37,  3.87it/s, now=None]"
     ]
    },
    {
     "name": "stdout",
     "output_type": "stream",
     "text": [
      "failed\n",
      "Fail sanity check - curvature left curvature: 201.0 right curvature: 1153.0\n"
     ]
    },
    {
     "name": "stderr",
     "output_type": "stream",
     "text": [
      "t:  22%|██▏       | 107/485 [00:26<01:37,  3.89it/s, now=None]"
     ]
    },
    {
     "name": "stdout",
     "output_type": "stream",
     "text": [
      "failed\n",
      "Fail sanity check - curvature left curvature: 201.0 right curvature: 1377.0\n"
     ]
    },
    {
     "name": "stderr",
     "output_type": "stream",
     "text": [
      "t:  22%|██▏       | 108/485 [00:26<01:37,  3.86it/s, now=None]"
     ]
    },
    {
     "name": "stdout",
     "output_type": "stream",
     "text": [
      "failed\n",
      "Fail sanity check - curvature left curvature: 201.0 right curvature: 1222.0\n"
     ]
    },
    {
     "name": "stderr",
     "output_type": "stream",
     "text": [
      "t:  22%|██▏       | 109/485 [00:26<01:37,  3.84it/s, now=None]"
     ]
    },
    {
     "name": "stdout",
     "output_type": "stream",
     "text": [
      "failed\n",
      "Fail sanity check - curvature left curvature: 201.0 right curvature: 1604.0\n"
     ]
    },
    {
     "name": "stderr",
     "output_type": "stream",
     "text": [
      "t:  23%|██▎       | 110/485 [00:27<01:38,  3.80it/s, now=None]"
     ]
    },
    {
     "name": "stdout",
     "output_type": "stream",
     "text": [
      "failed\n",
      "Fail sanity check - curvature left curvature: 201.0 right curvature: 5177.0\n"
     ]
    },
    {
     "name": "stderr",
     "output_type": "stream",
     "text": [
      "t:  23%|██▎       | 111/485 [00:27<01:39,  3.78it/s, now=None]"
     ]
    },
    {
     "name": "stdout",
     "output_type": "stream",
     "text": [
      "failed\n",
      "Fail sanity check - curvature left curvature: 201.0 right curvature: 4940.0\n"
     ]
    },
    {
     "name": "stderr",
     "output_type": "stream",
     "text": [
      "t:  23%|██▎       | 112/485 [00:27<01:37,  3.81it/s, now=None]"
     ]
    },
    {
     "name": "stdout",
     "output_type": "stream",
     "text": [
      "failed\n"
     ]
    },
    {
     "name": "stderr",
     "output_type": "stream",
     "text": [
      "t:  23%|██▎       | 113/485 [00:27<01:36,  3.84it/s, now=None]"
     ]
    },
    {
     "name": "stdout",
     "output_type": "stream",
     "text": [
      "failed\n",
      "Fail sanity check - curvature left curvature: 201.0 right curvature: 2782.0\n"
     ]
    },
    {
     "name": "stderr",
     "output_type": "stream",
     "text": [
      "t:  24%|██▍       | 117/485 [00:28<01:33,  3.93it/s, now=None]"
     ]
    },
    {
     "name": "stdout",
     "output_type": "stream",
     "text": [
      "Fail sanity check - curvature left curvature: 400.0 right curvature: 4187.0\n"
     ]
    },
    {
     "name": "stderr",
     "output_type": "stream",
     "text": [
      "t:  25%|██▍       | 120/485 [00:29<01:32,  3.95it/s, now=None]"
     ]
    },
    {
     "name": "stdout",
     "output_type": "stream",
     "text": [
      "Fail sanity check - roughly parallel (maximum distance) 931.0971056358676\n"
     ]
    },
    {
     "name": "stderr",
     "output_type": "stream",
     "text": [
      "t:  25%|██▍       | 121/485 [00:29<01:30,  4.02it/s, now=None]"
     ]
    },
    {
     "name": "stdout",
     "output_type": "stream",
     "text": [
      "failed\n",
      "failed\n",
      "Fail sanity check - roughly parallel (maximum distance) 931.0971056358676\n",
      "failed\n"
     ]
    },
    {
     "name": "stderr",
     "output_type": "stream",
     "text": [
      "t:  25%|██▌       | 122/485 [00:30<01:24,  4.27it/s, now=None]"
     ]
    },
    {
     "name": "stdout",
     "output_type": "stream",
     "text": [
      "failed\n",
      "Fail sanity check - roughly parallel (maximum distance) 931.0971056358676\n"
     ]
    },
    {
     "name": "stderr",
     "output_type": "stream",
     "text": [
      "t:  25%|██▌       | 123/485 [00:30<01:23,  4.34it/s, now=None]"
     ]
    },
    {
     "name": "stdout",
     "output_type": "stream",
     "text": [
      "failed\n",
      "failed\n",
      "Fail sanity check - roughly parallel (maximum distance) 931.0971056358676\n",
      "failed"
     ]
    },
    {
     "name": "stderr",
     "output_type": "stream",
     "text": [
      "t:  26%|██▌       | 124/485 [00:30<01:20,  4.51it/s, now=None]"
     ]
    },
    {
     "name": "stdout",
     "output_type": "stream",
     "text": [
      "\n",
      "failed\n",
      "Fail sanity check - roughly parallel (maximum distance) 931.0971056358676\n",
      "failed\n"
     ]
    },
    {
     "name": "stderr",
     "output_type": "stream",
     "text": [
      "t:  26%|██▌       | 125/485 [00:30<01:17,  4.65it/s, now=None]"
     ]
    },
    {
     "name": "stdout",
     "output_type": "stream",
     "text": [
      "failed\n",
      "Fail sanity check - roughly parallel (maximum distance) 931.0971056358676\n",
      "failed\n",
      "failed\n",
      "Fail sanity check - roughly parallel (maximum distance) 931.0971056358676\n"
     ]
    },
    {
     "name": "stderr",
     "output_type": "stream",
     "text": [
      "t:  26%|██▌       | 127/485 [00:31<01:15,  4.72it/s, now=None]"
     ]
    },
    {
     "name": "stdout",
     "output_type": "stream",
     "text": [
      "failed\n",
      "failed\n",
      "Fail sanity check - roughly parallel (maximum distance) 931.0971056358676\n",
      "failed\n"
     ]
    },
    {
     "name": "stderr",
     "output_type": "stream",
     "text": [
      "t:  26%|██▋       | 128/485 [00:31<01:14,  4.80it/s, now=None]"
     ]
    },
    {
     "name": "stdout",
     "output_type": "stream",
     "text": [
      "failed\n",
      "Fail sanity check - roughly parallel (maximum distance) 931.0971056358676\n",
      "failed\n"
     ]
    },
    {
     "name": "stderr",
     "output_type": "stream",
     "text": [
      "t:  27%|██▋       | 129/485 [00:31<01:14,  4.80it/s, now=None]"
     ]
    },
    {
     "name": "stdout",
     "output_type": "stream",
     "text": [
      "failed\n",
      "Fail sanity check - roughly parallel (maximum distance) 931.0971056358676\n",
      "failed\n",
      "failed\n",
      "Fail sanity check - roughly parallel (maximum distance) 931.0971056358676\n"
     ]
    },
    {
     "name": "stderr",
     "output_type": "stream",
     "text": [
      "t:  27%|██▋       | 131/485 [00:31<01:12,  4.86it/s, now=None]"
     ]
    },
    {
     "name": "stdout",
     "output_type": "stream",
     "text": [
      "failed\n",
      "failed\n",
      "Fail sanity check - roughly parallel (maximum distance) 931.0971056358676\n",
      "failed\n",
      "failed\n",
      "Fail sanity check - roughly parallel (maximum distance) 931.0971056358676\n"
     ]
    },
    {
     "name": "stderr",
     "output_type": "stream",
     "text": [
      "t:  27%|██▋       | 133/485 [00:32<01:10,  5.00it/s, now=None]"
     ]
    },
    {
     "name": "stdout",
     "output_type": "stream",
     "text": [
      "failed\n",
      "failed\n",
      "Fail sanity check - roughly parallel (maximum distance) 931.0971056358676\n",
      "failed\n",
      "failed\n",
      "Fail sanity check - roughly parallel (maximum distance) 931.0971056358676\n"
     ]
    },
    {
     "name": "stderr",
     "output_type": "stream",
     "text": [
      "t:  28%|██▊       | 135/485 [00:32<01:10,  4.94it/s, now=None]"
     ]
    },
    {
     "name": "stdout",
     "output_type": "stream",
     "text": [
      "failed\n",
      "failed\n",
      "Fail sanity check - roughly parallel (maximum distance) 931.0971056358676\n",
      "failed\n",
      "failed\n"
     ]
    },
    {
     "name": "stderr",
     "output_type": "stream",
     "text": [
      "t:  28%|██▊       | 136/485 [00:32<01:10,  4.96it/s, now=None]"
     ]
    },
    {
     "name": "stdout",
     "output_type": "stream",
     "text": [
      "Fail sanity check - roughly parallel (maximum distance) 931.0971056358676\n",
      "failed\n",
      "failed\n",
      "Fail sanity check - roughly parallel (maximum distance) 931.0971056358676\n"
     ]
    },
    {
     "name": "stderr",
     "output_type": "stream",
     "text": [
      "t:  28%|██▊       | 138/485 [00:33<01:09,  5.01it/s, now=None]"
     ]
    },
    {
     "name": "stdout",
     "output_type": "stream",
     "text": [
      "failed\n",
      "failed\n",
      "Fail sanity check - roughly parallel (maximum distance) 931.0971056358676\n"
     ]
    },
    {
     "name": "stderr",
     "output_type": "stream",
     "text": [
      "t:  29%|██▊       | 139/485 [00:33<01:10,  4.88it/s, now=None]"
     ]
    },
    {
     "name": "stdout",
     "output_type": "stream",
     "text": [
      "failed\n",
      "failed\n",
      "Fail sanity check - roughly parallel (maximum distance) 931.0971056358676\n",
      "failed\n"
     ]
    },
    {
     "name": "stderr",
     "output_type": "stream",
     "text": [
      "t:  29%|██▉       | 140/485 [00:33<01:10,  4.91it/s, now=None]"
     ]
    },
    {
     "name": "stdout",
     "output_type": "stream",
     "text": [
      "failed\n",
      "Fail sanity check - roughly parallel (maximum distance) 931.0971056358676\n",
      "failed\n",
      "failed\n",
      "Fail sanity check - roughly parallel (maximum distance) 931.0971056358676\n"
     ]
    },
    {
     "name": "stderr",
     "output_type": "stream",
     "text": [
      "t:  29%|██▉       | 142/485 [00:34<01:08,  5.04it/s, now=None]"
     ]
    },
    {
     "name": "stdout",
     "output_type": "stream",
     "text": [
      "failed\n",
      "failed\n",
      "Fail sanity check - roughly parallel (maximum distance) 931.0971056358676\n"
     ]
    },
    {
     "name": "stderr",
     "output_type": "stream",
     "text": [
      "t:  29%|██▉       | 143/485 [00:34<01:09,  4.89it/s, now=None]"
     ]
    },
    {
     "name": "stdout",
     "output_type": "stream",
     "text": [
      "failed\n",
      "failed\n",
      "Fail sanity check - roughly parallel (maximum distance) 931.0971056358676\n",
      "failed\n"
     ]
    },
    {
     "name": "stderr",
     "output_type": "stream",
     "text": [
      "t:  30%|██▉       | 144/485 [00:34<01:09,  4.91it/s, now=None]"
     ]
    },
    {
     "name": "stdout",
     "output_type": "stream",
     "text": [
      "failed\n",
      "Fail sanity check - roughly parallel (maximum distance) 931.0971056358676\n",
      "failed\n",
      "failed\n",
      "Fail sanity check - roughly parallel (maximum distance) 931.0971056358676\n"
     ]
    },
    {
     "name": "stderr",
     "output_type": "stream",
     "text": [
      "t:  30%|███       | 146/485 [00:34<01:08,  4.98it/s, now=None]"
     ]
    },
    {
     "name": "stdout",
     "output_type": "stream",
     "text": [
      "failed\n",
      "failed\n",
      "Fail sanity check - roughly parallel (maximum distance) 931.0971056358676\n"
     ]
    },
    {
     "name": "stderr",
     "output_type": "stream",
     "text": [
      "t:  30%|███       | 147/485 [00:35<01:09,  4.86it/s, now=None]"
     ]
    },
    {
     "name": "stdout",
     "output_type": "stream",
     "text": [
      "failed\n",
      "failed\n",
      "Fail sanity check - roughly parallel (maximum distance) 931.0971056358676\n"
     ]
    },
    {
     "name": "stderr",
     "output_type": "stream",
     "text": [
      "t:  31%|███       | 148/485 [00:35<01:09,  4.85it/s, now=None]"
     ]
    },
    {
     "name": "stdout",
     "output_type": "stream",
     "text": [
      "failed\n",
      "failed\n",
      "Fail sanity check - roughly parallel (maximum distance) 931.0971056358676\n"
     ]
    },
    {
     "name": "stderr",
     "output_type": "stream",
     "text": [
      "t:  31%|███       | 149/485 [00:35<01:10,  4.74it/s, now=None]"
     ]
    },
    {
     "name": "stdout",
     "output_type": "stream",
     "text": [
      "failed\n"
     ]
    },
    {
     "name": "stderr",
     "output_type": "stream",
     "text": [
      "t:  31%|███       | 150/485 [00:35<01:10,  4.74it/s, now=None]"
     ]
    },
    {
     "name": "stdout",
     "output_type": "stream",
     "text": [
      "failed\n"
     ]
    },
    {
     "name": "stderr",
     "output_type": "stream",
     "text": [
      "t:  31%|███       | 151/485 [00:35<01:11,  4.65it/s, now=None]"
     ]
    },
    {
     "name": "stdout",
     "output_type": "stream",
     "text": [
      "failed\n"
     ]
    },
    {
     "name": "stderr",
     "output_type": "stream",
     "text": [
      "t:  31%|███▏      | 152/485 [00:36<01:11,  4.64it/s, now=None]"
     ]
    },
    {
     "name": "stdout",
     "output_type": "stream",
     "text": [
      "failed\n"
     ]
    },
    {
     "name": "stderr",
     "output_type": "stream",
     "text": [
      "t:  32%|███▏      | 153/485 [00:36<01:15,  4.42it/s, now=None]"
     ]
    },
    {
     "name": "stdout",
     "output_type": "stream",
     "text": [
      "Fail sanity check - curvature left curvature: 260.0 right curvature: 1426.0\n"
     ]
    },
    {
     "name": "stderr",
     "output_type": "stream",
     "text": [
      "t:  32%|███▏      | 157/485 [00:37<01:21,  4.02it/s, now=None]"
     ]
    },
    {
     "name": "stdout",
     "output_type": "stream",
     "text": [
      "Fail sanity check - curvature left curvature: 301.0 right curvature: 2578.0\n"
     ]
    },
    {
     "name": "stderr",
     "output_type": "stream",
     "text": [
      "t:  33%|███▎      | 158/485 [00:37<01:22,  3.97it/s, now=None]"
     ]
    },
    {
     "name": "stdout",
     "output_type": "stream",
     "text": [
      "Fail sanity check - curvature left curvature: 235.0 right curvature: 1489.0\n"
     ]
    },
    {
     "name": "stderr",
     "output_type": "stream",
     "text": [
      "t:  33%|███▎      | 162/485 [00:38<01:22,  3.90it/s, now=None]"
     ]
    },
    {
     "name": "stdout",
     "output_type": "stream",
     "text": [
      "Fail sanity check - roughly parallel (maximum distance) 920.5682860432637\n"
     ]
    },
    {
     "name": "stderr",
     "output_type": "stream",
     "text": [
      "t:  34%|███▎      | 163/485 [00:39<01:23,  3.84it/s, now=None]"
     ]
    },
    {
     "name": "stdout",
     "output_type": "stream",
     "text": [
      "failed\n",
      "Fail sanity check - roughly parallel (maximum distance) 911.712961665732\n"
     ]
    },
    {
     "name": "stderr",
     "output_type": "stream",
     "text": [
      "t:  34%|███▍      | 164/485 [00:39<01:23,  3.83it/s, now=None]"
     ]
    },
    {
     "name": "stdout",
     "output_type": "stream",
     "text": [
      "failed\n",
      "Fail sanity check - roughly parallel (maximum distance) 913.963964447888\n"
     ]
    },
    {
     "name": "stderr",
     "output_type": "stream",
     "text": [
      "t:  34%|███▍      | 165/485 [00:39<01:23,  3.83it/s, now=None]"
     ]
    },
    {
     "name": "stdout",
     "output_type": "stream",
     "text": [
      "failed\n",
      "Fail sanity check - roughly parallel (maximum distance) 924.2834945589175\n"
     ]
    },
    {
     "name": "stderr",
     "output_type": "stream",
     "text": [
      "t:  34%|███▍      | 166/485 [00:39<01:23,  3.83it/s, now=None]"
     ]
    },
    {
     "name": "stdout",
     "output_type": "stream",
     "text": [
      "failed\n",
      "Fail sanity check - roughly parallel (maximum distance) 924.4843287189371\n"
     ]
    },
    {
     "name": "stderr",
     "output_type": "stream",
     "text": [
      "t:  35%|███▌      | 170/485 [00:40<01:21,  3.88it/s, now=None]"
     ]
    },
    {
     "name": "stdout",
     "output_type": "stream",
     "text": [
      "Fail sanity check - curvature left curvature: 331.0 right curvature: 1834.0\n"
     ]
    },
    {
     "name": "stderr",
     "output_type": "stream",
     "text": [
      "t:  35%|███▌      | 172/485 [00:41<01:21,  3.86it/s, now=None]"
     ]
    },
    {
     "name": "stdout",
     "output_type": "stream",
     "text": [
      "Fail sanity check - curvature left curvature: 248.0 right curvature: 1434.0\n"
     ]
    },
    {
     "name": "stderr",
     "output_type": "stream",
     "text": [
      "t:  36%|███▋      | 176/485 [00:42<01:19,  3.86it/s, now=None]"
     ]
    },
    {
     "name": "stdout",
     "output_type": "stream",
     "text": [
      "Fail sanity check - curvature left curvature: 175.0 right curvature: 1207.0\n"
     ]
    },
    {
     "name": "stderr",
     "output_type": "stream",
     "text": [
      "t:  36%|███▋      | 177/485 [00:42<01:18,  3.92it/s, now=None]"
     ]
    },
    {
     "name": "stdout",
     "output_type": "stream",
     "text": [
      "failed\n",
      "failed\n",
      "Fail sanity check - curvature left curvature: 175.0 right curvature: 1207.0\n"
     ]
    },
    {
     "name": "stderr",
     "output_type": "stream",
     "text": [
      "t:  37%|███▋      | 178/485 [00:42<01:14,  4.10it/s, now=None]"
     ]
    },
    {
     "name": "stdout",
     "output_type": "stream",
     "text": [
      "failed\n"
     ]
    },
    {
     "name": "stderr",
     "output_type": "stream",
     "text": [
      "t:  37%|███▋      | 179/485 [00:43<01:16,  4.03it/s, now=None]"
     ]
    },
    {
     "name": "stdout",
     "output_type": "stream",
     "text": [
      "failed\n",
      "failed\n"
     ]
    },
    {
     "name": "stderr",
     "output_type": "stream",
     "text": [
      "t:  37%|███▋      | 180/485 [00:43<01:12,  4.20it/s, now=None]"
     ]
    },
    {
     "name": "stdout",
     "output_type": "stream",
     "text": [
      "failed\n",
      "failed\n"
     ]
    },
    {
     "name": "stderr",
     "output_type": "stream",
     "text": [
      "t:  37%|███▋      | 181/485 [00:43<01:09,  4.35it/s, now=None]"
     ]
    },
    {
     "name": "stdout",
     "output_type": "stream",
     "text": [
      "failed\n",
      "failed\n"
     ]
    },
    {
     "name": "stderr",
     "output_type": "stream",
     "text": [
      "t:  38%|███▊      | 182/485 [00:43<01:10,  4.31it/s, now=None]"
     ]
    },
    {
     "name": "stdout",
     "output_type": "stream",
     "text": [
      "failed\n",
      "Fail sanity check - curvature left curvature: 175.0 right curvature: 1461.0\n"
     ]
    },
    {
     "name": "stderr",
     "output_type": "stream",
     "text": [
      "t:  38%|███▊      | 183/485 [00:44<01:12,  4.17it/s, now=None]"
     ]
    },
    {
     "name": "stdout",
     "output_type": "stream",
     "text": [
      "Fail sanity check - curvature left curvature: 240.0 right curvature: 1252.0\n"
     ]
    },
    {
     "name": "stderr",
     "output_type": "stream",
     "text": [
      "t:  38%|███▊      | 184/485 [00:44<01:12,  4.13it/s, now=None]"
     ]
    },
    {
     "name": "stdout",
     "output_type": "stream",
     "text": [
      "failed\n"
     ]
    },
    {
     "name": "stderr",
     "output_type": "stream",
     "text": [
      "t:  38%|███▊      | 185/485 [00:44<01:09,  4.30it/s, now=None]"
     ]
    },
    {
     "name": "stdout",
     "output_type": "stream",
     "text": [
      "failed\n"
     ]
    },
    {
     "name": "stderr",
     "output_type": "stream",
     "text": [
      "t:  38%|███▊      | 186/485 [00:44<01:09,  4.29it/s, now=None]"
     ]
    },
    {
     "name": "stdout",
     "output_type": "stream",
     "text": [
      "failed\n",
      "Fail sanity check - curvature left curvature: 250.0 right curvature: 1252.0\n"
     ]
    },
    {
     "name": "stderr",
     "output_type": "stream",
     "text": [
      "t:  39%|███▊      | 187/485 [00:44<01:07,  4.40it/s, now=None]"
     ]
    },
    {
     "name": "stdout",
     "output_type": "stream",
     "text": [
      "failed\n"
     ]
    },
    {
     "name": "stderr",
     "output_type": "stream",
     "text": [
      "t:  39%|███▉      | 188/485 [00:45<01:05,  4.51it/s, now=None]"
     ]
    },
    {
     "name": "stdout",
     "output_type": "stream",
     "text": [
      "failed\n",
      "failed\n"
     ]
    },
    {
     "name": "stderr",
     "output_type": "stream",
     "text": [
      "t:  39%|███▉      | 189/485 [00:45<01:04,  4.59it/s, now=None]"
     ]
    },
    {
     "name": "stdout",
     "output_type": "stream",
     "text": [
      "failed\n",
      "failed\n"
     ]
    },
    {
     "name": "stderr",
     "output_type": "stream",
     "text": [
      "t:  39%|███▉      | 190/485 [00:45<01:07,  4.39it/s, now=None]"
     ]
    },
    {
     "name": "stdout",
     "output_type": "stream",
     "text": [
      "failed\n"
     ]
    },
    {
     "name": "stderr",
     "output_type": "stream",
     "text": [
      "t:  40%|████      | 194/485 [00:46<01:12,  4.02it/s, now=None]"
     ]
    },
    {
     "name": "stdout",
     "output_type": "stream",
     "text": [
      "Error poly fit [-2.28200901e+01 -1.01975775e+00  1.89727427e-02]\n"
     ]
    },
    {
     "name": "stderr",
     "output_type": "stream",
     "text": [
      "t:  45%|████▍     | 218/485 [00:52<01:07,  3.94it/s, now=None]"
     ]
    },
    {
     "name": "stdout",
     "output_type": "stream",
     "text": [
      "Fail sanity check - curvature left curvature: 1506.0 right curvature: 278.0\n"
     ]
    },
    {
     "name": "stderr",
     "output_type": "stream",
     "text": [
      "t:  45%|████▌     | 219/485 [00:52<01:06,  3.97it/s, now=None]"
     ]
    },
    {
     "name": "stdout",
     "output_type": "stream",
     "text": [
      "failed\n",
      "failed\n",
      "Fail sanity check - curvature left curvature: 1506.0 right curvature: 278.0\n"
     ]
    },
    {
     "name": "stderr",
     "output_type": "stream",
     "text": [
      "t:  51%|█████     | 248/485 [01:00<00:59,  3.95it/s, now=None]"
     ]
    },
    {
     "name": "stdout",
     "output_type": "stream",
     "text": [
      "Fail sanity check - curvature left curvature: 419.0 right curvature: 2872.0\n"
     ]
    },
    {
     "name": "stderr",
     "output_type": "stream",
     "text": [
      "t:  52%|█████▏    | 254/485 [01:01<00:58,  3.98it/s, now=None]"
     ]
    },
    {
     "name": "stdout",
     "output_type": "stream",
     "text": [
      "Fail sanity check - curvature left curvature: 688.0 right curvature: 4816.0\n"
     ]
    },
    {
     "name": "stderr",
     "output_type": "stream",
     "text": [
      "t:  55%|█████▌    | 268/485 [01:05<00:54,  3.98it/s, now=None]"
     ]
    },
    {
     "name": "stdout",
     "output_type": "stream",
     "text": [
      "Error poly fit [-39.52883394  -2.62811469   0.04508549]\n"
     ]
    },
    {
     "name": "stderr",
     "output_type": "stream",
     "text": [
      "t:  56%|█████▋    | 274/485 [01:06<00:52,  3.99it/s, now=None]"
     ]
    },
    {
     "name": "stdout",
     "output_type": "stream",
     "text": [
      "Fail sanity check - curvature left curvature: 217.0 right curvature: 2204.0\n"
     ]
    },
    {
     "name": "stderr",
     "output_type": "stream",
     "text": [
      "t:  57%|█████▋    | 276/485 [01:07<00:52,  3.97it/s, now=None]"
     ]
    },
    {
     "name": "stdout",
     "output_type": "stream",
     "text": [
      "Fail sanity check - curvature left curvature: 311.0 right curvature: 2529.0\n"
     ]
    },
    {
     "name": "stderr",
     "output_type": "stream",
     "text": [
      "t:  57%|█████▋    | 277/485 [01:07<00:53,  3.87it/s, now=None]"
     ]
    },
    {
     "name": "stdout",
     "output_type": "stream",
     "text": [
      "Fail sanity check - curvature left curvature: 212.0 right curvature: 2009.0\n"
     ]
    },
    {
     "name": "stderr",
     "output_type": "stream",
     "text": [
      "t:  67%|██████▋   | 325/485 [01:20<00:40,  3.96it/s, now=None]"
     ]
    },
    {
     "name": "stdout",
     "output_type": "stream",
     "text": [
      "Fail sanity check - curvature left curvature: 398.0 right curvature: 4295.0\n"
     ]
    },
    {
     "name": "stderr",
     "output_type": "stream",
     "text": [
      "t:  68%|██████▊   | 332/485 [01:22<00:38,  3.97it/s, now=None]"
     ]
    },
    {
     "name": "stdout",
     "output_type": "stream",
     "text": [
      "Fail sanity check - curvature left curvature: 321.0 right curvature: 1885.0\n"
     ]
    },
    {
     "name": "stderr",
     "output_type": "stream",
     "text": [
      "t:  72%|███████▏  | 350/485 [01:26<00:33,  3.97it/s, now=None]"
     ]
    },
    {
     "name": "stdout",
     "output_type": "stream",
     "text": [
      "Fail sanity check - curvature left curvature: 2255.0 right curvature: 364.0\n"
     ]
    },
    {
     "name": "stderr",
     "output_type": "stream",
     "text": [
      "t:  72%|███████▏  | 351/485 [01:27<00:34,  3.94it/s, now=None]"
     ]
    },
    {
     "name": "stdout",
     "output_type": "stream",
     "text": [
      "Error poly fit [16.6700115  24.28648663  0.36327218]\n"
     ]
    },
    {
     "name": "stderr",
     "output_type": "stream",
     "text": [
      "t:  73%|███████▎  | 352/485 [01:27<00:34,  3.89it/s, now=None]"
     ]
    },
    {
     "name": "stdout",
     "output_type": "stream",
     "text": [
      "Error poly fit [-1.18359429e+00 -1.02937313e+01  8.16659101e-03]\n"
     ]
    },
    {
     "name": "stderr",
     "output_type": "stream",
     "text": [
      "t:  75%|███████▍  | 362/485 [01:30<00:31,  3.91it/s, now=None]"
     ]
    },
    {
     "name": "stdout",
     "output_type": "stream",
     "text": [
      "Fail sanity check - curvature left curvature: 651.0 right curvature: 3475.0\n"
     ]
    },
    {
     "name": "stderr",
     "output_type": "stream",
     "text": [
      "t:  77%|███████▋  | 372/485 [01:32<00:28,  3.93it/s, now=None]"
     ]
    },
    {
     "name": "stdout",
     "output_type": "stream",
     "text": [
      "Fail sanity check - curvature left curvature: 719.0 right curvature: 4629.0\n"
     ]
    },
    {
     "name": "stderr",
     "output_type": "stream",
     "text": [
      "t:  78%|███████▊  | 377/485 [01:33<00:27,  3.94it/s, now=None]"
     ]
    },
    {
     "name": "stdout",
     "output_type": "stream",
     "text": [
      "Error poly fit [ 9.76683051e-01 -4.65613164e+02  2.01302798e-02]\n",
      "Fail sanity check - curvature left curvature: 536.0 right curvature: 4462.0\n"
     ]
    },
    {
     "name": "stderr",
     "output_type": "stream",
     "text": [
      "t:  78%|███████▊  | 378/485 [01:34<00:27,  3.94it/s, now=None]"
     ]
    },
    {
     "name": "stdout",
     "output_type": "stream",
     "text": [
      "Fail sanity check - curvature left curvature: 581.0 right curvature: 5316.0\n"
     ]
    },
    {
     "name": "stderr",
     "output_type": "stream",
     "text": [
      "t:  78%|███████▊  | 379/485 [01:34<00:27,  3.90it/s, now=None]"
     ]
    },
    {
     "name": "stdout",
     "output_type": "stream",
     "text": [
      "Error poly fit [ 3.02502975e+01  9.39704565e+01 -5.77828856e-02]\n"
     ]
    },
    {
     "name": "stderr",
     "output_type": "stream",
     "text": [
      "t:  80%|████████  | 389/485 [01:36<00:24,  3.97it/s, now=None]"
     ]
    },
    {
     "name": "stdout",
     "output_type": "stream",
     "text": [
      "Fail sanity check - curvature left curvature: 259.0 right curvature: 1931.0\n"
     ]
    },
    {
     "name": "stderr",
     "output_type": "stream",
     "text": [
      "t:  80%|████████  | 390/485 [01:37<00:24,  3.95it/s, now=None]"
     ]
    },
    {
     "name": "stdout",
     "output_type": "stream",
     "text": [
      "Fail sanity check - curvature left curvature: 362.0 right curvature: 1862.0\n"
     ]
    },
    {
     "name": "stderr",
     "output_type": "stream",
     "text": [
      "t:  81%|████████  | 392/485 [01:37<00:25,  3.62it/s, now=None]"
     ]
    },
    {
     "name": "stdout",
     "output_type": "stream",
     "text": [
      "Fail sanity check - curvature left curvature: 392.0 right curvature: 2204.0\n"
     ]
    },
    {
     "name": "stderr",
     "output_type": "stream",
     "text": [
      "t:  82%|████████▏ | 396/485 [01:38<00:23,  3.86it/s, now=None]"
     ]
    },
    {
     "name": "stdout",
     "output_type": "stream",
     "text": [
      "Error poly fit [-1.06104029e+01 -4.54035048e+00  1.78159876e-03]\n"
     ]
    },
    {
     "name": "stderr",
     "output_type": "stream",
     "text": [
      "t:  82%|████████▏ | 400/485 [01:39<00:21,  3.91it/s, now=None]"
     ]
    },
    {
     "name": "stdout",
     "output_type": "stream",
     "text": [
      "Fail sanity check - curvature left curvature: 500.0 right curvature: 4863.0\n"
     ]
    },
    {
     "name": "stderr",
     "output_type": "stream",
     "text": [
      "t:  84%|████████▎ | 406/485 [01:41<00:19,  3.98it/s, now=None]"
     ]
    },
    {
     "name": "stdout",
     "output_type": "stream",
     "text": [
      "Fail sanity check - curvature left curvature: 494.0 right curvature: 3805.0\n"
     ]
    },
    {
     "name": "stderr",
     "output_type": "stream",
     "text": [
      "t:  87%|████████▋ | 423/485 [01:45<00:15,  3.90it/s, now=None]"
     ]
    },
    {
     "name": "stdout",
     "output_type": "stream",
     "text": [
      "Error poly fit [12.55504053  0.11592687  0.01489198]\n"
     ]
    },
    {
     "name": "stderr",
     "output_type": "stream",
     "text": [
      "t:  88%|████████▊ | 427/485 [01:46<00:14,  3.93it/s, now=None]"
     ]
    },
    {
     "name": "stdout",
     "output_type": "stream",
     "text": [
      "Error poly fit [12.57264587  1.89897661  0.07065354]\n"
     ]
    },
    {
     "name": "stderr",
     "output_type": "stream",
     "text": [
      "t:  90%|████████▉ | 435/485 [01:48<00:12,  3.92it/s, now=None]"
     ]
    },
    {
     "name": "stdout",
     "output_type": "stream",
     "text": [
      "Fail sanity check - curvature left curvature: 614.0 right curvature: 4870.0\n"
     ]
    },
    {
     "name": "stderr",
     "output_type": "stream",
     "text": [
      "t:  92%|█████████▏| 444/485 [01:51<00:10,  3.94it/s, now=None]"
     ]
    },
    {
     "name": "stdout",
     "output_type": "stream",
     "text": [
      "Fail sanity check - curvature left curvature: 566.0 right curvature: 3683.0\n"
     ]
    },
    {
     "name": "stderr",
     "output_type": "stream",
     "text": [
      "t:  94%|█████████▍| 456/485 [01:54<00:07,  3.94it/s, now=None]"
     ]
    },
    {
     "name": "stdout",
     "output_type": "stream",
     "text": [
      "Fail sanity check - curvature left curvature: 300.0 right curvature: 2381.0\n"
     ]
    },
    {
     "name": "stderr",
     "output_type": "stream",
     "text": [
      "t:  95%|█████████▍| 459/485 [01:54<00:06,  3.91it/s, now=None]"
     ]
    },
    {
     "name": "stdout",
     "output_type": "stream",
     "text": [
      "Fail sanity check - curvature left curvature: 193.0 right curvature: 1474.0\n"
     ]
    },
    {
     "name": "stderr",
     "output_type": "stream",
     "text": [
      "t:  96%|█████████▋| 468/485 [01:57<00:04,  3.96it/s, now=None]"
     ]
    },
    {
     "name": "stdout",
     "output_type": "stream",
     "text": [
      "Fail sanity check - curvature left curvature: 119.0 right curvature: 1916.0\n",
      "Fail sanity check - roughly parallel (maximum distance) 981.7635300752032\n",
      "Fail sanity check - roughly parallel (mean distance) 728.8636550152794\n"
     ]
    },
    {
     "name": "stderr",
     "output_type": "stream",
     "text": [
      "t:  97%|█████████▋| 469/485 [01:57<00:04,  3.93it/s, now=None]"
     ]
    },
    {
     "name": "stdout",
     "output_type": "stream",
     "text": [
      "failed\n",
      "Fail sanity check - curvature left curvature: 119.0 right curvature: 1826.0\n",
      "Fail sanity check - roughly parallel (maximum distance) 978.8902371054369\n",
      "Fail sanity check - roughly parallel (mean distance) 725.5869872746594\n"
     ]
    },
    {
     "name": "stderr",
     "output_type": "stream",
     "text": [
      "t:  97%|█████████▋| 471/485 [01:57<00:03,  3.88it/s, now=None]"
     ]
    },
    {
     "name": "stdout",
     "output_type": "stream",
     "text": [
      "Fail sanity check - curvature left curvature: 217.0 right curvature: 5007.0\n"
     ]
    },
    {
     "name": "stderr",
     "output_type": "stream",
     "text": [
      "t:  97%|█████████▋| 472/485 [01:58<00:03,  3.91it/s, now=None]"
     ]
    },
    {
     "name": "stdout",
     "output_type": "stream",
     "text": [
      "Fail sanity check - curvature left curvature: 523.0 right curvature: 2734.0\n"
     ]
    },
    {
     "name": "stderr",
     "output_type": "stream",
     "text": [
      "t:  98%|█████████▊| 475/485 [01:58<00:02,  3.93it/s, now=None]"
     ]
    },
    {
     "name": "stdout",
     "output_type": "stream",
     "text": [
      "Fail sanity check - roughly parallel (maximum distance) 952.8451870504791\n"
     ]
    },
    {
     "name": "stderr",
     "output_type": "stream",
     "text": [
      "t:  98%|█████████▊| 476/485 [01:59<00:02,  3.88it/s, now=None]"
     ]
    },
    {
     "name": "stdout",
     "output_type": "stream",
     "text": [
      "Error poly fit [-21.00920317 -15.37276022  -0.22650913]\n"
     ]
    },
    {
     "name": "stderr",
     "output_type": "stream",
     "text": [
      "t:  99%|█████████▉| 480/485 [02:00<00:01,  3.96it/s, now=None]"
     ]
    },
    {
     "name": "stdout",
     "output_type": "stream",
     "text": [
      "Error poly fit [ 2.16753425e+00 -8.96624190e+01  1.40334742e-02]\n"
     ]
    },
    {
     "name": "stderr",
     "output_type": "stream",
     "text": [
      "t:  99%|█████████▉| 482/485 [02:00<00:00,  3.94it/s, now=None]"
     ]
    },
    {
     "name": "stdout",
     "output_type": "stream",
     "text": [
      "Fail sanity check - curvature left curvature: 329.0 right curvature: 3520.0\n"
     ]
    },
    {
     "name": "stderr",
     "output_type": "stream",
     "text": [
      "t: 100%|█████████▉| 484/485 [02:01<00:00,  3.96it/s, now=None]"
     ]
    },
    {
     "name": "stdout",
     "output_type": "stream",
     "text": [
      "Fail sanity check - curvature left curvature: 247.0 right curvature: 3499.0\n"
     ]
    },
    {
     "name": "stderr",
     "output_type": "stream",
     "text": [
      "t: 100%|██████████| 485/485 [02:01<00:00,  3.95it/s, now=None]"
     ]
    },
    {
     "name": "stdout",
     "output_type": "stream",
     "text": [
      "Fail sanity check - curvature left curvature: 288.0 right curvature: 3857.0\n"
     ]
    },
    {
     "name": "stderr",
     "output_type": "stream",
     "text": [
      "                                                              "
     ]
    },
    {
     "name": "stdout",
     "output_type": "stream",
     "text": [
      "Fail sanity check - curvature left curvature: 288.0 right curvature: 3857.0\n"
     ]
    },
    {
     "name": "stderr",
     "output_type": "stream",
     "text": [
      "\r"
     ]
    },
    {
     "name": "stdout",
     "output_type": "stream",
     "text": [
      "Moviepy - Done !\n",
      "Moviepy - video ready challenge_video_out.mp4\n",
      "CPU times: user 4min 19s, sys: 42.7 s, total: 5min 1s\n",
      "Wall time: 2min 3s\n"
     ]
    }
   ],
   "source": [
    "if True:\n",
    "#if False:\n",
    "    white_output = 'challenge_video_out.mp4'\n",
    "    clip1 = VideoFileClip(\"challenge_video.mp4\")\n",
    "    white_clip = clip1.fl_image(Frame(mtx, dist, M_1, M_inv_1, img_size,2)) #.subclip(0,5) #NOTE: this function expects color images!!\n",
    "    %time white_clip.write_videofile(white_output, audio=False)"
   ]
  },
  {
   "cell_type": "code",
   "execution_count": 18,
   "metadata": {},
   "outputs": [
    {
     "data": {
      "text/html": [
       "\n",
       "<video width=\"960\" height=\"540\" controls>\n",
       "  <source src=\"challenge_video_out.mp4\">\n",
       "</video>\n"
      ],
      "text/plain": [
       "<IPython.core.display.HTML object>"
      ]
     },
     "execution_count": 18,
     "metadata": {},
     "output_type": "execute_result"
    }
   ],
   "source": [
    "HTML(\"\"\"\n",
    "<video width=\"960\" height=\"540\" controls>\n",
    "  <source src=\"{0}\">\n",
    "</video>\n",
    "\"\"\".format(white_output))"
   ]
  },
  {
   "cell_type": "code",
   "execution_count": 10,
   "metadata": {},
   "outputs": [],
   "source": [
    "def process_image_1(original_image, fname, mtx, dist, M, M_inv):\n",
    "    \n",
    "    ## 1 - Apply a distortion correction to the image ##\n",
    "    undist = undistort_image(original_image, mtx, dist)\n",
    "    save_undistorted_images(output_path, fname, original_image, undist)\n",
    "\n",
    "    ## 2 - Use color transforms, gradients, etc., to create a thresholded binary image ##\n",
    "    ksize = 3 # Sobel kernel size \n",
    "\n",
    "    # Apply each of the gradient thresholding functions\n",
    "    gradx = abs_sobel_thresh(undist, orient='x', sobel_kernel=ksize, thresh=(30, 200))\n",
    "    grady = abs_sobel_thresh(undist, orient='y', sobel_kernel=ksize, thresh=(50, 200))\n",
    "    mag_binary = mag_thresh(undist, sobel_kernel=ksize, mag_thresh=(30, 200))\n",
    "    dir_binary = dir_threshold(undist, sobel_kernel=ksize, thresh=(0.7, 1.3))\n",
    "\n",
    "    # Apply each of the color thresholding functions for HLS color space\n",
    "    hls_colors_binary = hls_select(undist, s_thresh=(170, 240), l_thresh=(255, 255)) # l - 200\n",
    "\n",
    "    # Apply each of the color thresholding functions for HSV color space\n",
    "    hsv_colors_binary = hsv_select(undist, s_thresh=(170,240), v_thresh=(255, 255), vs_thresh=(200, 255)) # v - 200\n",
    "        \n",
    "    # Combine all of the thresholding binaries\n",
    "    binary_image = np.zeros_like(mag_binary)\n",
    "    binary_image[(hsv_colors_binary == 1) | (hls_colors_binary == 1) | ((mag_binary == 1) & (dir_binary == 1)) ] = 1\n",
    "    #binary_image = hls_colors_binary\n",
    "    save_binary_images(output_path, fname, undist, binary_image)\n",
    "    \n",
    "    # 3 - Apply a perspective transform to rectify binary image (\"birds-eye view\") ##\n",
    "\n",
    "    # Warp the image to a top-down view\n",
    "    img_size = (undist.shape[1], undist.shape[0])\n",
    "    binary_warped = cv2.warpPerspective(binary_image, M, img_size, flags=cv2.INTER_LINEAR)\n",
    "    \n",
    "    warped = cv2.warpPerspective(undist, M, img_size, flags=cv2.INTER_LINEAR)\n",
    "    save_warped_images(output_path, fname, binary_warped, warped)\n",
    "\n",
    "    ## 4 - Detect lane pixels and fit to find the lane boundary ##\n",
    "    \n",
    "    # Create a sliding window and find out which activated pixels fall into the window\n",
    "    out_img, left_fit, right_fit, left_fitx, right_fitx, ploty = fit_polynomial(binary_warped)\n",
    "\n",
    "    ## 5 - Determine the curvature of the lane and vehicle position with respect to center ##\n",
    "    \n",
    "    radius_curvature, left_radius_curvature , right_radius_curvature = measure_curvature_real(out_img.shape[0], left_fit, right_fit)\n",
    "\n",
    "    rel_vehicle_position = measure_rel_vehicle_position(out_img.shape, left_fit, right_fit)\n",
    "\n",
    "    ## 6 - Warp the detected lane boundaries back onto the original image ##\n",
    "\n",
    "    # Create an image to draw the lines on\n",
    "    warp_zero = np.zeros_like(binary_warped).astype(np.uint8)\n",
    "    color_warp = np.dstack((warp_zero, warp_zero, warp_zero))\n",
    "\n",
    "    # Recast the x and y points into usable format for cv2.fillPoly()\n",
    "    pts_left = np.array([np.transpose(np.vstack([left_fitx, ploty]))])\n",
    "    pts_right = np.array([np.flipud(np.transpose(np.vstack([right_fitx, ploty])))])\n",
    "    pts = np.hstack((pts_left, pts_right))\n",
    "\n",
    "    # Draw the lane onto the warped blank image\n",
    "    cv2.fillPoly(color_warp, np.int_([pts]), (0,255, 0))\n",
    "\n",
    "    # Warp the blank back to original image space using inverse perspective matrix (Minv)\n",
    "    newwarp = cv2.warpPerspective(color_warp, M_inv, img_size) \n",
    "\n",
    "    ## 7 - Output visual display of the lane boundaries and numerical estimation of lane curvature and vehicle position ##\n",
    "    # Combine the result with the original image\n",
    "    result = cv2.addWeighted(undist, 1, newwarp, 0.3, 0)\n",
    "    result = cv2.addWeighted(original_image, 1, newwarp, 0.3, 0)\n",
    "\n",
    "    save_lane_lines_image(output_path, fname, out_img)\n",
    "\n",
    "    print(\"Radius curvature = \", radius_curvature, 'm')\n",
    "    print(\"Left Radius curvature = \", left_radius_curvature, 'm', \"Right Radius curvature = \", right_radius_curvature, 'm', )\n",
    "    print(\"Relative vehicle position with respect to the line lane center = \",rel_vehicle_position, 'm')\n",
    "\n",
    "    save_pipeline_image(output_path, fname, result, radius_curvature, rel_vehicle_position )"
   ]
  },
  {
   "cell_type": "code",
   "execution_count": 11,
   "metadata": {},
   "outputs": [
    {
     "name": "stdout",
     "output_type": "stream",
     "text": [
      "Radius curvature =  69.0 m\n",
      "Left Radius curvature =  93.0 m Right Radius curvature =  45.0 m\n",
      "Relative vehicle position with respect to the line lane center =  0.3 m\n",
      "\n",
      "\n"
     ]
    }
   ],
   "source": [
    "# Get the transform matrix using 4 source and destination points calculated looking to the straight line image\n",
    "src = np.float32([[250, 720],[1050, 720],[605, 480],[715, 480]])\n",
    "dst = np.float32([[350, 720],[950, 720],[350,0],[950,0]])\n",
    "\n",
    "# Get the transform matrix M using the src and dst points\n",
    "M_1 = cv2.getPerspectiveTransform(src, dst)\n",
    "\n",
    "# Get the invert transform matrix M using the src and dst points\n",
    "M_inv_1 = cv2.getPerspectiveTransform(dst, src)\n",
    "\n",
    "fname = \"challenge_video.jpg\"\n",
    "\n",
    "# Read the image\n",
    "clip1 = VideoFileClip(\"harder_challenge_video.mp4\")\n",
    "img = clip1.get_frame(120 / clip1.fps) # get frame by index\n",
    "img_size = img.shape\n",
    "\n",
    "process_image_1(img, fname, mtx, dist, M, M_inv)\n",
    "\n",
    "print('\\n')"
   ]
  },
  {
   "cell_type": "code",
   "execution_count": 19,
   "metadata": {},
   "outputs": [
    {
     "name": "stderr",
     "output_type": "stream",
     "text": [
      "t:   0%|          | 0/1199 [00:00<?, ?it/s, now=None]"
     ]
    },
    {
     "name": "stdout",
     "output_type": "stream",
     "text": [
      "Moviepy - Building video harder_challenge_video_out.mp4.\n",
      "Moviepy - Writing video harder_challenge_video_out.mp4\n",
      "\n"
     ]
    },
    {
     "name": "stderr",
     "output_type": "stream",
     "text": [
      "t:   3%|▎         | 41/1199 [00:10<05:12,  3.71it/s, now=None]"
     ]
    },
    {
     "name": "stdout",
     "output_type": "stream",
     "text": [
      "Fail sanity check - roughly parallel (maximum distance) 937.4404737920504\n"
     ]
    },
    {
     "name": "stderr",
     "output_type": "stream",
     "text": [
      "t:   4%|▎         | 42/1199 [00:11<05:15,  3.67it/s, now=None]"
     ]
    },
    {
     "name": "stdout",
     "output_type": "stream",
     "text": [
      "Error poly fit [ 31.38769622 -21.53076136   4.04341819]\n",
      "Fail sanity check - curvature left curvature: 222.0 right curvature: 1706.0\n"
     ]
    },
    {
     "name": "stderr",
     "output_type": "stream",
     "text": [
      "t:   4%|▎         | 43/1199 [00:11<05:18,  3.63it/s, now=None]"
     ]
    },
    {
     "name": "stdout",
     "output_type": "stream",
     "text": [
      "Fail sanity check - curvature left curvature: 219.0 right curvature: 2041.0\n"
     ]
    },
    {
     "name": "stderr",
     "output_type": "stream",
     "text": [
      "t:   4%|▎         | 44/1199 [00:11<05:25,  3.54it/s, now=None]"
     ]
    },
    {
     "name": "stdout",
     "output_type": "stream",
     "text": [
      "Fail sanity check - curvature left curvature: 201.0 right curvature: 2096.0\n"
     ]
    },
    {
     "name": "stderr",
     "output_type": "stream",
     "text": [
      "t:   4%|▍         | 45/1199 [00:11<05:25,  3.54it/s, now=None]"
     ]
    },
    {
     "name": "stdout",
     "output_type": "stream",
     "text": [
      "failed\n",
      "Fail sanity check - curvature left curvature: 200.0 right curvature: 2096.0\n"
     ]
    },
    {
     "name": "stderr",
     "output_type": "stream",
     "text": [
      "t:   4%|▍         | 46/1199 [00:12<05:18,  3.62it/s, now=None]"
     ]
    },
    {
     "name": "stdout",
     "output_type": "stream",
     "text": [
      "failed\n",
      "Fail sanity check - curvature left curvature: 185.0 right curvature: 2096.0\n"
     ]
    },
    {
     "name": "stderr",
     "output_type": "stream",
     "text": [
      "t:   4%|▍         | 47/1199 [00:12<05:14,  3.67it/s, now=None]"
     ]
    },
    {
     "name": "stdout",
     "output_type": "stream",
     "text": [
      "failed\n",
      "Fail sanity check - curvature left curvature: 182.0 right curvature: 2096.0\n"
     ]
    },
    {
     "name": "stderr",
     "output_type": "stream",
     "text": [
      "t:   5%|▍         | 54/1199 [00:14<05:21,  3.56it/s, now=None]"
     ]
    },
    {
     "name": "stdout",
     "output_type": "stream",
     "text": [
      "Fail sanity check - distance at the bottom 475.63113137045366 right x point: 914.0479626266828 left x point: 438.4168312562291\n"
     ]
    },
    {
     "name": "stderr",
     "output_type": "stream",
     "text": [
      "t:   5%|▍         | 55/1199 [00:14<05:23,  3.53it/s, now=None]"
     ]
    },
    {
     "name": "stdout",
     "output_type": "stream",
     "text": [
      "Error poly fit [ -4.36753468 -11.82195029  -0.10823464]\n"
     ]
    },
    {
     "name": "stderr",
     "output_type": "stream",
     "text": [
      "t:   5%|▌         | 60/1199 [00:16<05:16,  3.60it/s, now=None]"
     ]
    },
    {
     "name": "stdout",
     "output_type": "stream",
     "text": [
      "Fail sanity check - roughly parallel (mean distance) 720.009978340331\n"
     ]
    },
    {
     "name": "stderr",
     "output_type": "stream",
     "text": [
      "t:   6%|▌         | 74/1199 [00:19<05:07,  3.65it/s, now=None]"
     ]
    },
    {
     "name": "stdout",
     "output_type": "stream",
     "text": [
      "Fail sanity check - roughly parallel (minimum distance) 294.19085871811103\n"
     ]
    },
    {
     "name": "stderr",
     "output_type": "stream",
     "text": [
      "t:   6%|▋         | 75/1199 [00:20<05:05,  3.68it/s, now=None]"
     ]
    },
    {
     "name": "stdout",
     "output_type": "stream",
     "text": [
      "failed\n",
      "Fail sanity check - distance at the bottom 470.83723940761354 right x point: 910.3835882452369 left x point: 439.5463488376233\n",
      "Fail sanity check - roughly parallel (minimum distance) 173.2225954894035\n",
      "Fail sanity check - roughly parallel (mean distance) 471.514342313702\n"
     ]
    },
    {
     "name": "stderr",
     "output_type": "stream",
     "text": [
      "t:   6%|▋         | 76/1199 [00:20<05:07,  3.65it/s, now=None]"
     ]
    },
    {
     "name": "stdout",
     "output_type": "stream",
     "text": [
      "failed\n",
      "Fail sanity check - distance at the bottom 467.31017243845054 right x point: 906.8565212760739 left x point: 439.5463488376233\n",
      "Fail sanity check - roughly parallel (minimum distance) 177.7247267844358\n",
      "Fail sanity check - roughly parallel (mean distance) 476.2500338218193\n"
     ]
    },
    {
     "name": "stderr",
     "output_type": "stream",
     "text": [
      "t:   6%|▋         | 77/1199 [00:20<05:09,  3.63it/s, now=None]"
     ]
    },
    {
     "name": "stdout",
     "output_type": "stream",
     "text": [
      "failed\n",
      "Fail sanity check - distance at the bottom 479.33634735706437 right x point: 918.8826961946877 left x point: 439.5463488376233\n",
      "Fail sanity check - roughly parallel (minimum distance) 208.07755237303058\n"
     ]
    },
    {
     "name": "stderr",
     "output_type": "stream",
     "text": [
      "t:   7%|▋         | 78/1199 [00:21<05:08,  3.64it/s, now=None]"
     ]
    },
    {
     "name": "stdout",
     "output_type": "stream",
     "text": [
      "failed\n",
      "Fail sanity check - distance at the bottom 473.6873443455821 right x point: 913.2336931832054 left x point: 439.5463488376233\n",
      "Fail sanity check - roughly parallel (minimum distance) 234.09976404898487\n"
     ]
    },
    {
     "name": "stderr",
     "output_type": "stream",
     "text": [
      "t:   7%|▋         | 79/1199 [00:21<05:05,  3.66it/s, now=None]"
     ]
    },
    {
     "name": "stdout",
     "output_type": "stream",
     "text": [
      "failed\n",
      "Error poly fit [ -4.25383208 -17.95633291  -0.15239847]\n",
      "Fail sanity check - curvature left curvature: 1060.0 right curvature: 62.0\n",
      "Fail sanity check - distance at the bottom 458.0969372726289 right x point: 897.6432861102522 left x point: 439.5463488376233\n",
      "Fail sanity check - roughly parallel (minimum distance) 104.32551149973358\n",
      "Fail sanity check - roughly parallel (mean distance) 475.6589235855045\n"
     ]
    },
    {
     "name": "stderr",
     "output_type": "stream",
     "text": [
      "t:   7%|▋         | 80/1199 [00:21<05:09,  3.62it/s, now=None]"
     ]
    },
    {
     "name": "stdout",
     "output_type": "stream",
     "text": [
      "failed\n",
      "Fail sanity check - curvature left curvature: 591.0 right curvature: 62.0\n",
      "Fail sanity check - roughly parallel (minimum distance) 129.64293630261716\n"
     ]
    },
    {
     "name": "stderr",
     "output_type": "stream",
     "text": [
      "t:   7%|▋         | 81/1199 [00:21<05:10,  3.60it/s, now=None]"
     ]
    },
    {
     "name": "stdout",
     "output_type": "stream",
     "text": [
      "failed\n",
      "Fail sanity check - curvature left curvature: 552.0 right curvature: 62.0\n",
      "Fail sanity check - roughly parallel (minimum distance) 140.68827689020452\n"
     ]
    },
    {
     "name": "stderr",
     "output_type": "stream",
     "text": [
      "t:   7%|▋         | 82/1199 [00:22<05:06,  3.64it/s, now=None]"
     ]
    },
    {
     "name": "stdout",
     "output_type": "stream",
     "text": [
      "failed\n",
      "Error poly fit [ -1.00721999 -16.40291911  -0.02318104]\n",
      "Fail sanity check - curvature left curvature: 1107.0 right curvature: 62.0\n",
      "Fail sanity check - roughly parallel (minimum distance) 120.57195436577922\n"
     ]
    },
    {
     "name": "stderr",
     "output_type": "stream",
     "text": [
      "t:   7%|▋         | 83/1199 [00:22<05:02,  3.69it/s, now=None]"
     ]
    },
    {
     "name": "stdout",
     "output_type": "stream",
     "text": [
      "failed\n",
      "Fail sanity check - curvature left curvature: 1400.0 right curvature: 62.0\n",
      "Fail sanity check - roughly parallel (minimum distance) 118.73138516290157\n"
     ]
    },
    {
     "name": "stderr",
     "output_type": "stream",
     "text": [
      "t:   7%|▋         | 84/1199 [00:22<05:04,  3.66it/s, now=None]"
     ]
    },
    {
     "name": "stdout",
     "output_type": "stream",
     "text": [
      "failed\n",
      "Fail sanity check - curvature left curvature: 1178.0 right curvature: 62.0\n",
      "Fail sanity check - roughly parallel (minimum distance) 131.49155167688207\n"
     ]
    },
    {
     "name": "stderr",
     "output_type": "stream",
     "text": [
      "t:   7%|▋         | 85/1199 [00:22<05:04,  3.66it/s, now=None]"
     ]
    },
    {
     "name": "stdout",
     "output_type": "stream",
     "text": [
      "failed\n",
      "Fail sanity check - curvature left curvature: 1541.0 right curvature: 62.0\n",
      "Fail sanity check - roughly parallel (minimum distance) 126.88984383543004\n"
     ]
    },
    {
     "name": "stderr",
     "output_type": "stream",
     "text": [
      "t:   7%|▋         | 86/1199 [00:23<05:01,  3.69it/s, now=None]"
     ]
    },
    {
     "name": "stdout",
     "output_type": "stream",
     "text": [
      "failed\n",
      "Fail sanity check - curvature left curvature: 1255.0 right curvature: 62.0\n",
      "Fail sanity check - roughly parallel (minimum distance) 164.83168639684675\n"
     ]
    },
    {
     "name": "stderr",
     "output_type": "stream",
     "text": [
      "t:   7%|▋         | 87/1199 [00:23<04:59,  3.71it/s, now=None]"
     ]
    },
    {
     "name": "stdout",
     "output_type": "stream",
     "text": [
      "failed\n",
      "Fail sanity check - curvature left curvature: 2882.0 right curvature: 62.0\n",
      "Fail sanity check - roughly parallel (minimum distance) 159.06931904436533\n"
     ]
    },
    {
     "name": "stderr",
     "output_type": "stream",
     "text": [
      "t:   7%|▋         | 88/1199 [00:23<05:01,  3.68it/s, now=None]"
     ]
    },
    {
     "name": "stdout",
     "output_type": "stream",
     "text": [
      "failed\n",
      "Fail sanity check - curvature left curvature: 2257.0 right curvature: 62.0\n",
      "Fail sanity check - distance at the bottom 467.91240871103116 right x point: 907.4587575486545 left x point: 439.5463488376233\n",
      "Fail sanity check - roughly parallel (minimum distance) 151.56574209983603\n"
     ]
    },
    {
     "name": "stderr",
     "output_type": "stream",
     "text": [
      "t:   7%|▋         | 89/1199 [00:24<05:01,  3.69it/s, now=None]"
     ]
    },
    {
     "name": "stdout",
     "output_type": "stream",
     "text": [
      "Error poly fit [ -5.6256021  -10.0502132   -1.16548846]\n"
     ]
    },
    {
     "name": "stderr",
     "output_type": "stream",
     "text": [
      "t:   8%|▊         | 90/1199 [00:24<04:59,  3.71it/s, now=None]"
     ]
    },
    {
     "name": "stdout",
     "output_type": "stream",
     "text": [
      "Fail sanity check - curvature left curvature: 621.0 right curvature: 116.0\n"
     ]
    },
    {
     "name": "stderr",
     "output_type": "stream",
     "text": [
      "t:   8%|▊         | 91/1199 [00:24<05:01,  3.67it/s, now=None]"
     ]
    },
    {
     "name": "stdout",
     "output_type": "stream",
     "text": [
      "Fail sanity check - curvature left curvature: 2197.0 right curvature: 300.0\n"
     ]
    },
    {
     "name": "stderr",
     "output_type": "stream",
     "text": [
      "t:   9%|▊         | 104/1199 [00:29<06:12,  2.94it/s, now=None]"
     ]
    },
    {
     "name": "stdout",
     "output_type": "stream",
     "text": [
      "Fail sanity check - roughly parallel (maximum distance) 987.0196297452327\n",
      "Fail sanity check - roughly parallel (mean distance) 780.9405636971056\n"
     ]
    },
    {
     "name": "stderr",
     "output_type": "stream",
     "text": [
      "t:   9%|▉         | 105/1199 [00:29<05:46,  3.15it/s, now=None]"
     ]
    },
    {
     "name": "stdout",
     "output_type": "stream",
     "text": [
      "failed\n",
      "failed\n",
      "Fail sanity check - roughly parallel (maximum distance) 987.0196297452327\n",
      "Fail sanity check - roughly parallel (mean distance) 780.9405636971056\n"
     ]
    },
    {
     "name": "stderr",
     "output_type": "stream",
     "text": [
      "t:   9%|▉         | 106/1199 [00:29<05:14,  3.47it/s, now=None]"
     ]
    },
    {
     "name": "stdout",
     "output_type": "stream",
     "text": [
      "failed\n",
      "failed\n",
      "Fail sanity check - roughly parallel (maximum distance) 987.0196297452327\n",
      "Fail sanity check - roughly parallel (mean distance) 780.9405636971056\n"
     ]
    },
    {
     "name": "stderr",
     "output_type": "stream",
     "text": [
      "t:   9%|▉         | 107/1199 [00:29<04:53,  3.72it/s, now=None]"
     ]
    },
    {
     "name": "stdout",
     "output_type": "stream",
     "text": [
      "failed\n",
      "Fail sanity check - roughly parallel (maximum distance) 938.6781809548652\n",
      "Fail sanity check - roughly parallel (mean distance) 874.3504054675076\n",
      "Fail sanity check - vehicle position from the lane center 0.84\n"
     ]
    },
    {
     "name": "stderr",
     "output_type": "stream",
     "text": [
      "t:   9%|▉         | 108/1199 [00:30<04:52,  3.73it/s, now=None]"
     ]
    },
    {
     "name": "stdout",
     "output_type": "stream",
     "text": [
      "Error poly fit [ -6.08413319 -18.58633358  -1.15451469]\n",
      "failed\n",
      "Fail sanity check - distance at the bottom 754.5003333567431 right x point: 1122.9959095063728 left x point: 368.49557614962964\n",
      "Fail sanity check - roughly parallel (maximum distance) 1226.3311101903478\n",
      "Fail sanity check - roughly parallel (mean distance) 881.3167813704215\n"
     ]
    },
    {
     "name": "stderr",
     "output_type": "stream",
     "text": [
      "t:   9%|▉         | 109/1199 [00:30<04:53,  3.72it/s, now=None]"
     ]
    },
    {
     "name": "stdout",
     "output_type": "stream",
     "text": [
      "failed\n",
      "Fail sanity check - distance at the bottom 748.7344996717571 right x point: 1122.9959095063728 left x point: 374.2614098346156\n",
      "Fail sanity check - roughly parallel (maximum distance) 1168.8309296071786\n",
      "Fail sanity check - roughly parallel (mean distance) 868.1697537542434\n"
     ]
    },
    {
     "name": "stderr",
     "output_type": "stream",
     "text": [
      "t:   9%|▉         | 110/1199 [00:30<04:51,  3.73it/s, now=None]"
     ]
    },
    {
     "name": "stdout",
     "output_type": "stream",
     "text": [
      "test\n",
      "failed\n",
      "Fail sanity check - roughly parallel (maximum distance) 1428.2393808807808\n",
      "Fail sanity check - roughly parallel (mean distance) 1011.8889315255892\n",
      "Fail sanity check - vehicle position from the lane center 1.17\n"
     ]
    },
    {
     "name": "stderr",
     "output_type": "stream",
     "text": [
      "t:   9%|▉         | 111/1199 [00:30<04:51,  3.73it/s, now=None]"
     ]
    },
    {
     "name": "stdout",
     "output_type": "stream",
     "text": [
      "test\n",
      "Fail sanity check - curvature left curvature: 57.0 right curvature: 508.0\n",
      "Fail sanity check - roughly parallel (maximum distance) 1010.4114743498221\n"
     ]
    },
    {
     "name": "stderr",
     "output_type": "stream",
     "text": [
      "t:   9%|▉         | 112/1199 [00:31<04:55,  3.68it/s, now=None]"
     ]
    },
    {
     "name": "stdout",
     "output_type": "stream",
     "text": [
      "test\n",
      "Fail sanity check - roughly parallel (maximum distance) 1093.2538495514\n"
     ]
    },
    {
     "name": "stderr",
     "output_type": "stream",
     "text": [
      "t:   9%|▉         | 113/1199 [00:31<04:56,  3.67it/s, now=None]"
     ]
    },
    {
     "name": "stdout",
     "output_type": "stream",
     "text": [
      "Fail sanity check - roughly parallel (maximum distance) 1112.1560693423085\n"
     ]
    },
    {
     "name": "stderr",
     "output_type": "stream",
     "text": [
      "t:  10%|▉         | 114/1199 [00:31<04:55,  3.67it/s, now=None]"
     ]
    },
    {
     "name": "stdout",
     "output_type": "stream",
     "text": [
      "Fail sanity check - distance at the bottom 720.7922195890171 right x point: 1097.4920259680928 left x point: 376.6998063790757\n",
      "Fail sanity check - roughly parallel (maximum distance) 1180.8076761584941\n"
     ]
    },
    {
     "name": "stderr",
     "output_type": "stream",
     "text": [
      "t:  10%|▉         | 115/1199 [00:31<04:55,  3.67it/s, now=None]"
     ]
    },
    {
     "name": "stdout",
     "output_type": "stream",
     "text": [
      "Fail sanity check - curvature left curvature: 41.0 right curvature: 331.0\n",
      "Fail sanity check - distance at the bottom 770.5074795667988 right x point: 1116.6996884800312 left x point: 346.19220891323243\n",
      "Fail sanity check - roughly parallel (maximum distance) 1316.3022861599063\n"
     ]
    },
    {
     "name": "stderr",
     "output_type": "stream",
     "text": [
      "t:  10%|▉         | 116/1199 [00:32<05:01,  3.59it/s, now=None]"
     ]
    },
    {
     "name": "stdout",
     "output_type": "stream",
     "text": [
      "Fail sanity check - curvature left curvature: 40.0 right curvature: 310.0\n",
      "Fail sanity check - distance at the bottom 774.2161103371153 right x point: 1101.1628179898873 left x point: 326.94670765277203\n",
      "Fail sanity check - roughly parallel (maximum distance) 1339.624367578358\n",
      "Fail sanity check - roughly parallel (mean distance) 728.9350344327571\n"
     ]
    },
    {
     "name": "stderr",
     "output_type": "stream",
     "text": [
      "t:  10%|▉         | 117/1199 [00:32<05:02,  3.57it/s, now=None]"
     ]
    },
    {
     "name": "stdout",
     "output_type": "stream",
     "text": [
      "Fail sanity check - curvature left curvature: 41.0 right curvature: 220.0\n",
      "Fail sanity check - distance at the bottom 724.3691001746461 right x point: 1072.4495795042556 left x point: 348.08047932960955\n",
      "Fail sanity check - roughly parallel (maximum distance) 1313.9807126947273\n",
      "Fail sanity check - roughly parallel (mean distance) 720.4884996141998\n"
     ]
    },
    {
     "name": "stderr",
     "output_type": "stream",
     "text": [
      "t:  10%|▉         | 118/1199 [00:32<04:58,  3.62it/s, now=None]"
     ]
    },
    {
     "name": "stdout",
     "output_type": "stream",
     "text": [
      "Fail sanity check - roughly parallel (maximum distance) 1262.912270486026\n"
     ]
    },
    {
     "name": "stderr",
     "output_type": "stream",
     "text": [
      "t:  10%|▉         | 119/1199 [00:33<04:58,  3.62it/s, now=None]"
     ]
    },
    {
     "name": "stdout",
     "output_type": "stream",
     "text": [
      "Fail sanity check - roughly parallel (maximum distance) 1159.6128106130193\n"
     ]
    },
    {
     "name": "stderr",
     "output_type": "stream",
     "text": [
      "t:  10%|█         | 120/1199 [00:33<05:01,  3.58it/s, now=None]"
     ]
    },
    {
     "name": "stdout",
     "output_type": "stream",
     "text": [
      "failed\n",
      "Fail sanity check - roughly parallel (maximum distance) 1127.835101494801\n"
     ]
    },
    {
     "name": "stderr",
     "output_type": "stream",
     "text": [
      "t:  10%|█         | 121/1199 [00:33<05:00,  3.59it/s, now=None]"
     ]
    },
    {
     "name": "stdout",
     "output_type": "stream",
     "text": [
      "failed\n",
      "Fail sanity check - curvature left curvature: 51.0 right curvature: 277.0\n",
      "Fail sanity check - roughly parallel (maximum distance) 1105.1187658123213\n"
     ]
    },
    {
     "name": "stderr",
     "output_type": "stream",
     "text": [
      "t:  10%|█         | 125/1199 [00:34<05:00,  3.58it/s, now=None]"
     ]
    },
    {
     "name": "stdout",
     "output_type": "stream",
     "text": [
      "Fail sanity check - roughly parallel (mean distance) 469.17080060557424\n"
     ]
    },
    {
     "name": "stderr",
     "output_type": "stream",
     "text": [
      "t:  11%|█         | 126/1199 [00:35<04:57,  3.60it/s, now=None]"
     ]
    },
    {
     "name": "stdout",
     "output_type": "stream",
     "text": [
      "Fail sanity check - roughly parallel (minimum distance) 254.4748660696432\n",
      "Fail sanity check - roughly parallel (mean distance) 460.80159806695076\n"
     ]
    },
    {
     "name": "stderr",
     "output_type": "stream",
     "text": [
      "t:  11%|█         | 127/1199 [00:35<05:01,  3.55it/s, now=None]"
     ]
    },
    {
     "name": "stdout",
     "output_type": "stream",
     "text": [
      "Fail sanity check - roughly parallel (mean distance) 478.79099237395735\n"
     ]
    },
    {
     "name": "stderr",
     "output_type": "stream",
     "text": [
      "t:  11%|█         | 129/1199 [00:35<05:00,  3.56it/s, now=None]"
     ]
    },
    {
     "name": "stdout",
     "output_type": "stream",
     "text": [
      "Fail sanity check - roughly parallel (minimum distance) 249.39189493719482\n",
      "Fail sanity check - roughly parallel (mean distance) 465.5386146350042\n"
     ]
    },
    {
     "name": "stderr",
     "output_type": "stream",
     "text": [
      "t:  11%|█         | 131/1199 [00:36<04:54,  3.62it/s, now=None]"
     ]
    },
    {
     "name": "stdout",
     "output_type": "stream",
     "text": [
      "Fail sanity check - roughly parallel (minimum distance) 273.74574054432924\n",
      "Fail sanity check - roughly parallel (mean distance) 479.980666878247\n"
     ]
    },
    {
     "name": "stderr",
     "output_type": "stream",
     "text": [
      "t:  11%|█         | 132/1199 [00:36<04:57,  3.58it/s, now=None]"
     ]
    },
    {
     "name": "stdout",
     "output_type": "stream",
     "text": [
      "failed\n",
      "Fail sanity check - roughly parallel (mean distance) 479.86394752743945\n"
     ]
    },
    {
     "name": "stderr",
     "output_type": "stream",
     "text": [
      "t:  11%|█         | 133/1199 [00:36<04:56,  3.59it/s, now=None]"
     ]
    },
    {
     "name": "stdout",
     "output_type": "stream",
     "text": [
      "failed\n",
      "Fail sanity check - roughly parallel (minimum distance) 292.1134540870488\n",
      "Fail sanity check - roughly parallel (mean distance) 468.96735717853613\n"
     ]
    },
    {
     "name": "stderr",
     "output_type": "stream",
     "text": [
      "t:  11%|█         | 134/1199 [00:37<04:50,  3.66it/s, now=None]"
     ]
    },
    {
     "name": "stdout",
     "output_type": "stream",
     "text": [
      "failed\n",
      "failed\n",
      "Fail sanity check - roughly parallel (minimum distance) 292.1134540870488\n",
      "Fail sanity check - roughly parallel (mean distance) 468.96735717853613\n"
     ]
    },
    {
     "name": "stderr",
     "output_type": "stream",
     "text": [
      "t:  11%|█▏        | 135/1199 [00:37<04:32,  3.90it/s, now=None]"
     ]
    },
    {
     "name": "stdout",
     "output_type": "stream",
     "text": [
      "failed\n",
      "failed\n",
      "Fail sanity check - roughly parallel (minimum distance) 292.1134540870488\n",
      "Fail sanity check - roughly parallel (mean distance) 468.96735717853613\n"
     ]
    },
    {
     "name": "stderr",
     "output_type": "stream",
     "text": [
      "t:  11%|█▏        | 136/1199 [00:37<04:29,  3.94it/s, now=None]"
     ]
    },
    {
     "name": "stdout",
     "output_type": "stream",
     "text": [
      "failed\n",
      "failed\n",
      "Fail sanity check - roughly parallel (minimum distance) 292.1134540870488\n",
      "Fail sanity check - roughly parallel (mean distance) 468.96735717853613\n"
     ]
    },
    {
     "name": "stderr",
     "output_type": "stream",
     "text": [
      "t:  11%|█▏        | 137/1199 [00:37<04:20,  4.07it/s, now=None]"
     ]
    },
    {
     "name": "stdout",
     "output_type": "stream",
     "text": [
      "failed\n",
      "failed\n",
      "Fail sanity check - roughly parallel (minimum distance) 292.1134540870488\n",
      "Fail sanity check - roughly parallel (mean distance) 468.96735717853613\n"
     ]
    },
    {
     "name": "stderr",
     "output_type": "stream",
     "text": [
      "t:  12%|█▏        | 138/1199 [00:38<04:10,  4.24it/s, now=None]"
     ]
    },
    {
     "name": "stdout",
     "output_type": "stream",
     "text": [
      "failed\n",
      "failed\n",
      "Fail sanity check - roughly parallel (minimum distance) 292.1134540870488\n",
      "Fail sanity check - roughly parallel (mean distance) 468.96735717853613\n"
     ]
    },
    {
     "name": "stderr",
     "output_type": "stream",
     "text": [
      "t:  12%|█▏        | 139/1199 [00:38<04:03,  4.35it/s, now=None]"
     ]
    },
    {
     "name": "stdout",
     "output_type": "stream",
     "text": [
      "failed\n",
      "failed\n",
      "Fail sanity check - roughly parallel (minimum distance) 292.1134540870488\n",
      "Fail sanity check - roughly parallel (mean distance) 468.96735717853613\n"
     ]
    },
    {
     "name": "stderr",
     "output_type": "stream",
     "text": [
      "t:  12%|█▏        | 140/1199 [00:38<04:07,  4.27it/s, now=None]"
     ]
    },
    {
     "name": "stdout",
     "output_type": "stream",
     "text": [
      "failed\n",
      "failed\n",
      "Fail sanity check - roughly parallel (minimum distance) 292.1134540870488\n",
      "Fail sanity check - roughly parallel (mean distance) 468.96735717853613\n"
     ]
    },
    {
     "name": "stderr",
     "output_type": "stream",
     "text": [
      "t:  12%|█▏        | 141/1199 [00:38<04:04,  4.32it/s, now=None]"
     ]
    },
    {
     "name": "stdout",
     "output_type": "stream",
     "text": [
      "failed\n",
      "failed\n",
      "Fail sanity check - roughly parallel (minimum distance) 292.1134540870488\n",
      "Fail sanity check - roughly parallel (mean distance) 468.96735717853613\n"
     ]
    },
    {
     "name": "stderr",
     "output_type": "stream",
     "text": [
      "t:  12%|█▏        | 142/1199 [00:39<03:57,  4.45it/s, now=None]"
     ]
    },
    {
     "name": "stdout",
     "output_type": "stream",
     "text": [
      "failed\n",
      "failed\n",
      "Fail sanity check - roughly parallel (minimum distance) 292.1134540870488\n",
      "Fail sanity check - roughly parallel (mean distance) 468.96735717853613\n"
     ]
    },
    {
     "name": "stderr",
     "output_type": "stream",
     "text": [
      "t:  12%|█▏        | 143/1199 [00:39<03:53,  4.53it/s, now=None]"
     ]
    },
    {
     "name": "stdout",
     "output_type": "stream",
     "text": [
      "failed\n",
      "failed\n",
      "Fail sanity check - roughly parallel (minimum distance) 292.1134540870488\n",
      "Fail sanity check - roughly parallel (mean distance) 468.96735717853613\n"
     ]
    },
    {
     "name": "stderr",
     "output_type": "stream",
     "text": [
      "t:  12%|█▏        | 144/1199 [00:39<03:59,  4.40it/s, now=None]"
     ]
    },
    {
     "name": "stdout",
     "output_type": "stream",
     "text": [
      "failed\n",
      "failed\n",
      "Fail sanity check - roughly parallel (minimum distance) 292.1134540870488\n",
      "Fail sanity check - roughly parallel (mean distance) 468.96735717853613\n"
     ]
    },
    {
     "name": "stderr",
     "output_type": "stream",
     "text": [
      "t:  12%|█▏        | 145/1199 [00:39<03:59,  4.40it/s, now=None]"
     ]
    },
    {
     "name": "stdout",
     "output_type": "stream",
     "text": [
      "failed\n",
      "failed\n",
      "Fail sanity check - roughly parallel (minimum distance) 292.1134540870488\n",
      "Fail sanity check - roughly parallel (mean distance) 468.96735717853613\n"
     ]
    },
    {
     "name": "stderr",
     "output_type": "stream",
     "text": [
      "t:  12%|█▏        | 146/1199 [00:39<04:07,  4.26it/s, now=None]"
     ]
    },
    {
     "name": "stdout",
     "output_type": "stream",
     "text": [
      "failed\n",
      "failed\n",
      "Fail sanity check - roughly parallel (minimum distance) 292.1134540870488\n",
      "Fail sanity check - roughly parallel (mean distance) 468.96735717853613\n"
     ]
    },
    {
     "name": "stderr",
     "output_type": "stream",
     "text": [
      "t:  12%|█▏        | 147/1199 [00:40<04:08,  4.24it/s, now=None]"
     ]
    },
    {
     "name": "stdout",
     "output_type": "stream",
     "text": [
      "failed\n",
      "failed\n",
      "Fail sanity check - roughly parallel (minimum distance) 292.1134540870488\n",
      "Fail sanity check - roughly parallel (mean distance) 468.96735717853613\n"
     ]
    },
    {
     "name": "stderr",
     "output_type": "stream",
     "text": [
      "t:  12%|█▏        | 148/1199 [00:40<04:07,  4.25it/s, now=None]"
     ]
    },
    {
     "name": "stdout",
     "output_type": "stream",
     "text": [
      "Fail sanity check - distance at the bottom 147.83546315690745 right x point: 513.7547070044632 left x point: 365.9192438475557\n",
      "Fail sanity check - roughly parallel (minimum distance) 147.83546315690745\n",
      "Fail sanity check - roughly parallel (mean distance) 162.02301274964287\n",
      "Fail sanity check - vehicle position from the lane center -1.24\n"
     ]
    },
    {
     "name": "stderr",
     "output_type": "stream",
     "text": [
      "t:  12%|█▏        | 149/1199 [00:40<04:15,  4.10it/s, now=None]"
     ]
    },
    {
     "name": "stdout",
     "output_type": "stream",
     "text": [
      "failed\n",
      "failed\n",
      "Fail sanity check - distance at the bottom 147.83546315690745 right x point: 513.7547070044632 left x point: 365.9192438475557\n",
      "Fail sanity check - roughly parallel (minimum distance) 147.83546315690745\n",
      "Fail sanity check - roughly parallel (mean distance) 162.02301274964287\n",
      "Fail sanity check - vehicle position from the lane center -1.24\n"
     ]
    },
    {
     "name": "stderr",
     "output_type": "stream",
     "text": [
      "t:  13%|█▎        | 150/1199 [00:40<04:10,  4.19it/s, now=None]"
     ]
    },
    {
     "name": "stdout",
     "output_type": "stream",
     "text": [
      "failed\n",
      "failed\n",
      "Fail sanity check - distance at the bottom 147.83546315690745 right x point: 513.7547070044632 left x point: 365.9192438475557\n",
      "Fail sanity check - roughly parallel (minimum distance) 147.83546315690745\n",
      "Fail sanity check - roughly parallel (mean distance) 162.02301274964287\n",
      "Fail sanity check - vehicle position from the lane center -1.24\n"
     ]
    },
    {
     "name": "stderr",
     "output_type": "stream",
     "text": [
      "t:  13%|█▎        | 151/1199 [00:41<04:04,  4.28it/s, now=None]"
     ]
    },
    {
     "name": "stdout",
     "output_type": "stream",
     "text": [
      "failed\n",
      "failed\n",
      "Fail sanity check - distance at the bottom 147.83546315690745 right x point: 513.7547070044632 left x point: 365.9192438475557\n",
      "Fail sanity check - roughly parallel (minimum distance) 147.83546315690745\n",
      "Fail sanity check - roughly parallel (mean distance) 162.02301274964287\n",
      "Fail sanity check - vehicle position from the lane center -1.24\n"
     ]
    },
    {
     "name": "stderr",
     "output_type": "stream",
     "text": [
      "t:  13%|█▎        | 152/1199 [00:41<04:03,  4.30it/s, now=None]"
     ]
    },
    {
     "name": "stdout",
     "output_type": "stream",
     "text": [
      "failed\n",
      "failed\n",
      "Fail sanity check - distance at the bottom 147.83546315690745 right x point: 513.7547070044632 left x point: 365.9192438475557\n",
      "Fail sanity check - roughly parallel (minimum distance) 147.83546315690745\n",
      "Fail sanity check - roughly parallel (mean distance) 162.02301274964287\n",
      "Fail sanity check - vehicle position from the lane center -1.24\n"
     ]
    },
    {
     "name": "stderr",
     "output_type": "stream",
     "text": [
      "t:  13%|█▎        | 153/1199 [00:41<04:05,  4.26it/s, now=None]"
     ]
    },
    {
     "name": "stdout",
     "output_type": "stream",
     "text": [
      "failed\n",
      "failed\n",
      "Fail sanity check - distance at the bottom 147.83546315690745 right x point: 513.7547070044632 left x point: 365.9192438475557\n",
      "Fail sanity check - roughly parallel (minimum distance) 147.83546315690745\n",
      "Fail sanity check - roughly parallel (mean distance) 162.02301274964287\n",
      "Fail sanity check - vehicle position from the lane center -1.24\n"
     ]
    },
    {
     "name": "stderr",
     "output_type": "stream",
     "text": [
      "t:  13%|█▎        | 154/1199 [00:41<04:02,  4.32it/s, now=None]"
     ]
    },
    {
     "name": "stdout",
     "output_type": "stream",
     "text": [
      "failed\n",
      "failed\n",
      "Fail sanity check - distance at the bottom 147.83546315690745 right x point: 513.7547070044632 left x point: 365.9192438475557\n",
      "Fail sanity check - roughly parallel (minimum distance) 147.83546315690745\n",
      "Fail sanity check - roughly parallel (mean distance) 162.02301274964287\n",
      "Fail sanity check - vehicle position from the lane center -1.24\n"
     ]
    },
    {
     "name": "stderr",
     "output_type": "stream",
     "text": [
      "t:  13%|█▎        | 155/1199 [00:42<03:56,  4.42it/s, now=None]"
     ]
    },
    {
     "name": "stdout",
     "output_type": "stream",
     "text": [
      "failed\n",
      "failed\n",
      "Fail sanity check - distance at the bottom 147.83546315690745 right x point: 513.7547070044632 left x point: 365.9192438475557\n",
      "Fail sanity check - roughly parallel (minimum distance) 147.83546315690745\n",
      "Fail sanity check - roughly parallel (mean distance) 162.02301274964287\n",
      "Fail sanity check - vehicle position from the lane center -1.24\n"
     ]
    },
    {
     "name": "stderr",
     "output_type": "stream",
     "text": [
      "t:  13%|█▎        | 156/1199 [00:42<03:52,  4.49it/s, now=None]"
     ]
    },
    {
     "name": "stdout",
     "output_type": "stream",
     "text": [
      "failed\n",
      "failed\n",
      "Fail sanity check - distance at the bottom 147.83546315690745 right x point: 513.7547070044632 left x point: 365.9192438475557\n",
      "Fail sanity check - roughly parallel (minimum distance) 147.83546315690745\n",
      "Fail sanity check - roughly parallel (mean distance) 162.02301274964287\n",
      "Fail sanity check - vehicle position from the lane center -1.24\n"
     ]
    },
    {
     "name": "stderr",
     "output_type": "stream",
     "text": [
      "t:  13%|█▎        | 157/1199 [00:42<03:57,  4.38it/s, now=None]"
     ]
    },
    {
     "name": "stdout",
     "output_type": "stream",
     "text": [
      "failed\n",
      "failed\n",
      "Fail sanity check - distance at the bottom 147.83546315690745 right x point: 513.7547070044632 left x point: 365.9192438475557\n",
      "Fail sanity check - roughly parallel (minimum distance) 147.83546315690745\n",
      "Fail sanity check - roughly parallel (mean distance) 162.02301274964287\n",
      "Fail sanity check - vehicle position from the lane center -1.24\n"
     ]
    },
    {
     "name": "stderr",
     "output_type": "stream",
     "text": [
      "t:  13%|█▎        | 158/1199 [00:42<03:55,  4.42it/s, now=None]"
     ]
    },
    {
     "name": "stdout",
     "output_type": "stream",
     "text": [
      "failed\n",
      "failed\n",
      "Fail sanity check - distance at the bottom 147.83546315690745 right x point: 513.7547070044632 left x point: 365.9192438475557\n",
      "Fail sanity check - roughly parallel (minimum distance) 147.83546315690745\n",
      "Fail sanity check - roughly parallel (mean distance) 162.02301274964287\n",
      "Fail sanity check - vehicle position from the lane center -1.24\n"
     ]
    },
    {
     "name": "stderr",
     "output_type": "stream",
     "text": [
      "t:  13%|█▎        | 159/1199 [00:42<03:51,  4.48it/s, now=None]"
     ]
    },
    {
     "name": "stdout",
     "output_type": "stream",
     "text": [
      "failed\n",
      "failed\n",
      "Fail sanity check - distance at the bottom 147.83546315690745 right x point: 513.7547070044632 left x point: 365.9192438475557\n",
      "Fail sanity check - roughly parallel (minimum distance) 147.83546315690745\n",
      "Fail sanity check - roughly parallel (mean distance) 162.02301274964287\n",
      "Fail sanity check - vehicle position from the lane center -1.24\n"
     ]
    },
    {
     "name": "stderr",
     "output_type": "stream",
     "text": [
      "t:  13%|█▎        | 160/1199 [00:43<03:50,  4.50it/s, now=None]"
     ]
    },
    {
     "name": "stdout",
     "output_type": "stream",
     "text": [
      "failed\n",
      "failed\n",
      "Fail sanity check - distance at the bottom 147.83546315690745 right x point: 513.7547070044632 left x point: 365.9192438475557\n",
      "Fail sanity check - roughly parallel (minimum distance) 147.83546315690745\n",
      "Fail sanity check - roughly parallel (mean distance) 162.02301274964287\n",
      "Fail sanity check - vehicle position from the lane center -1.24\n"
     ]
    },
    {
     "name": "stderr",
     "output_type": "stream",
     "text": [
      "t:  13%|█▎        | 161/1199 [00:43<03:55,  4.40it/s, now=None]"
     ]
    },
    {
     "name": "stdout",
     "output_type": "stream",
     "text": [
      "failed\n",
      "failed\n",
      "Fail sanity check - distance at the bottom 147.83546315690745 right x point: 513.7547070044632 left x point: 365.9192438475557\n",
      "Fail sanity check - roughly parallel (minimum distance) 147.83546315690745\n",
      "Fail sanity check - roughly parallel (mean distance) 162.02301274964287\n",
      "Fail sanity check - vehicle position from the lane center -1.24\n"
     ]
    },
    {
     "name": "stderr",
     "output_type": "stream",
     "text": [
      "t:  14%|█▎        | 162/1199 [00:43<03:53,  4.45it/s, now=None]"
     ]
    },
    {
     "name": "stdout",
     "output_type": "stream",
     "text": [
      "failed\n",
      "failed\n",
      "Fail sanity check - distance at the bottom 147.83546315690745 right x point: 513.7547070044632 left x point: 365.9192438475557\n",
      "Fail sanity check - roughly parallel (minimum distance) 147.83546315690745\n",
      "Fail sanity check - roughly parallel (mean distance) 162.02301274964287\n",
      "Fail sanity check - vehicle position from the lane center -1.24\n"
     ]
    },
    {
     "name": "stderr",
     "output_type": "stream",
     "text": [
      "t:  14%|█▎        | 163/1199 [00:43<03:52,  4.46it/s, now=None]"
     ]
    },
    {
     "name": "stdout",
     "output_type": "stream",
     "text": [
      "failed\n",
      "failed\n",
      "Fail sanity check - distance at the bottom 147.83546315690745 right x point: 513.7547070044632 left x point: 365.9192438475557\n",
      "Fail sanity check - roughly parallel (minimum distance) 147.83546315690745\n",
      "Fail sanity check - roughly parallel (mean distance) 162.02301274964287\n",
      "Fail sanity check - vehicle position from the lane center -1.24\n"
     ]
    },
    {
     "name": "stderr",
     "output_type": "stream",
     "text": [
      "t:  14%|█▎        | 164/1199 [00:44<03:49,  4.51it/s, now=None]"
     ]
    },
    {
     "name": "stdout",
     "output_type": "stream",
     "text": [
      "failed\n",
      "failed\n",
      "Fail sanity check - distance at the bottom 147.83546315690745 right x point: 513.7547070044632 left x point: 365.9192438475557\n",
      "Fail sanity check - roughly parallel (minimum distance) 147.83546315690745\n",
      "Fail sanity check - roughly parallel (mean distance) 162.02301274964287\n",
      "Fail sanity check - vehicle position from the lane center -1.24\n"
     ]
    },
    {
     "name": "stderr",
     "output_type": "stream",
     "text": [
      "t:  14%|█▍        | 165/1199 [00:44<03:56,  4.38it/s, now=None]"
     ]
    },
    {
     "name": "stdout",
     "output_type": "stream",
     "text": [
      "failed\n",
      "failed\n",
      "Fail sanity check - distance at the bottom 147.83546315690745 right x point: 513.7547070044632 left x point: 365.9192438475557\n",
      "Fail sanity check - roughly parallel (minimum distance) 147.83546315690745\n",
      "Fail sanity check - roughly parallel (mean distance) 162.02301274964287\n",
      "Fail sanity check - vehicle position from the lane center -1.24\n"
     ]
    },
    {
     "name": "stderr",
     "output_type": "stream",
     "text": [
      "t:  14%|█▍        | 166/1199 [00:44<03:56,  4.36it/s, now=None]"
     ]
    },
    {
     "name": "stdout",
     "output_type": "stream",
     "text": [
      "failed\n",
      "failed\n",
      "Fail sanity check - distance at the bottom 147.83546315690745 right x point: 513.7547070044632 left x point: 365.9192438475557\n",
      "Fail sanity check - roughly parallel (minimum distance) 147.83546315690745\n",
      "Fail sanity check - roughly parallel (mean distance) 162.02301274964287\n",
      "Fail sanity check - vehicle position from the lane center -1.24\n"
     ]
    },
    {
     "name": "stderr",
     "output_type": "stream",
     "text": [
      "t:  14%|█▍        | 167/1199 [00:44<03:50,  4.49it/s, now=None]"
     ]
    },
    {
     "name": "stdout",
     "output_type": "stream",
     "text": [
      "failed\n",
      "failed\n",
      "Fail sanity check - distance at the bottom 147.83546315690745 right x point: 513.7547070044632 left x point: 365.9192438475557\n",
      "Fail sanity check - roughly parallel (minimum distance) 147.83546315690745\n",
      "Fail sanity check - roughly parallel (mean distance) 162.02301274964287\n",
      "Fail sanity check - vehicle position from the lane center -1.24\n"
     ]
    },
    {
     "name": "stderr",
     "output_type": "stream",
     "text": [
      "t:  14%|█▍        | 168/1199 [00:44<03:47,  4.54it/s, now=None]"
     ]
    },
    {
     "name": "stdout",
     "output_type": "stream",
     "text": [
      "failed\n",
      "failed\n",
      "Fail sanity check - distance at the bottom 147.83546315690745 right x point: 513.7547070044632 left x point: 365.9192438475557\n",
      "Fail sanity check - roughly parallel (minimum distance) 147.83546315690745\n",
      "Fail sanity check - roughly parallel (mean distance) 162.02301274964287\n",
      "Fail sanity check - vehicle position from the lane center -1.24\n"
     ]
    },
    {
     "name": "stderr",
     "output_type": "stream",
     "text": [
      "t:  14%|█▍        | 169/1199 [00:45<03:50,  4.46it/s, now=None]"
     ]
    },
    {
     "name": "stdout",
     "output_type": "stream",
     "text": [
      "failed\n",
      "failed\n",
      "Fail sanity check - distance at the bottom 147.83546315690745 right x point: 513.7547070044632 left x point: 365.9192438475557\n",
      "Fail sanity check - roughly parallel (minimum distance) 147.83546315690745\n",
      "Fail sanity check - roughly parallel (mean distance) 162.02301274964287\n",
      "Fail sanity check - vehicle position from the lane center -1.24\n"
     ]
    },
    {
     "name": "stderr",
     "output_type": "stream",
     "text": [
      "t:  14%|█▍        | 170/1199 [00:45<03:50,  4.47it/s, now=None]"
     ]
    },
    {
     "name": "stdout",
     "output_type": "stream",
     "text": [
      "failed\n",
      "failed\n",
      "Fail sanity check - distance at the bottom 147.83546315690745 right x point: 513.7547070044632 left x point: 365.9192438475557\n",
      "Fail sanity check - roughly parallel (minimum distance) 147.83546315690745\n",
      "Fail sanity check - roughly parallel (mean distance) 162.02301274964287\n",
      "Fail sanity check - vehicle position from the lane center -1.24\n"
     ]
    },
    {
     "name": "stderr",
     "output_type": "stream",
     "text": [
      "t:  14%|█▍        | 171/1199 [00:45<03:47,  4.51it/s, now=None]"
     ]
    },
    {
     "name": "stdout",
     "output_type": "stream",
     "text": [
      "failed\n",
      "failed\n",
      "Fail sanity check - distance at the bottom 147.83546315690745 right x point: 513.7547070044632 left x point: 365.9192438475557\n",
      "Fail sanity check - roughly parallel (minimum distance) 147.83546315690745\n",
      "Fail sanity check - roughly parallel (mean distance) 162.02301274964287\n",
      "Fail sanity check - vehicle position from the lane center -1.24\n"
     ]
    },
    {
     "name": "stderr",
     "output_type": "stream",
     "text": [
      "t:  14%|█▍        | 172/1199 [00:45<03:45,  4.55it/s, now=None]"
     ]
    },
    {
     "name": "stdout",
     "output_type": "stream",
     "text": [
      "failed\n",
      "failed\n",
      "Fail sanity check - distance at the bottom 147.83546315690745 right x point: 513.7547070044632 left x point: 365.9192438475557\n",
      "Fail sanity check - roughly parallel (minimum distance) 147.83546315690745\n",
      "Fail sanity check - roughly parallel (mean distance) 162.02301274964287\n",
      "Fail sanity check - vehicle position from the lane center -1.24\n"
     ]
    },
    {
     "name": "stderr",
     "output_type": "stream",
     "text": [
      "t:  14%|█▍        | 173/1199 [00:46<03:50,  4.45it/s, now=None]"
     ]
    },
    {
     "name": "stdout",
     "output_type": "stream",
     "text": [
      "failed\n",
      "failed\n",
      "Fail sanity check - distance at the bottom 147.83546315690745 right x point: 513.7547070044632 left x point: 365.9192438475557\n",
      "Fail sanity check - roughly parallel (minimum distance) 147.83546315690745\n",
      "Fail sanity check - roughly parallel (mean distance) 162.02301274964287\n",
      "Fail sanity check - vehicle position from the lane center -1.24\n"
     ]
    },
    {
     "name": "stderr",
     "output_type": "stream",
     "text": [
      "t:  15%|█▍        | 174/1199 [00:46<03:48,  4.48it/s, now=None]"
     ]
    },
    {
     "name": "stdout",
     "output_type": "stream",
     "text": [
      "failed\n",
      "failed\n",
      "Fail sanity check - distance at the bottom 147.83546315690745 right x point: 513.7547070044632 left x point: 365.9192438475557\n",
      "Fail sanity check - roughly parallel (minimum distance) 147.83546315690745\n",
      "Fail sanity check - roughly parallel (mean distance) 162.02301274964287\n",
      "Fail sanity check - vehicle position from the lane center -1.24\n"
     ]
    },
    {
     "name": "stderr",
     "output_type": "stream",
     "text": [
      "t:  15%|█▍        | 175/1199 [00:46<03:46,  4.52it/s, now=None]"
     ]
    },
    {
     "name": "stdout",
     "output_type": "stream",
     "text": [
      "failed\n",
      "failed\n",
      "Fail sanity check - distance at the bottom 147.83546315690745 right x point: 513.7547070044632 left x point: 365.9192438475557\n",
      "Fail sanity check - roughly parallel (minimum distance) 147.83546315690745\n",
      "Fail sanity check - roughly parallel (mean distance) 162.02301274964287\n",
      "Fail sanity check - vehicle position from the lane center -1.24\n"
     ]
    },
    {
     "name": "stderr",
     "output_type": "stream",
     "text": [
      "t:  15%|█▍        | 176/1199 [00:46<03:45,  4.54it/s, now=None]"
     ]
    },
    {
     "name": "stdout",
     "output_type": "stream",
     "text": [
      "failed\n",
      "failed\n",
      "Fail sanity check - distance at the bottom 147.83546315690745 right x point: 513.7547070044632 left x point: 365.9192438475557\n",
      "Fail sanity check - roughly parallel (minimum distance) 147.83546315690745\n",
      "Fail sanity check - roughly parallel (mean distance) 162.02301274964287\n",
      "Fail sanity check - vehicle position from the lane center -1.24\n"
     ]
    },
    {
     "name": "stderr",
     "output_type": "stream",
     "text": [
      "t:  15%|█▍        | 177/1199 [00:46<03:49,  4.44it/s, now=None]"
     ]
    },
    {
     "name": "stdout",
     "output_type": "stream",
     "text": [
      "failed\n",
      "failed\n",
      "Fail sanity check - distance at the bottom 147.83546315690745 right x point: 513.7547070044632 left x point: 365.9192438475557\n",
      "Fail sanity check - roughly parallel (minimum distance) 147.83546315690745\n",
      "Fail sanity check - roughly parallel (mean distance) 162.02301274964287\n",
      "Fail sanity check - vehicle position from the lane center -1.24\n"
     ]
    },
    {
     "name": "stderr",
     "output_type": "stream",
     "text": [
      "t:  15%|█▍        | 178/1199 [00:47<03:57,  4.30it/s, now=None]"
     ]
    },
    {
     "name": "stdout",
     "output_type": "stream",
     "text": [
      "failed\n",
      "failed\n",
      "Fail sanity check - distance at the bottom 147.83546315690745 right x point: 513.7547070044632 left x point: 365.9192438475557\n",
      "Fail sanity check - roughly parallel (minimum distance) 147.83546315690745\n",
      "Fail sanity check - roughly parallel (mean distance) 162.02301274964287\n",
      "Fail sanity check - vehicle position from the lane center -1.24\n"
     ]
    },
    {
     "name": "stderr",
     "output_type": "stream",
     "text": [
      "t:  15%|█▍        | 179/1199 [00:47<04:35,  3.70it/s, now=None]"
     ]
    },
    {
     "name": "stdout",
     "output_type": "stream",
     "text": [
      "failed\n",
      "failed\n",
      "Fail sanity check - distance at the bottom 147.83546315690745 right x point: 513.7547070044632 left x point: 365.9192438475557\n",
      "Fail sanity check - roughly parallel (minimum distance) 147.83546315690745\n",
      "Fail sanity check - roughly parallel (mean distance) 162.02301274964287\n",
      "Fail sanity check - vehicle position from the lane center -1.24\n"
     ]
    },
    {
     "name": "stderr",
     "output_type": "stream",
     "text": [
      "t:  15%|█▌        | 180/1199 [00:47<05:01,  3.37it/s, now=None]"
     ]
    },
    {
     "name": "stdout",
     "output_type": "stream",
     "text": [
      "failed\n",
      "failed\n",
      "Fail sanity check - distance at the bottom 147.83546315690745 right x point: 513.7547070044632 left x point: 365.9192438475557\n",
      "Fail sanity check - roughly parallel (minimum distance) 147.83546315690745\n",
      "Fail sanity check - roughly parallel (mean distance) 162.02301274964287\n",
      "Fail sanity check - vehicle position from the lane center -1.24\n"
     ]
    },
    {
     "name": "stderr",
     "output_type": "stream",
     "text": [
      "t:  15%|█▌        | 181/1199 [00:48<05:29,  3.09it/s, now=None]"
     ]
    },
    {
     "name": "stdout",
     "output_type": "stream",
     "text": [
      "failed\n",
      "failed\n",
      "Fail sanity check - distance at the bottom 147.83546315690745 right x point: 513.7547070044632 left x point: 365.9192438475557\n",
      "Fail sanity check - roughly parallel (minimum distance) 147.83546315690745\n",
      "Fail sanity check - roughly parallel (mean distance) 162.02301274964287\n",
      "Fail sanity check - vehicle position from the lane center -1.24\n"
     ]
    },
    {
     "name": "stderr",
     "output_type": "stream",
     "text": [
      "t:  15%|█▌        | 182/1199 [00:48<05:33,  3.05it/s, now=None]"
     ]
    },
    {
     "name": "stdout",
     "output_type": "stream",
     "text": [
      "failed\n",
      "failed\n",
      "Fail sanity check - distance at the bottom 147.83546315690745 right x point: 513.7547070044632 left x point: 365.9192438475557\n",
      "Fail sanity check - roughly parallel (minimum distance) 147.83546315690745\n",
      "Fail sanity check - roughly parallel (mean distance) 162.02301274964287\n",
      "Fail sanity check - vehicle position from the lane center -1.24\n"
     ]
    },
    {
     "name": "stderr",
     "output_type": "stream",
     "text": [
      "t:  15%|█▌        | 183/1199 [00:49<05:49,  2.91it/s, now=None]"
     ]
    },
    {
     "name": "stdout",
     "output_type": "stream",
     "text": [
      "failed\n",
      "failed\n",
      "Fail sanity check - distance at the bottom 147.83546315690745 right x point: 513.7547070044632 left x point: 365.9192438475557\n",
      "Fail sanity check - roughly parallel (minimum distance) 147.83546315690745\n",
      "Fail sanity check - roughly parallel (mean distance) 162.02301274964287\n",
      "Fail sanity check - vehicle position from the lane center -1.24\n"
     ]
    },
    {
     "name": "stderr",
     "output_type": "stream",
     "text": [
      "t:  15%|█▌        | 184/1199 [00:49<05:35,  3.02it/s, now=None]"
     ]
    },
    {
     "name": "stdout",
     "output_type": "stream",
     "text": [
      "failed\n",
      "failed\n",
      "Fail sanity check - distance at the bottom 147.83546315690745 right x point: 513.7547070044632 left x point: 365.9192438475557\n",
      "Fail sanity check - roughly parallel (minimum distance) 147.83546315690745\n",
      "Fail sanity check - roughly parallel (mean distance) 162.02301274964287\n",
      "Fail sanity check - vehicle position from the lane center -1.24\n"
     ]
    },
    {
     "name": "stderr",
     "output_type": "stream",
     "text": [
      "t:  15%|█▌        | 185/1199 [00:49<05:26,  3.10it/s, now=None]"
     ]
    },
    {
     "name": "stdout",
     "output_type": "stream",
     "text": [
      "failed\n",
      "failed\n",
      "Fail sanity check - distance at the bottom 147.83546315690745 right x point: 513.7547070044632 left x point: 365.9192438475557\n",
      "Fail sanity check - roughly parallel (minimum distance) 147.83546315690745\n",
      "Fail sanity check - roughly parallel (mean distance) 162.02301274964287\n",
      "Fail sanity check - vehicle position from the lane center -1.24\n"
     ]
    },
    {
     "name": "stderr",
     "output_type": "stream",
     "text": [
      "t:  16%|█▌        | 186/1199 [00:49<05:18,  3.18it/s, now=None]"
     ]
    },
    {
     "name": "stdout",
     "output_type": "stream",
     "text": [
      "failed\n",
      "failed\n",
      "Fail sanity check - distance at the bottom 147.83546315690745 right x point: 513.7547070044632 left x point: 365.9192438475557\n",
      "Fail sanity check - roughly parallel (minimum distance) 147.83546315690745\n",
      "Fail sanity check - roughly parallel (mean distance) 162.02301274964287\n",
      "Fail sanity check - vehicle position from the lane center -1.24\n"
     ]
    },
    {
     "name": "stderr",
     "output_type": "stream",
     "text": [
      "t:  16%|█▌        | 187/1199 [00:50<04:55,  3.42it/s, now=None]"
     ]
    },
    {
     "name": "stdout",
     "output_type": "stream",
     "text": [
      "failed\n",
      "failed\n",
      "Fail sanity check - distance at the bottom 147.83546315690745 right x point: 513.7547070044632 left x point: 365.9192438475557\n",
      "Fail sanity check - roughly parallel (minimum distance) 147.83546315690745\n",
      "Fail sanity check - roughly parallel (mean distance) 162.02301274964287\n",
      "Fail sanity check - vehicle position from the lane center -1.24\n"
     ]
    },
    {
     "name": "stderr",
     "output_type": "stream",
     "text": [
      "t:  16%|█▌        | 188/1199 [00:50<04:30,  3.73it/s, now=None]"
     ]
    },
    {
     "name": "stdout",
     "output_type": "stream",
     "text": [
      "failed\n",
      "failed\n",
      "Fail sanity check - distance at the bottom 147.83546315690745 right x point: 513.7547070044632 left x point: 365.9192438475557\n",
      "Fail sanity check - roughly parallel (minimum distance) 147.83546315690745\n",
      "Fail sanity check - roughly parallel (mean distance) 162.02301274964287\n",
      "Fail sanity check - vehicle position from the lane center -1.24\n"
     ]
    },
    {
     "name": "stderr",
     "output_type": "stream",
     "text": [
      "t:  16%|█▌        | 189/1199 [00:50<04:22,  3.84it/s, now=None]"
     ]
    },
    {
     "name": "stdout",
     "output_type": "stream",
     "text": [
      "failed\n",
      "Fail sanity check - distance at the bottom -24.951886282074383 right x point: 513.7547070044632 left x point: 538.7065932865376\n",
      "Fail sanity check - roughly parallel (minimum distance) -24.951886282074383\n",
      "Fail sanity check - roughly parallel (mean distance) 94.92440258490281\n"
     ]
    },
    {
     "name": "stderr",
     "output_type": "stream",
     "text": [
      "t:  16%|█▌        | 190/1199 [00:50<04:11,  4.01it/s, now=None]"
     ]
    },
    {
     "name": "stdout",
     "output_type": "stream",
     "text": [
      "Error poly fit [67.44748765  8.87757634 -0.19041513]\n",
      "failed\n",
      "Fail sanity check - distance at the bottom -8.729887979758246 right x point: 513.7547070044632 left x point: 522.4845949842214\n",
      "Fail sanity check - roughly parallel (minimum distance) -8.729887979758246\n",
      "Fail sanity check - roughly parallel (mean distance) 96.89085701776781\n"
     ]
    },
    {
     "name": "stderr",
     "output_type": "stream",
     "text": [
      "t:  16%|█▌        | 191/1199 [00:51<04:02,  4.15it/s, now=None]"
     ]
    },
    {
     "name": "stdout",
     "output_type": "stream",
     "text": [
      "failed\n",
      "failed\n",
      "Fail sanity check - distance at the bottom -8.729887979758246 right x point: 513.7547070044632 left x point: 522.4845949842214\n",
      "Fail sanity check - roughly parallel (minimum distance) -8.729887979758246\n",
      "Fail sanity check - roughly parallel (mean distance) 96.89085701776781\n"
     ]
    },
    {
     "name": "stderr",
     "output_type": "stream",
     "text": [
      "t:  16%|█▌        | 192/1199 [00:51<03:56,  4.26it/s, now=None]"
     ]
    },
    {
     "name": "stdout",
     "output_type": "stream",
     "text": [
      "failed\n",
      "failed\n",
      "Fail sanity check - distance at the bottom -8.729887979758246 right x point: 513.7547070044632 left x point: 522.4845949842214\n",
      "Fail sanity check - roughly parallel (minimum distance) -8.729887979758246\n",
      "Fail sanity check - roughly parallel (mean distance) 96.89085701776781\n"
     ]
    },
    {
     "name": "stderr",
     "output_type": "stream",
     "text": [
      "t:  16%|█▌        | 193/1199 [00:51<04:01,  4.17it/s, now=None]"
     ]
    },
    {
     "name": "stdout",
     "output_type": "stream",
     "text": [
      "failed\n",
      "Fail sanity check - distance at the bottom 113.56646703109163 right x point: 513.7547070044632 left x point: 400.18823997337154\n",
      "Fail sanity check - roughly parallel (minimum distance) 82.9241360200424\n",
      "Fail sanity check - roughly parallel (mean distance) 210.96627687123598\n",
      "Fail sanity check - vehicle position from the lane center -1.13\n"
     ]
    },
    {
     "name": "stderr",
     "output_type": "stream",
     "text": [
      "t:  16%|█▌        | 194/1199 [00:51<03:56,  4.25it/s, now=None]"
     ]
    },
    {
     "name": "stdout",
     "output_type": "stream",
     "text": [
      "failed\n",
      "Fail sanity check - distance at the bottom 146.63599642854524 right x point: 513.7547070044632 left x point: 367.11871057591793\n",
      "Fail sanity check - roughly parallel (minimum distance) 146.63599642854524\n",
      "Fail sanity check - roughly parallel (mean distance) 252.35390276766194\n",
      "Fail sanity check - vehicle position from the lane center -1.23\n"
     ]
    },
    {
     "name": "stderr",
     "output_type": "stream",
     "text": [
      "t:  16%|█▋        | 195/1199 [00:52<03:52,  4.32it/s, now=None]"
     ]
    },
    {
     "name": "stdout",
     "output_type": "stream",
     "text": [
      "failed\n",
      "failed\n",
      "Fail sanity check - distance at the bottom 146.63599642854524 right x point: 513.7547070044632 left x point: 367.11871057591793\n",
      "Fail sanity check - roughly parallel (minimum distance) 146.63599642854524\n",
      "Fail sanity check - roughly parallel (mean distance) 252.35390276766194\n",
      "Fail sanity check - vehicle position from the lane center -1.23\n"
     ]
    },
    {
     "name": "stderr",
     "output_type": "stream",
     "text": [
      "t:  16%|█▋        | 196/1199 [00:52<03:49,  4.37it/s, now=None]"
     ]
    },
    {
     "name": "stdout",
     "output_type": "stream",
     "text": [
      "failed\n",
      "failed\n",
      "Fail sanity check - distance at the bottom 146.63599642854524 right x point: 513.7547070044632 left x point: 367.11871057591793\n",
      "Fail sanity check - roughly parallel (minimum distance) 146.63599642854524\n",
      "Fail sanity check - roughly parallel (mean distance) 252.35390276766194\n",
      "Fail sanity check - vehicle position from the lane center -1.23\n"
     ]
    },
    {
     "name": "stderr",
     "output_type": "stream",
     "text": [
      "t:  16%|█▋        | 197/1199 [00:52<03:55,  4.25it/s, now=None]"
     ]
    },
    {
     "name": "stdout",
     "output_type": "stream",
     "text": [
      "failed\n",
      "test\n",
      "Fail sanity check - distance at the bottom 146.63599642854524 right x point: 513.7547070044632 left x point: 367.11871057591793\n",
      "Fail sanity check - roughly parallel (minimum distance) 146.63599642854524\n",
      "Fail sanity check - roughly parallel (mean distance) 252.35390276766194\n",
      "Fail sanity check - vehicle position from the lane center -1.23\n"
     ]
    },
    {
     "name": "stderr",
     "output_type": "stream",
     "text": [
      "t:  17%|█▋        | 198/1199 [00:52<03:52,  4.31it/s, now=None]"
     ]
    },
    {
     "name": "stdout",
     "output_type": "stream",
     "text": [
      "failed\n",
      "test\n",
      "Fail sanity check - distance at the bottom 146.63599642854524 right x point: 513.7547070044632 left x point: 367.11871057591793\n",
      "Fail sanity check - roughly parallel (minimum distance) 146.63599642854524\n",
      "Fail sanity check - roughly parallel (mean distance) 252.35390276766194\n",
      "Fail sanity check - vehicle position from the lane center -1.23\n"
     ]
    },
    {
     "name": "stderr",
     "output_type": "stream",
     "text": [
      "t:  17%|█▋        | 199/1199 [00:52<03:54,  4.27it/s, now=None]"
     ]
    },
    {
     "name": "stdout",
     "output_type": "stream",
     "text": [
      "failed\n",
      "test\n",
      "Fail sanity check - distance at the bottom 972.9582670999418 right x point: 1340.0769776758598 left x point: 367.11871057591793\n",
      "Fail sanity check - roughly parallel (minimum distance) 45.14455818662026\n",
      "Fail sanity check - roughly parallel (maximum distance) 972.9582670999418\n",
      "Fail sanity check - roughly parallel (mean distance) 446.8917602758198\n",
      "Fail sanity check - vehicle position from the lane center 1.32\n"
     ]
    },
    {
     "name": "stderr",
     "output_type": "stream",
     "text": [
      "t:  17%|█▋        | 200/1199 [00:54<08:03,  2.06it/s, now=None]"
     ]
    },
    {
     "name": "stdout",
     "output_type": "stream",
     "text": [
      "failed\n",
      "test\n",
      "Fail sanity check - curvature left curvature: 112.0 right curvature: 663.0\n",
      "Fail sanity check - distance at the bottom 2340.3266471882507 right x point: 2707.445357764169 left x point: 367.11871057591793\n",
      "Fail sanity check - roughly parallel (maximum distance) 103367.43465335273\n",
      "Fail sanity check - roughly parallel (mean distance) 31472.907303356445\n",
      "Fail sanity check - vehicle position from the lane center 5.65\n"
     ]
    },
    {
     "name": "stderr",
     "output_type": "stream",
     "text": [
      "t:  17%|█▋        | 201/1199 [00:54<06:51,  2.42it/s, now=None]"
     ]
    },
    {
     "name": "stdout",
     "output_type": "stream",
     "text": [
      "test\n",
      "Fail sanity check - curvature left curvature: 50.0 right curvature: 286.0\n",
      "Fail sanity check - distance at the bottom 11.331587911068482 right x point: 366.26782623285544 left x point: 354.93623832178696\n",
      "Fail sanity check - roughly parallel (minimum distance) -81447.59968460753\n",
      "Fail sanity check - roughly parallel (maximum distance) 941.4105268703111\n",
      "Fail sanity check - roughly parallel (mean distance) -23937.07056001927\n",
      "Fail sanity check - vehicle position from the lane center -1.8\n"
     ]
    },
    {
     "name": "stderr",
     "output_type": "stream",
     "text": [
      "t:  17%|█▋        | 202/1199 [00:54<05:56,  2.80it/s, now=None]"
     ]
    },
    {
     "name": "stdout",
     "output_type": "stream",
     "text": [
      "test\n",
      "Fail sanity check - distance at the bottom -463.2376902899107 right x point: -179.56048548576655 left x point: 283.67720480414414\n",
      "Fail sanity check - roughly parallel (minimum distance) -138773.375985056\n",
      "Fail sanity check - roughly parallel (maximum distance) 1005.0456827759698\n",
      "Fail sanity check - roughly parallel (mean distance) -41341.22194813942\n",
      "Fail sanity check - vehicle position from the lane center -3.76\n"
     ]
    },
    {
     "name": "stderr",
     "output_type": "stream",
     "text": [
      "t:  17%|█▋        | 203/1199 [00:54<05:26,  3.05it/s, now=None]"
     ]
    },
    {
     "name": "stdout",
     "output_type": "stream",
     "text": [
      "test\n",
      "Fail sanity check - curvature left curvature: 22.0 right curvature: 512.0\n",
      "Fail sanity check - distance at the bottom 1545.0324966062615 right x point: 1753.3572806636294 left x point: 208.3247840573678\n",
      "Fail sanity check - roughly parallel (maximum distance) 54999.86543537169\n",
      "Fail sanity check - roughly parallel (mean distance) 17364.23248780173\n",
      "Fail sanity check - vehicle position from the lane center 2.15\n"
     ]
    },
    {
     "name": "stderr",
     "output_type": "stream",
     "text": [
      "t:  17%|█▋        | 204/1199 [00:55<05:01,  3.30it/s, now=None]"
     ]
    },
    {
     "name": "stdout",
     "output_type": "stream",
     "text": [
      "Error poly fit [ 981.60400888 1102.75443721  -46.25495484]\n",
      "Fail sanity check - distance at the bottom 1035.5559036617706 right x point: 1209.4562527190271 left x point: 173.90034905725668\n",
      "Fail sanity check - roughly parallel (maximum distance) 1035.5559036617706\n",
      "Fail sanity check - roughly parallel (mean distance) 994.4217981254931\n"
     ]
    },
    {
     "name": "stderr",
     "output_type": "stream",
     "text": [
      "t:  17%|█▋        | 205/1199 [00:55<05:01,  3.30it/s, now=None]"
     ]
    },
    {
     "name": "stdout",
     "output_type": "stream",
     "text": [
      "Fail sanity check - vehicle position from the lane center 1.21\n"
     ]
    },
    {
     "name": "stderr",
     "output_type": "stream",
     "text": [
      "t:  17%|█▋        | 206/1199 [00:55<04:58,  3.33it/s, now=None]"
     ]
    },
    {
     "name": "stdout",
     "output_type": "stream",
     "text": [
      "Fail sanity check - vehicle position from the lane center 0.92\n"
     ]
    },
    {
     "name": "stderr",
     "output_type": "stream",
     "text": [
      "t:  19%|█▊        | 223/1199 [01:00<04:43,  3.44it/s, now=None]"
     ]
    },
    {
     "name": "stdout",
     "output_type": "stream",
     "text": [
      "Fail sanity check - curvature left curvature: 650.0 right curvature: 128.0\n"
     ]
    },
    {
     "name": "stderr",
     "output_type": "stream",
     "text": [
      "t:  19%|█▊        | 224/1199 [01:00<04:43,  3.43it/s, now=None]"
     ]
    },
    {
     "name": "stdout",
     "output_type": "stream",
     "text": [
      "Error poly fit [-59.4317759   -2.8165786   -0.53164113]\n"
     ]
    },
    {
     "name": "stderr",
     "output_type": "stream",
     "text": [
      "t:  19%|█▉        | 226/1199 [01:01<04:49,  3.36it/s, now=None]"
     ]
    },
    {
     "name": "stdout",
     "output_type": "stream",
     "text": [
      "Fail sanity check - curvature left curvature: 345.0 right curvature: 1977.0\n"
     ]
    },
    {
     "name": "stderr",
     "output_type": "stream",
     "text": [
      "t:  19%|█▉        | 227/1199 [01:01<04:48,  3.37it/s, now=None]"
     ]
    },
    {
     "name": "stdout",
     "output_type": "stream",
     "text": [
      "Fail sanity check - distance at the bottom 306.8544094111993 right x point: 1004.3074960602663 left x point: 697.453086649067\n",
      "Fail sanity check - roughly parallel (mean distance) 328.1699092244619\n",
      "Fail sanity check - vehicle position from the lane center 1.3\n"
     ]
    },
    {
     "name": "stderr",
     "output_type": "stream",
     "text": [
      "t:  19%|█▉        | 230/1199 [01:02<04:46,  3.39it/s, now=None]"
     ]
    },
    {
     "name": "stdout",
     "output_type": "stream",
     "text": [
      "Fail sanity check - roughly parallel (maximum distance) 922.3113749484995\n",
      "Fail sanity check - roughly parallel (mean distance) 726.4107099573964\n"
     ]
    },
    {
     "name": "stderr",
     "output_type": "stream",
     "text": [
      "t:  19%|█▉        | 231/1199 [01:02<04:45,  3.39it/s, now=None]"
     ]
    },
    {
     "name": "stdout",
     "output_type": "stream",
     "text": [
      "Fail sanity check - distance at the bottom 244.94705519598153 right x point: 991.949956200696 left x point: 747.0029010047144\n",
      "Fail sanity check - roughly parallel (minimum distance) 244.94705519598153\n",
      "Fail sanity check - roughly parallel (mean distance) 309.1820489919789\n",
      "Fail sanity check - vehicle position from the lane center 1.42\n"
     ]
    },
    {
     "name": "stderr",
     "output_type": "stream",
     "text": [
      "t:  19%|█▉        | 232/1199 [01:03<04:44,  3.40it/s, now=None]"
     ]
    },
    {
     "name": "stdout",
     "output_type": "stream",
     "text": [
      "Fail sanity check - distance at the bottom 264.3874762403809 right x point: 997.0870678354765 left x point: 732.6995915950956\n",
      "Fail sanity check - roughly parallel (minimum distance) 264.3874762403809\n",
      "Fail sanity check - roughly parallel (mean distance) 309.00073456279983\n",
      "Fail sanity check - vehicle position from the lane center 1.39\n"
     ]
    },
    {
     "name": "stderr",
     "output_type": "stream",
     "text": [
      "t:  19%|█▉        | 233/1199 [01:03<04:47,  3.36it/s, now=None]"
     ]
    },
    {
     "name": "stdout",
     "output_type": "stream",
     "text": [
      "Fail sanity check - curvature left curvature: 3147.0 right curvature: 279.0\n"
     ]
    },
    {
     "name": "stderr",
     "output_type": "stream",
     "text": [
      "t:  20%|█▉        | 234/1199 [01:03<05:12,  3.09it/s, now=None]"
     ]
    },
    {
     "name": "stdout",
     "output_type": "stream",
     "text": [
      "Error poly fit [  5.65473689 -16.33474682   0.03785402]\n"
     ]
    },
    {
     "name": "stderr",
     "output_type": "stream",
     "text": [
      "t:  20%|█▉        | 235/1199 [01:04<05:02,  3.19it/s, now=None]"
     ]
    },
    {
     "name": "stdout",
     "output_type": "stream",
     "text": [
      "Fail sanity check - curvature left curvature: 3805.0 right curvature: 178.0\n",
      "Fail sanity check - roughly parallel (mean distance) 721.3288785206445\n"
     ]
    },
    {
     "name": "stderr",
     "output_type": "stream",
     "text": [
      "t:  20%|█▉        | 236/1199 [01:04<05:03,  3.17it/s, now=None]"
     ]
    },
    {
     "name": "stdout",
     "output_type": "stream",
     "text": [
      "Fail sanity check - distance at the bottom 471.2870847074937 right x point: 845.3878177212903 left x point: 374.10073301379657\n",
      "Fail sanity check - roughly parallel (mean distance) 464.2037313208943\n"
     ]
    },
    {
     "name": "stderr",
     "output_type": "stream",
     "text": [
      "t:  20%|█▉        | 237/1199 [01:04<05:14,  3.06it/s, now=None]"
     ]
    },
    {
     "name": "stdout",
     "output_type": "stream",
     "text": [
      "Fail sanity check - curvature left curvature: 3394.0 right curvature: 208.0\n",
      "Fail sanity check - distance at the bottom 466.5004256501945 right x point: 842.7753819229547 left x point: 376.2749562727602\n",
      "Fail sanity check - roughly parallel (mean distance) 478.7782890665149\n"
     ]
    },
    {
     "name": "stderr",
     "output_type": "stream",
     "text": [
      "t:  20%|█▉        | 238/1199 [01:05<05:11,  3.09it/s, now=None]"
     ]
    },
    {
     "name": "stdout",
     "output_type": "stream",
     "text": [
      "Fail sanity check - curvature left curvature: 2203.0 right curvature: 167.0\n",
      "Fail sanity check - distance at the bottom 468.72813626285995 right x point: 848.0082850207148 left x point: 379.2801487578548\n"
     ]
    },
    {
     "name": "stderr",
     "output_type": "stream",
     "text": [
      "t:  20%|█▉        | 239/1199 [01:05<05:02,  3.17it/s, now=None]"
     ]
    },
    {
     "name": "stdout",
     "output_type": "stream",
     "text": [
      "Fail sanity check - curvature left curvature: 935.0 right curvature: 166.0\n",
      "Fail sanity check - distance at the bottom 479.58711547848486 right x point: 857.059777231383 left x point: 377.47266175289815\n"
     ]
    },
    {
     "name": "stderr",
     "output_type": "stream",
     "text": [
      "t:  20%|██        | 240/1199 [01:05<04:56,  3.24it/s, now=None]"
     ]
    },
    {
     "name": "stdout",
     "output_type": "stream",
     "text": [
      "Fail sanity check - curvature left curvature: 1577.0 right curvature: 159.0\n"
     ]
    },
    {
     "name": "stderr",
     "output_type": "stream",
     "text": [
      "t:  20%|██        | 241/1199 [01:06<04:57,  3.22it/s, now=None]"
     ]
    },
    {
     "name": "stdout",
     "output_type": "stream",
     "text": [
      "Fail sanity check - curvature left curvature: 776.0 right curvature: 152.0\n"
     ]
    },
    {
     "name": "stderr",
     "output_type": "stream",
     "text": [
      "t:  20%|██        | 242/1199 [01:06<05:09,  3.09it/s, now=None]"
     ]
    },
    {
     "name": "stdout",
     "output_type": "stream",
     "text": [
      "Fail sanity check - curvature left curvature: 1335.0 right curvature: 146.0\n"
     ]
    },
    {
     "name": "stderr",
     "output_type": "stream",
     "text": [
      "t:  20%|██        | 243/1199 [01:06<04:58,  3.21it/s, now=None]"
     ]
    },
    {
     "name": "stdout",
     "output_type": "stream",
     "text": [
      "failed\n",
      "Fail sanity check - curvature left curvature: 1710.0 right curvature: 146.0\n"
     ]
    },
    {
     "name": "stderr",
     "output_type": "stream",
     "text": [
      "t:  20%|██        | 244/1199 [01:07<04:48,  3.31it/s, now=None]"
     ]
    },
    {
     "name": "stdout",
     "output_type": "stream",
     "text": [
      "failed\n"
     ]
    },
    {
     "name": "stderr",
     "output_type": "stream",
     "text": [
      "t:  20%|██        | 245/1199 [01:07<04:42,  3.37it/s, now=None]"
     ]
    },
    {
     "name": "stdout",
     "output_type": "stream",
     "text": [
      "failed\n"
     ]
    },
    {
     "name": "stderr",
     "output_type": "stream",
     "text": [
      "t:  21%|██        | 246/1199 [01:07<04:41,  3.39it/s, now=None]"
     ]
    },
    {
     "name": "stdout",
     "output_type": "stream",
     "text": [
      "failed\n",
      "Fail sanity check - curvature left curvature: 832.0 right curvature: 146.0\n"
     ]
    },
    {
     "name": "stderr",
     "output_type": "stream",
     "text": [
      "t:  21%|██        | 247/1199 [01:07<04:44,  3.34it/s, now=None]"
     ]
    },
    {
     "name": "stdout",
     "output_type": "stream",
     "text": [
      "failed\n",
      "Fail sanity check - curvature left curvature: 753.0 right curvature: 146.0\n"
     ]
    },
    {
     "name": "stderr",
     "output_type": "stream",
     "text": [
      "t:  21%|██        | 248/1199 [01:08<04:40,  3.39it/s, now=None]"
     ]
    },
    {
     "name": "stdout",
     "output_type": "stream",
     "text": [
      "failed\n",
      "Fail sanity check - curvature left curvature: 1633.0 right curvature: 146.0\n"
     ]
    },
    {
     "name": "stderr",
     "output_type": "stream",
     "text": [
      "t:  21%|██        | 249/1199 [01:08<04:36,  3.44it/s, now=None]"
     ]
    },
    {
     "name": "stdout",
     "output_type": "stream",
     "text": [
      "failed\n",
      "Fail sanity check - curvature left curvature: 1024.0 right curvature: 146.0\n"
     ]
    },
    {
     "name": "stderr",
     "output_type": "stream",
     "text": [
      "t:  21%|██        | 250/1199 [01:08<04:37,  3.41it/s, now=None]"
     ]
    },
    {
     "name": "stdout",
     "output_type": "stream",
     "text": [
      "failed\n",
      "Fail sanity check - curvature left curvature: 2254.0 right curvature: 146.0\n"
     ]
    },
    {
     "name": "stderr",
     "output_type": "stream",
     "text": [
      "t:  21%|██        | 251/1199 [01:09<04:34,  3.45it/s, now=None]"
     ]
    },
    {
     "name": "stdout",
     "output_type": "stream",
     "text": [
      "failed\n"
     ]
    },
    {
     "name": "stderr",
     "output_type": "stream",
     "text": [
      "t:  21%|██        | 252/1199 [01:09<04:31,  3.49it/s, now=None]"
     ]
    },
    {
     "name": "stdout",
     "output_type": "stream",
     "text": [
      "failed\n",
      "Fail sanity check - curvature left curvature: 3423.0 right curvature: 146.0\n"
     ]
    },
    {
     "name": "stderr",
     "output_type": "stream",
     "text": [
      "t:  21%|██        | 253/1199 [01:09<04:28,  3.52it/s, now=None]"
     ]
    },
    {
     "name": "stdout",
     "output_type": "stream",
     "text": [
      "failed\n",
      "Fail sanity check - curvature left curvature: 866.0 right curvature: 146.0\n"
     ]
    },
    {
     "name": "stderr",
     "output_type": "stream",
     "text": [
      "t:  21%|██        | 254/1199 [01:09<04:31,  3.48it/s, now=None]"
     ]
    },
    {
     "name": "stdout",
     "output_type": "stream",
     "text": [
      "failed\n",
      "Fail sanity check - curvature left curvature: 879.0 right curvature: 146.0\n"
     ]
    },
    {
     "name": "stderr",
     "output_type": "stream",
     "text": [
      "t:  21%|██▏       | 255/1199 [01:10<04:30,  3.49it/s, now=None]"
     ]
    },
    {
     "name": "stdout",
     "output_type": "stream",
     "text": [
      "failed\n"
     ]
    },
    {
     "name": "stderr",
     "output_type": "stream",
     "text": [
      "t:  21%|██▏       | 256/1199 [01:10<04:29,  3.50it/s, now=None]"
     ]
    },
    {
     "name": "stdout",
     "output_type": "stream",
     "text": [
      "failed\n",
      "Fail sanity check - curvature left curvature: 1165.0 right curvature: 146.0\n"
     ]
    },
    {
     "name": "stderr",
     "output_type": "stream",
     "text": [
      "t:  21%|██▏       | 257/1199 [01:10<04:27,  3.52it/s, now=None]"
     ]
    },
    {
     "name": "stdout",
     "output_type": "stream",
     "text": [
      "failed\n",
      "Fail sanity check - curvature left curvature: 751.0 right curvature: 146.0\n"
     ]
    },
    {
     "name": "stderr",
     "output_type": "stream",
     "text": [
      "t:  22%|██▏       | 258/1199 [01:11<04:32,  3.46it/s, now=None]"
     ]
    },
    {
     "name": "stdout",
     "output_type": "stream",
     "text": [
      "failed\n",
      "Error poly fit [ 3.40321069 22.08421524  0.08177719]\n",
      "Fail sanity check - curvature left curvature: 1806.0 right curvature: 146.0\n"
     ]
    },
    {
     "name": "stderr",
     "output_type": "stream",
     "text": [
      "t:  22%|██▏       | 260/1199 [01:11<04:37,  3.38it/s, now=None]"
     ]
    },
    {
     "name": "stdout",
     "output_type": "stream",
     "text": [
      "Fail sanity check - curvature left curvature: 811.0 right curvature: 123.0\n"
     ]
    },
    {
     "name": "stderr",
     "output_type": "stream",
     "text": [
      "t:  22%|██▏       | 261/1199 [01:11<04:37,  3.38it/s, now=None]"
     ]
    },
    {
     "name": "stdout",
     "output_type": "stream",
     "text": [
      "Fail sanity check - curvature left curvature: 1426.0 right curvature: 173.0\n"
     ]
    },
    {
     "name": "stderr",
     "output_type": "stream",
     "text": [
      "t:  22%|██▏       | 269/1199 [01:14<04:25,  3.51it/s, now=None]"
     ]
    },
    {
     "name": "stdout",
     "output_type": "stream",
     "text": [
      "Fail sanity check - roughly parallel (mean distance) 734.5220394982541\n"
     ]
    },
    {
     "name": "stderr",
     "output_type": "stream",
     "text": [
      "t:  23%|██▎       | 270/1199 [01:14<04:21,  3.55it/s, now=None]"
     ]
    },
    {
     "name": "stdout",
     "output_type": "stream",
     "text": [
      "failed\n",
      "Error poly fit [-377.86696772   28.70460819   -0.70429425]\n",
      "Fail sanity check - roughly parallel (minimum distance) 236.2212259976851\n"
     ]
    },
    {
     "name": "stderr",
     "output_type": "stream",
     "text": [
      "t:  23%|██▎       | 271/1199 [01:14<04:20,  3.57it/s, now=None]"
     ]
    },
    {
     "name": "stdout",
     "output_type": "stream",
     "text": [
      "failed\n",
      "Fail sanity check - curvature left curvature: 3003.0 right curvature: 74.0\n",
      "Fail sanity check - roughly parallel (minimum distance) 267.90881654199825\n"
     ]
    },
    {
     "name": "stderr",
     "output_type": "stream",
     "text": [
      "t:  23%|██▎       | 272/1199 [01:15<04:18,  3.59it/s, now=None]"
     ]
    },
    {
     "name": "stdout",
     "output_type": "stream",
     "text": [
      "failed\n",
      "Fail sanity check - roughly parallel (minimum distance) 287.7500049702711\n"
     ]
    },
    {
     "name": "stderr",
     "output_type": "stream",
     "text": [
      "t:  23%|██▎       | 273/1199 [01:15<04:24,  3.50it/s, now=None]"
     ]
    },
    {
     "name": "stdout",
     "output_type": "stream",
     "text": [
      "Error poly fit [-47.71695586  -6.95997366   0.09518125]\n",
      "Fail sanity check - distance at the bottom 334.1648120638538 right x point: 920.3221888791586 left x point: 586.1573768153048\n",
      "Fail sanity check - roughly parallel (minimum distance) 111.54647262199103\n",
      "Fail sanity check - roughly parallel (mean distance) 226.72164330053565\n"
     ]
    },
    {
     "name": "stderr",
     "output_type": "stream",
     "text": [
      "t:  23%|██▎       | 274/1199 [01:15<04:26,  3.47it/s, now=None]"
     ]
    },
    {
     "name": "stdout",
     "output_type": "stream",
     "text": [
      "Fail sanity check - curvature left curvature: 426.0 right curvature: 4819.0\n",
      "Fail sanity check - distance at the bottom 352.75364758848593 right x point: 933.5970799108266 left x point: 580.8434323223406\n",
      "Fail sanity check - roughly parallel (minimum distance) 140.28759212531622\n",
      "Fail sanity check - roughly parallel (mean distance) 215.46784890653686\n"
     ]
    },
    {
     "name": "stderr",
     "output_type": "stream",
     "text": [
      "t:  23%|██▎       | 275/1199 [01:15<04:23,  3.50it/s, now=None]"
     ]
    },
    {
     "name": "stdout",
     "output_type": "stream",
     "text": [
      "failed\n",
      "Fail sanity check - curvature left curvature: 474.0 right curvature: 4819.0\n",
      "Fail sanity check - distance at the bottom 357.3675770368635 right x point: 938.2110093592041 left x point: 580.8434323223406\n",
      "Fail sanity check - roughly parallel (minimum distance) 139.3533018354567\n",
      "Fail sanity check - roughly parallel (mean distance) 220.23771409665414\n"
     ]
    },
    {
     "name": "stderr",
     "output_type": "stream",
     "text": [
      "t:  23%|██▎       | 277/1199 [01:16<04:20,  3.54it/s, now=None]"
     ]
    },
    {
     "name": "stdout",
     "output_type": "stream",
     "text": [
      "Fail sanity check - curvature left curvature: 296.0 right curvature: 1611.0\n"
     ]
    },
    {
     "name": "stderr",
     "output_type": "stream",
     "text": [
      "t:  23%|██▎       | 278/1199 [01:16<04:20,  3.53it/s, now=None]"
     ]
    },
    {
     "name": "stdout",
     "output_type": "stream",
     "text": [
      "failed\n"
     ]
    },
    {
     "name": "stderr",
     "output_type": "stream",
     "text": [
      "t:  24%|██▎       | 282/1199 [01:17<04:16,  3.57it/s, now=None]"
     ]
    },
    {
     "name": "stdout",
     "output_type": "stream",
     "text": [
      "Fail sanity check - roughly parallel (maximum distance) 930.5956416567087\n"
     ]
    },
    {
     "name": "stderr",
     "output_type": "stream",
     "text": [
      "t:  24%|██▎       | 283/1199 [01:18<04:12,  3.63it/s, now=None]"
     ]
    },
    {
     "name": "stdout",
     "output_type": "stream",
     "text": [
      "failed\n"
     ]
    },
    {
     "name": "stderr",
     "output_type": "stream",
     "text": [
      "t:  24%|██▎       | 284/1199 [01:18<04:00,  3.80it/s, now=None]"
     ]
    },
    {
     "name": "stdout",
     "output_type": "stream",
     "text": [
      "failed\n"
     ]
    },
    {
     "name": "stderr",
     "output_type": "stream",
     "text": [
      "t:  24%|██▍       | 285/1199 [01:18<04:05,  3.72it/s, now=None]"
     ]
    },
    {
     "name": "stdout",
     "output_type": "stream",
     "text": [
      "failed\n"
     ]
    },
    {
     "name": "stderr",
     "output_type": "stream",
     "text": [
      "t:  24%|██▍       | 286/1199 [01:18<04:00,  3.79it/s, now=None]"
     ]
    },
    {
     "name": "stdout",
     "output_type": "stream",
     "text": [
      "failed\n"
     ]
    },
    {
     "name": "stderr",
     "output_type": "stream",
     "text": [
      "t:  24%|██▍       | 287/1199 [01:19<03:50,  3.96it/s, now=None]"
     ]
    },
    {
     "name": "stdout",
     "output_type": "stream",
     "text": [
      "failed\n"
     ]
    },
    {
     "name": "stderr",
     "output_type": "stream",
     "text": [
      "t:  24%|██▍       | 288/1199 [01:19<03:41,  4.11it/s, now=None]"
     ]
    },
    {
     "name": "stdout",
     "output_type": "stream",
     "text": [
      "failed\n"
     ]
    },
    {
     "name": "stderr",
     "output_type": "stream",
     "text": [
      "t:  24%|██▍       | 289/1199 [01:19<03:46,  4.02it/s, now=None]"
     ]
    },
    {
     "name": "stdout",
     "output_type": "stream",
     "text": [
      "failed\n",
      "failed\n"
     ]
    },
    {
     "name": "stderr",
     "output_type": "stream",
     "text": [
      "t:  24%|██▍       | 290/1199 [01:19<03:51,  3.92it/s, now=None]"
     ]
    },
    {
     "name": "stdout",
     "output_type": "stream",
     "text": [
      "failed\n",
      "failed\n"
     ]
    },
    {
     "name": "stderr",
     "output_type": "stream",
     "text": [
      "t:  24%|██▍       | 291/1199 [01:20<03:41,  4.10it/s, now=None]"
     ]
    },
    {
     "name": "stdout",
     "output_type": "stream",
     "text": [
      "failed\n",
      "failed\n"
     ]
    },
    {
     "name": "stderr",
     "output_type": "stream",
     "text": [
      "t:  24%|██▍       | 292/1199 [01:20<03:38,  4.14it/s, now=None]"
     ]
    },
    {
     "name": "stdout",
     "output_type": "stream",
     "text": [
      "failed\n",
      "failed\n"
     ]
    },
    {
     "name": "stderr",
     "output_type": "stream",
     "text": [
      "t:  24%|██▍       | 293/1199 [01:20<03:38,  4.14it/s, now=None]"
     ]
    },
    {
     "name": "stdout",
     "output_type": "stream",
     "text": [
      "failed\n",
      "failed\n"
     ]
    },
    {
     "name": "stderr",
     "output_type": "stream",
     "text": [
      "t:  25%|██▍       | 294/1199 [01:20<03:37,  4.16it/s, now=None]"
     ]
    },
    {
     "name": "stdout",
     "output_type": "stream",
     "text": [
      "failed\n",
      "Error poly fit [21.89466291 25.29354667 -0.26804745]\n",
      "Fail sanity check - curvature left curvature: 2893.0 right curvature: 207.0\n"
     ]
    },
    {
     "name": "stderr",
     "output_type": "stream",
     "text": [
      "t:  25%|██▍       | 295/1199 [01:21<03:44,  4.03it/s, now=None]"
     ]
    },
    {
     "name": "stdout",
     "output_type": "stream",
     "text": [
      "failed\n",
      "failed\n",
      "Fail sanity check - curvature left curvature: 2893.0 right curvature: 207.0\n"
     ]
    },
    {
     "name": "stderr",
     "output_type": "stream",
     "text": [
      "t:  25%|██▍       | 296/1199 [01:21<03:39,  4.12it/s, now=None]"
     ]
    },
    {
     "name": "stdout",
     "output_type": "stream",
     "text": [
      "failed\n"
     ]
    },
    {
     "name": "stderr",
     "output_type": "stream",
     "text": [
      "t:  25%|██▍       | 297/1199 [01:21<03:47,  3.96it/s, now=None]"
     ]
    },
    {
     "name": "stdout",
     "output_type": "stream",
     "text": [
      "failed\n"
     ]
    },
    {
     "name": "stderr",
     "output_type": "stream",
     "text": [
      "t:  25%|██▍       | 298/1199 [01:21<03:54,  3.84it/s, now=None]"
     ]
    },
    {
     "name": "stdout",
     "output_type": "stream",
     "text": [
      "failed\n",
      "failed\n"
     ]
    },
    {
     "name": "stderr",
     "output_type": "stream",
     "text": [
      "t:  25%|██▍       | 299/1199 [01:22<03:51,  3.88it/s, now=None]"
     ]
    },
    {
     "name": "stdout",
     "output_type": "stream",
     "text": [
      "Fail sanity check - curvature left curvature: 112.0 right curvature: 863.0\n"
     ]
    },
    {
     "name": "stderr",
     "output_type": "stream",
     "text": [
      "t:  25%|██▌       | 300/1199 [01:23<08:23,  1.79it/s, now=None]"
     ]
    },
    {
     "name": "stdout",
     "output_type": "stream",
     "text": [
      "Fail sanity check - curvature left curvature: 122.0 right curvature: 839.0\n"
     ]
    },
    {
     "name": "stderr",
     "output_type": "stream",
     "text": [
      "t:  25%|██▌       | 301/1199 [01:23<06:57,  2.15it/s, now=None]"
     ]
    },
    {
     "name": "stdout",
     "output_type": "stream",
     "text": [
      "Fail sanity check - curvature left curvature: 130.0 right curvature: 1774.0\n"
     ]
    },
    {
     "name": "stderr",
     "output_type": "stream",
     "text": [
      "t:  25%|██▌       | 302/1199 [01:23<06:07,  2.44it/s, now=None]"
     ]
    },
    {
     "name": "stdout",
     "output_type": "stream",
     "text": [
      "Error poly fit [-28.80652483  -0.61699282   0.19260563]\n",
      "failed\n"
     ]
    },
    {
     "name": "stderr",
     "output_type": "stream",
     "text": [
      "t:  25%|██▌       | 303/1199 [01:24<05:31,  2.70it/s, now=None]"
     ]
    },
    {
     "name": "stdout",
     "output_type": "stream",
     "text": [
      "failed\n"
     ]
    },
    {
     "name": "stderr",
     "output_type": "stream",
     "text": [
      "t:  25%|██▌       | 304/1199 [01:24<05:05,  2.93it/s, now=None]"
     ]
    },
    {
     "name": "stdout",
     "output_type": "stream",
     "text": [
      "Fail sanity check - curvature left curvature: 168.0 right curvature: 1277.0\n"
     ]
    },
    {
     "name": "stderr",
     "output_type": "stream",
     "text": [
      "t:  25%|██▌       | 305/1199 [01:24<04:52,  3.05it/s, now=None]"
     ]
    },
    {
     "name": "stdout",
     "output_type": "stream",
     "text": [
      "failed\n",
      "Fail sanity check - curvature left curvature: 168.0 right curvature: 2568.0\n"
     ]
    },
    {
     "name": "stderr",
     "output_type": "stream",
     "text": [
      "t:  26%|██▌       | 306/1199 [01:25<04:39,  3.20it/s, now=None]"
     ]
    },
    {
     "name": "stdout",
     "output_type": "stream",
     "text": [
      "failed\n"
     ]
    },
    {
     "name": "stderr",
     "output_type": "stream",
     "text": [
      "t:  26%|██▌       | 308/1199 [01:25<04:16,  3.47it/s, now=None]"
     ]
    },
    {
     "name": "stdout",
     "output_type": "stream",
     "text": [
      "Fail sanity check - roughly parallel (maximum distance) 944.4936431335432\n"
     ]
    },
    {
     "name": "stderr",
     "output_type": "stream",
     "text": [
      "t:  27%|██▋       | 319/1199 [01:28<03:49,  3.83it/s, now=None]"
     ]
    },
    {
     "name": "stdout",
     "output_type": "stream",
     "text": [
      "Fail sanity check - roughly parallel (maximum distance) 905.1618966133764\n"
     ]
    },
    {
     "name": "stderr",
     "output_type": "stream",
     "text": [
      "t:  27%|██▋       | 320/1199 [01:28<03:47,  3.86it/s, now=None]"
     ]
    },
    {
     "name": "stdout",
     "output_type": "stream",
     "text": [
      "failed\n",
      "failed\n",
      "Fail sanity check - roughly parallel (maximum distance) 905.1618966133764\n"
     ]
    },
    {
     "name": "stderr",
     "output_type": "stream",
     "text": [
      "t:  27%|██▋       | 321/1199 [01:28<03:35,  4.08it/s, now=None]"
     ]
    },
    {
     "name": "stdout",
     "output_type": "stream",
     "text": [
      "failed\n",
      "failed\n",
      "Fail sanity check - roughly parallel (maximum distance) 905.1618966133764\n"
     ]
    },
    {
     "name": "stderr",
     "output_type": "stream",
     "text": [
      "t:  27%|██▋       | 322/1199 [01:29<03:35,  4.07it/s, now=None]"
     ]
    },
    {
     "name": "stdout",
     "output_type": "stream",
     "text": [
      "failed\n",
      "failed\n",
      "Fail sanity check - roughly parallel (maximum distance) 905.1618966133764\n"
     ]
    },
    {
     "name": "stderr",
     "output_type": "stream",
     "text": [
      "t:  27%|██▋       | 323/1199 [01:29<03:30,  4.17it/s, now=None]"
     ]
    },
    {
     "name": "stdout",
     "output_type": "stream",
     "text": [
      "failed\n",
      "failed\n",
      "Fail sanity check - roughly parallel (maximum distance) 905.1618966133764\n"
     ]
    },
    {
     "name": "stderr",
     "output_type": "stream",
     "text": [
      "t:  27%|██▋       | 324/1199 [01:29<03:26,  4.23it/s, now=None]"
     ]
    },
    {
     "name": "stdout",
     "output_type": "stream",
     "text": [
      "failed\n",
      "Error poly fit [-11.01105701 -13.71837861  -0.446316  ]\n"
     ]
    },
    {
     "name": "stderr",
     "output_type": "stream",
     "text": [
      "t:  27%|██▋       | 325/1199 [01:29<03:24,  4.28it/s, now=None]"
     ]
    },
    {
     "name": "stdout",
     "output_type": "stream",
     "text": [
      "failed\n",
      "failed\n"
     ]
    },
    {
     "name": "stderr",
     "output_type": "stream",
     "text": [
      "t:  27%|██▋       | 326/1199 [01:30<03:21,  4.34it/s, now=None]"
     ]
    },
    {
     "name": "stdout",
     "output_type": "stream",
     "text": [
      "failed\n",
      "failed\n"
     ]
    },
    {
     "name": "stderr",
     "output_type": "stream",
     "text": [
      "t:  27%|██▋       | 327/1199 [01:30<03:17,  4.41it/s, now=None]"
     ]
    },
    {
     "name": "stdout",
     "output_type": "stream",
     "text": [
      "failed\n",
      "test\n"
     ]
    },
    {
     "name": "stderr",
     "output_type": "stream",
     "text": [
      "t:  27%|██▋       | 328/1199 [01:30<03:15,  4.45it/s, now=None]"
     ]
    },
    {
     "name": "stdout",
     "output_type": "stream",
     "text": [
      "failed\n",
      "test\n"
     ]
    },
    {
     "name": "stderr",
     "output_type": "stream",
     "text": [
      "t:  27%|██▋       | 329/1199 [01:30<03:16,  4.42it/s, now=None]"
     ]
    },
    {
     "name": "stdout",
     "output_type": "stream",
     "text": [
      "failed\n",
      "test\n"
     ]
    },
    {
     "name": "stderr",
     "output_type": "stream",
     "text": [
      "t:  28%|██▊       | 330/1199 [01:31<03:17,  4.41it/s, now=None]"
     ]
    },
    {
     "name": "stdout",
     "output_type": "stream",
     "text": [
      "failed\n",
      "test\n"
     ]
    },
    {
     "name": "stderr",
     "output_type": "stream",
     "text": [
      "t:  28%|██▊       | 331/1199 [01:31<03:15,  4.45it/s, now=None]"
     ]
    },
    {
     "name": "stdout",
     "output_type": "stream",
     "text": [
      "failed\n",
      "test\n",
      "Fail sanity check - curvature left curvature: 15.0 right curvature: 214.0\n",
      "Fail sanity check - distance at the bottom 397.3207601983369 right x point: 804.4774441470854 left x point: 407.1566839487485\n",
      "Fail sanity check - roughly parallel (minimum distance) -15872.680972044982\n",
      "Fail sanity check - roughly parallel (mean distance) -3961.295075807824\n"
     ]
    },
    {
     "name": "stderr",
     "output_type": "stream",
     "text": [
      "t:  28%|██▊       | 332/1199 [01:31<03:15,  4.43it/s, now=None]"
     ]
    },
    {
     "name": "stdout",
     "output_type": "stream",
     "text": [
      "failed\n",
      "test\n",
      "Fail sanity check - curvature left curvature: 7.0 right curvature: 214.0\n",
      "Fail sanity check - distance at the bottom 993.0006392494117 right x point: 1400.1573231981602 left x point: 407.1566839487485\n",
      "Fail sanity check - roughly parallel (maximum distance) 19020.94253540118\n",
      "Fail sanity check - roughly parallel (mean distance) 6362.794749873008\n",
      "Fail sanity check - vehicle position from the lane center 1.64\n"
     ]
    },
    {
     "name": "stderr",
     "output_type": "stream",
     "text": [
      "t:  28%|██▊       | 333/1199 [01:31<03:18,  4.37it/s, now=None]"
     ]
    },
    {
     "name": "stdout",
     "output_type": "stream",
     "text": [
      "failed\n",
      "test\n",
      "Fail sanity check - curvature left curvature: 31.0 right curvature: 214.0\n",
      "Fail sanity check - distance at the bottom 1511.4350195323943 right x point: 1918.5917034811428 left x point: 407.1566839487485\n",
      "Fail sanity check - roughly parallel (maximum distance) 67106.04667927796\n",
      "Fail sanity check - roughly parallel (mean distance) 20916.69270710515\n",
      "Fail sanity check - vehicle position from the lane center 3.29\n"
     ]
    },
    {
     "name": "stderr",
     "output_type": "stream",
     "text": [
      "t:  28%|██▊       | 334/1199 [01:31<03:18,  4.36it/s, now=None]"
     ]
    },
    {
     "name": "stdout",
     "output_type": "stream",
     "text": [
      "failed\n",
      "test\n",
      "Fail sanity check - curvature left curvature: 6.0 right curvature: 214.0\n",
      "Fail sanity check - distance at the bottom 809.1940558176404 right x point: 1216.3507397663889 left x point: 407.1566839487485\n",
      "Fail sanity check - roughly parallel (maximum distance) 12835.5239409172\n",
      "Fail sanity check - roughly parallel (mean distance) 4661.76230584126\n",
      "Fail sanity check - vehicle position from the lane center 1.06\n"
     ]
    },
    {
     "name": "stderr",
     "output_type": "stream",
     "text": [
      "t:  28%|██▊       | 335/1199 [01:32<03:18,  4.34it/s, now=None]"
     ]
    },
    {
     "name": "stdout",
     "output_type": "stream",
     "text": [
      "failed\n",
      "test\n",
      "Fail sanity check - curvature left curvature: 12.0 right curvature: 214.0\n",
      "Fail sanity check - roughly parallel (minimum distance) -15057.154797927336\n",
      "Fail sanity check - roughly parallel (mean distance) -3784.424740700808\n"
     ]
    },
    {
     "name": "stderr",
     "output_type": "stream",
     "text": [
      "t:  28%|██▊       | 336/1199 [01:32<03:21,  4.28it/s, now=None]"
     ]
    },
    {
     "name": "stdout",
     "output_type": "stream",
     "text": [
      "failed\n",
      "test\n",
      "Fail sanity check - curvature left curvature: 5.0 right curvature: 214.0\n",
      "Fail sanity check - distance at the bottom 931.5015433657948 right x point: 1338.6582273145432 left x point: 407.1566839487485\n",
      "Fail sanity check - roughly parallel (maximum distance) 20541.681089332335\n",
      "Fail sanity check - roughly parallel (mean distance) 6958.0723719789\n",
      "Fail sanity check - vehicle position from the lane center 1.45\n"
     ]
    },
    {
     "name": "stderr",
     "output_type": "stream",
     "text": [
      "t:  28%|██▊       | 337/1199 [01:32<03:19,  4.33it/s, now=None]"
     ]
    },
    {
     "name": "stdout",
     "output_type": "stream",
     "text": [
      "failed\n",
      "test\n",
      "Error poly fit [-45.60210802  95.391461   -49.739703  ]\n",
      "Fail sanity check - distance at the bottom 961.725052024819 right x point: 1368.8817359735674 left x point: 407.1566839487485\n",
      "Fail sanity check - roughly parallel (minimum distance) -307.5444176920161\n",
      "Fail sanity check - roughly parallel (maximum distance) 961.725052024819\n",
      "Fail sanity check - roughly parallel (mean distance) 301.3916226005659\n",
      "Fail sanity check - vehicle position from the lane center 1.54\n"
     ]
    },
    {
     "name": "stderr",
     "output_type": "stream",
     "text": [
      "t:  28%|██▊       | 338/1199 [01:32<03:21,  4.27it/s, now=None]"
     ]
    },
    {
     "name": "stdout",
     "output_type": "stream",
     "text": [
      "failed\n",
      "test\n",
      "Fail sanity check - distance at the bottom 961.725052024819 right x point: 1368.8817359735674 left x point: 407.1566839487485\n",
      "Fail sanity check - roughly parallel (minimum distance) -307.5444176920161\n",
      "Fail sanity check - roughly parallel (maximum distance) 961.725052024819\n",
      "Fail sanity check - roughly parallel (mean distance) 301.3916226005659\n",
      "Fail sanity check - vehicle position from the lane center 1.54\n"
     ]
    },
    {
     "name": "stderr",
     "output_type": "stream",
     "text": [
      "t:  28%|██▊       | 339/1199 [01:33<03:22,  4.24it/s, now=None]"
     ]
    },
    {
     "name": "stdout",
     "output_type": "stream",
     "text": [
      "failed\n",
      "test\n",
      "Fail sanity check - distance at the bottom 961.725052024819 right x point: 1368.8817359735674 left x point: 407.1566839487485\n",
      "Fail sanity check - roughly parallel (minimum distance) -307.5444176920161\n",
      "Fail sanity check - roughly parallel (maximum distance) 961.725052024819\n",
      "Fail sanity check - roughly parallel (mean distance) 301.3916226005659\n",
      "Fail sanity check - vehicle position from the lane center 1.54\n"
     ]
    },
    {
     "name": "stderr",
     "output_type": "stream",
     "text": [
      "t:  28%|██▊       | 340/1199 [01:33<03:26,  4.15it/s, now=None]"
     ]
    },
    {
     "name": "stdout",
     "output_type": "stream",
     "text": [
      "test\n",
      "Fail sanity check - distance at the bottom 977.7898288479007 right x point: 1368.8817359735674 left x point: 391.0919071256667\n",
      "Fail sanity check - roughly parallel (minimum distance) -260.59400483868245\n",
      "Fail sanity check - roughly parallel (maximum distance) 977.7898288479007\n",
      "Fail sanity check - roughly parallel (mean distance) 243.32139410621292\n",
      "Fail sanity check - vehicle position from the lane center 1.48\n"
     ]
    },
    {
     "name": "stderr",
     "output_type": "stream",
     "text": [
      "t:  28%|██▊       | 341/1199 [01:33<03:30,  4.08it/s, now=None]"
     ]
    },
    {
     "name": "stdout",
     "output_type": "stream",
     "text": [
      "failed\n",
      "test\n",
      "Fail sanity check - distance at the bottom 977.7898288479007 right x point: 1368.8817359735674 left x point: 391.0919071256667\n",
      "Fail sanity check - roughly parallel (minimum distance) -260.59400483868245\n",
      "Fail sanity check - roughly parallel (maximum distance) 977.7898288479007\n",
      "Fail sanity check - roughly parallel (mean distance) 243.32139410621292\n",
      "Fail sanity check - vehicle position from the lane center 1.48\n"
     ]
    },
    {
     "name": "stderr",
     "output_type": "stream",
     "text": [
      "t:  29%|██▊       | 342/1199 [01:33<03:24,  4.20it/s, now=None]"
     ]
    },
    {
     "name": "stdout",
     "output_type": "stream",
     "text": [
      "failed\n",
      "test\n",
      "Fail sanity check - distance at the bottom 977.7898288479007 right x point: 1368.8817359735674 left x point: 391.0919071256667\n",
      "Fail sanity check - roughly parallel (minimum distance) -260.59400483868245\n",
      "Fail sanity check - roughly parallel (maximum distance) 977.7898288479007\n",
      "Fail sanity check - roughly parallel (mean distance) 243.32139410621292\n",
      "Fail sanity check - vehicle position from the lane center 1.48\n"
     ]
    },
    {
     "name": "stderr",
     "output_type": "stream",
     "text": [
      "t:  29%|██▊       | 343/1199 [01:34<03:21,  4.25it/s, now=None]"
     ]
    },
    {
     "name": "stdout",
     "output_type": "stream",
     "text": [
      "failed\n",
      "test\n",
      "Fail sanity check - distance at the bottom 977.7898288479007 right x point: 1368.8817359735674 left x point: 391.0919071256667\n",
      "Fail sanity check - roughly parallel (minimum distance) -260.59400483868245\n",
      "Fail sanity check - roughly parallel (maximum distance) 977.7898288479007\n",
      "Fail sanity check - roughly parallel (mean distance) 243.32139410621292\n",
      "Fail sanity check - vehicle position from the lane center 1.48\n"
     ]
    },
    {
     "name": "stderr",
     "output_type": "stream",
     "text": [
      "t:  29%|██▊       | 344/1199 [01:34<03:27,  4.13it/s, now=None]"
     ]
    },
    {
     "name": "stdout",
     "output_type": "stream",
     "text": [
      "failed\n",
      "test\n",
      "Fail sanity check - distance at the bottom 977.7898288479007 right x point: 1368.8817359735674 left x point: 391.0919071256667\n",
      "Fail sanity check - roughly parallel (minimum distance) -260.59400483868245\n",
      "Fail sanity check - roughly parallel (maximum distance) 977.7898288479007\n",
      "Fail sanity check - roughly parallel (mean distance) 243.32139410621292\n",
      "Fail sanity check - vehicle position from the lane center 1.48\n"
     ]
    },
    {
     "name": "stderr",
     "output_type": "stream",
     "text": [
      "t:  29%|██▉       | 345/1199 [01:34<03:28,  4.11it/s, now=None]"
     ]
    },
    {
     "name": "stdout",
     "output_type": "stream",
     "text": [
      "failed\n",
      "test\n",
      "Fail sanity check - distance at the bottom -749.1427950088419 right x point: -358.05088788317516 left x point: 391.0919071256667\n",
      "Fail sanity check - roughly parallel (minimum distance) -101069.19299284289\n",
      "Fail sanity check - roughly parallel (mean distance) -29514.78623716629\n",
      "Fail sanity check - vehicle position from the lane center -3.97\n"
     ]
    },
    {
     "name": "stderr",
     "output_type": "stream",
     "text": [
      "t:  29%|██▉       | 346/1199 [01:34<03:25,  4.15it/s, now=None]"
     ]
    },
    {
     "name": "stdout",
     "output_type": "stream",
     "text": [
      "failed\n",
      "test\n",
      "Fail sanity check - curvature left curvature: 15.0 right curvature: 373.0\n",
      "Fail sanity check - distance at the bottom 421.6216875588125 right x point: 812.7135946844792 left x point: 391.0919071256667\n",
      "Fail sanity check - roughly parallel (minimum distance) -30615.00869497832\n",
      "Fail sanity check - roughly parallel (mean distance) -8641.46193475725\n"
     ]
    },
    {
     "name": "stderr",
     "output_type": "stream",
     "text": [
      "t:  29%|██▉       | 347/1199 [01:35<03:30,  4.05it/s, now=None]"
     ]
    },
    {
     "name": "stdout",
     "output_type": "stream",
     "text": [
      "failed\n",
      "test\n",
      "Fail sanity check - curvature left curvature: 33.0 right curvature: 373.0\n",
      "Fail sanity check - distance at the bottom 160.65036433184832 right x point: 551.742271457515 left x point: 391.0919071256667\n",
      "Fail sanity check - roughly parallel (minimum distance) -64260.17463573297\n",
      "Fail sanity check - roughly parallel (mean distance) -18915.942070102254\n",
      "Fail sanity check - vehicle position from the lane center -1.11\n"
     ]
    },
    {
     "name": "stderr",
     "output_type": "stream",
     "text": [
      "t:  29%|██▉       | 348/1199 [01:35<03:35,  3.95it/s, now=None]"
     ]
    },
    {
     "name": "stdout",
     "output_type": "stream",
     "text": [
      "failed\n",
      "test\n",
      "Fail sanity check - curvature left curvature: 10.0 right curvature: 373.0\n",
      "Fail sanity check - distance at the bottom 733.0604969459991 right x point: 1124.1524040716658 left x point: 391.0919071256667\n",
      "Fail sanity check - roughly parallel (minimum distance) -6507.342518763606\n",
      "Fail sanity check - roughly parallel (mean distance) -1435.6770119198636\n"
     ]
    },
    {
     "name": "stderr",
     "output_type": "stream",
     "text": [
      "t:  29%|██▉       | 349/1199 [01:35<03:36,  3.92it/s, now=None]"
     ]
    },
    {
     "name": "stdout",
     "output_type": "stream",
     "text": [
      "failed\n",
      "test\n",
      "Fail sanity check - curvature left curvature: 11.0 right curvature: 373.0\n",
      "Fail sanity check - distance at the bottom 837.0979201988876 right x point: 1228.1898273245542 left x point: 391.0919071256667\n",
      "Fail sanity check - roughly parallel (maximum distance) 6792.378632856103\n",
      "Fail sanity check - roughly parallel (mean distance) 2625.016322426474\n",
      "Fail sanity check - vehicle position from the lane center 1.05\n"
     ]
    },
    {
     "name": "stderr",
     "output_type": "stream",
     "text": [
      "t:  29%|██▉       | 350/1199 [01:35<03:43,  3.80it/s, now=None]"
     ]
    },
    {
     "name": "stdout",
     "output_type": "stream",
     "text": [
      "failed\n",
      "test\n",
      "Fail sanity check - curvature left curvature: 32.0 right curvature: 373.0\n",
      "Fail sanity check - distance at the bottom 762.6431473975713 right x point: 1153.735054523238 left x point: 391.0919071256667\n",
      "Fail sanity check - roughly parallel (maximum distance) 3392.5007452062764\n",
      "Fail sanity check - roughly parallel (mean distance) 1656.7847318906836\n",
      "Fail sanity check - vehicle position from the lane center 0.81\n"
     ]
    },
    {
     "name": "stderr",
     "output_type": "stream",
     "text": [
      "t:  29%|██▉       | 351/1199 [01:36<03:55,  3.59it/s, now=None]"
     ]
    },
    {
     "name": "stdout",
     "output_type": "stream",
     "text": [
      "failed\n",
      "test\n",
      "Fail sanity check - curvature left curvature: 10.0 right curvature: 373.0\n",
      "Fail sanity check - roughly parallel (minimum distance) -26445.445569962958\n",
      "Fail sanity check - roughly parallel (mean distance) -7514.014578356241\n"
     ]
    },
    {
     "name": "stderr",
     "output_type": "stream",
     "text": [
      "t:  29%|██▉       | 352/1199 [01:36<03:48,  3.71it/s, now=None]"
     ]
    },
    {
     "name": "stdout",
     "output_type": "stream",
     "text": [
      "failed\n",
      "failed\n",
      "Fail sanity check - curvature left curvature: 10.0 right curvature: 373.0\n",
      "Fail sanity check - roughly parallel (minimum distance) -26445.445569962958\n",
      "Fail sanity check - roughly parallel (mean distance) -7514.014578356241\n"
     ]
    },
    {
     "name": "stderr",
     "output_type": "stream",
     "text": [
      "t:  29%|██▉       | 353/1199 [01:36<03:41,  3.81it/s, now=None]"
     ]
    },
    {
     "name": "stdout",
     "output_type": "stream",
     "text": [
      "failed\n",
      "failed\n",
      "Fail sanity check - curvature left curvature: 10.0 right curvature: 373.0\n",
      "Fail sanity check - roughly parallel (minimum distance) -26445.445569962958\n",
      "Fail sanity check - roughly parallel (mean distance) -7514.014578356241\n"
     ]
    },
    {
     "name": "stderr",
     "output_type": "stream",
     "text": [
      "t:  30%|██▉       | 354/1199 [01:36<03:38,  3.86it/s, now=None]"
     ]
    },
    {
     "name": "stdout",
     "output_type": "stream",
     "text": [
      "failed\n",
      "test\n",
      "Fail sanity check - curvature left curvature: 8.0 right curvature: 373.0\n",
      "Fail sanity check - roughly parallel (minimum distance) -12697.419119269915\n",
      "Fail sanity check - roughly parallel (mean distance) -3329.0316964648696\n"
     ]
    },
    {
     "name": "stderr",
     "output_type": "stream",
     "text": [
      "t:  30%|██▉       | 355/1199 [01:37<03:34,  3.94it/s, now=None]"
     ]
    },
    {
     "name": "stdout",
     "output_type": "stream",
     "text": [
      "failed\n",
      "failed\n",
      "Fail sanity check - curvature left curvature: 8.0 right curvature: 373.0\n",
      "Fail sanity check - roughly parallel (minimum distance) -12697.419119269915\n",
      "Fail sanity check - roughly parallel (mean distance) -3329.0316964648696\n"
     ]
    },
    {
     "name": "stderr",
     "output_type": "stream",
     "text": [
      "t:  30%|██▉       | 356/1199 [01:37<03:32,  3.97it/s, now=None]"
     ]
    },
    {
     "name": "stdout",
     "output_type": "stream",
     "text": [
      "failed\n",
      "Error poly fit [234.98398933 254.01209974  11.41448242]\n"
     ]
    },
    {
     "name": "stderr",
     "output_type": "stream",
     "text": [
      "t:  30%|██▉       | 357/1199 [01:37<03:34,  3.93it/s, now=None]"
     ]
    },
    {
     "name": "stdout",
     "output_type": "stream",
     "text": [
      "failed\n",
      "failed\n"
     ]
    },
    {
     "name": "stderr",
     "output_type": "stream",
     "text": [
      "t:  30%|██▉       | 358/1199 [01:37<03:32,  3.96it/s, now=None]"
     ]
    },
    {
     "name": "stdout",
     "output_type": "stream",
     "text": [
      "Fail sanity check - distance at the bottom 762.9867296500086 right x point: 1124.083686870595 left x point: 361.0969572205865\n"
     ]
    },
    {
     "name": "stderr",
     "output_type": "stream",
     "text": [
      "t:  30%|██▉       | 359/1199 [01:38<03:42,  3.77it/s, now=None]"
     ]
    },
    {
     "name": "stdout",
     "output_type": "stream",
     "text": [
      "Fail sanity check - distance at the bottom 762.0248692084523 right x point: 1123.0159223723797 left x point: 360.9910531639274\n",
      "Fail sanity check - roughly parallel (mean distance) 725.5552017591713\n"
     ]
    },
    {
     "name": "stderr",
     "output_type": "stream",
     "text": [
      "t:  30%|███       | 360/1199 [01:38<03:46,  3.71it/s, now=None]"
     ]
    },
    {
     "name": "stdout",
     "output_type": "stream",
     "text": [
      "failed\n",
      "Fail sanity check - distance at the bottom 735.0956939339125 right x point: 1096.0867470978399 left x point: 360.9910531639274\n"
     ]
    },
    {
     "name": "stderr",
     "output_type": "stream",
     "text": [
      "t:  30%|███       | 361/1199 [01:38<03:44,  3.73it/s, now=None]"
     ]
    },
    {
     "name": "stdout",
     "output_type": "stream",
     "text": [
      "failed\n",
      "test\n",
      "Fail sanity check - curvature left curvature: 6.0 right curvature: 169.0\n",
      "Fail sanity check - distance at the bottom 1026.8277044348993 right x point: 1387.8187575988268 left x point: 360.9910531639274\n",
      "Fail sanity check - roughly parallel (maximum distance) 23035.87306827382\n",
      "Fail sanity check - roughly parallel (mean distance) 7625.319079680985\n",
      "Fail sanity check - vehicle position from the lane center 1.46\n"
     ]
    },
    {
     "name": "stderr",
     "output_type": "stream",
     "text": [
      "t:  30%|███       | 362/1199 [01:39<03:37,  3.85it/s, now=None]"
     ]
    },
    {
     "name": "stdout",
     "output_type": "stream",
     "text": [
      "test\n",
      "Fail sanity check - curvature left curvature: 5.0 right curvature: 85.0\n",
      "Fail sanity check - roughly parallel (maximum distance) 21325.927069709112\n",
      "Fail sanity check - roughly parallel (mean distance) 7118.630701468136\n",
      "Fail sanity check - vehicle position from the lane center 2.18\n"
     ]
    },
    {
     "name": "stderr",
     "output_type": "stream",
     "text": [
      "t:  30%|███       | 363/1199 [01:39<03:37,  3.85it/s, now=None]"
     ]
    },
    {
     "name": "stdout",
     "output_type": "stream",
     "text": [
      "test\n",
      "Fail sanity check - distance at the bottom -834.9724357266974 right x point: -273.4791601211182 left x point: 561.4932756055792\n",
      "Fail sanity check - roughly parallel (minimum distance) -177007.05660915867\n",
      "Fail sanity check - roughly parallel (mean distance) -53593.109542458056\n",
      "Fail sanity check - vehicle position from the lane center -3.21\n"
     ]
    },
    {
     "name": "stderr",
     "output_type": "stream",
     "text": [
      "t:  30%|███       | 364/1199 [01:39<03:30,  3.97it/s, now=None]"
     ]
    },
    {
     "name": "stdout",
     "output_type": "stream",
     "text": [
      "failed\n",
      "test\n",
      "Error poly fit [ 449.53462376 -880.17714968  430.74878736]\n",
      "Fail sanity check - distance at the bottom 759.5799693636046 right x point: 1321.0732449691839 left x point: 561.4932756055792\n",
      "Fail sanity check - roughly parallel (minimum distance) -543.6367213156102\n",
      "Fail sanity check - roughly parallel (mean distance) 138.18906768304453\n",
      "Fail sanity check - vehicle position from the lane center 1.86\n"
     ]
    },
    {
     "name": "stderr",
     "output_type": "stream",
     "text": [
      "t:  30%|███       | 365/1199 [01:39<03:25,  4.06it/s, now=None]"
     ]
    },
    {
     "name": "stdout",
     "output_type": "stream",
     "text": [
      "failed\n",
      "test\n",
      "Fail sanity check - distance at the bottom 759.5799693636046 right x point: 1321.0732449691839 left x point: 561.4932756055792\n",
      "Fail sanity check - roughly parallel (minimum distance) -543.6367213156102\n",
      "Fail sanity check - roughly parallel (mean distance) 138.18906768304453\n",
      "Fail sanity check - vehicle position from the lane center 1.86\n"
     ]
    },
    {
     "name": "stderr",
     "output_type": "stream",
     "text": [
      "t:  31%|███       | 366/1199 [01:39<03:20,  4.15it/s, now=None]"
     ]
    },
    {
     "name": "stdout",
     "output_type": "stream",
     "text": [
      "failed\n",
      "test\n",
      "Fail sanity check - distance at the bottom 759.5799693636046 right x point: 1321.0732449691839 left x point: 561.4932756055792\n",
      "Fail sanity check - roughly parallel (minimum distance) -543.6367213156102\n",
      "Fail sanity check - roughly parallel (mean distance) 138.18906768304453\n",
      "Fail sanity check - vehicle position from the lane center 1.86\n"
     ]
    },
    {
     "name": "stderr",
     "output_type": "stream",
     "text": [
      "t:  31%|███       | 367/1199 [01:40<03:28,  3.99it/s, now=None]"
     ]
    },
    {
     "name": "stdout",
     "output_type": "stream",
     "text": [
      "test\n",
      "Fail sanity check - distance at the bottom 813.0117501085733 right x point: 1321.0732449691839 left x point: 508.0614948606105\n",
      "Fail sanity check - roughly parallel (minimum distance) -234.98503818485057\n",
      "Fail sanity check - roughly parallel (mean distance) 246.04585352154206\n",
      "Fail sanity check - vehicle position from the lane center 1.7\n"
     ]
    },
    {
     "name": "stderr",
     "output_type": "stream",
     "text": [
      "t:  31%|███       | 368/1199 [01:40<03:34,  3.88it/s, now=None]"
     ]
    },
    {
     "name": "stdout",
     "output_type": "stream",
     "text": [
      "failed\n",
      "test\n",
      "Fail sanity check - distance at the bottom -3516.2290086769367 right x point: -3008.1675138163264 left x point: 508.0614948606105\n",
      "Fail sanity check - roughly parallel (minimum distance) -282404.26147111395\n",
      "Fail sanity check - roughly parallel (mean distance) -83554.76414615306\n",
      "Fail sanity check - vehicle position from the lane center -11.99\n"
     ]
    },
    {
     "name": "stderr",
     "output_type": "stream",
     "text": [
      "t:  31%|███       | 369/1199 [01:40<03:31,  3.93it/s, now=None]"
     ]
    },
    {
     "name": "stdout",
     "output_type": "stream",
     "text": [
      "test\n",
      "Error poly fit [20.46841778 19.83899915 17.8091345 ]\n",
      "Fail sanity check - curvature left curvature: 6.0 right curvature: 670.0\n",
      "Fail sanity check - distance at the bottom 874.5597159934878 right x point: 1353.6093724837629 left x point: 479.0496564902751\n",
      "Fail sanity check - roughly parallel (maximum distance) 16172.297631892428\n",
      "Fail sanity check - roughly parallel (mean distance) 5491.957742234263\n",
      "Fail sanity check - vehicle position from the lane center 1.72\n"
     ]
    },
    {
     "name": "stderr",
     "output_type": "stream",
     "text": [
      "t:  31%|███       | 370/1199 [01:41<03:37,  3.81it/s, now=None]"
     ]
    },
    {
     "name": "stdout",
     "output_type": "stream",
     "text": [
      "test\n",
      "Fail sanity check - curvature left curvature: 9.0 right curvature: 3815.0\n",
      "Fail sanity check - roughly parallel (minimum distance) -22385.736768565785\n",
      "Fail sanity check - roughly parallel (mean distance) -6211.829898396605\n"
     ]
    },
    {
     "name": "stderr",
     "output_type": "stream",
     "text": [
      "t:  31%|███       | 371/1199 [01:41<03:48,  3.62it/s, now=None]"
     ]
    },
    {
     "name": "stdout",
     "output_type": "stream",
     "text": [
      "test\n",
      "Error poly fit [-47.74164741 -56.13336987  25.72082229]\n",
      "Fail sanity check - distance at the bottom 806.3985258493832 right x point: 1197.271165831781 left x point: 390.8726399823978\n",
      "Fail sanity check - vehicle position from the lane center 0.95\n"
     ]
    },
    {
     "name": "stderr",
     "output_type": "stream",
     "text": [
      "t:  31%|███       | 372/1199 [01:41<03:55,  3.51it/s, now=None]"
     ]
    },
    {
     "name": "stdout",
     "output_type": "stream",
     "text": [
      "test\n",
      "Fail sanity check - distance at the bottom 757.360858881979 right x point: 1192.0305657146948 left x point: 434.66970683271586\n",
      "Fail sanity check - roughly parallel (maximum distance) 946.3584957548626\n",
      "Fail sanity check - roughly parallel (mean distance) 774.5538236421113\n",
      "Fail sanity check - vehicle position from the lane center 1.07\n"
     ]
    },
    {
     "name": "stderr",
     "output_type": "stream",
     "text": [
      "t:  31%|███       | 373/1199 [01:41<04:00,  3.44it/s, now=None]"
     ]
    },
    {
     "name": "stdout",
     "output_type": "stream",
     "text": [
      "test\n",
      "Fail sanity check - vehicle position from the lane center 1.06\n"
     ]
    },
    {
     "name": "stderr",
     "output_type": "stream",
     "text": [
      "t:  31%|███       | 374/1199 [01:42<04:03,  3.38it/s, now=None]"
     ]
    },
    {
     "name": "stdout",
     "output_type": "stream",
     "text": [
      "Error poly fit [11.49448666 -2.16956824 -0.07320208]\n",
      "Fail sanity check - curvature left curvature: 4106.0 right curvature: 477.0\n"
     ]
    },
    {
     "name": "stderr",
     "output_type": "stream",
     "text": [
      "t:  31%|███▏      | 375/1199 [01:42<04:09,  3.30it/s, now=None]"
     ]
    },
    {
     "name": "stdout",
     "output_type": "stream",
     "text": [
      "Fail sanity check - vehicle position from the lane center 0.8\n"
     ]
    },
    {
     "name": "stderr",
     "output_type": "stream",
     "text": [
      "t:  31%|███▏      | 376/1199 [01:42<04:07,  3.32it/s, now=None]"
     ]
    },
    {
     "name": "stdout",
     "output_type": "stream",
     "text": [
      "test\n",
      "Fail sanity check - curvature left curvature: 9.0 right curvature: 265.0\n",
      "Fail sanity check - roughly parallel (minimum distance) -14144.044866347522\n",
      "Fail sanity check - roughly parallel (mean distance) -3668.044891605958\n"
     ]
    },
    {
     "name": "stderr",
     "output_type": "stream",
     "text": [
      "t:  31%|███▏      | 377/1199 [01:43<04:08,  3.31it/s, now=None]"
     ]
    },
    {
     "name": "stdout",
     "output_type": "stream",
     "text": [
      "Error poly fit [-1.54089164e+01 -8.00149090e+00  7.37988817e-04]\n",
      "test\n",
      "Fail sanity check - curvature left curvature: 12.0 right curvature: 4307.0\n",
      "Fail sanity check - distance at the bottom 1039.372509386854 right x point: 1538.6674882961815 left x point: 499.29497890932754\n",
      "Fail sanity check - roughly parallel (maximum distance) 73331.12200252956\n",
      "Fail sanity check - roughly parallel (mean distance) 23450.451785838046\n",
      "Fail sanity check - vehicle position from the lane center 2.38\n"
     ]
    },
    {
     "name": "stderr",
     "output_type": "stream",
     "text": [
      "t:  32%|███▏      | 378/1199 [01:43<04:07,  3.32it/s, now=None]"
     ]
    },
    {
     "name": "stdout",
     "output_type": "stream",
     "text": [
      "test\n",
      "Error poly fit [-158.83350805  337.89322519 -179.5127467 ]\n",
      "Fail sanity check - curvature left curvature: 161.0 right curvature: 975.0\n",
      "Fail sanity check - distance at the bottom 923.229378194171 right x point: 1384.6896704101566 left x point: 461.4602922159856\n",
      "Fail sanity check - roughly parallel (minimum distance) -80.27172646484598\n",
      "Fail sanity check - roughly parallel (maximum distance) 923.229378194171\n",
      "Fail sanity check - roughly parallel (mean distance) 323.1299811022134\n",
      "Fail sanity check - vehicle position from the lane center 1.75\n"
     ]
    },
    {
     "name": "stderr",
     "output_type": "stream",
     "text": [
      "t:  32%|███▏      | 379/1199 [01:43<04:05,  3.34it/s, now=None]"
     ]
    },
    {
     "name": "stdout",
     "output_type": "stream",
     "text": [
      "test\n",
      "Fail sanity check - curvature left curvature: 92.0 right curvature: 1322.0\n",
      "Fail sanity check - distance at the bottom -529.8119704967316 right x point: -74.63536196887435 left x point: 455.17660852785724\n",
      "Fail sanity check - roughly parallel (minimum distance) -92606.31817928827\n",
      "Fail sanity check - roughly parallel (mean distance) -27111.90453646626\n",
      "Fail sanity check - vehicle position from the lane center -2.88\n"
     ]
    },
    {
     "name": "stderr",
     "output_type": "stream",
     "text": [
      "t:  32%|███▏      | 380/1199 [01:44<04:02,  3.37it/s, now=None]"
     ]
    },
    {
     "name": "stdout",
     "output_type": "stream",
     "text": [
      "test\n",
      "Fail sanity check - curvature left curvature: 12.0 right curvature: 3741.0\n",
      "Fail sanity check - distance at the bottom 408.18680570096393 right x point: 867.8404816176844 left x point: 459.6536759167205\n",
      "Fail sanity check - roughly parallel (minimum distance) -30264.899863986764\n",
      "Fail sanity check - roughly parallel (mean distance) -8564.069881199524\n"
     ]
    },
    {
     "name": "stderr",
     "output_type": "stream",
     "text": [
      "t:  32%|███▏      | 381/1199 [01:44<04:04,  3.34it/s, now=None]"
     ]
    },
    {
     "name": "stdout",
     "output_type": "stream",
     "text": [
      "test\n",
      "Fail sanity check - curvature left curvature: 9.0 right curvature: 657.0\n",
      "Fail sanity check - roughly parallel (minimum distance) -20169.32982647437\n",
      "Fail sanity check - roughly parallel (mean distance) -5504.418759749789\n"
     ]
    },
    {
     "name": "stderr",
     "output_type": "stream",
     "text": [
      "t:  32%|███▏      | 382/1199 [01:44<04:04,  3.34it/s, now=None]"
     ]
    },
    {
     "name": "stdout",
     "output_type": "stream",
     "text": [
      "test\n",
      "Fail sanity check - curvature left curvature: 9.0 right curvature: 1199.0\n",
      "Fail sanity check - roughly parallel (minimum distance) -20880.80786446512\n",
      "Fail sanity check - roughly parallel (mean distance) -5734.33369051782\n"
     ]
    },
    {
     "name": "stderr",
     "output_type": "stream",
     "text": [
      "t:  32%|███▏      | 383/1199 [01:44<04:03,  3.35it/s, now=None]"
     ]
    },
    {
     "name": "stdout",
     "output_type": "stream",
     "text": [
      "test\n",
      "Fail sanity check - curvature left curvature: 10.0 right curvature: 434.0\n",
      "Fail sanity check - roughly parallel (minimum distance) -7562.68837099712\n",
      "Fail sanity check - roughly parallel (mean distance) -1626.393929434616\n"
     ]
    },
    {
     "name": "stderr",
     "output_type": "stream",
     "text": [
      "t:  32%|███▏      | 384/1199 [01:45<04:01,  3.38it/s, now=None]"
     ]
    },
    {
     "name": "stdout",
     "output_type": "stream",
     "text": [
      "test\n",
      "Fail sanity check - curvature left curvature: 19.0 right curvature: 307.0\n",
      "Fail sanity check - distance at the bottom 384.42655867701575 right x point: 748.5640550927928 left x point: 364.1374964157771\n",
      "Fail sanity check - roughly parallel (minimum distance) -54402.19236817934\n",
      "Fail sanity check - roughly parallel (mean distance) -16025.287878958681\n"
     ]
    },
    {
     "name": "stderr",
     "output_type": "stream",
     "text": [
      "t:  32%|███▏      | 385/1199 [01:45<04:02,  3.35it/s, now=None]"
     ]
    },
    {
     "name": "stdout",
     "output_type": "stream",
     "text": [
      "test\n",
      "Error poly fit [11.73280556 11.53871934  9.23508469]\n",
      "Fail sanity check - curvature left curvature: 12.0 right curvature: 569.0\n",
      "Fail sanity check - distance at the bottom 875.8563319643287 right x point: 1251.2572853247693 left x point: 375.40095336044067\n",
      "Fail sanity check - roughly parallel (maximum distance) 6263.158375828159\n",
      "Fail sanity check - roughly parallel (mean distance) 2521.174178638861\n",
      "Fail sanity check - vehicle position from the lane center 1.07\n"
     ]
    },
    {
     "name": "stderr",
     "output_type": "stream",
     "text": [
      "t:  32%|███▏      | 386/1199 [01:45<04:00,  3.38it/s, now=None]"
     ]
    },
    {
     "name": "stdout",
     "output_type": "stream",
     "text": [
      "test\n",
      "Fail sanity check - curvature left curvature: 8.0 right curvature: 419.0\n",
      "Fail sanity check - roughly parallel (minimum distance) -12648.07441822999\n",
      "Fail sanity check - roughly parallel (mean distance) -3191.4061757579034\n"
     ]
    },
    {
     "name": "stderr",
     "output_type": "stream",
     "text": [
      "t:  32%|███▏      | 387/1199 [01:46<04:01,  3.36it/s, now=None]"
     ]
    },
    {
     "name": "stdout",
     "output_type": "stream",
     "text": [
      "Error poly fit [-2825.05993602  -826.53373867    14.12982684]\n"
     ]
    },
    {
     "name": "stderr",
     "output_type": "stream",
     "text": [
      "t:  32%|███▏      | 388/1199 [01:46<04:04,  3.31it/s, now=None]"
     ]
    },
    {
     "name": "stdout",
     "output_type": "stream",
     "text": [
      "Fail sanity check - curvature left curvature: 2617.0 right curvature: 326.0\n"
     ]
    },
    {
     "name": "stderr",
     "output_type": "stream",
     "text": [
      "t:  32%|███▏      | 389/1199 [01:46<04:06,  3.28it/s, now=None]"
     ]
    },
    {
     "name": "stdout",
     "output_type": "stream",
     "text": [
      "test\n",
      "Fail sanity check - curvature left curvature: 10.0 right curvature: 446.0\n",
      "Fail sanity check - roughly parallel (minimum distance) -11455.934044705618\n",
      "Fail sanity check - roughly parallel (mean distance) -2728.3472172470997\n"
     ]
    },
    {
     "name": "stderr",
     "output_type": "stream",
     "text": [
      "t:  33%|███▎      | 390/1199 [01:47<04:03,  3.32it/s, now=None]"
     ]
    },
    {
     "name": "stdout",
     "output_type": "stream",
     "text": [
      "test\n",
      "Fail sanity check - curvature left curvature: 7.0 right curvature: 1613.0\n",
      "Fail sanity check - roughly parallel (minimum distance) -18961.174858576163\n",
      "Fail sanity check - roughly parallel (mean distance) -5178.391572076891\n"
     ]
    },
    {
     "name": "stderr",
     "output_type": "stream",
     "text": [
      "t:  33%|███▎      | 391/1199 [01:47<04:05,  3.29it/s, now=None]"
     ]
    },
    {
     "name": "stdout",
     "output_type": "stream",
     "text": [
      "Error poly fit [-512.46937452 -633.3703522    16.58118233]\n",
      "Fail sanity check - distance at the bottom 821.911040755808 right x point: 1221.127501850518 left x point: 399.21646109471\n",
      "Fail sanity check - roughly parallel (mean distance) 869.1381071594337\n",
      "Fail sanity check - vehicle position from the lane center 1.05\n"
     ]
    },
    {
     "name": "stderr",
     "output_type": "stream",
     "text": [
      "t:  33%|███▎      | 392/1199 [01:47<04:09,  3.23it/s, now=None]"
     ]
    },
    {
     "name": "stdout",
     "output_type": "stream",
     "text": [
      "Fail sanity check - distance at the bottom 778.2488142415677 right x point: 1185.9494278386942 left x point: 407.7006135971265\n",
      "Fail sanity check - roughly parallel (mean distance) 834.083134667113\n",
      "Fail sanity check - vehicle position from the lane center 0.97\n"
     ]
    },
    {
     "name": "stderr",
     "output_type": "stream",
     "text": [
      "t:  33%|███▎      | 393/1199 [01:48<04:17,  3.13it/s, now=None]"
     ]
    },
    {
     "name": "stdout",
     "output_type": "stream",
     "text": [
      "Fail sanity check - roughly parallel (mean distance) 774.6487375906925\n",
      "Fail sanity check - vehicle position from the lane center 0.81\n"
     ]
    },
    {
     "name": "stderr",
     "output_type": "stream",
     "text": [
      "t:  33%|███▎      | 394/1199 [01:48<04:19,  3.10it/s, now=None]"
     ]
    },
    {
     "name": "stdout",
     "output_type": "stream",
     "text": [
      "Fail sanity check - distance at the bottom 735.6256539131487 right x point: 1111.6532921205226 left x point: 376.02763820737385\n",
      "Fail sanity check - roughly parallel (mean distance) 722.8023267830097\n"
     ]
    },
    {
     "name": "stderr",
     "output_type": "stream",
     "text": [
      "t:  33%|███▎      | 395/1199 [01:48<04:22,  3.06it/s, now=None]"
     ]
    },
    {
     "name": "stdout",
     "output_type": "stream",
     "text": [
      "Fail sanity check - roughly parallel (mean distance) 747.2636738654475\n"
     ]
    },
    {
     "name": "stderr",
     "output_type": "stream",
     "text": [
      "t:  33%|███▎      | 396/1199 [01:49<04:21,  3.08it/s, now=None]"
     ]
    },
    {
     "name": "stdout",
     "output_type": "stream",
     "text": [
      "Fail sanity check - curvature left curvature: 4663.0 right curvature: 619.0\n",
      "Fail sanity check - roughly parallel (mean distance) 734.4147202542395\n"
     ]
    },
    {
     "name": "stderr",
     "output_type": "stream",
     "text": [
      "t:  33%|███▎      | 397/1199 [01:49<04:21,  3.07it/s, now=None]"
     ]
    },
    {
     "name": "stdout",
     "output_type": "stream",
     "text": [
      "Error poly fit [ -0.38895472 -24.52468197  -0.12164352]\n",
      "Fail sanity check - distance at the bottom 753.0016355367711 right x point: 1147.7266426712727 left x point: 394.72500713450154\n",
      "Fail sanity check - roughly parallel (mean distance) 802.4865801432342\n",
      "Fail sanity check - vehicle position from the lane center 0.81\n"
     ]
    },
    {
     "name": "stderr",
     "output_type": "stream",
     "text": [
      "t:  33%|███▎      | 398/1199 [01:49<04:19,  3.09it/s, now=None]"
     ]
    },
    {
     "name": "stdout",
     "output_type": "stream",
     "text": [
      "test\n",
      "Fail sanity check - distance at the bottom 792.4230698861049 right x point: 1179.8760410947434 left x point: 387.4529712086384\n",
      "Fail sanity check - roughly parallel (maximum distance) 932.3596703813657\n",
      "Fail sanity check - roughly parallel (mean distance) 845.8686696246913\n",
      "Fail sanity check - vehicle position from the lane center 0.89\n"
     ]
    },
    {
     "name": "stderr",
     "output_type": "stream",
     "text": [
      "t:  33%|███▎      | 399/1199 [01:49<04:17,  3.10it/s, now=None]"
     ]
    },
    {
     "name": "stdout",
     "output_type": "stream",
     "text": [
      "Error poly fit [12.53036005  5.67670414 -0.11679012]\n",
      "Fail sanity check - curvature left curvature: 4951.0 right curvature: 665.0\n",
      "Fail sanity check - distance at the bottom 753.3929011783066 right x point: 1149.6771160377677 left x point: 396.28421485946114\n",
      "Fail sanity check - roughly parallel (mean distance) 827.6693428415323\n",
      "Fail sanity check - vehicle position from the lane center 0.82\n"
     ]
    },
    {
     "name": "stderr",
     "output_type": "stream",
     "text": [
      "t:  33%|███▎      | 400/1199 [01:51<08:37,  1.54it/s, now=None]"
     ]
    },
    {
     "name": "stdout",
     "output_type": "stream",
     "text": [
      "Fail sanity check - distance at the bottom 808.3837226461794 right x point: 1184.1495792835283 left x point: 375.76585663734886\n",
      "Fail sanity check - roughly parallel (mean distance) 840.9589598096561\n",
      "Fail sanity check - vehicle position from the lane center 0.86\n"
     ]
    },
    {
     "name": "stderr",
     "output_type": "stream",
     "text": [
      "t:  33%|███▎      | 401/1199 [01:51<07:13,  1.84it/s, now=None]"
     ]
    },
    {
     "name": "stdout",
     "output_type": "stream",
     "text": [
      "Fail sanity check - distance at the bottom 793.931194638198 right x point: 1173.9090862105863 left x point: 379.97789157238833\n",
      "Fail sanity check - roughly parallel (mean distance) 860.8153071318096\n",
      "Fail sanity check - vehicle position from the lane center 0.85\n"
     ]
    },
    {
     "name": "stderr",
     "output_type": "stream",
     "text": [
      "t:  34%|███▎      | 402/1199 [01:52<06:19,  2.10it/s, now=None]"
     ]
    },
    {
     "name": "stdout",
     "output_type": "stream",
     "text": [
      "Fail sanity check - distance at the bottom 813.178698877626 right x point: 1187.3809719237581 left x point: 374.2022730461322\n",
      "Fail sanity check - roughly parallel (maximum distance) 900.0200763628783\n",
      "Fail sanity check - roughly parallel (mean distance) 877.4766352206708\n",
      "Fail sanity check - vehicle position from the lane center 0.87\n"
     ]
    },
    {
     "name": "stderr",
     "output_type": "stream",
     "text": [
      "t:  34%|███▎      | 403/1199 [01:52<05:40,  2.34it/s, now=None]"
     ]
    },
    {
     "name": "stdout",
     "output_type": "stream",
     "text": [
      "Fail sanity check - distance at the bottom 822.1383347147713 right x point: 1191.2670900393027 left x point: 369.1287553245314\n",
      "Fail sanity check - roughly parallel (maximum distance) 931.8401901068626\n",
      "Fail sanity check - roughly parallel (mean distance) 903.8498862916485\n",
      "Fail sanity check - vehicle position from the lane center 0.87\n"
     ]
    },
    {
     "name": "stderr",
     "output_type": "stream",
     "text": [
      "t:  34%|███▎      | 404/1199 [01:52<05:12,  2.54it/s, now=None]"
     ]
    },
    {
     "name": "stdout",
     "output_type": "stream",
     "text": [
      "Fail sanity check - curvature left curvature: 2066.0 right curvature: 407.0\n",
      "Fail sanity check - distance at the bottom 754.4543523592067 right x point: 1127.3014220835728 left x point: 372.847069724366\n",
      "Fail sanity check - roughly parallel (mean distance) 852.2523932464004\n"
     ]
    },
    {
     "name": "stderr",
     "output_type": "stream",
     "text": [
      "t:  34%|███▍      | 405/1199 [01:52<04:58,  2.66it/s, now=None]"
     ]
    },
    {
     "name": "stdout",
     "output_type": "stream",
     "text": [
      "Fail sanity check - distance at the bottom 753.4511762583511 right x point: 1128.7060999787573 left x point: 375.25492372040617\n",
      "Fail sanity check - roughly parallel (mean distance) 858.0013166591197\n"
     ]
    },
    {
     "name": "stderr",
     "output_type": "stream",
     "text": [
      "t:  34%|███▍      | 406/1199 [01:53<04:46,  2.77it/s, now=None]"
     ]
    },
    {
     "name": "stdout",
     "output_type": "stream",
     "text": [
      "Fail sanity check - curvature left curvature: 3414.0 right curvature: 491.0\n",
      "Fail sanity check - distance at the bottom 773.486956175271 right x point: 1133.2246007142398 left x point: 359.7376445389689\n",
      "Fail sanity check - roughly parallel (maximum distance) 907.7142911102472\n",
      "Fail sanity check - roughly parallel (mean distance) 861.8612642324439\n"
     ]
    },
    {
     "name": "stderr",
     "output_type": "stream",
     "text": [
      "t:  34%|███▍      | 407/1199 [01:53<04:30,  2.92it/s, now=None]"
     ]
    },
    {
     "name": "stdout",
     "output_type": "stream",
     "text": [
      "failed\n",
      "Fail sanity check - curvature left curvature: 5226.0 right curvature: 491.0\n",
      "Fail sanity check - distance at the bottom 806.8821747453367 right x point: 1166.6198192843055 left x point: 359.7376445389689\n",
      "Fail sanity check - roughly parallel (maximum distance) 923.3062471529166\n",
      "Fail sanity check - roughly parallel (mean distance) 890.2669599887236\n",
      "Fail sanity check - vehicle position from the lane center 0.76\n"
     ]
    },
    {
     "name": "stderr",
     "output_type": "stream",
     "text": [
      "t:  34%|███▍      | 408/1199 [01:53<04:22,  3.02it/s, now=None]"
     ]
    },
    {
     "name": "stdout",
     "output_type": "stream",
     "text": [
      "failed\n",
      "Fail sanity check - curvature left curvature: 2457.0 right curvature: 491.0\n",
      "Fail sanity check - distance at the bottom 816.8805921021228 right x point: 1176.6182366410917 left x point: 359.7376445389689\n",
      "Fail sanity check - roughly parallel (maximum distance) 941.7601279705528\n",
      "Fail sanity check - roughly parallel (mean distance) 899.1986287905728\n",
      "Fail sanity check - vehicle position from the lane center 0.79\n"
     ]
    },
    {
     "name": "stderr",
     "output_type": "stream",
     "text": [
      "t:  34%|███▍      | 409/1199 [01:54<04:16,  3.09it/s, now=None]"
     ]
    },
    {
     "name": "stdout",
     "output_type": "stream",
     "text": [
      "failed\n",
      "Fail sanity check - distance at the bottom 815.5529959758626 right x point: 1175.2906405148315 left x point: 359.7376445389689\n",
      "Fail sanity check - roughly parallel (maximum distance) 936.3618853596179\n",
      "Fail sanity check - roughly parallel (mean distance) 899.6784382983203\n",
      "Fail sanity check - vehicle position from the lane center 0.79\n"
     ]
    },
    {
     "name": "stderr",
     "output_type": "stream",
     "text": [
      "t:  34%|███▍      | 410/1199 [01:54<04:11,  3.14it/s, now=None]"
     ]
    },
    {
     "name": "stdout",
     "output_type": "stream",
     "text": [
      "failed\n",
      "Fail sanity check - distance at the bottom 811.7110995075643 right x point: 1171.4487440465332 left x point: 359.7376445389689\n",
      "Fail sanity check - roughly parallel (maximum distance) 926.9872998432522\n",
      "Fail sanity check - roughly parallel (mean distance) 897.3347265842845\n",
      "Fail sanity check - vehicle position from the lane center 0.78\n"
     ]
    },
    {
     "name": "stderr",
     "output_type": "stream",
     "text": [
      "t:  34%|███▍      | 411/1199 [01:54<04:07,  3.19it/s, now=None]"
     ]
    },
    {
     "name": "stdout",
     "output_type": "stream",
     "text": [
      "failed\n",
      "Fail sanity check - distance at the bottom 815.3614157038203 right x point: 1175.0990602427892 left x point: 359.7376445389689\n",
      "Fail sanity check - roughly parallel (maximum distance) 929.7338261439284\n",
      "Fail sanity check - roughly parallel (mean distance) 900.6731114480797\n",
      "Fail sanity check - vehicle position from the lane center 0.79\n"
     ]
    },
    {
     "name": "stderr",
     "output_type": "stream",
     "text": [
      "t:  34%|███▍      | 412/1199 [01:55<04:08,  3.16it/s, now=None]"
     ]
    },
    {
     "name": "stdout",
     "output_type": "stream",
     "text": [
      "failed\n",
      "Fail sanity check - distance at the bottom 812.3705919287252 right x point: 1172.108236467694 left x point: 359.7376445389689\n",
      "Fail sanity check - roughly parallel (maximum distance) 929.9962690557466\n",
      "Fail sanity check - roughly parallel (mean distance) 900.3845659759206\n",
      "Fail sanity check - vehicle position from the lane center 0.78\n"
     ]
    },
    {
     "name": "stderr",
     "output_type": "stream",
     "text": [
      "t:  34%|███▍      | 413/1199 [01:55<04:04,  3.21it/s, now=None]"
     ]
    },
    {
     "name": "stdout",
     "output_type": "stream",
     "text": [
      "failed\n",
      "Fail sanity check - distance at the bottom 814.0137300557374 right x point: 1173.7513745947062 left x point: 359.7376445389689\n",
      "Fail sanity check - roughly parallel (maximum distance) 931.657838299913\n",
      "Fail sanity check - roughly parallel (mean distance) 901.9335036975555\n",
      "Fail sanity check - vehicle position from the lane center 0.78\n"
     ]
    },
    {
     "name": "stderr",
     "output_type": "stream",
     "text": [
      "t:  35%|███▍      | 414/1199 [01:55<04:00,  3.27it/s, now=None]"
     ]
    },
    {
     "name": "stdout",
     "output_type": "stream",
     "text": [
      "failed\n",
      "Fail sanity check - distance at the bottom 812.6570893566354 right x point: 1172.3947338956043 left x point: 359.7376445389689\n",
      "Fail sanity check - roughly parallel (maximum distance) 931.1695838140154\n",
      "Fail sanity check - roughly parallel (mean distance) 900.7646027401092\n",
      "Fail sanity check - vehicle position from the lane center 0.78\n"
     ]
    },
    {
     "name": "stderr",
     "output_type": "stream",
     "text": [
      "t:  35%|███▍      | 415/1199 [01:56<03:57,  3.30it/s, now=None]"
     ]
    },
    {
     "name": "stdout",
     "output_type": "stream",
     "text": [
      "failed\n",
      "Fail sanity check - distance at the bottom 808.4300151133009 right x point: 1168.1676596522698 left x point: 359.7376445389689\n",
      "Fail sanity check - roughly parallel (maximum distance) 924.0631775526347\n",
      "Fail sanity check - roughly parallel (mean distance) 895.0908016276608\n",
      "Fail sanity check - vehicle position from the lane center 0.77\n"
     ]
    },
    {
     "name": "stderr",
     "output_type": "stream",
     "text": [
      "t:  35%|███▍      | 416/1199 [01:56<03:56,  3.31it/s, now=None]"
     ]
    },
    {
     "name": "stdout",
     "output_type": "stream",
     "text": [
      "failed\n",
      "Fail sanity check - distance at the bottom 811.9839058178877 right x point: 1171.7215503568566 left x point: 359.7376445389689\n",
      "Fail sanity check - roughly parallel (maximum distance) 926.8957558929164\n",
      "Fail sanity check - roughly parallel (mean distance) 897.9575984241345\n",
      "Fail sanity check - vehicle position from the lane center 0.78\n"
     ]
    },
    {
     "name": "stderr",
     "output_type": "stream",
     "text": [
      "t:  35%|███▍      | 417/1199 [01:56<03:55,  3.32it/s, now=None]"
     ]
    },
    {
     "name": "stdout",
     "output_type": "stream",
     "text": [
      "failed\n",
      "Error poly fit [ 1.96776832e+01 -1.07779340e+02  1.46269945e-02]\n",
      "Fail sanity check - distance at the bottom 791.6755877844339 right x point: 1151.4132323234028 left x point: 359.7376445389689\n",
      "Fail sanity check - roughly parallel (maximum distance) 922.1255536963873\n",
      "Fail sanity check - roughly parallel (mean distance) 880.7488665612253\n"
     ]
    },
    {
     "name": "stderr",
     "output_type": "stream",
     "text": [
      "t:  35%|███▍      | 418/1199 [01:56<03:52,  3.35it/s, now=None]"
     ]
    },
    {
     "name": "stdout",
     "output_type": "stream",
     "text": [
      "failed\n",
      "Fail sanity check - curvature left curvature: 5282.0 right curvature: 491.0\n",
      "Fail sanity check - distance at the bottom 786.1528661105299 right x point: 1145.8905106494988 left x point: 359.7376445389689\n",
      "Fail sanity check - roughly parallel (maximum distance) 918.3794077083721\n",
      "Fail sanity check - roughly parallel (mean distance) 874.7727593302238\n"
     ]
    },
    {
     "name": "stderr",
     "output_type": "stream",
     "text": [
      "t:  35%|███▍      | 419/1199 [01:57<03:54,  3.32it/s, now=None]"
     ]
    },
    {
     "name": "stdout",
     "output_type": "stream",
     "text": [
      "failed\n",
      "Fail sanity check - distance at the bottom 772.4171874299282 right x point: 1132.154831968897 left x point: 359.7376445389689\n",
      "Fail sanity check - roughly parallel (maximum distance) 915.3557095171535\n",
      "Fail sanity check - roughly parallel (mean distance) 863.6575113727101\n"
     ]
    },
    {
     "name": "stderr",
     "output_type": "stream",
     "text": [
      "t:  35%|███▌      | 420/1199 [01:57<03:56,  3.29it/s, now=None]"
     ]
    },
    {
     "name": "stdout",
     "output_type": "stream",
     "text": [
      "failed\n",
      "Fail sanity check - distance at the bottom 742.2679961535052 right x point: 1102.0056406924741 left x point: 359.7376445389689\n",
      "Fail sanity check - roughly parallel (mean distance) 832.1428643573444\n"
     ]
    },
    {
     "name": "stderr",
     "output_type": "stream",
     "text": [
      "t:  35%|███▌      | 421/1199 [01:57<03:54,  3.32it/s, now=None]"
     ]
    },
    {
     "name": "stdout",
     "output_type": "stream",
     "text": [
      "failed\n",
      "Fail sanity check - roughly parallel (mean distance) 813.157310372884\n"
     ]
    },
    {
     "name": "stderr",
     "output_type": "stream",
     "text": [
      "t:  35%|███▌      | 422/1199 [01:58<03:52,  3.35it/s, now=None]"
     ]
    },
    {
     "name": "stdout",
     "output_type": "stream",
     "text": [
      "failed\n",
      "Fail sanity check - distance at the bottom 723.0941557249253 right x point: 1082.8318002638941 left x point: 359.7376445389689\n",
      "Fail sanity check - roughly parallel (mean distance) 818.2067434906025\n"
     ]
    },
    {
     "name": "stderr",
     "output_type": "stream",
     "text": [
      "t:  35%|███▌      | 423/1199 [01:58<03:55,  3.29it/s, now=None]"
     ]
    },
    {
     "name": "stdout",
     "output_type": "stream",
     "text": [
      "failed\n",
      "Fail sanity check - distance at the bottom 728.4240681580777 right x point: 1088.1617126970466 left x point: 359.7376445389689\n",
      "Fail sanity check - roughly parallel (mean distance) 823.2538636287944\n"
     ]
    },
    {
     "name": "stderr",
     "output_type": "stream",
     "text": [
      "t:  35%|███▌      | 424/1199 [01:58<03:53,  3.32it/s, now=None]"
     ]
    },
    {
     "name": "stdout",
     "output_type": "stream",
     "text": [
      "failed\n",
      "Fail sanity check - distance at the bottom 742.7968042716716 right x point: 1102.5344488106405 left x point: 359.7376445389689\n",
      "Fail sanity check - roughly parallel (mean distance) 837.9149754697283\n"
     ]
    },
    {
     "name": "stderr",
     "output_type": "stream",
     "text": [
      "t:  35%|███▌      | 425/1199 [01:59<03:51,  3.34it/s, now=None]"
     ]
    },
    {
     "name": "stdout",
     "output_type": "stream",
     "text": [
      "failed\n",
      "Fail sanity check - distance at the bottom 747.1730132432938 right x point: 1106.9106577822627 left x point: 359.7376445389689\n",
      "Fail sanity check - roughly parallel (mean distance) 843.0129143224008\n"
     ]
    },
    {
     "name": "stderr",
     "output_type": "stream",
     "text": [
      "t:  36%|███▌      | 426/1199 [01:59<03:47,  3.40it/s, now=None]"
     ]
    },
    {
     "name": "stdout",
     "output_type": "stream",
     "text": [
      "failed\n",
      "Fail sanity check - distance at the bottom 763.4335885863384 right x point: 1123.1712331253073 left x point: 359.7376445389689\n",
      "Fail sanity check - roughly parallel (mean distance) 857.1026131616231\n"
     ]
    },
    {
     "name": "stderr",
     "output_type": "stream",
     "text": [
      "t:  36%|███▌      | 427/1199 [01:59<03:47,  3.39it/s, now=None]"
     ]
    },
    {
     "name": "stdout",
     "output_type": "stream",
     "text": [
      "failed\n",
      "Fail sanity check - distance at the bottom 774.5384278148028 right x point: 1134.2760723537717 left x point: 359.7376445389689\n",
      "Fail sanity check - roughly parallel (maximum distance) 924.047040753129\n",
      "Fail sanity check - roughly parallel (mean distance) 867.3943146717284\n"
     ]
    },
    {
     "name": "stderr",
     "output_type": "stream",
     "text": [
      "t:  36%|███▌      | 428/1199 [01:59<03:44,  3.43it/s, now=None]"
     ]
    },
    {
     "name": "stdout",
     "output_type": "stream",
     "text": [
      "failed\n",
      "Fail sanity check - distance at the bottom 783.1480896013047 right x point: 1142.8857341402736 left x point: 359.7376445389689\n",
      "Fail sanity check - roughly parallel (maximum distance) 927.0928936226024\n",
      "Fail sanity check - roughly parallel (mean distance) 873.542662553765\n"
     ]
    },
    {
     "name": "stderr",
     "output_type": "stream",
     "text": [
      "t:  36%|███▌      | 429/1199 [02:00<03:42,  3.46it/s, now=None]"
     ]
    },
    {
     "name": "stdout",
     "output_type": "stream",
     "text": [
      "failed\n",
      "Fail sanity check - distance at the bottom 783.1526659066765 right x point: 1142.8903104456454 left x point: 359.7376445389689\n",
      "Fail sanity check - roughly parallel (maximum distance) 906.7963523426076\n",
      "Fail sanity check - roughly parallel (mean distance) 873.5908192388945\n"
     ]
    },
    {
     "name": "stderr",
     "output_type": "stream",
     "text": [
      "t:  36%|███▌      | 430/1199 [02:00<03:40,  3.49it/s, now=None]"
     ]
    },
    {
     "name": "stdout",
     "output_type": "stream",
     "text": [
      "failed\n",
      "Fail sanity check - distance at the bottom 790.7501283955653 right x point: 1150.4877729345342 left x point: 359.7376445389689\n",
      "Fail sanity check - roughly parallel (maximum distance) 912.4528973303422\n",
      "Fail sanity check - roughly parallel (mean distance) 879.8683804184076\n"
     ]
    },
    {
     "name": "stderr",
     "output_type": "stream",
     "text": [
      "t:  36%|███▌      | 431/1199 [02:00<03:44,  3.42it/s, now=None]"
     ]
    },
    {
     "name": "stdout",
     "output_type": "stream",
     "text": [
      "Fail sanity check - curvature left curvature: 5365.0 right curvature: 125.0\n",
      "Fail sanity check - distance at the bottom 741.5685932219415 right x point: 1095.3298794457214 left x point: 353.76128622378\n",
      "Fail sanity check - roughly parallel (mean distance) 837.3769787660017\n"
     ]
    },
    {
     "name": "stderr",
     "output_type": "stream",
     "text": [
      "t:  36%|███▌      | 432/1199 [02:01<03:48,  3.35it/s, now=None]"
     ]
    },
    {
     "name": "stdout",
     "output_type": "stream",
     "text": [
      "Fail sanity check - curvature left curvature: 2780.0 right curvature: 157.0\n",
      "Fail sanity check - distance at the bottom 791.8976482648404 right x point: 1141.165908028202 left x point: 349.26825976336164\n",
      "Fail sanity check - roughly parallel (maximum distance) 936.3158347620471\n",
      "Fail sanity check - roughly parallel (mean distance) 896.9812091181333\n"
     ]
    },
    {
     "name": "stderr",
     "output_type": "stream",
     "text": [
      "t:  36%|███▌      | 433/1199 [02:01<03:49,  3.34it/s, now=None]"
     ]
    },
    {
     "name": "stdout",
     "output_type": "stream",
     "text": [
      "Fail sanity check - curvature left curvature: 4156.0 right curvature: 178.0\n",
      "Fail sanity check - distance at the bottom 806.2331150031232 right x point: 1151.9554064704348 left x point: 345.7222914673116\n",
      "Fail sanity check - roughly parallel (maximum distance) 933.5026979109276\n",
      "Fail sanity check - roughly parallel (mean distance) 898.5425045868543\n"
     ]
    },
    {
     "name": "stderr",
     "output_type": "stream",
     "text": [
      "t:  36%|███▌      | 434/1199 [02:01<03:45,  3.39it/s, now=None]"
     ]
    },
    {
     "name": "stdout",
     "output_type": "stream",
     "text": [
      "failed\n",
      "Fail sanity check - roughly parallel (mean distance) 749.2870342343004\n"
     ]
    },
    {
     "name": "stderr",
     "output_type": "stream",
     "text": [
      "t:  36%|███▋      | 435/1199 [02:01<03:45,  3.39it/s, now=None]"
     ]
    },
    {
     "name": "stdout",
     "output_type": "stream",
     "text": [
      "failed\n",
      "Fail sanity check - curvature left curvature: 2427.0 right curvature: 178.0\n",
      "Fail sanity check - roughly parallel (mean distance) 749.1991935749509\n"
     ]
    },
    {
     "name": "stderr",
     "output_type": "stream",
     "text": [
      "t:  36%|███▋      | 436/1199 [02:02<03:44,  3.40it/s, now=None]"
     ]
    },
    {
     "name": "stdout",
     "output_type": "stream",
     "text": [
      "Fail sanity check - curvature left curvature: 1014.0 right curvature: 95.0\n"
     ]
    },
    {
     "name": "stderr",
     "output_type": "stream",
     "text": [
      "t:  36%|███▋      | 437/1199 [02:02<03:43,  3.41it/s, now=None]"
     ]
    },
    {
     "name": "stdout",
     "output_type": "stream",
     "text": [
      "Fail sanity check - curvature left curvature: 779.0 right curvature: 99.0\n"
     ]
    },
    {
     "name": "stderr",
     "output_type": "stream",
     "text": [
      "t:  37%|███▋      | 438/1199 [02:02<03:46,  3.36it/s, now=None]"
     ]
    },
    {
     "name": "stdout",
     "output_type": "stream",
     "text": [
      "Error poly fit [ -4.10481342 -20.70410051   0.10928277]\n",
      "Fail sanity check - curvature left curvature: 3979.0 right curvature: 92.0\n",
      "Fail sanity check - roughly parallel (mean distance) 737.2669917395767\n"
     ]
    },
    {
     "name": "stderr",
     "output_type": "stream",
     "text": [
      "t:  37%|███▋      | 439/1199 [02:03<03:46,  3.36it/s, now=None]"
     ]
    },
    {
     "name": "stdout",
     "output_type": "stream",
     "text": [
      "Fail sanity check - curvature left curvature: 681.0 right curvature: 105.0\n",
      "Fail sanity check - roughly parallel (mean distance) 731.2265086158269\n"
     ]
    },
    {
     "name": "stderr",
     "output_type": "stream",
     "text": [
      "t:  37%|███▋      | 440/1199 [02:03<03:44,  3.38it/s, now=None]"
     ]
    },
    {
     "name": "stdout",
     "output_type": "stream",
     "text": [
      "Fail sanity check - curvature left curvature: 2654.0 right curvature: 100.0\n",
      "Fail sanity check - roughly parallel (mean distance) 758.4899587851891\n"
     ]
    },
    {
     "name": "stderr",
     "output_type": "stream",
     "text": [
      "t:  37%|███▋      | 441/1199 [02:03<03:40,  3.44it/s, now=None]"
     ]
    },
    {
     "name": "stdout",
     "output_type": "stream",
     "text": [
      "Error poly fit [ 2.12336508e+01 -5.15783745e-01  1.63992191e-02]\n",
      "Fail sanity check - roughly parallel (mean distance) 768.6867719651533\n"
     ]
    },
    {
     "name": "stderr",
     "output_type": "stream",
     "text": [
      "t:  37%|███▋      | 442/1199 [02:04<03:40,  3.43it/s, now=None]"
     ]
    },
    {
     "name": "stdout",
     "output_type": "stream",
     "text": [
      "Fail sanity check - curvature left curvature: 2427.0 right curvature: 95.0\n",
      "Fail sanity check - roughly parallel (mean distance) 785.5144655928618\n"
     ]
    },
    {
     "name": "stderr",
     "output_type": "stream",
     "text": [
      "t:  37%|███▋      | 443/1199 [02:04<03:38,  3.47it/s, now=None]"
     ]
    },
    {
     "name": "stdout",
     "output_type": "stream",
     "text": [
      "Fail sanity check - roughly parallel (minimum distance) 282.3663318640764\n"
     ]
    },
    {
     "name": "stderr",
     "output_type": "stream",
     "text": [
      "t:  37%|███▋      | 444/1199 [02:04<03:39,  3.44it/s, now=None]"
     ]
    },
    {
     "name": "stdout",
     "output_type": "stream",
     "text": [
      "Fail sanity check - curvature left curvature: 1994.0 right curvature: 73.0\n",
      "Fail sanity check - distance at the bottom 760.6124954138284 right x point: 1120.5900461501078 left x point: 359.97755073627945\n",
      "Fail sanity check - roughly parallel (mean distance) 723.3294059725414\n"
     ]
    },
    {
     "name": "stderr",
     "output_type": "stream",
     "text": [
      "t:  37%|███▋      | 445/1199 [02:04<03:38,  3.45it/s, now=None]"
     ]
    },
    {
     "name": "stdout",
     "output_type": "stream",
     "text": [
      "Fail sanity check - curvature left curvature: 4488.0 right curvature: 261.0\n",
      "Fail sanity check - distance at the bottom 792.3025195072537 right x point: 1129.2966050011848 left x point: 336.99408549393115\n",
      "Fail sanity check - roughly parallel (mean distance) 812.265766439303\n"
     ]
    },
    {
     "name": "stderr",
     "output_type": "stream",
     "text": [
      "t:  37%|███▋      | 446/1199 [02:05<03:41,  3.39it/s, now=None]"
     ]
    },
    {
     "name": "stdout",
     "output_type": "stream",
     "text": [
      "Error poly fit [-116.85221267    4.69623044   -0.50010878]\n",
      "Fail sanity check - distance at the bottom 813.2931437764385 right x point: 1142.0840147472325 left x point: 328.79087097079395\n",
      "Fail sanity check - roughly parallel (mean distance) 851.0602652321912\n"
     ]
    },
    {
     "name": "stderr",
     "output_type": "stream",
     "text": [
      "t:  37%|███▋      | 447/1199 [02:05<03:42,  3.37it/s, now=None]"
     ]
    },
    {
     "name": "stdout",
     "output_type": "stream",
     "text": [
      "Fail sanity check - distance at the bottom 812.734640760833 right x point: 1148.124885467722 left x point: 335.3902447068889\n",
      "Fail sanity check - roughly parallel (mean distance) 850.6811441403892\n"
     ]
    },
    {
     "name": "stderr",
     "output_type": "stream",
     "text": [
      "t:  37%|███▋      | 448/1199 [02:05<03:38,  3.44it/s, now=None]"
     ]
    },
    {
     "name": "stdout",
     "output_type": "stream",
     "text": [
      "Fail sanity check - curvature left curvature: 1346.0 right curvature: 254.0\n",
      "Fail sanity check - distance at the bottom 820.3415268750689 right x point: 1159.527292735753 left x point: 339.1857658606841\n",
      "Fail sanity check - roughly parallel (mean distance) 850.0263447368409\n"
     ]
    },
    {
     "name": "stderr",
     "output_type": "stream",
     "text": [
      "t:  37%|███▋      | 449/1199 [02:06<03:34,  3.50it/s, now=None]"
     ]
    },
    {
     "name": "stdout",
     "output_type": "stream",
     "text": [
      "failed\n",
      "Fail sanity check - distance at the bottom 837.7340563964665 right x point: 1176.9198222571506 left x point: 339.1857658606841\n",
      "Fail sanity check - roughly parallel (mean distance) 871.7543461342342\n"
     ]
    },
    {
     "name": "stderr",
     "output_type": "stream",
     "text": [
      "t:  38%|███▊      | 450/1199 [02:06<03:35,  3.48it/s, now=None]"
     ]
    },
    {
     "name": "stdout",
     "output_type": "stream",
     "text": [
      "Error poly fit [-5.44793355 14.25585568 -0.41188878]\n",
      "Fail sanity check - distance at the bottom 861.3015255442659 right x point: 1193.8429279917775 left x point: 332.5414024475116\n",
      "Fail sanity check - roughly parallel (maximum distance) 969.9959083251379\n",
      "Fail sanity check - roughly parallel (mean distance) 910.5491768714071\n",
      "Fail sanity check - vehicle position from the lane center 0.76\n"
     ]
    },
    {
     "name": "stderr",
     "output_type": "stream",
     "text": [
      "t:  38%|███▊      | 451/1199 [02:06<03:39,  3.41it/s, now=None]"
     ]
    },
    {
     "name": "stdout",
     "output_type": "stream",
     "text": [
      "test\n",
      "Fail sanity check - curvature left curvature: 3657.0 right curvature: 443.0\n",
      "Fail sanity check - distance at the bottom 855.5717643584949 right x point: 1193.1937583223537 left x point: 337.62199396385876\n",
      "Fail sanity check - roughly parallel (maximum distance) 949.8443180404124\n",
      "Fail sanity check - roughly parallel (mean distance) 924.1136945474136\n",
      "Fail sanity check - vehicle position from the lane center 0.77\n"
     ]
    },
    {
     "name": "stderr",
     "output_type": "stream",
     "text": [
      "t:  38%|███▊      | 452/1199 [02:06<03:35,  3.46it/s, now=None]"
     ]
    },
    {
     "name": "stdout",
     "output_type": "stream",
     "text": [
      "test\n",
      "Fail sanity check - distance at the bottom -57.3475401562697 right x point: 304.64297113668 left x point: 361.9905112929497\n",
      "Fail sanity check - roughly parallel (minimum distance) -84532.52265221736\n",
      "Fail sanity check - roughly parallel (maximum distance) 943.5698869295734\n",
      "Fail sanity check - roughly parallel (mean distance) -24823.228017436217\n",
      "Fail sanity check - vehicle position from the lane center -1.97\n"
     ]
    },
    {
     "name": "stderr",
     "output_type": "stream",
     "text": [
      "t:  38%|███▊      | 453/1199 [02:07<03:22,  3.69it/s, now=None]"
     ]
    },
    {
     "name": "stdout",
     "output_type": "stream",
     "text": [
      "test\n",
      "Fail sanity check - distance at the bottom 1608.7335300150094 right x point: 1970.376078668225 left x point: 361.64254865321584\n",
      "Fail sanity check - roughly parallel (maximum distance) 75017.81866678115\n",
      "Fail sanity check - roughly parallel (mean distance) 23518.60329933658\n",
      "Fail sanity check - vehicle position from the lane center 3.32\n"
     ]
    },
    {
     "name": "stderr",
     "output_type": "stream",
     "text": [
      "t:  38%|███▊      | 454/1199 [02:07<03:12,  3.86it/s, now=None]"
     ]
    },
    {
     "name": "stdout",
     "output_type": "stream",
     "text": [
      "Error poly fit [-13.69353842  43.69421612  -1.46608148]\n",
      "test\n",
      "Fail sanity check - curvature left curvature: 4.0 right curvature: 1184.0\n",
      "Fail sanity check - distance at the bottom 948.3395012213293 right x point: 1284.4642857210347 left x point: 336.12478449970536\n",
      "Fail sanity check - roughly parallel (maximum distance) 38938.49740345402\n",
      "Fail sanity check - roughly parallel (mean distance) 13039.710370231553\n",
      "Fail sanity check - vehicle position from the lane center 1.07\n"
     ]
    },
    {
     "name": "stderr",
     "output_type": "stream",
     "text": [
      "t:  38%|███▊      | 455/1199 [02:07<03:16,  3.78it/s, now=None]"
     ]
    },
    {
     "name": "stdout",
     "output_type": "stream",
     "text": [
      "Error poly fit [2.59676783e-02 9.75985316e+01 8.92327976e-02]\n",
      "test\n",
      "Error poly fit [127.46911923 127.57024517 -39.740857  ]\n",
      "Fail sanity check - curvature left curvature: 222.0 right curvature: 1152.0\n",
      "Fail sanity check - distance at the bottom 926.3027406767844 right x point: 1261.0247556388733 left x point: 334.72201496208885\n",
      "Fail sanity check - roughly parallel (maximum distance) 941.7213274216151\n",
      "Fail sanity check - roughly parallel (mean distance) 873.3636230945076\n",
      "Fail sanity check - vehicle position from the lane center 0.97\n"
     ]
    },
    {
     "name": "stderr",
     "output_type": "stream",
     "text": [
      "t:  38%|███▊      | 456/1199 [02:07<03:17,  3.75it/s, now=None]"
     ]
    },
    {
     "name": "stdout",
     "output_type": "stream",
     "text": [
      "test\n",
      "Fail sanity check - distance at the bottom 958.7555699278694 right x point: 1293.3669221440223 left x point: 334.6113522161529\n",
      "Fail sanity check - roughly parallel (maximum distance) 958.7555699278694\n",
      "Fail sanity check - roughly parallel (mean distance) 791.8080123221868\n",
      "Fail sanity check - vehicle position from the lane center 1.07\n"
     ]
    },
    {
     "name": "stderr",
     "output_type": "stream",
     "text": [
      "t:  38%|███▊      | 457/1199 [02:08<03:11,  3.87it/s, now=None]"
     ]
    },
    {
     "name": "stdout",
     "output_type": "stream",
     "text": [
      "test\n",
      "Fail sanity check - distance at the bottom 898.458001120297 right x point: 1236.114307783249 left x point: 337.6563066629519\n",
      "Fail sanity check - roughly parallel (maximum distance) 931.3891956644659\n",
      "Fail sanity check - roughly parallel (mean distance) 859.2204167561619\n",
      "Fail sanity check - vehicle position from the lane center 0.91\n"
     ]
    },
    {
     "name": "stderr",
     "output_type": "stream",
     "text": [
      "t:  38%|███▊      | 458/1199 [02:08<03:13,  3.83it/s, now=None]"
     ]
    },
    {
     "name": "stdout",
     "output_type": "stream",
     "text": [
      "test\n",
      "Fail sanity check - distance at the bottom 937.4978657201033 right x point: 1302.8410677417155 left x point: 365.3432020216122\n",
      "Fail sanity check - roughly parallel (maximum distance) 982.0839637400329\n",
      "Fail sanity check - roughly parallel (mean distance) 943.4796994226662\n",
      "Fail sanity check - vehicle position from the lane center 1.2\n"
     ]
    },
    {
     "name": "stderr",
     "output_type": "stream",
     "text": [
      "t:  38%|███▊      | 459/1199 [02:08<03:17,  3.74it/s, now=None]"
     ]
    },
    {
     "name": "stdout",
     "output_type": "stream",
     "text": [
      "Error poly fit [-11.66539893 -84.26109763  -1.50656866]\n",
      "test\n",
      "Fail sanity check - curvature left curvature: 116.0 right curvature: 926.0\n",
      "Fail sanity check - distance at the bottom 963.560229814288 right x point: 1302.8410677417155 left x point: 339.28083792742746\n",
      "Fail sanity check - roughly parallel (maximum distance) 1244.3457382673578\n",
      "Fail sanity check - roughly parallel (mean distance) 1011.8332249441627\n",
      "Fail sanity check - vehicle position from the lane center 1.12\n"
     ]
    },
    {
     "name": "stderr",
     "output_type": "stream",
     "text": [
      "t:  38%|███▊      | 460/1199 [02:08<03:10,  3.89it/s, now=None]"
     ]
    },
    {
     "name": "stdout",
     "output_type": "stream",
     "text": [
      "Error poly fit [-1.25490764e+01  1.27544320e+00 -1.03266694e-02]\n",
      "test\n",
      "Fail sanity check - distance at the bottom 967.3767391994068 right x point: 1302.8410677417155 left x point: 335.46432854230875\n",
      "Fail sanity check - roughly parallel (maximum distance) 1247.1682960416883\n",
      "Fail sanity check - roughly parallel (mean distance) 1003.029135284078\n",
      "Fail sanity check - vehicle position from the lane center 1.11\n"
     ]
    },
    {
     "name": "stderr",
     "output_type": "stream",
     "text": [
      "t:  38%|███▊      | 461/1199 [02:09<03:10,  3.88it/s, now=None]"
     ]
    },
    {
     "name": "stdout",
     "output_type": "stream",
     "text": [
      "test\n",
      "Fail sanity check - curvature left curvature: 273.0 right curvature: 3657.0\n",
      "Fail sanity check - distance at the bottom 2752.205678657021 right x point: 3089.0058450800716 left x point: 336.8001664230506\n",
      "Fail sanity check - roughly parallel (maximum distance) 321595.1262353271\n",
      "Fail sanity check - roughly parallel (mean distance) 100298.34468484846\n",
      "Fail sanity check - vehicle position from the lane center 6.85\n"
     ]
    },
    {
     "name": "stderr",
     "output_type": "stream",
     "text": [
      "t:  39%|███▊      | 462/1199 [02:09<03:14,  3.79it/s, now=None]"
     ]
    },
    {
     "name": "stdout",
     "output_type": "stream",
     "text": [
      "test\n",
      "Fail sanity check - curvature left curvature: 273.0 right curvature: 4917.0\n",
      "Fail sanity check - distance at the bottom 2754.0142580681922 right x point: 3089.0058450800716 left x point: 334.99158701187923\n",
      "Fail sanity check - roughly parallel (maximum distance) 321572.21867018304\n",
      "Fail sanity check - roughly parallel (mean distance) 100286.94491224286\n",
      "Fail sanity check - vehicle position from the lane center 6.84\n"
     ]
    },
    {
     "name": "stderr",
     "output_type": "stream",
     "text": [
      "t:  39%|███▊      | 463/1199 [02:09<03:16,  3.75it/s, now=None]"
     ]
    },
    {
     "name": "stdout",
     "output_type": "stream",
     "text": [
      "test\n",
      "Fail sanity check - distance at the bottom 2752.8877740705084 right x point: 3089.0058450800716 left x point: 336.1180710095633\n",
      "Fail sanity check - roughly parallel (maximum distance) 321547.53937796614\n",
      "Fail sanity check - roughly parallel (mean distance) 100284.67778372\n",
      "Fail sanity check - vehicle position from the lane center 6.84\n"
     ]
    },
    {
     "name": "stderr",
     "output_type": "stream",
     "text": [
      "t:  39%|███▊      | 464/1199 [02:10<03:21,  3.65it/s, now=None]"
     ]
    },
    {
     "name": "stdout",
     "output_type": "stream",
     "text": [
      "test\n",
      "Error poly fit [ -89.65766919 1484.2854287   128.09299823]\n",
      "Fail sanity check - distance at the bottom 1696.1129211696882 right x point: 2034.079454409643 left x point: 337.9665332399548\n",
      "Fail sanity check - roughly parallel (minimum distance) -2834.08521626751\n",
      "Fail sanity check - roughly parallel (maximum distance) 1696.1129211696882\n",
      "Fail sanity check - roughly parallel (mean distance) -1227.3515528513412\n",
      "Fail sanity check - vehicle position from the lane center 3.41\n"
     ]
    },
    {
     "name": "stderr",
     "output_type": "stream",
     "text": [
      "t:  39%|███▉      | 465/1199 [02:10<03:18,  3.70it/s, now=None]"
     ]
    },
    {
     "name": "stdout",
     "output_type": "stream",
     "text": [
      "test\n",
      "Fail sanity check - distance at the bottom 802.8899272490767 right x point: 1141.113633941246 left x point: 338.2237066921693\n",
      "Fail sanity check - roughly parallel (maximum distance) 1363.4468956640653\n",
      "Fail sanity check - roughly parallel (mean distance) 1221.2824637699414\n"
     ]
    },
    {
     "name": "stderr",
     "output_type": "stream",
     "text": [
      "t:  39%|███▉      | 466/1199 [02:10<03:14,  3.77it/s, now=None]"
     ]
    },
    {
     "name": "stdout",
     "output_type": "stream",
     "text": [
      "test\n",
      "Fail sanity check - distance at the bottom 1049.7633799079608 right x point: 1388.3277862334048 left x point: 338.5644063254441\n",
      "Fail sanity check - roughly parallel (minimum distance) 83.13552747118837\n",
      "Fail sanity check - roughly parallel (maximum distance) 1049.7633799079608\n",
      "Fail sanity check - vehicle position from the lane center 1.39\n"
     ]
    },
    {
     "name": "stderr",
     "output_type": "stream",
     "text": [
      "t:  39%|███▉      | 467/1199 [02:10<03:06,  3.92it/s, now=None]"
     ]
    },
    {
     "name": "stdout",
     "output_type": "stream",
     "text": [
      "test\n",
      "Fail sanity check - distance at the bottom 1038.0033699107612 right x point: 1388.3277862334048 left x point: 350.3244163226435\n",
      "Fail sanity check - roughly parallel (minimum distance) -70.0870938252234\n",
      "Fail sanity check - roughly parallel (maximum distance) 1038.0033699107612\n",
      "Fail sanity check - vehicle position from the lane center 1.42\n"
     ]
    },
    {
     "name": "stderr",
     "output_type": "stream",
     "text": [
      "t:  39%|███▉      | 468/1199 [02:11<03:00,  4.06it/s, now=None]"
     ]
    },
    {
     "name": "stdout",
     "output_type": "stream",
     "text": [
      "test\n",
      "Fail sanity check - distance at the bottom 1054.3487009528162 right x point: 1404.1881712409922 left x point: 349.839470288176\n",
      "Fail sanity check - roughly parallel (minimum distance) -62.7893318108155\n",
      "Fail sanity check - roughly parallel (maximum distance) 1054.3487009528162\n",
      "Fail sanity check - vehicle position from the lane center 1.47\n"
     ]
    },
    {
     "name": "stderr",
     "output_type": "stream",
     "text": [
      "t:  39%|███▉      | 469/1199 [02:11<03:00,  4.04it/s, now=None]"
     ]
    },
    {
     "name": "stdout",
     "output_type": "stream",
     "text": [
      "Fail sanity check - distance at the bottom 246.9598245774768 right x point: 592.5016659445856 left x point: 345.5418413671088\n",
      "Fail sanity check - roughly parallel (minimum distance) 116.80119337387151\n",
      "Fail sanity check - roughly parallel (mean distance) 325.76186737741193\n",
      "Fail sanity check - vehicle position from the lane center -1.05\n"
     ]
    },
    {
     "name": "stderr",
     "output_type": "stream",
     "text": [
      "t:  39%|███▉      | 470/1199 [02:11<03:08,  3.86it/s, now=None]"
     ]
    },
    {
     "name": "stdout",
     "output_type": "stream",
     "text": [
      "Fail sanity check - distance at the bottom 201.32973382312633 right x point: 547.0651234580741 left x point: 345.7353896349478\n",
      "Fail sanity check - roughly parallel (minimum distance) 107.448672182591\n",
      "Fail sanity check - roughly parallel (mean distance) 334.1502013374289\n",
      "Fail sanity check - vehicle position from the lane center -1.19\n"
     ]
    },
    {
     "name": "stderr",
     "output_type": "stream",
     "text": [
      "t:  39%|███▉      | 471/1199 [02:11<03:13,  3.76it/s, now=None]"
     ]
    },
    {
     "name": "stdout",
     "output_type": "stream",
     "text": [
      "Error poly fit [17.95235969 27.32870716  0.14579598]\n",
      "Error poly fit [-46.2150488   -5.95320314   0.10511859]\n",
      "Fail sanity check - distance at the bottom 157.96484642633357 right x point: 693.336360083626 left x point: 535.3715136572924\n",
      "Fail sanity check - roughly parallel (minimum distance) 95.35895534902988\n",
      "Fail sanity check - roughly parallel (mean distance) 122.35759390631523\n"
     ]
    },
    {
     "name": "stderr",
     "output_type": "stream",
     "text": [
      "t:  39%|███▉      | 472/1199 [02:12<03:14,  3.73it/s, now=None]"
     ]
    },
    {
     "name": "stdout",
     "output_type": "stream",
     "text": [
      "Fail sanity check - distance at the bottom 64.31689056074333 right x point: 746.7852060198163 left x point: 682.468315459073\n",
      "Fail sanity check - roughly parallel (minimum distance) 64.31689056074333\n",
      "Fail sanity check - roughly parallel (mean distance) 106.62504065901182\n"
     ]
    },
    {
     "name": "stderr",
     "output_type": "stream",
     "text": [
      "t:  39%|███▉      | 473/1199 [02:12<03:15,  3.71it/s, now=None]"
     ]
    },
    {
     "name": "stdout",
     "output_type": "stream",
     "text": [
      "Fail sanity check - curvature left curvature: 618.0 right curvature: 119.0\n",
      "Fail sanity check - distance at the bottom -209.29536537250578 right x point: 620.9062313457268 left x point: 830.2015967182326\n",
      "Fail sanity check - roughly parallel (minimum distance) -209.29536537250578\n",
      "Fail sanity check - roughly parallel (mean distance) 55.72408385712503\n"
     ]
    },
    {
     "name": "stderr",
     "output_type": "stream",
     "text": [
      "t:  40%|███▉      | 474/1199 [02:12<03:16,  3.70it/s, now=None]"
     ]
    },
    {
     "name": "stdout",
     "output_type": "stream",
     "text": [
      "failed\n",
      "Fail sanity check - curvature left curvature: 618.0 right curvature: 87.0\n",
      "Fail sanity check - distance at the bottom -347.49433493964216 right x point: 620.9062313457268 left x point: 968.400566285369\n",
      "Fail sanity check - roughly parallel (minimum distance) -347.49433493964216\n",
      "Fail sanity check - roughly parallel (mean distance) 21.81621964712636\n",
      "Fail sanity check - vehicle position from the lane center 0.96\n"
     ]
    },
    {
     "name": "stderr",
     "output_type": "stream",
     "text": [
      "t:  40%|███▉      | 475/1199 [02:12<03:09,  3.83it/s, now=None]"
     ]
    },
    {
     "name": "stdout",
     "output_type": "stream",
     "text": [
      "failed\n",
      "failed\n",
      "Fail sanity check - curvature left curvature: 618.0 right curvature: 87.0\n",
      "Fail sanity check - distance at the bottom -347.49433493964216 right x point: 620.9062313457268 left x point: 968.400566285369\n",
      "Fail sanity check - roughly parallel (minimum distance) -347.49433493964216\n",
      "Fail sanity check - roughly parallel (mean distance) 21.81621964712636\n",
      "Fail sanity check - vehicle position from the lane center 0.96\n"
     ]
    },
    {
     "name": "stderr",
     "output_type": "stream",
     "text": [
      "t:  40%|███▉      | 476/1199 [02:13<03:02,  3.96it/s, now=None]"
     ]
    },
    {
     "name": "stdout",
     "output_type": "stream",
     "text": [
      "failed\n",
      "failed\n",
      "Fail sanity check - curvature left curvature: 618.0 right curvature: 87.0\n",
      "Fail sanity check - distance at the bottom -347.49433493964216 right x point: 620.9062313457268 left x point: 968.400566285369\n",
      "Fail sanity check - roughly parallel (minimum distance) -347.49433493964216\n",
      "Fail sanity check - roughly parallel (mean distance) 21.81621964712636\n",
      "Fail sanity check - vehicle position from the lane center 0.96\n"
     ]
    },
    {
     "name": "stderr",
     "output_type": "stream",
     "text": [
      "t:  40%|███▉      | 477/1199 [02:13<02:59,  4.02it/s, now=None]"
     ]
    },
    {
     "name": "stdout",
     "output_type": "stream",
     "text": [
      "failed\n",
      "failed\n",
      "Fail sanity check - curvature left curvature: 618.0 right curvature: 87.0\n",
      "Fail sanity check - distance at the bottom -347.49433493964216 right x point: 620.9062313457268 left x point: 968.400566285369\n",
      "Fail sanity check - roughly parallel (minimum distance) -347.49433493964216\n",
      "Fail sanity check - roughly parallel (mean distance) 21.81621964712636\n",
      "Fail sanity check - vehicle position from the lane center 0.96\n"
     ]
    },
    {
     "name": "stderr",
     "output_type": "stream",
     "text": [
      "t:  40%|███▉      | 478/1199 [02:13<02:55,  4.10it/s, now=None]"
     ]
    },
    {
     "name": "stdout",
     "output_type": "stream",
     "text": [
      "failed\n",
      "failed\n",
      "Fail sanity check - curvature left curvature: 618.0 right curvature: 87.0\n",
      "Fail sanity check - distance at the bottom -347.49433493964216 right x point: 620.9062313457268 left x point: 968.400566285369\n",
      "Fail sanity check - roughly parallel (minimum distance) -347.49433493964216\n",
      "Fail sanity check - roughly parallel (mean distance) 21.81621964712636\n",
      "Fail sanity check - vehicle position from the lane center 0.96\n"
     ]
    },
    {
     "name": "stderr",
     "output_type": "stream",
     "text": [
      "t:  40%|███▉      | 479/1199 [02:13<02:54,  4.13it/s, now=None]"
     ]
    },
    {
     "name": "stdout",
     "output_type": "stream",
     "text": [
      "failed\n",
      "failed\n",
      "Fail sanity check - curvature left curvature: 618.0 right curvature: 87.0\n",
      "Fail sanity check - distance at the bottom -347.49433493964216 right x point: 620.9062313457268 left x point: 968.400566285369\n",
      "Fail sanity check - roughly parallel (minimum distance) -347.49433493964216\n",
      "Fail sanity check - roughly parallel (mean distance) 21.81621964712636\n",
      "Fail sanity check - vehicle position from the lane center 0.96\n"
     ]
    },
    {
     "name": "stderr",
     "output_type": "stream",
     "text": [
      "t:  40%|████      | 480/1199 [02:14<02:52,  4.17it/s, now=None]"
     ]
    },
    {
     "name": "stdout",
     "output_type": "stream",
     "text": [
      "failed\n",
      "failed\n",
      "Fail sanity check - curvature left curvature: 618.0 right curvature: 87.0\n",
      "Fail sanity check - distance at the bottom -347.49433493964216 right x point: 620.9062313457268 left x point: 968.400566285369\n",
      "Fail sanity check - roughly parallel (minimum distance) -347.49433493964216\n",
      "Fail sanity check - roughly parallel (mean distance) 21.81621964712636\n",
      "Fail sanity check - vehicle position from the lane center 0.96\n"
     ]
    },
    {
     "name": "stderr",
     "output_type": "stream",
     "text": [
      "t:  40%|████      | 481/1199 [02:14<02:50,  4.21it/s, now=None]"
     ]
    },
    {
     "name": "stdout",
     "output_type": "stream",
     "text": [
      "failed\n",
      "failed\n",
      "Fail sanity check - curvature left curvature: 618.0 right curvature: 87.0\n",
      "Fail sanity check - distance at the bottom -347.49433493964216 right x point: 620.9062313457268 left x point: 968.400566285369\n",
      "Fail sanity check - roughly parallel (minimum distance) -347.49433493964216\n",
      "Fail sanity check - roughly parallel (mean distance) 21.81621964712636\n",
      "Fail sanity check - vehicle position from the lane center 0.96\n"
     ]
    },
    {
     "name": "stderr",
     "output_type": "stream",
     "text": [
      "t:  40%|████      | 482/1199 [02:14<02:51,  4.18it/s, now=None]"
     ]
    },
    {
     "name": "stdout",
     "output_type": "stream",
     "text": [
      "failed\n",
      "failed\n",
      "Fail sanity check - curvature left curvature: 618.0 right curvature: 87.0\n",
      "Fail sanity check - distance at the bottom -347.49433493964216 right x point: 620.9062313457268 left x point: 968.400566285369\n",
      "Fail sanity check - roughly parallel (minimum distance) -347.49433493964216\n",
      "Fail sanity check - roughly parallel (mean distance) 21.81621964712636\n",
      "Fail sanity check - vehicle position from the lane center 0.96\n"
     ]
    },
    {
     "name": "stderr",
     "output_type": "stream",
     "text": [
      "t:  40%|████      | 483/1199 [02:14<02:54,  4.09it/s, now=None]"
     ]
    },
    {
     "name": "stdout",
     "output_type": "stream",
     "text": [
      "failed\n",
      "failed\n",
      "Fail sanity check - curvature left curvature: 618.0 right curvature: 87.0\n",
      "Fail sanity check - distance at the bottom -347.49433493964216 right x point: 620.9062313457268 left x point: 968.400566285369\n",
      "Fail sanity check - roughly parallel (minimum distance) -347.49433493964216\n",
      "Fail sanity check - roughly parallel (mean distance) 21.81621964712636\n",
      "Fail sanity check - vehicle position from the lane center 0.96\n"
     ]
    },
    {
     "name": "stderr",
     "output_type": "stream",
     "text": [
      "t:  40%|████      | 484/1199 [02:15<02:53,  4.11it/s, now=None]"
     ]
    },
    {
     "name": "stdout",
     "output_type": "stream",
     "text": [
      "failed\n",
      "failed\n",
      "Fail sanity check - curvature left curvature: 618.0 right curvature: 87.0\n",
      "Fail sanity check - distance at the bottom -347.49433493964216 right x point: 620.9062313457268 left x point: 968.400566285369\n",
      "Fail sanity check - roughly parallel (minimum distance) -347.49433493964216\n",
      "Fail sanity check - roughly parallel (mean distance) 21.81621964712636\n",
      "Fail sanity check - vehicle position from the lane center 0.96\n"
     ]
    },
    {
     "name": "stderr",
     "output_type": "stream",
     "text": [
      "t:  40%|████      | 485/1199 [02:15<02:54,  4.10it/s, now=None]"
     ]
    },
    {
     "name": "stdout",
     "output_type": "stream",
     "text": [
      "failed\n",
      "failed\n",
      "Fail sanity check - curvature left curvature: 618.0 right curvature: 87.0\n",
      "Fail sanity check - distance at the bottom -347.49433493964216 right x point: 620.9062313457268 left x point: 968.400566285369\n",
      "Fail sanity check - roughly parallel (minimum distance) -347.49433493964216\n",
      "Fail sanity check - roughly parallel (mean distance) 21.81621964712636\n",
      "Fail sanity check - vehicle position from the lane center 0.96\n"
     ]
    },
    {
     "name": "stderr",
     "output_type": "stream",
     "text": [
      "t:  41%|████      | 486/1199 [02:15<02:50,  4.18it/s, now=None]"
     ]
    },
    {
     "name": "stdout",
     "output_type": "stream",
     "text": [
      "failed\n",
      "failed\n",
      "Fail sanity check - curvature left curvature: 618.0 right curvature: 87.0\n",
      "Fail sanity check - distance at the bottom -347.49433493964216 right x point: 620.9062313457268 left x point: 968.400566285369\n",
      "Fail sanity check - roughly parallel (minimum distance) -347.49433493964216\n",
      "Fail sanity check - roughly parallel (mean distance) 21.81621964712636\n",
      "Fail sanity check - vehicle position from the lane center 0.96\n"
     ]
    },
    {
     "name": "stderr",
     "output_type": "stream",
     "text": [
      "t:  41%|████      | 487/1199 [02:15<02:54,  4.09it/s, now=None]"
     ]
    },
    {
     "name": "stdout",
     "output_type": "stream",
     "text": [
      "failed\n",
      "failed\n",
      "Fail sanity check - curvature left curvature: 618.0 right curvature: 87.0\n",
      "Fail sanity check - distance at the bottom -347.49433493964216 right x point: 620.9062313457268 left x point: 968.400566285369\n",
      "Fail sanity check - roughly parallel (minimum distance) -347.49433493964216\n",
      "Fail sanity check - roughly parallel (mean distance) 21.81621964712636\n",
      "Fail sanity check - vehicle position from the lane center 0.96\n"
     ]
    },
    {
     "name": "stderr",
     "output_type": "stream",
     "text": [
      "t:  41%|████      | 488/1199 [02:16<02:53,  4.09it/s, now=None]"
     ]
    },
    {
     "name": "stdout",
     "output_type": "stream",
     "text": [
      "failed\n",
      "failed\n",
      "Fail sanity check - curvature left curvature: 618.0 right curvature: 87.0\n",
      "Fail sanity check - distance at the bottom -347.49433493964216 right x point: 620.9062313457268 left x point: 968.400566285369\n",
      "Fail sanity check - roughly parallel (minimum distance) -347.49433493964216\n",
      "Fail sanity check - roughly parallel (mean distance) 21.81621964712636\n",
      "Fail sanity check - vehicle position from the lane center 0.96\n"
     ]
    },
    {
     "name": "stderr",
     "output_type": "stream",
     "text": [
      "t:  41%|████      | 489/1199 [02:16<02:50,  4.16it/s, now=None]"
     ]
    },
    {
     "name": "stdout",
     "output_type": "stream",
     "text": [
      "failed\n",
      "Fail sanity check - distance at the bottom 261.42400809844366 right x point: 1229.8245743838127 left x point: 968.400566285369\n",
      "Fail sanity check - roughly parallel (minimum distance) 261.42400809844366\n",
      "Fail sanity check - vehicle position from the lane center 2.84\n"
     ]
    },
    {
     "name": "stderr",
     "output_type": "stream",
     "text": [
      "t:  41%|████      | 490/1199 [02:16<02:56,  4.01it/s, now=None]"
     ]
    },
    {
     "name": "stdout",
     "output_type": "stream",
     "text": [
      "failed\n",
      "Fail sanity check - distance at the bottom 260.53661385314604 right x point: 1228.937180138515 left x point: 968.400566285369\n",
      "Fail sanity check - roughly parallel (minimum distance) 260.53661385314604\n",
      "Fail sanity check - vehicle position from the lane center 2.83\n"
     ]
    },
    {
     "name": "stderr",
     "output_type": "stream",
     "text": [
      "t:  41%|████      | 491/1199 [02:16<03:01,  3.91it/s, now=None]"
     ]
    },
    {
     "name": "stdout",
     "output_type": "stream",
     "text": [
      "Error poly fit [  1.75916396   1.31915522 -27.85473973]\n",
      "Fail sanity check - roughly parallel (maximum distance) 923.8959955839447\n",
      "Fail sanity check - vehicle position from the lane center 1.78\n"
     ]
    },
    {
     "name": "stderr",
     "output_type": "stream",
     "text": [
      "t:  41%|████      | 492/1199 [02:17<03:06,  3.78it/s, now=None]"
     ]
    },
    {
     "name": "stdout",
     "output_type": "stream",
     "text": [
      "Fail sanity check - curvature left curvature: 315.0 right curvature: 56.0\n",
      "Fail sanity check - roughly parallel (maximum distance) 954.2447025641015\n",
      "Fail sanity check - vehicle position from the lane center 1.76\n"
     ]
    },
    {
     "name": "stderr",
     "output_type": "stream",
     "text": [
      "t:  41%|████      | 493/1199 [02:17<03:08,  3.75it/s, now=None]"
     ]
    },
    {
     "name": "stdout",
     "output_type": "stream",
     "text": [
      "test\n",
      "Fail sanity check - curvature left curvature: 459.0 right curvature: 56.0\n",
      "Fail sanity check - roughly parallel (maximum distance) 968.7636795221059\n",
      "Fail sanity check - vehicle position from the lane center 1.82\n"
     ]
    },
    {
     "name": "stderr",
     "output_type": "stream",
     "text": [
      "t:  41%|████      | 494/1199 [02:17<03:09,  3.73it/s, now=None]"
     ]
    },
    {
     "name": "stdout",
     "output_type": "stream",
     "text": [
      "failed\n",
      "Fail sanity check - roughly parallel (maximum distance) 922.5541630551389\n",
      "Fail sanity check - vehicle position from the lane center 1.74\n"
     ]
    },
    {
     "name": "stderr",
     "output_type": "stream",
     "text": [
      "t:  41%|████▏     | 495/1199 [02:17<03:09,  3.71it/s, now=None]"
     ]
    },
    {
     "name": "stdout",
     "output_type": "stream",
     "text": [
      "failed\n",
      "Fail sanity check - curvature left curvature: 351.0 right curvature: 56.0\n",
      "Fail sanity check - roughly parallel (maximum distance) 931.7034701007269\n",
      "Fail sanity check - vehicle position from the lane center 1.8\n"
     ]
    },
    {
     "name": "stderr",
     "output_type": "stream",
     "text": [
      "t:  41%|████▏     | 496/1199 [02:18<03:12,  3.66it/s, now=None]"
     ]
    },
    {
     "name": "stdout",
     "output_type": "stream",
     "text": [
      "failed\n",
      "Fail sanity check - roughly parallel (maximum distance) 916.2016631303843\n",
      "Fail sanity check - vehicle position from the lane center 1.69\n"
     ]
    },
    {
     "name": "stderr",
     "output_type": "stream",
     "text": [
      "t:  41%|████▏     | 497/1199 [02:18<03:10,  3.68it/s, now=None]"
     ]
    },
    {
     "name": "stdout",
     "output_type": "stream",
     "text": [
      "test\n",
      "Fail sanity check - curvature left curvature: 346.0 right curvature: 56.0\n",
      "Fail sanity check - roughly parallel (maximum distance) 925.1821642437696\n",
      "Fail sanity check - vehicle position from the lane center 1.8\n"
     ]
    },
    {
     "name": "stderr",
     "output_type": "stream",
     "text": [
      "t:  42%|████▏     | 498/1199 [02:18<03:11,  3.66it/s, now=None]"
     ]
    },
    {
     "name": "stdout",
     "output_type": "stream",
     "text": [
      "failed\n",
      "test\n",
      "Fail sanity check - curvature left curvature: 1135.0 right curvature: 56.0\n",
      "Fail sanity check - roughly parallel (maximum distance) 1045.6906888515227\n",
      "Fail sanity check - vehicle position from the lane center 1.78\n"
     ]
    },
    {
     "name": "stderr",
     "output_type": "stream",
     "text": [
      "t:  42%|████▏     | 499/1199 [02:19<03:11,  3.66it/s, now=None]"
     ]
    },
    {
     "name": "stdout",
     "output_type": "stream",
     "text": [
      "failed\n",
      "Fail sanity check - curvature left curvature: 1622.0 right curvature: 56.0\n",
      "Fail sanity check - roughly parallel (maximum distance) 985.2172885318049\n",
      "Fail sanity check - vehicle position from the lane center 1.81\n",
      "failed\n",
      "Error poly fit [ 1.18447356e+00 -1.31690697e+02  9.81826771e-02]\n"
     ]
    },
    {
     "name": "stderr",
     "output_type": "stream",
     "text": [
      "t:  42%|████▏     | 500/1199 [02:20<06:58,  1.67it/s, now=None]"
     ]
    },
    {
     "name": "stdout",
     "output_type": "stream",
     "text": [
      "Fail sanity check - curvature left curvature: 302.0 right curvature: 56.0\n",
      "Fail sanity check - distance at the bottom 741.5758776231713 right x point: 1329.6834223528604 left x point: 588.107544729689\n",
      "Fail sanity check - roughly parallel (maximum distance) 1091.5272853243782\n",
      "Fail sanity check - vehicle position from the lane center 1.97\n"
     ]
    },
    {
     "name": "stderr",
     "output_type": "stream",
     "text": [
      "t:  42%|████▏     | 501/1199 [02:20<06:14,  1.87it/s, now=None]"
     ]
    },
    {
     "name": "stdout",
     "output_type": "stream",
     "text": [
      "failed\n",
      "Fail sanity check - distance at the bottom 737.6240400935361 right x point: 1325.7315848232251 left x point: 588.107544729689\n",
      "Fail sanity check - roughly parallel (maximum distance) 1104.3696855957276\n",
      "Fail sanity check - vehicle position from the lane center 1.95\n"
     ]
    },
    {
     "name": "stderr",
     "output_type": "stream",
     "text": [
      "t:  42%|████▏     | 502/1199 [02:21<05:29,  2.12it/s, now=None]"
     ]
    },
    {
     "name": "stdout",
     "output_type": "stream",
     "text": [
      "failed\n",
      "Fail sanity check - curvature left curvature: 524.0 right curvature: 56.0\n",
      "Fail sanity check - distance at the bottom 724.0825402814156 right x point: 1312.1900850111047 left x point: 588.107544729689\n",
      "Fail sanity check - roughly parallel (maximum distance) 1014.8800580635645\n",
      "Fail sanity check - vehicle position from the lane center 1.91\n"
     ]
    },
    {
     "name": "stderr",
     "output_type": "stream",
     "text": [
      "t:  42%|████▏     | 503/1199 [02:21<05:13,  2.22it/s, now=None]"
     ]
    },
    {
     "name": "stdout",
     "output_type": "stream",
     "text": [
      "failed\n",
      "Fail sanity check - distance at the bottom 735.5890843002566 right x point: 1323.6966290299456 left x point: 588.107544729689\n",
      "Fail sanity check - roughly parallel (maximum distance) 1083.9448138547316\n",
      "Fail sanity check - vehicle position from the lane center 1.95\n"
     ]
    },
    {
     "name": "stderr",
     "output_type": "stream",
     "text": [
      "t:  42%|████▏     | 504/1199 [02:21<04:57,  2.33it/s, now=None]"
     ]
    },
    {
     "name": "stdout",
     "output_type": "stream",
     "text": [
      "failed\n",
      "Fail sanity check - curvature left curvature: 399.0 right curvature: 56.0\n",
      "Fail sanity check - distance at the bottom 720.8858682972706 right x point: 1308.9934130269596 left x point: 588.107544729689\n",
      "Fail sanity check - roughly parallel (maximum distance) 1057.8121257636017\n",
      "Fail sanity check - vehicle position from the lane center 1.9\n"
     ]
    },
    {
     "name": "stderr",
     "output_type": "stream",
     "text": [
      "t:  42%|████▏     | 505/1199 [02:22<04:51,  2.38it/s, now=None]"
     ]
    },
    {
     "name": "stdout",
     "output_type": "stream",
     "text": [
      "failed\n",
      "Fail sanity check - curvature left curvature: 333.0 right curvature: 56.0\n",
      "Fail sanity check - distance at the bottom 727.1228489363772 right x point: 1315.2303936660662 left x point: 588.107544729689\n",
      "Fail sanity check - roughly parallel (maximum distance) 1076.072913856008\n",
      "Fail sanity check - vehicle position from the lane center 1.92\n"
     ]
    },
    {
     "name": "stderr",
     "output_type": "stream",
     "text": [
      "t:  42%|████▏     | 506/1199 [02:22<04:38,  2.49it/s, now=None]"
     ]
    },
    {
     "name": "stdout",
     "output_type": "stream",
     "text": [
      "test\n",
      "Fail sanity check - curvature left curvature: 392.0 right curvature: 43.0\n",
      "Fail sanity check - distance at the bottom 1323.271268655913 right x point: 1304.0561331983781 left x point: -19.215135457534757\n",
      "Fail sanity check - roughly parallel (maximum distance) 1952.7515101617532\n",
      "Fail sanity check - roughly parallel (mean distance) 1306.5118692836243\n"
     ]
    },
    {
     "name": "stderr",
     "output_type": "stream",
     "text": [
      "t:  42%|████▏     | 507/1199 [02:22<04:11,  2.75it/s, now=None]"
     ]
    },
    {
     "name": "stdout",
     "output_type": "stream",
     "text": [
      "failed\n",
      "test\n",
      "Fail sanity check - distance at the bottom 1204.154691519138 right x point: 1184.9395560616033 left x point: -19.215135457534757\n",
      "Fail sanity check - roughly parallel (minimum distance) -382.70767346323544\n",
      "Fail sanity check - roughly parallel (maximum distance) 1204.2255741418526\n"
     ]
    },
    {
     "name": "stderr",
     "output_type": "stream",
     "text": [
      "t:  42%|████▏     | 508/1199 [02:23<03:48,  3.03it/s, now=None]"
     ]
    },
    {
     "name": "stdout",
     "output_type": "stream",
     "text": [
      "failed\n",
      "test\n",
      "Fail sanity check - distance at the bottom 1191.661397200753 right x point: 1172.4462617432184 left x point: -19.215135457534757\n",
      "Fail sanity check - roughly parallel (minimum distance) -444.61650296326513\n",
      "Fail sanity check - roughly parallel (maximum distance) 1193.501570301658\n"
     ]
    },
    {
     "name": "stderr",
     "output_type": "stream",
     "text": [
      "t:  42%|████▏     | 509/1199 [02:23<03:39,  3.14it/s, now=None]"
     ]
    },
    {
     "name": "stdout",
     "output_type": "stream",
     "text": [
      "failed\n",
      "test\n",
      "Fail sanity check - distance at the bottom 1178.6579868517742 right x point: 1159.4428513942394 left x point: -19.215135457534757\n",
      "Fail sanity check - roughly parallel (minimum distance) -730.5423887459525\n",
      "Fail sanity check - roughly parallel (maximum distance) 1185.5496900817034\n"
     ]
    },
    {
     "name": "stderr",
     "output_type": "stream",
     "text": [
      "t:  43%|████▎     | 510/1199 [02:23<03:30,  3.27it/s, now=None]"
     ]
    },
    {
     "name": "stdout",
     "output_type": "stream",
     "text": [
      "failed\n",
      "Error poly fit [ 21.81367076 414.76619246   2.42696903]\n",
      "Fail sanity check - curvature left curvature: 386.0 right curvature: 43.0\n",
      "Fail sanity check - distance at the bottom 1315.033263436142 right x point: 1295.8181279786074 left x point: -19.215135457534757\n",
      "Fail sanity check - roughly parallel (maximum distance) 1992.3894877636258\n",
      "Fail sanity check - roughly parallel (mean distance) 1321.8290733009214\n"
     ]
    },
    {
     "name": "stderr",
     "output_type": "stream",
     "text": [
      "t:  43%|████▎     | 511/1199 [02:23<03:24,  3.36it/s, now=None]"
     ]
    },
    {
     "name": "stdout",
     "output_type": "stream",
     "text": [
      "failed\n",
      "test\n",
      "Fail sanity check - distance at the bottom 1227.465711829464 right x point: 1208.2505763719291 left x point: -19.215135457534757\n",
      "Fail sanity check - roughly parallel (maximum distance) 1227.465711829464\n",
      "Fail sanity check - roughly parallel (mean distance) 1083.0149903417507\n"
     ]
    },
    {
     "name": "stderr",
     "output_type": "stream",
     "text": [
      "t:  43%|████▎     | 512/1199 [02:24<03:13,  3.55it/s, now=None]"
     ]
    },
    {
     "name": "stdout",
     "output_type": "stream",
     "text": [
      "failed\n",
      "test\n",
      "Fail sanity check - distance at the bottom 1235.1934059115983 right x point: 1215.9782704540635 left x point: -19.215135457534757\n",
      "Fail sanity check - roughly parallel (maximum distance) 1681.959912756744\n",
      "Fail sanity check - roughly parallel (mean distance) 1267.9213989335844\n"
     ]
    },
    {
     "name": "stderr",
     "output_type": "stream",
     "text": [
      "t:  43%|████▎     | 513/1199 [02:24<03:12,  3.56it/s, now=None]"
     ]
    },
    {
     "name": "stdout",
     "output_type": "stream",
     "text": [
      "failed\n",
      "test\n",
      "Fail sanity check - distance at the bottom 1191.3011105116498 right x point: 1172.0859750541151 left x point: -19.215135457534757\n",
      "Fail sanity check - roughly parallel (maximum distance) 1191.3011105116498\n",
      "Fail sanity check - roughly parallel (mean distance) 909.7557952972182\n"
     ]
    },
    {
     "name": "stderr",
     "output_type": "stream",
     "text": [
      "t:  43%|████▎     | 514/1199 [02:24<03:05,  3.69it/s, now=None]"
     ]
    },
    {
     "name": "stdout",
     "output_type": "stream",
     "text": [
      "failed\n",
      "test\n",
      "Fail sanity check - distance at the bottom 1272.2461759132702 right x point: 1253.0310404557356 left x point: -19.215135457534757\n",
      "Fail sanity check - roughly parallel (maximum distance) 1668.98950147389\n",
      "Fail sanity check - roughly parallel (mean distance) 1233.5571416166586\n"
     ]
    },
    {
     "name": "stderr",
     "output_type": "stream",
     "text": [
      "t:  43%|████▎     | 515/1199 [02:24<02:58,  3.84it/s, now=None]"
     ]
    },
    {
     "name": "stdout",
     "output_type": "stream",
     "text": [
      "failed\n",
      "test\n",
      "Fail sanity check - distance at the bottom 1261.4139899052507 right x point: 1242.1988544477158 left x point: -19.215135457534757\n",
      "Fail sanity check - roughly parallel (maximum distance) 2486.1533653474216\n",
      "Fail sanity check - roughly parallel (mean distance) 1513.2134134021317\n"
     ]
    },
    {
     "name": "stderr",
     "output_type": "stream",
     "text": [
      "t:  43%|████▎     | 516/1199 [02:25<02:53,  3.93it/s, now=None]"
     ]
    },
    {
     "name": "stdout",
     "output_type": "stream",
     "text": [
      "failed\n",
      "test\n",
      "Fail sanity check - distance at the bottom 1308.9089294417008 right x point: 1289.693793984166 left x point: -19.215135457534757\n",
      "Fail sanity check - roughly parallel (maximum distance) 4265.314166732404\n",
      "Fail sanity check - roughly parallel (mean distance) 2035.757967033147\n"
     ]
    },
    {
     "name": "stderr",
     "output_type": "stream",
     "text": [
      "t:  43%|████▎     | 517/1199 [02:25<02:55,  3.88it/s, now=None]"
     ]
    },
    {
     "name": "stdout",
     "output_type": "stream",
     "text": [
      "failed\n",
      "test\n",
      "Fail sanity check - curvature left curvature: 8.0 right curvature: 43.0\n",
      "Fail sanity check - distance at the bottom 1416.8039895945626 right x point: 1397.5888541370277 left x point: -19.215135457534757\n",
      "Fail sanity check - roughly parallel (maximum distance) 13257.169784084765\n",
      "Fail sanity check - roughly parallel (mean distance) 4753.3819400765715\n"
     ]
    },
    {
     "name": "stderr",
     "output_type": "stream",
     "text": [
      "t:  43%|████▎     | 518/1199 [02:25<02:55,  3.88it/s, now=None]"
     ]
    },
    {
     "name": "stdout",
     "output_type": "stream",
     "text": [
      "failed\n",
      "test\n",
      "Fail sanity check - distance at the bottom 1531.2678671458766 right x point: 1512.0527316883417 left x point: -19.215135457534757\n",
      "Fail sanity check - roughly parallel (maximum distance) 23161.562235256115\n",
      "Fail sanity check - roughly parallel (mean distance) 7753.43544183044\n"
     ]
    },
    {
     "name": "stderr",
     "output_type": "stream",
     "text": [
      "t:  43%|████▎     | 519/1199 [02:26<02:54,  3.90it/s, now=None]"
     ]
    },
    {
     "name": "stdout",
     "output_type": "stream",
     "text": [
      "failed\n",
      "test\n",
      "Error poly fit [-14.79270138 -14.25149974  -7.24451323]\n",
      "Fail sanity check - distance at the bottom 1302.5858896975637 right x point: 1283.370754240029 left x point: -19.215135457534757\n",
      "Fail sanity check - roughly parallel (maximum distance) 3574.1941067903877\n",
      "Fail sanity check - roughly parallel (mean distance) 1866.3299789540997\n"
     ]
    },
    {
     "name": "stderr",
     "output_type": "stream",
     "text": [
      "t:  43%|████▎     | 520/1199 [02:26<02:51,  3.97it/s, now=None]"
     ]
    },
    {
     "name": "stdout",
     "output_type": "stream",
     "text": [
      "failed\n",
      "test\n",
      "Fail sanity check - distance at the bottom 1302.5858896975637 right x point: 1283.370754240029 left x point: -19.215135457534757\n",
      "Fail sanity check - roughly parallel (maximum distance) 3574.1941067903877\n",
      "Fail sanity check - roughly parallel (mean distance) 1866.3299789540997\n"
     ]
    },
    {
     "name": "stderr",
     "output_type": "stream",
     "text": [
      "t:  43%|████▎     | 521/1199 [02:26<03:15,  3.47it/s, now=None]"
     ]
    },
    {
     "name": "stdout",
     "output_type": "stream",
     "text": [
      "failed\n",
      "Fail sanity check - curvature left curvature: 282.0 right curvature: 43.0\n",
      "Fail sanity check - distance at the bottom 885.1929238938561 right x point: 865.9777884363214 left x point: -19.215135457534757\n",
      "Fail sanity check - roughly parallel (maximum distance) 1292.837712190798\n",
      "Fail sanity check - roughly parallel (mean distance) 831.8497048369122\n",
      "Fail sanity check - vehicle position from the lane center -1.34\n"
     ]
    },
    {
     "name": "stderr",
     "output_type": "stream",
     "text": [
      "t:  44%|████▍     | 531/1199 [02:29<03:03,  3.64it/s, now=None]"
     ]
    },
    {
     "name": "stdout",
     "output_type": "stream",
     "text": [
      "Fail sanity check - roughly parallel (mean distance) 466.1214074598682\n"
     ]
    },
    {
     "name": "stderr",
     "output_type": "stream",
     "text": [
      "t:  44%|████▍     | 532/1199 [02:29<03:02,  3.66it/s, now=None]"
     ]
    },
    {
     "name": "stdout",
     "output_type": "stream",
     "text": [
      "failed\n",
      "Fail sanity check - roughly parallel (mean distance) 455.4334012693915\n"
     ]
    },
    {
     "name": "stderr",
     "output_type": "stream",
     "text": [
      "t:  44%|████▍     | 533/1199 [02:30<03:02,  3.65it/s, now=None]"
     ]
    },
    {
     "name": "stdout",
     "output_type": "stream",
     "text": [
      "failed\n",
      "failed\n",
      "Fail sanity check - roughly parallel (mean distance) 455.4334012693915\n"
     ]
    },
    {
     "name": "stderr",
     "output_type": "stream",
     "text": [
      "t:  45%|████▍     | 534/1199 [02:30<02:52,  3.84it/s, now=None]"
     ]
    },
    {
     "name": "stdout",
     "output_type": "stream",
     "text": [
      "failed\n",
      "failed\n",
      "Fail sanity check - roughly parallel (mean distance) 455.4334012693915\n"
     ]
    },
    {
     "name": "stderr",
     "output_type": "stream",
     "text": [
      "t:  45%|████▍     | 535/1199 [02:30<02:46,  4.00it/s, now=None]"
     ]
    },
    {
     "name": "stdout",
     "output_type": "stream",
     "text": [
      "failed\n",
      "failed\n",
      "Fail sanity check - roughly parallel (mean distance) 455.4334012693915\n"
     ]
    },
    {
     "name": "stderr",
     "output_type": "stream",
     "text": [
      "t:  45%|████▍     | 536/1199 [02:30<02:39,  4.16it/s, now=None]"
     ]
    },
    {
     "name": "stdout",
     "output_type": "stream",
     "text": [
      "failed\n",
      "failed\n",
      "Fail sanity check - roughly parallel (mean distance) 455.4334012693915\n"
     ]
    },
    {
     "name": "stderr",
     "output_type": "stream",
     "text": [
      "t:  45%|████▍     | 537/1199 [02:30<02:43,  4.06it/s, now=None]"
     ]
    },
    {
     "name": "stdout",
     "output_type": "stream",
     "text": [
      "failed\n"
     ]
    },
    {
     "name": "stderr",
     "output_type": "stream",
     "text": [
      "t:  45%|████▍     | 538/1199 [02:31<02:46,  3.97it/s, now=None]"
     ]
    },
    {
     "name": "stdout",
     "output_type": "stream",
     "text": [
      "failed\n"
     ]
    },
    {
     "name": "stderr",
     "output_type": "stream",
     "text": [
      "t:  45%|████▍     | 539/1199 [02:31<02:48,  3.93it/s, now=None]"
     ]
    },
    {
     "name": "stdout",
     "output_type": "stream",
     "text": [
      "failed\n"
     ]
    },
    {
     "name": "stderr",
     "output_type": "stream",
     "text": [
      "t:  46%|████▌     | 554/1199 [02:35<02:54,  3.70it/s, now=None]"
     ]
    },
    {
     "name": "stdout",
     "output_type": "stream",
     "text": [
      "Fail sanity check - curvature left curvature: 1073.0 right curvature: 203.0\n"
     ]
    },
    {
     "name": "stderr",
     "output_type": "stream",
     "text": [
      "t:  46%|████▋     | 555/1199 [02:35<02:52,  3.72it/s, now=None]"
     ]
    },
    {
     "name": "stdout",
     "output_type": "stream",
     "text": [
      "failed\n",
      "Fail sanity check - curvature left curvature: 1485.0 right curvature: 203.0\n"
     ]
    },
    {
     "name": "stderr",
     "output_type": "stream",
     "text": [
      "t:  46%|████▋     | 556/1199 [02:36<02:52,  3.73it/s, now=None]"
     ]
    },
    {
     "name": "stdout",
     "output_type": "stream",
     "text": [
      "failed\n",
      "Fail sanity check - curvature left curvature: 1463.0 right curvature: 203.0\n"
     ]
    },
    {
     "name": "stderr",
     "output_type": "stream",
     "text": [
      "t:  46%|████▋     | 557/1199 [02:36<02:53,  3.70it/s, now=None]"
     ]
    },
    {
     "name": "stdout",
     "output_type": "stream",
     "text": [
      "failed\n",
      "Fail sanity check - curvature left curvature: 1565.0 right curvature: 203.0\n"
     ]
    },
    {
     "name": "stderr",
     "output_type": "stream",
     "text": [
      "t:  47%|████▋     | 558/1199 [02:36<02:51,  3.74it/s, now=None]"
     ]
    },
    {
     "name": "stdout",
     "output_type": "stream",
     "text": [
      "failed\n",
      "Fail sanity check - curvature left curvature: 1126.0 right curvature: 203.0\n"
     ]
    },
    {
     "name": "stderr",
     "output_type": "stream",
     "text": [
      "t:  47%|████▋     | 559/1199 [02:36<02:49,  3.77it/s, now=None]"
     ]
    },
    {
     "name": "stdout",
     "output_type": "stream",
     "text": [
      "failed\n",
      "Fail sanity check - curvature left curvature: 1149.0 right curvature: 203.0\n"
     ]
    },
    {
     "name": "stderr",
     "output_type": "stream",
     "text": [
      "t:  47%|████▋     | 560/1199 [02:37<02:49,  3.76it/s, now=None]"
     ]
    },
    {
     "name": "stdout",
     "output_type": "stream",
     "text": [
      "failed\n",
      "Fail sanity check - curvature left curvature: 1419.0 right curvature: 203.0\n"
     ]
    },
    {
     "name": "stderr",
     "output_type": "stream",
     "text": [
      "t:  47%|████▋     | 561/1199 [02:37<02:52,  3.69it/s, now=None]"
     ]
    },
    {
     "name": "stdout",
     "output_type": "stream",
     "text": [
      "failed\n",
      "Fail sanity check - curvature left curvature: 1539.0 right curvature: 203.0\n"
     ]
    },
    {
     "name": "stderr",
     "output_type": "stream",
     "text": [
      "t:  47%|████▋     | 562/1199 [02:37<02:51,  3.70it/s, now=None]"
     ]
    },
    {
     "name": "stdout",
     "output_type": "stream",
     "text": [
      "failed\n",
      "Fail sanity check - curvature left curvature: 1578.0 right curvature: 203.0\n"
     ]
    },
    {
     "name": "stderr",
     "output_type": "stream",
     "text": [
      "t:  47%|████▋     | 563/1199 [02:37<02:50,  3.74it/s, now=None]"
     ]
    },
    {
     "name": "stdout",
     "output_type": "stream",
     "text": [
      "failed\n",
      "Fail sanity check - curvature left curvature: 1922.0 right curvature: 203.0\n"
     ]
    },
    {
     "name": "stderr",
     "output_type": "stream",
     "text": [
      "t:  47%|████▋     | 564/1199 [02:38<02:48,  3.76it/s, now=None]"
     ]
    },
    {
     "name": "stdout",
     "output_type": "stream",
     "text": [
      "failed\n",
      "Fail sanity check - curvature left curvature: 1960.0 right curvature: 203.0\n"
     ]
    },
    {
     "name": "stderr",
     "output_type": "stream",
     "text": [
      "t:  47%|████▋     | 565/1199 [02:38<02:50,  3.72it/s, now=None]"
     ]
    },
    {
     "name": "stdout",
     "output_type": "stream",
     "text": [
      "failed\n",
      "Fail sanity check - curvature left curvature: 1750.0 right curvature: 203.0\n"
     ]
    },
    {
     "name": "stderr",
     "output_type": "stream",
     "text": [
      "t:  47%|████▋     | 566/1199 [02:38<02:48,  3.75it/s, now=None]"
     ]
    },
    {
     "name": "stdout",
     "output_type": "stream",
     "text": [
      "failed\n",
      "Fail sanity check - curvature left curvature: 1171.0 right curvature: 203.0\n"
     ]
    },
    {
     "name": "stderr",
     "output_type": "stream",
     "text": [
      "t:  47%|████▋     | 567/1199 [02:38<02:48,  3.76it/s, now=None]"
     ]
    },
    {
     "name": "stdout",
     "output_type": "stream",
     "text": [
      "failed\n",
      "Fail sanity check - curvature left curvature: 1141.0 right curvature: 203.0\n"
     ]
    },
    {
     "name": "stderr",
     "output_type": "stream",
     "text": [
      "t:  47%|████▋     | 568/1199 [02:39<02:46,  3.79it/s, now=None]"
     ]
    },
    {
     "name": "stdout",
     "output_type": "stream",
     "text": [
      "failed\n",
      "Fail sanity check - curvature left curvature: 1449.0 right curvature: 203.0\n"
     ]
    },
    {
     "name": "stderr",
     "output_type": "stream",
     "text": [
      "t:  47%|████▋     | 569/1199 [02:39<02:48,  3.74it/s, now=None]"
     ]
    },
    {
     "name": "stdout",
     "output_type": "stream",
     "text": [
      "failed\n",
      "Fail sanity check - curvature left curvature: 1307.0 right curvature: 203.0\n"
     ]
    },
    {
     "name": "stderr",
     "output_type": "stream",
     "text": [
      "t:  48%|████▊     | 570/1199 [02:39<02:47,  3.75it/s, now=None]"
     ]
    },
    {
     "name": "stdout",
     "output_type": "stream",
     "text": [
      "failed\n",
      "Fail sanity check - curvature left curvature: 1285.0 right curvature: 203.0\n"
     ]
    },
    {
     "name": "stderr",
     "output_type": "stream",
     "text": [
      "t:  48%|████▊     | 571/1199 [02:40<02:47,  3.76it/s, now=None]"
     ]
    },
    {
     "name": "stdout",
     "output_type": "stream",
     "text": [
      "failed\n",
      "Fail sanity check - curvature left curvature: 1402.0 right curvature: 203.0\n"
     ]
    },
    {
     "name": "stderr",
     "output_type": "stream",
     "text": [
      "t:  48%|████▊     | 572/1199 [02:40<02:46,  3.76it/s, now=None]"
     ]
    },
    {
     "name": "stdout",
     "output_type": "stream",
     "text": [
      "failed\n",
      "Fail sanity check - curvature left curvature: 1878.0 right curvature: 203.0\n"
     ]
    },
    {
     "name": "stderr",
     "output_type": "stream",
     "text": [
      "t:  48%|████▊     | 573/1199 [02:40<02:48,  3.72it/s, now=None]"
     ]
    },
    {
     "name": "stdout",
     "output_type": "stream",
     "text": [
      "failed\n",
      "Fail sanity check - curvature left curvature: 1419.0 right curvature: 203.0\n"
     ]
    },
    {
     "name": "stderr",
     "output_type": "stream",
     "text": [
      "t:  48%|████▊     | 574/1199 [02:40<02:47,  3.74it/s, now=None]"
     ]
    },
    {
     "name": "stdout",
     "output_type": "stream",
     "text": [
      "failed\n",
      "Fail sanity check - curvature left curvature: 1238.0 right curvature: 203.0\n"
     ]
    },
    {
     "name": "stderr",
     "output_type": "stream",
     "text": [
      "t:  48%|████▊     | 575/1199 [02:41<02:45,  3.78it/s, now=None]"
     ]
    },
    {
     "name": "stdout",
     "output_type": "stream",
     "text": [
      "failed\n",
      "Fail sanity check - curvature left curvature: 1187.0 right curvature: 203.0\n"
     ]
    },
    {
     "name": "stderr",
     "output_type": "stream",
     "text": [
      "t:  48%|████▊     | 576/1199 [02:41<02:44,  3.78it/s, now=None]"
     ]
    },
    {
     "name": "stdout",
     "output_type": "stream",
     "text": [
      "failed\n",
      "Fail sanity check - curvature left curvature: 1235.0 right curvature: 203.0\n"
     ]
    },
    {
     "name": "stderr",
     "output_type": "stream",
     "text": [
      "t:  48%|████▊     | 577/1199 [02:41<02:44,  3.79it/s, now=None]"
     ]
    },
    {
     "name": "stdout",
     "output_type": "stream",
     "text": [
      "failed\n"
     ]
    },
    {
     "name": "stderr",
     "output_type": "stream",
     "text": [
      "t:  48%|████▊     | 578/1199 [02:41<02:42,  3.82it/s, now=None]"
     ]
    },
    {
     "name": "stdout",
     "output_type": "stream",
     "text": [
      "failed\n"
     ]
    },
    {
     "name": "stderr",
     "output_type": "stream",
     "text": [
      "t:  48%|████▊     | 579/1199 [02:42<02:41,  3.84it/s, now=None]"
     ]
    },
    {
     "name": "stdout",
     "output_type": "stream",
     "text": [
      "failed\n"
     ]
    },
    {
     "name": "stderr",
     "output_type": "stream",
     "text": [
      "t:  48%|████▊     | 580/1199 [02:42<02:43,  3.77it/s, now=None]"
     ]
    },
    {
     "name": "stdout",
     "output_type": "stream",
     "text": [
      "failed\n"
     ]
    },
    {
     "name": "stderr",
     "output_type": "stream",
     "text": [
      "t:  48%|████▊     | 581/1199 [02:42<02:41,  3.83it/s, now=None]"
     ]
    },
    {
     "name": "stdout",
     "output_type": "stream",
     "text": [
      "failed\n",
      "failed\n"
     ]
    },
    {
     "name": "stderr",
     "output_type": "stream",
     "text": [
      "t:  49%|████▊     | 582/1199 [02:42<02:33,  4.02it/s, now=None]"
     ]
    },
    {
     "name": "stdout",
     "output_type": "stream",
     "text": [
      "failed\n"
     ]
    },
    {
     "name": "stderr",
     "output_type": "stream",
     "text": [
      "t:  49%|████▊     | 583/1199 [02:43<02:34,  3.99it/s, now=None]"
     ]
    },
    {
     "name": "stdout",
     "output_type": "stream",
     "text": [
      "failed\n"
     ]
    },
    {
     "name": "stderr",
     "output_type": "stream",
     "text": [
      "t:  49%|████▊     | 584/1199 [02:43<02:38,  3.89it/s, now=None]"
     ]
    },
    {
     "name": "stdout",
     "output_type": "stream",
     "text": [
      "failed\n"
     ]
    },
    {
     "name": "stderr",
     "output_type": "stream",
     "text": [
      "t:  49%|████▉     | 585/1199 [02:43<02:38,  3.88it/s, now=None]"
     ]
    },
    {
     "name": "stdout",
     "output_type": "stream",
     "text": [
      "failed\n"
     ]
    },
    {
     "name": "stderr",
     "output_type": "stream",
     "text": [
      "t:  49%|████▉     | 586/1199 [02:43<02:38,  3.86it/s, now=None]"
     ]
    },
    {
     "name": "stdout",
     "output_type": "stream",
     "text": [
      "failed\n"
     ]
    },
    {
     "name": "stderr",
     "output_type": "stream",
     "text": [
      "t:  49%|████▉     | 587/1199 [02:44<02:39,  3.84it/s, now=None]"
     ]
    },
    {
     "name": "stdout",
     "output_type": "stream",
     "text": [
      "failed\n"
     ]
    },
    {
     "name": "stderr",
     "output_type": "stream",
     "text": [
      "t:  49%|████▉     | 588/1199 [02:44<02:43,  3.74it/s, now=None]"
     ]
    },
    {
     "name": "stdout",
     "output_type": "stream",
     "text": [
      "failed\n",
      "Fail sanity check - curvature left curvature: 1235.0 right curvature: 203.0\n"
     ]
    },
    {
     "name": "stderr",
     "output_type": "stream",
     "text": [
      "t:  49%|████▉     | 589/1199 [02:44<02:42,  3.75it/s, now=None]"
     ]
    },
    {
     "name": "stdout",
     "output_type": "stream",
     "text": [
      "failed\n"
     ]
    },
    {
     "name": "stderr",
     "output_type": "stream",
     "text": [
      "t:  49%|████▉     | 590/1199 [02:45<02:41,  3.77it/s, now=None]"
     ]
    },
    {
     "name": "stdout",
     "output_type": "stream",
     "text": [
      "failed\n",
      "Fail sanity check - curvature left curvature: 3050.0 right curvature: 203.0\n"
     ]
    },
    {
     "name": "stderr",
     "output_type": "stream",
     "text": [
      "t:  49%|████▉     | 591/1199 [02:45<02:39,  3.81it/s, now=None]"
     ]
    },
    {
     "name": "stdout",
     "output_type": "stream",
     "text": [
      "failed\n"
     ]
    },
    {
     "name": "stderr",
     "output_type": "stream",
     "text": [
      "t:  49%|████▉     | 592/1199 [02:45<02:40,  3.79it/s, now=None]"
     ]
    },
    {
     "name": "stdout",
     "output_type": "stream",
     "text": [
      "failed\n"
     ]
    },
    {
     "name": "stderr",
     "output_type": "stream",
     "text": [
      "t:  49%|████▉     | 593/1199 [02:45<02:38,  3.82it/s, now=None]"
     ]
    },
    {
     "name": "stdout",
     "output_type": "stream",
     "text": [
      "failed\n"
     ]
    },
    {
     "name": "stderr",
     "output_type": "stream",
     "text": [
      "t:  50%|████▉     | 594/1199 [02:46<02:37,  3.85it/s, now=None]"
     ]
    },
    {
     "name": "stdout",
     "output_type": "stream",
     "text": [
      "failed\n"
     ]
    },
    {
     "name": "stderr",
     "output_type": "stream",
     "text": [
      "t:  50%|████▉     | 595/1199 [02:46<02:36,  3.85it/s, now=None]"
     ]
    },
    {
     "name": "stdout",
     "output_type": "stream",
     "text": [
      "failed\n"
     ]
    },
    {
     "name": "stderr",
     "output_type": "stream",
     "text": [
      "t:  50%|████▉     | 596/1199 [02:46<02:38,  3.80it/s, now=None]"
     ]
    },
    {
     "name": "stdout",
     "output_type": "stream",
     "text": [
      "failed\n"
     ]
    },
    {
     "name": "stderr",
     "output_type": "stream",
     "text": [
      "t:  50%|████▉     | 597/1199 [02:46<02:38,  3.80it/s, now=None]"
     ]
    },
    {
     "name": "stdout",
     "output_type": "stream",
     "text": [
      "failed\n",
      "Fail sanity check - roughly parallel (maximum distance) 907.5788940941991\n"
     ]
    },
    {
     "name": "stderr",
     "output_type": "stream",
     "text": [
      "t:  50%|████▉     | 598/1199 [02:47<02:36,  3.84it/s, now=None]"
     ]
    },
    {
     "name": "stdout",
     "output_type": "stream",
     "text": [
      "failed\n",
      "Fail sanity check - roughly parallel (maximum distance) 915.7552330724286\n"
     ]
    },
    {
     "name": "stderr",
     "output_type": "stream",
     "text": [
      "t:  50%|████▉     | 599/1199 [02:47<02:29,  4.03it/s, now=None]"
     ]
    },
    {
     "name": "stdout",
     "output_type": "stream",
     "text": [
      "failed\n",
      "Fail sanity check - roughly parallel (maximum distance) 929.3010534429935\n",
      "failed\n"
     ]
    },
    {
     "name": "stderr",
     "output_type": "stream",
     "text": [
      "t:  50%|█████     | 600/1199 [02:48<05:28,  1.83it/s, now=None]"
     ]
    },
    {
     "name": "stdout",
     "output_type": "stream",
     "text": [
      "Fail sanity check - roughly parallel (maximum distance) 938.9677283613242\n",
      "failed\n"
     ]
    },
    {
     "name": "stderr",
     "output_type": "stream",
     "text": [
      "t:  50%|█████     | 601/1199 [02:48<04:29,  2.22it/s, now=None]"
     ]
    },
    {
     "name": "stdout",
     "output_type": "stream",
     "text": [
      "Fail sanity check - roughly parallel (maximum distance) 952.1087118889025\n"
     ]
    },
    {
     "name": "stderr",
     "output_type": "stream",
     "text": [
      "t:  50%|█████     | 602/1199 [02:49<03:53,  2.55it/s, now=None]"
     ]
    },
    {
     "name": "stdout",
     "output_type": "stream",
     "text": [
      "failed\n",
      "Fail sanity check - roughly parallel (maximum distance) 969.9244149043253\n"
     ]
    },
    {
     "name": "stderr",
     "output_type": "stream",
     "text": [
      "t:  50%|█████     | 603/1199 [02:49<03:29,  2.85it/s, now=None]"
     ]
    },
    {
     "name": "stdout",
     "output_type": "stream",
     "text": [
      "failed\n",
      "Fail sanity check - roughly parallel (maximum distance) 975.7956556339774\n"
     ]
    },
    {
     "name": "stderr",
     "output_type": "stream",
     "text": [
      "t:  50%|█████     | 604/1199 [02:49<03:13,  3.07it/s, now=None]"
     ]
    },
    {
     "name": "stdout",
     "output_type": "stream",
     "text": [
      "failed\n",
      "Fail sanity check - roughly parallel (maximum distance) 990.7039614065155\n"
     ]
    },
    {
     "name": "stderr",
     "output_type": "stream",
     "text": [
      "t:  50%|█████     | 605/1199 [02:49<03:01,  3.27it/s, now=None]"
     ]
    },
    {
     "name": "stdout",
     "output_type": "stream",
     "text": [
      "failed\n",
      "Fail sanity check - roughly parallel (maximum distance) 1001.3829117104535\n"
     ]
    },
    {
     "name": "stderr",
     "output_type": "stream",
     "text": [
      "t:  51%|█████     | 606/1199 [02:50<02:54,  3.40it/s, now=None]"
     ]
    },
    {
     "name": "stdout",
     "output_type": "stream",
     "text": [
      "failed\n",
      "Fail sanity check - roughly parallel (maximum distance) 1011.3513906148555\n"
     ]
    },
    {
     "name": "stderr",
     "output_type": "stream",
     "text": [
      "t:  51%|█████     | 607/1199 [02:50<02:47,  3.54it/s, now=None]"
     ]
    },
    {
     "name": "stdout",
     "output_type": "stream",
     "text": [
      "failed\n",
      "Fail sanity check - roughly parallel (maximum distance) 1020.0893720298027\n"
     ]
    },
    {
     "name": "stderr",
     "output_type": "stream",
     "text": [
      "t:  51%|█████     | 608/1199 [02:50<02:45,  3.56it/s, now=None]"
     ]
    },
    {
     "name": "stdout",
     "output_type": "stream",
     "text": [
      "failed\n",
      "Fail sanity check - roughly parallel (maximum distance) 1031.485878549413\n"
     ]
    },
    {
     "name": "stderr",
     "output_type": "stream",
     "text": [
      "t:  51%|█████     | 609/1199 [02:50<02:42,  3.63it/s, now=None]"
     ]
    },
    {
     "name": "stdout",
     "output_type": "stream",
     "text": [
      "failed\n",
      "Fail sanity check - roughly parallel (maximum distance) 1039.67685916846\n"
     ]
    },
    {
     "name": "stderr",
     "output_type": "stream",
     "text": [
      "t:  51%|█████     | 610/1199 [02:51<02:39,  3.69it/s, now=None]"
     ]
    },
    {
     "name": "stdout",
     "output_type": "stream",
     "text": [
      "failed\n",
      "Fail sanity check - roughly parallel (maximum distance) 1048.7518804917177\n"
     ]
    },
    {
     "name": "stderr",
     "output_type": "stream",
     "text": [
      "t:  51%|█████     | 611/1199 [02:51<02:37,  3.73it/s, now=None]"
     ]
    },
    {
     "name": "stdout",
     "output_type": "stream",
     "text": [
      "failed\n",
      "Fail sanity check - roughly parallel (maximum distance) 1055.9888606368186\n"
     ]
    },
    {
     "name": "stderr",
     "output_type": "stream",
     "text": [
      "t:  51%|█████     | 612/1199 [02:51<02:39,  3.67it/s, now=None]"
     ]
    },
    {
     "name": "stdout",
     "output_type": "stream",
     "text": [
      "failed\n",
      "Fail sanity check - roughly parallel (maximum distance) 1061.9146951940736\n"
     ]
    },
    {
     "name": "stderr",
     "output_type": "stream",
     "text": [
      "t:  51%|█████     | 613/1199 [02:51<02:42,  3.61it/s, now=None]"
     ]
    },
    {
     "name": "stdout",
     "output_type": "stream",
     "text": [
      "failed\n",
      "Fail sanity check - roughly parallel (maximum distance) 1030.309268987905\n"
     ]
    },
    {
     "name": "stderr",
     "output_type": "stream",
     "text": [
      "t:  51%|█████     | 614/1199 [02:52<02:42,  3.60it/s, now=None]"
     ]
    },
    {
     "name": "stdout",
     "output_type": "stream",
     "text": [
      "Error poly fit [  2.89058715 -25.49932023  -0.08088632]\n"
     ]
    },
    {
     "name": "stderr",
     "output_type": "stream",
     "text": [
      "t:  52%|█████▏    | 625/1199 [02:55<02:42,  3.52it/s, now=None]"
     ]
    },
    {
     "name": "stdout",
     "output_type": "stream",
     "text": [
      "Error poly fit [ 2.73999618e-01  4.81195039e+01 -5.52180707e-03]\n"
     ]
    },
    {
     "name": "stderr",
     "output_type": "stream",
     "text": [
      "t:  54%|█████▎    | 642/1199 [03:00<02:51,  3.25it/s, now=None]"
     ]
    },
    {
     "name": "stdout",
     "output_type": "stream",
     "text": [
      "Fail sanity check - distance at the bottom 469.53802660878017 right x point: 892.956328834081 left x point: 423.4183022253008\n"
     ]
    },
    {
     "name": "stderr",
     "output_type": "stream",
     "text": [
      "t:  54%|█████▎    | 643/1199 [03:00<02:53,  3.20it/s, now=None]"
     ]
    },
    {
     "name": "stdout",
     "output_type": "stream",
     "text": [
      "Error poly fit [ 3.00390864 13.32676768 -0.29982544]\n",
      "Error poly fit [ 5.48642991e+01 -1.82994680e+01  3.67736912e-02]\n"
     ]
    },
    {
     "name": "stderr",
     "output_type": "stream",
     "text": [
      "t:  54%|█████▍    | 651/1199 [03:03<02:57,  3.09it/s, now=None]"
     ]
    },
    {
     "name": "stdout",
     "output_type": "stream",
     "text": [
      "Fail sanity check - curvature left curvature: 2511.0 right curvature: 267.0\n"
     ]
    },
    {
     "name": "stderr",
     "output_type": "stream",
     "text": [
      "t:  54%|█████▍    | 652/1199 [03:03<02:57,  3.08it/s, now=None]"
     ]
    },
    {
     "name": "stdout",
     "output_type": "stream",
     "text": [
      "Error poly fit [-15.96673441  -3.50667648  -0.24843721]\n",
      "Error poly fit [ -1.94833929 -13.61872853  -0.10271543]\n",
      "Fail sanity check - roughly parallel (mean distance) 469.4911615939424\n"
     ]
    },
    {
     "name": "stderr",
     "output_type": "stream",
     "text": [
      "t:  54%|█████▍    | 653/1199 [03:03<02:56,  3.09it/s, now=None]"
     ]
    },
    {
     "name": "stdout",
     "output_type": "stream",
     "text": [
      "Fail sanity check - roughly parallel (mean distance) 450.0861639810604\n"
     ]
    },
    {
     "name": "stderr",
     "output_type": "stream",
     "text": [
      "t:  55%|█████▍    | 654/1199 [03:04<02:58,  3.05it/s, now=None]"
     ]
    },
    {
     "name": "stdout",
     "output_type": "stream",
     "text": [
      "Fail sanity check - roughly parallel (mean distance) 452.45846146730344\n"
     ]
    },
    {
     "name": "stderr",
     "output_type": "stream",
     "text": [
      "t:  55%|█████▍    | 655/1199 [03:04<02:58,  3.05it/s, now=None]"
     ]
    },
    {
     "name": "stdout",
     "output_type": "stream",
     "text": [
      "Fail sanity check - curvature left curvature: 4059.0 right curvature: 808.0\n",
      "Fail sanity check - roughly parallel (mean distance) 449.28541857357646\n"
     ]
    },
    {
     "name": "stderr",
     "output_type": "stream",
     "text": [
      "t:  55%|█████▍    | 656/1199 [03:04<02:58,  3.05it/s, now=None]"
     ]
    },
    {
     "name": "stdout",
     "output_type": "stream",
     "text": [
      "Fail sanity check - curvature left curvature: 3853.0 right curvature: 635.0\n",
      "Fail sanity check - roughly parallel (mean distance) 450.1452177369974\n"
     ]
    },
    {
     "name": "stderr",
     "output_type": "stream",
     "text": [
      "t:  55%|█████▍    | 657/1199 [03:05<03:01,  2.99it/s, now=None]"
     ]
    },
    {
     "name": "stdout",
     "output_type": "stream",
     "text": [
      "Fail sanity check - roughly parallel (mean distance) 455.9260263044615\n"
     ]
    },
    {
     "name": "stderr",
     "output_type": "stream",
     "text": [
      "t:  55%|█████▍    | 658/1199 [03:05<03:09,  2.85it/s, now=None]"
     ]
    },
    {
     "name": "stdout",
     "output_type": "stream",
     "text": [
      "Fail sanity check - roughly parallel (mean distance) 457.31660326492886\n"
     ]
    },
    {
     "name": "stderr",
     "output_type": "stream",
     "text": [
      "t:  55%|█████▌    | 660/1199 [03:06<03:07,  2.87it/s, now=None]"
     ]
    },
    {
     "name": "stdout",
     "output_type": "stream",
     "text": [
      "Fail sanity check - curvature left curvature: 3081.0 right curvature: 527.0\n"
     ]
    },
    {
     "name": "stderr",
     "output_type": "stream",
     "text": [
      "t:  55%|█████▌    | 661/1199 [03:06<03:08,  2.86it/s, now=None]"
     ]
    },
    {
     "name": "stdout",
     "output_type": "stream",
     "text": [
      "Error poly fit [-3.29867342e+00  3.90539605e+01 -9.95014071e-03]\n"
     ]
    },
    {
     "name": "stderr",
     "output_type": "stream",
     "text": [
      "t:  55%|█████▌    | 663/1199 [03:07<02:59,  2.98it/s, now=None]"
     ]
    },
    {
     "name": "stdout",
     "output_type": "stream",
     "text": [
      "Fail sanity check - curvature left curvature: 5667.0 right curvature: 202.0\n"
     ]
    },
    {
     "name": "stderr",
     "output_type": "stream",
     "text": [
      "t:  55%|█████▌    | 664/1199 [03:07<03:01,  2.95it/s, now=None]"
     ]
    },
    {
     "name": "stdout",
     "output_type": "stream",
     "text": [
      "Fail sanity check - curvature left curvature: 3470.0 right curvature: 190.0\n"
     ]
    },
    {
     "name": "stderr",
     "output_type": "stream",
     "text": [
      "t:  56%|█████▌    | 667/1199 [03:08<02:54,  3.05it/s, now=None]"
     ]
    },
    {
     "name": "stdout",
     "output_type": "stream",
     "text": [
      "Fail sanity check - curvature left curvature: 2736.0 right curvature: 164.0\n"
     ]
    },
    {
     "name": "stderr",
     "output_type": "stream",
     "text": [
      "t:  56%|█████▌    | 669/1199 [03:09<02:53,  3.05it/s, now=None]"
     ]
    },
    {
     "name": "stdout",
     "output_type": "stream",
     "text": [
      "Fail sanity check - curvature left curvature: 4115.0 right curvature: 183.0\n"
     ]
    },
    {
     "name": "stderr",
     "output_type": "stream",
     "text": [
      "t:  56%|█████▌    | 670/1199 [03:09<02:53,  3.05it/s, now=None]"
     ]
    },
    {
     "name": "stdout",
     "output_type": "stream",
     "text": [
      "Fail sanity check - distance at the bottom 356.3353647145105 right x point: 770.1367115721544 left x point: 413.80134685764386\n",
      "Fail sanity check - roughly parallel (minimum distance) 249.58566277575142\n",
      "Fail sanity check - roughly parallel (mean distance) 329.8249744753712\n"
     ]
    },
    {
     "name": "stderr",
     "output_type": "stream",
     "text": [
      "t:  56%|█████▌    | 671/1199 [03:10<02:51,  3.08it/s, now=None]"
     ]
    },
    {
     "name": "stdout",
     "output_type": "stream",
     "text": [
      "Fail sanity check - distance at the bottom 339.536816380466 right x point: 748.3652355451201 left x point: 408.82841916465406\n",
      "Fail sanity check - roughly parallel (minimum distance) 234.45137920440982\n",
      "Fail sanity check - roughly parallel (mean distance) 312.01269279105264\n"
     ]
    },
    {
     "name": "stderr",
     "output_type": "stream",
     "text": [
      "t:  56%|█████▌    | 672/1199 [03:10<02:49,  3.11it/s, now=None]"
     ]
    },
    {
     "name": "stdout",
     "output_type": "stream",
     "text": [
      "Fail sanity check - distance at the bottom 322.15717359894774 right x point: 723.3929552610531 left x point: 401.23578166210535\n",
      "Fail sanity check - roughly parallel (minimum distance) 215.6529540611731\n",
      "Fail sanity check - roughly parallel (mean distance) 294.0190652192662\n"
     ]
    },
    {
     "name": "stderr",
     "output_type": "stream",
     "text": [
      "t:  56%|█████▌    | 673/1199 [03:10<02:49,  3.10it/s, now=None]"
     ]
    },
    {
     "name": "stdout",
     "output_type": "stream",
     "text": [
      "Fail sanity check - distance at the bottom 307.9120713568592 right x point: 728.8541177515788 left x point: 420.94204639471957\n",
      "Fail sanity check - roughly parallel (mean distance) 309.23690368412844\n"
     ]
    },
    {
     "name": "stderr",
     "output_type": "stream",
     "text": [
      "t:  56%|█████▌    | 674/1199 [03:10<02:45,  3.18it/s, now=None]"
     ]
    },
    {
     "name": "stdout",
     "output_type": "stream",
     "text": [
      "failed\n",
      "failed\n",
      "Fail sanity check - distance at the bottom 307.9120713568592 right x point: 728.8541177515788 left x point: 420.94204639471957\n",
      "Fail sanity check - roughly parallel (mean distance) 309.23690368412844\n"
     ]
    },
    {
     "name": "stderr",
     "output_type": "stream",
     "text": [
      "t:  56%|█████▋    | 675/1199 [03:11<02:33,  3.41it/s, now=None]"
     ]
    },
    {
     "name": "stdout",
     "output_type": "stream",
     "text": [
      "failed\n",
      "failed\n",
      "Fail sanity check - distance at the bottom 307.9120713568592 right x point: 728.8541177515788 left x point: 420.94204639471957\n",
      "Fail sanity check - roughly parallel (mean distance) 309.23690368412844\n"
     ]
    },
    {
     "name": "stderr",
     "output_type": "stream",
     "text": [
      "t:  56%|█████▋    | 676/1199 [03:11<02:24,  3.61it/s, now=None]"
     ]
    },
    {
     "name": "stdout",
     "output_type": "stream",
     "text": [
      "failed\n",
      "failed\n",
      "Fail sanity check - distance at the bottom 307.9120713568592 right x point: 728.8541177515788 left x point: 420.94204639471957\n",
      "Fail sanity check - roughly parallel (mean distance) 309.23690368412844\n"
     ]
    },
    {
     "name": "stderr",
     "output_type": "stream",
     "text": [
      "t:  56%|█████▋    | 677/1199 [03:11<02:23,  3.63it/s, now=None]"
     ]
    },
    {
     "name": "stdout",
     "output_type": "stream",
     "text": [
      "failed\n",
      "failed\n",
      "Fail sanity check - distance at the bottom 307.9120713568592 right x point: 728.8541177515788 left x point: 420.94204639471957\n",
      "Fail sanity check - roughly parallel (mean distance) 309.23690368412844\n"
     ]
    },
    {
     "name": "stderr",
     "output_type": "stream",
     "text": [
      "t:  57%|█████▋    | 678/1199 [03:11<02:18,  3.76it/s, now=None]"
     ]
    },
    {
     "name": "stdout",
     "output_type": "stream",
     "text": [
      "failed\n",
      "failed\n",
      "Fail sanity check - distance at the bottom 307.9120713568592 right x point: 728.8541177515788 left x point: 420.94204639471957\n",
      "Fail sanity check - roughly parallel (mean distance) 309.23690368412844\n"
     ]
    },
    {
     "name": "stderr",
     "output_type": "stream",
     "text": [
      "t:  57%|█████▋    | 679/1199 [03:12<02:13,  3.91it/s, now=None]"
     ]
    },
    {
     "name": "stdout",
     "output_type": "stream",
     "text": [
      "failed\n",
      "failed\n",
      "Fail sanity check - distance at the bottom 307.9120713568592 right x point: 728.8541177515788 left x point: 420.94204639471957\n",
      "Fail sanity check - roughly parallel (mean distance) 309.23690368412844\n"
     ]
    },
    {
     "name": "stderr",
     "output_type": "stream",
     "text": [
      "t:  57%|█████▋    | 680/1199 [03:12<02:10,  3.99it/s, now=None]"
     ]
    },
    {
     "name": "stdout",
     "output_type": "stream",
     "text": [
      "failed\n",
      "Fail sanity check - curvature left curvature: 294.0 right curvature: 1711.0\n"
     ]
    },
    {
     "name": "stderr",
     "output_type": "stream",
     "text": [
      "t:  57%|█████▋    | 681/1199 [03:12<02:15,  3.83it/s, now=None]"
     ]
    },
    {
     "name": "stdout",
     "output_type": "stream",
     "text": [
      "failed\n",
      "failed\n",
      "Fail sanity check - curvature left curvature: 294.0 right curvature: 1711.0\n"
     ]
    },
    {
     "name": "stderr",
     "output_type": "stream",
     "text": [
      "t:  57%|█████▋    | 682/1199 [03:12<02:10,  3.95it/s, now=None]"
     ]
    },
    {
     "name": "stdout",
     "output_type": "stream",
     "text": [
      "failed\n",
      "failed\n",
      "Fail sanity check - curvature left curvature: 294.0 right curvature: 1711.0\n"
     ]
    },
    {
     "name": "stderr",
     "output_type": "stream",
     "text": [
      "t:  57%|█████▋    | 683/1199 [03:13<02:06,  4.10it/s, now=None]"
     ]
    },
    {
     "name": "stdout",
     "output_type": "stream",
     "text": [
      "failed\n",
      "failed\n",
      "Fail sanity check - curvature left curvature: 294.0 right curvature: 1711.0\n"
     ]
    },
    {
     "name": "stderr",
     "output_type": "stream",
     "text": [
      "t:  57%|█████▋    | 684/1199 [03:13<02:03,  4.19it/s, now=None]"
     ]
    },
    {
     "name": "stdout",
     "output_type": "stream",
     "text": [
      "failed\n",
      "failed\n",
      "Fail sanity check - curvature left curvature: 294.0 right curvature: 1711.0\n"
     ]
    },
    {
     "name": "stderr",
     "output_type": "stream",
     "text": [
      "t:  57%|█████▋    | 685/1199 [03:13<02:07,  4.03it/s, now=None]"
     ]
    },
    {
     "name": "stdout",
     "output_type": "stream",
     "text": [
      "failed\n",
      "failed\n",
      "Fail sanity check - curvature left curvature: 294.0 right curvature: 1711.0\n"
     ]
    },
    {
     "name": "stderr",
     "output_type": "stream",
     "text": [
      "t:  57%|█████▋    | 686/1199 [03:13<02:04,  4.12it/s, now=None]"
     ]
    },
    {
     "name": "stdout",
     "output_type": "stream",
     "text": [
      "failed\n",
      "failed\n",
      "Fail sanity check - curvature left curvature: 294.0 right curvature: 1711.0\n"
     ]
    },
    {
     "name": "stderr",
     "output_type": "stream",
     "text": [
      "t:  57%|█████▋    | 687/1199 [03:14<02:00,  4.24it/s, now=None]"
     ]
    },
    {
     "name": "stdout",
     "output_type": "stream",
     "text": [
      "failed\n",
      "failed\n",
      "Fail sanity check - curvature left curvature: 294.0 right curvature: 1711.0\n"
     ]
    },
    {
     "name": "stderr",
     "output_type": "stream",
     "text": [
      "t:  57%|█████▋    | 688/1199 [03:14<01:58,  4.33it/s, now=None]"
     ]
    },
    {
     "name": "stdout",
     "output_type": "stream",
     "text": [
      "failed\n",
      "failed\n",
      "Fail sanity check - curvature left curvature: 294.0 right curvature: 1711.0\n"
     ]
    },
    {
     "name": "stderr",
     "output_type": "stream",
     "text": [
      "t:  57%|█████▋    | 689/1199 [03:14<02:01,  4.19it/s, now=None]"
     ]
    },
    {
     "name": "stdout",
     "output_type": "stream",
     "text": [
      "failed\n",
      "failed\n",
      "Fail sanity check - curvature left curvature: 294.0 right curvature: 1711.0\n"
     ]
    },
    {
     "name": "stderr",
     "output_type": "stream",
     "text": [
      "t:  58%|█████▊    | 690/1199 [03:14<02:00,  4.23it/s, now=None]"
     ]
    },
    {
     "name": "stdout",
     "output_type": "stream",
     "text": [
      "failed\n",
      "failed\n",
      "Fail sanity check - curvature left curvature: 294.0 right curvature: 1711.0\n"
     ]
    },
    {
     "name": "stderr",
     "output_type": "stream",
     "text": [
      "t:  58%|█████▊    | 691/1199 [03:15<01:59,  4.24it/s, now=None]"
     ]
    },
    {
     "name": "stdout",
     "output_type": "stream",
     "text": [
      "failed\n",
      "failed\n",
      "Fail sanity check - curvature left curvature: 294.0 right curvature: 1711.0\n"
     ]
    },
    {
     "name": "stderr",
     "output_type": "stream",
     "text": [
      "t:  58%|█████▊    | 692/1199 [03:15<01:57,  4.30it/s, now=None]"
     ]
    },
    {
     "name": "stdout",
     "output_type": "stream",
     "text": [
      "failed\n",
      "failed\n",
      "Fail sanity check - curvature left curvature: 294.0 right curvature: 1711.0\n"
     ]
    },
    {
     "name": "stderr",
     "output_type": "stream",
     "text": [
      "t:  58%|█████▊    | 693/1199 [03:15<02:00,  4.19it/s, now=None]"
     ]
    },
    {
     "name": "stdout",
     "output_type": "stream",
     "text": [
      "failed\n",
      "failed\n",
      "Fail sanity check - curvature left curvature: 294.0 right curvature: 1711.0\n"
     ]
    },
    {
     "name": "stderr",
     "output_type": "stream",
     "text": [
      "t:  58%|█████▊    | 694/1199 [03:15<02:02,  4.13it/s, now=None]"
     ]
    },
    {
     "name": "stdout",
     "output_type": "stream",
     "text": [
      "failed\n",
      "failed\n",
      "Fail sanity check - curvature left curvature: 294.0 right curvature: 1711.0\n"
     ]
    },
    {
     "name": "stderr",
     "output_type": "stream",
     "text": [
      "t:  58%|█████▊    | 695/1199 [03:16<01:59,  4.20it/s, now=None]"
     ]
    },
    {
     "name": "stdout",
     "output_type": "stream",
     "text": [
      "failed\n",
      "failed\n",
      "Fail sanity check - curvature left curvature: 294.0 right curvature: 1711.0\n"
     ]
    },
    {
     "name": "stderr",
     "output_type": "stream",
     "text": [
      "t:  58%|█████▊    | 696/1199 [03:16<01:56,  4.33it/s, now=None]"
     ]
    },
    {
     "name": "stdout",
     "output_type": "stream",
     "text": [
      "failed\n",
      "failed\n",
      "Fail sanity check - curvature left curvature: 294.0 right curvature: 1711.0\n"
     ]
    },
    {
     "name": "stderr",
     "output_type": "stream",
     "text": [
      "t:  58%|█████▊    | 697/1199 [03:16<01:59,  4.18it/s, now=None]"
     ]
    },
    {
     "name": "stdout",
     "output_type": "stream",
     "text": [
      "failed\n",
      "failed\n",
      "Fail sanity check - curvature left curvature: 294.0 right curvature: 1711.0\n"
     ]
    },
    {
     "name": "stderr",
     "output_type": "stream",
     "text": [
      "t:  58%|█████▊    | 698/1199 [03:16<01:58,  4.23it/s, now=None]"
     ]
    },
    {
     "name": "stdout",
     "output_type": "stream",
     "text": [
      "failed\n",
      "failed\n",
      "Fail sanity check - curvature left curvature: 294.0 right curvature: 1711.0\n",
      "failed\n"
     ]
    },
    {
     "name": "stderr",
     "output_type": "stream",
     "text": [
      "t:  58%|█████▊    | 699/1199 [03:16<01:54,  4.35it/s, now=None]"
     ]
    },
    {
     "name": "stdout",
     "output_type": "stream",
     "text": [
      "failed\n",
      "Fail sanity check - curvature left curvature: 294.0 right curvature: 1711.0\n",
      "failed\n"
     ]
    },
    {
     "name": "stderr",
     "output_type": "stream",
     "text": [
      "t:  58%|█████▊    | 700/1199 [03:18<04:17,  1.93it/s, now=None]"
     ]
    },
    {
     "name": "stdout",
     "output_type": "stream",
     "text": [
      "Fail sanity check - distance at the bottom 278.09977952328063 right x point: 699.0418259180002 left x point: 420.94204639471957\n",
      "Fail sanity check - roughly parallel (minimum distance) 275.74078816010183\n",
      "Fail sanity check - roughly parallel (mean distance) 294.47098735680385\n"
     ]
    },
    {
     "name": "stderr",
     "output_type": "stream",
     "text": [
      "t:  58%|█████▊    | 701/1199 [03:18<03:38,  2.28it/s, now=None]"
     ]
    },
    {
     "name": "stdout",
     "output_type": "stream",
     "text": [
      "failed\n",
      "failed\n",
      "Fail sanity check - distance at the bottom 278.09977952328063 right x point: 699.0418259180002 left x point: 420.94204639471957\n",
      "Fail sanity check - roughly parallel (minimum distance) 275.74078816010183\n",
      "Fail sanity check - roughly parallel (mean distance) 294.47098735680385\n"
     ]
    },
    {
     "name": "stderr",
     "output_type": "stream",
     "text": [
      "t:  59%|█████▊    | 702/1199 [03:18<03:07,  2.64it/s, now=None]"
     ]
    },
    {
     "name": "stdout",
     "output_type": "stream",
     "text": [
      "failed\n",
      "failed\n",
      "Fail sanity check - distance at the bottom 278.09977952328063 right x point: 699.0418259180002 left x point: 420.94204639471957\n",
      "Fail sanity check - roughly parallel (minimum distance) 275.74078816010183\n",
      "Fail sanity check - roughly parallel (mean distance) 294.47098735680385\n"
     ]
    },
    {
     "name": "stderr",
     "output_type": "stream",
     "text": [
      "t:  59%|█████▊    | 703/1199 [03:18<02:44,  3.02it/s, now=None]"
     ]
    },
    {
     "name": "stdout",
     "output_type": "stream",
     "text": [
      "failed\n",
      "failed\n",
      "Fail sanity check - distance at the bottom 278.09977952328063 right x point: 699.0418259180002 left x point: 420.94204639471957\n",
      "Fail sanity check - roughly parallel (minimum distance) 275.74078816010183\n",
      "Fail sanity check - roughly parallel (mean distance) 294.47098735680385\n"
     ]
    },
    {
     "name": "stderr",
     "output_type": "stream",
     "text": [
      "t:  59%|█████▊    | 704/1199 [03:19<02:27,  3.36it/s, now=None]"
     ]
    },
    {
     "name": "stdout",
     "output_type": "stream",
     "text": [
      "failed\n",
      "Fail sanity check - distance at the bottom 232.1160414962926 right x point: 653.0580878910122 left x point: 420.94204639471957\n",
      "Fail sanity check - roughly parallel (minimum distance) 230.41341402075307\n",
      "Fail sanity check - roughly parallel (mean distance) 271.1718276787779\n"
     ]
    },
    {
     "name": "stderr",
     "output_type": "stream",
     "text": [
      "t:  59%|█████▉    | 705/1199 [03:19<02:20,  3.52it/s, now=None]"
     ]
    },
    {
     "name": "stdout",
     "output_type": "stream",
     "text": [
      "failed\n",
      "Fail sanity check - curvature left curvature: 248.0 right curvature: 1711.0\n",
      "Fail sanity check - distance at the bottom 240.26632522976797 right x point: 661.2083716244875 left x point: 420.94204639471957\n",
      "Fail sanity check - roughly parallel (minimum distance) 232.40469636456197\n",
      "Fail sanity check - roughly parallel (mean distance) 279.5369993832128\n"
     ]
    },
    {
     "name": "stderr",
     "output_type": "stream",
     "text": [
      "t:  59%|█████▉    | 706/1199 [03:19<02:12,  3.73it/s, now=None]"
     ]
    },
    {
     "name": "stdout",
     "output_type": "stream",
     "text": [
      "failed\n",
      "failed\n",
      "Fail sanity check - curvature left curvature: 248.0 right curvature: 1711.0\n",
      "Fail sanity check - distance at the bottom 240.26632522976797 right x point: 661.2083716244875 left x point: 420.94204639471957\n",
      "Fail sanity check - roughly parallel (minimum distance) 232.40469636456197\n",
      "Fail sanity check - roughly parallel (mean distance) 279.5369993832128\n"
     ]
    },
    {
     "name": "stderr",
     "output_type": "stream",
     "text": [
      "t:  59%|█████▉    | 707/1199 [03:19<02:04,  3.95it/s, now=None]"
     ]
    },
    {
     "name": "stdout",
     "output_type": "stream",
     "text": [
      "failed\n",
      "test\n",
      "Fail sanity check - curvature left curvature: 248.0 right curvature: 1711.0\n",
      "Fail sanity check - distance at the bottom 240.26632522976797 right x point: 661.2083716244875 left x point: 420.94204639471957\n",
      "Fail sanity check - roughly parallel (minimum distance) 232.40469636456197\n",
      "Fail sanity check - roughly parallel (mean distance) 279.5369993832128\n"
     ]
    },
    {
     "name": "stderr",
     "output_type": "stream",
     "text": [
      "t:  59%|█████▉    | 708/1199 [03:19<01:59,  4.10it/s, now=None]"
     ]
    },
    {
     "name": "stdout",
     "output_type": "stream",
     "text": [
      "failed\n",
      "test\n",
      "Fail sanity check - curvature left curvature: 248.0 right curvature: 1711.0\n",
      "Fail sanity check - distance at the bottom 240.26632522976797 right x point: 661.2083716244875 left x point: 420.94204639471957\n",
      "Fail sanity check - roughly parallel (minimum distance) 232.40469636456197\n",
      "Fail sanity check - roughly parallel (mean distance) 279.5369993832128\n"
     ]
    },
    {
     "name": "stderr",
     "output_type": "stream",
     "text": [
      "t:  59%|█████▉    | 709/1199 [03:20<02:01,  4.05it/s, now=None]"
     ]
    },
    {
     "name": "stdout",
     "output_type": "stream",
     "text": [
      "failed\n",
      "Fail sanity check - curvature left curvature: 270.0 right curvature: 1711.0\n",
      "Fail sanity check - distance at the bottom 196.7660482260361 right x point: 617.7080946207557 left x point: 420.94204639471957\n",
      "Fail sanity check - roughly parallel (minimum distance) 108.0123019061877\n",
      "Fail sanity check - roughly parallel (mean distance) 204.41812669701673\n"
     ]
    },
    {
     "name": "stderr",
     "output_type": "stream",
     "text": [
      "t:  59%|█████▉    | 710/1199 [03:20<01:57,  4.15it/s, now=None]"
     ]
    },
    {
     "name": "stdout",
     "output_type": "stream",
     "text": [
      "failed\n",
      "failed\n",
      "Fail sanity check - curvature left curvature: 270.0 right curvature: 1711.0\n",
      "Fail sanity check - distance at the bottom 196.7660482260361 right x point: 617.7080946207557 left x point: 420.94204639471957\n",
      "Fail sanity check - roughly parallel (minimum distance) 108.0123019061877\n",
      "Fail sanity check - roughly parallel (mean distance) 204.41812669701673\n"
     ]
    },
    {
     "name": "stderr",
     "output_type": "stream",
     "text": [
      "t:  59%|█████▉    | 711/1199 [03:20<01:53,  4.30it/s, now=None]"
     ]
    },
    {
     "name": "stdout",
     "output_type": "stream",
     "text": [
      "failed\n",
      "failed\n",
      "Fail sanity check - curvature left curvature: 270.0 right curvature: 1711.0\n",
      "Fail sanity check - distance at the bottom 196.7660482260361 right x point: 617.7080946207557 left x point: 420.94204639471957\n",
      "Fail sanity check - roughly parallel (minimum distance) 108.0123019061877\n",
      "Fail sanity check - roughly parallel (mean distance) 204.41812669701673\n"
     ]
    },
    {
     "name": "stderr",
     "output_type": "stream",
     "text": [
      "t:  59%|█████▉    | 712/1199 [03:20<01:50,  4.39it/s, now=None]"
     ]
    },
    {
     "name": "stdout",
     "output_type": "stream",
     "text": [
      "failed\n",
      "test\n",
      "Fail sanity check - roughly parallel (maximum distance) 954.7341206205367\n",
      "Fail sanity check - roughly parallel (mean distance) 864.9488614015806\n",
      "Fail sanity check - vehicle position from the lane center 0.8\n"
     ]
    },
    {
     "name": "stderr",
     "output_type": "stream",
     "text": [
      "t:  59%|█████▉    | 713/1199 [03:21<01:54,  4.25it/s, now=None]"
     ]
    },
    {
     "name": "stdout",
     "output_type": "stream",
     "text": [
      "failed\n",
      "test\n",
      "Fail sanity check - curvature left curvature: 10.0 right curvature: 1711.0\n",
      "Fail sanity check - roughly parallel (minimum distance) -24520.310666777787\n",
      "Fail sanity check - roughly parallel (mean distance) -6812.591696908355\n"
     ]
    },
    {
     "name": "stderr",
     "output_type": "stream",
     "text": [
      "t:  60%|█████▉    | 714/1199 [03:21<01:55,  4.20it/s, now=None]"
     ]
    },
    {
     "name": "stdout",
     "output_type": "stream",
     "text": [
      "test\n",
      "test\n",
      "Error poly fit [-177.19338517   88.8292805    13.3287716 ]\n",
      "Fail sanity check - curvature left curvature: 443.0 right curvature: 12.0\n",
      "Fail sanity check - distance at the bottom 818.7994039221953 right x point: 1138.7884737029594 left x point: 319.9890697807641\n",
      "Fail sanity check - roughly parallel (minimum distance) -8698.31587649481\n",
      "Fail sanity check - roughly parallel (maximum distance) 1267.2882558883764\n",
      "Fail sanity check - roughly parallel (mean distance) -1502.765884810333\n"
     ]
    },
    {
     "name": "stderr",
     "output_type": "stream",
     "text": [
      "t:  60%|█████▉    | 715/1199 [03:21<01:53,  4.25it/s, now=None]"
     ]
    },
    {
     "name": "stdout",
     "output_type": "stream",
     "text": [
      "test\n",
      "test\n",
      "Fail sanity check - roughly parallel (minimum distance) -31513.844653616892\n",
      "Fail sanity check - roughly parallel (maximum distance) 1217.7375997830623\n",
      "Fail sanity check - roughly parallel (mean distance) -8508.76501190971\n"
     ]
    },
    {
     "name": "stderr",
     "output_type": "stream",
     "text": [
      "t:  60%|█████▉    | 716/1199 [03:21<01:56,  4.16it/s, now=None]"
     ]
    },
    {
     "name": "stdout",
     "output_type": "stream",
     "text": [
      "failed\n",
      "test\n",
      "Error poly fit [-8.69963792 -8.7553954  66.39090876]\n",
      "Fail sanity check - curvature left curvature: 50.0 right curvature: 9.0\n",
      "Fail sanity check - distance at the bottom 904.3489297241128 right x point: 1213.7012575300494 left x point: 309.3523278059365\n",
      "Fail sanity check - roughly parallel (minimum distance) -21877.416199061434\n",
      "Fail sanity check - roughly parallel (maximum distance) 1196.537433702372\n",
      "Fail sanity check - roughly parallel (mean distance) -5733.280686667932\n",
      "Fail sanity check - vehicle position from the lane center 0.77\n"
     ]
    },
    {
     "name": "stderr",
     "output_type": "stream",
     "text": [
      "t:  60%|█████▉    | 717/1199 [03:22<01:58,  4.08it/s, now=None]"
     ]
    },
    {
     "name": "stdout",
     "output_type": "stream",
     "text": [
      "failed\n",
      "test\n",
      "Fail sanity check - roughly parallel (minimum distance) -39845.94097941344\n",
      "Fail sanity check - roughly parallel (maximum distance) 1221.1781361834474\n",
      "Fail sanity check - roughly parallel (mean distance) -11048.893225693957\n"
     ]
    },
    {
     "name": "stderr",
     "output_type": "stream",
     "text": [
      "t:  60%|█████▉    | 718/1199 [03:22<01:56,  4.13it/s, now=None]"
     ]
    },
    {
     "name": "stdout",
     "output_type": "stream",
     "text": [
      "failed\n",
      "test\n",
      "Fail sanity check - roughly parallel (minimum distance) -59596.255364148\n",
      "Fail sanity check - roughly parallel (maximum distance) 1215.989015698422\n",
      "Fail sanity check - roughly parallel (mean distance) -17092.73581057693\n"
     ]
    },
    {
     "name": "stderr",
     "output_type": "stream",
     "text": [
      "t:  60%|█████▉    | 719/1199 [03:22<01:56,  4.11it/s, now=None]"
     ]
    },
    {
     "name": "stdout",
     "output_type": "stream",
     "text": [
      "failed\n",
      "test\n",
      "Fail sanity check - distance at the bottom 445.29595807356964 right x point: 754.6482858795061 left x point: 309.3523278059365\n",
      "Fail sanity check - roughly parallel (minimum distance) -69270.16905756702\n",
      "Fail sanity check - roughly parallel (maximum distance) 1212.9495719505212\n",
      "Fail sanity check - roughly parallel (mean distance) -20105.326444408398\n"
     ]
    },
    {
     "name": "stderr",
     "output_type": "stream",
     "text": [
      "t:  60%|██████    | 720/1199 [03:22<01:57,  4.08it/s, now=None]"
     ]
    },
    {
     "name": "stdout",
     "output_type": "stream",
     "text": [
      "Error poly fit [182.924151   961.89980078 -35.98949513]\n",
      "test\n",
      "Error poly fit [29.779698   31.17774219 18.12639937]\n",
      "Fail sanity check - curvature left curvature: 36.0 right curvature: 491.0\n",
      "Fail sanity check - distance at the bottom 765.5922635184643 right x point: 1262.891348046456 left x point: 497.2990845279917\n",
      "Fail sanity check - roughly parallel (maximum distance) 2163.385421423646\n",
      "Fail sanity check - roughly parallel (mean distance) 1099.1945365927531\n",
      "Fail sanity check - vehicle position from the lane center 1.48\n"
     ]
    },
    {
     "name": "stderr",
     "output_type": "stream",
     "text": [
      "t:  60%|██████    | 721/1199 [03:23<01:59,  4.00it/s, now=None]"
     ]
    },
    {
     "name": "stdout",
     "output_type": "stream",
     "text": [
      "test\n",
      "Fail sanity check - curvature left curvature: 21.0 right curvature: 307.0\n",
      "Fail sanity check - distance at the bottom 347.2492223322409 right x point: 732.4792040150569 left x point: 385.229981682816\n",
      "Fail sanity check - roughly parallel (minimum distance) -50758.95449488902\n",
      "Fail sanity check - roughly parallel (mean distance) -14875.773215081845\n"
     ]
    },
    {
     "name": "stderr",
     "output_type": "stream",
     "text": [
      "t:  60%|██████    | 722/1199 [03:23<02:03,  3.85it/s, now=None]"
     ]
    },
    {
     "name": "stdout",
     "output_type": "stream",
     "text": [
      "test\n",
      "Error poly fit [-22.66784902 -24.48346346 -79.54772405]\n",
      "Fail sanity check - curvature left curvature: 29.0 right curvature: 383.0\n",
      "Fail sanity check - distance at the bottom 781.9125168945178 right x point: 1184.3377664868267 left x point: 402.4252495923089\n",
      "Fail sanity check - roughly parallel (minimum distance) -1289.9770666862755\n",
      "Fail sanity check - roughly parallel (mean distance) 152.0502262809161\n",
      "Fail sanity check - vehicle position from the lane center 0.94\n"
     ]
    },
    {
     "name": "stderr",
     "output_type": "stream",
     "text": [
      "t:  60%|██████    | 723/1199 [03:23<02:06,  3.76it/s, now=None]"
     ]
    },
    {
     "name": "stdout",
     "output_type": "stream",
     "text": [
      "test\n",
      "Fail sanity check - curvature left curvature: 33.0 right curvature: 363.0\n",
      "Fail sanity check - distance at the bottom 117.86527282301756 right x point: 520.8061043264315 left x point: 402.94083150341396\n",
      "Fail sanity check - roughly parallel (minimum distance) -62840.52054094259\n",
      "Fail sanity check - roughly parallel (mean distance) -18455.11755002652\n",
      "Fail sanity check - vehicle position from the lane center -1.17\n"
     ]
    },
    {
     "name": "stderr",
     "output_type": "stream",
     "text": [
      "t:  60%|██████    | 724/1199 [03:23<02:10,  3.64it/s, now=None]"
     ]
    },
    {
     "name": "stdout",
     "output_type": "stream",
     "text": [
      "test\n",
      "Error poly fit [-126.13297954 -167.27304851   65.86086666]\n",
      "Fail sanity check - distance at the bottom 770.8890222704734 right x point: 1182.1921010568412 left x point: 411.3030787863678\n",
      "Fail sanity check - vehicle position from the lane center 0.96\n"
     ]
    },
    {
     "name": "stderr",
     "output_type": "stream",
     "text": [
      "t:  60%|██████    | 725/1199 [03:24<02:13,  3.56it/s, now=None]"
     ]
    },
    {
     "name": "stdout",
     "output_type": "stream",
     "text": [
      "test\n",
      "Fail sanity check - curvature left curvature: 12.0 right curvature: 457.0\n",
      "Fail sanity check - distance at the bottom 750.7506381383298 right x point: 1167.688877226511 left x point: 416.9382390881813\n",
      "Fail sanity check - roughly parallel (minimum distance) -4756.157666994067\n",
      "Fail sanity check - roughly parallel (mean distance) -897.3350765950934\n",
      "Fail sanity check - vehicle position from the lane center 0.93\n"
     ]
    },
    {
     "name": "stderr",
     "output_type": "stream",
     "text": [
      "t:  61%|██████    | 726/1199 [03:24<02:14,  3.52it/s, now=None]"
     ]
    },
    {
     "name": "stdout",
     "output_type": "stream",
     "text": [
      "test\n",
      "Fail sanity check - curvature left curvature: 36.0 right curvature: 553.0\n",
      "Fail sanity check - distance at the bottom 69.0335483946294 right x point: 490.8961046951008 left x point: 421.8625563004714\n",
      "Fail sanity check - roughly parallel (minimum distance) -69196.30685405334\n",
      "Fail sanity check - roughly parallel (mean distance) -20425.464806760516\n",
      "Fail sanity check - vehicle position from the lane center -1.2\n"
     ]
    },
    {
     "name": "stderr",
     "output_type": "stream",
     "text": [
      "t:  61%|██████    | 727/1199 [03:24<02:15,  3.49it/s, now=None]"
     ]
    },
    {
     "name": "stdout",
     "output_type": "stream",
     "text": [
      "test\n",
      "Fail sanity check - curvature left curvature: 12.0 right curvature: 510.0\n",
      "Fail sanity check - distance at the bottom 470.45734909414455 right x point: 890.6508368219875 left x point: 420.1934877278429\n",
      "Fail sanity check - roughly parallel (minimum distance) -35076.91559996634\n",
      "Fail sanity check - roughly parallel (mean distance) -10106.363870009129\n"
     ]
    },
    {
     "name": "stderr",
     "output_type": "stream",
     "text": [
      "t:  61%|██████    | 728/1199 [03:25<02:17,  3.42it/s, now=None]"
     ]
    },
    {
     "name": "stdout",
     "output_type": "stream",
     "text": [
      "Error poly fit [239.1853894  281.60694752  29.78975973]\n"
     ]
    },
    {
     "name": "stderr",
     "output_type": "stream",
     "text": [
      "t:  62%|██████▏   | 741/1199 [03:28<02:09,  3.54it/s, now=None]"
     ]
    },
    {
     "name": "stdout",
     "output_type": "stream",
     "text": [
      "Fail sanity check - curvature left curvature: 91.0 right curvature: 478.0\n"
     ]
    },
    {
     "name": "stderr",
     "output_type": "stream",
     "text": [
      "t:  62%|██████▏   | 745/1199 [03:30<02:09,  3.51it/s, now=None]"
     ]
    },
    {
     "name": "stdout",
     "output_type": "stream",
     "text": [
      "Fail sanity check - curvature left curvature: 1355.0 right curvature: 252.0\n"
     ]
    },
    {
     "name": "stderr",
     "output_type": "stream",
     "text": [
      "t:  62%|██████▏   | 746/1199 [03:30<02:08,  3.53it/s, now=None]"
     ]
    },
    {
     "name": "stdout",
     "output_type": "stream",
     "text": [
      "failed\n"
     ]
    },
    {
     "name": "stderr",
     "output_type": "stream",
     "text": [
      "t:  62%|██████▏   | 747/1199 [03:30<02:09,  3.49it/s, now=None]"
     ]
    },
    {
     "name": "stdout",
     "output_type": "stream",
     "text": [
      "failed\n"
     ]
    },
    {
     "name": "stderr",
     "output_type": "stream",
     "text": [
      "t:  62%|██████▏   | 748/1199 [03:30<02:08,  3.51it/s, now=None]"
     ]
    },
    {
     "name": "stdout",
     "output_type": "stream",
     "text": [
      "failed\n"
     ]
    },
    {
     "name": "stderr",
     "output_type": "stream",
     "text": [
      "t:  62%|██████▏   | 749/1199 [03:31<02:07,  3.53it/s, now=None]"
     ]
    },
    {
     "name": "stdout",
     "output_type": "stream",
     "text": [
      "failed\n"
     ]
    },
    {
     "name": "stderr",
     "output_type": "stream",
     "text": [
      "t:  63%|██████▎   | 750/1199 [03:31<02:07,  3.53it/s, now=None]"
     ]
    },
    {
     "name": "stdout",
     "output_type": "stream",
     "text": [
      "Error poly fit [-1.33263902e-02  5.65631808e-02  2.45276064e+01]\n"
     ]
    },
    {
     "name": "stderr",
     "output_type": "stream",
     "text": [
      "t:  63%|██████▎   | 759/1199 [03:34<02:05,  3.51it/s, now=None]"
     ]
    },
    {
     "name": "stdout",
     "output_type": "stream",
     "text": [
      "Fail sanity check - curvature left curvature: 4540.0 right curvature: 233.0\n"
     ]
    },
    {
     "name": "stderr",
     "output_type": "stream",
     "text": [
      "t:  63%|██████▎   | 760/1199 [03:34<02:06,  3.48it/s, now=None]"
     ]
    },
    {
     "name": "stdout",
     "output_type": "stream",
     "text": [
      "Fail sanity check - distance at the bottom 443.6553155176333 right x point: 909.0460866274448 left x point: 465.39077110981145\n",
      "Fail sanity check - roughly parallel (mean distance) 475.45460552429415\n"
     ]
    },
    {
     "name": "stderr",
     "output_type": "stream",
     "text": [
      "t:  63%|██████▎   | 761/1199 [03:34<02:06,  3.48it/s, now=None]"
     ]
    },
    {
     "name": "stdout",
     "output_type": "stream",
     "text": [
      "Fail sanity check - roughly parallel (mean distance) 472.5618253953588\n"
     ]
    },
    {
     "name": "stderr",
     "output_type": "stream",
     "text": [
      "t:  64%|██████▎   | 762/1199 [03:34<02:05,  3.47it/s, now=None]"
     ]
    },
    {
     "name": "stdout",
     "output_type": "stream",
     "text": [
      "Fail sanity check - roughly parallel (mean distance) 469.3337437490409\n"
     ]
    },
    {
     "name": "stderr",
     "output_type": "stream",
     "text": [
      "t:  64%|██████▎   | 763/1199 [03:35<02:08,  3.40it/s, now=None]"
     ]
    },
    {
     "name": "stdout",
     "output_type": "stream",
     "text": [
      "Error poly fit [-0.34426872 24.12044638 -0.07050468]\n",
      "Fail sanity check - roughly parallel (mean distance) 445.64554393767315\n"
     ]
    },
    {
     "name": "stderr",
     "output_type": "stream",
     "text": [
      "t:  64%|██████▎   | 764/1199 [03:35<02:09,  3.35it/s, now=None]"
     ]
    },
    {
     "name": "stdout",
     "output_type": "stream",
     "text": [
      "Fail sanity check - roughly parallel (mean distance) 463.4430203422872\n"
     ]
    },
    {
     "name": "stderr",
     "output_type": "stream",
     "text": [
      "t:  64%|██████▍   | 765/1199 [03:35<02:09,  3.34it/s, now=None]"
     ]
    },
    {
     "name": "stdout",
     "output_type": "stream",
     "text": [
      "Fail sanity check - roughly parallel (mean distance) 468.14734927777204\n"
     ]
    },
    {
     "name": "stderr",
     "output_type": "stream",
     "text": [
      "t:  64%|██████▍   | 766/1199 [03:36<02:06,  3.41it/s, now=None]"
     ]
    },
    {
     "name": "stdout",
     "output_type": "stream",
     "text": [
      "Fail sanity check - roughly parallel (mean distance) 473.8521137257109\n"
     ]
    },
    {
     "name": "stderr",
     "output_type": "stream",
     "text": [
      "t:  64%|██████▍   | 767/1199 [03:36<02:07,  3.39it/s, now=None]"
     ]
    },
    {
     "name": "stdout",
     "output_type": "stream",
     "text": [
      "Fail sanity check - curvature left curvature: 196.0 right curvature: 1022.0\n"
     ]
    },
    {
     "name": "stderr",
     "output_type": "stream",
     "text": [
      "t:  64%|██████▍   | 768/1199 [03:36<02:07,  3.38it/s, now=None]"
     ]
    },
    {
     "name": "stdout",
     "output_type": "stream",
     "text": [
      "Fail sanity check - roughly parallel (minimum distance) 233.45498149504488\n",
      "Fail sanity check - roughly parallel (mean distance) 396.7904583473763\n"
     ]
    },
    {
     "name": "stderr",
     "output_type": "stream",
     "text": [
      "t:  64%|██████▍   | 769/1199 [03:36<02:05,  3.43it/s, now=None]"
     ]
    },
    {
     "name": "stdout",
     "output_type": "stream",
     "text": [
      "Fail sanity check - roughly parallel (minimum distance) 229.91415945695826\n",
      "Fail sanity check - roughly parallel (mean distance) 397.77044321144365\n"
     ]
    },
    {
     "name": "stderr",
     "output_type": "stream",
     "text": [
      "t:  64%|██████▍   | 770/1199 [03:37<02:04,  3.44it/s, now=None]"
     ]
    },
    {
     "name": "stdout",
     "output_type": "stream",
     "text": [
      "Fail sanity check - roughly parallel (mean distance) 474.9258786386933\n"
     ]
    },
    {
     "name": "stderr",
     "output_type": "stream",
     "text": [
      "t:  64%|██████▍   | 771/1199 [03:37<02:07,  3.35it/s, now=None]"
     ]
    },
    {
     "name": "stdout",
     "output_type": "stream",
     "text": [
      "Fail sanity check - curvature left curvature: 162.0 right curvature: 935.0\n"
     ]
    },
    {
     "name": "stderr",
     "output_type": "stream",
     "text": [
      "t:  64%|██████▍   | 772/1199 [03:37<02:07,  3.35it/s, now=None]"
     ]
    },
    {
     "name": "stdout",
     "output_type": "stream",
     "text": [
      "Error poly fit [ 0.46841994 16.67286595  0.27818582]\n",
      "Fail sanity check - roughly parallel (mean distance) 469.36785027780894\n"
     ]
    },
    {
     "name": "stderr",
     "output_type": "stream",
     "text": [
      "t:  65%|██████▍   | 774/1199 [03:38<02:03,  3.43it/s, now=None]"
     ]
    },
    {
     "name": "stdout",
     "output_type": "stream",
     "text": [
      "Fail sanity check - curvature left curvature: 158.0 right curvature: 4208.0\n"
     ]
    },
    {
     "name": "stderr",
     "output_type": "stream",
     "text": [
      "t:  65%|██████▍   | 775/1199 [03:38<02:05,  3.39it/s, now=None]"
     ]
    },
    {
     "name": "stdout",
     "output_type": "stream",
     "text": [
      "Fail sanity check - curvature left curvature: 175.0 right curvature: 1447.0\n"
     ]
    },
    {
     "name": "stderr",
     "output_type": "stream",
     "text": [
      "t:  65%|██████▍   | 777/1199 [03:39<02:03,  3.41it/s, now=None]"
     ]
    },
    {
     "name": "stdout",
     "output_type": "stream",
     "text": [
      "Fail sanity check - curvature left curvature: 146.0 right curvature: 1247.0\n"
     ]
    },
    {
     "name": "stderr",
     "output_type": "stream",
     "text": [
      "t:  65%|██████▍   | 778/1199 [03:39<02:03,  3.41it/s, now=None]"
     ]
    },
    {
     "name": "stdout",
     "output_type": "stream",
     "text": [
      "Fail sanity check - curvature left curvature: 256.0 right curvature: 2108.0\n",
      "Fail sanity check - distance at the bottom 471.56743747314795 right x point: 859.6747761058077 left x point: 388.1073386326598\n"
     ]
    },
    {
     "name": "stderr",
     "output_type": "stream",
     "text": [
      "t:  65%|██████▌   | 785/1199 [03:41<01:58,  3.49it/s, now=None]"
     ]
    },
    {
     "name": "stdout",
     "output_type": "stream",
     "text": [
      "Fail sanity check - curvature left curvature: 141.0 right curvature: 756.0\n"
     ]
    },
    {
     "name": "stderr",
     "output_type": "stream",
     "text": [
      "t:  66%|██████▌   | 788/1199 [03:42<01:59,  3.45it/s, now=None]"
     ]
    },
    {
     "name": "stdout",
     "output_type": "stream",
     "text": [
      "Fail sanity check - curvature left curvature: 249.0 right curvature: 1751.0\n"
     ]
    },
    {
     "name": "stderr",
     "output_type": "stream",
     "text": [
      "t:  66%|██████▌   | 791/1199 [03:43<01:59,  3.40it/s, now=None]"
     ]
    },
    {
     "name": "stdout",
     "output_type": "stream",
     "text": [
      "Fail sanity check - curvature left curvature: 272.0 right curvature: 5421.0\n"
     ]
    },
    {
     "name": "stderr",
     "output_type": "stream",
     "text": [
      "t:  66%|██████▌   | 792/1199 [03:43<02:00,  3.38it/s, now=None]"
     ]
    },
    {
     "name": "stdout",
     "output_type": "stream",
     "text": [
      "Error poly fit [24.52458034 16.20944739 -0.12811837]\n"
     ]
    },
    {
     "name": "stderr",
     "output_type": "stream",
     "text": [
      "t:  66%|██████▌   | 793/1199 [03:44<01:59,  3.39it/s, now=None]"
     ]
    },
    {
     "name": "stdout",
     "output_type": "stream",
     "text": [
      "Fail sanity check - distance at the bottom 461.4589723501348 right x point: 862.9375337835384 left x point: 401.47856143340357\n"
     ]
    },
    {
     "name": "stderr",
     "output_type": "stream",
     "text": [
      "t:  66%|██████▌   | 794/1199 [03:44<01:58,  3.42it/s, now=None]"
     ]
    },
    {
     "name": "stdout",
     "output_type": "stream",
     "text": [
      "failed\n",
      "Fail sanity check - roughly parallel (mean distance) 761.5322332929761\n"
     ]
    },
    {
     "name": "stderr",
     "output_type": "stream",
     "text": [
      "t:  66%|██████▋   | 795/1199 [03:44<01:59,  3.37it/s, now=None]"
     ]
    },
    {
     "name": "stdout",
     "output_type": "stream",
     "text": [
      "failed\n"
     ]
    },
    {
     "name": "stderr",
     "output_type": "stream",
     "text": [
      "t:  66%|██████▋   | 796/1199 [03:44<01:59,  3.36it/s, now=None]"
     ]
    },
    {
     "name": "stdout",
     "output_type": "stream",
     "text": [
      "failed\n",
      "Fail sanity check - roughly parallel (mean distance) 769.3555771735946\n"
     ]
    },
    {
     "name": "stderr",
     "output_type": "stream",
     "text": [
      "t:  66%|██████▋   | 797/1199 [03:45<01:57,  3.41it/s, now=None]"
     ]
    },
    {
     "name": "stdout",
     "output_type": "stream",
     "text": [
      "failed\n",
      "Fail sanity check - roughly parallel (mean distance) 774.6429358607672\n"
     ]
    },
    {
     "name": "stderr",
     "output_type": "stream",
     "text": [
      "t:  67%|██████▋   | 798/1199 [03:45<01:57,  3.41it/s, now=None]"
     ]
    },
    {
     "name": "stdout",
     "output_type": "stream",
     "text": [
      "failed\n"
     ]
    },
    {
     "name": "stderr",
     "output_type": "stream",
     "text": [
      "t:  67%|██████▋   | 799/1199 [03:45<01:56,  3.42it/s, now=None]"
     ]
    },
    {
     "name": "stdout",
     "output_type": "stream",
     "text": [
      "failed\n",
      "failed\n"
     ]
    },
    {
     "name": "stderr",
     "output_type": "stream",
     "text": [
      "t:  67%|██████▋   | 801/1199 [03:47<03:13,  2.06it/s, now=None]"
     ]
    },
    {
     "name": "stdout",
     "output_type": "stream",
     "text": [
      "failed\n",
      "Error poly fit [-6.83446464e-01  3.22306673e+01 -1.16104286e-02]\n"
     ]
    },
    {
     "name": "stderr",
     "output_type": "stream",
     "text": [
      "t:  67%|██████▋   | 802/1199 [03:47<02:49,  2.34it/s, now=None]"
     ]
    },
    {
     "name": "stdout",
     "output_type": "stream",
     "text": [
      "failed\n"
     ]
    },
    {
     "name": "stderr",
     "output_type": "stream",
     "text": [
      "t:  67%|██████▋   | 803/1199 [03:47<02:32,  2.59it/s, now=None]"
     ]
    },
    {
     "name": "stdout",
     "output_type": "stream",
     "text": [
      "failed\n"
     ]
    },
    {
     "name": "stderr",
     "output_type": "stream",
     "text": [
      "t:  67%|██████▋   | 804/1199 [03:48<02:20,  2.82it/s, now=None]"
     ]
    },
    {
     "name": "stdout",
     "output_type": "stream",
     "text": [
      "failed\n",
      "Fail sanity check - curvature left curvature: 202.0 right curvature: 2723.0\n"
     ]
    },
    {
     "name": "stderr",
     "output_type": "stream",
     "text": [
      "t:  67%|██████▋   | 805/1199 [03:48<02:11,  2.99it/s, now=None]"
     ]
    },
    {
     "name": "stdout",
     "output_type": "stream",
     "text": [
      "failed\n",
      "failed\n",
      "Fail sanity check - curvature left curvature: 202.0 right curvature: 2723.0\n"
     ]
    },
    {
     "name": "stderr",
     "output_type": "stream",
     "text": [
      "t:  67%|██████▋   | 806/1199 [03:48<02:01,  3.24it/s, now=None]"
     ]
    },
    {
     "name": "stdout",
     "output_type": "stream",
     "text": [
      "failed\n",
      "Fail sanity check - curvature left curvature: 175.0 right curvature: 2723.0\n",
      "Fail sanity check - roughly parallel (maximum distance) 964.8430993634471\n"
     ]
    },
    {
     "name": "stderr",
     "output_type": "stream",
     "text": [
      "t:  67%|██████▋   | 807/1199 [03:48<01:59,  3.28it/s, now=None]"
     ]
    },
    {
     "name": "stdout",
     "output_type": "stream",
     "text": [
      "failed\n",
      "Fail sanity check - curvature left curvature: 169.0 right curvature: 2723.0\n",
      "Fail sanity check - roughly parallel (maximum distance) 993.7398620349551\n"
     ]
    },
    {
     "name": "stderr",
     "output_type": "stream",
     "text": [
      "t:  67%|██████▋   | 808/1199 [03:49<01:56,  3.34it/s, now=None]"
     ]
    },
    {
     "name": "stdout",
     "output_type": "stream",
     "text": [
      "failed\n",
      "Fail sanity check - curvature left curvature: 165.0 right curvature: 2723.0\n",
      "Fail sanity check - roughly parallel (maximum distance) 1016.6651718482\n"
     ]
    },
    {
     "name": "stderr",
     "output_type": "stream",
     "text": [
      "t:  67%|██████▋   | 809/1199 [03:49<01:56,  3.36it/s, now=None]"
     ]
    },
    {
     "name": "stdout",
     "output_type": "stream",
     "text": [
      "failed\n",
      "Fail sanity check - curvature left curvature: 153.0 right curvature: 2723.0\n",
      "Fail sanity check - roughly parallel (maximum distance) 1050.520966898724\n"
     ]
    },
    {
     "name": "stderr",
     "output_type": "stream",
     "text": [
      "t:  68%|██████▊   | 810/1199 [03:49<01:53,  3.42it/s, now=None]"
     ]
    },
    {
     "name": "stdout",
     "output_type": "stream",
     "text": [
      "failed\n",
      "Fail sanity check - curvature left curvature: 153.0 right curvature: 2723.0\n",
      "Fail sanity check - roughly parallel (maximum distance) 1068.1396362215808\n"
     ]
    },
    {
     "name": "stderr",
     "output_type": "stream",
     "text": [
      "t:  68%|██████▊   | 811/1199 [03:50<01:52,  3.46it/s, now=None]"
     ]
    },
    {
     "name": "stdout",
     "output_type": "stream",
     "text": [
      "failed\n",
      "failed\n",
      "Fail sanity check - curvature left curvature: 153.0 right curvature: 2723.0\n",
      "Fail sanity check - roughly parallel (maximum distance) 1068.1396362215808\n"
     ]
    },
    {
     "name": "stderr",
     "output_type": "stream",
     "text": [
      "t:  68%|██████▊   | 812/1199 [03:50<01:49,  3.53it/s, now=None]"
     ]
    },
    {
     "name": "stdout",
     "output_type": "stream",
     "text": [
      "failed\n",
      "failed\n",
      "Fail sanity check - curvature left curvature: 153.0 right curvature: 2723.0\n",
      "Fail sanity check - roughly parallel (maximum distance) 1068.1396362215808\n"
     ]
    },
    {
     "name": "stderr",
     "output_type": "stream",
     "text": [
      "t:  68%|██████▊   | 813/1199 [03:50<01:43,  3.74it/s, now=None]"
     ]
    },
    {
     "name": "stdout",
     "output_type": "stream",
     "text": [
      "failed\n",
      "failed\n",
      "Fail sanity check - curvature left curvature: 153.0 right curvature: 2723.0\n",
      "Fail sanity check - roughly parallel (maximum distance) 1068.1396362215808\n"
     ]
    },
    {
     "name": "stderr",
     "output_type": "stream",
     "text": [
      "t:  68%|██████▊   | 814/1199 [03:50<01:37,  3.93it/s, now=None]"
     ]
    },
    {
     "name": "stdout",
     "output_type": "stream",
     "text": [
      "failed\n",
      "failed\n",
      "Fail sanity check - curvature left curvature: 153.0 right curvature: 2723.0\n",
      "Fail sanity check - roughly parallel (maximum distance) 1068.1396362215808\n"
     ]
    },
    {
     "name": "stderr",
     "output_type": "stream",
     "text": [
      "t:  68%|██████▊   | 815/1199 [03:51<01:33,  4.10it/s, now=None]"
     ]
    },
    {
     "name": "stdout",
     "output_type": "stream",
     "text": [
      "failed\n",
      "failed\n",
      "Fail sanity check - curvature left curvature: 153.0 right curvature: 2723.0\n",
      "Fail sanity check - roughly parallel (maximum distance) 1068.1396362215808\n"
     ]
    },
    {
     "name": "stderr",
     "output_type": "stream",
     "text": [
      "t:  68%|██████▊   | 816/1199 [03:51<01:34,  4.03it/s, now=None]"
     ]
    },
    {
     "name": "stdout",
     "output_type": "stream",
     "text": [
      "failed\n",
      "failed\n",
      "Fail sanity check - curvature left curvature: 153.0 right curvature: 2723.0\n",
      "Fail sanity check - roughly parallel (maximum distance) 1068.1396362215808\n"
     ]
    },
    {
     "name": "stderr",
     "output_type": "stream",
     "text": [
      "t:  68%|██████▊   | 817/1199 [03:51<01:31,  4.16it/s, now=None]"
     ]
    },
    {
     "name": "stdout",
     "output_type": "stream",
     "text": [
      "failed\n",
      "failed\n",
      "Fail sanity check - curvature left curvature: 153.0 right curvature: 2723.0\n",
      "Fail sanity check - roughly parallel (maximum distance) 1068.1396362215808\n"
     ]
    },
    {
     "name": "stderr",
     "output_type": "stream",
     "text": [
      "t:  68%|██████▊   | 818/1199 [03:51<01:31,  4.18it/s, now=None]"
     ]
    },
    {
     "name": "stdout",
     "output_type": "stream",
     "text": [
      "failed\n",
      "failed\n",
      "Fail sanity check - curvature left curvature: 153.0 right curvature: 2723.0\n",
      "Fail sanity check - roughly parallel (maximum distance) 1068.1396362215808\n"
     ]
    },
    {
     "name": "stderr",
     "output_type": "stream",
     "text": [
      "t:  68%|██████▊   | 819/1199 [03:52<01:33,  4.08it/s, now=None]"
     ]
    },
    {
     "name": "stdout",
     "output_type": "stream",
     "text": [
      "failed\n",
      "failed\n",
      "Fail sanity check - curvature left curvature: 153.0 right curvature: 2723.0\n",
      "Fail sanity check - roughly parallel (maximum distance) 1068.1396362215808\n"
     ]
    },
    {
     "name": "stderr",
     "output_type": "stream",
     "text": [
      "t:  68%|██████▊   | 820/1199 [03:52<01:35,  3.96it/s, now=None]"
     ]
    },
    {
     "name": "stdout",
     "output_type": "stream",
     "text": [
      "failed\n",
      "failed\n",
      "Fail sanity check - curvature left curvature: 153.0 right curvature: 2723.0\n",
      "Fail sanity check - roughly parallel (maximum distance) 1068.1396362215808\n"
     ]
    },
    {
     "name": "stderr",
     "output_type": "stream",
     "text": [
      "t:  68%|██████▊   | 821/1199 [03:52<01:32,  4.09it/s, now=None]"
     ]
    },
    {
     "name": "stdout",
     "output_type": "stream",
     "text": [
      "Fail sanity check - distance at the bottom 410.45792524044873 right x point: 1049.536000803205 left x point: 639.0780755627563\n",
      "Fail sanity check - roughly parallel (mean distance) 409.31862582418796\n",
      "Fail sanity check - vehicle position from the lane center 1.26\n",
      "failed"
     ]
    },
    {
     "name": "stderr",
     "output_type": "stream",
     "text": [
      "t:  69%|██████▊   | 822/1199 [03:52<01:30,  4.18it/s, now=None]"
     ]
    },
    {
     "name": "stdout",
     "output_type": "stream",
     "text": [
      "\n",
      "Fail sanity check - distance at the bottom 412.0717840040718 right x point: 1051.1498595668281 left x point: 639.0780755627563\n",
      "Fail sanity check - roughly parallel (mean distance) 422.7138273432817\n",
      "Fail sanity check - vehicle position from the lane center 1.27\n"
     ]
    },
    {
     "name": "stderr",
     "output_type": "stream",
     "text": [
      "t:  69%|██████▊   | 823/1199 [03:53<01:33,  4.03it/s, now=None]"
     ]
    },
    {
     "name": "stdout",
     "output_type": "stream",
     "text": [
      "failed\n",
      "Fail sanity check - distance at the bottom 409.5687858654967 right x point: 1048.646861428253 left x point: 639.0780755627563\n",
      "Fail sanity check - roughly parallel (mean distance) 442.97718515278467\n",
      "Fail sanity check - vehicle position from the lane center 1.26\n"
     ]
    },
    {
     "name": "stderr",
     "output_type": "stream",
     "text": [
      "t:  69%|██████▊   | 824/1199 [03:53<01:37,  3.84it/s, now=None]"
     ]
    },
    {
     "name": "stdout",
     "output_type": "stream",
     "text": [
      "failed\n",
      "Fail sanity check - distance at the bottom 408.7733274672214 right x point: 1047.8514030299777 left x point: 639.0780755627563\n",
      "Fail sanity check - roughly parallel (mean distance) 422.87842025959577\n",
      "Fail sanity check - vehicle position from the lane center 1.25\n"
     ]
    },
    {
     "name": "stderr",
     "output_type": "stream",
     "text": [
      "t:  69%|██████▉   | 825/1199 [03:53<01:39,  3.76it/s, now=None]"
     ]
    },
    {
     "name": "stdout",
     "output_type": "stream",
     "text": [
      "failed\n",
      "Fail sanity check - distance at the bottom 400.20087302958245 right x point: 1039.2789485923388 left x point: 639.0780755627563\n",
      "Fail sanity check - roughly parallel (mean distance) 407.89807612678857\n",
      "Fail sanity check - vehicle position from the lane center 1.23\n"
     ]
    },
    {
     "name": "stderr",
     "output_type": "stream",
     "text": [
      "t:  69%|██████▉   | 826/1199 [03:53<01:39,  3.73it/s, now=None]"
     ]
    },
    {
     "name": "stdout",
     "output_type": "stream",
     "text": [
      "failed\n",
      "Fail sanity check - distance at the bottom 401.5130991017638 right x point: 1040.5911746645202 left x point: 639.0780755627563\n",
      "Fail sanity check - roughly parallel (mean distance) 421.0547811225691\n",
      "Fail sanity check - vehicle position from the lane center 1.23\n"
     ]
    },
    {
     "name": "stderr",
     "output_type": "stream",
     "text": [
      "t:  69%|██████▉   | 827/1199 [03:54<01:39,  3.74it/s, now=None]"
     ]
    },
    {
     "name": "stdout",
     "output_type": "stream",
     "text": [
      "failed\n",
      "Fail sanity check - distance at the bottom 376.3465984063977 right x point: 1015.424673969154 left x point: 639.0780755627563\n",
      "Fail sanity check - roughly parallel (mean distance) 430.3943732664212\n",
      "Fail sanity check - vehicle position from the lane center 1.15\n"
     ]
    },
    {
     "name": "stderr",
     "output_type": "stream",
     "text": [
      "t:  69%|██████▉   | 828/1199 [03:54<01:41,  3.65it/s, now=None]"
     ]
    },
    {
     "name": "stdout",
     "output_type": "stream",
     "text": [
      "failed\n",
      "test\n",
      "Fail sanity check - distance at the bottom 376.3465984063977 right x point: 1015.424673969154 left x point: 639.0780755627563\n",
      "Fail sanity check - roughly parallel (mean distance) 430.3943732664212\n",
      "Fail sanity check - vehicle position from the lane center 1.15\n"
     ]
    },
    {
     "name": "stderr",
     "output_type": "stream",
     "text": [
      "t:  69%|██████▉   | 829/1199 [03:54<01:37,  3.80it/s, now=None]"
     ]
    },
    {
     "name": "stdout",
     "output_type": "stream",
     "text": [
      "failed\n",
      "test\n",
      "Fail sanity check - distance at the bottom 376.3465984063977 right x point: 1015.424673969154 left x point: 639.0780755627563\n",
      "Fail sanity check - roughly parallel (mean distance) 430.3943732664212\n",
      "Fail sanity check - vehicle position from the lane center 1.15\n"
     ]
    },
    {
     "name": "stderr",
     "output_type": "stream",
     "text": [
      "t:  69%|██████▉   | 830/1199 [03:54<01:33,  3.94it/s, now=None]"
     ]
    },
    {
     "name": "stdout",
     "output_type": "stream",
     "text": [
      "failed\n",
      "test\n",
      "Fail sanity check - distance at the bottom 376.3465984063977 right x point: 1015.424673969154 left x point: 639.0780755627563\n",
      "Fail sanity check - roughly parallel (mean distance) 430.3943732664212\n",
      "Fail sanity check - vehicle position from the lane center 1.15\n"
     ]
    },
    {
     "name": "stderr",
     "output_type": "stream",
     "text": [
      "t:  69%|██████▉   | 831/1199 [03:55<01:30,  4.05it/s, now=None]"
     ]
    },
    {
     "name": "stdout",
     "output_type": "stream",
     "text": [
      "test\n",
      "Fail sanity check - curvature left curvature: 708.0 right curvature: 57.0\n",
      "Fail sanity check - distance at the bottom 826.7523283974448 right x point: 1015.424673969154 left x point: 188.67234557170923\n"
     ]
    },
    {
     "name": "stderr",
     "output_type": "stream",
     "text": [
      "t:  69%|██████▉   | 832/1199 [03:55<01:34,  3.89it/s, now=None]"
     ]
    },
    {
     "name": "stdout",
     "output_type": "stream",
     "text": [
      "Error poly fit [-10.5699623   33.77377073   0.3822513 ]\n",
      "test\n",
      "Fail sanity check - vehicle position from the lane center 1.31\n"
     ]
    },
    {
     "name": "stderr",
     "output_type": "stream",
     "text": [
      "t:  69%|██████▉   | 833/1199 [03:55<01:37,  3.75it/s, now=None]"
     ]
    },
    {
     "name": "stdout",
     "output_type": "stream",
     "text": [
      "test\n",
      "Fail sanity check - distance at the bottom 753.4168686862674 right x point: 1202.4786455993262 left x point: 449.06177691305885\n",
      "Fail sanity check - vehicle position from the lane center 1.14\n"
     ]
    },
    {
     "name": "stderr",
     "output_type": "stream",
     "text": [
      "t:  70%|██████▉   | 834/1199 [03:56<01:40,  3.62it/s, now=None]"
     ]
    },
    {
     "name": "stdout",
     "output_type": "stream",
     "text": [
      "test\n",
      "Fail sanity check - vehicle position from the lane center 1.24\n"
     ]
    },
    {
     "name": "stderr",
     "output_type": "stream",
     "text": [
      "t:  70%|██████▉   | 835/1199 [03:56<01:40,  3.64it/s, now=None]"
     ]
    },
    {
     "name": "stdout",
     "output_type": "stream",
     "text": [
      "test\n",
      "Fail sanity check - curvature left curvature: 8.0 right curvature: 135.0\n",
      "Fail sanity check - distance at the bottom 869.3513626458932 right x point: 1282.5024036374452 left x point: 413.15104099155207\n",
      "Fail sanity check - roughly parallel (maximum distance) 10407.574869036742\n",
      "Fail sanity check - roughly parallel (mean distance) 3692.4380011350795\n",
      "Fail sanity check - vehicle position from the lane center 1.29\n"
     ]
    },
    {
     "name": "stderr",
     "output_type": "stream",
     "text": [
      "t:  70%|██████▉   | 836/1199 [03:56<01:39,  3.66it/s, now=None]"
     ]
    },
    {
     "name": "stdout",
     "output_type": "stream",
     "text": [
      "failed\n",
      "test\n",
      "Error poly fit [ 4.6508944   5.81523049 72.66544974]\n",
      "Fail sanity check - roughly parallel (minimum distance) -681.260017620866\n",
      "Fail sanity check - roughly parallel (mean distance) 425.38462474577994\n"
     ]
    },
    {
     "name": "stderr",
     "output_type": "stream",
     "text": [
      "t:  70%|██████▉   | 837/1199 [03:56<01:35,  3.79it/s, now=None]"
     ]
    },
    {
     "name": "stdout",
     "output_type": "stream",
     "text": [
      "test\n",
      "Fail sanity check - curvature left curvature: 37.0 right curvature: 245.0\n",
      "Fail sanity check - distance at the bottom 79.06291775801787 right x point: 520.1349900041969 left x point: 441.072072246179\n",
      "Fail sanity check - roughly parallel (minimum distance) -75674.23974362177\n",
      "Fail sanity check - roughly parallel (mean distance) -22494.87016013369\n",
      "Fail sanity check - vehicle position from the lane center -1.06\n"
     ]
    },
    {
     "name": "stderr",
     "output_type": "stream",
     "text": [
      "t:  70%|██████▉   | 838/1199 [03:57<01:33,  3.84it/s, now=None]"
     ]
    },
    {
     "name": "stdout",
     "output_type": "stream",
     "text": [
      "test\n",
      "Error poly fit [-14.32637974 -13.78763315 -17.29961911]\n",
      "Fail sanity check - curvature left curvature: 12.0 right curvature: 239.0\n",
      "Fail sanity check - distance at the bottom 781.576801080619 right x point: 1229.7671588499416 left x point: 448.19035776932253\n",
      "Fail sanity check - roughly parallel (minimum distance) -4657.962814741906\n",
      "Fail sanity check - roughly parallel (mean distance) -987.7855898263713\n",
      "Fail sanity check - vehicle position from the lane center 1.22\n"
     ]
    },
    {
     "name": "stderr",
     "output_type": "stream",
     "text": [
      "t:  70%|██████▉   | 839/1199 [03:57<01:35,  3.77it/s, now=None]"
     ]
    },
    {
     "name": "stdout",
     "output_type": "stream",
     "text": [
      "test\n",
      "Fail sanity check - curvature left curvature: 12.0 right curvature: 207.0\n",
      "Fail sanity check - roughly parallel (minimum distance) -6129.202165682103\n",
      "Fail sanity check - roughly parallel (mean distance) -1260.0735975865148\n"
     ]
    },
    {
     "name": "stderr",
     "output_type": "stream",
     "text": [
      "t:  70%|███████   | 840/1199 [03:57<01:35,  3.76it/s, now=None]"
     ]
    },
    {
     "name": "stdout",
     "output_type": "stream",
     "text": [
      "test\n",
      "Error poly fit [17.41469999 14.04482448  3.9639738 ]\n",
      "Fail sanity check - distance at the bottom 801.599672334583 right x point: 1225.603262025401 left x point: 424.0035896908179\n",
      "Fail sanity check - roughly parallel (maximum distance) 1296.9496329813908\n",
      "Fail sanity check - roughly parallel (mean distance) 894.7519094482785\n",
      "Fail sanity check - vehicle position from the lane center 1.14\n"
     ]
    },
    {
     "name": "stderr",
     "output_type": "stream",
     "text": [
      "t:  70%|███████   | 841/1199 [03:57<01:36,  3.70it/s, now=None]"
     ]
    },
    {
     "name": "stdout",
     "output_type": "stream",
     "text": [
      "test\n",
      "Fail sanity check - distance at the bottom 19.936431903036407 right x point: 448.4742410725303 left x point: 428.53780916949387\n",
      "Fail sanity check - roughly parallel (minimum distance) -74204.73336751966\n",
      "Fail sanity check - roughly parallel (mean distance) -22009.406460170376\n",
      "Fail sanity check - vehicle position from the lane center -1.32\n"
     ]
    },
    {
     "name": "stderr",
     "output_type": "stream",
     "text": [
      "t:  70%|███████   | 842/1199 [03:58<01:39,  3.58it/s, now=None]"
     ]
    },
    {
     "name": "stdout",
     "output_type": "stream",
     "text": [
      "Error poly fit [-2311.13365947 -6566.10298843    61.70501923]\n",
      "Fail sanity check - curvature left curvature: 1848.0 right curvature: 201.0\n",
      "Fail sanity check - distance at the bottom 756.0776524881883 right x point: 1199.81632106724 left x point: 443.7386685790518\n",
      "Fail sanity check - vehicle position from the lane center 1.12\n"
     ]
    },
    {
     "name": "stderr",
     "output_type": "stream",
     "text": [
      "t:  70%|███████   | 843/1199 [03:58<01:42,  3.48it/s, now=None]"
     ]
    },
    {
     "name": "stdout",
     "output_type": "stream",
     "text": [
      "test\n",
      "Fail sanity check - curvature left curvature: 4.0 right curvature: 475.0\n",
      "Fail sanity check - distance at the bottom 771.5674901070179 right x point: 1221.5142142339246 left x point: 449.9467241269067\n",
      "Fail sanity check - roughly parallel (maximum distance) 20669.469607358642\n",
      "Fail sanity check - roughly parallel (mean distance) 7075.879894642427\n",
      "Fail sanity check - vehicle position from the lane center 1.21\n"
     ]
    },
    {
     "name": "stderr",
     "output_type": "stream",
     "text": [
      "t:  70%|███████   | 844/1199 [03:58<01:42,  3.47it/s, now=None]"
     ]
    },
    {
     "name": "stdout",
     "output_type": "stream",
     "text": [
      "test\n",
      "Fail sanity check - curvature left curvature: 17.0 right curvature: 228.0\n",
      "Fail sanity check - distance at the bottom 335.23671169686435 right x point: 783.0627507466634 left x point: 447.826039049799\n",
      "Fail sanity check - roughly parallel (minimum distance) -54901.73055584753\n",
      "Fail sanity check - roughly parallel (mean distance) -16323.970072990563\n"
     ]
    },
    {
     "name": "stderr",
     "output_type": "stream",
     "text": [
      "t:  70%|███████   | 845/1199 [03:59<01:43,  3.41it/s, now=None]"
     ]
    },
    {
     "name": "stdout",
     "output_type": "stream",
     "text": [
      "Error poly fit [-7792.69655861 -8426.28253324    46.14102661]\n",
      "Fail sanity check - distance at the bottom 762.0400637218102 right x point: 1211.3979667650565 left x point: 449.3579030432463\n",
      "Fail sanity check - vehicle position from the lane center 1.17\n"
     ]
    },
    {
     "name": "stderr",
     "output_type": "stream",
     "text": [
      "t:  71%|███████   | 846/1199 [03:59<01:45,  3.36it/s, now=None]"
     ]
    },
    {
     "name": "stdout",
     "output_type": "stream",
     "text": [
      "Fail sanity check - vehicle position from the lane center 1.75\n"
     ]
    },
    {
     "name": "stderr",
     "output_type": "stream",
     "text": [
      "t:  71%|███████   | 847/1199 [03:59<01:48,  3.24it/s, now=None]"
     ]
    },
    {
     "name": "stdout",
     "output_type": "stream",
     "text": [
      "Error poly fit [-59.25570684  -5.35191652  -0.06444881]\n",
      "Fail sanity check - vehicle position from the lane center 1.56\n"
     ]
    },
    {
     "name": "stderr",
     "output_type": "stream",
     "text": [
      "t:  71%|███████   | 848/1199 [04:00<01:49,  3.21it/s, now=None]"
     ]
    },
    {
     "name": "stdout",
     "output_type": "stream",
     "text": [
      "Error poly fit [-1.14122010e+01 -7.58187090e-01 -5.37100808e-03]\n",
      "Fail sanity check - vehicle position from the lane center 1.56\n"
     ]
    },
    {
     "name": "stderr",
     "output_type": "stream",
     "text": [
      "t:  71%|███████   | 849/1199 [04:00<01:49,  3.19it/s, now=None]"
     ]
    },
    {
     "name": "stdout",
     "output_type": "stream",
     "text": [
      "Fail sanity check - vehicle position from the lane center 1.32\n"
     ]
    },
    {
     "name": "stderr",
     "output_type": "stream",
     "text": [
      "t:  71%|███████   | 850/1199 [04:00<01:48,  3.23it/s, now=None]"
     ]
    },
    {
     "name": "stdout",
     "output_type": "stream",
     "text": [
      "failed\n",
      "Fail sanity check - vehicle position from the lane center 1.25\n"
     ]
    },
    {
     "name": "stderr",
     "output_type": "stream",
     "text": [
      "t:  71%|███████   | 851/1199 [04:00<01:49,  3.17it/s, now=None]"
     ]
    },
    {
     "name": "stdout",
     "output_type": "stream",
     "text": [
      "Fail sanity check - vehicle position from the lane center 1.35\n"
     ]
    },
    {
     "name": "stderr",
     "output_type": "stream",
     "text": [
      "t:  71%|███████   | 852/1199 [04:01<01:50,  3.14it/s, now=None]"
     ]
    },
    {
     "name": "stdout",
     "output_type": "stream",
     "text": [
      "Fail sanity check - vehicle position from the lane center 0.96\n"
     ]
    },
    {
     "name": "stderr",
     "output_type": "stream",
     "text": [
      "t:  71%|███████   | 853/1199 [04:01<01:53,  3.04it/s, now=None]"
     ]
    },
    {
     "name": "stdout",
     "output_type": "stream",
     "text": [
      "Fail sanity check - vehicle position from the lane center 0.98\n"
     ]
    },
    {
     "name": "stderr",
     "output_type": "stream",
     "text": [
      "t:  71%|███████   | 854/1199 [04:01<01:55,  2.99it/s, now=None]"
     ]
    },
    {
     "name": "stdout",
     "output_type": "stream",
     "text": [
      "Error poly fit [ 0.78684587 12.56971785  0.15488972]\n",
      "Fail sanity check - vehicle position from the lane center 1.31\n"
     ]
    },
    {
     "name": "stderr",
     "output_type": "stream",
     "text": [
      "t:  71%|███████▏  | 855/1199 [04:02<01:55,  2.98it/s, now=None]"
     ]
    },
    {
     "name": "stdout",
     "output_type": "stream",
     "text": [
      "Fail sanity check - distance at the bottom 479.9630751751671 right x point: 1101.9498676486023 left x point: 621.9867924734352\n",
      "Fail sanity check - roughly parallel (mean distance) 454.6849221413314\n",
      "Fail sanity check - vehicle position from the lane center 1.37\n"
     ]
    },
    {
     "name": "stderr",
     "output_type": "stream",
     "text": [
      "t:  71%|███████▏  | 856/1199 [04:02<01:56,  2.94it/s, now=None]"
     ]
    },
    {
     "name": "stdout",
     "output_type": "stream",
     "text": [
      "Fail sanity check - distance at the bottom 335.0913733015278 right x point: 960.5242655564186 left x point: 625.4328922548908\n",
      "Fail sanity check - roughly parallel (mean distance) 326.1374280374881\n",
      "Fail sanity check - vehicle position from the lane center 0.94\n"
     ]
    },
    {
     "name": "stderr",
     "output_type": "stream",
     "text": [
      "t:  71%|███████▏  | 857/1199 [04:03<01:59,  2.85it/s, now=None]"
     ]
    },
    {
     "name": "stdout",
     "output_type": "stream",
     "text": [
      "Fail sanity check - distance at the bottom 301.42204728054696 right x point: 962.6666107845822 left x point: 661.2445635040352\n",
      "Fail sanity check - roughly parallel (mean distance) 327.4249256436745\n",
      "Fail sanity check - vehicle position from the lane center 1.06\n"
     ]
    },
    {
     "name": "stderr",
     "output_type": "stream",
     "text": [
      "t:  72%|███████▏  | 858/1199 [04:03<02:00,  2.82it/s, now=None]"
     ]
    },
    {
     "name": "stdout",
     "output_type": "stream",
     "text": [
      "Fail sanity check - distance at the bottom 311.85263004679723 right x point: 964.9067091953184 left x point: 653.0540791485212\n",
      "Fail sanity check - roughly parallel (mean distance) 338.73422342436555\n",
      "Fail sanity check - vehicle position from the lane center 1.04\n"
     ]
    },
    {
     "name": "stderr",
     "output_type": "stream",
     "text": [
      "t:  72%|███████▏  | 859/1199 [04:03<02:03,  2.76it/s, now=None]"
     ]
    },
    {
     "name": "stdout",
     "output_type": "stream",
     "text": [
      "Fail sanity check - distance at the bottom 311.14069073675273 right x point: 964.6529310317493 left x point: 653.5122402949966\n",
      "Fail sanity check - roughly parallel (mean distance) 334.9202357608762\n",
      "Fail sanity check - vehicle position from the lane center 1.04\n"
     ]
    },
    {
     "name": "stderr",
     "output_type": "stream",
     "text": [
      "t:  72%|███████▏  | 860/1199 [04:04<02:04,  2.72it/s, now=None]"
     ]
    },
    {
     "name": "stdout",
     "output_type": "stream",
     "text": [
      "Fail sanity check - distance at the bottom 335.07486538651995 right x point: 962.7932814462649 left x point: 627.718416059745\n",
      "Fail sanity check - roughly parallel (mean distance) 325.29437265741996\n",
      "Fail sanity check - vehicle position from the lane center 0.96\n"
     ]
    },
    {
     "name": "stderr",
     "output_type": "stream",
     "text": [
      "t:  72%|███████▏  | 861/1199 [04:04<02:06,  2.67it/s, now=None]"
     ]
    },
    {
     "name": "stdout",
     "output_type": "stream",
     "text": [
      "Fail sanity check - distance at the bottom 339.16870652651255 right x point: 962.56139027865 left x point: 623.3926837521375\n",
      "Fail sanity check - roughly parallel (minimum distance) 299.1120134674401\n",
      "Fail sanity check - roughly parallel (mean distance) 310.6573630396521\n",
      "Fail sanity check - vehicle position from the lane center 0.94\n"
     ]
    },
    {
     "name": "stderr",
     "output_type": "stream",
     "text": [
      "t:  72%|███████▏  | 862/1199 [04:04<02:06,  2.67it/s, now=None]"
     ]
    },
    {
     "name": "stdout",
     "output_type": "stream",
     "text": [
      "Fail sanity check - distance at the bottom 350.2217873592957 right x point: 964.0982819829536 left x point: 613.8764946236579\n",
      "Fail sanity check - roughly parallel (minimum distance) 280.3594597032285\n",
      "Fail sanity check - roughly parallel (mean distance) 300.1714609437646\n",
      "Fail sanity check - vehicle position from the lane center 0.92\n"
     ]
    },
    {
     "name": "stderr",
     "output_type": "stream",
     "text": [
      "t:  72%|███████▏  | 863/1199 [04:05<02:21,  2.37it/s, now=None]"
     ]
    },
    {
     "name": "stdout",
     "output_type": "stream",
     "text": [
      "Error poly fit [35.70621443 -9.6642481  -0.24260887]\n",
      "Fail sanity check - distance at the bottom 416.9928435488754 right x point: 965.443278848462 left x point: 548.4504352995866\n",
      "Fail sanity check - roughly parallel (mean distance) 417.60916825904883\n"
     ]
    },
    {
     "name": "stderr",
     "output_type": "stream",
     "text": [
      "t:  72%|███████▏  | 864/1199 [04:05<02:29,  2.25it/s, now=None]"
     ]
    },
    {
     "name": "stdout",
     "output_type": "stream",
     "text": [
      "Fail sanity check - distance at the bottom 410.8154771060723 right x point: 968.0046021886857 left x point: 557.1891250826134\n",
      "Fail sanity check - roughly parallel (mean distance) 418.44964399634097\n",
      "Fail sanity check - vehicle position from the lane center 0.76\n"
     ]
    },
    {
     "name": "stderr",
     "output_type": "stream",
     "text": [
      "t:  72%|███████▏  | 865/1199 [04:06<02:34,  2.16it/s, now=None]"
     ]
    },
    {
     "name": "stdout",
     "output_type": "stream",
     "text": [
      "Fail sanity check - vehicle position from the lane center 0.92\n"
     ]
    },
    {
     "name": "stderr",
     "output_type": "stream",
     "text": [
      "t:  72%|███████▏  | 866/1199 [04:07<02:41,  2.06it/s, now=None]"
     ]
    },
    {
     "name": "stdout",
     "output_type": "stream",
     "text": [
      "Fail sanity check - vehicle position from the lane center 0.87\n"
     ]
    },
    {
     "name": "stderr",
     "output_type": "stream",
     "text": [
      "t:  72%|███████▏  | 867/1199 [04:07<02:40,  2.06it/s, now=None]"
     ]
    },
    {
     "name": "stdout",
     "output_type": "stream",
     "text": [
      "Fail sanity check - vehicle position from the lane center 0.89\n"
     ]
    },
    {
     "name": "stderr",
     "output_type": "stream",
     "text": [
      "t:  72%|███████▏  | 868/1199 [04:08<02:42,  2.04it/s, now=None]"
     ]
    },
    {
     "name": "stdout",
     "output_type": "stream",
     "text": [
      "Fail sanity check - vehicle position from the lane center 0.91\n"
     ]
    },
    {
     "name": "stderr",
     "output_type": "stream",
     "text": [
      "t:  72%|███████▏  | 869/1199 [04:08<02:34,  2.13it/s, now=None]"
     ]
    },
    {
     "name": "stdout",
     "output_type": "stream",
     "text": [
      "Fail sanity check - vehicle position from the lane center 0.89\n"
     ]
    },
    {
     "name": "stderr",
     "output_type": "stream",
     "text": [
      "t:  73%|███████▎  | 870/1199 [04:08<02:28,  2.21it/s, now=None]"
     ]
    },
    {
     "name": "stdout",
     "output_type": "stream",
     "text": [
      "Fail sanity check - vehicle position from the lane center 0.79\n"
     ]
    },
    {
     "name": "stderr",
     "output_type": "stream",
     "text": [
      "t:  73%|███████▎  | 875/1199 [04:10<01:56,  2.77it/s, now=None]"
     ]
    },
    {
     "name": "stdout",
     "output_type": "stream",
     "text": [
      "Fail sanity check - distance at the bottom 479.9826228697996 right x point: 944.9166410314272 left x point: 464.93401816162753\n",
      "Fail sanity check - roughly parallel (mean distance) 475.24849125880377\n"
     ]
    },
    {
     "name": "stderr",
     "output_type": "stream",
     "text": [
      "t:  73%|███████▎  | 876/1199 [04:10<01:55,  2.79it/s, now=None]"
     ]
    },
    {
     "name": "stdout",
     "output_type": "stream",
     "text": [
      "Error poly fit [ 55.41143143 -47.31320639  -0.20882666]\n",
      "Fail sanity check - distance at the bottom 150.7167554636785 right x point: 776.5656634147394 left x point: 625.8489079510609\n",
      "Fail sanity check - roughly parallel (minimum distance) 134.769978913263\n",
      "Fail sanity check - roughly parallel (mean distance) 149.1781541157404\n"
     ]
    },
    {
     "name": "stderr",
     "output_type": "stream",
     "text": [
      "t:  73%|███████▎  | 877/1199 [04:11<01:56,  2.77it/s, now=None]"
     ]
    },
    {
     "name": "stdout",
     "output_type": "stream",
     "text": [
      "Fail sanity check - distance at the bottom 104.77796776910031 right x point: 740.0702769015988 left x point: 635.2923091324985\n",
      "Fail sanity check - roughly parallel (minimum distance) 92.47711837467307\n",
      "Fail sanity check - roughly parallel (mean distance) 107.59538223000742\n"
     ]
    },
    {
     "name": "stderr",
     "output_type": "stream",
     "text": [
      "t:  73%|███████▎  | 878/1199 [04:11<01:53,  2.82it/s, now=None]"
     ]
    },
    {
     "name": "stdout",
     "output_type": "stream",
     "text": [
      "Fail sanity check - distance at the bottom 45.52143337636301 right x point: 666.2124179904442 left x point: 620.6909846140812\n",
      "Fail sanity check - roughly parallel (minimum distance) 41.349774354610645\n",
      "Fail sanity check - roughly parallel (mean distance) 42.61561356950283\n"
     ]
    },
    {
     "name": "stderr",
     "output_type": "stream",
     "text": [
      "t:  74%|███████▍  | 893/1199 [04:16<01:27,  3.50it/s, now=None]"
     ]
    },
    {
     "name": "stdout",
     "output_type": "stream",
     "text": [
      "Fail sanity check - curvature left curvature: 1319.0 right curvature: 210.0\n"
     ]
    },
    {
     "name": "stderr",
     "output_type": "stream",
     "text": [
      "t:  75%|███████▍  | 894/1199 [04:16<01:27,  3.49it/s, now=None]"
     ]
    },
    {
     "name": "stdout",
     "output_type": "stream",
     "text": [
      "test\n",
      "Fail sanity check - curvature left curvature: 10.0 right curvature: 258.0\n",
      "Fail sanity check - distance at the bottom 767.0537833417004 right x point: 1184.0489713406587 left x point: 416.99518799895833\n",
      "Fail sanity check - roughly parallel (minimum distance) -6656.728666786664\n",
      "Fail sanity check - roughly parallel (mean distance) -1383.9898263750786\n",
      "Fail sanity check - vehicle position from the lane center 0.98\n"
     ]
    },
    {
     "name": "stderr",
     "output_type": "stream",
     "text": [
      "t:  75%|███████▍  | 895/1199 [04:16<01:28,  3.44it/s, now=None]"
     ]
    },
    {
     "name": "stdout",
     "output_type": "stream",
     "text": [
      "test\n",
      "Fail sanity check - curvature left curvature: 15.0 right curvature: 213.0\n",
      "Fail sanity check - distance at the bottom 795.5238908476533 right x point: 1211.630138545855 left x point: 416.1062476982018\n",
      "Fail sanity check - roughly parallel (minimum distance) -3603.28802536943\n",
      "Fail sanity check - roughly parallel (mean distance) -453.7316697423142\n",
      "Fail sanity check - vehicle position from the lane center 1.07\n"
     ]
    },
    {
     "name": "stderr",
     "output_type": "stream",
     "text": [
      "t:  75%|███████▍  | 896/1199 [04:16<01:25,  3.53it/s, now=None]"
     ]
    },
    {
     "name": "stdout",
     "output_type": "stream",
     "text": [
      "failed\n",
      "test\n",
      "Fail sanity check - curvature left curvature: 8.0 right curvature: 213.0\n",
      "Fail sanity check - roughly parallel (minimum distance) -10913.069705976315\n",
      "Fail sanity check - roughly parallel (mean distance) -2663.4543898694747\n",
      "Fail sanity check - vehicle position from the lane center 0.8\n"
     ]
    },
    {
     "name": "stderr",
     "output_type": "stream",
     "text": [
      "t:  75%|███████▍  | 897/1199 [04:17<01:20,  3.76it/s, now=None]"
     ]
    },
    {
     "name": "stdout",
     "output_type": "stream",
     "text": [
      "failed\n",
      "test\n",
      "Fail sanity check - curvature left curvature: 11.0 right curvature: 213.0\n",
      "Fail sanity check - distance at the bottom 763.4201845669475 right x point: 1179.5264322651492 left x point: 416.1062476982018\n",
      "Fail sanity check - roughly parallel (minimum distance) -5724.936065775937\n",
      "Fail sanity check - roughly parallel (mean distance) -1090.01934605061\n",
      "Fail sanity check - vehicle position from the lane center 0.97\n"
     ]
    },
    {
     "name": "stderr",
     "output_type": "stream",
     "text": [
      "t:  75%|███████▍  | 898/1199 [04:17<01:16,  3.95it/s, now=None]"
     ]
    },
    {
     "name": "stdout",
     "output_type": "stream",
     "text": [
      "failed\n",
      "test\n",
      "Fail sanity check - curvature left curvature: 9.0 right curvature: 213.0\n",
      "Fail sanity check - roughly parallel (minimum distance) -17048.232033571097\n",
      "Fail sanity check - roughly parallel (mean distance) -4489.554795686354\n"
     ]
    },
    {
     "name": "stderr",
     "output_type": "stream",
     "text": [
      "t:  75%|███████▍  | 899/1199 [04:17<01:16,  3.91it/s, now=None]"
     ]
    },
    {
     "name": "stdout",
     "output_type": "stream",
     "text": [
      "failed\n",
      "test\n",
      "Fail sanity check - curvature left curvature: 11.0 right curvature: 213.0\n",
      "Fail sanity check - roughly parallel (minimum distance) -26652.11220998303\n",
      "Fail sanity check - roughly parallel (mean distance) -7409.385842669534\n",
      "failed\n",
      "test\n"
     ]
    },
    {
     "name": "stderr",
     "output_type": "stream",
     "text": [
      "t:  75%|███████▌  | 900/1199 [04:18<02:35,  1.92it/s, now=None]"
     ]
    },
    {
     "name": "stdout",
     "output_type": "stream",
     "text": [
      "Fail sanity check - curvature left curvature: 21.0 right curvature: 213.0\n",
      "Fail sanity check - distance at the bottom 308.09004170377256 right x point: 724.1962894019744 left x point: 416.1062476982018\n",
      "Fail sanity check - roughly parallel (minimum distance) -46866.69748012564\n",
      "Fail sanity check - roughly parallel (mean distance) -13515.99897694505\n",
      "failed\n"
     ]
    },
    {
     "name": "stderr",
     "output_type": "stream",
     "text": [
      "t:  75%|███████▌  | 901/1199 [04:19<02:08,  2.31it/s, now=None]"
     ]
    },
    {
     "name": "stdout",
     "output_type": "stream",
     "text": [
      "test\n",
      "Fail sanity check - distance at the bottom -580.5494711443728 right x point: -164.44322344617103 left x point: 416.1062476982018\n",
      "Fail sanity check - roughly parallel (minimum distance) -143261.36087935\n",
      "Fail sanity check - roughly parallel (mean distance) -42868.65271116513\n",
      "Fail sanity check - vehicle position from the lane center -3.31\n"
     ]
    },
    {
     "name": "stderr",
     "output_type": "stream",
     "text": [
      "t:  75%|███████▌  | 902/1199 [04:19<01:48,  2.73it/s, now=None]"
     ]
    },
    {
     "name": "stdout",
     "output_type": "stream",
     "text": [
      "failed\n",
      "test\n",
      "Error poly fit [-149.13820604 -163.28840787  350.63419378]\n",
      "Fail sanity check - distance at the bottom 759.1466849087419 right x point: 1175.2529326069437 left x point: 416.1062476982018\n",
      "Fail sanity check - roughly parallel (minimum distance) -213.70020085484174\n",
      "Fail sanity check - vehicle position from the lane center 0.96\n"
     ]
    },
    {
     "name": "stderr",
     "output_type": "stream",
     "text": [
      "t:  75%|███████▌  | 903/1199 [04:19<01:38,  3.01it/s, now=None]"
     ]
    },
    {
     "name": "stdout",
     "output_type": "stream",
     "text": [
      "failed\n",
      "test\n",
      "Fail sanity check - distance at the bottom 777.6115716657362 right x point: 1193.717819363938 left x point: 416.1062476982018\n",
      "Fail sanity check - roughly parallel (maximum distance) 1123.2998461199745\n",
      "Fail sanity check - roughly parallel (mean distance) 941.6816796334955\n",
      "Fail sanity check - vehicle position from the lane center 1.02\n"
     ]
    },
    {
     "name": "stderr",
     "output_type": "stream",
     "text": [
      "t:  75%|███████▌  | 904/1199 [04:19<01:29,  3.30it/s, now=None]"
     ]
    },
    {
     "name": "stdout",
     "output_type": "stream",
     "text": [
      "failed\n",
      "test\n",
      "Fail sanity check - distance at the bottom 777.6135920070888 right x point: 1193.7198397052905 left x point: 416.1062476982018\n",
      "Fail sanity check - roughly parallel (maximum distance) 1423.8429838506645\n",
      "Fail sanity check - roughly parallel (mean distance) 1032.7769767643686\n",
      "Fail sanity check - vehicle position from the lane center 1.02\n"
     ]
    },
    {
     "name": "stderr",
     "output_type": "stream",
     "text": [
      "t:  75%|███████▌  | 905/1199 [04:19<01:22,  3.56it/s, now=None]"
     ]
    },
    {
     "name": "stdout",
     "output_type": "stream",
     "text": [
      "failed\n",
      "test\n",
      "Fail sanity check - curvature left curvature: 15.0 right curvature: 213.0\n",
      "Fail sanity check - distance at the bottom 722.2076693297797 right x point: 1138.3139170279815 left x point: 416.1062476982018\n",
      "Fail sanity check - roughly parallel (minimum distance) -3672.9678359605705\n",
      "Fail sanity check - roughly parallel (mean distance) -503.3032990349599\n",
      "Fail sanity check - vehicle position from the lane center 0.84\n"
     ]
    },
    {
     "name": "stderr",
     "output_type": "stream",
     "text": [
      "t:  76%|███████▌  | 906/1199 [04:20<01:17,  3.77it/s, now=None]"
     ]
    },
    {
     "name": "stdout",
     "output_type": "stream",
     "text": [
      "failed\n",
      "test\n",
      "Fail sanity check - curvature left curvature: 13.0 right curvature: 213.0\n",
      "Fail sanity check - distance at the bottom 720.7854770036686 right x point: 1136.8917247018703 left x point: 416.1062476982018\n",
      "Fail sanity check - roughly parallel (minimum distance) -4650.342957123423\n",
      "Fail sanity check - roughly parallel (mean distance) -792.1628958324753\n",
      "Fail sanity check - vehicle position from the lane center 0.84\n"
     ]
    },
    {
     "name": "stderr",
     "output_type": "stream",
     "text": [
      "t:  76%|███████▌  | 907/1199 [04:20<01:17,  3.76it/s, now=None]"
     ]
    },
    {
     "name": "stdout",
     "output_type": "stream",
     "text": [
      "failed\n",
      "Error poly fit [238.34994197  49.95359009   4.49440121]\n",
      "Fail sanity check - curvature left curvature: 2582.0 right curvature: 213.0\n"
     ]
    },
    {
     "name": "stderr",
     "output_type": "stream",
     "text": [
      "t:  76%|███████▌  | 908/1199 [04:20<01:18,  3.72it/s, now=None]"
     ]
    },
    {
     "name": "stdout",
     "output_type": "stream",
     "text": [
      "failed\n",
      "Fail sanity check - curvature left curvature: 2479.0 right curvature: 213.0\n"
     ]
    },
    {
     "name": "stderr",
     "output_type": "stream",
     "text": [
      "t:  76%|███████▌  | 909/1199 [04:21<01:18,  3.72it/s, now=None]"
     ]
    },
    {
     "name": "stdout",
     "output_type": "stream",
     "text": [
      "failed\n",
      "Fail sanity check - curvature left curvature: 2559.0 right curvature: 213.0\n"
     ]
    },
    {
     "name": "stderr",
     "output_type": "stream",
     "text": [
      "t:  76%|███████▌  | 910/1199 [04:21<01:17,  3.73it/s, now=None]"
     ]
    },
    {
     "name": "stdout",
     "output_type": "stream",
     "text": [
      "failed\n",
      "Fail sanity check - curvature left curvature: 1573.0 right curvature: 213.0\n"
     ]
    },
    {
     "name": "stderr",
     "output_type": "stream",
     "text": [
      "t:  76%|███████▌  | 911/1199 [04:21<01:18,  3.66it/s, now=None]"
     ]
    },
    {
     "name": "stdout",
     "output_type": "stream",
     "text": [
      "failed\n",
      "Fail sanity check - curvature left curvature: 1955.0 right curvature: 213.0\n"
     ]
    },
    {
     "name": "stderr",
     "output_type": "stream",
     "text": [
      "t:  76%|███████▌  | 912/1199 [04:21<01:18,  3.65it/s, now=None]"
     ]
    },
    {
     "name": "stdout",
     "output_type": "stream",
     "text": [
      "failed\n",
      "Fail sanity check - curvature left curvature: 3018.0 right curvature: 213.0\n"
     ]
    },
    {
     "name": "stderr",
     "output_type": "stream",
     "text": [
      "t:  76%|███████▌  | 913/1199 [04:22<01:17,  3.69it/s, now=None]"
     ]
    },
    {
     "name": "stdout",
     "output_type": "stream",
     "text": [
      "failed\n",
      "Fail sanity check - curvature left curvature: 4775.0 right curvature: 213.0\n"
     ]
    },
    {
     "name": "stderr",
     "output_type": "stream",
     "text": [
      "t:  76%|███████▌  | 914/1199 [04:22<01:17,  3.68it/s, now=None]"
     ]
    },
    {
     "name": "stdout",
     "output_type": "stream",
     "text": [
      "failed\n",
      "Fail sanity check - curvature left curvature: 1355.0 right curvature: 213.0\n"
     ]
    },
    {
     "name": "stderr",
     "output_type": "stream",
     "text": [
      "t:  76%|███████▋  | 915/1199 [04:22<01:18,  3.64it/s, now=None]"
     ]
    },
    {
     "name": "stdout",
     "output_type": "stream",
     "text": [
      "failed\n"
     ]
    },
    {
     "name": "stderr",
     "output_type": "stream",
     "text": [
      "t:  76%|███████▋  | 916/1199 [04:22<01:18,  3.62it/s, now=None]"
     ]
    },
    {
     "name": "stdout",
     "output_type": "stream",
     "text": [
      "failed\n",
      "Fail sanity check - curvature left curvature: 1191.0 right curvature: 213.0\n"
     ]
    },
    {
     "name": "stderr",
     "output_type": "stream",
     "text": [
      "t:  76%|███████▋  | 917/1199 [04:23<01:17,  3.64it/s, now=None]"
     ]
    },
    {
     "name": "stdout",
     "output_type": "stream",
     "text": [
      "failed\n"
     ]
    },
    {
     "name": "stderr",
     "output_type": "stream",
     "text": [
      "t:  77%|███████▋  | 918/1199 [04:23<01:16,  3.65it/s, now=None]"
     ]
    },
    {
     "name": "stdout",
     "output_type": "stream",
     "text": [
      "failed\n"
     ]
    },
    {
     "name": "stderr",
     "output_type": "stream",
     "text": [
      "t:  77%|███████▋  | 919/1199 [04:23<01:17,  3.63it/s, now=None]"
     ]
    },
    {
     "name": "stdout",
     "output_type": "stream",
     "text": [
      "failed\n"
     ]
    },
    {
     "name": "stderr",
     "output_type": "stream",
     "text": [
      "t:  77%|███████▋  | 920/1199 [04:24<01:16,  3.65it/s, now=None]"
     ]
    },
    {
     "name": "stdout",
     "output_type": "stream",
     "text": [
      "failed\n",
      "Fail sanity check - curvature left curvature: 1163.0 right curvature: 213.0\n"
     ]
    },
    {
     "name": "stderr",
     "output_type": "stream",
     "text": [
      "t:  77%|███████▋  | 921/1199 [04:24<01:14,  3.72it/s, now=None]"
     ]
    },
    {
     "name": "stdout",
     "output_type": "stream",
     "text": [
      "failed\n"
     ]
    },
    {
     "name": "stderr",
     "output_type": "stream",
     "text": [
      "t:  77%|███████▋  | 922/1199 [04:24<01:13,  3.75it/s, now=None]"
     ]
    },
    {
     "name": "stdout",
     "output_type": "stream",
     "text": [
      "failed\n",
      "failed\n",
      "failed\n"
     ]
    },
    {
     "name": "stderr",
     "output_type": "stream",
     "text": [
      "t:  77%|███████▋  | 923/1199 [04:24<01:08,  4.01it/s, now=None]"
     ]
    },
    {
     "name": "stdout",
     "output_type": "stream",
     "text": [
      "failed\n",
      "failed"
     ]
    },
    {
     "name": "stderr",
     "output_type": "stream",
     "text": [
      "t:  77%|███████▋  | 924/1199 [04:24<01:05,  4.20it/s, now=None]"
     ]
    },
    {
     "name": "stdout",
     "output_type": "stream",
     "text": [
      "\n",
      "failed\n"
     ]
    },
    {
     "name": "stderr",
     "output_type": "stream",
     "text": [
      "t:  77%|███████▋  | 925/1199 [04:25<01:06,  4.11it/s, now=None]"
     ]
    },
    {
     "name": "stdout",
     "output_type": "stream",
     "text": [
      "failed\n"
     ]
    },
    {
     "name": "stderr",
     "output_type": "stream",
     "text": [
      "t:  77%|███████▋  | 926/1199 [04:25<01:07,  4.04it/s, now=None]"
     ]
    },
    {
     "name": "stdout",
     "output_type": "stream",
     "text": [
      "failed\n",
      "failed\n"
     ]
    },
    {
     "name": "stderr",
     "output_type": "stream",
     "text": [
      "t:  77%|███████▋  | 927/1199 [04:25<01:04,  4.20it/s, now=None]"
     ]
    },
    {
     "name": "stdout",
     "output_type": "stream",
     "text": [
      "failed\n",
      "failed\n"
     ]
    },
    {
     "name": "stderr",
     "output_type": "stream",
     "text": [
      "t:  77%|███████▋  | 928/1199 [04:25<01:02,  4.35it/s, now=None]"
     ]
    },
    {
     "name": "stdout",
     "output_type": "stream",
     "text": [
      "failed\n",
      "failed\n"
     ]
    },
    {
     "name": "stderr",
     "output_type": "stream",
     "text": [
      "t:  77%|███████▋  | 929/1199 [04:26<01:03,  4.24it/s, now=None]"
     ]
    },
    {
     "name": "stdout",
     "output_type": "stream",
     "text": [
      "failed\n",
      "failed\n"
     ]
    },
    {
     "name": "stderr",
     "output_type": "stream",
     "text": [
      "t:  78%|███████▊  | 930/1199 [04:26<01:03,  4.23it/s, now=None]"
     ]
    },
    {
     "name": "stdout",
     "output_type": "stream",
     "text": [
      "failed\n",
      "failed\n"
     ]
    },
    {
     "name": "stderr",
     "output_type": "stream",
     "text": [
      "t:  78%|███████▊  | 931/1199 [04:26<01:02,  4.29it/s, now=None]"
     ]
    },
    {
     "name": "stdout",
     "output_type": "stream",
     "text": [
      "failed\n",
      "failed\n"
     ]
    },
    {
     "name": "stderr",
     "output_type": "stream",
     "text": [
      "t:  78%|███████▊  | 932/1199 [04:26<01:01,  4.34it/s, now=None]"
     ]
    },
    {
     "name": "stdout",
     "output_type": "stream",
     "text": [
      "failed\n",
      "failed\n"
     ]
    },
    {
     "name": "stderr",
     "output_type": "stream",
     "text": [
      "t:  78%|███████▊  | 933/1199 [04:27<01:00,  4.40it/s, now=None]"
     ]
    },
    {
     "name": "stdout",
     "output_type": "stream",
     "text": [
      "failed\n",
      "failed\n"
     ]
    },
    {
     "name": "stderr",
     "output_type": "stream",
     "text": [
      "t:  78%|███████▊  | 934/1199 [04:27<00:59,  4.47it/s, now=None]"
     ]
    },
    {
     "name": "stdout",
     "output_type": "stream",
     "text": [
      "failed\n",
      "failed\n"
     ]
    },
    {
     "name": "stderr",
     "output_type": "stream",
     "text": [
      "t:  78%|███████▊  | 935/1199 [04:27<00:58,  4.50it/s, now=None]"
     ]
    },
    {
     "name": "stdout",
     "output_type": "stream",
     "text": [
      "failed\n",
      "failed\n"
     ]
    },
    {
     "name": "stderr",
     "output_type": "stream",
     "text": [
      "t:  78%|███████▊  | 936/1199 [04:27<01:01,  4.29it/s, now=None]"
     ]
    },
    {
     "name": "stdout",
     "output_type": "stream",
     "text": [
      "failed\n",
      "failed\n"
     ]
    },
    {
     "name": "stderr",
     "output_type": "stream",
     "text": [
      "t:  78%|███████▊  | 937/1199 [04:27<01:01,  4.27it/s, now=None]"
     ]
    },
    {
     "name": "stdout",
     "output_type": "stream",
     "text": [
      "failed\n",
      "failed\n"
     ]
    },
    {
     "name": "stderr",
     "output_type": "stream",
     "text": [
      "t:  78%|███████▊  | 938/1199 [04:28<00:59,  4.37it/s, now=None]"
     ]
    },
    {
     "name": "stdout",
     "output_type": "stream",
     "text": [
      "failed\n",
      "failed\n"
     ]
    },
    {
     "name": "stderr",
     "output_type": "stream",
     "text": [
      "t:  78%|███████▊  | 939/1199 [04:28<00:58,  4.45it/s, now=None]"
     ]
    },
    {
     "name": "stdout",
     "output_type": "stream",
     "text": [
      "failed\n",
      "failed\n"
     ]
    },
    {
     "name": "stderr",
     "output_type": "stream",
     "text": [
      "t:  78%|███████▊  | 940/1199 [04:28<01:00,  4.31it/s, now=None]"
     ]
    },
    {
     "name": "stdout",
     "output_type": "stream",
     "text": [
      "failed\n",
      "failed\n"
     ]
    },
    {
     "name": "stderr",
     "output_type": "stream",
     "text": [
      "t:  78%|███████▊  | 941/1199 [04:28<00:58,  4.39it/s, now=None]"
     ]
    },
    {
     "name": "stdout",
     "output_type": "stream",
     "text": [
      "failed\n",
      "failed\n"
     ]
    },
    {
     "name": "stderr",
     "output_type": "stream",
     "text": [
      "t:  79%|███████▊  | 942/1199 [04:29<00:57,  4.43it/s, now=None]"
     ]
    },
    {
     "name": "stdout",
     "output_type": "stream",
     "text": [
      "Error poly fit [  8.87085839 -70.62264881  -0.34263198]\n",
      "failed\n",
      "Fail sanity check - curvature left curvature: 256.0 right curvature: 1673.0\n"
     ]
    },
    {
     "name": "stderr",
     "output_type": "stream",
     "text": [
      "t:  79%|███████▊  | 943/1199 [04:29<00:57,  4.48it/s, now=None]"
     ]
    },
    {
     "name": "stdout",
     "output_type": "stream",
     "text": [
      "failed\n"
     ]
    },
    {
     "name": "stderr",
     "output_type": "stream",
     "text": [
      "t:  79%|███████▊  | 944/1199 [04:29<00:59,  4.31it/s, now=None]"
     ]
    },
    {
     "name": "stdout",
     "output_type": "stream",
     "text": [
      "failed\n"
     ]
    },
    {
     "name": "stderr",
     "output_type": "stream",
     "text": [
      "t:  79%|███████▉  | 945/1199 [04:29<00:58,  4.35it/s, now=None]"
     ]
    },
    {
     "name": "stdout",
     "output_type": "stream",
     "text": [
      "failed\n",
      "Fail sanity check - roughly parallel (maximum distance) 923.6333604376368\n"
     ]
    },
    {
     "name": "stderr",
     "output_type": "stream",
     "text": [
      "t:  79%|███████▉  | 946/1199 [04:30<00:57,  4.38it/s, now=None]"
     ]
    },
    {
     "name": "stdout",
     "output_type": "stream",
     "text": [
      "failed\n",
      "Fail sanity check - roughly parallel (maximum distance) 1010.0164071375343\n"
     ]
    },
    {
     "name": "stderr",
     "output_type": "stream",
     "text": [
      "t:  79%|███████▉  | 947/1199 [04:30<00:57,  4.39it/s, now=None]"
     ]
    },
    {
     "name": "stdout",
     "output_type": "stream",
     "text": [
      "failed\n",
      "Fail sanity check - roughly parallel (maximum distance) 1104.360358080361\n"
     ]
    },
    {
     "name": "stderr",
     "output_type": "stream",
     "text": [
      "t:  79%|███████▉  | 948/1199 [04:30<00:58,  4.27it/s, now=None]"
     ]
    },
    {
     "name": "stdout",
     "output_type": "stream",
     "text": [
      "failed\n"
     ]
    },
    {
     "name": "stderr",
     "output_type": "stream",
     "text": [
      "t:  79%|███████▉  | 949/1199 [04:30<00:58,  4.31it/s, now=None]"
     ]
    },
    {
     "name": "stdout",
     "output_type": "stream",
     "text": [
      "failed\n"
     ]
    },
    {
     "name": "stderr",
     "output_type": "stream",
     "text": [
      "t:  79%|███████▉  | 950/1199 [04:30<00:56,  4.37it/s, now=None]"
     ]
    },
    {
     "name": "stdout",
     "output_type": "stream",
     "text": [
      "failed\n",
      "Fail sanity check - roughly parallel (maximum distance) 1016.7409259121814\n"
     ]
    },
    {
     "name": "stderr",
     "output_type": "stream",
     "text": [
      "t:  79%|███████▉  | 951/1199 [04:31<00:56,  4.41it/s, now=None]"
     ]
    },
    {
     "name": "stdout",
     "output_type": "stream",
     "text": [
      "failed\n",
      "Fail sanity check - roughly parallel (maximum distance) 1114.5906662563943\n"
     ]
    },
    {
     "name": "stderr",
     "output_type": "stream",
     "text": [
      "t:  79%|███████▉  | 952/1199 [04:31<00:57,  4.27it/s, now=None]"
     ]
    },
    {
     "name": "stdout",
     "output_type": "stream",
     "text": [
      "failed\n",
      "failed\n",
      "Fail sanity check - roughly parallel (maximum distance) 1114.5906662563943\n"
     ]
    },
    {
     "name": "stderr",
     "output_type": "stream",
     "text": [
      "t:  79%|███████▉  | 953/1199 [04:31<00:56,  4.33it/s, now=None]"
     ]
    },
    {
     "name": "stdout",
     "output_type": "stream",
     "text": [
      "failed\n"
     ]
    },
    {
     "name": "stderr",
     "output_type": "stream",
     "text": [
      "t:  80%|███████▉  | 954/1199 [04:31<00:55,  4.38it/s, now=None]"
     ]
    },
    {
     "name": "stdout",
     "output_type": "stream",
     "text": [
      "failed\n"
     ]
    },
    {
     "name": "stderr",
     "output_type": "stream",
     "text": [
      "t:  80%|███████▉  | 955/1199 [04:32<00:55,  4.41it/s, now=None]"
     ]
    },
    {
     "name": "stdout",
     "output_type": "stream",
     "text": [
      "failed\n"
     ]
    },
    {
     "name": "stderr",
     "output_type": "stream",
     "text": [
      "t:  80%|███████▉  | 956/1199 [04:32<00:57,  4.26it/s, now=None]"
     ]
    },
    {
     "name": "stdout",
     "output_type": "stream",
     "text": [
      "failed\n",
      "failed\n"
     ]
    },
    {
     "name": "stderr",
     "output_type": "stream",
     "text": [
      "t:  80%|███████▉  | 957/1199 [04:32<00:55,  4.33it/s, now=None]"
     ]
    },
    {
     "name": "stdout",
     "output_type": "stream",
     "text": [
      "failed\n",
      "failed\n"
     ]
    },
    {
     "name": "stderr",
     "output_type": "stream",
     "text": [
      "t:  80%|███████▉  | 958/1199 [04:32<00:54,  4.40it/s, now=None]"
     ]
    },
    {
     "name": "stdout",
     "output_type": "stream",
     "text": [
      "failed\n",
      "failed\n"
     ]
    },
    {
     "name": "stderr",
     "output_type": "stream",
     "text": [
      "t:  80%|███████▉  | 959/1199 [04:33<00:53,  4.45it/s, now=None]"
     ]
    },
    {
     "name": "stdout",
     "output_type": "stream",
     "text": [
      "failed\n",
      "failed\n"
     ]
    },
    {
     "name": "stderr",
     "output_type": "stream",
     "text": [
      "t:  80%|████████  | 960/1199 [04:33<00:55,  4.34it/s, now=None]"
     ]
    },
    {
     "name": "stdout",
     "output_type": "stream",
     "text": [
      "failed\n",
      "failed\n"
     ]
    },
    {
     "name": "stderr",
     "output_type": "stream",
     "text": [
      "t:  80%|████████  | 961/1199 [04:33<00:54,  4.34it/s, now=None]"
     ]
    },
    {
     "name": "stdout",
     "output_type": "stream",
     "text": [
      "failed\n",
      "failed\n"
     ]
    },
    {
     "name": "stderr",
     "output_type": "stream",
     "text": [
      "t:  80%|████████  | 962/1199 [04:33<00:54,  4.34it/s, now=None]"
     ]
    },
    {
     "name": "stdout",
     "output_type": "stream",
     "text": [
      "failed\n",
      "Fail sanity check - distance at the bottom 778.2419047796561 right x point: 1177.1157858725505 left x point: 398.87388109289446\n",
      "Fail sanity check - roughly parallel (maximum distance) 1277.7010762992402\n",
      "Fail sanity check - roughly parallel (mean distance) 875.292720692456\n",
      "Fail sanity check - vehicle position from the lane center 0.91\n"
     ]
    },
    {
     "name": "stderr",
     "output_type": "stream",
     "text": [
      "t:  80%|████████  | 963/1199 [04:33<00:53,  4.38it/s, now=None]"
     ]
    },
    {
     "name": "stdout",
     "output_type": "stream",
     "text": [
      "failed\n",
      "failed\n",
      "Fail sanity check - distance at the bottom 778.2419047796561 right x point: 1177.1157858725505 left x point: 398.87388109289446\n",
      "Fail sanity check - roughly parallel (maximum distance) 1277.7010762992402\n",
      "Fail sanity check - roughly parallel (mean distance) 875.292720692456\n",
      "Fail sanity check - vehicle position from the lane center 0.91\n"
     ]
    },
    {
     "name": "stderr",
     "output_type": "stream",
     "text": [
      "t:  80%|████████  | 964/1199 [04:34<00:55,  4.23it/s, now=None]"
     ]
    },
    {
     "name": "stdout",
     "output_type": "stream",
     "text": [
      "failed\n",
      "failed\n",
      "Fail sanity check - distance at the bottom 778.2419047796561 right x point: 1177.1157858725505 left x point: 398.87388109289446\n",
      "Fail sanity check - roughly parallel (maximum distance) 1277.7010762992402\n",
      "Fail sanity check - roughly parallel (mean distance) 875.292720692456\n",
      "Fail sanity check - vehicle position from the lane center 0.91\n"
     ]
    },
    {
     "name": "stderr",
     "output_type": "stream",
     "text": [
      "t:  80%|████████  | 965/1199 [04:34<00:55,  4.24it/s, now=None]"
     ]
    },
    {
     "name": "stdout",
     "output_type": "stream",
     "text": [
      "failed\n",
      "failed\n",
      "Fail sanity check - distance at the bottom 778.2419047796561 right x point: 1177.1157858725505 left x point: 398.87388109289446\n",
      "Fail sanity check - roughly parallel (maximum distance) 1277.7010762992402\n",
      "Fail sanity check - roughly parallel (mean distance) 875.292720692456\n",
      "Fail sanity check - vehicle position from the lane center 0.91\n"
     ]
    },
    {
     "name": "stderr",
     "output_type": "stream",
     "text": [
      "t:  81%|████████  | 966/1199 [04:34<00:53,  4.33it/s, now=None]"
     ]
    },
    {
     "name": "stdout",
     "output_type": "stream",
     "text": [
      "failed\n",
      "failed\n",
      "Fail sanity check - distance at the bottom 778.2419047796561 right x point: 1177.1157858725505 left x point: 398.87388109289446\n",
      "Fail sanity check - roughly parallel (maximum distance) 1277.7010762992402\n",
      "Fail sanity check - roughly parallel (mean distance) 875.292720692456\n",
      "Fail sanity check - vehicle position from the lane center 0.91\n"
     ]
    },
    {
     "name": "stderr",
     "output_type": "stream",
     "text": [
      "t:  81%|████████  | 967/1199 [04:34<00:53,  4.33it/s, now=None]"
     ]
    },
    {
     "name": "stdout",
     "output_type": "stream",
     "text": [
      "failed\n",
      "failed\n",
      "Fail sanity check - distance at the bottom 778.2419047796561 right x point: 1177.1157858725505 left x point: 398.87388109289446\n",
      "Fail sanity check - roughly parallel (maximum distance) 1277.7010762992402\n",
      "Fail sanity check - roughly parallel (mean distance) 875.292720692456\n",
      "Fail sanity check - vehicle position from the lane center 0.91\n"
     ]
    },
    {
     "name": "stderr",
     "output_type": "stream",
     "text": [
      "t:  81%|████████  | 968/1199 [04:35<00:52,  4.39it/s, now=None]"
     ]
    },
    {
     "name": "stdout",
     "output_type": "stream",
     "text": [
      "failed\n",
      "failed\n",
      "Fail sanity check - distance at the bottom 778.2419047796561 right x point: 1177.1157858725505 left x point: 398.87388109289446\n",
      "Fail sanity check - roughly parallel (maximum distance) 1277.7010762992402\n",
      "Fail sanity check - roughly parallel (mean distance) 875.292720692456\n",
      "Fail sanity check - vehicle position from the lane center 0.91\n"
     ]
    },
    {
     "name": "stderr",
     "output_type": "stream",
     "text": [
      "t:  81%|████████  | 969/1199 [04:35<00:53,  4.27it/s, now=None]"
     ]
    },
    {
     "name": "stdout",
     "output_type": "stream",
     "text": [
      "failed\n",
      "failed\n",
      "Fail sanity check - distance at the bottom 778.2419047796561 right x point: 1177.1157858725505 left x point: 398.87388109289446\n",
      "Fail sanity check - roughly parallel (maximum distance) 1277.7010762992402\n",
      "Fail sanity check - roughly parallel (mean distance) 875.292720692456\n",
      "Fail sanity check - vehicle position from the lane center 0.91\n"
     ]
    },
    {
     "name": "stderr",
     "output_type": "stream",
     "text": [
      "t:  81%|████████  | 970/1199 [04:35<00:53,  4.26it/s, now=None]"
     ]
    },
    {
     "name": "stdout",
     "output_type": "stream",
     "text": [
      "failed\n",
      "failed\n",
      "Fail sanity check - distance at the bottom 778.2419047796561 right x point: 1177.1157858725505 left x point: 398.87388109289446\n",
      "Fail sanity check - roughly parallel (maximum distance) 1277.7010762992402\n",
      "Fail sanity check - roughly parallel (mean distance) 875.292720692456\n",
      "Fail sanity check - vehicle position from the lane center 0.91\n"
     ]
    },
    {
     "name": "stderr",
     "output_type": "stream",
     "text": [
      "t:  81%|████████  | 971/1199 [04:35<00:52,  4.34it/s, now=None]"
     ]
    },
    {
     "name": "stdout",
     "output_type": "stream",
     "text": [
      "failed\n",
      "failed\n",
      "Fail sanity check - distance at the bottom 778.2419047796561 right x point: 1177.1157858725505 left x point: 398.87388109289446\n",
      "Fail sanity check - roughly parallel (maximum distance) 1277.7010762992402\n",
      "Fail sanity check - roughly parallel (mean distance) 875.292720692456\n",
      "Fail sanity check - vehicle position from the lane center 0.91\n",
      "failed\n"
     ]
    },
    {
     "name": "stderr",
     "output_type": "stream",
     "text": [
      "t:  81%|████████  | 972/1199 [04:36<00:51,  4.44it/s, now=None]"
     ]
    },
    {
     "name": "stdout",
     "output_type": "stream",
     "text": [
      "failed\n",
      "Fail sanity check - distance at the bottom 778.2419047796561 right x point: 1177.1157858725505 left x point: 398.87388109289446\n",
      "Fail sanity check - roughly parallel (maximum distance) 1277.7010762992402\n",
      "Fail sanity check - roughly parallel (mean distance) 875.292720692456\n",
      "Fail sanity check - vehicle position from the lane center 0.91\n"
     ]
    },
    {
     "name": "stderr",
     "output_type": "stream",
     "text": [
      "t:  81%|████████  | 973/1199 [04:36<00:52,  4.28it/s, now=None]"
     ]
    },
    {
     "name": "stdout",
     "output_type": "stream",
     "text": [
      "failed\n",
      "failed\n",
      "Fail sanity check - distance at the bottom 778.2419047796561 right x point: 1177.1157858725505 left x point: 398.87388109289446\n",
      "Fail sanity check - roughly parallel (maximum distance) 1277.7010762992402\n",
      "Fail sanity check - roughly parallel (mean distance) 875.292720692456\n",
      "Fail sanity check - vehicle position from the lane center 0.91\n"
     ]
    },
    {
     "name": "stderr",
     "output_type": "stream",
     "text": [
      "t:  81%|████████  | 974/1199 [04:36<00:53,  4.23it/s, now=None]"
     ]
    },
    {
     "name": "stdout",
     "output_type": "stream",
     "text": [
      "failed\n",
      "failed\n",
      "Fail sanity check - distance at the bottom 778.2419047796561 right x point: 1177.1157858725505 left x point: 398.87388109289446\n",
      "Fail sanity check - roughly parallel (maximum distance) 1277.7010762992402\n",
      "Fail sanity check - roughly parallel (mean distance) 875.292720692456\n",
      "Fail sanity check - vehicle position from the lane center 0.91\n"
     ]
    },
    {
     "name": "stderr",
     "output_type": "stream",
     "text": [
      "t:  81%|████████▏ | 975/1199 [04:36<00:52,  4.29it/s, now=None]"
     ]
    },
    {
     "name": "stdout",
     "output_type": "stream",
     "text": [
      "failed\n"
     ]
    },
    {
     "name": "stderr",
     "output_type": "stream",
     "text": [
      "t:  81%|████████▏ | 976/1199 [04:37<00:53,  4.13it/s, now=None]"
     ]
    },
    {
     "name": "stdout",
     "output_type": "stream",
     "text": [
      "failed\n",
      "Fail sanity check - distance at the bottom 175.14289630511865 right x point: 574.0167773980131 left x point: 398.87388109289446\n",
      "Fail sanity check - roughly parallel (minimum distance) 175.14289630511865\n",
      "Fail sanity check - vehicle position from the lane center -0.95\n"
     ]
    },
    {
     "name": "stderr",
     "output_type": "stream",
     "text": [
      "t:  81%|████████▏ | 977/1199 [04:37<00:55,  3.98it/s, now=None]"
     ]
    },
    {
     "name": "stdout",
     "output_type": "stream",
     "text": [
      "failed\n",
      "Fail sanity check - distance at the bottom 278.42429779899686 right x point: 677.2981788918913 left x point: 398.87388109289446\n",
      "Fail sanity check - roughly parallel (minimum distance) 278.42429779899686\n"
     ]
    },
    {
     "name": "stderr",
     "output_type": "stream",
     "text": [
      "t:  82%|████████▏ | 978/1199 [04:37<00:54,  4.04it/s, now=None]"
     ]
    },
    {
     "name": "stdout",
     "output_type": "stream",
     "text": [
      "failed\n",
      "Fail sanity check - distance at the bottom 275.01358479523384 right x point: 673.8874658881283 left x point: 398.87388109289446\n",
      "Fail sanity check - roughly parallel (minimum distance) 275.01358479523384\n"
     ]
    },
    {
     "name": "stderr",
     "output_type": "stream",
     "text": [
      "t:  82%|████████▏ | 979/1199 [04:37<00:52,  4.17it/s, now=None]"
     ]
    },
    {
     "name": "stdout",
     "output_type": "stream",
     "text": [
      "failed\n",
      "failed\n",
      "Fail sanity check - distance at the bottom 275.01358479523384 right x point: 673.8874658881283 left x point: 398.87388109289446\n",
      "Fail sanity check - roughly parallel (minimum distance) 275.01358479523384\n"
     ]
    },
    {
     "name": "stderr",
     "output_type": "stream",
     "text": [
      "t:  82%|████████▏ | 980/1199 [04:37<00:52,  4.16it/s, now=None]"
     ]
    },
    {
     "name": "stdout",
     "output_type": "stream",
     "text": [
      "failed\n",
      "failed\n",
      "Fail sanity check - distance at the bottom 275.01358479523384 right x point: 673.8874658881283 left x point: 398.87388109289446\n",
      "Fail sanity check - roughly parallel (minimum distance) 275.01358479523384\n"
     ]
    },
    {
     "name": "stderr",
     "output_type": "stream",
     "text": [
      "t:  82%|████████▏ | 981/1199 [04:38<00:54,  3.97it/s, now=None]"
     ]
    },
    {
     "name": "stdout",
     "output_type": "stream",
     "text": [
      "failed\n",
      "failed\n",
      "Fail sanity check - distance at the bottom 275.01358479523384 right x point: 673.8874658881283 left x point: 398.87388109289446\n",
      "Fail sanity check - roughly parallel (minimum distance) 275.01358479523384\n"
     ]
    },
    {
     "name": "stderr",
     "output_type": "stream",
     "text": [
      "t:  82%|████████▏ | 982/1199 [04:38<00:53,  4.08it/s, now=None]"
     ]
    },
    {
     "name": "stdout",
     "output_type": "stream",
     "text": [
      "failed\n",
      "failed\n",
      "Fail sanity check - distance at the bottom 275.01358479523384 right x point: 673.8874658881283 left x point: 398.87388109289446\n",
      "Fail sanity check - roughly parallel (minimum distance) 275.01358479523384\n"
     ]
    },
    {
     "name": "stderr",
     "output_type": "stream",
     "text": [
      "t:  82%|████████▏ | 983/1199 [04:38<00:51,  4.18it/s, now=None]"
     ]
    },
    {
     "name": "stdout",
     "output_type": "stream",
     "text": [
      "failed\n",
      "failed\n",
      "Fail sanity check - distance at the bottom 275.01358479523384 right x point: 673.8874658881283 left x point: 398.87388109289446\n",
      "Fail sanity check - roughly parallel (minimum distance) 275.01358479523384\n"
     ]
    },
    {
     "name": "stderr",
     "output_type": "stream",
     "text": [
      "t:  82%|████████▏ | 984/1199 [04:38<00:51,  4.18it/s, now=None]"
     ]
    },
    {
     "name": "stdout",
     "output_type": "stream",
     "text": [
      "failed\n",
      "failed\n",
      "Fail sanity check - distance at the bottom 275.01358479523384 right x point: 673.8874658881283 left x point: 398.87388109289446\n",
      "Fail sanity check - roughly parallel (minimum distance) 275.01358479523384\n"
     ]
    },
    {
     "name": "stderr",
     "output_type": "stream",
     "text": [
      "t:  82%|████████▏ | 985/1199 [04:39<00:52,  4.08it/s, now=None]"
     ]
    },
    {
     "name": "stdout",
     "output_type": "stream",
     "text": [
      "failed\n",
      "failed\n",
      "Fail sanity check - distance at the bottom 275.01358479523384 right x point: 673.8874658881283 left x point: 398.87388109289446\n",
      "Fail sanity check - roughly parallel (minimum distance) 275.01358479523384\n"
     ]
    },
    {
     "name": "stderr",
     "output_type": "stream",
     "text": [
      "t:  82%|████████▏ | 986/1199 [04:39<00:51,  4.12it/s, now=None]"
     ]
    },
    {
     "name": "stdout",
     "output_type": "stream",
     "text": [
      "failed\n",
      "failed\n",
      "Fail sanity check - distance at the bottom 275.01358479523384 right x point: 673.8874658881283 left x point: 398.87388109289446\n",
      "Fail sanity check - roughly parallel (minimum distance) 275.01358479523384\n"
     ]
    },
    {
     "name": "stderr",
     "output_type": "stream",
     "text": [
      "t:  82%|████████▏ | 987/1199 [04:39<00:50,  4.22it/s, now=None]"
     ]
    },
    {
     "name": "stdout",
     "output_type": "stream",
     "text": [
      "failed\n",
      "failed\n",
      "Fail sanity check - distance at the bottom 275.01358479523384 right x point: 673.8874658881283 left x point: 398.87388109289446\n",
      "Fail sanity check - roughly parallel (minimum distance) 275.01358479523384\n"
     ]
    },
    {
     "name": "stderr",
     "output_type": "stream",
     "text": [
      "t:  82%|████████▏ | 988/1199 [04:39<00:49,  4.26it/s, now=None]"
     ]
    },
    {
     "name": "stdout",
     "output_type": "stream",
     "text": [
      "failed\n",
      "failed\n",
      "Fail sanity check - distance at the bottom 275.01358479523384 right x point: 673.8874658881283 left x point: 398.87388109289446\n",
      "Fail sanity check - roughly parallel (minimum distance) 275.01358479523384\n"
     ]
    },
    {
     "name": "stderr",
     "output_type": "stream",
     "text": [
      "t:  82%|████████▏ | 989/1199 [04:40<00:51,  4.09it/s, now=None]"
     ]
    },
    {
     "name": "stdout",
     "output_type": "stream",
     "text": [
      "failed\n",
      "failed\n",
      "Fail sanity check - distance at the bottom 275.01358479523384 right x point: 673.8874658881283 left x point: 398.87388109289446\n",
      "Fail sanity check - roughly parallel (minimum distance) 275.01358479523384\n"
     ]
    },
    {
     "name": "stderr",
     "output_type": "stream",
     "text": [
      "t:  83%|████████▎ | 990/1199 [04:40<00:50,  4.11it/s, now=None]"
     ]
    },
    {
     "name": "stdout",
     "output_type": "stream",
     "text": [
      "failed\n",
      "failed\n",
      "Fail sanity check - distance at the bottom 275.01358479523384 right x point: 673.8874658881283 left x point: 398.87388109289446\n",
      "Fail sanity check - roughly parallel (minimum distance) 275.01358479523384\n"
     ]
    },
    {
     "name": "stderr",
     "output_type": "stream",
     "text": [
      "t:  83%|████████▎ | 991/1199 [04:40<00:49,  4.19it/s, now=None]"
     ]
    },
    {
     "name": "stdout",
     "output_type": "stream",
     "text": [
      "failed\n",
      "failed\n",
      "Fail sanity check - distance at the bottom 275.01358479523384 right x point: 673.8874658881283 left x point: 398.87388109289446\n",
      "Fail sanity check - roughly parallel (minimum distance) 275.01358479523384\n"
     ]
    },
    {
     "name": "stderr",
     "output_type": "stream",
     "text": [
      "t:  83%|████████▎ | 992/1199 [04:40<00:48,  4.26it/s, now=None]"
     ]
    },
    {
     "name": "stdout",
     "output_type": "stream",
     "text": [
      "failed\n",
      "failed\n",
      "Fail sanity check - distance at the bottom 275.01358479523384 right x point: 673.8874658881283 left x point: 398.87388109289446\n",
      "Fail sanity check - roughly parallel (minimum distance) 275.01358479523384\n"
     ]
    },
    {
     "name": "stderr",
     "output_type": "stream",
     "text": [
      "t:  83%|████████▎ | 993/1199 [04:41<00:50,  4.07it/s, now=None]"
     ]
    },
    {
     "name": "stdout",
     "output_type": "stream",
     "text": [
      "failed\n",
      "failed\n",
      "Fail sanity check - distance at the bottom 275.01358479523384 right x point: 673.8874658881283 left x point: 398.87388109289446\n",
      "Fail sanity check - roughly parallel (minimum distance) 275.01358479523384\n"
     ]
    },
    {
     "name": "stderr",
     "output_type": "stream",
     "text": [
      "t:  83%|████████▎ | 994/1199 [04:41<00:50,  4.03it/s, now=None]"
     ]
    },
    {
     "name": "stdout",
     "output_type": "stream",
     "text": [
      "failed\n",
      "failed\n",
      "Fail sanity check - distance at the bottom 275.01358479523384 right x point: 673.8874658881283 left x point: 398.87388109289446\n",
      "Fail sanity check - roughly parallel (minimum distance) 275.01358479523384\n"
     ]
    },
    {
     "name": "stderr",
     "output_type": "stream",
     "text": [
      "t:  83%|████████▎ | 995/1199 [04:41<00:49,  4.16it/s, now=None]"
     ]
    },
    {
     "name": "stdout",
     "output_type": "stream",
     "text": [
      "failed\n",
      "failed\n",
      "Fail sanity check - distance at the bottom 275.01358479523384 right x point: 673.8874658881283 left x point: 398.87388109289446\n",
      "Fail sanity check - roughly parallel (minimum distance) 275.01358479523384\n"
     ]
    },
    {
     "name": "stderr",
     "output_type": "stream",
     "text": [
      "t:  83%|████████▎ | 996/1199 [04:41<00:47,  4.28it/s, now=None]"
     ]
    },
    {
     "name": "stdout",
     "output_type": "stream",
     "text": [
      "failed\n",
      "failed\n",
      "Fail sanity check - distance at the bottom 275.01358479523384 right x point: 673.8874658881283 left x point: 398.87388109289446\n",
      "Fail sanity check - roughly parallel (minimum distance) 275.01358479523384\n"
     ]
    },
    {
     "name": "stderr",
     "output_type": "stream",
     "text": [
      "t:  83%|████████▎ | 997/1199 [04:42<00:48,  4.20it/s, now=None]"
     ]
    },
    {
     "name": "stdout",
     "output_type": "stream",
     "text": [
      "failed\n",
      "failed\n",
      "Fail sanity check - distance at the bottom 275.01358479523384 right x point: 673.8874658881283 left x point: 398.87388109289446\n",
      "Fail sanity check - roughly parallel (minimum distance) 275.01358479523384\n"
     ]
    },
    {
     "name": "stderr",
     "output_type": "stream",
     "text": [
      "t:  83%|████████▎ | 998/1199 [04:42<00:47,  4.25it/s, now=None]"
     ]
    },
    {
     "name": "stdout",
     "output_type": "stream",
     "text": [
      "failed\n",
      "failed\n",
      "Fail sanity check - distance at the bottom 275.01358479523384 right x point: 673.8874658881283 left x point: 398.87388109289446\n",
      "Fail sanity check - roughly parallel (minimum distance) 275.01358479523384\n"
     ]
    },
    {
     "name": "stderr",
     "output_type": "stream",
     "text": [
      "t:  83%|████████▎ | 999/1199 [04:42<00:46,  4.32it/s, now=None]"
     ]
    },
    {
     "name": "stdout",
     "output_type": "stream",
     "text": [
      "failed\n",
      "failed\n",
      "Fail sanity check - distance at the bottom 275.01358479523384 right x point: 673.8874658881283 left x point: 398.87388109289446\n",
      "Fail sanity check - roughly parallel (minimum distance) 275.01358479523384\n",
      "failed\n",
      "failed\n"
     ]
    },
    {
     "name": "stderr",
     "output_type": "stream",
     "text": [
      "t:  83%|████████▎ | 1000/1199 [04:43<01:40,  1.97it/s, now=None]"
     ]
    },
    {
     "name": "stdout",
     "output_type": "stream",
     "text": [
      "Fail sanity check - distance at the bottom 275.01358479523384 right x point: 673.8874658881283 left x point: 398.87388109289446\n",
      "Fail sanity check - roughly parallel (minimum distance) 275.01358479523384\n"
     ]
    },
    {
     "name": "stderr",
     "output_type": "stream",
     "text": [
      "t:  83%|████████▎ | 1001/1199 [04:43<01:25,  2.33it/s, now=None]"
     ]
    },
    {
     "name": "stdout",
     "output_type": "stream",
     "text": [
      "failed\n",
      "test\n",
      "Fail sanity check - distance at the bottom 1958.6479158483971 right x point: 2357.5217969412915 left x point: 398.87388109289446\n",
      "Fail sanity check - roughly parallel (maximum distance) 178306.94195949737\n",
      "Fail sanity check - roughly parallel (mean distance) 55678.463473277785\n",
      "Fail sanity check - vehicle position from the lane center 4.68\n"
     ]
    },
    {
     "name": "stderr",
     "output_type": "stream",
     "text": [
      "t:  84%|████████▎ | 1002/1199 [04:44<01:12,  2.71it/s, now=None]"
     ]
    },
    {
     "name": "stdout",
     "output_type": "stream",
     "text": [
      "failed\n",
      "test\n",
      "Fail sanity check - distance at the bottom 1602.69604825867 right x point: 2001.5699293515645 left x point: 398.87388109289446\n",
      "Fail sanity check - roughly parallel (maximum distance) 152235.23458230295\n",
      "Fail sanity check - roughly parallel (mean distance) 47932.56909561522\n",
      "Fail sanity check - vehicle position from the lane center 3.56\n"
     ]
    },
    {
     "name": "stderr",
     "output_type": "stream",
     "text": [
      "t:  84%|████████▎ | 1003/1199 [04:44<01:03,  3.07it/s, now=None]"
     ]
    },
    {
     "name": "stdout",
     "output_type": "stream",
     "text": [
      "failed\n",
      "test\n",
      "Fail sanity check - curvature left curvature: 21.0 right curvature: 152.0\n",
      "Fail sanity check - distance at the bottom 1237.222148788741 right x point: 1636.0960298816353 left x point: 398.87388109289446\n",
      "Fail sanity check - roughly parallel (maximum distance) 117336.87451690146\n",
      "Fail sanity check - roughly parallel (mean distance) 37409.40151379514\n",
      "Fail sanity check - vehicle position from the lane center 2.39\n"
     ]
    },
    {
     "name": "stderr",
     "output_type": "stream",
     "text": [
      "t:  84%|████████▎ | 1004/1199 [04:44<00:57,  3.39it/s, now=None]"
     ]
    },
    {
     "name": "stdout",
     "output_type": "stream",
     "text": [
      "failed\n",
      "test\n",
      "Error poly fit [-85.00876707 -95.79588856 -51.14539646]\n",
      "Fail sanity check - distance at the bottom 826.557220193286 right x point: 1225.4311012861804 left x point: 398.87388109289446\n",
      "Fail sanity check - roughly parallel (maximum distance) 2155.258944531734\n",
      "Fail sanity check - roughly parallel (mean distance) 1157.3693255498447\n",
      "Fail sanity check - vehicle position from the lane center 1.06\n"
     ]
    },
    {
     "name": "stderr",
     "output_type": "stream",
     "text": [
      "t:  84%|████████▍ | 1005/1199 [04:44<00:54,  3.55it/s, now=None]"
     ]
    },
    {
     "name": "stdout",
     "output_type": "stream",
     "text": [
      "failed\n",
      "failed\n",
      "Fail sanity check - distance at the bottom 826.557220193286 right x point: 1225.4311012861804 left x point: 398.87388109289446\n",
      "Fail sanity check - roughly parallel (maximum distance) 2155.258944531734\n",
      "Fail sanity check - roughly parallel (mean distance) 1157.3693255498447\n",
      "Fail sanity check - vehicle position from the lane center 1.06\n"
     ]
    },
    {
     "name": "stderr",
     "output_type": "stream",
     "text": [
      "t:  84%|████████▍ | 1006/1199 [04:45<00:51,  3.74it/s, now=None]"
     ]
    },
    {
     "name": "stdout",
     "output_type": "stream",
     "text": [
      "failed\n",
      "failed\n",
      "Fail sanity check - distance at the bottom 826.557220193286 right x point: 1225.4311012861804 left x point: 398.87388109289446\n",
      "Fail sanity check - roughly parallel (maximum distance) 2155.258944531734\n",
      "Fail sanity check - roughly parallel (mean distance) 1157.3693255498447\n",
      "Fail sanity check - vehicle position from the lane center 1.06\n"
     ]
    },
    {
     "name": "stderr",
     "output_type": "stream",
     "text": [
      "t:  84%|████████▍ | 1007/1199 [04:45<00:48,  3.95it/s, now=None]"
     ]
    },
    {
     "name": "stdout",
     "output_type": "stream",
     "text": [
      "failed\n",
      "failed\n",
      "Fail sanity check - distance at the bottom 826.557220193286 right x point: 1225.4311012861804 left x point: 398.87388109289446\n",
      "Fail sanity check - roughly parallel (maximum distance) 2155.258944531734\n",
      "Fail sanity check - roughly parallel (mean distance) 1157.3693255498447\n",
      "Fail sanity check - vehicle position from the lane center 1.06\n"
     ]
    },
    {
     "name": "stderr",
     "output_type": "stream",
     "text": [
      "t:  84%|████████▍ | 1008/1199 [04:45<00:46,  4.09it/s, now=None]"
     ]
    },
    {
     "name": "stdout",
     "output_type": "stream",
     "text": [
      "failed\n",
      "failed\n",
      "Fail sanity check - distance at the bottom 826.557220193286 right x point: 1225.4311012861804 left x point: 398.87388109289446\n",
      "Fail sanity check - roughly parallel (maximum distance) 2155.258944531734\n",
      "Fail sanity check - roughly parallel (mean distance) 1157.3693255498447\n",
      "Fail sanity check - vehicle position from the lane center 1.06\n"
     ]
    },
    {
     "name": "stderr",
     "output_type": "stream",
     "text": [
      "t:  84%|████████▍ | 1009/1199 [04:45<00:46,  4.07it/s, now=None]"
     ]
    },
    {
     "name": "stdout",
     "output_type": "stream",
     "text": [
      "failed\n",
      "failed\n",
      "Fail sanity check - distance at the bottom 826.557220193286 right x point: 1225.4311012861804 left x point: 398.87388109289446\n",
      "Fail sanity check - roughly parallel (maximum distance) 2155.258944531734\n",
      "Fail sanity check - roughly parallel (mean distance) 1157.3693255498447\n",
      "Fail sanity check - vehicle position from the lane center 1.06\n"
     ]
    },
    {
     "name": "stderr",
     "output_type": "stream",
     "text": [
      "t:  84%|████████▍ | 1010/1199 [04:46<00:44,  4.20it/s, now=None]"
     ]
    },
    {
     "name": "stdout",
     "output_type": "stream",
     "text": [
      "failed\n",
      "failed\n",
      "Fail sanity check - distance at the bottom 826.557220193286 right x point: 1225.4311012861804 left x point: 398.87388109289446\n",
      "Fail sanity check - roughly parallel (maximum distance) 2155.258944531734\n",
      "Fail sanity check - roughly parallel (mean distance) 1157.3693255498447\n",
      "Fail sanity check - vehicle position from the lane center 1.06\n"
     ]
    },
    {
     "name": "stderr",
     "output_type": "stream",
     "text": [
      "t:  84%|████████▍ | 1011/1199 [04:46<00:43,  4.31it/s, now=None]"
     ]
    },
    {
     "name": "stdout",
     "output_type": "stream",
     "text": [
      "failed\n",
      "failed\n",
      "Fail sanity check - distance at the bottom 826.557220193286 right x point: 1225.4311012861804 left x point: 398.87388109289446\n",
      "Fail sanity check - roughly parallel (maximum distance) 2155.258944531734\n",
      "Fail sanity check - roughly parallel (mean distance) 1157.3693255498447\n",
      "Fail sanity check - vehicle position from the lane center 1.06\n"
     ]
    },
    {
     "name": "stderr",
     "output_type": "stream",
     "text": [
      "t:  84%|████████▍ | 1012/1199 [04:46<00:43,  4.32it/s, now=None]"
     ]
    },
    {
     "name": "stdout",
     "output_type": "stream",
     "text": [
      "failed\n",
      "failed\n",
      "Fail sanity check - distance at the bottom 826.557220193286 right x point: 1225.4311012861804 left x point: 398.87388109289446\n",
      "Fail sanity check - roughly parallel (maximum distance) 2155.258944531734\n",
      "Fail sanity check - roughly parallel (mean distance) 1157.3693255498447\n",
      "Fail sanity check - vehicle position from the lane center 1.06\n"
     ]
    },
    {
     "name": "stderr",
     "output_type": "stream",
     "text": [
      "t:  84%|████████▍ | 1013/1199 [04:46<00:44,  4.19it/s, now=None]"
     ]
    },
    {
     "name": "stdout",
     "output_type": "stream",
     "text": [
      "failed\n",
      "failed\n",
      "Fail sanity check - distance at the bottom 826.557220193286 right x point: 1225.4311012861804 left x point: 398.87388109289446\n",
      "Fail sanity check - roughly parallel (maximum distance) 2155.258944531734\n",
      "Fail sanity check - roughly parallel (mean distance) 1157.3693255498447\n",
      "Fail sanity check - vehicle position from the lane center 1.06\n"
     ]
    },
    {
     "name": "stderr",
     "output_type": "stream",
     "text": [
      "t:  85%|████████▍ | 1014/1199 [04:46<00:43,  4.26it/s, now=None]"
     ]
    },
    {
     "name": "stdout",
     "output_type": "stream",
     "text": [
      "failed\n",
      "test\n",
      "Fail sanity check - distance at the bottom 826.557220193286 right x point: 1225.4311012861804 left x point: 398.87388109289446\n",
      "Fail sanity check - roughly parallel (maximum distance) 2155.258944531734\n",
      "Fail sanity check - roughly parallel (mean distance) 1157.3693255498447\n",
      "Fail sanity check - vehicle position from the lane center 1.06\n"
     ]
    },
    {
     "name": "stderr",
     "output_type": "stream",
     "text": [
      "t:  85%|████████▍ | 1015/1199 [04:47<00:42,  4.33it/s, now=None]"
     ]
    },
    {
     "name": "stdout",
     "output_type": "stream",
     "text": [
      "failed\n",
      "failed\n",
      "Fail sanity check - distance at the bottom 826.557220193286 right x point: 1225.4311012861804 left x point: 398.87388109289446\n",
      "Fail sanity check - roughly parallel (maximum distance) 2155.258944531734\n",
      "Fail sanity check - roughly parallel (mean distance) 1157.3693255498447\n",
      "Fail sanity check - vehicle position from the lane center 1.06\n"
     ]
    },
    {
     "name": "stderr",
     "output_type": "stream",
     "text": [
      "t:  85%|████████▍ | 1016/1199 [04:47<00:41,  4.38it/s, now=None]"
     ]
    },
    {
     "name": "stdout",
     "output_type": "stream",
     "text": [
      "failed\n",
      "Fail sanity check - roughly parallel (mean distance) 766.1288794460805\n"
     ]
    },
    {
     "name": "stderr",
     "output_type": "stream",
     "text": [
      "t:  85%|████████▍ | 1017/1199 [04:47<00:42,  4.28it/s, now=None]"
     ]
    },
    {
     "name": "stdout",
     "output_type": "stream",
     "text": [
      "failed\n",
      "failed\n",
      "Fail sanity check - roughly parallel (mean distance) 766.1288794460805\n"
     ]
    },
    {
     "name": "stderr",
     "output_type": "stream",
     "text": [
      "t:  85%|████████▍ | 1018/1199 [04:47<00:41,  4.36it/s, now=None]"
     ]
    },
    {
     "name": "stdout",
     "output_type": "stream",
     "text": [
      "failed\n",
      "failed\n",
      "Fail sanity check - roughly parallel (mean distance) 766.1288794460805\n"
     ]
    },
    {
     "name": "stderr",
     "output_type": "stream",
     "text": [
      "t:  85%|████████▍ | 1019/1199 [04:48<00:40,  4.42it/s, now=None]"
     ]
    },
    {
     "name": "stdout",
     "output_type": "stream",
     "text": [
      "failed\n",
      "failed\n",
      "Fail sanity check - roughly parallel (mean distance) 766.1288794460805\n"
     ]
    },
    {
     "name": "stderr",
     "output_type": "stream",
     "text": [
      "t:  85%|████████▌ | 1020/1199 [04:48<00:40,  4.45it/s, now=None]"
     ]
    },
    {
     "name": "stdout",
     "output_type": "stream",
     "text": [
      "Error poly fit [11.96669553  8.6964936   0.86129436]\n",
      "Fail sanity check - distance at the bottom 5.906393865319501 right x point: 645.7720432426036 left x point: 639.8656493772841\n",
      "Fail sanity check - roughly parallel (minimum distance) -0.848127210088478\n",
      "Fail sanity check - roughly parallel (mean distance) 2.0435900262067124\n"
     ]
    },
    {
     "name": "stderr",
     "output_type": "stream",
     "text": [
      "t:  85%|████████▌ | 1021/1199 [04:48<00:41,  4.26it/s, now=None]"
     ]
    },
    {
     "name": "stdout",
     "output_type": "stream",
     "text": [
      "failed\n",
      "Fail sanity check - distance at the bottom 25.498135223203576 right x point: 645.7720432426036 left x point: 620.2739080194\n",
      "Fail sanity check - roughly parallel (minimum distance) 25.484130810071633\n",
      "Fail sanity check - roughly parallel (mean distance) 78.24338210073276\n"
     ]
    },
    {
     "name": "stderr",
     "output_type": "stream",
     "text": [
      "t:  85%|████████▌ | 1022/1199 [04:48<00:41,  4.25it/s, now=None]"
     ]
    },
    {
     "name": "stdout",
     "output_type": "stream",
     "text": [
      "Error poly fit [ 4.61281561e+01 -5.92586599e+00  1.02355769e-02]\n",
      "Fail sanity check - vehicle position from the lane center 1.13\n"
     ]
    },
    {
     "name": "stderr",
     "output_type": "stream",
     "text": [
      "t:  85%|████████▌ | 1023/1199 [04:49<00:42,  4.10it/s, now=None]"
     ]
    },
    {
     "name": "stdout",
     "output_type": "stream",
     "text": [
      "failed\n",
      "Fail sanity check - distance at the bottom 455.5289598414888 right x point: 1011.2920267265181 left x point: 555.7630668850293\n",
      "Fail sanity check - roughly parallel (mean distance) 470.77112150300803\n",
      "Fail sanity check - vehicle position from the lane center 0.89\n"
     ]
    },
    {
     "name": "stderr",
     "output_type": "stream",
     "text": [
      "t:  85%|████████▌ | 1024/1199 [04:49<00:44,  3.96it/s, now=None]"
     ]
    },
    {
     "name": "stdout",
     "output_type": "stream",
     "text": [
      "failed\n",
      "Fail sanity check - distance at the bottom 366.4246260601899 right x point: 922.1876929452192 left x point: 555.7630668850293\n",
      "Fail sanity check - roughly parallel (mean distance) 407.9701626290028\n"
     ]
    },
    {
     "name": "stderr",
     "output_type": "stream",
     "text": [
      "t:  85%|████████▌ | 1025/1199 [04:49<00:45,  3.81it/s, now=None]"
     ]
    },
    {
     "name": "stdout",
     "output_type": "stream",
     "text": [
      "failed\n",
      "Fail sanity check - distance at the bottom 337.7066044424521 right x point: 893.4696713274814 left x point: 555.7630668850293\n",
      "Fail sanity check - roughly parallel (mean distance) 348.1659834749359\n"
     ]
    },
    {
     "name": "stderr",
     "output_type": "stream",
     "text": [
      "t:  86%|████████▌ | 1026/1199 [04:49<00:45,  3.77it/s, now=None]"
     ]
    },
    {
     "name": "stdout",
     "output_type": "stream",
     "text": [
      "Fail sanity check - distance at the bottom 141.08807629251203 right x point: 731.1231320411341 left x point: 590.0350557486221\n",
      "Fail sanity check - roughly parallel (minimum distance) 78.0332563347763\n",
      "Fail sanity check - roughly parallel (mean distance) 94.278867709279\n"
     ]
    },
    {
     "name": "stderr",
     "output_type": "stream",
     "text": [
      "t:  86%|████████▌ | 1027/1199 [04:50<00:46,  3.67it/s, now=None]"
     ]
    },
    {
     "name": "stdout",
     "output_type": "stream",
     "text": [
      "Fail sanity check - distance at the bottom 96.06046316084871 right x point: 701.0323381692253 left x point: 604.9718750083766\n",
      "Fail sanity check - roughly parallel (minimum distance) 66.70464632270034\n",
      "Fail sanity check - roughly parallel (mean distance) 76.06578432907601\n"
     ]
    },
    {
     "name": "stderr",
     "output_type": "stream",
     "text": [
      "t:  86%|████████▌ | 1028/1199 [04:50<00:47,  3.60it/s, now=None]"
     ]
    },
    {
     "name": "stdout",
     "output_type": "stream",
     "text": [
      "Fail sanity check - curvature left curvature: 2447.0 right curvature: 429.0\n",
      "Fail sanity check - distance at the bottom 54.99094368008855 right x point: 640.7864543690823 left x point: 585.7955106889938\n",
      "Fail sanity check - roughly parallel (minimum distance) -23.650762089147975\n",
      "Fail sanity check - roughly parallel (mean distance) 38.99040538608327\n"
     ]
    },
    {
     "name": "stderr",
     "output_type": "stream",
     "text": [
      "t:  86%|████████▌ | 1029/1199 [04:50<00:49,  3.44it/s, now=None]"
     ]
    },
    {
     "name": "stdout",
     "output_type": "stream",
     "text": [
      "Error poly fit [143.32397508   6.82042916  -0.3040044 ]\n",
      "Fail sanity check - distance at the bottom 72.13106059027348 right x point: 630.1927400229841 left x point: 558.0616794327107\n",
      "Fail sanity check - roughly parallel (minimum distance) 72.13106059027348\n",
      "Fail sanity check - roughly parallel (mean distance) 127.651123673342\n"
     ]
    },
    {
     "name": "stderr",
     "output_type": "stream",
     "text": [
      "t:  86%|████████▌ | 1030/1199 [04:51<00:49,  3.40it/s, now=None]"
     ]
    },
    {
     "name": "stdout",
     "output_type": "stream",
     "text": [
      "Fail sanity check - curvature left curvature: 4386.0 right curvature: 236.0\n",
      "Fail sanity check - vehicle position from the lane center 0.98\n"
     ]
    },
    {
     "name": "stderr",
     "output_type": "stream",
     "text": [
      "t:  86%|████████▌ | 1031/1199 [04:51<00:50,  3.35it/s, now=None]"
     ]
    },
    {
     "name": "stdout",
     "output_type": "stream",
     "text": [
      "Fail sanity check - curvature left curvature: 1559.0 right curvature: 269.0\n"
     ]
    },
    {
     "name": "stderr",
     "output_type": "stream",
     "text": [
      "t:  86%|████████▌ | 1032/1199 [04:51<00:49,  3.35it/s, now=None]"
     ]
    },
    {
     "name": "stdout",
     "output_type": "stream",
     "text": [
      "test\n",
      "Fail sanity check - distance at the bottom 367.3690109251178 right x point: 990.5081923225578 left x point: 623.13918139744\n",
      "Fail sanity check - roughly parallel (mean distance) 334.83139901921425\n",
      "Fail sanity check - vehicle position from the lane center 1.03\n"
     ]
    },
    {
     "name": "stderr",
     "output_type": "stream",
     "text": [
      "t:  86%|████████▌ | 1033/1199 [04:52<00:51,  3.24it/s, now=None]"
     ]
    },
    {
     "name": "stdout",
     "output_type": "stream",
     "text": [
      "Fail sanity check - vehicle position from the lane center 1.56\n"
     ]
    },
    {
     "name": "stderr",
     "output_type": "stream",
     "text": [
      "t:  86%|████████▌ | 1034/1199 [04:52<00:51,  3.21it/s, now=None]"
     ]
    },
    {
     "name": "stdout",
     "output_type": "stream",
     "text": [
      "Fail sanity check - vehicle position from the lane center 1.24\n"
     ]
    },
    {
     "name": "stderr",
     "output_type": "stream",
     "text": [
      "t:  86%|████████▋ | 1035/1199 [04:52<00:51,  3.19it/s, now=None]"
     ]
    },
    {
     "name": "stdout",
     "output_type": "stream",
     "text": [
      "Fail sanity check - curvature left curvature: 5652.0 right curvature: 342.0\n",
      "Fail sanity check - vehicle position from the lane center 0.85\n"
     ]
    },
    {
     "name": "stderr",
     "output_type": "stream",
     "text": [
      "t:  87%|████████▋ | 1038/1199 [04:53<00:49,  3.26it/s, now=None]"
     ]
    },
    {
     "name": "stdout",
     "output_type": "stream",
     "text": [
      "Error poly fit [ 3.09060271 11.56166718 -0.06985349]\n"
     ]
    },
    {
     "name": "stderr",
     "output_type": "stream",
     "text": [
      "t:  87%|████████▋ | 1042/1199 [04:54<00:46,  3.41it/s, now=None]"
     ]
    },
    {
     "name": "stdout",
     "output_type": "stream",
     "text": [
      "Error poly fit [-14.93859691  -1.55499386  -0.21245393]\n",
      "Fail sanity check - curvature left curvature: 162.0 right curvature: 3896.0\n"
     ]
    },
    {
     "name": "stderr",
     "output_type": "stream",
     "text": [
      "t:  87%|████████▋ | 1043/1199 [04:55<00:45,  3.46it/s, now=None]"
     ]
    },
    {
     "name": "stdout",
     "output_type": "stream",
     "text": [
      "failed\n",
      "test\n",
      "Fail sanity check - curvature left curvature: 236.0 right curvature: 3896.0\n",
      "Fail sanity check - distance at the bottom 806.8070761140964 right x point: 1204.981145435261 left x point: 398.1740693211646\n",
      "Fail sanity check - roughly parallel (mean distance) 729.4846581584803\n",
      "Fail sanity check - vehicle position from the lane center 1.0\n"
     ]
    },
    {
     "name": "stderr",
     "output_type": "stream",
     "text": [
      "t:  87%|████████▋ | 1044/1199 [04:55<00:44,  3.51it/s, now=None]"
     ]
    },
    {
     "name": "stdout",
     "output_type": "stream",
     "text": [
      "failed\n",
      "failed\n",
      "Fail sanity check - curvature left curvature: 236.0 right curvature: 3896.0\n",
      "Fail sanity check - distance at the bottom 806.8070761140964 right x point: 1204.981145435261 left x point: 398.1740693211646\n",
      "Fail sanity check - roughly parallel (mean distance) 729.4846581584803\n",
      "Fail sanity check - vehicle position from the lane center 1.0\n"
     ]
    },
    {
     "name": "stderr",
     "output_type": "stream",
     "text": [
      "t:  87%|████████▋ | 1045/1199 [04:55<00:43,  3.50it/s, now=None]"
     ]
    },
    {
     "name": "stdout",
     "output_type": "stream",
     "text": [
      "failed\n",
      "Fail sanity check - curvature left curvature: 236.0 right curvature: 2446.0\n",
      "Fail sanity check - vehicle position from the lane center 1.58\n"
     ]
    },
    {
     "name": "stderr",
     "output_type": "stream",
     "text": [
      "t:  87%|████████▋ | 1046/1199 [04:55<00:42,  3.57it/s, now=None]"
     ]
    },
    {
     "name": "stdout",
     "output_type": "stream",
     "text": [
      "failed\n",
      "failed\n",
      "Fail sanity check - curvature left curvature: 236.0 right curvature: 2446.0\n",
      "Fail sanity check - vehicle position from the lane center 1.58\n"
     ]
    },
    {
     "name": "stderr",
     "output_type": "stream",
     "text": [
      "t:  87%|████████▋ | 1047/1199 [04:56<00:40,  3.77it/s, now=None]"
     ]
    },
    {
     "name": "stdout",
     "output_type": "stream",
     "text": [
      "failed\n",
      "failed\n",
      "Fail sanity check - curvature left curvature: 236.0 right curvature: 2446.0\n",
      "Fail sanity check - vehicle position from the lane center 1.58\n"
     ]
    },
    {
     "name": "stderr",
     "output_type": "stream",
     "text": [
      "t:  87%|████████▋ | 1048/1199 [04:56<00:39,  3.83it/s, now=None]"
     ]
    },
    {
     "name": "stdout",
     "output_type": "stream",
     "text": [
      "failed\n",
      "failed\n",
      "Fail sanity check - curvature left curvature: 236.0 right curvature: 2446.0\n",
      "Fail sanity check - vehicle position from the lane center 1.58\n"
     ]
    },
    {
     "name": "stderr",
     "output_type": "stream",
     "text": [
      "t:  87%|████████▋ | 1049/1199 [04:56<00:38,  3.85it/s, now=None]"
     ]
    },
    {
     "name": "stdout",
     "output_type": "stream",
     "text": [
      "failed\n",
      "failed\n",
      "Fail sanity check - curvature left curvature: 236.0 right curvature: 2446.0\n",
      "Fail sanity check - vehicle position from the lane center 1.58\n"
     ]
    },
    {
     "name": "stderr",
     "output_type": "stream",
     "text": [
      "t:  88%|████████▊ | 1050/1199 [04:56<00:37,  3.95it/s, now=None]"
     ]
    },
    {
     "name": "stdout",
     "output_type": "stream",
     "text": [
      "failed\n",
      "Fail sanity check - roughly parallel (mean distance) 477.7509451358744\n",
      "Fail sanity check - vehicle position from the lane center 1.16\n"
     ]
    },
    {
     "name": "stderr",
     "output_type": "stream",
     "text": [
      "t:  88%|████████▊ | 1051/1199 [04:57<00:38,  3.88it/s, now=None]"
     ]
    },
    {
     "name": "stdout",
     "output_type": "stream",
     "text": [
      "failed\n",
      "failed\n",
      "Fail sanity check - roughly parallel (mean distance) 477.7509451358744\n",
      "Fail sanity check - vehicle position from the lane center 1.16\n"
     ]
    },
    {
     "name": "stderr",
     "output_type": "stream",
     "text": [
      "t:  88%|████████▊ | 1052/1199 [04:57<00:38,  3.78it/s, now=None]"
     ]
    },
    {
     "name": "stdout",
     "output_type": "stream",
     "text": [
      "failed\n",
      "Error poly fit [-9.89741337 42.00133487  0.10773897]\n",
      "Fail sanity check - vehicle position from the lane center 1.47\n"
     ]
    },
    {
     "name": "stderr",
     "output_type": "stream",
     "text": [
      "t:  88%|████████▊ | 1053/1199 [04:57<00:39,  3.73it/s, now=None]"
     ]
    },
    {
     "name": "stdout",
     "output_type": "stream",
     "text": [
      "failed\n",
      "test\n",
      "Fail sanity check - curvature left curvature: 8.0 right curvature: 2446.0\n",
      "Fail sanity check - distance at the bottom 419.2265091665072 right x point: 1006.6196056494409 left x point: 587.3930964829337\n",
      "Fail sanity check - roughly parallel (minimum distance) -17465.366800723627\n",
      "Fail sanity check - roughly parallel (mean distance) -4802.744867193221\n",
      "Fail sanity check - vehicle position from the lane center 0.95\n"
     ]
    },
    {
     "name": "stderr",
     "output_type": "stream",
     "text": [
      "t:  88%|████████▊ | 1054/1199 [04:57<00:37,  3.84it/s, now=None]"
     ]
    },
    {
     "name": "stdout",
     "output_type": "stream",
     "text": [
      "failed\n",
      "Error poly fit [129.41420455 144.21470897  14.20010934]\n",
      "Fail sanity check - curvature left curvature: 418.0 right curvature: 2446.0\n",
      "Fail sanity check - vehicle position from the lane center 1.48\n"
     ]
    },
    {
     "name": "stderr",
     "output_type": "stream",
     "text": [
      "t:  88%|████████▊ | 1055/1199 [04:58<00:38,  3.78it/s, now=None]"
     ]
    },
    {
     "name": "stdout",
     "output_type": "stream",
     "text": [
      "failed\n",
      "Fail sanity check - vehicle position from the lane center 1.21\n"
     ]
    },
    {
     "name": "stderr",
     "output_type": "stream",
     "text": [
      "t:  88%|████████▊ | 1056/1199 [04:58<00:39,  3.65it/s, now=None]"
     ]
    },
    {
     "name": "stdout",
     "output_type": "stream",
     "text": [
      "failed\n",
      "test\n",
      "Fail sanity check - vehicle position from the lane center 1.55\n"
     ]
    },
    {
     "name": "stderr",
     "output_type": "stream",
     "text": [
      "t:  88%|████████▊ | 1057/1199 [04:58<00:39,  3.63it/s, now=None]"
     ]
    },
    {
     "name": "stdout",
     "output_type": "stream",
     "text": [
      "failed\n",
      "Fail sanity check - curvature left curvature: 282.0 right curvature: 2446.0\n",
      "Fail sanity check - vehicle position from the lane center 1.3\n"
     ]
    },
    {
     "name": "stderr",
     "output_type": "stream",
     "text": [
      "t:  88%|████████▊ | 1058/1199 [04:58<00:38,  3.65it/s, now=None]"
     ]
    },
    {
     "name": "stdout",
     "output_type": "stream",
     "text": [
      "failed\n",
      "failed\n",
      "Fail sanity check - curvature left curvature: 282.0 right curvature: 2446.0\n",
      "Fail sanity check - vehicle position from the lane center 1.3\n"
     ]
    },
    {
     "name": "stderr",
     "output_type": "stream",
     "text": [
      "t:  88%|████████▊ | 1059/1199 [04:59<00:36,  3.83it/s, now=None]"
     ]
    },
    {
     "name": "stdout",
     "output_type": "stream",
     "text": [
      "failed\n",
      "Fail sanity check - distance at the bottom 383.9245109869994 right x point: 971.3176074699331 left x point: 587.3930964829337\n",
      "Fail sanity check - roughly parallel (mean distance) 391.76899842464604\n",
      "Fail sanity check - vehicle position from the lane center 0.86\n"
     ]
    },
    {
     "name": "stderr",
     "output_type": "stream",
     "text": [
      "t:  88%|████████▊ | 1060/1199 [04:59<00:37,  3.69it/s, now=None]"
     ]
    },
    {
     "name": "stdout",
     "output_type": "stream",
     "text": [
      "failed\n",
      "Fail sanity check - distance at the bottom 315.4227899454952 right x point: 902.8158864284289 left x point: 587.3930964829337\n",
      "Fail sanity check - roughly parallel (mean distance) 309.04351033255455\n"
     ]
    },
    {
     "name": "stderr",
     "output_type": "stream",
     "text": [
      "t:  88%|████████▊ | 1061/1199 [04:59<00:37,  3.64it/s, now=None]"
     ]
    },
    {
     "name": "stdout",
     "output_type": "stream",
     "text": [
      "failed\n",
      "Fail sanity check - distance at the bottom 470.2799862199913 right x point: 1057.673082702925 left x point: 587.3930964829337\n",
      "Fail sanity check - roughly parallel (mean distance) 462.7211753357911\n",
      "Fail sanity check - vehicle position from the lane center 1.13\n"
     ]
    },
    {
     "name": "stderr",
     "output_type": "stream",
     "text": [
      "t:  89%|████████▊ | 1062/1199 [05:00<00:37,  3.66it/s, now=None]"
     ]
    },
    {
     "name": "stdout",
     "output_type": "stream",
     "text": [
      "failed\n",
      "Fail sanity check - distance at the bottom 440.7385090318444 right x point: 1028.1316055147781 left x point: 587.3930964829337\n",
      "Fail sanity check - roughly parallel (mean distance) 407.03140819108467\n",
      "Fail sanity check - vehicle position from the lane center 1.03\n"
     ]
    },
    {
     "name": "stderr",
     "output_type": "stream",
     "text": [
      "t:  89%|████████▊ | 1063/1199 [05:00<00:36,  3.68it/s, now=None]"
     ]
    },
    {
     "name": "stdout",
     "output_type": "stream",
     "text": [
      "failed\n",
      "failed\n",
      "Fail sanity check - distance at the bottom 440.7385090318444 right x point: 1028.1316055147781 left x point: 587.3930964829337\n",
      "Fail sanity check - roughly parallel (mean distance) 407.03140819108467\n",
      "Fail sanity check - vehicle position from the lane center 1.03\n"
     ]
    },
    {
     "name": "stderr",
     "output_type": "stream",
     "text": [
      "t:  89%|████████▊ | 1064/1199 [05:00<00:36,  3.73it/s, now=None]"
     ]
    },
    {
     "name": "stdout",
     "output_type": "stream",
     "text": [
      "failed\n",
      "test\n",
      "Fail sanity check - curvature left curvature: 8.0 right curvature: 2446.0\n",
      "Fail sanity check - distance at the bottom 422.5324855847107 right x point: 1009.9255820676444 left x point: 587.3930964829337\n",
      "Fail sanity check - roughly parallel (minimum distance) -16903.813095601723\n",
      "Fail sanity check - roughly parallel (mean distance) -4633.429558402418\n",
      "Fail sanity check - vehicle position from the lane center 0.96\n"
     ]
    },
    {
     "name": "stderr",
     "output_type": "stream",
     "text": [
      "t:  89%|████████▉ | 1065/1199 [05:00<00:34,  3.89it/s, now=None]"
     ]
    },
    {
     "name": "stdout",
     "output_type": "stream",
     "text": [
      "failed\n",
      "failed\n",
      "Fail sanity check - curvature left curvature: 8.0 right curvature: 2446.0\n",
      "Fail sanity check - distance at the bottom 422.5324855847107 right x point: 1009.9255820676444 left x point: 587.3930964829337\n",
      "Fail sanity check - roughly parallel (minimum distance) -16903.813095601723\n",
      "Fail sanity check - roughly parallel (mean distance) -4633.429558402418\n",
      "Fail sanity check - vehicle position from the lane center 0.96\n"
     ]
    },
    {
     "name": "stderr",
     "output_type": "stream",
     "text": [
      "t:  89%|████████▉ | 1066/1199 [05:01<00:33,  4.01it/s, now=None]"
     ]
    },
    {
     "name": "stdout",
     "output_type": "stream",
     "text": [
      "failed\n",
      "test\n",
      "Error poly fit [-248.85345419 -360.76710325   14.82174554]\n",
      "Fail sanity check - vehicle position from the lane center 1.57\n"
     ]
    },
    {
     "name": "stderr",
     "output_type": "stream",
     "text": [
      "t:  89%|████████▉ | 1067/1199 [05:01<00:33,  3.92it/s, now=None]"
     ]
    },
    {
     "name": "stdout",
     "output_type": "stream",
     "text": [
      "failed\n",
      "test\n",
      "Fail sanity check - curvature left curvature: 8.0 right curvature: 2446.0\n",
      "Fail sanity check - distance at the bottom 423.03578931710626 right x point: 1010.42888580004 left x point: 587.3930964829337\n",
      "Fail sanity check - roughly parallel (minimum distance) -17709.169306510743\n",
      "Fail sanity check - roughly parallel (mean distance) -4876.590877557775\n",
      "Fail sanity check - vehicle position from the lane center 0.96\n"
     ]
    },
    {
     "name": "stderr",
     "output_type": "stream",
     "text": [
      "t:  89%|████████▉ | 1068/1199 [05:01<00:33,  3.87it/s, now=None]"
     ]
    },
    {
     "name": "stdout",
     "output_type": "stream",
     "text": [
      "failed\n",
      "test\n",
      "Error poly fit [-475.79474784 -909.43316553   15.33355183]\n",
      "Fail sanity check - vehicle position from the lane center 1.54\n"
     ]
    },
    {
     "name": "stderr",
     "output_type": "stream",
     "text": [
      "t:  89%|████████▉ | 1069/1199 [05:01<00:34,  3.79it/s, now=None]"
     ]
    },
    {
     "name": "stdout",
     "output_type": "stream",
     "text": [
      "failed\n",
      "Fail sanity check - vehicle position from the lane center 1.49\n"
     ]
    },
    {
     "name": "stderr",
     "output_type": "stream",
     "text": [
      "t:  89%|████████▉ | 1070/1199 [05:02<00:34,  3.75it/s, now=None]"
     ]
    },
    {
     "name": "stdout",
     "output_type": "stream",
     "text": [
      "failed\n",
      "test\n",
      "Fail sanity check - curvature left curvature: 9.0 right curvature: 2446.0\n",
      "Fail sanity check - roughly parallel (minimum distance) -8075.160563396952\n",
      "Fail sanity check - roughly parallel (mean distance) -1937.8808175747627\n",
      "Fail sanity check - vehicle position from the lane center 1.29\n"
     ]
    },
    {
     "name": "stderr",
     "output_type": "stream",
     "text": [
      "t:  89%|████████▉ | 1071/1199 [05:02<00:33,  3.82it/s, now=None]"
     ]
    },
    {
     "name": "stdout",
     "output_type": "stream",
     "text": [
      "Error poly fit [-158.67046746 -180.27124721    8.38221777]\n",
      "Fail sanity check - distance at the bottom 425.7176152901782 right x point: 1053.597370867071 left x point: 627.8797555768929\n",
      "Fail sanity check - roughly parallel (mean distance) 414.4974029004866\n",
      "Fail sanity check - vehicle position from the lane center 1.24\n"
     ]
    },
    {
     "name": "stderr",
     "output_type": "stream",
     "text": [
      "t:  89%|████████▉ | 1072/1199 [05:02<00:34,  3.65it/s, now=None]"
     ]
    },
    {
     "name": "stdout",
     "output_type": "stream",
     "text": [
      "test\n",
      "Fail sanity check - curvature left curvature: 12.0 right curvature: 1034.0\n",
      "Fail sanity check - distance at the bottom 297.3391337596705 right x point: 900.4232230277921 left x point: 603.0840892681216\n",
      "Fail sanity check - roughly parallel (minimum distance) -39536.83860991771\n",
      "Fail sanity check - roughly parallel (mean distance) -11620.932744529884\n"
     ]
    },
    {
     "name": "stderr",
     "output_type": "stream",
     "text": [
      "t:  89%|████████▉ | 1073/1199 [05:02<00:35,  3.59it/s, now=None]"
     ]
    },
    {
     "name": "stdout",
     "output_type": "stream",
     "text": [
      "Error poly fit [ -606.64810985 -1625.83740216    48.32825829]\n",
      "Fail sanity check - distance at the bottom 207.9055439948737 right x point: 798.2713841557866 left x point: 590.3658401609129\n",
      "Fail sanity check - roughly parallel (minimum distance) 207.9055439948737\n",
      "Fail sanity check - roughly parallel (mean distance) 262.3068394220368\n"
     ]
    },
    {
     "name": "stderr",
     "output_type": "stream",
     "text": [
      "t:  90%|████████▉ | 1074/1199 [05:03<00:35,  3.55it/s, now=None]"
     ]
    },
    {
     "name": "stdout",
     "output_type": "stream",
     "text": [
      "Fail sanity check - distance at the bottom 199.61066128728748 right x point: 774.3656617421325 left x point: 574.755000454845\n",
      "Fail sanity check - roughly parallel (minimum distance) 193.0981623570741\n",
      "Fail sanity check - roughly parallel (mean distance) 277.18842566141456\n"
     ]
    },
    {
     "name": "stderr",
     "output_type": "stream",
     "text": [
      "t:  90%|████████▉ | 1075/1199 [05:03<00:35,  3.52it/s, now=None]"
     ]
    },
    {
     "name": "stdout",
     "output_type": "stream",
     "text": [
      "Error poly fit [10.64438335  8.09906325  0.15644259]\n",
      "Fail sanity check - distance at the bottom 427.9775088540738 right x point: 778.6621930148561 left x point: 350.68468416078235\n",
      "Fail sanity check - roughly parallel (mean distance) 445.2238369944745\n"
     ]
    },
    {
     "name": "stderr",
     "output_type": "stream",
     "text": [
      "t:  90%|████████▉ | 1076/1199 [05:03<00:35,  3.45it/s, now=None]"
     ]
    },
    {
     "name": "stdout",
     "output_type": "stream",
     "text": [
      "Fail sanity check - distance at the bottom 459.70646934559613 right x point: 751.7919791249539 left x point: 292.0855097793577\n",
      "Fail sanity check - roughly parallel (mean distance) 466.34023610615856\n"
     ]
    },
    {
     "name": "stderr",
     "output_type": "stream",
     "text": [
      "t:  90%|████████▉ | 1077/1199 [05:04<00:35,  3.42it/s, now=None]"
     ]
    },
    {
     "name": "stdout",
     "output_type": "stream",
     "text": [
      "Error poly fit [-19.80948143  -2.83238647  -0.14408436]\n",
      "Fail sanity check - distance at the bottom 397.2026487338236 right x point: 677.5753667064869 left x point: 280.3727179726633\n",
      "Fail sanity check - roughly parallel (mean distance) 457.1401553366359\n",
      "Fail sanity check - vehicle position from the lane center -0.99\n"
     ]
    },
    {
     "name": "stderr",
     "output_type": "stream",
     "text": [
      "t:  90%|████████▉ | 1078/1199 [05:04<00:35,  3.44it/s, now=None]"
     ]
    },
    {
     "name": "stdout",
     "output_type": "stream",
     "text": [
      "Fail sanity check - distance at the bottom 2.046406716004185 right x point: 642.3803377514612 left x point: 640.333931035457\n",
      "Fail sanity check - roughly parallel (minimum distance) -0.2058998336788136\n",
      "Fail sanity check - roughly parallel (mean distance) 0.3603753318633164\n"
     ]
    },
    {
     "name": "stderr",
     "output_type": "stream",
     "text": [
      "t:  90%|████████▉ | 1079/1199 [05:04<00:35,  3.42it/s, now=None]"
     ]
    },
    {
     "name": "stdout",
     "output_type": "stream",
     "text": [
      "Error poly fit [-32.59484584  18.29414828  -0.13400326]\n",
      "Fail sanity check - distance at the bottom 116.21510968655832 right x point: 696.9290392080012 left x point: 580.7139295214429\n",
      "Fail sanity check - roughly parallel (minimum distance) 1.0511394384078585\n",
      "Fail sanity check - roughly parallel (mean distance) 77.33590287541995\n"
     ]
    },
    {
     "name": "stderr",
     "output_type": "stream",
     "text": [
      "t:  90%|█████████ | 1080/1199 [05:05<00:35,  3.38it/s, now=None]"
     ]
    },
    {
     "name": "stdout",
     "output_type": "stream",
     "text": [
      "test\n",
      "Fail sanity check - curvature left curvature: 13.0 right curvature: 575.0\n",
      "Fail sanity check - roughly parallel (minimum distance) -5285.460216320048\n",
      "Fail sanity check - roughly parallel (mean distance) -979.2809522890434\n",
      "Fail sanity check - vehicle position from the lane center 1.08\n"
     ]
    },
    {
     "name": "stderr",
     "output_type": "stream",
     "text": [
      "t:  90%|█████████ | 1081/1199 [05:05<00:34,  3.42it/s, now=None]"
     ]
    },
    {
     "name": "stdout",
     "output_type": "stream",
     "text": [
      "failed\n",
      "Error poly fit [-35.90351205 -50.8934858    8.86348821]\n",
      "Fail sanity check - distance at the bottom 96.7088583757851 right x point: 643.4239071441538 left x point: 546.7150487683687\n",
      "Fail sanity check - roughly parallel (minimum distance) 2.5823337569975138\n",
      "Fail sanity check - roughly parallel (mean distance) 107.91767353303362\n"
     ]
    },
    {
     "name": "stderr",
     "output_type": "stream",
     "text": [
      "t:  90%|█████████ | 1082/1199 [05:05<00:34,  3.42it/s, now=None]"
     ]
    },
    {
     "name": "stdout",
     "output_type": "stream",
     "text": [
      "Fail sanity check - vehicle position from the lane center 1.26\n"
     ]
    },
    {
     "name": "stderr",
     "output_type": "stream",
     "text": [
      "t:  90%|█████████ | 1083/1199 [05:05<00:34,  3.39it/s, now=None]"
     ]
    },
    {
     "name": "stdout",
     "output_type": "stream",
     "text": [
      "Fail sanity check - roughly parallel (mean distance) 720.9465862408156\n",
      "Fail sanity check - vehicle position from the lane center 1.14\n"
     ]
    },
    {
     "name": "stderr",
     "output_type": "stream",
     "text": [
      "t:  90%|█████████ | 1085/1199 [05:06<00:34,  3.32it/s, now=None]"
     ]
    },
    {
     "name": "stdout",
     "output_type": "stream",
     "text": [
      "Fail sanity check - roughly parallel (maximum distance) 932.252710814503\n"
     ]
    },
    {
     "name": "stderr",
     "output_type": "stream",
     "text": [
      "t:  91%|█████████ | 1090/1199 [05:08<00:33,  3.28it/s, now=None]"
     ]
    },
    {
     "name": "stdout",
     "output_type": "stream",
     "text": [
      "Error poly fit [-24.50162362 -37.2089363   -0.09075893]\n"
     ]
    },
    {
     "name": "stderr",
     "output_type": "stream",
     "text": [
      "t:  91%|█████████ | 1094/1199 [05:09<00:31,  3.36it/s, now=None]"
     ]
    },
    {
     "name": "stdout",
     "output_type": "stream",
     "text": [
      "Error poly fit [18.14382904 -3.97137526 -0.04000314]\n"
     ]
    },
    {
     "name": "stderr",
     "output_type": "stream",
     "text": [
      "t:  91%|█████████▏| 1095/1199 [05:09<00:30,  3.38it/s, now=None]"
     ]
    },
    {
     "name": "stdout",
     "output_type": "stream",
     "text": [
      "Fail sanity check - curvature left curvature: 1642.0 right curvature: 103.0\n"
     ]
    },
    {
     "name": "stderr",
     "output_type": "stream",
     "text": [
      "t:  91%|█████████▏| 1096/1199 [05:09<00:31,  3.28it/s, now=None]"
     ]
    },
    {
     "name": "stdout",
     "output_type": "stream",
     "text": [
      "Error poly fit [129.9070163   19.24967267   0.34355517]\n",
      "Fail sanity check - distance at the bottom 29.502544047320043 right x point: 647.2935791514511 left x point: 617.7910351041311\n",
      "Fail sanity check - roughly parallel (minimum distance) 6.897172405239758\n",
      "Fail sanity check - roughly parallel (mean distance) 14.019993911533179\n"
     ]
    },
    {
     "name": "stderr",
     "output_type": "stream",
     "text": [
      "t:  91%|█████████▏| 1097/1199 [05:10<00:31,  3.27it/s, now=None]"
     ]
    },
    {
     "name": "stdout",
     "output_type": "stream",
     "text": [
      "Fail sanity check - curvature left curvature: 390.0 right curvature: 2326.0\n",
      "Fail sanity check - distance at the bottom 81.6734835526953 right x point: 660.3128403959257 left x point: 578.6393568432304\n",
      "Fail sanity check - roughly parallel (minimum distance) 26.88942834284819\n",
      "Fail sanity check - roughly parallel (mean distance) 41.24503383322977\n"
     ]
    },
    {
     "name": "stderr",
     "output_type": "stream",
     "text": [
      "t:  92%|█████████▏| 1098/1199 [05:10<00:31,  3.22it/s, now=None]"
     ]
    },
    {
     "name": "stdout",
     "output_type": "stream",
     "text": [
      "Error poly fit [-7.17575249e+01  1.93475320e+01 -6.10615744e-02]\n",
      "Fail sanity check - distance at the bottom 74.79083297704392 right x point: 639.3188051069304 left x point: 564.5279721298865\n",
      "Fail sanity check - roughly parallel (minimum distance) 10.939304841837725\n",
      "Fail sanity check - roughly parallel (mean distance) 57.309696749400025\n"
     ]
    },
    {
     "name": "stderr",
     "output_type": "stream",
     "text": [
      "t:  92%|█████████▏| 1099/1199 [05:10<00:30,  3.23it/s, now=None]"
     ]
    },
    {
     "name": "stdout",
     "output_type": "stream",
     "text": [
      "Fail sanity check - distance at the bottom 95.21156502266956 right x point: 637.8302904271858 left x point: 542.6187254045162\n",
      "Fail sanity check - roughly parallel (minimum distance) 11.344496091441215\n",
      "Fail sanity check - roughly parallel (mean distance) 81.8647304334719\n"
     ]
    },
    {
     "name": "stderr",
     "output_type": "stream",
     "text": [
      "t:  92%|█████████▏| 1100/1199 [05:12<01:01,  1.61it/s, now=None]"
     ]
    },
    {
     "name": "stdout",
     "output_type": "stream",
     "text": [
      "Fail sanity check - distance at the bottom 143.1251255243182 right x point: 648.7191954356107 left x point: 505.5940699112925\n",
      "Fail sanity check - roughly parallel (minimum distance) 141.46739041240056\n",
      "Fail sanity check - roughly parallel (mean distance) 154.69311649486772\n"
     ]
    },
    {
     "name": "stderr",
     "output_type": "stream",
     "text": [
      "t:  92%|█████████▏| 1101/1199 [05:12<00:50,  1.93it/s, now=None]"
     ]
    },
    {
     "name": "stdout",
     "output_type": "stream",
     "text": [
      "Fail sanity check - distance at the bottom 190.69516744665907 right x point: 650.1978689848398 left x point: 459.50270153818076\n",
      "Fail sanity check - roughly parallel (minimum distance) 177.3058758977628\n",
      "Fail sanity check - roughly parallel (mean distance) 182.1623563333139\n"
     ]
    },
    {
     "name": "stderr",
     "output_type": "stream",
     "text": [
      "t:  92%|█████████▏| 1102/1199 [05:12<00:44,  2.19it/s, now=None]"
     ]
    },
    {
     "name": "stdout",
     "output_type": "stream",
     "text": [
      "Fail sanity check - distance at the bottom 224.83461950415557 right x point: 642.7940231684823 left x point: 417.95940366432677\n",
      "Fail sanity check - roughly parallel (minimum distance) 190.96266759280968\n",
      "Fail sanity check - roughly parallel (mean distance) 199.9521139517646\n"
     ]
    },
    {
     "name": "stderr",
     "output_type": "stream",
     "text": [
      "t:  92%|█████████▏| 1103/1199 [05:13<00:39,  2.42it/s, now=None]"
     ]
    },
    {
     "name": "stdout",
     "output_type": "stream",
     "text": [
      "Fail sanity check - distance at the bottom 264.99822191739884 right x point: 666.1041350516889 left x point: 401.10591313429006\n",
      "Fail sanity check - roughly parallel (minimum distance) 192.26774885922708\n",
      "Fail sanity check - roughly parallel (mean distance) 227.4718020529194\n"
     ]
    },
    {
     "name": "stderr",
     "output_type": "stream",
     "text": [
      "t:  92%|█████████▏| 1104/1199 [05:13<00:36,  2.62it/s, now=None]"
     ]
    },
    {
     "name": "stdout",
     "output_type": "stream",
     "text": [
      "Fail sanity check - distance at the bottom 109.5041068945045 right x point: 649.3959174703018 left x point: 539.8918105757973\n",
      "Fail sanity check - roughly parallel (minimum distance) 88.4487124242529\n",
      "Fail sanity check - roughly parallel (mean distance) 116.43495653884581\n"
     ]
    },
    {
     "name": "stderr",
     "output_type": "stream",
     "text": [
      "t:  92%|█████████▏| 1105/1199 [05:13<00:34,  2.75it/s, now=None]"
     ]
    },
    {
     "name": "stdout",
     "output_type": "stream",
     "text": [
      "Fail sanity check - distance at the bottom 131.3230125820703 right x point: 680.0177158406659 left x point: 548.6947032585956\n",
      "Fail sanity check - roughly parallel (minimum distance) 97.62082783907647\n",
      "Fail sanity check - roughly parallel (mean distance) 129.488076644361\n"
     ]
    },
    {
     "name": "stderr",
     "output_type": "stream",
     "text": [
      "t:  92%|█████████▏| 1106/1199 [05:14<00:32,  2.88it/s, now=None]"
     ]
    },
    {
     "name": "stdout",
     "output_type": "stream",
     "text": [
      "Fail sanity check - distance at the bottom 107.93660921809544 right x point: 639.0519819050481 left x point: 531.1153726869527\n",
      "Fail sanity check - roughly parallel (minimum distance) 107.93660921809544\n",
      "Fail sanity check - roughly parallel (mean distance) 141.34624055308257\n"
     ]
    },
    {
     "name": "stderr",
     "output_type": "stream",
     "text": [
      "t:  92%|█████████▏| 1107/1199 [05:14<00:31,  2.93it/s, now=None]"
     ]
    },
    {
     "name": "stdout",
     "output_type": "stream",
     "text": [
      "Fail sanity check - distance at the bottom 129.631535915384 right x point: 644.0920353460406 left x point: 514.4604994306566\n",
      "Fail sanity check - roughly parallel (minimum distance) 129.631535915384\n",
      "Fail sanity check - roughly parallel (mean distance) 150.47668377415204\n"
     ]
    },
    {
     "name": "stderr",
     "output_type": "stream",
     "text": [
      "t:  92%|█████████▏| 1108/1199 [05:14<00:30,  3.02it/s, now=None]"
     ]
    },
    {
     "name": "stdout",
     "output_type": "stream",
     "text": [
      "Fail sanity check - distance at the bottom 350.0987341291976 right x point: 662.426725937151 left x point: 312.32799180795337\n",
      "Fail sanity check - roughly parallel (minimum distance) 234.525358686\n",
      "Fail sanity check - roughly parallel (mean distance) 300.6618959435506\n",
      "Fail sanity check - vehicle position from the lane center -0.94\n"
     ]
    },
    {
     "name": "stderr",
     "output_type": "stream",
     "text": [
      "t:  92%|█████████▏| 1109/1199 [05:14<00:29,  3.08it/s, now=None]"
     ]
    },
    {
     "name": "stdout",
     "output_type": "stream",
     "text": [
      "Fail sanity check - distance at the bottom 359.2755930914422 right x point: 658.4396617106858 left x point: 299.16406861924355\n",
      "Fail sanity check - roughly parallel (minimum distance) 235.81342199403866\n",
      "Fail sanity check - roughly parallel (mean distance) 306.7820561220635\n",
      "Fail sanity check - vehicle position from the lane center -0.99\n"
     ]
    },
    {
     "name": "stderr",
     "output_type": "stream",
     "text": [
      "t:  93%|█████████▎| 1110/1199 [05:15<00:28,  3.15it/s, now=None]"
     ]
    },
    {
     "name": "stdout",
     "output_type": "stream",
     "text": [
      "Fail sanity check - distance at the bottom 400.92207729317073 right x point: 704.0223127435852 left x point: 303.10023545041446\n",
      "Fail sanity check - roughly parallel (mean distance) 400.2461227872508\n",
      "Fail sanity check - vehicle position from the lane center -0.84\n"
     ]
    },
    {
     "name": "stderr",
     "output_type": "stream",
     "text": [
      "t:  93%|█████████▎| 1111/1199 [05:15<00:28,  3.14it/s, now=None]"
     ]
    },
    {
     "name": "stdout",
     "output_type": "stream",
     "text": [
      "Fail sanity check - curvature left curvature: 550.0 right curvature: 3590.0\n",
      "Fail sanity check - distance at the bottom 421.2326560405389 right x point: 681.0182871585187 left x point: 259.78563111797973\n",
      "Fail sanity check - roughly parallel (mean distance) 404.49189101302716\n",
      "Fail sanity check - vehicle position from the lane center -1.05\n"
     ]
    },
    {
     "name": "stderr",
     "output_type": "stream",
     "text": [
      "t:  93%|█████████▎| 1112/1199 [05:15<00:27,  3.17it/s, now=None]"
     ]
    },
    {
     "name": "stdout",
     "output_type": "stream",
     "text": [
      "Fail sanity check - distance at the bottom 441.6001881564771 right x point: 652.0315366066558 left x point: 210.43134845017866\n",
      "Fail sanity check - roughly parallel (mean distance) 413.97276395077955\n",
      "Fail sanity check - vehicle position from the lane center -1.29\n"
     ]
    },
    {
     "name": "stderr",
     "output_type": "stream",
     "text": [
      "t:  93%|█████████▎| 1113/1199 [05:16<00:26,  3.22it/s, now=None]"
     ]
    },
    {
     "name": "stdout",
     "output_type": "stream",
     "text": [
      "Fail sanity check - vehicle position from the lane center -1.12\n"
     ]
    },
    {
     "name": "stderr",
     "output_type": "stream",
     "text": [
      "t:  93%|█████████▎| 1114/1199 [05:16<00:26,  3.26it/s, now=None]"
     ]
    },
    {
     "name": "stdout",
     "output_type": "stream",
     "text": [
      "Fail sanity check - vehicle position from the lane center -1.42\n"
     ]
    },
    {
     "name": "stderr",
     "output_type": "stream",
     "text": [
      "t:  93%|█████████▎| 1115/1199 [05:16<00:27,  3.10it/s, now=None]"
     ]
    },
    {
     "name": "stdout",
     "output_type": "stream",
     "text": [
      "Fail sanity check - vehicle position from the lane center -1.53\n"
     ]
    },
    {
     "name": "stderr",
     "output_type": "stream",
     "text": [
      "t:  93%|█████████▎| 1116/1199 [05:17<00:26,  3.12it/s, now=None]"
     ]
    },
    {
     "name": "stdout",
     "output_type": "stream",
     "text": [
      "Fail sanity check - vehicle position from the lane center -1.54\n"
     ]
    },
    {
     "name": "stderr",
     "output_type": "stream",
     "text": [
      "t:  93%|█████████▎| 1117/1199 [05:17<00:25,  3.21it/s, now=None]"
     ]
    },
    {
     "name": "stdout",
     "output_type": "stream",
     "text": [
      "test\n",
      "Fail sanity check - vehicle position from the lane center -1.73\n"
     ]
    },
    {
     "name": "stderr",
     "output_type": "stream",
     "text": [
      "t:  93%|█████████▎| 1118/1199 [05:17<00:24,  3.25it/s, now=None]"
     ]
    },
    {
     "name": "stdout",
     "output_type": "stream",
     "text": [
      "Error poly fit [ 59.18949226 -36.75311859   0.35972401]\n",
      "failed\n",
      "Fail sanity check - vehicle position from the lane center -1.71\n"
     ]
    },
    {
     "name": "stderr",
     "output_type": "stream",
     "text": [
      "t:  93%|█████████▎| 1119/1199 [05:18<00:24,  3.27it/s, now=None]"
     ]
    },
    {
     "name": "stdout",
     "output_type": "stream",
     "text": [
      "failed\n",
      "Fail sanity check - vehicle position from the lane center -1.71\n"
     ]
    },
    {
     "name": "stderr",
     "output_type": "stream",
     "text": [
      "t:  93%|█████████▎| 1120/1199 [05:18<00:23,  3.33it/s, now=None]"
     ]
    },
    {
     "name": "stdout",
     "output_type": "stream",
     "text": [
      "test\n",
      "failed\n",
      "Fail sanity check - vehicle position from the lane center -1.74\n"
     ]
    },
    {
     "name": "stderr",
     "output_type": "stream",
     "text": [
      "t:  93%|█████████▎| 1121/1199 [05:18<00:22,  3.44it/s, now=None]"
     ]
    },
    {
     "name": "stdout",
     "output_type": "stream",
     "text": [
      "test\n",
      "failed\n",
      "Fail sanity check - curvature left curvature: 1534.0 right curvature: 11.0\n",
      "Fail sanity check - distance at the bottom 287.15210001430967 right x point: 638.8648568802913 left x point: 351.71275686598165\n",
      "Fail sanity check - roughly parallel (minimum distance) -18487.129782799046\n",
      "Fail sanity check - roughly parallel (mean distance) -5031.010705617489\n",
      "Fail sanity check - vehicle position from the lane center -0.87\n"
     ]
    },
    {
     "name": "stderr",
     "output_type": "stream",
     "text": [
      "t:  94%|█████████▎| 1122/1199 [05:18<00:22,  3.46it/s, now=None]"
     ]
    },
    {
     "name": "stdout",
     "output_type": "stream",
     "text": [
      "test\n",
      "failed\n",
      "Fail sanity check - curvature left curvature: 1534.0 right curvature: 16.0\n",
      "Fail sanity check - distance at the bottom 170.05326287256537 right x point: 638.8648568802913 left x point: 468.81159400772594\n",
      "Fail sanity check - roughly parallel (minimum distance) -41566.70194306903\n",
      "Fail sanity check - roughly parallel (mean distance) -12153.622708501198\n"
     ]
    },
    {
     "name": "stderr",
     "output_type": "stream",
     "text": [
      "t:  94%|█████████▎| 1123/1199 [05:19<00:20,  3.62it/s, now=None]"
     ]
    },
    {
     "name": "stdout",
     "output_type": "stream",
     "text": [
      "test\n",
      "Error poly fit [-50.38452541 -40.4548872  -33.19173879]\n",
      "failed\n",
      "Fail sanity check - curvature left curvature: 1534.0 right curvature: 73.0\n",
      "Fail sanity check - roughly parallel (minimum distance) -639.9545228289546\n",
      "Fail sanity check - roughly parallel (mean distance) 179.36285975483693\n",
      "Fail sanity check - vehicle position from the lane center -2.01\n"
     ]
    },
    {
     "name": "stderr",
     "output_type": "stream",
     "text": [
      "t:  94%|█████████▎| 1124/1199 [05:19<00:20,  3.74it/s, now=None]"
     ]
    },
    {
     "name": "stdout",
     "output_type": "stream",
     "text": [
      "test\n",
      "failed\n",
      "Fail sanity check - curvature left curvature: 1534.0 right curvature: 15.0\n",
      "Fail sanity check - distance at the bottom 199.5081479117456 right x point: 638.8648568802913 left x point: 439.3567089685457\n",
      "Fail sanity check - roughly parallel (minimum distance) -40701.4194510303\n",
      "Fail sanity check - roughly parallel (mean distance) -11911.797858498316\n"
     ]
    },
    {
     "name": "stderr",
     "output_type": "stream",
     "text": [
      "t:  94%|█████████▍| 1125/1199 [05:19<00:19,  3.83it/s, now=None]"
     ]
    },
    {
     "name": "stdout",
     "output_type": "stream",
     "text": [
      "Error poly fit [-854.02308892 -643.47372132 -244.12274917]\n",
      "failed\n",
      "Fail sanity check - vehicle position from the lane center -1.71\n"
     ]
    },
    {
     "name": "stderr",
     "output_type": "stream",
     "text": [
      "t:  94%|█████████▍| 1126/1199 [05:19<00:19,  3.65it/s, now=None]"
     ]
    },
    {
     "name": "stdout",
     "output_type": "stream",
     "text": [
      "Fail sanity check - vehicle position from the lane center -1.86\n"
     ]
    },
    {
     "name": "stderr",
     "output_type": "stream",
     "text": [
      "t:  94%|█████████▍| 1127/1199 [05:20<00:19,  3.60it/s, now=None]"
     ]
    },
    {
     "name": "stdout",
     "output_type": "stream",
     "text": [
      "test\n",
      "Fail sanity check - curvature left curvature: 626.0 right curvature: 5.0\n",
      "Fail sanity check - roughly parallel (maximum distance) 20277.231359026773\n",
      "Fail sanity check - roughly parallel (mean distance) 6754.941174742321\n",
      "Fail sanity check - vehicle position from the lane center -2.24\n"
     ]
    },
    {
     "name": "stderr",
     "output_type": "stream",
     "text": [
      "t:  94%|█████████▍| 1128/1199 [05:20<00:19,  3.57it/s, now=None]"
     ]
    },
    {
     "name": "stdout",
     "output_type": "stream",
     "text": [
      "test\n",
      "Error poly fit [-49.97226853 -56.26282902 -79.44207081]\n",
      "Fail sanity check - roughly parallel (maximum distance) 920.5642033352028\n",
      "Fail sanity check - vehicle position from the lane center -2.03\n"
     ]
    },
    {
     "name": "stderr",
     "output_type": "stream",
     "text": [
      "t:  94%|█████████▍| 1129/1199 [05:20<00:19,  3.58it/s, now=None]"
     ]
    },
    {
     "name": "stdout",
     "output_type": "stream",
     "text": [
      "test\n",
      "Fail sanity check - curvature left curvature: 426.0 right curvature: 7.0\n",
      "Fail sanity check - roughly parallel (maximum distance) 19012.768076770804\n",
      "Fail sanity check - roughly parallel (mean distance) 6190.5350365108\n",
      "Fail sanity check - vehicle position from the lane center -2.54\n"
     ]
    },
    {
     "name": "stderr",
     "output_type": "stream",
     "text": [
      "t:  94%|█████████▍| 1130/1199 [05:21<00:19,  3.51it/s, now=None]"
     ]
    },
    {
     "name": "stdout",
     "output_type": "stream",
     "text": [
      "test\n",
      "failed\n",
      "Fail sanity check - curvature left curvature: 426.0 right curvature: 7.0\n",
      "Fail sanity check - roughly parallel (maximum distance) 33181.69973537783\n",
      "Fail sanity check - roughly parallel (mean distance) 10678.711788962166\n",
      "Fail sanity check - vehicle position from the lane center -2.67\n"
     ]
    },
    {
     "name": "stderr",
     "output_type": "stream",
     "text": [
      "t:  94%|█████████▍| 1131/1199 [05:21<00:18,  3.67it/s, now=None]"
     ]
    },
    {
     "name": "stdout",
     "output_type": "stream",
     "text": [
      "test\n",
      "failed\n",
      "Fail sanity check - curvature left curvature: 426.0 right curvature: 8.0\n",
      "Fail sanity check - distance at the bottom 778.6930778463119 right x point: 568.0374019560385 left x point: -210.65567589027341\n",
      "Fail sanity check - roughly parallel (maximum distance) 35310.829928162486\n",
      "Fail sanity check - roughly parallel (mean distance) 11263.559932137607\n",
      "Fail sanity check - vehicle position from the lane center -2.87\n"
     ]
    },
    {
     "name": "stderr",
     "output_type": "stream",
     "text": [
      "t:  94%|█████████▍| 1132/1199 [05:21<00:17,  3.77it/s, now=None]"
     ]
    },
    {
     "name": "stdout",
     "output_type": "stream",
     "text": [
      "test\n",
      "failed\n",
      "Fail sanity check - curvature left curvature: 426.0 right curvature: 9.0\n",
      "Fail sanity check - distance at the bottom 787.3622765373055 right x point: 568.0374019560385 left x point: -219.32487458126707\n",
      "Fail sanity check - roughly parallel (maximum distance) 36427.179944643605\n",
      "Fail sanity check - roughly parallel (mean distance) 11604.858116605048\n",
      "Fail sanity check - vehicle position from the lane center -2.9\n"
     ]
    },
    {
     "name": "stderr",
     "output_type": "stream",
     "text": [
      "t:  94%|█████████▍| 1133/1199 [05:21<00:17,  3.83it/s, now=None]"
     ]
    },
    {
     "name": "stdout",
     "output_type": "stream",
     "text": [
      "test\n",
      "Error poly fit [17.52275175 15.72813088 14.11143519]\n",
      "failed\n",
      "Fail sanity check - curvature left curvature: 426.0 right curvature: 29.0\n",
      "Fail sanity check - roughly parallel (minimum distance) -2104.656899364113\n",
      "Fail sanity check - roughly parallel (mean distance) -315.75777185222233\n",
      "Fail sanity check - vehicle position from the lane center -2.19\n"
     ]
    },
    {
     "name": "stderr",
     "output_type": "stream",
     "text": [
      "t:  95%|█████████▍| 1134/1199 [05:22<00:17,  3.71it/s, now=None]"
     ]
    },
    {
     "name": "stdout",
     "output_type": "stream",
     "text": [
      "Error poly fit [20.3660679  36.53856513 -5.14835823]\n",
      "failed\n",
      "Fail sanity check - distance at the bottom 107.26140330785915 right x point: 568.0374019560385 left x point: 460.7759986481793\n",
      "Fail sanity check - roughly parallel (minimum distance) 107.26140330785915\n",
      "Fail sanity check - roughly parallel (mean distance) 151.1043128871388\n",
      "Fail sanity check - vehicle position from the lane center -0.78\n"
     ]
    },
    {
     "name": "stderr",
     "output_type": "stream",
     "text": [
      "t:  95%|█████████▍| 1135/1199 [05:22<00:17,  3.67it/s, now=None]"
     ]
    },
    {
     "name": "stdout",
     "output_type": "stream",
     "text": [
      "failed\n",
      "failed\n",
      "Fail sanity check - distance at the bottom 107.26140330785915 right x point: 568.0374019560385 left x point: 460.7759986481793\n",
      "Fail sanity check - roughly parallel (minimum distance) 107.26140330785915\n",
      "Fail sanity check - roughly parallel (mean distance) 151.1043128871388\n",
      "Fail sanity check - vehicle position from the lane center -0.78\n"
     ]
    },
    {
     "name": "stderr",
     "output_type": "stream",
     "text": [
      "t:  95%|█████████▍| 1136/1199 [05:22<00:16,  3.77it/s, now=None]"
     ]
    },
    {
     "name": "stdout",
     "output_type": "stream",
     "text": [
      "failed\n",
      "Fail sanity check - distance at the bottom 120.75719031702238 right x point: 568.0374019560385 left x point: 447.2802116390161\n",
      "Fail sanity check - roughly parallel (minimum distance) 120.75719031702238\n",
      "Fail sanity check - roughly parallel (mean distance) 171.8500374298641\n",
      "Fail sanity check - vehicle position from the lane center -0.82\n"
     ]
    },
    {
     "name": "stderr",
     "output_type": "stream",
     "text": [
      "t:  95%|█████████▍| 1137/1199 [05:22<00:16,  3.71it/s, now=None]"
     ]
    },
    {
     "name": "stdout",
     "output_type": "stream",
     "text": [
      "test\n",
      "failed\n",
      "Fail sanity check - curvature left curvature: 426.0 right curvature: 10.0\n",
      "Fail sanity check - distance at the bottom 823.6765990653201 right x point: 568.0374019560385 left x point: -255.63919710928167\n",
      "Fail sanity check - roughly parallel (maximum distance) 20523.41148968781\n",
      "Fail sanity check - roughly parallel (mean distance) 6516.401823121489\n",
      "Fail sanity check - vehicle position from the lane center -3.01\n"
     ]
    },
    {
     "name": "stderr",
     "output_type": "stream",
     "text": [
      "t:  95%|█████████▍| 1138/1199 [05:23<00:16,  3.68it/s, now=None]"
     ]
    },
    {
     "name": "stdout",
     "output_type": "stream",
     "text": [
      "test\n",
      "Fail sanity check - curvature left curvature: 1040.0 right curvature: 9.0\n",
      "Fail sanity check - distance at the bottom 1222.0095692503787 right x point: 1014.9592454804591 left x point: -207.0503237699195\n",
      "Fail sanity check - roughly parallel (maximum distance) 16804.841043630964\n",
      "Fail sanity check - roughly parallel (mean distance) 5698.400677219436\n",
      "Fail sanity check - vehicle position from the lane center -1.47\n"
     ]
    },
    {
     "name": "stderr",
     "output_type": "stream",
     "text": [
      "t:  95%|█████████▍| 1139/1199 [05:23<00:15,  3.76it/s, now=None]"
     ]
    },
    {
     "name": "stdout",
     "output_type": "stream",
     "text": [
      "test\n",
      "failed\n",
      "Fail sanity check - curvature left curvature: 1040.0 right curvature: 25.0\n",
      "Fail sanity check - distance at the bottom 1581.6769105923381 right x point: 1014.9592454804591 left x point: -566.7176651118789\n",
      "Fail sanity check - roughly parallel (maximum distance) 61364.733519923204\n",
      "Fail sanity check - roughly parallel (mean distance) 19357.684311166962\n",
      "Fail sanity check - vehicle position from the lane center -2.62\n"
     ]
    },
    {
     "name": "stderr",
     "output_type": "stream",
     "text": [
      "t:  95%|█████████▌| 1140/1199 [05:23<00:15,  3.73it/s, now=None]"
     ]
    },
    {
     "name": "stdout",
     "output_type": "stream",
     "text": [
      "Error poly fit [-381.07343347 -399.17557788  305.3317329 ]\n",
      "Fail sanity check - distance at the bottom 401.22793335519424 right x point: 740.3740220406261 left x point: 339.14608868543183\n",
      "Fail sanity check - roughly parallel (mean distance) 410.98696369837273\n"
     ]
    },
    {
     "name": "stderr",
     "output_type": "stream",
     "text": [
      "t:  95%|█████████▌| 1141/1199 [05:24<00:15,  3.67it/s, now=None]"
     ]
    },
    {
     "name": "stdout",
     "output_type": "stream",
     "text": [
      "Fail sanity check - distance at the bottom 436.22697066690273 right x point: 700.9932431131184 left x point: 264.7662724462157\n",
      "Fail sanity check - roughly parallel (mean distance) 431.5956795771767\n",
      "Fail sanity check - vehicle position from the lane center -0.97\n"
     ]
    },
    {
     "name": "stderr",
     "output_type": "stream",
     "text": [
      "t:  95%|█████████▌| 1142/1199 [05:24<00:15,  3.58it/s, now=None]"
     ]
    },
    {
     "name": "stdout",
     "output_type": "stream",
     "text": [
      "Fail sanity check - curvature left curvature: 1113.0 right curvature: 125.0\n",
      "Fail sanity check - roughly parallel (mean distance) 441.98352901240054\n",
      "Fail sanity check - vehicle position from the lane center -1.42\n"
     ]
    },
    {
     "name": "stderr",
     "output_type": "stream",
     "text": [
      "t:  95%|█████████▌| 1143/1199 [05:24<00:15,  3.53it/s, now=None]"
     ]
    },
    {
     "name": "stdout",
     "output_type": "stream",
     "text": [
      "Fail sanity check - roughly parallel (mean distance) 446.5779193967707\n",
      "Fail sanity check - vehicle position from the lane center -1.52\n"
     ]
    },
    {
     "name": "stderr",
     "output_type": "stream",
     "text": [
      "t:  95%|█████████▌| 1144/1199 [05:24<00:15,  3.48it/s, now=None]"
     ]
    },
    {
     "name": "stdout",
     "output_type": "stream",
     "text": [
      "failed\n",
      "Fail sanity check - distance at the bottom 438.61085166797693 right x point: 662.9271906091215 left x point: 224.3163389411445\n",
      "Fail sanity check - roughly parallel (mean distance) 433.4912610582503\n",
      "Fail sanity check - vehicle position from the lane center -1.21\n"
     ]
    },
    {
     "name": "stderr",
     "output_type": "stream",
     "text": [
      "t:  95%|█████████▌| 1145/1199 [05:25<00:15,  3.48it/s, now=None]"
     ]
    },
    {
     "name": "stdout",
     "output_type": "stream",
     "text": [
      "failed\n",
      "Fail sanity check - roughly parallel (mean distance) 478.6991085057491\n",
      "Fail sanity check - vehicle position from the lane center -1.47\n"
     ]
    },
    {
     "name": "stderr",
     "output_type": "stream",
     "text": [
      "t:  96%|█████████▌| 1146/1199 [05:25<00:15,  3.52it/s, now=None]"
     ]
    },
    {
     "name": "stdout",
     "output_type": "stream",
     "text": [
      "failed\n",
      "Fail sanity check - vehicle position from the lane center -1.86\n"
     ]
    },
    {
     "name": "stderr",
     "output_type": "stream",
     "text": [
      "t:  96%|█████████▌| 1147/1199 [05:25<00:15,  3.44it/s, now=None]"
     ]
    },
    {
     "name": "stdout",
     "output_type": "stream",
     "text": [
      "failed\n",
      "Fail sanity check - vehicle position from the lane center -1.37\n"
     ]
    },
    {
     "name": "stderr",
     "output_type": "stream",
     "text": [
      "t:  96%|█████████▌| 1148/1199 [05:26<00:14,  3.43it/s, now=None]"
     ]
    },
    {
     "name": "stdout",
     "output_type": "stream",
     "text": [
      "Error poly fit [ 1.79367753 21.51608571  0.11734738]\n",
      "Fail sanity check - distance at the bottom 441.5560670227746 right x point: 583.0255765015812 left x point: 141.46950947880663\n",
      "Fail sanity check - vehicle position from the lane center -1.71\n"
     ]
    },
    {
     "name": "stderr",
     "output_type": "stream",
     "text": [
      "t:  96%|█████████▌| 1149/1199 [05:26<00:14,  3.43it/s, now=None]"
     ]
    },
    {
     "name": "stdout",
     "output_type": "stream",
     "text": [
      "Fail sanity check - curvature left curvature: 521.0 right curvature: 4546.0\n",
      "Fail sanity check - distance at the bottom 428.8526016072625 right x point: 526.6125513486762 left x point: 97.75994974141372\n",
      "Fail sanity check - vehicle position from the lane center -2.02\n"
     ]
    },
    {
     "name": "stderr",
     "output_type": "stream",
     "text": [
      "t:  96%|█████████▌| 1150/1199 [05:26<00:14,  3.42it/s, now=None]"
     ]
    },
    {
     "name": "stdout",
     "output_type": "stream",
     "text": [
      "Fail sanity check - curvature left curvature: 113.0 right curvature: 614.0\n",
      "Fail sanity check - distance at the bottom 243.85428808924615 right x point: 358.25650343120157 left x point: 114.4022153419554\n",
      "Fail sanity check - roughly parallel (minimum distance) 243.85428808924615\n",
      "Fail sanity check - vehicle position from the lane center -2.49\n"
     ]
    },
    {
     "name": "stderr",
     "output_type": "stream",
     "text": [
      "t:  96%|█████████▌| 1151/1199 [05:26<00:14,  3.30it/s, now=None]"
     ]
    },
    {
     "name": "stdout",
     "output_type": "stream",
     "text": [
      "Fail sanity check - curvature left curvature: 92.0 right curvature: 1223.0\n",
      "Fail sanity check - distance at the bottom 188.7828451174342 right x point: 285.34924442314593 left x point: 96.56639930571174\n",
      "Fail sanity check - roughly parallel (minimum distance) 188.7828451174342\n",
      "Fail sanity check - vehicle position from the lane center -2.77\n"
     ]
    },
    {
     "name": "stderr",
     "output_type": "stream",
     "text": [
      "t:  96%|█████████▌| 1152/1199 [05:27<00:14,  3.31it/s, now=None]"
     ]
    },
    {
     "name": "stdout",
     "output_type": "stream",
     "text": [
      "test\n",
      "Fail sanity check - distance at the bottom 463.5144346413727 right x point: 357.40355147043016 left x point: -106.11088317094254\n",
      "Fail sanity check - roughly parallel (maximum distance) 1380.2366947062435\n",
      "Fail sanity check - roughly parallel (mean distance) 725.5626295169822\n",
      "Fail sanity check - vehicle position from the lane center -3.18\n"
     ]
    },
    {
     "name": "stderr",
     "output_type": "stream",
     "text": [
      "t:  96%|█████████▌| 1153/1199 [05:27<00:13,  3.38it/s, now=None]"
     ]
    },
    {
     "name": "stdout",
     "output_type": "stream",
     "text": [
      "test\n",
      "Fail sanity check - curvature left curvature: 96.0 right curvature: 7.0\n",
      "Fail sanity check - distance at the bottom 150.30804900098804 right x point: 284.6697210710764 left x point: 134.3616720700884\n",
      "Fail sanity check - roughly parallel (minimum distance) -14594.216391653292\n",
      "Fail sanity check - roughly parallel (mean distance) -4057.0388873524253\n",
      "Fail sanity check - vehicle position from the lane center -2.65\n"
     ]
    },
    {
     "name": "stderr",
     "output_type": "stream",
     "text": [
      "t:  96%|█████████▌| 1154/1199 [05:27<00:13,  3.44it/s, now=None]"
     ]
    },
    {
     "name": "stdout",
     "output_type": "stream",
     "text": [
      "test\n",
      "Fail sanity check - curvature left curvature: 143.0 right curvature: 24.0\n",
      "Fail sanity check - distance at the bottom 839.2003787910501 right x point: 614.15571795562 left x point: -225.04466083543002\n",
      "Fail sanity check - roughly parallel (maximum distance) 3034.2992224530904\n",
      "Fail sanity check - roughly parallel (mean distance) 1167.353732532381\n",
      "Fail sanity check - vehicle position from the lane center -2.76\n"
     ]
    },
    {
     "name": "stderr",
     "output_type": "stream",
     "text": [
      "t:  96%|█████████▋| 1155/1199 [05:28<00:13,  3.37it/s, now=None]"
     ]
    },
    {
     "name": "stdout",
     "output_type": "stream",
     "text": [
      "Error poly fit [83.6018461  17.77764061  3.60950585]\n",
      "Fail sanity check - distance at the bottom 35.7627622538958 right x point: 526.8265665087963 left x point: 491.0638042549005\n",
      "Fail sanity check - roughly parallel (minimum distance) 13.887705700043057\n",
      "Fail sanity check - roughly parallel (mean distance) 19.956763557548307\n",
      "Fail sanity check - vehicle position from the lane center -0.81\n"
     ]
    },
    {
     "name": "stderr",
     "output_type": "stream",
     "text": [
      "t:  96%|█████████▋| 1156/1199 [05:28<00:12,  3.39it/s, now=None]"
     ]
    },
    {
     "name": "stdout",
     "output_type": "stream",
     "text": [
      "Fail sanity check - distance at the bottom 141.08200411649727 right x point: 551.9421935487396 left x point: 410.86018943224235\n",
      "Fail sanity check - roughly parallel (minimum distance) 14.41911057011589\n",
      "Fail sanity check - roughly parallel (mean distance) 58.53493199024186\n",
      "Fail sanity check - vehicle position from the lane center -0.98\n"
     ]
    },
    {
     "name": "stderr",
     "output_type": "stream",
     "text": [
      "t:  96%|█████████▋| 1157/1199 [05:28<00:12,  3.43it/s, now=None]"
     ]
    },
    {
     "name": "stdout",
     "output_type": "stream",
     "text": [
      "test\n",
      "Fail sanity check - vehicle position from the lane center 0.9\n"
     ]
    },
    {
     "name": "stderr",
     "output_type": "stream",
     "text": [
      "t:  97%|█████████▋| 1158/1199 [05:29<00:11,  3.54it/s, now=None]"
     ]
    },
    {
     "name": "stdout",
     "output_type": "stream",
     "text": [
      "Error poly fit [  2.02123316 -30.93844006  -0.28155079]\n",
      "Fail sanity check - distance at the bottom 160.3645011459392 right x point: 547.2457478505866 left x point: 386.88124670464737\n",
      "Fail sanity check - roughly parallel (minimum distance) 19.56716855569789\n",
      "Fail sanity check - roughly parallel (mean distance) 60.75836810951585\n",
      "Fail sanity check - vehicle position from the lane center -1.07\n"
     ]
    },
    {
     "name": "stderr",
     "output_type": "stream",
     "text": [
      "t:  97%|█████████▋| 1159/1199 [05:29<00:11,  3.44it/s, now=None]"
     ]
    },
    {
     "name": "stdout",
     "output_type": "stream",
     "text": [
      "test\n"
     ]
    },
    {
     "name": "stderr",
     "output_type": "stream",
     "text": [
      "                                                                \r"
     ]
    },
    {
     "name": "stdout",
     "output_type": "stream",
     "text": [
      "Moviepy - Done !\n",
      "Moviepy - video ready harder_challenge_video_out.mp4\n",
      "CPU times: user 9min 36s, sys: 1min 41s, total: 11min 18s\n",
      "Wall time: 5min 45s\n"
     ]
    }
   ],
   "source": [
    "white_output = 'harder_challenge_video_out.mp4'\n",
    "clip1 = VideoFileClip(\"harder_challenge_video.mp4\")\n",
    "white_clip = clip1.fl_image(Frame(mtx, dist, M, M_inv, img_size, 2, True)) #.subclip(0,5) #NOTE: this function expects color images!!\n",
    "%time white_clip.write_videofile(white_output, audio=False)"
   ]
  },
  {
   "cell_type": "code",
   "execution_count": 20,
   "metadata": {},
   "outputs": [
    {
     "data": {
      "text/html": [
       "\n",
       "<video width=\"960\" height=\"540\" controls>\n",
       "  <source src=\"harder_challenge_video_out.mp4\">\n",
       "</video>\n"
      ],
      "text/plain": [
       "<IPython.core.display.HTML object>"
      ]
     },
     "execution_count": 20,
     "metadata": {},
     "output_type": "execute_result"
    }
   ],
   "source": [
    "HTML(\"\"\"\n",
    "<video width=\"960\" height=\"540\" controls>\n",
    "  <source src=\"{0}\">\n",
    "</video>\n",
    "\"\"\".format(white_output))"
   ]
  },
  {
   "cell_type": "code",
   "execution_count": null,
   "metadata": {},
   "outputs": [],
   "source": []
  },
  {
   "cell_type": "code",
   "execution_count": null,
   "metadata": {},
   "outputs": [],
   "source": []
  },
  {
   "cell_type": "code",
   "execution_count": null,
   "metadata": {},
   "outputs": [],
   "source": []
  }
 ],
 "metadata": {
  "anaconda-cloud": {},
  "kernelspec": {
   "display_name": "Python 3",
   "language": "python",
   "name": "python3"
  },
  "language_info": {
   "codemirror_mode": {
    "name": "ipython",
    "version": 3
   },
   "file_extension": ".py",
   "mimetype": "text/x-python",
   "name": "python",
   "nbconvert_exporter": "python",
   "pygments_lexer": "ipython3",
   "version": "3.8.2"
  }
 },
 "nbformat": 4,
 "nbformat_minor": 4
}
