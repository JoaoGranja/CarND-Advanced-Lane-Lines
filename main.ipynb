{
 "cells": [
  {
   "cell_type": "markdown",
   "metadata": {},
   "source": [
    "# Advanced Lane Finding Project\n",
    "\n",
    "The goals / steps of this project are the following:\n",
    "\n",
    "* Compute the camera calibration matrix and distortion coefficients given a set of chessboard images.\n",
    "* Apply a distortion correction to raw images.\n",
    "* Use color transforms, gradients, etc., to create a thresholded binary image.\n",
    "* Apply a perspective transform to rectify binary image (\"birds-eye view\").\n",
    "* Detect lane pixels and fit to find the lane boundary.\n",
    "* Determine the curvature of the lane and vehicle position with respect to center.\n",
    "* Warp the detected lane boundaries back onto the original image.\n",
    "* Output visual display of the lane boundaries and numerical estimation of lane curvature and vehicle position.\n",
    "\n",
    "---"
   ]
  },
  {
   "cell_type": "markdown",
   "metadata": {},
   "source": [
    "## Import Packages"
   ]
  },
  {
   "cell_type": "code",
   "execution_count": 1,
   "metadata": {
    "ExecuteTime": {
     "end_time": "2020-05-14T13:19:27.806418Z",
     "start_time": "2020-05-14T13:19:26.028101Z"
    }
   },
   "outputs": [],
   "source": [
    "# Importing some useful packages\n",
    "import numpy as np\n",
    "import cv2\n",
    "import glob\n",
    "import matplotlib.pyplot as plt\n",
    "import matplotlib.image as mpimg\n",
    "import os\n",
    "from helper_functions import *\n",
    "import pickle\n",
    "\n",
    "#Import everything needed to edit/save/watch video clips\n",
    "from moviepy.editor import VideoFileClip\n",
    "from IPython.display import HTML\n",
    "%matplotlib qt\n"
   ]
  },
  {
   "cell_type": "markdown",
   "metadata": {},
   "source": [
    "## 1 - Compute the camera calibration using chessboard images"
   ]
  },
  {
   "cell_type": "code",
   "execution_count": 2,
   "metadata": {},
   "outputs": [],
   "source": [
    "# define the name of the output directory to be created\n",
    "output_path = \"output_images/camera_calibration\"\n",
    "\n",
    "# Create test_images_output Directory if doesn't exist\n",
    "if not os.path.exists(output_path):\n",
    "    os.mkdir(output_path)"
   ]
  },
  {
   "cell_type": "code",
   "execution_count": 3,
   "metadata": {
    "ExecuteTime": {
     "end_time": "2020-05-14T13:19:31.648297Z",
     "start_time": "2020-05-14T13:19:27.811639Z"
    }
   },
   "outputs": [],
   "source": [
    "# To avoid running the calibration step everytime, in case the camera coefficients already exist, just load it\n",
    "if os.path.exists('camera_coeff.pkl'):\n",
    "    # Getting back the values:\n",
    "    with open('camera_coeff.pkl', 'rb') as f:  \n",
    "        mtx, dist = pickle.load(f)\n",
    "    \n",
    "else:  \n",
    "    # Prepare object points, like (0,0,0), (1,0,0), (2,0,0) ....,(9,6,0)\n",
    "    objp = np.zeros((9*6,3), np.float32)\n",
    "    objp[:,:2] = np.mgrid[0:9,0:6].T.reshape(-1,2)\n",
    "\n",
    "    # Arrays to store object points and image points from all the images.\n",
    "    objpoints = [] # 3d points in real world space\n",
    "    imgpoints = [] # 2d points in image plane.\n",
    "\n",
    "    # Make a list of calibration images\n",
    "    images = glob.glob('camera_cal/calibration*.jpg')\n",
    "\n",
    "    # Step through the list and search for chessboard corners\n",
    "    for fname in images:\n",
    "\n",
    "        # Read the image\n",
    "        img = cv2.imread(fname)\n",
    "\n",
    "        # Convert the image to gray scale\n",
    "        gray = cv2.cvtColor(img,cv2.COLOR_BGR2GRAY)\n",
    "\n",
    "        # Find the chessboard 54 (9*6) corners \n",
    "        ret, corners = cv2.findChessboardCorners(gray, (9,6),None)\n",
    "\n",
    "        # If found, append object points, image points\n",
    "        if ret == True:\n",
    "            objpoints.append(objp)\n",
    "            imgpoints.append(corners)\n",
    "\n",
    "            # Draw and display the corners\n",
    "            img = cv2.drawChessboardCorners(img, (9,6), corners, ret)\n",
    "            #cv2.imshow('img',img)\n",
    "            #cv2.waitKey(500)\n",
    "\n",
    "    #cv2.destroyAllWindows()\n",
    "\n",
    "    # Perform the camera calibration\n",
    "    ret, mtx, dist, rvecs, tvecs = cv2.calibrateCamera(objpoints, imgpoints, gray.shape[::-1], None, None) \n",
    "\n",
    "    # Store the camera calibration coefficients for future use\n",
    "    with open('camera_coeff.pkl', 'wb') as f:  \n",
    "        pickle.dump([mtx, dist], f)\n",
    "        \n",
    "    # Perform distortion correction on chessboard images to verify the process is doing well\n",
    "\n",
    "    # Step through the list and undistort each image\n",
    "    for fname in images:\n",
    "\n",
    "        # Read the image\n",
    "        image = mpimg.imread(fname)\n",
    "\n",
    "        # Undistort the image an display it \n",
    "        undist = cv2.undistort(image, mtx, dist, None, mtx)\n",
    "\n",
    "        # Save images on output_path Directory\n",
    "        f, (ax1, ax2) = plt.subplots(1, 2, figsize=(24, 9))\n",
    "        f.tight_layout()\n",
    "\n",
    "        ax1.imshow(image)\n",
    "        ax1.set_title('Original Image', fontsize=30)\n",
    "\n",
    "        ax2.imshow(undist)\n",
    "        ax2.set_title('Undistorted Image', fontsize=30)\n",
    "        plt.subplots_adjust(left=0.1, right=0.9, top=1, bottom=0, wspace = 0.1)\n",
    "\n",
    "\n",
    "        plt.savefig(os.path.join(output_path, \"undist_\" + os.path.basename(fname)))\n",
    "        plt.close()"
   ]
  },
  {
   "cell_type": "markdown",
   "metadata": {},
   "source": [
    "## 2 - Build a Lane finding Pipeline\n",
    "The pipeline will be composed by the following steps:\n",
    "\n",
    "1 - Read and apply a distortion correction to raw images\n",
    "\n",
    "2 - Use color transforms, gradients, etc., to create a thresholded binary image\n",
    "\n",
    "3 - Apply a perspective transform to rectify binary image (\"birds-eye view\")\n",
    "\n",
    "4 - Detect lane pixels and fit to find the lane boundary\n",
    "\n",
    "5 - Determine the curvature of the lane and vehicle position with respect to center \n",
    "\n",
    "6 - Warp the detected lane boundaries back onto the original image\n",
    "\n",
    "7 - Output visual display of the lane boundaries and numerical estimation of lane curvature and vehicle position"
   ]
  },
  {
   "cell_type": "code",
   "execution_count": 4,
   "metadata": {},
   "outputs": [],
   "source": [
    "# define the name of the directory to be created\n",
    "output_path = \"output_images/test_images\"\n",
    "\n",
    "# Create test_images_output Directory if doesn't exist\n",
    "if not os.path.exists(output_path):\n",
    "    os.mkdir(output_path)"
   ]
  },
  {
   "cell_type": "code",
   "execution_count": 5,
   "metadata": {},
   "outputs": [],
   "source": [
    "# Get the transform matrix using 4 source and destination points calculated manually looking to \n",
    "# the straight line images\n",
    "\n",
    "src = np.float32([[195, 720],[1125, 720],[578, 460],[705, 460]])\n",
    "dst = np.float32([[350, 720],[950, 720],[350,0],[950,0]])\n",
    "\n",
    "# Get the transform matrix M using the src and dst points\n",
    "M = cv2.getPerspectiveTransform(src, dst)\n",
    "\n",
    "# Get the invert transform matrix M using the src and dst points\n",
    "M_inv = cv2.getPerspectiveTransform(dst, src)\n",
    "        "
   ]
  },
  {
   "cell_type": "code",
   "execution_count": 6,
   "metadata": {},
   "outputs": [],
   "source": [
    "def process_image(original_image, fname, mtx, dist, M, M_inv):\n",
    "    \n",
    "    ## 1 - Apply a distortion correction to the image ##\n",
    "    undist = undistort_image(original_image, mtx, dist)\n",
    "    save_undistorted_images(output_path, fname, original_image, undist)\n",
    "    \n",
    "\n",
    "    ## 2 - Use color transforms, gradients, etc., to create a thresholded binary image ##\n",
    "    ksize = 3 # Sobel kernel size \n",
    "\n",
    "    # Apply each of the gradient thresholding functions\n",
    "    gradx = abs_sobel_thresh(undist, orient='x', sobel_kernel=ksize, thresh=(30, 200))\n",
    "    grady = abs_sobel_thresh(undist, orient='y', sobel_kernel=ksize, thresh=(50, 200))\n",
    "    mag_binary = mag_thresh(undist, sobel_kernel=ksize, mag_thresh=(30, 200))\n",
    "    dir_binary = dir_threshold(undist, sobel_kernel=ksize, thresh=(0.7, 1.3))\n",
    "\n",
    "    # Apply each of the color thresholding functions\n",
    "    colors_binary = hls_select(undist, s_thresh=(200, 255), v_thresh=(230, 255))\n",
    "\n",
    "    # Combine all of the thresholding binaries\n",
    "    binary_image = np.zeros_like(gradx)\n",
    "    #binary_image[(colors_binary == 1) | ((mag_binary == 1) & (dir_binary == 1)) | ((gradx == 1) & (grady == 1)) ] = 1\n",
    "    binary_image[(colors_binary == 1) | (gradx == 1) ] = 1\n",
    "   \n",
    "    save_binary_images(output_path, fname, undist, binary_image)\n",
    "    \n",
    "    # 3 - Apply a perspective transform to rectify binary image (\"birds-eye view\") ##\n",
    "\n",
    "    # Warp the image to a top-down view\n",
    "    img_size = (undist.shape[1], undist.shape[0])\n",
    "    binary_warped = cv2.warpPerspective(binary_image, M, img_size, flags=cv2.INTER_LINEAR)\n",
    "    \n",
    "    warped = cv2.warpPerspective(undist, M, img_size, flags=cv2.INTER_LINEAR)\n",
    "    save_warped_images(output_path, fname, binary_warped, warped)\n",
    "\n",
    "    ## 4 - Detect lane pixels and fit to find the lane boundary ##\n",
    "    \n",
    "    # Create a sliding window and find out which activated pixels fall into the window\n",
    "    out_img, left_fit, right_fit, left_fitx, right_fitx, ploty = fit_polynomial(binary_warped)\n",
    "\n",
    "    ## 5 - Determine the curvature of the lane and vehicle position with respect to center ##\n",
    "\n",
    "    radius_curvature = measure_curvature_real(out_img.shape[0], left_fit, right_fit)\n",
    "\n",
    "    rel_vehicle_position = measure_rel_vehicle_position(out_img.shape, left_fit, right_fit)\n",
    "\n",
    "    ## 6 - Warp the detected lane boundaries back onto the original image ##\n",
    "\n",
    "    # Create an image to draw the lines on\n",
    "    warp_zero = np.zeros_like(binary_warped).astype(np.uint8)\n",
    "    color_warp = np.dstack((warp_zero, warp_zero, warp_zero))\n",
    "\n",
    "    # Recast the x and y points into usable format for cv2.fillPoly()\n",
    "    pts_left = np.array([np.transpose(np.vstack([left_fitx, ploty]))])\n",
    "    pts_right = np.array([np.flipud(np.transpose(np.vstack([right_fitx, ploty])))])\n",
    "    pts = np.hstack((pts_left, pts_right))\n",
    "\n",
    "    # Draw the lane onto the warped blank image\n",
    "    cv2.fillPoly(color_warp, np.int_([pts]), (0,255, 0))\n",
    "\n",
    "    # Warp the blank back to original image space using inverse perspective matrix (Minv)\n",
    "    newwarp = cv2.warpPerspective(color_warp, M_inv, img_size) \n",
    "\n",
    "    ## 7 - Output visual display of the lane boundaries and numerical estimation of lane curvature and vehicle position ##\n",
    "    # Combine the result with the original image\n",
    "    result = cv2.addWeighted(undist, 1, newwarp, 0.3, 0)\n",
    "    result = cv2.addWeighted(original_image, 1, newwarp, 0.3, 0)\n",
    "\n",
    "    save_lane_lines_image(output_path, fname, out_img)\n",
    "\n",
    "    print(\"Radius curvature = \", radius_curvature, 'm')\n",
    "    print(\"Relative vehicle position with respect to the line lane center = \",rel_vehicle_position, 'm')\n",
    "\n",
    "    save_pipeline_image(output_path, fname, result, radius_curvature, rel_vehicle_position )"
   ]
  },
  {
   "cell_type": "code",
   "execution_count": 7,
   "metadata": {
    "ExecuteTime": {
     "end_time": "2020-05-14T13:26:17.757281Z",
     "start_time": "2020-05-14T13:26:17.693455Z"
    }
   },
   "outputs": [],
   "source": [
    "%matplotlib inline\n",
    "\n",
    "# Make a list of test images\n",
    "images = glob.glob('test_images/*.jpg')\n",
    "images = []\n",
    "\n",
    "# Step through the list, read the image and apply the lane finding pipeline\n",
    "for fname in images:\n",
    "\n",
    "    print(\"-----------------------\", fname, \"-----------------------\")\n",
    "\n",
    "    # Read the image\n",
    "    img = mpimg.imread(fname)\n",
    "    img_size = img.shape\n",
    "\n",
    "    process_image(img, fname, mtx, dist, M, M_inv)\n",
    "\n",
    "    print('\\n')"
   ]
  },
  {
   "cell_type": "markdown",
   "metadata": {},
   "source": [
    "## 3 -  Test the pipeline on Videos"
   ]
  },
  {
   "cell_type": "code",
   "execution_count": 8,
   "metadata": {
    "ExecuteTime": {
     "end_time": "2020-05-14T13:44:25.527191Z",
     "start_time": "2020-05-14T13:44:25.087142Z"
    }
   },
   "outputs": [],
   "source": [
    "from frame import *\n",
    "img_size = (720,1280)"
   ]
  },
  {
   "cell_type": "code",
   "execution_count": 9,
   "metadata": {},
   "outputs": [
    {
     "name": "stderr",
     "output_type": "stream",
     "text": [
      "t:   2%|▏         | 2/125 [00:00<00:09, 13.04it/s, now=None]"
     ]
    },
    {
     "name": "stdout",
     "output_type": "stream",
     "text": [
      "Moviepy - Building video project_video_out.mp4.\n",
      "Moviepy - Writing video project_video_out.mp4\n",
      "\n"
     ]
    },
    {
     "name": "stderr",
     "output_type": "stream",
     "text": [
      "t:  13%|█▎        | 16/125 [00:02<00:16,  6.58it/s, now=None]"
     ]
    },
    {
     "name": "stdout",
     "output_type": "stream",
     "text": [
      "error 1 1587.3029196524133 713.6051721983468\n",
      "error 1 1756.4676566173441 736.964818251616\n"
     ]
    },
    {
     "name": "stderr",
     "output_type": "stream",
     "text": [
      "t:  14%|█▍        | 18/125 [00:02<00:16,  6.62it/s, now=None]"
     ]
    },
    {
     "name": "stdout",
     "output_type": "stream",
     "text": [
      "error 1 1847.2627865894365 768.0993269925923\n",
      "error 1 1913.4906384248375 795.0881397445207\n"
     ]
    },
    {
     "name": "stderr",
     "output_type": "stream",
     "text": [
      "t:  16%|█▌        | 20/125 [00:02<00:15,  6.57it/s, now=None]"
     ]
    },
    {
     "name": "stdout",
     "output_type": "stream",
     "text": [
      "error 1 1697.9661904371026 826.5902254708947\n"
     ]
    },
    {
     "name": "stderr",
     "output_type": "stream",
     "text": [
      "t:  67%|██████▋   | 84/125 [00:12<00:06,  6.42it/s, now=None]"
     ]
    },
    {
     "name": "stdout",
     "output_type": "stream",
     "text": [
      "error 1 738.4927942315776 1529.2519641950253\n",
      "error 1 734.8223486609976 1652.9203452770155\n"
     ]
    },
    {
     "name": "stderr",
     "output_type": "stream",
     "text": [
      "\r",
      "t:  68%|██████▊   | 85/125 [00:13<00:06,  6.21it/s, now=None]"
     ]
    },
    {
     "name": "stdout",
     "output_type": "stream",
     "text": [
      "error 1 748.1739887704514 1760.6414797102539\n",
      "error 1 770.38439960031 1815.8258879985056\n"
     ]
    },
    {
     "name": "stderr",
     "output_type": "stream",
     "text": [
      "t:  70%|███████   | 88/125 [00:13<00:06,  5.83it/s, now=None]"
     ]
    },
    {
     "name": "stdout",
     "output_type": "stream",
     "text": [
      "error 1 833.3702801255521 1808.5299307515306\n",
      "error 1 838.1777088010369 1696.4852153318702\n"
     ]
    },
    {
     "name": "stderr",
     "output_type": "stream",
     "text": [
      "                                                              \r"
     ]
    },
    {
     "name": "stdout",
     "output_type": "stream",
     "text": [
      "Moviepy - Done !\n",
      "Moviepy - video ready project_video_out.mp4\n",
      "CPU times: user 47.3 s, sys: 8.64 s, total: 55.9 s\n",
      "Wall time: 21.7 s\n"
     ]
    }
   ],
   "source": [
    "white_output = 'project_video_out.mp4'\n",
    "clip1 = VideoFileClip(\"project_video.mp4\")\n",
    "white_clip = clip1.fl_image(Frame(mtx, dist, M, M_inv, img_size)).subclip(0,5)\n",
    "%time white_clip.write_videofile(white_output, audio=False)\n"
   ]
  },
  {
   "cell_type": "code",
   "execution_count": 10,
   "metadata": {},
   "outputs": [
    {
     "data": {
      "text/html": [
       "\n",
       "<video width=\"960\" height=\"540\" controls>\n",
       "  <source src=\"project_video_out.mp4\">\n",
       "</video>\n"
      ],
      "text/plain": [
       "<IPython.core.display.HTML object>"
      ]
     },
     "execution_count": 10,
     "metadata": {},
     "output_type": "execute_result"
    }
   ],
   "source": [
    "HTML(\"\"\"\n",
    "<video width=\"960\" height=\"540\" controls>\n",
    "  <source src=\"{0}\">\n",
    "</video>\n",
    "\"\"\".format(white_output))"
   ]
  },
  {
   "cell_type": "markdown",
   "metadata": {},
   "source": [
    "## 4 - Test the pipeline on Challenge Videos"
   ]
  },
  {
   "cell_type": "code",
   "execution_count": 11,
   "metadata": {},
   "outputs": [
    {
     "name": "stdout",
     "output_type": "stream",
     "text": [
      "Radius curvature =  332 m\n",
      "Relative vehicle position with respect to the line lane center =  0.11 m\n",
      "\n",
      "\n"
     ]
    }
   ],
   "source": [
    "# Get the transform matrix using 4 source and destination points calculated looking to the straight line image\n",
    "src = np.float32([[250, 720],[1050, 720],[605, 480],[715, 480]])\n",
    "dst = np.float32([[350, 720],[950, 720],[350,0],[950,0]])\n",
    "\n",
    "# Get the transform matrix M using the src and dst points\n",
    "M_1 = cv2.getPerspectiveTransform(src, dst)\n",
    "\n",
    "# Get the invert transform matrix M using the src and dst points\n",
    "M_inv_1 = cv2.getPerspectiveTransform(dst, src)\n",
    "\n",
    "fname = \"challenge_video.jpg\"\n",
    "\n",
    "# Read the image\n",
    "clip1 = VideoFileClip(\"challenge_video.mp4\")\n",
    "img = clip1.get_frame(130 / clip1.fps) # get frame by index\n",
    "img_size = img.shape\n",
    "\n",
    "process_image(img, fname, mtx, dist, M, M_inv)\n",
    "\n",
    "print('\\n')"
   ]
  },
  {
   "cell_type": "code",
   "execution_count": 12,
   "metadata": {},
   "outputs": [
    {
     "name": "stderr",
     "output_type": "stream",
     "text": [
      "\r",
      "t:   0%|          | 0/150 [00:00<?, ?it/s, now=None]"
     ]
    },
    {
     "name": "stdout",
     "output_type": "stream",
     "text": [
      "error 1 1824.7861540674053 222.40493662060302\n",
      "error 1 805.5526014888259 227.56759428773228\n",
      "Moviepy - Building video challenge_video_out.mp4.\n",
      "Moviepy - Writing video challenge_video_out.mp4\n",
      "\n"
     ]
    },
    {
     "name": "stderr",
     "output_type": "stream",
     "text": [
      "t:   2%|▏         | 3/150 [00:00<00:14, 10.08it/s, now=None]"
     ]
    },
    {
     "name": "stdout",
     "output_type": "stream",
     "text": [
      "error 1 699.9639782101178 229.34372485003487\n"
     ]
    },
    {
     "name": "stderr",
     "output_type": "stream",
     "text": [
      "t:  11%|█         | 16/150 [00:02<00:19,  7.00it/s, now=None]"
     ]
    },
    {
     "name": "stdout",
     "output_type": "stream",
     "text": [
      "error 1 255.5371725537826 640.169901910912\n",
      "error 1 255.50761966681895 808.3958809651342\n"
     ]
    },
    {
     "name": "stderr",
     "output_type": "stream",
     "text": [
      "t:  12%|█▏        | 18/150 [00:02<00:18,  6.99it/s, now=None]"
     ]
    },
    {
     "name": "stdout",
     "output_type": "stream",
     "text": [
      "error 1 256.1189737143235 1230.1657031866584\n",
      "error 1 258.0641695486999 3445.47571485632\n"
     ]
    },
    {
     "name": "stderr",
     "output_type": "stream",
     "text": [
      "t:  13%|█▎        | 20/150 [00:02<00:17,  7.63it/s, now=None]"
     ]
    },
    {
     "name": "stdout",
     "output_type": "stream",
     "text": [
      "error 1 261.93838086545003 4298.386668236814\n",
      "error 1 266.7863965822407 1320.0721827302007\n",
      "error 4 352.0989798019018 1111.429186585508 759.3302067836062\n"
     ]
    },
    {
     "name": "stderr",
     "output_type": "stream",
     "text": [
      "t:  15%|█▍        | 22/150 [00:02<00:15,  8.27it/s, now=None]"
     ]
    },
    {
     "name": "stdout",
     "output_type": "stream",
     "text": [
      "error 1 309.120103334164 1168.4044555921757\n",
      "error 4 330.81535188617147 1092.225148982769 761.4097970965976\n",
      "error 4 289.2312595339066 1073.3108022920783 784.0795427581717\n"
     ]
    },
    {
     "name": "stderr",
     "output_type": "stream",
     "text": [
      "t:  16%|█▌        | 24/150 [00:03<00:14,  8.58it/s, now=None]"
     ]
    },
    {
     "name": "stdout",
     "output_type": "stream",
     "text": [
      "error 1 444.48410256804436 149.76699069680186\n",
      "error 4 149.1707367124642 1053.4710111330887 904.3002744206245\n",
      "error 1 498.2865551469814 167.24521737496656\n",
      "error 4 173.95393338570534 1045.7413578180353 871.78742443233\n"
     ]
    },
    {
     "name": "stderr",
     "output_type": "stream",
     "text": [
      "t:  17%|█▋        | 26/150 [00:03<00:14,  8.83it/s, now=None]"
     ]
    },
    {
     "name": "stdout",
     "output_type": "stream",
     "text": [
      "error 1 648.5955198009138 167.59783993820352\n",
      "error 4 153.33367642436951 1024.0401116182463 870.7064351938768\n",
      "error 1 856.51628384847 164.74497780591642\n",
      "error 4 129.8440657863133 1005.7299302350972 875.8858644487839\n"
     ]
    },
    {
     "name": "stderr",
     "output_type": "stream",
     "text": [
      "t:  19%|█▊        | 28/150 [00:03<00:15,  7.81it/s, now=None]"
     ]
    },
    {
     "name": "stdout",
     "output_type": "stream",
     "text": [
      "error 1 1324.7539719569475 170.01706947125112\n",
      "error 4 120.46122549106758 988.2090113211173 867.7477858300497\n",
      "error 1 2450.9685992050913 175.37318185069364\n",
      "error 4 110.83756516233097 971.1435870169387 860.3060218546077\n"
     ]
    },
    {
     "name": "stderr",
     "output_type": "stream",
     "text": [
      "t:  20%|██        | 30/150 [00:03<00:14,  8.33it/s, now=None]"
     ]
    },
    {
     "name": "stdout",
     "output_type": "stream",
     "text": [
      "error 1 2229.035942685406 192.2074251081788\n",
      "error 4 136.78873673364967 972.7765507857135 835.9878140520639\n",
      "error 1 2366.808766659184 215.64819915562163\n",
      "error 4 166.75345537078613 974.3060102065945 807.5525548358083\n"
     ]
    },
    {
     "name": "stderr",
     "output_type": "stream",
     "text": [
      "t:  21%|██▏       | 32/150 [00:04<00:16,  7.30it/s, now=None]"
     ]
    },
    {
     "name": "stdout",
     "output_type": "stream",
     "text": [
      "error 1 1251.2277333163447 251.61746418768146\n",
      "error 4 222.4310093731841 996.3799502462228 773.9489408730387\n",
      "error 1 1551.6632571754376 610.1705943780108\n",
      "error 4 272.2591599066063 995.5412226100816 723.2820627034753\n"
     ]
    },
    {
     "name": "stderr",
     "output_type": "stream",
     "text": [
      "t:  23%|██▎       | 35/150 [00:04<00:16,  7.19it/s, now=None]"
     ]
    },
    {
     "name": "stdout",
     "output_type": "stream",
     "text": [
      "error 1 1397.0830032868305 8678.557132122738\n"
     ]
    },
    {
     "name": "stderr",
     "output_type": "stream",
     "text": [
      "t:  27%|██▋       | 41/150 [00:05<00:13,  7.97it/s, now=None]"
     ]
    },
    {
     "name": "stdout",
     "output_type": "stream",
     "text": [
      "error 1 3814.722875575976 50305.98242808428\n",
      "error 1 9514.430244052273 3625.7062659896683\n"
     ]
    },
    {
     "name": "stderr",
     "output_type": "stream",
     "text": [
      "t:  29%|██▉       | 44/150 [00:05<00:13,  7.79it/s, now=None]"
     ]
    },
    {
     "name": "stdout",
     "output_type": "stream",
     "text": [
      "error 1 2081.5236881390288 701.1296035732051\n"
     ]
    },
    {
     "name": "stderr",
     "output_type": "stream",
     "text": [
      "t:  35%|███▍      | 52/150 [00:06<00:15,  6.27it/s, now=None]"
     ]
    },
    {
     "name": "stdout",
     "output_type": "stream",
     "text": [
      "error 1 373.89890535427975 963.9544598147461\n"
     ]
    },
    {
     "name": "stderr",
     "output_type": "stream",
     "text": [
      "t:  36%|███▌      | 54/150 [00:07<00:16,  5.81it/s, now=None]"
     ]
    },
    {
     "name": "stdout",
     "output_type": "stream",
     "text": [
      "error 1 358.3933008563919 806.9902309840887\n",
      "error 1 363.00683042780423 735.876875418227\n"
     ]
    },
    {
     "name": "stderr",
     "output_type": "stream",
     "text": [
      "t:  37%|███▋      | 56/150 [00:07<00:14,  6.52it/s, now=None]"
     ]
    },
    {
     "name": "stdout",
     "output_type": "stream",
     "text": [
      "error 1 328.44545357813104 742.6414339558379\n",
      "error 1 316.30107374145655 668.927317263354\n"
     ]
    },
    {
     "name": "stderr",
     "output_type": "stream",
     "text": [
      "t:  39%|███▉      | 59/150 [00:07<00:12,  7.13it/s, now=None]"
     ]
    },
    {
     "name": "stdout",
     "output_type": "stream",
     "text": [
      "error 1 313.1298292554184 659.9505052554733\n"
     ]
    },
    {
     "name": "stderr",
     "output_type": "stream",
     "text": [
      "t:  43%|████▎     | 64/150 [00:08<00:12,  6.84it/s, now=None]"
     ]
    },
    {
     "name": "stdout",
     "output_type": "stream",
     "text": [
      "error 1 1150.5836897704978 285.6156660750995\n",
      "error 1 1630.3674234785558 263.28749994448594\n"
     ]
    },
    {
     "name": "stderr",
     "output_type": "stream",
     "text": [
      "t:  45%|████▍     | 67/150 [00:09<00:11,  6.94it/s, now=None]"
     ]
    },
    {
     "name": "stdout",
     "output_type": "stream",
     "text": [
      "error 1 18565.842781918174 220.94975694382916\n",
      "error 1 2377.4390760941383 181.82185254566596\n"
     ]
    },
    {
     "name": "stderr",
     "output_type": "stream",
     "text": [
      "t:  46%|████▌     | 69/150 [00:09<00:12,  6.28it/s, now=None]"
     ]
    },
    {
     "name": "stdout",
     "output_type": "stream",
     "text": [
      "error 1 1341.2328091753861 157.77654567796688\n",
      "error 1 699.6458639665124 131.9840435820658\n"
     ]
    },
    {
     "name": "stderr",
     "output_type": "stream",
     "text": [
      "t:  47%|████▋     | 71/150 [00:09<00:11,  6.97it/s, now=None]"
     ]
    },
    {
     "name": "stdout",
     "output_type": "stream",
     "text": [
      "error 1 312.3037518723301 120.86293734132116\n",
      "error 1 277.2584853383292 116.80778936407364\n"
     ]
    },
    {
     "name": "stderr",
     "output_type": "stream",
     "text": [
      "t:  49%|████▊     | 73/150 [00:10<00:10,  7.63it/s, now=None]"
     ]
    },
    {
     "name": "stdout",
     "output_type": "stream",
     "text": [
      "error 1 290.6444830267509 109.796592609608\n",
      "error 1 276.2724039766632 99.34304791932783\n"
     ]
    },
    {
     "name": "stderr",
     "output_type": "stream",
     "text": [
      "t:  50%|█████     | 75/150 [00:10<00:09,  7.84it/s, now=None]"
     ]
    },
    {
     "name": "stdout",
     "output_type": "stream",
     "text": [
      "error 1 294.3652695122808 93.57837493791884\n",
      "error 1 241.61228237019313 89.82984395458624\n"
     ]
    },
    {
     "name": "stderr",
     "output_type": "stream",
     "text": [
      "t:  51%|█████▏    | 77/150 [00:10<00:09,  7.37it/s, now=None]"
     ]
    },
    {
     "name": "stdout",
     "output_type": "stream",
     "text": [
      "error 1 220.82345306640127 86.111438655448\n",
      "error 1 190.9971321749209 86.94565137880753\n"
     ]
    },
    {
     "name": "stderr",
     "output_type": "stream",
     "text": [
      "t:  54%|█████▍    | 81/150 [00:11<00:09,  6.90it/s, now=None]"
     ]
    },
    {
     "name": "stdout",
     "output_type": "stream",
     "text": [
      "error 1 191.29805617887516 85.39673234936782\n",
      "error 1 220.99812996135887 84.34433909665428\n"
     ]
    },
    {
     "name": "stderr",
     "output_type": "stream",
     "text": [
      "t:  55%|█████▌    | 83/150 [00:11<00:09,  7.33it/s, now=None]"
     ]
    },
    {
     "name": "stdout",
     "output_type": "stream",
     "text": [
      "error 1 212.49820986778897 82.37940507461332\n",
      "error 1 263.8877814045714 81.82733369447675\n"
     ]
    },
    {
     "name": "stderr",
     "output_type": "stream",
     "text": [
      "t:  57%|█████▋    | 85/150 [00:11<00:10,  6.23it/s, now=None]"
     ]
    },
    {
     "name": "stdout",
     "output_type": "stream",
     "text": [
      "error 1 339.25348908800845 81.0202585516462\n",
      "error 1 478.1250642551386 80.44626451321749\n"
     ]
    },
    {
     "name": "stderr",
     "output_type": "stream",
     "text": [
      "t:  58%|█████▊    | 87/150 [00:12<00:08,  7.10it/s, now=None]"
     ]
    },
    {
     "name": "stdout",
     "output_type": "stream",
     "text": [
      "error 1 753.9020610479976 79.78767071227482\n",
      "error 1 1360.2073767950899 78.8147143055477\n"
     ]
    },
    {
     "name": "stderr",
     "output_type": "stream",
     "text": [
      "t:  59%|█████▉    | 89/150 [00:12<00:08,  7.13it/s, now=None]"
     ]
    },
    {
     "name": "stdout",
     "output_type": "stream",
     "text": [
      "error 1 4556.3086716833905 77.59302756400074\n",
      "error 1 5339.410279645359 78.68717172691872\n"
     ]
    },
    {
     "name": "stderr",
     "output_type": "stream",
     "text": [
      "t:  61%|██████    | 91/150 [00:12<00:07,  7.82it/s, now=None]"
     ]
    },
    {
     "name": "stdout",
     "output_type": "stream",
     "text": [
      "error 1 1204.4852048830235 79.0976347157832\n",
      "error 1 1010.3699449591714 78.82216769498405\n"
     ]
    },
    {
     "name": "stderr",
     "output_type": "stream",
     "text": [
      "\r",
      "t:  61%|██████▏   | 92/150 [00:12<00:07,  7.71it/s, now=None]"
     ]
    },
    {
     "name": "stdout",
     "output_type": "stream",
     "text": [
      "error 1 515.3702482227237 79.2397278026973\n"
     ]
    },
    {
     "name": "stderr",
     "output_type": "stream",
     "text": [
      "t:  63%|██████▎   | 94/150 [00:13<00:08,  6.53it/s, now=None]"
     ]
    },
    {
     "name": "stdout",
     "output_type": "stream",
     "text": [
      "error 1 400.9571849492239 80.56588682166937\n",
      "error 1 298.21817310220337 80.94513827070737\n"
     ]
    },
    {
     "name": "stderr",
     "output_type": "stream",
     "text": [
      "t:  64%|██████▍   | 96/150 [00:13<00:07,  6.92it/s, now=None]"
     ]
    },
    {
     "name": "stdout",
     "output_type": "stream",
     "text": [
      "error 1 238.00848165054788 80.86167112396994\n",
      "error 1 192.39219359587975 81.46449099406156\n"
     ]
    },
    {
     "name": "stderr",
     "output_type": "stream",
     "text": [
      "t:  65%|██████▌   | 98/150 [00:13<00:08,  6.39it/s, now=None]"
     ]
    },
    {
     "name": "stdout",
     "output_type": "stream",
     "text": [
      "error 4 858.2022292134836 1100.7402672717612 242.53803805827755\n"
     ]
    },
    {
     "name": "stderr",
     "output_type": "stream",
     "text": [
      "t:  67%|██████▋   | 100/150 [00:13<00:07,  6.62it/s, now=None]"
     ]
    },
    {
     "name": "stdout",
     "output_type": "stream",
     "text": [
      "error 4 863.2395178841041 1168.3901810853179 305.1506632012137\n"
     ]
    },
    {
     "name": "stderr",
     "output_type": "stream",
     "text": [
      "t:  69%|██████▉   | 104/150 [00:14<00:05,  7.84it/s, now=None]"
     ]
    },
    {
     "name": "stdout",
     "output_type": "stream",
     "text": [
      "error 1 96.11690774667603 202.39718401618347\n",
      "error 1 98.51070584312373 278.4611594027051\n"
     ]
    },
    {
     "name": "stderr",
     "output_type": "stream",
     "text": [
      "\r",
      "t:  70%|███████   | 105/150 [00:14<00:06,  6.88it/s, now=None]"
     ]
    },
    {
     "name": "stdout",
     "output_type": "stream",
     "text": [
      "error 1 104.64646748565742 458.7658776718794\n",
      "error 2 464.9403611081649 1070.8324674298028 605.8921063216379\n",
      "error 1 114.05465732232608 76761.61193707775\n",
      "error 2 455.76603430400326 1040.372684286684 584.6066499826808\n"
     ]
    },
    {
     "name": "stderr",
     "output_type": "stream",
     "text": [
      "t:  72%|███████▏  | 108/150 [00:15<00:06,  6.63it/s, now=None]"
     ]
    },
    {
     "name": "stdout",
     "output_type": "stream",
     "text": [
      "error 1 124.33779026576082 461.227959125818\n",
      "error 2 450.12793654089035 1012.7539298215166 562.6259932806263\n",
      "error 1 130.93178618458606 403.29735353424854\n",
      "error 2 446.6269424615317 1011.4038896045089 564.7769471429772\n"
     ]
    },
    {
     "name": "stderr",
     "output_type": "stream",
     "text": [
      "t:  73%|███████▎  | 110/150 [00:15<00:05,  6.68it/s, now=None]"
     ]
    },
    {
     "name": "stdout",
     "output_type": "stream",
     "text": [
      "error 2 446.24239714307737 983.5114159194015 537.2690187763242\n",
      "error 2 445.4572067832345 984.1323023583318 538.6750955750973\n"
     ]
    },
    {
     "name": "stderr",
     "output_type": "stream",
     "text": [
      "t:  75%|███████▍  | 112/150 [00:15<00:05,  6.97it/s, now=None]"
     ]
    },
    {
     "name": "stdout",
     "output_type": "stream",
     "text": [
      "error 2 455.97642440574145 956.4673694270583 500.49094502131686\n",
      "error 2 458.8140756895837 930.9576809815214 472.1436052919377\n",
      "error 4 316.3747856865132 1121.0225225171407 804.6477368306275\n"
     ]
    },
    {
     "name": "stderr",
     "output_type": "stream",
     "text": [
      "t:  76%|███████▌  | 114/150 [00:16<00:05,  7.07it/s, now=None]"
     ]
    },
    {
     "name": "stdout",
     "output_type": "stream",
     "text": [
      "error 1 318.034676671103 126.9551235176052\n",
      "error 2 473.14333103022216 915.0135121301358 441.8701810999137\n",
      "error 4 238.8820194726585 1102.6609163612904 863.778896888632\n",
      "error 1 372.38292456475557 107.58631816100244\n",
      "error 4 160.65686550187627 1092.4171397526975 931.7602742508212\n"
     ]
    },
    {
     "name": "stderr",
     "output_type": "stream",
     "text": [
      "\r",
      "t:  77%|███████▋  | 115/150 [00:16<00:05,  6.72it/s, now=None]"
     ]
    },
    {
     "name": "stdout",
     "output_type": "stream",
     "text": [
      "error 1 389.6753123604086 91.42956524100103\n",
      "error 4 79.86237435101987 1088.1616927903249 1008.299318439305\n",
      "error 1 375.3660943403507 88.1883358105763\n",
      "error 4 50.652742479664994 1088.982501672362 1038.329759192697\n"
     ]
    },
    {
     "name": "stderr",
     "output_type": "stream",
     "text": [
      "t:  78%|███████▊  | 117/150 [00:16<00:05,  6.18it/s, now=None]"
     ]
    },
    {
     "name": "stdout",
     "output_type": "stream",
     "text": [
      "error 1 378.4954638387205 84.03372947262633\n",
      "error 4 13.717202166278412 1088.4568705941626 1074.7396684278842\n"
     ]
    },
    {
     "name": "stderr",
     "output_type": "stream",
     "text": [
      "\r",
      "t:  79%|███████▊  | 118/150 [00:16<00:06,  5.07it/s, now=None]"
     ]
    },
    {
     "name": "stdout",
     "output_type": "stream",
     "text": [
      "error 1 377.2629647720899 83.6375530307077\n",
      "error 4 0.1655609151889621 1089.184101392315 1089.018540477126\n"
     ]
    },
    {
     "name": "stderr",
     "output_type": "stream",
     "text": [
      "\r",
      "t:  79%|███████▉  | 119/150 [00:17<00:07,  4.37it/s, now=None]"
     ]
    },
    {
     "name": "stdout",
     "output_type": "stream",
     "text": [
      "error 1 344.6357072480298 81.02538522892512\n",
      "error 4 -22.294408000869225 1097.3680698183202 1119.6624778191895\n",
      "error 1 403.0811595978785 80.97727825155073\n",
      "error 4 -65.55190435543341 1075.8934947261157 1141.445399081549\n"
     ]
    },
    {
     "name": "stderr",
     "output_type": "stream",
     "text": [
      "t:  81%|████████  | 121/150 [00:17<00:06,  4.66it/s, now=None]"
     ]
    },
    {
     "name": "stdout",
     "output_type": "stream",
     "text": [
      "error 1 410.1940248261513 80.33127336953204\n",
      "error 4 -97.19853014215164 1074.5430523547934 1171.741582496945\n"
     ]
    },
    {
     "name": "stderr",
     "output_type": "stream",
     "text": [
      "\r",
      "t:  81%|████████▏ | 122/150 [00:17<00:06,  4.48it/s, now=None]"
     ]
    },
    {
     "name": "stdout",
     "output_type": "stream",
     "text": [
      "error 1 405.2236833735799 90.01815875445241\n",
      "error 4 -65.57441480044395 1075.8311481796736 1141.4055629801176\n"
     ]
    },
    {
     "name": "stderr",
     "output_type": "stream",
     "text": [
      "\r",
      "t:  82%|████████▏ | 123/150 [00:18<00:07,  3.67it/s, now=None]"
     ]
    },
    {
     "name": "stdout",
     "output_type": "stream",
     "text": [
      "error 1 385.317648107817 71.83273209176569\n",
      "error 4 -214.10339385386328 1079.5833135806454 1293.6867074345087\n",
      "error 1 "
     ]
    },
    {
     "name": "stderr",
     "output_type": "stream",
     "text": [
      "t:  83%|████████▎ | 125/150 [00:18<00:05,  4.75it/s, now=None]"
     ]
    },
    {
     "name": "stdout",
     "output_type": "stream",
     "text": [
      "408.9319345900113 68.82021310521074\n",
      "error 4 -267.1454216893635 1072.7814928665491 1339.9269145559126\n",
      "error 1 439.39117583577445 66.16338666716116\n",
      "error 4 -327.44425431527634 1064.0799514403407 1391.524205755617\n"
     ]
    },
    {
     "name": "stderr",
     "output_type": "stream",
     "text": [
      "t:  85%|████████▍ | 127/150 [00:18<00:03,  5.89it/s, now=None]"
     ]
    },
    {
     "name": "stdout",
     "output_type": "stream",
     "text": [
      "error 1 471.5626574859784 63.95920223103237\n",
      "error 4 -382.57332769952836 1057.0614262598633 1439.6347539593917\n",
      "error 1 312.35064485179635 65.50112411009106\n",
      "error 4 -329.9244490202327 1112.4560184769732 1442.380467497206\n"
     ]
    },
    {
     "name": "stderr",
     "output_type": "stream",
     "text": [
      "\r",
      "t:  85%|████████▌ | 128/150 [00:18<00:03,  6.07it/s, now=None]"
     ]
    },
    {
     "name": "stdout",
     "output_type": "stream",
     "text": [
      "error 1 372.9638238875715 62.110047416197524\n",
      "error 4 -411.9270108567887 1084.6648924235901 1496.5919032803788\n"
     ]
    },
    {
     "name": "stderr",
     "output_type": "stream",
     "text": [
      "t:  87%|████████▋ | 130/150 [00:19<00:03,  5.86it/s, now=None]"
     ]
    },
    {
     "name": "stdout",
     "output_type": "stream",
     "text": [
      "error 1 304.0459634475787 67.96623940170778\n",
      "error 4 -301.7415153943821 1122.0152080473204 1423.7567234417024\n",
      "error 1 209.67818582066957 104.18541770272333\n",
      "error 4 86.25425850439501 1208.0617250188363 1121.8074665144413\n"
     ]
    },
    {
     "name": "stderr",
     "output_type": "stream",
     "text": [
      "t:  88%|████████▊ | 132/150 [00:19<00:02,  6.83it/s, now=None]"
     ]
    },
    {
     "name": "stdout",
     "output_type": "stream",
     "text": [
      "error 1 166.89445604398975 734.7499795260438\n",
      "error 1 147.99565033420467 702.1944875933893\n"
     ]
    },
    {
     "name": "stderr",
     "output_type": "stream",
     "text": [
      "t:  89%|████████▉ | 134/150 [00:19<00:02,  7.02it/s, now=None]"
     ]
    },
    {
     "name": "stdout",
     "output_type": "stream",
     "text": [
      "error 1 157.8155993525978 480.6514511792053\n",
      "error 4 934.5769712454994 1321.090430033504 386.5134587880046\n",
      "error 1 156.13293008485067 17.581198994614336\n",
      "error 4 4745.338096577876 1308.5517107108835 -3436.7863858669925\n"
     ]
    },
    {
     "name": "stderr",
     "output_type": "stream",
     "text": [
      "t:  91%|█████████ | 136/150 [00:20<00:02,  6.83it/s, now=None]"
     ]
    },
    {
     "name": "stdout",
     "output_type": "stream",
     "text": [
      "error 1 143.0784955941186 1.835329705878391\n",
      "error 4 44484.48502292443 1312.2829600586747 -43172.202062865756\n",
      "error 1 143.15720038931283 1.542666178659563\n",
      "error 4 57723.19284223104 1295.7665047020453 -56427.426337528996\n"
     ]
    },
    {
     "name": "stderr",
     "output_type": "stream",
     "text": [
      "\r",
      "t:  91%|█████████▏| 137/150 [00:20<00:01,  6.95it/s, now=None]"
     ]
    },
    {
     "name": "stdout",
     "output_type": "stream",
     "text": [
      "error 1 162.20364754050922 1.5270971968821208\n",
      "error 4 57760.99580233527 1219.3726480485288 -56541.62315428674\n"
     ]
    },
    {
     "name": "stderr",
     "output_type": "stream",
     "text": [
      "t:  93%|█████████▎| 139/150 [00:20<00:01,  6.68it/s, now=None]"
     ]
    },
    {
     "name": "stdout",
     "output_type": "stream",
     "text": [
      "error 1 168.57010126567735 1.5586767714682201\n",
      "error 4 53958.19316955458 1199.5117961901274 -52758.68137336445\n",
      "error 1 194.30961958451172 1.5753644602743457\n",
      "error 2 473.75179093328927 778.441237751279 304.68944681798973\n",
      "error 4 51756.47470828675 1137.0102876169817 -50619.46442066976\n"
     ]
    },
    {
     "name": "stderr",
     "output_type": "stream",
     "text": [
      "t:  94%|█████████▍| 141/150 [00:20<00:01,  7.60it/s, now=None]"
     ]
    },
    {
     "name": "stdout",
     "output_type": "stream",
     "text": [
      "error 1 245.68898062835396 1.71203030322275\n",
      "error 2 460.7045135959793 754.5289306691666 293.8244170731873\n",
      "error 4 44938.287637960064 1051.8012756084522 -43886.486362351614\n",
      "error 1 361.38591598590796 2.259374925440409\n",
      "error 2 447.29194912355547 730.6919572913241 283.40000816776865\n",
      "error 4 32778.502903959015 948.3976663679903 -31830.105237591022\n"
     ]
    },
    {
     "name": "stderr",
     "output_type": "stream",
     "text": [
      "\r",
      "t:  95%|█████████▍| 142/150 [00:20<00:01,  6.94it/s, now=None]"
     ]
    },
    {
     "name": "stdout",
     "output_type": "stream",
     "text": [
      "error 1 462.4836918008732 2.2621512308531857\n",
      "error 2 466.5936041793237 735.6096997945175 269.0160956151938\n",
      "error 4 32719.519196042886 890.6357650244554 -31828.88343101843\n",
      "error 1 343.90532467717827 2.2635971851602306\n",
      "error 2 478.1254173995571 741.9951522702743 263.8697348707172\n",
      "error 4 32743.111402147686 916.9106433278699 -31826.200758819818\n"
     ]
    },
    {
     "name": "stderr",
     "output_type": "stream",
     "text": [
      "t:  96%|█████████▌| 144/150 [00:21<00:00,  6.68it/s, now=None]"
     ]
    },
    {
     "name": "stdout",
     "output_type": "stream",
     "text": [
      "error 1 323.98242804861354 2.553255088646086\n",
      "error 4 29042.912373201387 935.9148899434437 -28106.997483257943\n",
      "error 1"
     ]
    },
    {
     "name": "stderr",
     "output_type": "stream",
     "text": [
      "\r",
      "t:  97%|█████████▋| 145/150 [00:21<00:00,  5.48it/s, now=None]"
     ]
    },
    {
     "name": "stdout",
     "output_type": "stream",
     "text": [
      " 373.48648255688386 6.282951785499499\n",
      "error 4 -10571.02645070569 937.8381878735424 11508.864638579233\n"
     ]
    },
    {
     "name": "stderr",
     "output_type": "stream",
     "text": [
      "t:  98%|█████████▊| 147/150 [00:21<00:00,  5.83it/s, now=None]"
     ]
    },
    {
     "name": "stdout",
     "output_type": "stream",
     "text": [
      "error 1 350.0064250454499 3.1047420419967473\n",
      "error 4 -23703.617578827016 956.9237230492239 24660.54130187624\n",
      "error 1 380.3259818253431 3.0837324775587023\n",
      "error 4 -23741.061482412348 974.1963922944902 24715.257874706836\n"
     ]
    },
    {
     "name": "stderr",
     "output_type": "stream",
     "text": [
      "\r",
      "t:  99%|█████████▊| 148/150 [00:21<00:00,  6.01it/s, now=None]"
     ]
    },
    {
     "name": "stdout",
     "output_type": "stream",
     "text": [
      "error 1 303.4710157940267 3.5534246901079376\n",
      "error 4 -19828.258737710083 1015.6759159564792 20843.93465366656\n"
     ]
    },
    {
     "name": "stderr",
     "output_type": "stream",
     "text": [
      "t: 100%|██████████| 150/150 [00:22<00:00,  5.84it/s, now=None]"
     ]
    },
    {
     "name": "stdout",
     "output_type": "stream",
     "text": [
      "error 1 301.9513644541697 3.9135030015355174\n",
      "error 4 -17697.335705678976 1033.2286442226728 18730.564349901648\n",
      "error 1 328.7563681901047 5.982219232100929\n",
      "error 4 -11202.544377399036 1044.7652205161282 12247.309597915164\n"
     ]
    },
    {
     "name": "stderr",
     "output_type": "stream",
     "text": [
      "                                                              \r"
     ]
    },
    {
     "name": "stdout",
     "output_type": "stream",
     "text": [
      "error 1 330.3692907375821 1867.5766922760433\n",
      "Moviepy - Done !\n",
      "Moviepy - video ready challenge_video_out.mp4\n",
      "CPU times: user 25.9 s, sys: 4.48 s, total: 30.4 s\n",
      "Wall time: 24.9 s\n"
     ]
    }
   ],
   "source": [
    "white_output = 'challenge_video_out.mp4'\n",
    "clip1 = VideoFileClip(\"challenge_video.mp4\")\n",
    "white_clip = clip1.fl_image(Frame(mtx, dist, M, M_inv, img_size)).subclip(0,5) #NOTE: this function expects color images!!\n",
    "%time white_clip.write_videofile(white_output, audio=False)"
   ]
  },
  {
   "cell_type": "code",
   "execution_count": 13,
   "metadata": {},
   "outputs": [
    {
     "data": {
      "text/html": [
       "\n",
       "<video width=\"960\" height=\"540\" controls>\n",
       "  <source src=\"challenge_video_out.mp4\">\n",
       "</video>\n"
      ],
      "text/plain": [
       "<IPython.core.display.HTML object>"
      ]
     },
     "execution_count": 13,
     "metadata": {},
     "output_type": "execute_result"
    }
   ],
   "source": [
    "HTML(\"\"\"\n",
    "<video width=\"960\" height=\"540\" controls>\n",
    "  <source src=\"{0}\">\n",
    "</video>\n",
    "\"\"\".format(white_output))"
   ]
  },
  {
   "cell_type": "code",
   "execution_count": null,
   "metadata": {},
   "outputs": [
    {
     "name": "stderr",
     "output_type": "stream",
     "text": [
      "t:   2%|▏         | 2/125 [00:00<00:09, 12.38it/s, now=None]"
     ]
    },
    {
     "name": "stdout",
     "output_type": "stream",
     "text": [
      "Moviepy - Building video harder_challenge_video_out.mp4.\n",
      "Moviepy - Writing video harder_challenge_video_out.mp4\n",
      "\n"
     ]
    },
    {
     "name": "stderr",
     "output_type": "stream",
     "text": [
      "t:  16%|█▌        | 20/125 [00:03<00:16,  6.31it/s, now=None]"
     ]
    },
    {
     "name": "stdout",
     "output_type": "stream",
     "text": [
      "error 1 707.8997264882998 273.2381523659142\n",
      "error 1 846.9717362294252 263.8908707504843\n"
     ]
    },
    {
     "name": "stderr",
     "output_type": "stream",
     "text": [
      "t:  18%|█▊        | 22/125 [00:03<00:16,  6.33it/s, now=None]"
     ]
    },
    {
     "name": "stdout",
     "output_type": "stream",
     "text": [
      "error 1 1008.4065595340008 263.88612263126964\n",
      "error 1 1282.168266275394 263.0220275936084\n"
     ]
    },
    {
     "name": "stderr",
     "output_type": "stream",
     "text": [
      "t:  19%|█▉        | 24/125 [00:03<00:15,  6.31it/s, now=None]"
     ]
    },
    {
     "name": "stdout",
     "output_type": "stream",
     "text": [
      "error 1 1956.167873715108 257.3949625239752\n",
      "error 1 4408.413527488266 247.79038799945965\n"
     ]
    },
    {
     "name": "stderr",
     "output_type": "stream",
     "text": [
      "t:  21%|██        | 26/125 [00:04<00:15,  6.30it/s, now=None]"
     ]
    },
    {
     "name": "stdout",
     "output_type": "stream",
     "text": [
      "error 1 20345.21818826169 239.9260058646548\n",
      "error 1 2756.7926066237287 234.32137404276656\n"
     ]
    },
    {
     "name": "stderr",
     "output_type": "stream",
     "text": [
      "t:  22%|██▏       | 28/125 [00:04<00:15,  6.23it/s, now=None]"
     ]
    },
    {
     "name": "stdout",
     "output_type": "stream",
     "text": [
      "error 1 1512.6437202254847 228.47738111793214\n",
      "error 1 1092.4125715622004 225.0148000618223\n"
     ]
    },
    {
     "name": "stderr",
     "output_type": "stream",
     "text": [
      "t:  24%|██▍       | 30/125 [00:04<00:15,  6.15it/s, now=None]"
     ]
    },
    {
     "name": "stdout",
     "output_type": "stream",
     "text": [
      "error 1 878.75318955447 221.29561671407748\n",
      "error 1 754.5810463582391 218.05046708326236\n"
     ]
    },
    {
     "name": "stderr",
     "output_type": "stream",
     "text": [
      "t:  26%|██▌       | 32/125 [00:05<00:15,  6.12it/s, now=None]"
     ]
    },
    {
     "name": "stdout",
     "output_type": "stream",
     "text": [
      "error 1 664.3583002809664 207.89308713303856\n",
      "error 1 606.9598767842942 196.57933187414886\n"
     ]
    },
    {
     "name": "stderr",
     "output_type": "stream",
     "text": [
      "t:  27%|██▋       | 34/125 [00:05<00:14,  6.10it/s, now=None]"
     ]
    },
    {
     "name": "stdout",
     "output_type": "stream",
     "text": [
      "error 1 572.3590228375829 188.3602648070692\n",
      "error 1 548.850551579714 181.13465011881004\n"
     ]
    },
    {
     "name": "stderr",
     "output_type": "stream",
     "text": [
      "t:  29%|██▉       | 36/125 [00:05<00:14,  5.96it/s, now=None]"
     ]
    },
    {
     "name": "stdout",
     "output_type": "stream",
     "text": [
      "error 1 537.2622893388536 172.13571473925464\n",
      "error 1 519.1583189213794 160.897046144164\n",
      "error 4 855.4569800461991 722.8826087539331 -132.5743712922659\n"
     ]
    },
    {
     "name": "stderr",
     "output_type": "stream",
     "text": [
      "t:  30%|███       | 38/125 [00:06<00:14,  6.06it/s, now=None]"
     ]
    },
    {
     "name": "stdout",
     "output_type": "stream",
     "text": [
      "error 1 493.4318003147391 161.43905592430406\n",
      "error 4 862.7041715190942 730.5372077903032 -132.16696372879102\n",
      "error 1 464.76118678685884 160.99293847313143\n",
      "error 4 873.3950005265708 741.2704360705239 -132.12456445604684\n"
     ]
    },
    {
     "name": "stderr",
     "output_type": "stream",
     "text": [
      "t:  32%|███▏      | 40/125 [00:06<00:13,  6.19it/s, now=None]"
     ]
    },
    {
     "name": "stdout",
     "output_type": "stream",
     "text": [
      "error 1 462.7264158537136 158.3373320287363\n",
      "error 4 883.4031562705245 748.9463840492015 -134.45677222132298\n",
      "error 1 458.69770206906276 155.74594342851162\n",
      "error 4 893.0168146931774 756.699907089457 -136.3169076037203\n"
     ]
    },
    {
     "name": "stderr",
     "output_type": "stream",
     "text": [
      "t:  34%|███▎      | 42/125 [00:06<00:13,  6.22it/s, now=None]"
     ]
    },
    {
     "name": "stdout",
     "output_type": "stream",
     "text": [
      "error 1 432.1690119310875 152.57994818255497\n",
      "error 4 904.8410105964173 765.9272682108743 -138.91374238554295\n",
      "error 1 403.4982019171506 170.73439895909817\n",
      "error 4 881.5969708600926 777.1073519896771 -104.48961887041553\n"
     ]
    },
    {
     "name": "stderr",
     "output_type": "stream",
     "text": [
      "t:  35%|███▌      | 44/125 [00:07<00:12,  6.29it/s, now=None]"
     ]
    },
    {
     "name": "stdout",
     "output_type": "stream",
     "text": [
      "error 4 858.788230489364 790.0690265094528 -68.71920397991116\n"
     ]
    },
    {
     "name": "stderr",
     "output_type": "stream",
     "text": [
      "t:  37%|███▋      | 46/125 [00:07<00:12,  6.15it/s, now=None]"
     ]
    },
    {
     "name": "stdout",
     "output_type": "stream",
     "text": [
      "error 4 871.7825376957886 816.9509308255653 -54.83160687022335\n",
      "error 4 847.392853695466 832.797612054212 -14.595241641253986\n"
     ]
    },
    {
     "name": "stderr",
     "output_type": "stream",
     "text": [
      "t:  38%|███▊      | 48/125 [00:07<00:12,  6.08it/s, now=None]"
     ]
    },
    {
     "name": "stdout",
     "output_type": "stream",
     "text": [
      "error 4 868.0959843067369 843.5234051178453 -24.57257918889164\n",
      "error 4 842.4911490353975 852.1966707030981 9.705521667700571\n"
     ]
    },
    {
     "name": "stderr",
     "output_type": "stream",
     "text": [
      "t:  41%|████      | 51/125 [00:08<00:14,  5.19it/s, now=None]"
     ]
    },
    {
     "name": "stdout",
     "output_type": "stream",
     "text": [
      "error 4 860.9917972764553 871.226022198729 10.23422492227366\n"
     ]
    },
    {
     "name": "stderr",
     "output_type": "stream",
     "text": [
      "\r",
      "t:  42%|████▏     | 52/125 [00:08<00:14,  5.18it/s, now=None]"
     ]
    },
    {
     "name": "stdout",
     "output_type": "stream",
     "text": [
      "error 4 860.9783552958667 877.5691661442968 16.590810848430152\n",
      "error 4 863.3631083195829 883.1683396640889 19.80523134450598\n"
     ]
    },
    {
     "name": "stderr",
     "output_type": "stream",
     "text": [
      "t:  44%|████▍     | 55/125 [00:09<00:12,  5.50it/s, now=None]"
     ]
    },
    {
     "name": "stdout",
     "output_type": "stream",
     "text": [
      "error 4 868.0521912894936 889.6024136161756 21.55022232668193\n",
      "error 1 200.43496998933284 794.1121947009389\n"
     ]
    },
    {
     "name": "stderr",
     "output_type": "stream",
     "text": [
      "t:  46%|████▌     | 57/125 [00:09<00:11,  5.73it/s, now=None]"
     ]
    },
    {
     "name": "stdout",
     "output_type": "stream",
     "text": [
      "error 1 194.8843523861418 408.34697248462527\n",
      "error 4 877.5746035277251 902.7391531885467 25.16454966082158\n",
      "error 1 188.6746476443929 430.49212488375\n",
      "error 4 885.3668686152268 911.4355356631593 26.068667047932422\n"
     ]
    },
    {
     "name": "stderr",
     "output_type": "stream",
     "text": [
      "\r",
      "t:  46%|████▋     | 58/125 [00:09<00:11,  5.68it/s, now=None]"
     ]
    },
    {
     "name": "stdout",
     "output_type": "stream",
     "text": [
      "error 1 195.39571985264584 1429.6651268417754\n",
      "error 1 192.63074423005526 444.6738414730136\n",
      "error 4 918.9431415079239 936.0890487174817 17.145907209557755\n"
     ]
    },
    {
     "name": "stderr",
     "output_type": "stream",
     "text": [
      "t:  49%|████▉     | 61/125 [00:10<00:11,  5.57it/s, now=None]"
     ]
    },
    {
     "name": "stdout",
     "output_type": "stream",
     "text": [
      "error 1 197.3752494058208 471.8582469900504\n",
      "error 4 903.4070075181663 923.8894432934354 20.482435775269085\n",
      "error 1 207.52055999652376 2318.504226462261\n"
     ]
    },
    {
     "name": "stderr",
     "output_type": "stream",
     "text": [
      "\r",
      "t:  50%|████▉     | 62/125 [00:10<00:11,  5.60it/s, now=None]"
     ]
    },
    {
     "name": "stdout",
     "output_type": "stream",
     "text": [
      "error 1 203.84782601945966 503.3214203933644\n",
      "error 4 899.9516774834506 914.9478358370122 14.996158353561691\n",
      "error 1 224.95876300536207 529.3334576071225\n",
      "error 4 908.2274543440026 929.9057332263725 21.678278882369888\n"
     ]
    },
    {
     "name": "stderr",
     "output_type": "stream",
     "text": [
      "t:  51%|█████     | 64/125 [00:10<00:11,  5.40it/s, now=None]"
     ]
    },
    {
     "name": "stdout",
     "output_type": "stream",
     "text": [
      "error 1 252.06299123125166 561.0750129283279\n",
      "error 4 914.6374456450055 944.6644059637538 30.026960318748195\n"
     ]
    },
    {
     "name": "stderr",
     "output_type": "stream",
     "text": [
      "\r",
      "t:  52%|█████▏    | 65/125 [00:10<00:12,  4.69it/s, now=None]"
     ]
    },
    {
     "name": "stdout",
     "output_type": "stream",
     "text": [
      "error 4 919.8598528799536 959.0306472157752 39.17079433582161\n",
      "error 1 345.1178437689906 3370.0159106647366\n",
      "error 4 851.0143493350802 973.926763203012 122.91241386793186\n"
     ]
    },
    {
     "name": "stderr",
     "output_type": "stream",
     "text": [
      "t:  54%|█████▎    | 67/125 [00:11<00:11,  5.05it/s, now=None]"
     ]
    },
    {
     "name": "stdout",
     "output_type": "stream",
     "text": [
      "error 1 451.32840763783054 3198.57828614777\n",
      "error 4 852.3963371958846 984.1516877792617 131.75535058337704\n",
      "error 1 532.3087147191727 4106.0110261679665\n",
      "error 4 845.7364666692506 985.9629866767718 140.2265200075213\n"
     ]
    },
    {
     "name": "stderr",
     "output_type": "stream",
     "text": [
      "t:  57%|█████▋    | 71/125 [00:12<00:11,  4.78it/s, now=None]"
     ]
    },
    {
     "name": "stdout",
     "output_type": "stream",
     "text": [
      "error 1 781.3217696204592 3892.6351345601634\n",
      "error 4 893.4733900180654 1024.982377168664 131.50898715059856\n",
      "error 1 1022.8520739216934 12313.221521470708\n",
      "error 4 923.3881701655381 1061.7824546325714 138.39428446703332\n"
     ]
    },
    {
     "name": "stderr",
     "output_type": "stream",
     "text": [
      "\r",
      "t:  58%|█████▊    | 72/125 [00:12<00:10,  5.01it/s, now=None]"
     ]
    },
    {
     "name": "stdout",
     "output_type": "stream",
     "text": [
      "error 1 2850.431552781494 8454.724757159416\n",
      "error 4 955.0238207346895 1086.2035888830833 131.17976814839383\n"
     ]
    },
    {
     "name": "stderr",
     "output_type": "stream",
     "text": [
      "\r",
      "t:  58%|█████▊    | 73/125 [00:12<00:11,  4.69it/s, now=None]"
     ]
    },
    {
     "name": "stdout",
     "output_type": "stream",
     "text": [
      "error 1 4757.79034423041 653.8194710581334\n",
      "error 4 1046.6594392669563 1095.0749414457723 48.41550217881608\n"
     ]
    },
    {
     "name": "stderr",
     "output_type": "stream",
     "text": [
      "\r",
      "t:  59%|█████▉    | 74/125 [00:12<00:10,  4.66it/s, now=None]"
     ]
    },
    {
     "name": "stdout",
     "output_type": "stream",
     "text": [
      "error 1 4881.858695206105 355.61190808742737\n",
      "error 4 1140.689380002782 1111.0876740959739 -29.60170590680816\n",
      "error 1 6092.090765275784 231.5539535519689\n",
      "error 2 720.6625470305848 1106.0350818684697 385.37253483788476\n",
      "error 4 1247.9829718063927 1123.1802381324962 -124.80273367389638\n"
     ]
    },
    {
     "name": "stderr",
     "output_type": "stream",
     "text": [
      "t:  61%|██████    | 76/125 [00:13<00:09,  4.99it/s, now=None]"
     ]
    },
    {
     "name": "stdout",
     "output_type": "stream",
     "text": [
      "error 1 89681.43682550825 172.7490824415384\n",
      "error 2 735.1886219300964 1122.2133095806032 387.0246876505068\n",
      "error 4 1355.5917651295376 1132.1873514452527 -223.40441368428498\n",
      "error 1 7234.4498338171015 141.09061202978728\n",
      "error 2 751.2967745158054 1139.8271217515437 388.5303472357383\n",
      "error 4 1456.2219109191112 1143.903079318145 -312.31883160096623\n"
     ]
    },
    {
     "name": "stderr",
     "output_type": "stream",
     "text": [
      "t:  62%|██████▏   | 78/125 [00:13<00:08,  5.27it/s, now=None]"
     ]
    },
    {
     "name": "stdout",
     "output_type": "stream",
     "text": [
      "error 1 6485.482845722161 133.76492912257575\n",
      "error 2 799.8785460598364 1159.3303394150958 359.4517933552594\n",
      "error 4 1502.1656963534083 1157.6592307975138 -344.50646555589435\n"
     ]
    },
    {
     "name": "stderr",
     "output_type": "stream",
     "text": [
      "\r",
      "t:  63%|██████▎   | 79/125 [00:13<00:09,  4.65it/s, now=None]"
     ]
    },
    {
     "name": "stdout",
     "output_type": "stream",
     "text": [
      "error 1 4799.531994517223 123.60034942740359\n",
      "error 2 849.4779838912381 1179.0447787299588 329.56679483872074\n",
      "error 4 1548.2792609917328 1167.7741039747275 -380.5051570170053\n"
     ]
    },
    {
     "name": "stderr",
     "output_type": "stream",
     "text": [
      "\r",
      "t:  64%|██████▍   | 80/125 [00:14<00:10,  4.50it/s, now=None]"
     ]
    },
    {
     "name": "stdout",
     "output_type": "stream",
     "text": [
      "error 1 1505.0071676586542 146.72193258490063\n",
      "error 2 892.8163760635118 1192.7967119709197 299.9803359074078\n",
      "error 4 1489.328856170272 1185.6735460975906 -303.65531007268135\n",
      "error 1 1762.84422417291 133.16007524406686\n",
      "error 2 923.9182982105337 1189.6476873123397 265.729389101806\n",
      "error 4 1520.5081696448588 1184.7492973390015 -335.7588723058574\n"
     ]
    },
    {
     "name": "stderr",
     "output_type": "stream",
     "text": [
      "t:  66%|██████▌   | 82/125 [00:14<00:08,  5.00it/s, now=None]"
     ]
    },
    {
     "name": "stdout",
     "output_type": "stream",
     "text": [
      "error 1 1380.4954261943071 158.42967016433823\n",
      "error 2 954.5931281207422 1188.364985551692 233.77185743094975\n",
      "error 4 1452.5057157037677 1187.788320389976 -264.7173953137918\n",
      "error 1 1495.7428996374526 186.8971356298196\n",
      "error 2 964.1600133580234 1165.8204457818895 201.66043242386604\n",
      "error 4 1360.9110371941633 1155.4368449999167 -205.4741921942465\n"
     ]
    },
    {
     "name": "stderr",
     "output_type": "stream",
     "text": [
      "t:  67%|██████▋   | 84/125 [00:14<00:08,  4.96it/s, now=None]"
     ]
    },
    {
     "name": "stdout",
     "output_type": "stream",
     "text": [
      "error 1 1546.3010971118454 228.79014493023516\n",
      "error 2 968.6106989736193 1139.4193467308676 170.80864775724837\n",
      "error 4 1265.4954873492666 1116.4039243157579 -149.09156303350866\n"
     ]
    },
    {
     "name": "stderr",
     "output_type": "stream",
     "text": [
      "\r",
      "t:  68%|██████▊   | 85/125 [00:15<00:08,  4.88it/s, now=None]"
     ]
    },
    {
     "name": "stdout",
     "output_type": "stream",
     "text": [
      "error 1 2074.3937635665516 332.9991303995268\n",
      "error 2 970.4595983944712 1112.859364147347 142.3997657528757\n",
      "error 4 1159.9950999853652 1084.1252337720002 -75.86986621336492\n"
     ]
    },
    {
     "name": "stderr",
     "output_type": "stream",
     "text": [
      "\r",
      "t:  69%|██████▉   | 86/125 [00:15<00:08,  4.87it/s, now=None]"
     ]
    },
    {
     "name": "stdout",
     "output_type": "stream",
     "text": [
      "error 1 4817.581411031509 1225.7469548989175\n",
      "error 2 942.810233357438 1086.8065268639464 143.9962935065083\n",
      "error 4 1006.4963853760074 1055.7902876763096 49.29390230030218\n",
      "error 1 6625.113478217802 1029.3878695042706\n",
      "error 2 915.0662988503015 1059.8166837623428 144.75038491204134\n",
      "error 4 868.921790023325 1028.0563254538727 159.13453543054766\n"
     ]
    },
    {
     "name": "stderr",
     "output_type": "stream",
     "text": [
      "t:  70%|███████   | 88/125 [00:15<00:07,  4.91it/s, now=None]"
     ]
    },
    {
     "name": "stdout",
     "output_type": "stream",
     "text": [
      "error 1 2962.046969872732 513.3918939082021\n",
      "error 2 912.0033893762404 1031.2431546179266 119.23976524168616\n",
      "error 4 913.7727549190478 986.2824706733985 72.50971575435078\n",
      "error 1 1399.0970361531797 199.27160019336344\n",
      "error 2 911.3232225665895 1002.1295624975986 90.80633993100916\n",
      "error 4 973.2294074991179 953.4628479041079 -19.766559595009948\n"
     ]
    },
    {
     "name": "stderr",
     "output_type": "stream",
     "text": [
      "t:  72%|███████▏  | 90/125 [00:16<00:06,  5.10it/s, now=None]"
     ]
    },
    {
     "name": "stdout",
     "output_type": "stream",
     "text": [
      "error 1 955.5582801582708 212.66900337827607\n",
      "error 2 857.3071566170802 977.7275997956219 120.4204431785417\n",
      "error 4 900.8771519487115 916.1893513578337 15.312199409122297\n"
     ]
    },
    {
     "name": "stderr",
     "output_type": "stream",
     "text": [
      "\r",
      "t:  73%|███████▎  | 91/125 [00:16<00:07,  4.85it/s, now=None]"
     ]
    },
    {
     "name": "stdout",
     "output_type": "stream",
     "text": [
      "error 1 1111.5877095794917 220.63620258672557\n",
      "error 2 806.7162881066322 959.0329657606455 152.3166776540134\n",
      "error 4 847.6149950903596 895.5805314948636 47.965536404504036\n"
     ]
    },
    {
     "name": "stderr",
     "output_type": "stream",
     "text": [
      "\r",
      "t:  74%|███████▎  | 92/125 [00:16<00:07,  4.57it/s, now=None]"
     ]
    },
    {
     "name": "stdout",
     "output_type": "stream",
     "text": [
      "error 1 949.8126734279215 230.6670674037092\n",
      "error 2 749.3269904756403 932.5303628341168 183.20337235847654\n"
     ]
    },
    {
     "name": "stderr",
     "output_type": "stream",
     "text": [
      "t:  75%|███████▌  | 94/125 [00:16<00:06,  4.66it/s, now=None]"
     ]
    },
    {
     "name": "stdout",
     "output_type": "stream",
     "text": [
      "error 1 906.9474743956716 242.62466280432696\n",
      "error 1 836.416546375761 158.5064119267698\n",
      "error 4 864.9966634099994 876.4097519857281 11.413088575728647\n"
     ]
    },
    {
     "name": "stderr",
     "output_type": "stream",
     "text": [
      "\r",
      "t:  76%|███████▌  | 95/125 [00:17<00:06,  4.94it/s, now=None]"
     ]
    },
    {
     "name": "stdout",
     "output_type": "stream",
     "text": [
      "error 1 880.1853169729956 159.741215710858\n",
      "error 4 842.961843315517 878.9326896297383 35.97084631422133\n",
      "error 1 916.0227987004056 143.5334980727476\n",
      "error 4 870.0811902545403 882.9321982827362 12.851008028195912\n"
     ]
    },
    {
     "name": "stderr",
     "output_type": "stream",
     "text": [
      "t:  78%|███████▊  | 97/125 [00:17<00:05,  5.19it/s, now=None]"
     ]
    },
    {
     "name": "stdout",
     "output_type": "stream",
     "text": [
      "error 1 1021.3428476064762 135.69691570994567\n",
      "error 4 887.8544990899205 887.3673721932655 -0.48712689665501896\n"
     ]
    },
    {
     "name": "stderr",
     "output_type": "stream",
     "text": [
      "\r",
      "t:  78%|███████▊  | 98/125 [00:17<00:06,  4.36it/s, now=None]"
     ]
    },
    {
     "name": "stdout",
     "output_type": "stream",
     "text": [
      "error 1 1137.8892191401933 255.8243260772277\n"
     ]
    },
    {
     "name": "stderr",
     "output_type": "stream",
     "text": [
      "t:  81%|████████  | 101/125 [00:18<00:04,  5.15it/s, now=None]"
     ]
    },
    {
     "name": "stdout",
     "output_type": "stream",
     "text": [
      "error 1 1253.942921122408 566.4151832568795\n",
      "error 1 895.0899296503387 328.90972949465726\n"
     ]
    },
    {
     "name": "stderr",
     "output_type": "stream",
     "text": [
      "\r",
      "t:  82%|████████▏ | 102/125 [00:18<00:04,  5.11it/s, now=None]"
     ]
    },
    {
     "name": "stdout",
     "output_type": "stream",
     "text": [
      "error 1 720.0851500565259 239.36885693927485\n"
     ]
    },
    {
     "name": "stderr",
     "output_type": "stream",
     "text": [
      "\r",
      "t:  82%|████████▏ | 103/125 [00:18<00:05,  4.30it/s, now=None]"
     ]
    },
    {
     "name": "stdout",
     "output_type": "stream",
     "text": [
      "error 1 659.6543795131195 199.41238088068144\n"
     ]
    },
    {
     "name": "stderr",
     "output_type": "stream",
     "text": [
      "\r",
      "t:  83%|████████▎ | 104/125 [00:19<00:05,  3.99it/s, now=None]"
     ]
    },
    {
     "name": "stdout",
     "output_type": "stream",
     "text": [
      "error 1 638.1626474106558 126.0078301758626\n"
     ]
    },
    {
     "name": "stderr",
     "output_type": "stream",
     "text": [
      "t:  85%|████████▍ | 106/125 [00:19<00:04,  4.62it/s, now=None]"
     ]
    },
    {
     "name": "stdout",
     "output_type": "stream",
     "text": [
      "error 1 778.3950780450979 115.49554505556654\n",
      "error 1 966.4457478853755 106.68481133602329\n"
     ]
    },
    {
     "name": "stderr",
     "output_type": "stream",
     "text": [
      "\r",
      "t:  86%|████████▌ | 107/125 [00:19<00:03,  4.89it/s, now=None]"
     ]
    },
    {
     "name": "stdout",
     "output_type": "stream",
     "text": [
      "error 1 1263.8619982215132 98.97679210544547\n",
      "error 1 1593.7630720427278 93.47452903308843\n"
     ]
    },
    {
     "name": "stderr",
     "output_type": "stream",
     "text": [
      "t:  88%|████████▊ | 110/125 [00:20<00:03,  4.49it/s, now=None]"
     ]
    },
    {
     "name": "stdout",
     "output_type": "stream",
     "text": [
      "error 1 4540.015916033052 93.4041014110972\n",
      "error 1 4697.616807498331 94.21278197339248\n"
     ]
    },
    {
     "name": "stderr",
     "output_type": "stream",
     "text": [
      "\r",
      "t:  89%|████████▉ | 111/125 [00:20<00:02,  4.87it/s, now=None]"
     ]
    },
    {
     "name": "stdout",
     "output_type": "stream",
     "text": [
      "error 1 1304.9335614371141 94.55197767219545\n",
      "error 1 765.5621979780944 95.01912936853623\n"
     ]
    },
    {
     "name": "stderr",
     "output_type": "stream",
     "text": [
      "t:  90%|█████████ | 113/125 [00:21<00:02,  4.79it/s, now=None]"
     ]
    },
    {
     "name": "stdout",
     "output_type": "stream",
     "text": [
      "error 1 536.1016046819756 93.35812138888163\n"
     ]
    },
    {
     "name": "stderr",
     "output_type": "stream",
     "text": [
      "\r",
      "t:  91%|█████████ | 114/125 [00:21<00:02,  4.70it/s, now=None]"
     ]
    },
    {
     "name": "stdout",
     "output_type": "stream",
     "text": [
      "error 1 219.48657230483315 90.20715613982031\n",
      "error 4 948.4265516652911 1495.5174428376654 547.0908911723743\n"
     ]
    },
    {
     "name": "stderr",
     "output_type": "stream",
     "text": [
      "\r",
      "t:  92%|█████████▏| 115/125 [00:21<00:02,  3.79it/s, now=None]"
     ]
    },
    {
     "name": "stdout",
     "output_type": "stream",
     "text": [
      "error 4 1011.3271859918102 1516.4333565034535 505.10617051164326\n"
     ]
    },
    {
     "name": "stderr",
     "output_type": "stream",
     "text": [
      "\r",
      "t:  93%|█████████▎| 116/125 [00:21<00:02,  3.91it/s, now=None]"
     ]
    },
    {
     "name": "stdout",
     "output_type": "stream",
     "text": [
      "error 4 1083.4856231957758 1549.2973682479699 465.81174505219406\n"
     ]
    },
    {
     "name": "stderr",
     "output_type": "stream",
     "text": [
      "\r",
      "t:  94%|█████████▎| 117/125 [00:22<00:02,  3.81it/s, now=None]"
     ]
    },
    {
     "name": "stdout",
     "output_type": "stream",
     "text": [
      "error 4 1158.2308628351152 1590.4281923005778 432.19732946546253\n"
     ]
    },
    {
     "name": "stderr",
     "output_type": "stream",
     "text": [
      "\r",
      "t:  94%|█████████▍| 118/125 [00:22<00:01,  3.72it/s, now=None]"
     ]
    },
    {
     "name": "stdout",
     "output_type": "stream",
     "text": [
      "error 4 1228.8157998615748 1628.6499153842963 399.8341155227216\n"
     ]
    },
    {
     "name": "stderr",
     "output_type": "stream",
     "text": [
      "\r",
      "t:  95%|█████████▌| 119/125 [00:22<00:01,  3.77it/s, now=None]"
     ]
    },
    {
     "name": "stdout",
     "output_type": "stream",
     "text": [
      "error 1 56.20502515679102 127.60869152225733\n",
      "error 4 1297.3148189817011 1664.174124714526 366.8593057328249\n"
     ]
    },
    {
     "name": "stderr",
     "output_type": "stream",
     "text": [
      "\r",
      "t:  96%|█████████▌| 120/125 [00:22<00:01,  3.65it/s, now=None]"
     ]
    },
    {
     "name": "stdout",
     "output_type": "stream",
     "text": [
      "error 1 50.10242035106082 141.16383400525152\n",
      "error 4 1364.8968653807722 1701.8242611714275 336.9273957906553\n"
     ]
    },
    {
     "name": "stderr",
     "output_type": "stream",
     "text": [
      "\r",
      "t:  97%|█████████▋| 121/125 [00:23<00:01,  3.77it/s, now=None]"
     ]
    },
    {
     "name": "stdout",
     "output_type": "stream",
     "text": [
      "error 1 49.52268404805952 157.9791960095974\n",
      "error 4 1362.1827089846636 1671.2524767594211 309.06976777475757\n"
     ]
    },
    {
     "name": "stderr",
     "output_type": "stream",
     "text": [
      "\r",
      "t:  98%|█████████▊| 122/125 [00:23<00:00,  3.73it/s, now=None]"
     ]
    },
    {
     "name": "stdout",
     "output_type": "stream",
     "text": [
      "error 1 48.7253222397829 175.489652515673\n",
      "error 4 1354.045299060108 1642.6331533427299 288.58785428262183\n"
     ]
    },
    {
     "name": "stderr",
     "output_type": "stream",
     "text": [
      "\r",
      "t:  98%|█████████▊| 123/125 [00:23<00:00,  3.95it/s, now=None]"
     ]
    },
    {
     "name": "stdout",
     "output_type": "stream",
     "text": [
      "error 1 47.611659428862 188.5017430244318\n",
      "error 4 1342.4490209120972 1619.6829907493116 277.23396983721443\n"
     ]
    },
    {
     "name": "stderr",
     "output_type": "stream",
     "text": [
      "\r",
      "t:  99%|█████████▉| 124/125 [00:23<00:00,  3.98it/s, now=None]"
     ]
    },
    {
     "name": "stdout",
     "output_type": "stream",
     "text": [
      "error 1 67.8340913227055 200.86621578845435\n",
      "error 4 900.2905242890745 1171.940353539426 271.64982925035156\n"
     ]
    },
    {
     "name": "stderr",
     "output_type": "stream",
     "text": [
      "\r",
      "t: 100%|██████████| 125/125 [00:24<00:00,  3.67it/s, now=None]"
     ]
    },
    {
     "name": "stdout",
     "output_type": "stream",
     "text": [
      "error 1 77.96175906097122 187.12466661134246\n"
     ]
    },
    {
     "name": "stderr",
     "output_type": "stream",
     "text": [
      "\r",
      "                                                              "
     ]
    }
   ],
   "source": [
    "white_output = 'harder_challenge_video_out.mp4'\n",
    "clip1 = VideoFileClip(\"harder_challenge_video.mp4\")\n",
    "white_clip = clip1.fl_image(Frame(mtx, dist, M, M_inv, img_size)).subclip(0,5) #NOTE: this function expects color images!!\n",
    "%time white_clip.write_videofile(white_output, audio=False)"
   ]
  },
  {
   "cell_type": "code",
   "execution_count": null,
   "metadata": {},
   "outputs": [],
   "source": [
    "HTML(\"\"\"\n",
    "<video width=\"960\" height=\"540\" controls>\n",
    "  <source src=\"{0}\">\n",
    "</video>\n",
    "\"\"\".format(white_output))"
   ]
  },
  {
   "cell_type": "code",
   "execution_count": null,
   "metadata": {},
   "outputs": [],
   "source": []
  },
  {
   "cell_type": "code",
   "execution_count": null,
   "metadata": {},
   "outputs": [],
   "source": []
  },
  {
   "cell_type": "code",
   "execution_count": null,
   "metadata": {},
   "outputs": [],
   "source": []
  }
 ],
 "metadata": {
  "anaconda-cloud": {},
  "kernelspec": {
   "display_name": "Python 3",
   "language": "python",
   "name": "python3"
  },
  "language_info": {
   "codemirror_mode": {
    "name": "ipython",
    "version": 3
   },
   "file_extension": ".py",
   "mimetype": "text/x-python",
   "name": "python",
   "nbconvert_exporter": "python",
   "pygments_lexer": "ipython3",
   "version": "3.8.2"
  }
 },
 "nbformat": 4,
 "nbformat_minor": 4
}
