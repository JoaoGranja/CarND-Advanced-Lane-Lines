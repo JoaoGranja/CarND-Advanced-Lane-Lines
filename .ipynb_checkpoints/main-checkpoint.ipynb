{
 "cells": [
  {
   "cell_type": "markdown",
   "metadata": {},
   "source": [
    "# Advanced Lane Finding Project\n",
    "\n",
    "The goals / steps of this project are the following:\n",
    "\n",
    "* Compute the camera calibration matrix and distortion coefficients given a set of chessboard images.\n",
    "* Apply a distortion correction to raw images.\n",
    "* Use color transforms, gradients, etc., to create a thresholded binary image.\n",
    "* Apply a perspective transform to rectify binary image (\"birds-eye view\").\n",
    "* Detect lane pixels and fit to find the lane boundary.\n",
    "* Determine the curvature of the lane and vehicle position with respect to center.\n",
    "* Warp the detected lane boundaries back onto the original image.\n",
    "* Output visual display of the lane boundaries and numerical estimation of lane curvature and vehicle position.\n",
    "\n",
    "---"
   ]
  },
  {
   "cell_type": "markdown",
   "metadata": {},
   "source": [
    "## Import Packages"
   ]
  },
  {
   "cell_type": "code",
   "execution_count": 1,
   "metadata": {
    "ExecuteTime": {
     "end_time": "2020-05-14T13:19:27.806418Z",
     "start_time": "2020-05-14T13:19:26.028101Z"
    }
   },
   "outputs": [],
   "source": [
    "# Importing some useful packages\n",
    "import numpy as np\n",
    "import cv2\n",
    "import glob\n",
    "import matplotlib.pyplot as plt\n",
    "import matplotlib.image as mpimg\n",
    "import os\n",
    "from helper_functions import *\n",
    "import pickle\n",
    "\n",
    "#Import everything needed to edit/save/watch video clips\n",
    "from moviepy.editor import VideoFileClip\n",
    "from IPython.display import HTML\n",
    "%matplotlib qt\n"
   ]
  },
  {
   "cell_type": "markdown",
   "metadata": {},
   "source": [
    "## 1 - Compute the camera calibration using chessboard images"
   ]
  },
  {
   "cell_type": "code",
   "execution_count": 2,
   "metadata": {},
   "outputs": [],
   "source": [
    "# define the name of the output directory to be created\n",
    "output_path = \"output_images/camera_calibration\"\n",
    "\n",
    "# Create test_images_output Directory if doesn't exist\n",
    "if not os.path.exists(output_path):\n",
    "    os.mkdir(output_path)"
   ]
  },
  {
   "cell_type": "code",
   "execution_count": 3,
   "metadata": {
    "ExecuteTime": {
     "end_time": "2020-05-14T13:19:31.648297Z",
     "start_time": "2020-05-14T13:19:27.811639Z"
    }
   },
   "outputs": [],
   "source": [
    "# To avoid running the calibration step everytime, in case the camera coefficients already exist, just load it\n",
    "if os.path.exists('camera_coeff.pkl'):\n",
    "    # Getting back the values:\n",
    "    with open('camera_coeff.pkl', 'rb') as f:  \n",
    "        mtx, dist = pickle.load(f)\n",
    "    \n",
    "else:  \n",
    "    # Prepare object points, like (0,0,0), (1,0,0), (2,0,0) ....,(9,6,0)\n",
    "    objp = np.zeros((9*6,3), np.float32)\n",
    "    objp[:,:2] = np.mgrid[0:9,0:6].T.reshape(-1,2)\n",
    "\n",
    "    # Arrays to store object points and image points from all the images.\n",
    "    objpoints = [] # 3d points in real world space\n",
    "    imgpoints = [] # 2d points in image plane.\n",
    "\n",
    "    # Make a list of calibration images\n",
    "    images = glob.glob('camera_cal/calibration*.jpg')\n",
    "\n",
    "    # Step through the list and search for chessboard corners\n",
    "    for fname in images:\n",
    "\n",
    "        # Read the image\n",
    "        img = cv2.imread(fname)\n",
    "\n",
    "        # Convert the image to gray scale\n",
    "        gray = cv2.cvtColor(img,cv2.COLOR_BGR2GRAY)\n",
    "\n",
    "        # Find the chessboard 54 (9*6) corners \n",
    "        ret, corners = cv2.findChessboardCorners(gray, (9,6),None)\n",
    "\n",
    "        # If found, append object points, image points\n",
    "        if ret == True:\n",
    "            objpoints.append(objp)\n",
    "            imgpoints.append(corners)\n",
    "\n",
    "            # Draw and display the corners\n",
    "            img = cv2.drawChessboardCorners(img, (9,6), corners, ret)\n",
    "            #cv2.imshow('img',img)\n",
    "            #cv2.waitKey(500)\n",
    "\n",
    "    #cv2.destroyAllWindows()\n",
    "\n",
    "    # Perform the camera calibration\n",
    "    ret, mtx, dist, rvecs, tvecs = cv2.calibrateCamera(objpoints, imgpoints, gray.shape[::-1], None, None) \n",
    "\n",
    "    # Store the camera calibration coefficients for future use\n",
    "    with open('camera_coeff.pkl', 'wb') as f:  \n",
    "        pickle.dump([mtx, dist], f)\n",
    "        \n",
    "    # Perform distortion correction on chessboard images to verify the process is doing well\n",
    "\n",
    "    # Step through the list and undistort each image\n",
    "    for fname in images:\n",
    "\n",
    "        # Read the image\n",
    "        image = mpimg.imread(fname)\n",
    "\n",
    "        # Undistort the image an display it \n",
    "        undist = cv2.undistort(image, mtx, dist, None, mtx)\n",
    "\n",
    "        # Save images on output_path Directory\n",
    "        f, (ax1, ax2) = plt.subplots(1, 2, figsize=(24, 9))\n",
    "        f.tight_layout()\n",
    "\n",
    "        ax1.imshow(image)\n",
    "        ax1.set_title('Original Image', fontsize=30)\n",
    "\n",
    "        ax2.imshow(undist)\n",
    "        ax2.set_title('Undistorted Image', fontsize=30)\n",
    "        plt.subplots_adjust(left=0.1, right=0.9, top=1, bottom=0, wspace = 0.1)\n",
    "\n",
    "\n",
    "        plt.savefig(os.path.join(output_path, \"undist_\" + os.path.basename(fname)))\n",
    "        plt.close()"
   ]
  },
  {
   "cell_type": "markdown",
   "metadata": {},
   "source": [
    "## 2 - Build a Lane finding Pipeline\n",
    "The pipeline will be composed by the following steps:\n",
    "\n",
    "1 - Read and apply a distortion correction to raw images\n",
    "\n",
    "2 - Use color transforms, gradients, etc., to create a thresholded binary image\n",
    "\n",
    "3 - Apply a perspective transform to rectify binary image (\"birds-eye view\")\n",
    "\n",
    "4 - Detect lane pixels and fit to find the lane boundary\n",
    "\n",
    "5 - Determine the curvature of the lane and vehicle position with respect to center \n",
    "\n",
    "6 - Warp the detected lane boundaries back onto the original image\n",
    "\n",
    "7 - Output visual display of the lane boundaries and numerical estimation of lane curvature and vehicle position"
   ]
  },
  {
   "cell_type": "code",
   "execution_count": 4,
   "metadata": {},
   "outputs": [],
   "source": [
    "# define the name of the directory to be created\n",
    "output_path = \"output_images/test_images\"\n",
    "\n",
    "# Create test_images_output Directory if doesn't exist\n",
    "if not os.path.exists(output_path):\n",
    "    os.mkdir(output_path)"
   ]
  },
  {
   "cell_type": "code",
   "execution_count": 5,
   "metadata": {},
   "outputs": [],
   "source": [
    "# Get the transform matrix using 4 source and destination points calculated manually looking to \n",
    "# the straight line images\n",
    "\n",
    "src = np.float32([[195, 720],[1125, 720],[578, 460],[705, 460]])\n",
    "dst = np.float32([[350, 720],[950, 720],[350,0],[950,0]])\n",
    "\n",
    "# Get the transform matrix M using the src and dst points\n",
    "M = cv2.getPerspectiveTransform(src, dst)\n",
    "\n",
    "# Get the invert transform matrix M using the src and dst points\n",
    "M_inv = cv2.getPerspectiveTransform(dst, src)\n",
    "        "
   ]
  },
  {
   "cell_type": "code",
   "execution_count": 6,
   "metadata": {},
   "outputs": [],
   "source": [
    "def process_image(original_image, fname, mtx, dist, M, M_inv):\n",
    "    \n",
    "    ## 1 - Apply a distortion correction to the image ##\n",
    "    undist = undistort_image(original_image, mtx, dist)\n",
    "    save_undistorted_images(output_path, fname, original_image, undist)\n",
    "    \n",
    "\n",
    "    ## 2 - Use color transforms, gradients, etc., to create a thresholded binary image ##\n",
    "    ksize = 3 # Sobel kernel size \n",
    "\n",
    "    # Apply each of the gradient thresholding functions\n",
    "    gradx = abs_sobel_thresh(undist, orient='x', sobel_kernel=ksize, thresh=(30, 200))\n",
    "    grady = abs_sobel_thresh(undist, orient='y', sobel_kernel=ksize, thresh=(50, 200))\n",
    "    mag_binary = mag_thresh(undist, sobel_kernel=ksize, mag_thresh=(30, 200))\n",
    "    dir_binary = dir_threshold(undist, sobel_kernel=ksize, thresh=(0.7, 1.3))\n",
    "\n",
    "    # Apply each of the color thresholding functions\n",
    "    colors_binary = hls_select(undist, s_thresh=(200, 255), v_thresh=(230, 255))\n",
    "\n",
    "    # Combine all of the thresholding binaries\n",
    "    binary_image = np.zeros_like(gradx)\n",
    "    #binary_image[(colors_binary == 1) | ((mag_binary == 1) & (dir_binary == 1)) | ((gradx == 1) & (grady == 1)) ] = 1\n",
    "    binary_image[(colors_binary == 1) | (gradx == 1) ] = 1\n",
    "   \n",
    "    save_binary_images(output_path, fname, undist, binary_image)\n",
    "    \n",
    "    # 3 - Apply a perspective transform to rectify binary image (\"birds-eye view\") ##\n",
    "\n",
    "    # Warp the image to a top-down view\n",
    "    img_size = (undist.shape[1], undist.shape[0])\n",
    "    binary_warped = cv2.warpPerspective(binary_image, M, img_size, flags=cv2.INTER_LINEAR)\n",
    "    \n",
    "    warped = cv2.warpPerspective(undist, M, img_size, flags=cv2.INTER_LINEAR)\n",
    "    save_warped_images(output_path, fname, binary_warped, warped)\n",
    "\n",
    "    ## 4 - Detect lane pixels and fit to find the lane boundary ##\n",
    "    \n",
    "    # Create a sliding window and find out which activated pixels fall into the window\n",
    "    out_img, left_fit, right_fit, left_fitx, right_fitx, ploty = fit_polynomial(binary_warped)\n",
    "\n",
    "    ## 5 - Determine the curvature of the lane and vehicle position with respect to center ##\n",
    "\n",
    "    radius_curvature = measure_curvature_real(out_img.shape[0], left_fit, right_fit)\n",
    "\n",
    "    rel_vehicle_position = measure_rel_vehicle_position(out_img.shape, left_fit, right_fit)\n",
    "\n",
    "    ## 6 - Warp the detected lane boundaries back onto the original image ##\n",
    "\n",
    "    # Create an image to draw the lines on\n",
    "    warp_zero = np.zeros_like(binary_warped).astype(np.uint8)\n",
    "    color_warp = np.dstack((warp_zero, warp_zero, warp_zero))\n",
    "\n",
    "    # Recast the x and y points into usable format for cv2.fillPoly()\n",
    "    pts_left = np.array([np.transpose(np.vstack([left_fitx, ploty]))])\n",
    "    pts_right = np.array([np.flipud(np.transpose(np.vstack([right_fitx, ploty])))])\n",
    "    pts = np.hstack((pts_left, pts_right))\n",
    "\n",
    "    # Draw the lane onto the warped blank image\n",
    "    cv2.fillPoly(color_warp, np.int_([pts]), (0,255, 0))\n",
    "\n",
    "    # Warp the blank back to original image space using inverse perspective matrix (Minv)\n",
    "    newwarp = cv2.warpPerspective(color_warp, M_inv, img_size) \n",
    "\n",
    "    ## 7 - Output visual display of the lane boundaries and numerical estimation of lane curvature and vehicle position ##\n",
    "    # Combine the result with the original image\n",
    "    result = cv2.addWeighted(undist, 1, newwarp, 0.3, 0)\n",
    "    result = cv2.addWeighted(original_image, 1, newwarp, 0.3, 0)\n",
    "\n",
    "    save_lane_lines_image(output_path, fname, out_img)\n",
    "\n",
    "    print(\"Radius curvature = \", radius_curvature, 'm')\n",
    "    print(\"Relative vehicle position with respect to the line lane center = \",rel_vehicle_position, 'm')\n",
    "\n",
    "    save_pipeline_image(output_path, fname, result, radius_curvature, rel_vehicle_position )"
   ]
  },
  {
   "cell_type": "code",
   "execution_count": 7,
   "metadata": {
    "ExecuteTime": {
     "end_time": "2020-05-14T13:26:17.757281Z",
     "start_time": "2020-05-14T13:26:17.693455Z"
    }
   },
   "outputs": [
    {
     "name": "stdout",
     "output_type": "stream",
     "text": [
      "----------------------- test_images/test6.jpg -----------------------\n",
      "0.00016542491679524395 0.00012276055247134842 0.00020808928111913947\n",
      "-0.2891408336325619 -0.28976040615810417 -0.2885212611070196\n",
      "Radius curvature =  851 m\n",
      "Relative vehicle position with respect to the line lane center =  0.32 m\n",
      "\n",
      "\n",
      "----------------------- test_images/test5.jpg -----------------------\n",
      "0.00020327765093891177 0.000305158514703468 0.00010139678717435554\n",
      "-0.2546445405149484 -0.31875292710493036 -0.1905361539249664\n",
      "Radius curvature =  692 m\n",
      "Relative vehicle position with respect to the line lane center =  0.08 m\n",
      "\n",
      "\n",
      "----------------------- test_images/test4.jpg -----------------------\n",
      "0.00015297356171116693 0.00012817177214347183 0.00017777535127886203\n",
      "-0.19505993478823255 -0.15968026405866786 -0.23043960551779724\n",
      "Radius curvature =  920 m\n",
      "Relative vehicle position with respect to the line lane center =  0.34 m\n",
      "\n",
      "\n",
      "----------------------- test_images/test1.jpg -----------------------\n",
      "0.0001216857448564415 0.00015288388354166331 9.048760617121968e-05\n",
      "-0.19615256090581595 -0.20154638786952428 -0.1907587339421076\n",
      "Radius curvature =  1156 m\n",
      "Relative vehicle position with respect to the line lane center =  0.2 m\n",
      "\n",
      "\n",
      "----------------------- test_images/test3.jpg -----------------------\n",
      "0.00013799903988216618 0.00011163671326739424 0.0001643613664969381\n",
      "-0.2718751147932552 -0.27321679087150713 -0.27053343871500335\n",
      "Radius curvature =  1020 m\n",
      "Relative vehicle position with respect to the line lane center =  0.17 m\n",
      "\n",
      "\n",
      "----------------------- test_images/test2.jpg -----------------------\n",
      "-0.00019660497717905687 -0.00020631525959201004 -0.00018689469476610367\n",
      "0.27463696452332226 0.2748946740036222 0.2743792550430223\n",
      "Radius curvature =  715 m\n",
      "Relative vehicle position with respect to the line lane center =  0.36 m\n",
      "\n",
      "\n",
      "----------------------- test_images/straight_lines2.jpg -----------------------\n",
      "2.0324685215433077e-05 4.389610952301156e-05 -3.246739092145406e-06\n",
      "-0.024677434789629603 -0.03369241041531276 -0.015662459163946443\n",
      "Radius curvature =  6925 m\n",
      "Relative vehicle position with respect to the line lane center =  0.07 m\n",
      "\n",
      "\n",
      "----------------------- test_images/straight_lines1.jpg -----------------------\n",
      "-2.004499986742807e-06 -2.1083523359138133e-05 1.707452338565252e-05\n",
      "-0.0008183340175923395 0.0029934836568343655 -0.004630151692019044\n",
      "Radius curvature =  70224 m\n",
      "Relative vehicle position with respect to the line lane center =  0.05 m\n",
      "\n",
      "\n"
     ]
    }
   ],
   "source": [
    "%matplotlib inline\n",
    "\n",
    "# Make a list of test images\n",
    "images = glob.glob('test_images/*.jpg')\n",
    "images = []\n",
    "\n",
    "# Step through the list, read the image and apply the lane finding pipeline\n",
    "for fname in images:\n",
    "\n",
    "    print(\"-----------------------\", fname, \"-----------------------\")\n",
    "\n",
    "    # Read the image\n",
    "    img = mpimg.imread(fname)\n",
    "    img_size = img.shape\n",
    "\n",
    "    process_image(img, fname, mtx, dist, M, M_inv)\n",
    "\n",
    "    print('\\n')"
   ]
  },
  {
   "cell_type": "markdown",
   "metadata": {},
   "source": [
    "## 3 -  Test the pipeline on Videos"
   ]
  },
  {
   "cell_type": "code",
   "execution_count": 12,
   "metadata": {
    "ExecuteTime": {
     "end_time": "2020-05-14T13:44:25.527191Z",
     "start_time": "2020-05-14T13:44:25.087142Z"
    }
   },
   "outputs": [],
   "source": [
    "from frame import *\n",
    "img_size = (720,1280)"
   ]
  },
  {
   "cell_type": "code",
   "execution_count": 13,
   "metadata": {},
   "outputs": [
    {
     "name": "stderr",
     "output_type": "stream",
     "text": [
      "t:   2%|▏         | 2/125 [00:00<00:10, 11.30it/s, now=None]"
     ]
    },
    {
     "name": "stdout",
     "output_type": "stream",
     "text": [
      "Moviepy - Building video project_video_out.mp4.\n",
      "Moviepy - Writing video project_video_out.mp4\n",
      "\n"
     ]
    },
    {
     "name": "stderr",
     "output_type": "stream",
     "text": [
      "t:  13%|█▎        | 16/125 [00:02<00:16,  6.81it/s, now=None]"
     ]
    },
    {
     "name": "stdout",
     "output_type": "stream",
     "text": [
      "error 1 1587.3029196524133 713.6051721983468\n",
      "error 1 1756.4676566173441 736.964818251616\n"
     ]
    },
    {
     "name": "stderr",
     "output_type": "stream",
     "text": [
      "t:  14%|█▍        | 18/125 [00:02<00:16,  6.68it/s, now=None]"
     ]
    },
    {
     "name": "stdout",
     "output_type": "stream",
     "text": [
      "error 1 1847.2627865894365 768.0993269925923\n",
      "error 1 1913.4906384248375 795.0881397445207\n"
     ]
    },
    {
     "name": "stderr",
     "output_type": "stream",
     "text": [
      "t:  16%|█▌        | 20/125 [00:02<00:16,  6.56it/s, now=None]"
     ]
    },
    {
     "name": "stdout",
     "output_type": "stream",
     "text": [
      "error 1 1697.9661904371026 826.5902254708947\n"
     ]
    },
    {
     "name": "stderr",
     "output_type": "stream",
     "text": [
      "t:  67%|██████▋   | 84/125 [00:13<00:06,  6.25it/s, now=None]"
     ]
    },
    {
     "name": "stdout",
     "output_type": "stream",
     "text": [
      "error 1 738.4927942315776 1529.2519641950253\n",
      "error 1 734.8223486609976 1652.9203452770155\n"
     ]
    },
    {
     "name": "stderr",
     "output_type": "stream",
     "text": [
      "t:  69%|██████▉   | 86/125 [00:13<00:06,  6.15it/s, now=None]"
     ]
    },
    {
     "name": "stdout",
     "output_type": "stream",
     "text": [
      "error 1 748.1739887704514 1760.6414797102539\n",
      "error 1 770.38439960031 1815.8258879985056\n"
     ]
    },
    {
     "name": "stderr",
     "output_type": "stream",
     "text": [
      "t:  70%|███████   | 88/125 [00:13<00:05,  6.24it/s, now=None]"
     ]
    },
    {
     "name": "stdout",
     "output_type": "stream",
     "text": [
      "error 1 833.3702801255521 1808.5299307515306\n",
      "error 1 838.1777088010369 1696.4852153318702\n"
     ]
    },
    {
     "name": "stderr",
     "output_type": "stream",
     "text": [
      "                                                              \r"
     ]
    },
    {
     "name": "stdout",
     "output_type": "stream",
     "text": [
      "Moviepy - Done !\n",
      "Moviepy - video ready project_video_out.mp4\n",
      "CPU times: user 47.5 s, sys: 8.73 s, total: 56.3 s\n",
      "Wall time: 21.7 s\n"
     ]
    }
   ],
   "source": [
    "white_output = 'project_video_out.mp4'\n",
    "clip1 = VideoFileClip(\"project_video.mp4\")\n",
    "white_clip = clip1.fl_image(Frame(mtx, dist, M, M_inv, img_size)).subclip(0,5)\n",
    "%time white_clip.write_videofile(white_output, audio=False)\n"
   ]
  },
  {
   "cell_type": "code",
   "execution_count": 14,
   "metadata": {},
   "outputs": [
    {
     "data": {
      "text/html": [
       "\n",
       "<video width=\"960\" height=\"540\" controls>\n",
       "  <source src=\"project_video_out.mp4\">\n",
       "</video>\n"
      ],
      "text/plain": [
       "<IPython.core.display.HTML object>"
      ]
     },
     "execution_count": 14,
     "metadata": {},
     "output_type": "execute_result"
    }
   ],
   "source": [
    "HTML(\"\"\"\n",
    "<video width=\"960\" height=\"540\" controls>\n",
    "  <source src=\"{0}\">\n",
    "</video>\n",
    "\"\"\".format(white_output))"
   ]
  },
  {
   "cell_type": "markdown",
   "metadata": {},
   "source": [
    "## 4 - Test the pipeline on Challenge Videos"
   ]
  },
  {
   "cell_type": "code",
   "execution_count": 21,
   "metadata": {},
   "outputs": [
    {
     "name": "stdout",
     "output_type": "stream",
     "text": [
      "953 400\n",
      "Left radius curvature =  8 m Right radius curvature =  24 m\n",
      "Radius curvature =  16 m\n",
      "Relative vehicle position with respect to the line lane center =  0.07 m\n",
      "\n",
      "\n"
     ]
    },
    {
     "data": {
      "image/png": "[encoded data removed]",
      "text/plain": [
       "<Figure size 432x288 with 1 Axes>"
      ]
     },
     "metadata": {
      "needs_background": "light"
     },
     "output_type": "display_data"
    }
   ],
   "source": [
    "# Get the transform matrix using 4 source and destination points calculated looking to the straight line image\n",
    "src = np.float32([[250, 720],[1050, 720],[605, 480],[715, 480]])\n",
    "dst = np.float32([[350, 720],[950, 720],[350,0],[950,0]])\n",
    "\n",
    "# Get the transform matrix M using the src and dst points\n",
    "M_1 = cv2.getPerspectiveTransform(src, dst)\n",
    "\n",
    "# Get the invert transform matrix M using the src and dst points\n",
    "M_inv_1 = cv2.getPerspectiveTransform(dst, src)\n",
    "\n",
    "fname = \"challenge_video.jpg\"\n",
    "\n",
    "# Read the image\n",
    "clip1 = VideoFileClip(\"challenge_video.mp4\")\n",
    "img = clip1.get_frame(130 / clip1.fps) # get frame by index\n",
    "img_size = img.shape\n",
    "\n",
    "process_image(img, fname, mtx, dist, M_1, M_inv_1)\n",
    "\n",
    "print('\\n')"
   ]
  },
  {
   "cell_type": "code",
   "execution_count": 12,
   "metadata": {},
   "outputs": [
    {
     "name": "stderr",
     "output_type": "stream",
     "text": [
      "\r",
      "t:   0%|          | 0/150 [00:00<?, ?it/s, now=None]"
     ]
    },
    {
     "name": "stdout",
     "output_type": "stream",
     "text": [
      "Moviepy - Building video challenge_video_out.mp4.\n",
      "Moviepy - Writing video challenge_video_out.mp4\n",
      "\n"
     ]
    },
    {
     "name": "stderr",
     "output_type": "stream",
     "text": [
      "t:  16%|█▌        | 24/150 [00:05<00:27,  4.55it/s, now=None]"
     ]
    },
    {
     "name": "stdout",
     "output_type": "stream",
     "text": [
      "error 1 599.985795432039 1319.7030454821795\n"
     ]
    },
    {
     "name": "stderr",
     "output_type": "stream",
     "text": [
      "\r",
      "t:  17%|█▋        | 25/150 [00:05<00:28,  4.44it/s, now=None]"
     ]
    },
    {
     "name": "stdout",
     "output_type": "stream",
     "text": [
      "error 1 469.7398799792251 1371.307472985943\n",
      "error 1 400.76836820925666 1344.0986906906405\n"
     ]
    },
    {
     "name": "stderr",
     "output_type": "stream",
     "text": [
      "t:  18%|█▊        | 27/150 [00:06<00:26,  4.72it/s, now=None]"
     ]
    },
    {
     "name": "stdout",
     "output_type": "stream",
     "text": [
      "error 1 338.571305225486 1416.0613589399393\n",
      "error 1 271.4653898201485 1702.7814485876663\n"
     ]
    },
    {
     "name": "stderr",
     "output_type": "stream",
     "text": [
      "t:  19%|█▉        | 29/150 [00:06<00:24,  4.90it/s, now=None]"
     ]
    },
    {
     "name": "stdout",
     "output_type": "stream",
     "text": [
      "error 1 254.11018701059692 1817.6648477504577\n",
      "error 1 256.0495164487467 1768.3695555989802\n"
     ]
    },
    {
     "name": "stderr",
     "output_type": "stream",
     "text": [
      "t:  21%|██        | 31/150 [00:06<00:25,  4.69it/s, now=None]"
     ]
    },
    {
     "name": "stdout",
     "output_type": "stream",
     "text": [
      "error 1 262.55260930969933 1717.8273468498453\n",
      "error 1 273.9554415065398 1497.0167314466278\n"
     ]
    },
    {
     "name": "stderr",
     "output_type": "stream",
     "text": [
      "t:  22%|██▏       | 33/150 [00:07<00:23,  4.88it/s, now=None]"
     ]
    },
    {
     "name": "stdout",
     "output_type": "stream",
     "text": [
      "error 1 308.08934941817813 1304.471017276639\n",
      "error 1 338.4153731720289 1032.681454382469\n"
     ]
    },
    {
     "name": "stderr",
     "output_type": "stream",
     "text": [
      "t:  23%|██▎       | 35/150 [00:07<00:23,  4.98it/s, now=None]"
     ]
    },
    {
     "name": "stdout",
     "output_type": "stream",
     "text": [
      "error 1 402.7722051623054 882.5259971002871\n"
     ]
    },
    {
     "name": "stderr",
     "output_type": "stream",
     "text": [
      "t:  25%|██▍       | 37/150 [00:08<00:22,  5.05it/s, now=None]"
     ]
    },
    {
     "name": "stdout",
     "output_type": "stream",
     "text": [
      "error 1 9965.545727861527 818.4272227223047\n"
     ]
    },
    {
     "name": "stderr",
     "output_type": "stream",
     "text": [
      "t:  26%|██▌       | 39/150 [00:08<00:21,  5.05it/s, now=None]"
     ]
    },
    {
     "name": "stdout",
     "output_type": "stream",
     "text": [
      "error 1 1622.3722529006081 720.6916596273387\n"
     ]
    },
    {
     "name": "stderr",
     "output_type": "stream",
     "text": [
      "\r",
      "t:  27%|██▋       | 40/150 [00:08<00:22,  4.93it/s, now=None]"
     ]
    },
    {
     "name": "stdout",
     "output_type": "stream",
     "text": [
      "error 1 1771.0148494838397 808.9854991581994\n"
     ]
    },
    {
     "name": "stderr",
     "output_type": "stream",
     "text": [
      "t:  28%|██▊       | 42/150 [00:09<00:21,  5.00it/s, now=None]"
     ]
    },
    {
     "name": "stdout",
     "output_type": "stream",
     "text": [
      "error 1 8512.288316972252 1703.2705575990713\n",
      "error 1 82865.76744009543 3187.10402854466\n"
     ]
    },
    {
     "name": "stderr",
     "output_type": "stream",
     "text": [
      "t:  29%|██▉       | 44/150 [00:09<00:21,  4.99it/s, now=None]"
     ]
    },
    {
     "name": "stdout",
     "output_type": "stream",
     "text": [
      "error 1 5166.193213609646 847.8340309616044\n"
     ]
    },
    {
     "name": "stderr",
     "output_type": "stream",
     "text": [
      "\r",
      "t:  30%|███       | 45/150 [00:09<00:21,  4.91it/s, now=None]"
     ]
    },
    {
     "name": "stdout",
     "output_type": "stream",
     "text": [
      "error 1 3756.6210186524736 446.35893331223974\n",
      "error 4 324.00653899652934 911.0574667742525 587.0509277777231\n",
      "error 1 3355.1467795528797 455.1468319923037\n",
      "error 4 356.42341435767185 910.3653875937705 553.9419732360986\n"
     ]
    },
    {
     "name": "stderr",
     "output_type": "stream",
     "text": [
      "t:  32%|███▏      | 48/150 [00:10<00:20,  5.02it/s, now=None]"
     ]
    },
    {
     "name": "stdout",
     "output_type": "stream",
     "text": [
      "error 1 478.73742393591493 232.88633801106593\n",
      "error 4 358.79874977307395 1028.0156094178515 669.2168596447775\n"
     ]
    },
    {
     "name": "stderr",
     "output_type": "stream",
     "text": [
      "\r",
      "t:  33%|███▎      | 49/150 [00:10<00:20,  4.93it/s, now=None]"
     ]
    },
    {
     "name": "stdout",
     "output_type": "stream",
     "text": [
      "error 1 565.3071350274374 228.06121745934436\n"
     ]
    },
    {
     "name": "stderr",
     "output_type": "stream",
     "text": [
      "\r",
      "t:  33%|███▎      | 50/150 [00:10<00:20,  4.87it/s, now=None]"
     ]
    },
    {
     "name": "stdout",
     "output_type": "stream",
     "text": [
      "error 1 531.6768291044815 220.12786201791616\n"
     ]
    },
    {
     "name": "stderr",
     "output_type": "stream",
     "text": [
      "\r",
      "t:  34%|███▍      | 51/150 [00:11<00:21,  4.56it/s, now=None]"
     ]
    },
    {
     "name": "stdout",
     "output_type": "stream",
     "text": [
      "error 1 582.3955248149081 205.98399300779167\n",
      "error 1 652.1419589269431 "
     ]
    },
    {
     "name": "stderr",
     "output_type": "stream",
     "text": [
      "\r",
      "t:  35%|███▍      | 52/150 [00:11<00:21,  4.65it/s, now=None]"
     ]
    },
    {
     "name": "stdout",
     "output_type": "stream",
     "text": [
      "196.5354551294273\n"
     ]
    },
    {
     "name": "stderr",
     "output_type": "stream",
     "text": [
      "\r",
      "t:  35%|███▌      | 53/150 [00:11<00:20,  4.64it/s, now=None]"
     ]
    },
    {
     "name": "stdout",
     "output_type": "stream",
     "text": [
      "error 1 588.4901039788197 188.70741661945445\n",
      "error 1 718.4011462244737 233.02558271067687\n"
     ]
    },
    {
     "name": "stderr",
     "output_type": "stream",
     "text": [
      "t:  37%|███▋      | 55/150 [00:11<00:19,  4.80it/s, now=None]"
     ]
    },
    {
     "name": "stdout",
     "output_type": "stream",
     "text": [
      "error 1 798.5850387462852 319.73276596419225\n",
      "error 1 641.7410604294306 318.0669981872962\n"
     ]
    },
    {
     "name": "stderr",
     "output_type": "stream",
     "text": [
      "t:  38%|███▊      | 57/150 [00:12<00:19,  4.82it/s, now=None]"
     ]
    },
    {
     "name": "stdout",
     "output_type": "stream",
     "text": [
      "error 2 729.659742885343 1004.7703627868435 275.1106199015005\n",
      "error 2 "
     ]
    },
    {
     "name": "stderr",
     "output_type": "stream",
     "text": [
      "\r",
      "t:  39%|███▊      | 58/150 [00:12<00:19,  4.83it/s, now=None]"
     ]
    },
    {
     "name": "stdout",
     "output_type": "stream",
     "text": [
      "731.321014030366 1020.7331763586795 289.41216232831357\n"
     ]
    },
    {
     "name": "stderr",
     "output_type": "stream",
     "text": [
      "\r",
      "t:  39%|███▉      | 59/150 [00:12<00:18,  4.83it/s, now=None]"
     ]
    },
    {
     "name": "stdout",
     "output_type": "stream",
     "text": [
      "error 2 751.9831986339559 1006.378762235095 254.39556360113903\n"
     ]
    },
    {
     "name": "stderr",
     "output_type": "stream",
     "text": [
      "\r",
      "t:  40%|████      | 60/150 [00:12<00:18,  4.84it/s, now=None]"
     ]
    },
    {
     "name": "stdout",
     "output_type": "stream",
     "text": [
      "error 2 744.5725784660356 1004.4259768657732 259.8533983997377\n"
     ]
    },
    {
     "name": "stderr",
     "output_type": "stream",
     "text": [
      "\r",
      "t:  41%|████      | 61/150 [00:13<00:18,  4.79it/s, now=None]"
     ]
    },
    {
     "name": "stdout",
     "output_type": "stream",
     "text": [
      "error 2 723.7699021194608 988.6720477181645 264.9021455987037\n"
     ]
    },
    {
     "name": "stderr",
     "output_type": "stream",
     "text": [
      "t:  42%|████▏     | 63/150 [00:13<00:18,  4.78it/s, now=None]"
     ]
    },
    {
     "name": "stdout",
     "output_type": "stream",
     "text": [
      "error 1 356.31154712840674 1177.1266662646033\n",
      "error 1 313.967857454628 1146.9803091515382\n",
      "error 2 722.0343796951779 978.393117135491 256.35873744031306\n"
     ]
    },
    {
     "name": "stderr",
     "output_type": "stream",
     "text": [
      "t:  43%|████▎     | 65/150 [00:13<00:17,  4.78it/s, now=None]"
     ]
    },
    {
     "name": "stdout",
     "output_type": "stream",
     "text": [
      "error 1 271.79013303218215 1292.832847602054\n",
      "error 2 741.4571278053646 962.3909172682788 220.93378946291423\n",
      "error 1 352.73654396411365 1326.235712990906\n"
     ]
    },
    {
     "name": "stderr",
     "output_type": "stream",
     "text": [
      "t:  45%|████▍     | 67/150 [00:14<00:17,  4.65it/s, now=None]"
     ]
    },
    {
     "name": "stdout",
     "output_type": "stream",
     "text": [
      "error 1 579.1329099646167 1363.0040223355704\n",
      "error 1 494.8932539770129 1764.5458211600962\n"
     ]
    },
    {
     "name": "stderr",
     "output_type": "stream",
     "text": [
      "t:  46%|████▌     | 69/150 [00:14<00:17,  4.69it/s, now=None]"
     ]
    },
    {
     "name": "stdout",
     "output_type": "stream",
     "text": [
      "error 1 471.71585130520106 1480.283987059703\n"
     ]
    },
    {
     "name": "stderr",
     "output_type": "stream",
     "text": [
      "\r",
      "t:  47%|████▋     | 70/150 [00:15<00:17,  4.61it/s, now=None]"
     ]
    },
    {
     "name": "stdout",
     "output_type": "stream",
     "text": [
      "error 1 502.2423950907845 1801.4327207162155\n"
     ]
    },
    {
     "name": "stderr",
     "output_type": "stream",
     "text": [
      "\r",
      "t:  47%|████▋     | 71/150 [00:15<00:17,  4.59it/s, now=None]"
     ]
    },
    {
     "name": "stdout",
     "output_type": "stream",
     "text": [
      "error 1 535.0702986859263 2351.0566030982523\n"
     ]
    },
    {
     "name": "stderr",
     "output_type": "stream",
     "text": [
      "\r",
      "t:  48%|████▊     | 72/150 [00:15<00:17,  4.46it/s, now=None]"
     ]
    },
    {
     "name": "stdout",
     "output_type": "stream",
     "text": [
      "error 1 506.22038277659186 3128.3291524024276\n"
     ]
    },
    {
     "name": "stderr",
     "output_type": "stream",
     "text": [
      "\r",
      "t:  49%|████▊     | 73/150 [00:15<00:17,  4.49it/s, now=None]"
     ]
    },
    {
     "name": "stdout",
     "output_type": "stream",
     "text": [
      "error 1 693.9821519954465 1693.445221128242\n",
      "error 1 810.4898506063573 1839.9031974147547\n"
     ]
    },
    {
     "name": "stderr",
     "output_type": "stream",
     "text": [
      "t:  51%|█████     | 76/150 [00:16<00:16,  4.57it/s, now=None]"
     ]
    },
    {
     "name": "stdout",
     "output_type": "stream",
     "text": [
      "error 1 747.6394345877322 1623.8406746097328\n"
     ]
    },
    {
     "name": "stderr",
     "output_type": "stream",
     "text": [
      "\r",
      "t:  51%|█████▏    | 77/150 [00:16<00:16,  4.46it/s, now=None]"
     ]
    },
    {
     "name": "stdout",
     "output_type": "stream",
     "text": [
      "error 1 394.00601013698684 1642.2573928097158\n"
     ]
    },
    {
     "name": "stderr",
     "output_type": "stream",
     "text": [
      "\r",
      "t:  52%|█████▏    | 78/150 [00:16<00:16,  4.29it/s, now=None]"
     ]
    },
    {
     "name": "stdout",
     "output_type": "stream",
     "text": [
      "error 1 357.9179820135332 1571.9190282944753\n"
     ]
    },
    {
     "name": "stderr",
     "output_type": "stream",
     "text": [
      "\r",
      "t:  53%|█████▎    | 79/150 [00:17<00:17,  4.10it/s, now=None]"
     ]
    },
    {
     "name": "stdout",
     "output_type": "stream",
     "text": [
      "error 1 334.6863104784947 1205.31287751981\n"
     ]
    },
    {
     "name": "stderr",
     "output_type": "stream",
     "text": [
      "\r",
      "t:  53%|█████▎    | 80/150 [00:17<00:17,  4.08it/s, now=None]"
     ]
    },
    {
     "name": "stdout",
     "output_type": "stream",
     "text": [
      "error 1 277.01557203560856 1324.8986922230513\n"
     ]
    },
    {
     "name": "stderr",
     "output_type": "stream",
     "text": [
      "\r",
      "t:  54%|█████▍    | 81/150 [00:17<00:17,  4.02it/s, now=None]"
     ]
    },
    {
     "name": "stdout",
     "output_type": "stream",
     "text": [
      "error 1 271.00081449358737 1161.9899215549212\n"
     ]
    },
    {
     "name": "stderr",
     "output_type": "stream",
     "text": [
      "\r",
      "t:  55%|█████▍    | 82/150 [00:17<00:17,  3.99it/s, now=None]"
     ]
    },
    {
     "name": "stdout",
     "output_type": "stream",
     "text": [
      "error 1 281.38446270728156 1049.5423525234075\n"
     ]
    },
    {
     "name": "stderr",
     "output_type": "stream",
     "text": [
      "\r",
      "t:  55%|█████▌    | 83/150 [00:18<00:16,  4.00it/s, now=None]"
     ]
    },
    {
     "name": "stdout",
     "output_type": "stream",
     "text": [
      "error 1 286.3051870431908 977.4132652952537\n"
     ]
    },
    {
     "name": "stderr",
     "output_type": "stream",
     "text": [
      "\r",
      "t:  56%|█████▌    | 84/150 [00:18<00:16,  3.98it/s, now=None]"
     ]
    },
    {
     "name": "stdout",
     "output_type": "stream",
     "text": [
      "error 1 249.07216765971253 902.9375781353882\n",
      "error 4 843.3893808485881 1238.7541255001358 395.36474465154777\n"
     ]
    },
    {
     "name": "stderr",
     "output_type": "stream",
     "text": [
      "\r",
      "t:  57%|█████▋    | 85/150 [00:18<00:16,  3.96it/s, now=None]"
     ]
    },
    {
     "name": "stdout",
     "output_type": "stream",
     "text": [
      "error 1 235.30805500387575 875.1205923197717\n",
      "error 4 863.9711460144554 1258.2216474478435 394.250501433388\n"
     ]
    },
    {
     "name": "stderr",
     "output_type": "stream",
     "text": [
      "\r",
      "t:  57%|█████▋    | 86/150 [00:18<00:16,  3.97it/s, now=None]"
     ]
    },
    {
     "name": "stdout",
     "output_type": "stream",
     "text": [
      "error 1 218.63340566088831 867.1462498593287\n",
      "error 4 880.9972099361933 1275.3010952576046 394.3038853214114\n"
     ]
    },
    {
     "name": "stderr",
     "output_type": "stream",
     "text": [
      "\r",
      "t:  58%|█████▊    | 87/150 [00:19<00:15,  3.98it/s, now=None]"
     ]
    },
    {
     "name": "stdout",
     "output_type": "stream",
     "text": [
      "error 1 261.4006340217862 899.8023145994673\n",
      "error 4 853.7013041388736 1246.9265236529213 393.22521951404764\n"
     ]
    },
    {
     "name": "stderr",
     "output_type": "stream",
     "text": [
      "\r",
      "t:  59%|█████▊    | 88/150 [00:19<00:15,  3.98it/s, now=None]"
     ]
    },
    {
     "name": "stdout",
     "output_type": "stream",
     "text": [
      "error 1 292.8566286874715 940.5316041458112\n"
     ]
    },
    {
     "name": "stderr",
     "output_type": "stream",
     "text": [
      "\r",
      "t:  59%|█████▉    | 89/150 [00:19<00:15,  3.97it/s, now=None]"
     ]
    },
    {
     "name": "stdout",
     "output_type": "stream",
     "text": [
      "error 1 393.45386461898835 1017.034262743797\n"
     ]
    },
    {
     "name": "stderr",
     "output_type": "stream",
     "text": [
      "t:  61%|██████    | 91/150 [00:20<00:14,  3.99it/s, now=None]"
     ]
    },
    {
     "name": "stdout",
     "output_type": "stream",
     "text": [
      "error 1 606.5853774150378 1233.965036827415\n"
     ]
    },
    {
     "name": "stderr",
     "output_type": "stream",
     "text": [
      "t:  63%|██████▎   | 95/150 [00:21<00:13,  4.00it/s, now=None]"
     ]
    },
    {
     "name": "stdout",
     "output_type": "stream",
     "text": [
      "error 1 8437.463344269976 1995.338105708967\n"
     ]
    },
    {
     "name": "stderr",
     "output_type": "stream",
     "text": [
      "\r",
      "t:  64%|██████▍   | 96/150 [00:21<00:13,  4.01it/s, now=None]"
     ]
    },
    {
     "name": "stdout",
     "output_type": "stream",
     "text": [
      "error 1 6925.675948865197 2038.874441556525\n"
     ]
    },
    {
     "name": "stderr",
     "output_type": "stream",
     "text": [
      "\r",
      "t:  65%|██████▍   | 97/150 [00:21<00:13,  3.98it/s, now=None]"
     ]
    },
    {
     "name": "stdout",
     "output_type": "stream",
     "text": [
      "error 1 4610.096601956316 1937.1229290492408\n"
     ]
    },
    {
     "name": "stderr",
     "output_type": "stream",
     "text": [
      "t:  68%|██████▊   | 102/150 [00:23<00:13,  3.53it/s, now=None]"
     ]
    },
    {
     "name": "stdout",
     "output_type": "stream",
     "text": [
      "error 1 458.41667340550725 1076.0209663528033\n"
     ]
    },
    {
     "name": "stderr",
     "output_type": "stream",
     "text": [
      "\r",
      "t:  69%|██████▊   | 103/150 [00:23<00:15,  3.04it/s, now=None]"
     ]
    },
    {
     "name": "stdout",
     "output_type": "stream",
     "text": [
      "error 1 419.95943849126024 960.9437212485052\n"
     ]
    },
    {
     "name": "stderr",
     "output_type": "stream",
     "text": [
      "\r",
      "t:  69%|██████▉   | 104/150 [00:23<00:17,  2.63it/s, now=None]"
     ]
    },
    {
     "name": "stdout",
     "output_type": "stream",
     "text": [
      "error 1 375.6338240183288 861.585083950163\n"
     ]
    },
    {
     "name": "stderr",
     "output_type": "stream",
     "text": [
      "\r",
      "t:  70%|███████   | 105/150 [00:24<00:18,  2.39it/s, now=None]"
     ]
    },
    {
     "name": "stdout",
     "output_type": "stream",
     "text": [
      "error 1 368.23322532560763 807.7734005863715\n"
     ]
    },
    {
     "name": "stderr",
     "output_type": "stream",
     "text": [
      "\r",
      "t:  71%|███████   | 106/150 [00:24<00:18,  2.42it/s, now=None]"
     ]
    },
    {
     "name": "stdout",
     "output_type": "stream",
     "text": [
      "error 1 320.2637641367949 743.0435821547493\n"
     ]
    },
    {
     "name": "stderr",
     "output_type": "stream",
     "text": [
      "t:  84%|████████▍ | 126/150 [00:30<00:05,  4.37it/s, now=None]"
     ]
    },
    {
     "name": "stdout",
     "output_type": "stream",
     "text": [
      "error 1 444.31878858790236 1275.4272160457267\n"
     ]
    },
    {
     "name": "stderr",
     "output_type": "stream",
     "text": [
      "\r",
      "t:  85%|████████▍ | 127/150 [00:30<00:05,  4.46it/s, now=None]"
     ]
    },
    {
     "name": "stdout",
     "output_type": "stream",
     "text": [
      "error 1 421.2453173311622 3172.8803531529893\n"
     ]
    },
    {
     "name": "stderr",
     "output_type": "stream",
     "text": [
      "t:  86%|████████▌ | 129/150 [00:31<00:05,  4.08it/s, now=None]"
     ]
    },
    {
     "name": "stdout",
     "output_type": "stream",
     "text": [
      "error 4 904.7688556052259 1158.202379082284 253.43352347705823\n"
     ]
    },
    {
     "name": "stderr",
     "output_type": "stream",
     "text": [
      "\r",
      "t:  87%|████████▋ | 130/150 [00:31<00:05,  3.68it/s, now=None]"
     ]
    },
    {
     "name": "stdout",
     "output_type": "stream",
     "text": [
      "error 1 410.96394201648627 123.2752488758723\n",
      "error 4 1180.6921235875589 1161.2660282171119 -19.426095370447115\n"
     ]
    },
    {
     "name": "stderr",
     "output_type": "stream",
     "text": [
      "\r",
      "t:  87%|████████▋ | 131/150 [00:31<00:04,  3.82it/s, now=None]"
     ]
    },
    {
     "name": "stdout",
     "output_type": "stream",
     "text": [
      "error 1 402.8558102278768 59.10453480687605\n",
      "error 4 1756.4744496252763 1168.9121732291273 -587.562276396149\n"
     ]
    },
    {
     "name": "stderr",
     "output_type": "stream",
     "text": [
      "\r",
      "t:  88%|████████▊ | 132/150 [00:31<00:04,  4.07it/s, now=None]"
     ]
    },
    {
     "name": "stdout",
     "output_type": "stream",
     "text": [
      "error 1 452.0579785968518 69.02991241595792\n",
      "error 4 1617.3585941812898 1155.23074674116 -462.1278474401298\n",
      "error 1 2216.0410967611465 121.8234616256565\n",
      "error 4 1086.5602155524937 1033.2219544554496 -53.33826109704414\n"
     ]
    },
    {
     "name": "stderr",
     "output_type": "stream",
     "text": [
      "t:  89%|████████▉ | 134/150 [00:32<00:03,  4.47it/s, now=None]"
     ]
    },
    {
     "name": "stdout",
     "output_type": "stream",
     "text": [
      "error 1 443.2370348232301 47.43224315195294\n",
      "error 4 2142.4852375346936 1138.5077607866897 -1003.9774767480037\n"
     ]
    },
    {
     "name": "stderr",
     "output_type": "stream",
     "text": [
      "\r",
      "t:  90%|█████████ | 135/150 [00:32<00:03,  3.79it/s, now=None]"
     ]
    },
    {
     "name": "stdout",
     "output_type": "stream",
     "text": [
      "error 1 832.3031112983389 5.245690727075383\n",
      "error 4 14896.268305566839 1135.957190711952 -13760.311114854887\n"
     ]
    },
    {
     "name": "stderr",
     "output_type": "stream",
     "text": [
      "\r",
      "t:  91%|█████████ | 136/150 [00:32<00:03,  3.99it/s, now=None]"
     ]
    },
    {
     "name": "stdout",
     "output_type": "stream",
     "text": [
      "error 1 626.6587075742227 9.330304726474239\n",
      "error 4 -7843.734768850185 1055.5566926267659 8899.29146147695\n",
      "error 1 626.6587075742227 4.499305869902656\n",
      "error 4 18190.008040357578 1055.5566926267659 -17134.45134773081\n"
     ]
    },
    {
     "name": "stderr",
     "output_type": "stream",
     "text": [
      "t:  92%|█████████▏| 138/150 [00:33<00:02,  4.37it/s, now=None]"
     ]
    },
    {
     "name": "stdout",
     "output_type": "stream",
     "text": [
      "error 1 626.6587075742227 5.005117031095155\n",
      "error 4 15975.368554548955 1055.5566926267659 -14919.81186192219\n"
     ]
    },
    {
     "name": "stderr",
     "output_type": "stream",
     "text": [
      "\r",
      "t:  93%|█████████▎| 139/150 [00:33<00:02,  4.45it/s, now=None]"
     ]
    },
    {
     "name": "stdout",
     "output_type": "stream",
     "text": [
      "error 1 213.0238996755558 5.09083934564016\n",
      "error 4 15968.472946853126 1430.8412063448743 -14537.631740508252\n",
      "error 1 213.0238996755558 5.141950454629842\n",
      "error 4 15723.845272348812 1430.8412063448743 -14293.004066003938\n"
     ]
    },
    {
     "name": "stderr",
     "output_type": "stream",
     "text": [
      "t:  94%|█████████▍| 141/150 [00:34<00:01,  4.67it/s, now=None]"
     ]
    },
    {
     "name": "stdout",
     "output_type": "stream",
     "text": [
      "error 1 197.4166966297214 7.610730108798974\n",
      "error 4 10626.034573910387 1383.513413976861 -9242.521159933525\n",
      "error 1 197.4166966297214 3.6887463277445205\n",
      "error 4 21957.826432274964 1383.513413976861 -20574.313018298104\n"
     ]
    },
    {
     "name": "stderr",
     "output_type": "stream",
     "text": [
      "t:  95%|█████████▌| 143/150 [00:34<00:01,  4.69it/s, now=None]"
     ]
    },
    {
     "name": "stdout",
     "output_type": "stream",
     "text": [
      "error 1 196.7911154967278 7.957532779826004\n",
      "error 4 10130.854036374993 1284.883339581325 -8845.970696793667\n",
      "error 1 183.1591226842463"
     ]
    },
    {
     "name": "stderr",
     "output_type": "stream",
     "text": [
      "\r",
      "t:  96%|█████████▌| 144/150 [00:34<00:01,  4.73it/s, now=None]"
     ]
    },
    {
     "name": "stdout",
     "output_type": "stream",
     "text": [
      " 6.9997844904882855\n",
      "error 4 11438.027313737315 1234.00644889055 -10204.020864846765\n"
     ]
    },
    {
     "name": "stderr",
     "output_type": "stream",
     "text": [
      "\r",
      "t:  97%|█████████▋| 145/150 [00:34<00:01,  4.72it/s, now=None]"
     ]
    },
    {
     "name": "stdout",
     "output_type": "stream",
     "text": [
      "error 1 187.6355738898477 33.07032335177992\n",
      "error 4 -1312.2774707395567 1226.7743899275913 2539.051860667148\n"
     ]
    },
    {
     "name": "stderr",
     "output_type": "stream",
     "text": [
      "\r",
      "t:  97%|█████████▋| 146/150 [00:35<00:00,  4.56it/s, now=None]"
     ]
    },
    {
     "name": "stdout",
     "output_type": "stream",
     "text": [
      "error 1 223.8706687823005 3.668856383054204\n",
      "error 4 21353.692844105826 1247.5589211997078 -20106.13392290612\n"
     ]
    },
    {
     "name": "stderr",
     "output_type": "stream",
     "text": [
      "\r",
      "t:  98%|█████████▊| 147/150 [00:35<00:00,  4.34it/s, now=None]"
     ]
    },
    {
     "name": "stdout",
     "output_type": "stream",
     "text": [
      "error 1 384.3932777287054 11.999331199591333\n",
      "error 4 -4577.630814496039 1370.0634996646077 5947.694314160647\n"
     ]
    },
    {
     "name": "stderr",
     "output_type": "stream",
     "text": [
      "\r",
      "t:  99%|█████████▊| 148/150 [00:35<00:00,  4.29it/s, now=None]"
     ]
    },
    {
     "name": "stdout",
     "output_type": "stream",
     "text": [
      "error 1 239.7834083910344 43.36757743284312\n",
      "error 2 1060.7830813085889 858.2935944688 -202.48948683978887\n",
      "error 4 -1850.6202189599317 1269.4022801295564 3120.022499089488\n"
     ]
    },
    {
     "name": "stderr",
     "output_type": "stream",
     "text": [
      "\r",
      "t:  99%|█████████▉| 149/150 [00:35<00:00,  4.46it/s, now=None]"
     ]
    },
    {
     "name": "stdout",
     "output_type": "stream",
     "text": [
      "error 2 1415.8834404120958 867.7453213831317 -548.1381190289642\n",
      "error 4 -694.8698985309818 1268.0388089617607 1962.9087074927425\n"
     ]
    },
    {
     "name": "stderr",
     "output_type": "stream",
     "text": [
      "\r",
      "t: 100%|██████████| 150/150 [00:36<00:00,  4.42it/s, now=None]"
     ]
    },
    {
     "name": "stdout",
     "output_type": "stream",
     "text": [
      "error 2 1362.8120613377635 850.3505157639968 -512.4615455737667\n",
      "error 4 -606.9661792487391 1345.2297947967177 1952.1959740454568\n"
     ]
    },
    {
     "name": "stderr",
     "output_type": "stream",
     "text": [
      "\r",
      "                                                              "
     ]
    },
    {
     "name": "stdout",
     "output_type": "stream",
     "text": [
      "error 1 414.81779686390394 75.65997514865607\n",
      "error 2 2865.088684070369 880.8909522931372 -1984.1977317772319\n",
      "error 4 9135.095776087346 958.103181246347 -8176.992594841\n"
     ]
    },
    {
     "name": "stderr",
     "output_type": "stream",
     "text": [
      "\r"
     ]
    },
    {
     "name": "stdout",
     "output_type": "stream",
     "text": [
      "Moviepy - Done !\n",
      "Moviepy - video ready challenge_video_out.mp4\n",
      "CPU times: user 55.5 s, sys: 9.63 s, total: 1min 5s\n",
      "Wall time: 38.1 s\n"
     ]
    }
   ],
   "source": [
    "white_output = 'challenge_video_out.mp4'\n",
    "clip1 = VideoFileClip(\"challenge_video.mp4\")\n",
    "white_clip = clip1.fl_image(Frame(mtx, dist, M_1, M_inv_1, img_size)).subclip(0,5) #NOTE: this function expects color images!!\n",
    "%time white_clip.write_videofile(white_output, audio=False)"
   ]
  },
  {
   "cell_type": "code",
   "execution_count": 13,
   "metadata": {},
   "outputs": [
    {
     "data": {
      "text/html": [
       "\n",
       "<video width=\"960\" height=\"540\" controls>\n",
       "  <source src=\"challenge_video_out.mp4\">\n",
       "</video>\n"
      ],
      "text/plain": [
       "<IPython.core.display.HTML object>"
      ]
     },
     "execution_count": 13,
     "metadata": {},
     "output_type": "execute_result"
    }
   ],
   "source": [
    "HTML(\"\"\"\n",
    "<video width=\"960\" height=\"540\" controls>\n",
    "  <source src=\"{0}\">\n",
    "</video>\n",
    "\"\"\".format(white_output))"
   ]
  },
  {
   "cell_type": "code",
   "execution_count": 14,
   "metadata": {},
   "outputs": [
    {
     "name": "stdout",
     "output_type": "stream",
     "text": [
      "error 1 2410.326014139937 234.4247411740382\n"
     ]
    },
    {
     "name": "stderr",
     "output_type": "stream",
     "text": [
      "\r",
      "t:   0%|          | 0/125 [00:00<?, ?it/s, now=None]"
     ]
    },
    {
     "name": "stdout",
     "output_type": "stream",
     "text": [
      "error 1 2410.326014139937 234.4247411740382\n",
      "Moviepy - Building video harder_challenge_video_out.mp4.\n",
      "Moviepy - Writing video harder_challenge_video_out.mp4\n",
      "\n"
     ]
    },
    {
     "name": "stderr",
     "output_type": "stream",
     "text": [
      "\r",
      "t:   2%|▏         | 2/125 [00:00<00:20,  5.89it/s, now=None]"
     ]
    },
    {
     "name": "stdout",
     "output_type": "stream",
     "text": [
      "error 1 2410.326014139937 234.4247411740382\n"
     ]
    },
    {
     "name": "stderr",
     "output_type": "stream",
     "text": [
      "\r",
      "t:   2%|▏         | 3/125 [00:00<00:25,  4.81it/s, now=None]"
     ]
    },
    {
     "name": "stdout",
     "output_type": "stream",
     "text": [
      "error 1 2527.7323950422724 241.60997880282062\n"
     ]
    },
    {
     "name": "stderr",
     "output_type": "stream",
     "text": [
      "\r",
      "t:   3%|▎         | 4/125 [00:00<00:30,  3.93it/s, now=None]"
     ]
    },
    {
     "name": "stdout",
     "output_type": "stream",
     "text": [
      "error 1 806.1851848182949 250.29471865783606\n"
     ]
    },
    {
     "name": "stderr",
     "output_type": "stream",
     "text": [
      "\r",
      "t:   4%|▍         | 5/125 [00:01<00:32,  3.70it/s, now=None]"
     ]
    },
    {
     "name": "stdout",
     "output_type": "stream",
     "text": [
      "error 1 563.2372551531957 255.98295220660037\n"
     ]
    },
    {
     "name": "stderr",
     "output_type": "stream",
     "text": [
      "\r",
      "t:   5%|▍         | 6/125 [00:01<00:33,  3.57it/s, now=None]"
     ]
    },
    {
     "name": "stdout",
     "output_type": "stream",
     "text": [
      "error 1 602.401530806128 261.6376747833448\n"
     ]
    },
    {
     "name": "stderr",
     "output_type": "stream",
     "text": [
      "\r",
      "t:   6%|▌         | 7/125 [00:01<00:33,  3.54it/s, now=None]"
     ]
    },
    {
     "name": "stdout",
     "output_type": "stream",
     "text": [
      "error 1 661.5986994490754 268.16049673009877\n"
     ]
    },
    {
     "name": "stderr",
     "output_type": "stream",
     "text": [
      "\r",
      "t:   6%|▋         | 8/125 [00:02<00:33,  3.45it/s, now=None]"
     ]
    },
    {
     "name": "stdout",
     "output_type": "stream",
     "text": [
      "error 1 773.738790638834 272.0770410322306\n"
     ]
    },
    {
     "name": "stderr",
     "output_type": "stream",
     "text": [
      "\r",
      "t:   7%|▋         | 9/125 [00:02<00:33,  3.44it/s, now=None]"
     ]
    },
    {
     "name": "stdout",
     "output_type": "stream",
     "text": [
      "error 1 950.025617608076 272.98915922840956\n"
     ]
    },
    {
     "name": "stderr",
     "output_type": "stream",
     "text": [
      "\r",
      "t:   8%|▊         | 10/125 [00:02<00:34,  3.36it/s, now=None]"
     ]
    },
    {
     "name": "stdout",
     "output_type": "stream",
     "text": [
      "error 1 1065.336207726586 277.6020626459632\n"
     ]
    },
    {
     "name": "stderr",
     "output_type": "stream",
     "text": [
      "\r",
      "t:   9%|▉         | 11/125 [00:03<00:33,  3.36it/s, now=None]"
     ]
    },
    {
     "name": "stdout",
     "output_type": "stream",
     "text": [
      "error 1 1399.060275509599 341.57155982655144\n"
     ]
    },
    {
     "name": "stderr",
     "output_type": "stream",
     "text": [
      "\r",
      "t:  10%|▉         | 12/125 [00:03<00:32,  3.42it/s, now=None]"
     ]
    },
    {
     "name": "stdout",
     "output_type": "stream",
     "text": [
      "error 1 1871.557412318628 435.6501732083274\n"
     ]
    },
    {
     "name": "stderr",
     "output_type": "stream",
     "text": [
      "\r",
      "t:  10%|█         | 13/125 [00:03<00:32,  3.49it/s, now=None]"
     ]
    },
    {
     "name": "stdout",
     "output_type": "stream",
     "text": [
      "error 1 2783.9259389743634 592.7113321953517\n"
     ]
    },
    {
     "name": "stderr",
     "output_type": "stream",
     "text": [
      "\r",
      "t:  11%|█         | 14/125 [00:03<00:33,  3.34it/s, now=None]"
     ]
    },
    {
     "name": "stdout",
     "output_type": "stream",
     "text": [
      "error 1 3366.136036065399 864.0780902612911\n"
     ]
    },
    {
     "name": "stderr",
     "output_type": "stream",
     "text": [
      "t:  13%|█▎        | 16/125 [00:04<00:32,  3.33it/s, now=None]"
     ]
    },
    {
     "name": "stdout",
     "output_type": "stream",
     "text": [
      "error 1 792.6660486273447 1888.6278433623086\n"
     ]
    },
    {
     "name": "stderr",
     "output_type": "stream",
     "text": [
      "\r",
      "t:  14%|█▎        | 17/125 [00:04<00:31,  3.42it/s, now=None]"
     ]
    },
    {
     "name": "stdout",
     "output_type": "stream",
     "text": [
      "error 1 647.6034374143808 26207.567360843837\n"
     ]
    },
    {
     "name": "stderr",
     "output_type": "stream",
     "text": [
      "\r",
      "t:  14%|█▍        | 18/125 [00:05<00:30,  3.48it/s, now=None]"
     ]
    },
    {
     "name": "stdout",
     "output_type": "stream",
     "text": [
      "error 1 545.5967768987997 1648.5610092904979\n"
     ]
    },
    {
     "name": "stderr",
     "output_type": "stream",
     "text": [
      "\r",
      "t:  15%|█▌        | 19/125 [00:05<00:30,  3.53it/s, now=None]"
     ]
    },
    {
     "name": "stdout",
     "output_type": "stream",
     "text": [
      "error 1 487.5637837308231 976.2599384478247\n"
     ]
    },
    {
     "name": "stderr",
     "output_type": "stream",
     "text": [
      "t:  19%|█▉        | 24/125 [00:06<00:29,  3.40it/s, now=None]"
     ]
    },
    {
     "name": "stdout",
     "output_type": "stream",
     "text": [
      "error 1 265.25565523106036 534.6072630323904\n"
     ]
    },
    {
     "name": "stderr",
     "output_type": "stream",
     "text": [
      "t:  78%|███████▊  | 98/125 [00:27<00:07,  3.55it/s, now=None]"
     ]
    },
    {
     "name": "stdout",
     "output_type": "stream",
     "text": [
      "error 4 856.3204642649183 900.8507904355572 44.530326170638844\n"
     ]
    },
    {
     "name": "stderr",
     "output_type": "stream",
     "text": [
      "t:  94%|█████████▎| 117/125 [00:33<00:02,  3.25it/s, now=None]"
     ]
    },
    {
     "name": "stdout",
     "output_type": "stream",
     "text": [
      "error 4 917.1691260195823 1219.1809184999092 302.01179248032696\n"
     ]
    },
    {
     "name": "stderr",
     "output_type": "stream",
     "text": [
      "\r",
      "t:  94%|█████████▍| 118/125 [00:33<00:02,  3.12it/s, now=None]"
     ]
    },
    {
     "name": "stdout",
     "output_type": "stream",
     "text": [
      "error 4 1078.3770004537985 1380.1878999799305 301.810899526132\n"
     ]
    },
    {
     "name": "stderr",
     "output_type": "stream",
     "text": [
      "\r",
      "t:  95%|█████████▌| 119/125 [00:34<00:01,  3.25it/s, now=None]"
     ]
    },
    {
     "name": "stdout",
     "output_type": "stream",
     "text": [
      "error 4 1246.293230110964 1535.3498262849514 289.0565961739875\n"
     ]
    },
    {
     "name": "stderr",
     "output_type": "stream",
     "text": [
      "\r",
      "t:  96%|█████████▌| 120/125 [00:34<00:01,  3.11it/s, now=None]"
     ]
    },
    {
     "name": "stdout",
     "output_type": "stream",
     "text": [
      "error 1 49.073171595453736 101.17937793907133\n",
      "error 4 1228.1317971704286 1519.488989160343 291.35719198991427\n"
     ]
    },
    {
     "name": "stderr",
     "output_type": "stream",
     "text": [
      "\r",
      "t:  97%|█████████▋| 121/125 [00:34<00:01,  3.24it/s, now=None]"
     ]
    },
    {
     "name": "stdout",
     "output_type": "stream",
     "text": [
      "error 1 49.91868258967518 103.67687544651818\n",
      "error 4 1201.9039538571112 1514.4911903723116 312.58723651520035\n"
     ]
    },
    {
     "name": "stderr",
     "output_type": "stream",
     "text": [
      "\r",
      "t:  98%|█████████▊| 122/125 [00:35<00:00,  3.30it/s, now=None]"
     ]
    },
    {
     "name": "stdout",
     "output_type": "stream",
     "text": [
      "error 1 51.38779536526993 114.64798701466174\n",
      "error 4 1187.1107279683843 1503.8321348186987 316.72140685031457\n"
     ]
    },
    {
     "name": "stderr",
     "output_type": "stream",
     "text": [
      "\r",
      "t:  98%|█████████▊| 123/125 [00:35<00:00,  3.39it/s, now=None]"
     ]
    },
    {
     "name": "stdout",
     "output_type": "stream",
     "text": [
      "error 1 53.28370145886637 133.4709153564727\n",
      "error 4 1181.062873910153 1492.0489751702664 310.9861012601135\n"
     ]
    },
    {
     "name": "stderr",
     "output_type": "stream",
     "text": [
      "\r",
      "t:  99%|█████████▉| 124/125 [00:35<00:00,  3.43it/s, now=None]"
     ]
    },
    {
     "name": "stdout",
     "output_type": "stream",
     "text": [
      "error 1 56.82895846946494 134.7828866480053\n",
      "error 4 1107.7794099219914 1463.1682040330625 355.3887941110712\n"
     ]
    },
    {
     "name": "stderr",
     "output_type": "stream",
     "text": [
      "\r",
      "t: 100%|██████████| 125/125 [00:35<00:00,  3.41it/s, now=None]"
     ]
    },
    {
     "name": "stdout",
     "output_type": "stream",
     "text": [
      "error 1 64.3577284019177 133.5728100993395\n",
      "error 4 977.1685534161684 1384.7107442449756 407.5421908288072\n"
     ]
    },
    {
     "name": "stderr",
     "output_type": "stream",
     "text": [
      "                                                              \r"
     ]
    },
    {
     "name": "stdout",
     "output_type": "stream",
     "text": [
      "Moviepy - Done !\n",
      "Moviepy - video ready harder_challenge_video_out.mp4\n",
      "CPU times: user 1min 15s, sys: 13.8 s, total: 1min 29s\n",
      "Wall time: 38.6 s\n"
     ]
    }
   ],
   "source": [
    "white_output = 'harder_challenge_video_out.mp4'\n",
    "clip1 = VideoFileClip(\"harder_challenge_video.mp4\")\n",
    "white_clip = clip1.fl_image(Frame(mtx, dist, M, M_inv, img_size)).subclip(0,5) #NOTE: this function expects color images!!\n",
    "%time white_clip.write_videofile(white_output, audio=False)"
   ]
  },
  {
   "cell_type": "code",
   "execution_count": 15,
   "metadata": {},
   "outputs": [
    {
     "data": {
      "text/html": [
       "\n",
       "<video width=\"960\" height=\"540\" controls>\n",
       "  <source src=\"harder_challenge_video_out.mp4\">\n",
       "</video>\n"
      ],
      "text/plain": [
       "<IPython.core.display.HTML object>"
      ]
     },
     "execution_count": 15,
     "metadata": {},
     "output_type": "execute_result"
    }
   ],
   "source": [
    "HTML(\"\"\"\n",
    "<video width=\"960\" height=\"540\" controls>\n",
    "  <source src=\"{0}\">\n",
    "</video>\n",
    "\"\"\".format(white_output))"
   ]
  },
  {
   "cell_type": "code",
   "execution_count": null,
   "metadata": {},
   "outputs": [],
   "source": []
  },
  {
   "cell_type": "code",
   "execution_count": null,
   "metadata": {},
   "outputs": [],
   "source": []
  },
  {
   "cell_type": "code",
   "execution_count": null,
   "metadata": {},
   "outputs": [],
   "source": []
  }
 ],
 "metadata": {
  "anaconda-cloud": {},
  "kernelspec": {
   "display_name": "Python 3",
   "language": "python",
   "name": "python3"
  },
  "language_info": {
   "codemirror_mode": {
    "name": "ipython",
    "version": 3
   },
   "file_extension": ".py",
   "mimetype": "text/x-python",
   "name": "python",
   "nbconvert_exporter": "python",
   "pygments_lexer": "ipython3",
   "version": "3.8.2"
  }
 },
 "nbformat": 4,
 "nbformat_minor": 4
}
