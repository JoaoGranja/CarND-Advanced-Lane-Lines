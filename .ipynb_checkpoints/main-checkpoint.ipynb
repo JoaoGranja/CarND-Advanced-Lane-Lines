{
 "cells": [
  {
   "cell_type": "markdown",
   "metadata": {},
   "source": [
    "# Advanced Lane Finding Project\n",
    "\n",
    "The goals / steps of this project are the following:\n",
    "\n",
    "* Compute the camera calibration matrix and distortion coefficients given a set of chessboard images.\n",
    "* Apply a distortion correction to raw images.\n",
    "* Use color transforms, gradients, etc., to create a thresholded binary image.\n",
    "* Apply a perspective transform to rectify binary image (\"birds-eye view\").\n",
    "* Detect lane pixels and fit to find the lane boundary.\n",
    "* Determine the curvature of the lane and vehicle position with respect to center.\n",
    "* Warp the detected lane boundaries back onto the original image.\n",
    "* Output visual display of the lane boundaries and numerical estimation of lane curvature and vehicle position.\n",
    "\n",
    "## The project is divided in the four following phases:\n",
    "\n",
    "1 - Compute the camera calibration using chessboard images\n",
    "\n",
    "2 - Build a Lane finding Pipeline for single images\n",
    "\n",
    "3 - Build a Lane finding Pipeline to a video\n",
    "\n",
    "4 - Reinforce the video Pipeline using the provided challenge videos \n",
    "\n",
    "---"
   ]
  },
  {
   "cell_type": "markdown",
   "metadata": {},
   "source": [
    "## Import Packages"
   ]
  },
  {
   "cell_type": "code",
   "execution_count": 1,
   "metadata": {
    "ExecuteTime": {
     "end_time": "2020-05-14T13:19:27.806418Z",
     "start_time": "2020-05-14T13:19:26.028101Z"
    }
   },
   "outputs": [],
   "source": [
    "# Importing some useful packages\n",
    "import numpy as np\n",
    "import cv2\n",
    "import glob\n",
    "import matplotlib.pyplot as plt\n",
    "import matplotlib.image as mpimg\n",
    "import os\n",
    "from helper_functions import *\n",
    "import pickle\n",
    "\n",
    "#Import everything needed to edit/save/watch video clips\n",
    "from moviepy.editor import VideoFileClip\n",
    "from IPython.display import HTML\n",
    "#%matplotlib qt\n"
   ]
  },
  {
   "cell_type": "markdown",
   "metadata": {},
   "source": [
    "## 1 - Compute the camera calibration using chessboard images"
   ]
  },
  {
   "cell_type": "code",
   "execution_count": 2,
   "metadata": {},
   "outputs": [],
   "source": [
    "# define the name of the output directory to store the output images\n",
    "output_path = \"output_images/camera_calibration\"\n",
    "\n",
    "# Create output_path directory if doesn't exist\n",
    "if not os.path.exists(output_path):\n",
    "    os.mkdir(output_path)"
   ]
  },
  {
   "cell_type": "code",
   "execution_count": 3,
   "metadata": {
    "ExecuteTime": {
     "end_time": "2020-05-14T13:19:31.648297Z",
     "start_time": "2020-05-14T13:19:27.811639Z"
    }
   },
   "outputs": [],
   "source": [
    "# To avoid running the calibration step everytime, in case the camera coefficients already exist, just load it\n",
    "if os.path.exists('camera_coeff.pkl'):\n",
    "    # Getting back the values:\n",
    "    with open('camera_coeff.pkl', 'rb') as f:  \n",
    "        mtx, dist = pickle.load(f)\n",
    "    \n",
    "else:  \n",
    "    # Prepare object points, like (0,0,0), (1,0,0), (2,0,0) ....,(9,6,0)\n",
    "    objp = np.zeros((9*6,3), np.float32)\n",
    "    objp[:,:2] = np.mgrid[0:9,0:6].T.reshape(-1,2)\n",
    "\n",
    "    # Arrays to store object points and image points from all the images.\n",
    "    objpoints = [] # 3d points in real world space\n",
    "    imgpoints = [] # 2d points in image plane.\n",
    "\n",
    "    # Make a list of calibration images\n",
    "    images = glob.glob('camera_cal/calibration*.jpg')\n",
    "\n",
    "    # Step through the list and search for chessboard corners\n",
    "    for fname in images:\n",
    "\n",
    "        # Read the image\n",
    "        img = cv2.imread(fname)\n",
    "\n",
    "        # Convert the image to gray scale\n",
    "        gray = cv2.cvtColor(img,cv2.COLOR_BGR2GRAY)\n",
    "\n",
    "        # Find the chessboard 54 (9*6) corners \n",
    "        ret, corners = cv2.findChessboardCorners(gray, (9,6),None)\n",
    "\n",
    "        # If found, append object points, image points\n",
    "        if ret == True:\n",
    "            objpoints.append(objp)\n",
    "            imgpoints.append(corners)\n",
    "\n",
    "            # Draw and display the corners\n",
    "            img = cv2.drawChessboardCorners(img, (9,6), corners, ret)\n",
    "            #cv2.imshow('img',img)\n",
    "            #cv2.waitKey(500)\n",
    "\n",
    "    #cv2.destroyAllWindows()\n",
    "\n",
    "    # Perform the camera calibration\n",
    "    ret, mtx, dist, rvecs, tvecs = cv2.calibrateCamera(objpoints, imgpoints, gray.shape[::-1], None, None) \n",
    "\n",
    "    # Store the camera calibration coefficients for future use\n",
    "    with open('camera_coeff.pkl', 'wb') as f:  \n",
    "        pickle.dump([mtx, dist], f)\n",
    "        \n",
    "    # Perform distortion correction on chessboard images to verify the process is doing well\n",
    "\n",
    "    # Step through the list and undistort each image\n",
    "    for fname in images:\n",
    "\n",
    "        # Read the image\n",
    "        image = mpimg.imread(fname)\n",
    "\n",
    "        # Undistort the image an display it \n",
    "        undist = cv2.undistort(image, mtx, dist, None, mtx)\n",
    "\n",
    "        # Save images on output_path Directory\n",
    "        f, (ax1, ax2) = plt.subplots(1, 2, figsize=(24, 9))\n",
    "        f.tight_layout()\n",
    "\n",
    "        ax1.imshow(image)\n",
    "        ax1.set_title('Original Image', fontsize=30)\n",
    "\n",
    "        ax2.imshow(undist)\n",
    "        ax2.set_title('Undistorted Image', fontsize=30)\n",
    "        plt.subplots_adjust(left=0.1, right=0.9, top=1, bottom=0, wspace = 0.1)\n",
    "\n",
    "\n",
    "        plt.savefig(os.path.join(output_path, \"undist_\" + os.path.basename(fname)))\n",
    "        plt.close()"
   ]
  },
  {
   "cell_type": "markdown",
   "metadata": {},
   "source": [
    "## 2 - Build a Lane finding Pipeline for single images\n",
    "The pipeline will be composed by the following steps:\n",
    "\n",
    "1 - Read and apply a distortion correction to the image\n",
    "\n",
    "2 - Use color transforms, gradients, etc., to create a thresholded binary image\n",
    "\n",
    "3 - Apply a perspective transform to rectify binary image (\"birds-eye view\")\n",
    "\n",
    "4 - Detect lane pixels and fit to find the lane boundary\n",
    "\n",
    "5 - Determine the curvature of the lane and vehicle position with respect to center \n",
    "\n",
    "6 - Warp the detected lane boundaries back onto the original image\n",
    "\n",
    "7 - Output visual display of the lane boundaries and numerical estimation of lane curvature and vehicle position"
   ]
  },
  {
   "cell_type": "code",
   "execution_count": 4,
   "metadata": {},
   "outputs": [],
   "source": [
    "# define the name of the directory to store the output images\n",
    "output_path = \"output_images/test_images\"\n",
    "\n",
    "# Create output_path directory if doesn't exist\n",
    "if not os.path.exists(output_path):\n",
    "    os.mkdir(output_path)"
   ]
  },
  {
   "cell_type": "code",
   "execution_count": 5,
   "metadata": {},
   "outputs": [],
   "source": [
    "# Get the transform matrix using 4 source and destination points calculated manually looking to \n",
    "# the straight line images\n",
    "\n",
    "src = np.float32([[195, 720],[1125, 720],[578, 460],[705, 460]])\n",
    "dst = np.float32([[350, 720],[950, 720],[350,0],[950,0]])\n",
    "\n",
    "# Get the transform matrix M using the src and dst points\n",
    "M = cv2.getPerspectiveTransform(src, dst)\n",
    "\n",
    "# Get the invert transform matrix M_inv using the src and dst points\n",
    "M_inv = cv2.getPerspectiveTransform(dst, src)\n",
    "        "
   ]
  },
  {
   "cell_type": "code",
   "execution_count": 6,
   "metadata": {},
   "outputs": [],
   "source": [
    "def process_image(original_image, fname, mtx, dist, M, M_inv):\n",
    "    \n",
    "    ## 1 - Apply a distortion correction to the image ##\n",
    "    undist = undistort_image(original_image, mtx, dist)\n",
    "    save_undistorted_images(output_path, fname, original_image, undist)\n",
    "\n",
    "    ## 2 - Use color transforms, gradients, etc., to create a thresholded binary image ##\n",
    "    ksize = 3 # Sobel kernel size \n",
    "\n",
    "    # Apply each of the gradient thresholding functions\n",
    "    gradx = abs_sobel_thresh(undist, orient='x', sobel_kernel=ksize, thresh=(30, 200))\n",
    "    grady = abs_sobel_thresh(undist, orient='y', sobel_kernel=ksize, thresh=(50, 200))\n",
    "    mag_binary = mag_thresh(undist, sobel_kernel=ksize, mag_thresh=(30, 200))\n",
    "    dir_binary = dir_threshold(undist, sobel_kernel=ksize, thresh=(0.7, 1.3))\n",
    "\n",
    "    # Apply each of the color thresholding functions for HLS color space\n",
    "    hls_colors_binary = hls_select(undist, s_thresh=(170, 240), l_thresh=(200, 255))\n",
    "\n",
    "    # Apply each of the color thresholding functions for HSV color space\n",
    "    hsv_colors_binary = hsv_select(undist, s_thresh=(130,255), v_thresh=(240, 255), vs_thresh=(200, 255))\n",
    "        \n",
    "    # Combine all of the thresholding binaries\n",
    "    binary_image = np.zeros_like(mag_binary)\n",
    "    binary_image[(hsv_colors_binary == 1) | (hls_colors_binary == 1) | ((mag_binary == 1) & (dir_binary == 1)) ] = 1\n",
    "    \n",
    "    #binary_image[(hsv_colors_binary == 1) | (hls_colors_binary == 1)] = 1\n",
    "    save_binary_images(output_path, fname, undist, binary_image)\n",
    "    \n",
    "    # 3 - Apply a perspective transform to rectify binary image (\"birds-eye view\") ##\n",
    "\n",
    "    # Warp the image to a top-down view\n",
    "    img_size = (undist.shape[1], undist.shape[0])\n",
    "    binary_warped = cv2.warpPerspective(binary_image, M, img_size, flags=cv2.INTER_LINEAR)\n",
    "    \n",
    "    warped = cv2.warpPerspective(undist, M, img_size, flags=cv2.INTER_LINEAR)\n",
    "    #save_warped_images(output_path, fname, original_image, warped)\n",
    "    save_warped_images(output_path, fname, binary_warped, warped)\n",
    "    \n",
    "    ## 4 - Detect lane pixels and fit to find the lane boundary ##\n",
    "    \n",
    "    # Create a sliding window and find out which activated pixels fall into the window\n",
    "    out_img, left_fit, right_fit, left_fitx, right_fitx, ploty = fit_polynomial(binary_warped)\n",
    "\n",
    "    ## 5 - Determine the curvature of the lane and vehicle position with respect to center ##\n",
    "    \n",
    "    radius_curvature, left_radius_curvature , right_radius_curvature = measure_curvature_real(out_img.shape[0], left_fit, right_fit)\n",
    "    \n",
    "    rel_vehicle_position = measure_rel_vehicle_position(out_img.shape, left_fit, right_fit)\n",
    "\n",
    "    ## 6 - Warp the detected lane boundaries back onto the original image ##\n",
    "\n",
    "    # Create an image to draw the lines on\n",
    "    warp_zero = np.zeros_like(binary_warped).astype(np.uint8)\n",
    "    color_warp = np.dstack((warp_zero, warp_zero, warp_zero))\n",
    "\n",
    "    # Recast the x and y points into usable format for cv2.fillPoly()\n",
    "    pts_left = np.array([np.transpose(np.vstack([left_fitx, ploty]))])\n",
    "    pts_right = np.array([np.flipud(np.transpose(np.vstack([right_fitx, ploty])))])\n",
    "    pts = np.hstack((pts_left, pts_right))\n",
    "\n",
    "    # Draw the lane onto the warped blank image\n",
    "    cv2.fillPoly(color_warp, np.int_([pts]), (0,255, 0))\n",
    "\n",
    "    # Warp the blank back to original image space using inverse perspective matrix (Minv)\n",
    "    newwarp = cv2.warpPerspective(color_warp, M_inv, img_size) \n",
    "\n",
    "    ## 7 - Output visual display of the lane boundaries and numerical estimation of lane curvature and vehicle position ##\n",
    "    # Combine the result with the original image\n",
    "    result = cv2.addWeighted(original_image, 1, newwarp, 0.3, 0)\n",
    "\n",
    "    save_lane_lines_image(output_path, fname, out_img)\n",
    "\n",
    "    print(\"Radius curvature = \", radius_curvature, 'm')\n",
    "    print(\"Left Radius curvature = \", left_radius_curvature, 'm', \"Right Radius curvature = \", right_radius_curvature, 'm', )\n",
    "    print(\"Relative vehicle position with respect to the line lane center = \",rel_vehicle_position, 'm')\n",
    "\n",
    "    save_pipeline_image(output_path, fname, result, radius_curvature, rel_vehicle_position )"
   ]
  },
  {
   "cell_type": "code",
   "execution_count": 7,
   "metadata": {
    "ExecuteTime": {
     "end_time": "2020-05-14T13:26:17.757281Z",
     "start_time": "2020-05-14T13:26:17.693455Z"
    }
   },
   "outputs": [
    {
     "name": "stdout",
     "output_type": "stream",
     "text": [
      "----------------------- test_images/test6.jpg -----------------------\n",
      "Radius curvature =  896.0 m\n",
      "Left Radius curvature =  1288.0 m Right Radius curvature =  503.0 m\n",
      "Relative vehicle position with respect to the line lane center =  0.36 m\n",
      "\n",
      "\n",
      "----------------------- test_images/test5.jpg -----------------------\n",
      "Radius curvature =  2080.0 m\n",
      "Left Radius curvature =  733.0 m Right Radius curvature =  3427.0 m\n",
      "Relative vehicle position with respect to the line lane center =  0.04 m\n",
      "\n",
      "\n",
      "----------------------- test_images/test4.jpg -----------------------\n",
      "Radius curvature =  805.0 m\n",
      "Left Radius curvature =  1274.0 m Right Radius curvature =  336.0 m\n",
      "Relative vehicle position with respect to the line lane center =  0.42 m\n",
      "\n",
      "\n",
      "----------------------- test_images/test1.jpg -----------------------\n",
      "Radius curvature =  1001.0 m\n",
      "Left Radius curvature =  669.0 m Right Radius curvature =  1333.0 m\n",
      "Relative vehicle position with respect to the line lane center =  0.23 m\n",
      "\n",
      "\n",
      "----------------------- test_images/test3.jpg -----------------------\n",
      "Radius curvature =  1077.0 m\n",
      "Left Radius curvature =  1251.0 m Right Radius curvature =  902.0 m\n",
      "Relative vehicle position with respect to the line lane center =  0.17 m\n",
      "\n",
      "\n",
      "----------------------- test_images/test2.jpg -----------------------\n",
      "Radius curvature =  991.0 m\n",
      "Left Radius curvature =  703.0 m Right Radius curvature =  1279.0 m\n",
      "Relative vehicle position with respect to the line lane center =  0.4 m\n",
      "\n",
      "\n",
      "----------------------- test_images/straight_lines2.jpg -----------------------\n",
      "Radius curvature =  31211.0 m\n",
      "Left Radius curvature =  2960.0 m Right Radius curvature =  59463.0 m\n",
      "Relative vehicle position with respect to the line lane center =  0.07 m\n",
      "\n",
      "\n",
      "----------------------- test_images/straight_lines1.jpg -----------------------\n",
      "Radius curvature =  3569.0 m\n",
      "Left Radius curvature =  3264.0 m Right Radius curvature =  3874.0 m\n",
      "Relative vehicle position with respect to the line lane center =  0.05 m\n",
      "\n",
      "\n"
     ]
    }
   ],
   "source": [
    "%matplotlib inline\n",
    "\n",
    "# Make a list of test images\n",
    "images = glob.glob('test_images/*.jpg')\n",
    "#images = []\n",
    "\n",
    "# Step through the list, read the image and apply the lane finding pipeline\n",
    "for fname in images:\n",
    "\n",
    "    print(\"-----------------------\", fname, \"-----------------------\")\n",
    "    \n",
    "    # Read the image\n",
    "    img = mpimg.imread(fname)\n",
    "\n",
    "    process_image(img, fname, mtx, dist, M, M_inv)\n",
    "\n",
    "    print('\\n')"
   ]
  },
  {
   "cell_type": "markdown",
   "metadata": {},
   "source": [
    "## 3 -  Build a Lane finding Pipeline to a video"
   ]
  },
  {
   "cell_type": "code",
   "execution_count": 8,
   "metadata": {
    "ExecuteTime": {
     "end_time": "2020-05-14T13:44:25.527191Z",
     "start_time": "2020-05-14T13:44:25.087142Z"
    }
   },
   "outputs": [],
   "source": [
    "from frame import *\n",
    "img_size = (720,1280)"
   ]
  },
  {
   "cell_type": "code",
   "execution_count": 9,
   "metadata": {},
   "outputs": [
    {
     "name": "stderr",
     "output_type": "stream",
     "text": [
      "t:   0%|          | 0/1260 [00:00<?, ?it/s, now=None]"
     ]
    },
    {
     "name": "stdout",
     "output_type": "stream",
     "text": [
      "Moviepy - Building video project_video_output.mp4.\n",
      "Moviepy - Writing video project_video_output.mp4\n",
      "\n"
     ]
    },
    {
     "name": "stderr",
     "output_type": "stream",
     "text": [
      "t:  62%|██████▏   | 781/1260 [03:41<02:01,  3.93it/s, now=None]"
     ]
    },
    {
     "name": "stdout",
     "output_type": "stream",
     "text": [
      "Fail sanity check - vehicle position from the lane center 0.51\n"
     ]
    },
    {
     "name": "stderr",
     "output_type": "stream",
     "text": [
      "t:  62%|██████▏   | 782/1260 [03:41<02:02,  3.90it/s, now=None]"
     ]
    },
    {
     "name": "stdout",
     "output_type": "stream",
     "text": [
      "Fail sanity check - vehicle position from the lane center 0.51\n"
     ]
    },
    {
     "name": "stderr",
     "output_type": "stream",
     "text": [
      "t:  62%|██████▏   | 783/1260 [03:41<02:03,  3.88it/s, now=None]"
     ]
    },
    {
     "name": "stdout",
     "output_type": "stream",
     "text": [
      "Fail sanity check - vehicle position from the lane center 0.51\n"
     ]
    },
    {
     "name": "stderr",
     "output_type": "stream",
     "text": [
      "t:  62%|██████▏   | 784/1260 [03:42<02:01,  3.92it/s, now=None]"
     ]
    },
    {
     "name": "stdout",
     "output_type": "stream",
     "text": [
      "Fail sanity check - vehicle position from the lane center 0.51\n"
     ]
    },
    {
     "name": "stderr",
     "output_type": "stream",
     "text": [
      "t:  62%|██████▏   | 785/1260 [03:42<02:00,  3.93it/s, now=None]"
     ]
    },
    {
     "name": "stdout",
     "output_type": "stream",
     "text": [
      "Fail sanity check - vehicle position from the lane center 0.51\n"
     ]
    },
    {
     "name": "stderr",
     "output_type": "stream",
     "text": [
      "t:  62%|██████▏   | 786/1260 [03:42<01:59,  3.96it/s, now=None]"
     ]
    },
    {
     "name": "stdout",
     "output_type": "stream",
     "text": [
      "Fail sanity check - vehicle position from the lane center 0.51\n"
     ]
    },
    {
     "name": "stderr",
     "output_type": "stream",
     "text": [
      "t:  62%|██████▏   | 787/1260 [03:42<02:01,  3.91it/s, now=None]"
     ]
    },
    {
     "name": "stdout",
     "output_type": "stream",
     "text": [
      "Fail sanity check - vehicle position from the lane center 0.51\n"
     ]
    },
    {
     "name": "stderr",
     "output_type": "stream",
     "text": [
      "t:  63%|██████▎   | 788/1260 [03:43<01:59,  3.96it/s, now=None]"
     ]
    },
    {
     "name": "stdout",
     "output_type": "stream",
     "text": [
      "Fail sanity check - vehicle position from the lane center 0.51\n"
     ]
    },
    {
     "name": "stderr",
     "output_type": "stream",
     "text": [
      "t:  63%|██████▎   | 789/1260 [03:43<01:59,  3.95it/s, now=None]"
     ]
    },
    {
     "name": "stdout",
     "output_type": "stream",
     "text": [
      "Fail sanity check - vehicle position from the lane center 0.51\n"
     ]
    },
    {
     "name": "stderr",
     "output_type": "stream",
     "text": [
      "t:  63%|██████▎   | 790/1260 [03:43<01:59,  3.95it/s, now=None]"
     ]
    },
    {
     "name": "stdout",
     "output_type": "stream",
     "text": [
      "Fail sanity check - vehicle position from the lane center 0.51\n"
     ]
    },
    {
     "name": "stderr",
     "output_type": "stream",
     "text": [
      "t:  63%|██████▎   | 791/1260 [03:43<02:00,  3.90it/s, now=None]"
     ]
    },
    {
     "name": "stdout",
     "output_type": "stream",
     "text": [
      "Fail sanity check - vehicle position from the lane center 0.51\n"
     ]
    },
    {
     "name": "stderr",
     "output_type": "stream",
     "text": [
      "t:  63%|██████▎   | 792/1260 [03:44<01:58,  3.96it/s, now=None]"
     ]
    },
    {
     "name": "stdout",
     "output_type": "stream",
     "text": [
      "Fail sanity check - vehicle position from the lane center 0.51\n"
     ]
    },
    {
     "name": "stderr",
     "output_type": "stream",
     "text": [
      "t:  63%|██████▎   | 793/1260 [03:44<01:56,  3.99it/s, now=None]"
     ]
    },
    {
     "name": "stdout",
     "output_type": "stream",
     "text": [
      "Fail sanity check - vehicle position from the lane center 0.51\n"
     ]
    },
    {
     "name": "stderr",
     "output_type": "stream",
     "text": [
      "t:  63%|██████▎   | 794/1260 [03:44<01:57,  3.97it/s, now=None]"
     ]
    },
    {
     "name": "stdout",
     "output_type": "stream",
     "text": [
      "Fail sanity check - vehicle position from the lane center 0.51\n"
     ]
    },
    {
     "name": "stderr",
     "output_type": "stream",
     "text": [
      "t:  63%|██████▎   | 795/1260 [03:44<01:56,  4.00it/s, now=None]"
     ]
    },
    {
     "name": "stdout",
     "output_type": "stream",
     "text": [
      "Fail sanity check - vehicle position from the lane center 0.51\n"
     ]
    },
    {
     "name": "stderr",
     "output_type": "stream",
     "text": [
      "t:  63%|██████▎   | 796/1260 [03:45<01:57,  3.96it/s, now=None]"
     ]
    },
    {
     "name": "stdout",
     "output_type": "stream",
     "text": [
      "Fail sanity check - vehicle position from the lane center 0.51\n"
     ]
    },
    {
     "name": "stderr",
     "output_type": "stream",
     "text": [
      "t:  63%|██████▎   | 797/1260 [03:45<01:55,  3.99it/s, now=None]"
     ]
    },
    {
     "name": "stdout",
     "output_type": "stream",
     "text": [
      "Fail sanity check - vehicle position from the lane center 0.51\n"
     ]
    },
    {
     "name": "stderr",
     "output_type": "stream",
     "text": [
      "t:  65%|██████▍   | 817/1260 [03:50<01:51,  3.99it/s, now=None]"
     ]
    },
    {
     "name": "stdout",
     "output_type": "stream",
     "text": [
      "Fail sanity check - vehicle position from the lane center 0.51\n"
     ]
    },
    {
     "name": "stderr",
     "output_type": "stream",
     "text": [
      "t:  65%|██████▍   | 818/1260 [03:50<01:50,  4.00it/s, now=None]"
     ]
    },
    {
     "name": "stdout",
     "output_type": "stream",
     "text": [
      "Fail sanity check - vehicle position from the lane center 0.51\n"
     ]
    },
    {
     "name": "stderr",
     "output_type": "stream",
     "text": [
      "t:  81%|████████  | 1015/1260 [04:43<01:03,  3.87it/s, now=None]"
     ]
    },
    {
     "name": "stdout",
     "output_type": "stream",
     "text": [
      "Fail sanity check - curvature left curvature: 523.0 right curvature: 2970.0\n"
     ]
    },
    {
     "name": "stderr",
     "output_type": "stream",
     "text": [
      "t:  99%|█████████▉| 1249/1260 [05:46<00:03,  3.37it/s, now=None]"
     ]
    },
    {
     "name": "stdout",
     "output_type": "stream",
     "text": [
      "Fail sanity check - vehicle position from the lane center 0.51\n"
     ]
    },
    {
     "name": "stderr",
     "output_type": "stream",
     "text": [
      "t:  99%|█████████▉| 1250/1260 [05:47<00:02,  3.34it/s, now=None]"
     ]
    },
    {
     "name": "stdout",
     "output_type": "stream",
     "text": [
      "Fail sanity check - vehicle position from the lane center 0.51\n"
     ]
    },
    {
     "name": "stderr",
     "output_type": "stream",
     "text": [
      "t:  99%|█████████▉| 1251/1260 [05:47<00:02,  3.42it/s, now=None]"
     ]
    },
    {
     "name": "stdout",
     "output_type": "stream",
     "text": [
      "Fail sanity check - vehicle position from the lane center 0.52\n"
     ]
    },
    {
     "name": "stderr",
     "output_type": "stream",
     "text": [
      "t:  99%|█████████▉| 1252/1260 [05:47<00:02,  3.47it/s, now=None]"
     ]
    },
    {
     "name": "stdout",
     "output_type": "stream",
     "text": [
      "Fail sanity check - vehicle position from the lane center 0.52\n"
     ]
    },
    {
     "name": "stderr",
     "output_type": "stream",
     "text": [
      "t:  99%|█████████▉| 1253/1260 [05:47<00:01,  3.51it/s, now=None]"
     ]
    },
    {
     "name": "stdout",
     "output_type": "stream",
     "text": [
      "Fail sanity check - vehicle position from the lane center 0.53\n"
     ]
    },
    {
     "name": "stderr",
     "output_type": "stream",
     "text": [
      "t: 100%|█████████▉| 1254/1260 [05:48<00:01,  3.48it/s, now=None]"
     ]
    },
    {
     "name": "stdout",
     "output_type": "stream",
     "text": [
      "Fail sanity check - vehicle position from the lane center 0.53\n"
     ]
    },
    {
     "name": "stderr",
     "output_type": "stream",
     "text": [
      "t: 100%|█████████▉| 1255/1260 [05:48<00:01,  3.46it/s, now=None]"
     ]
    },
    {
     "name": "stdout",
     "output_type": "stream",
     "text": [
      "Fail sanity check - vehicle position from the lane center 0.53\n"
     ]
    },
    {
     "name": "stderr",
     "output_type": "stream",
     "text": [
      "t: 100%|█████████▉| 1256/1260 [05:48<00:01,  3.48it/s, now=None]"
     ]
    },
    {
     "name": "stdout",
     "output_type": "stream",
     "text": [
      "Fail sanity check - vehicle position from the lane center 0.53\n"
     ]
    },
    {
     "name": "stderr",
     "output_type": "stream",
     "text": [
      "t: 100%|█████████▉| 1257/1260 [05:49<00:00,  3.52it/s, now=None]"
     ]
    },
    {
     "name": "stdout",
     "output_type": "stream",
     "text": [
      "Fail sanity check - vehicle position from the lane center 0.53\n"
     ]
    },
    {
     "name": "stderr",
     "output_type": "stream",
     "text": [
      "t: 100%|█████████▉| 1258/1260 [05:49<00:00,  3.47it/s, now=None]"
     ]
    },
    {
     "name": "stdout",
     "output_type": "stream",
     "text": [
      "Fail sanity check - vehicle position from the lane center 0.53\n"
     ]
    },
    {
     "name": "stderr",
     "output_type": "stream",
     "text": [
      "t: 100%|█████████▉| 1259/1260 [05:49<00:00,  3.44it/s, now=None]"
     ]
    },
    {
     "name": "stdout",
     "output_type": "stream",
     "text": [
      "Fail sanity check - vehicle position from the lane center 0.53\n"
     ]
    },
    {
     "name": "stderr",
     "output_type": "stream",
     "text": [
      "t: 100%|██████████| 1260/1260 [05:49<00:00,  3.52it/s, now=None]"
     ]
    },
    {
     "name": "stdout",
     "output_type": "stream",
     "text": [
      "failed\n",
      "No x, y points to fit a line\n",
      "Fail sanity check - vehicle position from the lane center 0.53\n"
     ]
    },
    {
     "name": "stderr",
     "output_type": "stream",
     "text": [
      "                                                                "
     ]
    },
    {
     "name": "stdout",
     "output_type": "stream",
     "text": [
      "Fail sanity check - vehicle position from the lane center 0.52\n"
     ]
    },
    {
     "name": "stderr",
     "output_type": "stream",
     "text": [
      "\r"
     ]
    },
    {
     "name": "stdout",
     "output_type": "stream",
     "text": [
      "Moviepy - Done !\n",
      "Moviepy - video ready project_video_output.mp4\n",
      "CPU times: user 10min 40s, sys: 2min 7s, total: 12min 47s\n",
      "Wall time: 5min 52s\n"
     ]
    }
   ],
   "source": [
    "if True:\n",
    "#if False:\n",
    "    white_output = 'project_video_output.mp4'\n",
    "    clip1 = VideoFileClip(\"project_video.mp4\")\n",
    "    white_clip = clip1.fl_image(Frame(mtx, dist, M, M_inv, img_size, 2))#.subclip(0,5)\n",
    "    %time white_clip.write_videofile(white_output, audio=False)\n"
   ]
  },
  {
   "cell_type": "code",
   "execution_count": 10,
   "metadata": {},
   "outputs": [
    {
     "data": {
      "text/html": [
       "\n",
       "<video width=\"960\" height=\"540\" controls>\n",
       "  <source src=\"project_video_output.mp4\">\n",
       "</video>\n"
      ],
      "text/plain": [
       "<IPython.core.display.HTML object>"
      ]
     },
     "execution_count": 10,
     "metadata": {},
     "output_type": "execute_result"
    }
   ],
   "source": [
    "HTML(\"\"\"\n",
    "<video width=\"960\" height=\"540\" controls>\n",
    "  <source src=\"{0}\">\n",
    "</video>\n",
    "\"\"\".format(white_output))"
   ]
  },
  {
   "cell_type": "markdown",
   "metadata": {},
   "source": [
    "## 4 - Test the pipeline on Challenge Videos"
   ]
  },
  {
   "cell_type": "code",
   "execution_count": null,
   "metadata": {},
   "outputs": [],
   "source": [
    "# Get the transform matrix using 4 source and destination points calculated looking to the straight line image\n",
    "src = np.float32([[250, 720],[1050, 720],[605, 480],[715, 480]])\n",
    "dst = np.float32([[350, 720],[950, 720],[350,0],[950,0]])\n",
    "\n",
    "#src = np.float32([[280, 720],[1150, 720],[600, 480],[725, 480]])\n",
    "#dst = np.float32([[350, 720],[950, 720],[350,0],[950,0]])\n",
    "\n",
    "# Get the transform matrix M using the src and dst points\n",
    "M_1 = cv2.getPerspectiveTransform(src, dst)\n",
    "\n",
    "# Get the invert transform matrix M_inv using the src and dst points\n",
    "M_inv_1 = cv2.getPerspectiveTransform(dst, src)\n",
    "\n",
    "fname = \"challenge_video.jpg\"\n",
    "\n",
    "# Read the image\n",
    "clip1 = VideoFileClip(\"challenge_video.mp4\")\n",
    "img = clip1.get_frame(124 / clip1.fps) # get frame by index\n",
    "img_size = img.shape\n",
    "\n",
    "process_image(img, fname, mtx, dist, M_1, M_inv_1)\n",
    "\n",
    "print('\\n')"
   ]
  },
  {
   "cell_type": "code",
   "execution_count": 12,
   "metadata": {},
   "outputs": [
    {
     "name": "stderr",
     "output_type": "stream",
     "text": [
      "t:   0%|          | 0/485 [00:00<?, ?it/s, now=None]"
     ]
    },
    {
     "name": "stdout",
     "output_type": "stream",
     "text": [
      "Moviepy - Building video challenge_video_output.mp4.\n",
      "Moviepy - Writing video challenge_video_output.mp4\n",
      "\n"
     ]
    },
    {
     "name": "stderr",
     "output_type": "stream",
     "text": [
      "t:   6%|▌         | 27/485 [00:07<02:17,  3.34it/s, now=None]"
     ]
    },
    {
     "name": "stdout",
     "output_type": "stream",
     "text": [
      "Fail sanity check - roughly parallel (maximum distance) 753.3162704974131\n"
     ]
    },
    {
     "name": "stderr",
     "output_type": "stream",
     "text": [
      "t:   6%|▌         | 28/485 [00:07<02:20,  3.25it/s, now=None]"
     ]
    },
    {
     "name": "stdout",
     "output_type": "stream",
     "text": [
      "Fail sanity check - curvature left curvature: 285.0 right curvature: 1643.0\n",
      "Fail sanity check - roughly parallel (maximum distance) 752.3387793485414\n"
     ]
    },
    {
     "name": "stderr",
     "output_type": "stream",
     "text": [
      "t:   6%|▌         | 29/485 [00:08<02:18,  3.28it/s, now=None]"
     ]
    },
    {
     "name": "stdout",
     "output_type": "stream",
     "text": [
      "Fail sanity check - curvature left curvature: 271.0 right curvature: 1452.0\n",
      "Fail sanity check - roughly parallel (maximum distance) 763.8417802463512\n"
     ]
    },
    {
     "name": "stderr",
     "output_type": "stream",
     "text": [
      "t:   6%|▌         | 30/485 [00:08<02:19,  3.25it/s, now=None]"
     ]
    },
    {
     "name": "stdout",
     "output_type": "stream",
     "text": [
      "Fail sanity check - curvature left curvature: 279.0 right curvature: 1726.0\n",
      "Fail sanity check - roughly parallel (maximum distance) 775.2376601714045\n"
     ]
    },
    {
     "name": "stderr",
     "output_type": "stream",
     "text": [
      "t:   6%|▋         | 31/485 [00:08<02:22,  3.19it/s, now=None]"
     ]
    },
    {
     "name": "stdout",
     "output_type": "stream",
     "text": [
      "Fail sanity check - curvature left curvature: 288.0 right curvature: 2192.0\n",
      "Fail sanity check - roughly parallel (maximum distance) 790.8680318578491\n"
     ]
    },
    {
     "name": "stderr",
     "output_type": "stream",
     "text": [
      "t:   7%|▋         | 32/485 [00:09<02:24,  3.14it/s, now=None]"
     ]
    },
    {
     "name": "stdout",
     "output_type": "stream",
     "text": [
      "failed\n",
      "No x, y points to fit a line\n",
      "Fail sanity check - curvature left curvature: 288.0 right curvature: 2751.0\n",
      "Fail sanity check - roughly parallel (maximum distance) 795.4148016900505\n"
     ]
    },
    {
     "name": "stderr",
     "output_type": "stream",
     "text": [
      "t:   7%|▋         | 33/485 [00:09<02:23,  3.16it/s, now=None]"
     ]
    },
    {
     "name": "stdout",
     "output_type": "stream",
     "text": [
      "failed\n",
      "No x, y points to fit a line\n",
      "Fail sanity check - curvature left curvature: 288.0 right curvature: 2479.0\n",
      "Fail sanity check - roughly parallel (maximum distance) 794.4298175934302\n"
     ]
    },
    {
     "name": "stderr",
     "output_type": "stream",
     "text": [
      "t:   7%|▋         | 34/485 [00:09<02:18,  3.25it/s, now=None]"
     ]
    },
    {
     "name": "stdout",
     "output_type": "stream",
     "text": [
      "Fail sanity check - curvature left curvature: 311.0 right curvature: 1968.0\n",
      "Fail sanity check - roughly parallel (maximum distance) 772.6876713481377\n"
     ]
    },
    {
     "name": "stderr",
     "output_type": "stream",
     "text": [
      "t:   7%|▋         | 35/485 [00:10<02:19,  3.24it/s, now=None]"
     ]
    },
    {
     "name": "stdout",
     "output_type": "stream",
     "text": [
      "Fail sanity check - curvature left curvature: 355.0 right curvature: 1857.0\n"
     ]
    },
    {
     "name": "stderr",
     "output_type": "stream",
     "text": [
      "t:   9%|▉         | 46/485 [00:13<02:22,  3.07it/s, now=None]"
     ]
    },
    {
     "name": "stdout",
     "output_type": "stream",
     "text": [
      "Fail sanity check - curvature left curvature: 168.0 right curvature: 929.0\n"
     ]
    },
    {
     "name": "stderr",
     "output_type": "stream",
     "text": [
      "t:  10%|▉         | 47/485 [00:13<02:22,  3.08it/s, now=None]"
     ]
    },
    {
     "name": "stdout",
     "output_type": "stream",
     "text": [
      "Fail sanity check - curvature left curvature: 134.0 right curvature: 805.0\n"
     ]
    },
    {
     "name": "stderr",
     "output_type": "stream",
     "text": [
      "t:  10%|▉         | 48/485 [00:14<02:21,  3.09it/s, now=None]"
     ]
    },
    {
     "name": "stdout",
     "output_type": "stream",
     "text": [
      "Fail sanity check - curvature left curvature: 123.0 right curvature: 699.0\n"
     ]
    },
    {
     "name": "stderr",
     "output_type": "stream",
     "text": [
      "t:  10%|█         | 49/485 [00:14<02:20,  3.10it/s, now=None]"
     ]
    },
    {
     "name": "stdout",
     "output_type": "stream",
     "text": [
      "Fail sanity check - curvature left curvature: 114.0 right curvature: 611.0\n"
     ]
    },
    {
     "name": "stderr",
     "output_type": "stream",
     "text": [
      "t:  11%|█         | 54/485 [00:16<02:24,  2.98it/s, now=None]"
     ]
    },
    {
     "name": "stdout",
     "output_type": "stream",
     "text": [
      "Fail sanity check - distance at the bottom 721.0983887110274 right x point: 1078.3938207651795 left x point: 357.2954320541521\n"
     ]
    },
    {
     "name": "stderr",
     "output_type": "stream",
     "text": [
      "t:  11%|█▏        | 55/485 [00:16<02:24,  2.98it/s, now=None]"
     ]
    },
    {
     "name": "stdout",
     "output_type": "stream",
     "text": [
      "failed\n",
      "No x, y points to fit a line\n"
     ]
    },
    {
     "name": "stderr",
     "output_type": "stream",
     "text": [
      "t:  24%|██▍       | 117/485 [00:36<01:50,  3.33it/s, now=None]"
     ]
    },
    {
     "name": "stdout",
     "output_type": "stream",
     "text": [
      "Fail sanity check - curvature left curvature: 521.0 right curvature: 2844.0\n"
     ]
    },
    {
     "name": "stderr",
     "output_type": "stream",
     "text": [
      "t:  25%|██▌       | 123/485 [00:38<01:52,  3.21it/s, now=None]"
     ]
    },
    {
     "name": "stdout",
     "output_type": "stream",
     "text": [
      "Fail sanity check - roughly parallel (maximum distance) 765.7446083534705\n"
     ]
    },
    {
     "name": "stderr",
     "output_type": "stream",
     "text": [
      "t:  26%|██▌       | 124/485 [00:38<01:47,  3.35it/s, now=None]"
     ]
    },
    {
     "name": "stdout",
     "output_type": "stream",
     "text": [
      "failed\n",
      "No x, y points to fit a line\n",
      "failed\n",
      "No x, y points to fit a line\n",
      "Fail sanity check - roughly parallel (maximum distance) 765.7446083534705\n"
     ]
    },
    {
     "name": "stderr",
     "output_type": "stream",
     "text": [
      "t:  26%|██▌       | 125/485 [00:38<01:48,  3.33it/s, now=None]"
     ]
    },
    {
     "name": "stdout",
     "output_type": "stream",
     "text": [
      "failed\n",
      "No x, y points to fit a line\n",
      "failed\n",
      "No x, y points to fit a line\n",
      "Fail sanity check - roughly parallel (maximum distance) 765.7446083534705\n"
     ]
    },
    {
     "name": "stderr",
     "output_type": "stream",
     "text": [
      "t:  26%|██▌       | 126/485 [00:39<01:49,  3.29it/s, now=None]"
     ]
    },
    {
     "name": "stdout",
     "output_type": "stream",
     "text": [
      "failed\n",
      "No x, y points to fit a line\n",
      "failed\n",
      "No x, y points to fit a line\n",
      "Fail sanity check - roughly parallel (maximum distance) 765.7446083534705\n"
     ]
    },
    {
     "name": "stderr",
     "output_type": "stream",
     "text": [
      "t:  26%|██▌       | 127/485 [00:39<01:49,  3.26it/s, now=None]"
     ]
    },
    {
     "name": "stdout",
     "output_type": "stream",
     "text": [
      "failed\n",
      "No x, y points to fit a line\n",
      "failed\n",
      "No x, y points to fit a line\n",
      "Fail sanity check - roughly parallel (maximum distance) 765.7446083534705\n"
     ]
    },
    {
     "name": "stderr",
     "output_type": "stream",
     "text": [
      "t:  26%|██▋       | 128/485 [00:39<01:49,  3.27it/s, now=None]"
     ]
    },
    {
     "name": "stdout",
     "output_type": "stream",
     "text": [
      "failed\n",
      "No x, y points to fit a line\n",
      "failed\n",
      "No x, y points to fit a line\n",
      "Fail sanity check - roughly parallel (maximum distance) 765.7446083534705\n"
     ]
    },
    {
     "name": "stderr",
     "output_type": "stream",
     "text": [
      "t:  27%|██▋       | 129/485 [00:39<01:45,  3.38it/s, now=None]"
     ]
    },
    {
     "name": "stdout",
     "output_type": "stream",
     "text": [
      "failed\n",
      "No x, y points to fit a line\n",
      "failed\n",
      "No x, y points to fit a line\n",
      "Fail sanity check - roughly parallel (maximum distance) 765.7446083534705\n"
     ]
    },
    {
     "name": "stderr",
     "output_type": "stream",
     "text": [
      "t:  27%|██▋       | 130/485 [00:40<01:43,  3.44it/s, now=None]"
     ]
    },
    {
     "name": "stdout",
     "output_type": "stream",
     "text": [
      "failed\n",
      "No x, y points to fit a line\n",
      "failed\n",
      "No x, y points to fit a line\n",
      "Fail sanity check - roughly parallel (maximum distance) 765.7446083534705\n"
     ]
    },
    {
     "name": "stderr",
     "output_type": "stream",
     "text": [
      "t:  27%|██▋       | 131/485 [00:40<01:44,  3.38it/s, now=None]"
     ]
    },
    {
     "name": "stdout",
     "output_type": "stream",
     "text": [
      "failed\n",
      "No x, y points to fit a line\n",
      "failed\n",
      "No x, y points to fit a line\n",
      "Fail sanity check - roughly parallel (maximum distance) 765.7446083534705\n"
     ]
    },
    {
     "name": "stderr",
     "output_type": "stream",
     "text": [
      "t:  27%|██▋       | 132/485 [00:40<01:41,  3.47it/s, now=None]"
     ]
    },
    {
     "name": "stdout",
     "output_type": "stream",
     "text": [
      "failed\n",
      "No x, y points to fit a line\n",
      "failed\n",
      "No x, y points to fit a line\n",
      "Fail sanity check - roughly parallel (maximum distance) 765.7446083534705\n"
     ]
    },
    {
     "name": "stderr",
     "output_type": "stream",
     "text": [
      "t:  27%|██▋       | 133/485 [00:41<01:44,  3.37it/s, now=None]"
     ]
    },
    {
     "name": "stdout",
     "output_type": "stream",
     "text": [
      "failed\n",
      "No x, y points to fit a line\n",
      "failed\n",
      "No x, y points to fit a line\n",
      "Fail sanity check - roughly parallel (maximum distance) 765.7446083534705\n"
     ]
    },
    {
     "name": "stderr",
     "output_type": "stream",
     "text": [
      "t:  28%|██▊       | 134/485 [00:41<01:40,  3.48it/s, now=None]"
     ]
    },
    {
     "name": "stdout",
     "output_type": "stream",
     "text": [
      "failed\n",
      "No x, y points to fit a line\n",
      "failed\n",
      "No x, y points to fit a line\n",
      "Fail sanity check - roughly parallel (maximum distance) 765.7446083534705\n"
     ]
    },
    {
     "name": "stderr",
     "output_type": "stream",
     "text": [
      "t:  28%|██▊       | 135/485 [00:41<01:40,  3.50it/s, now=None]"
     ]
    },
    {
     "name": "stdout",
     "output_type": "stream",
     "text": [
      "failed\n",
      "No x, y points to fit a line\n",
      "failed\n",
      "No x, y points to fit a line\n",
      "Fail sanity check - roughly parallel (maximum distance) 765.7446083534705\n"
     ]
    },
    {
     "name": "stderr",
     "output_type": "stream",
     "text": [
      "t:  28%|██▊       | 136/485 [00:41<01:39,  3.50it/s, now=None]"
     ]
    },
    {
     "name": "stdout",
     "output_type": "stream",
     "text": [
      "failed\n",
      "No x, y points to fit a line\n",
      "failed\n",
      "No x, y points to fit a line\n",
      "Fail sanity check - roughly parallel (maximum distance) 765.7446083534705\n"
     ]
    },
    {
     "name": "stderr",
     "output_type": "stream",
     "text": [
      "t:  28%|██▊       | 137/485 [00:42<01:39,  3.48it/s, now=None]"
     ]
    },
    {
     "name": "stdout",
     "output_type": "stream",
     "text": [
      "failed\n",
      "No x, y points to fit a line\n",
      "failed\n",
      "No x, y points to fit a line\n",
      "Fail sanity check - roughly parallel (maximum distance) 765.7446083534705\n"
     ]
    },
    {
     "name": "stderr",
     "output_type": "stream",
     "text": [
      "t:  28%|██▊       | 138/485 [00:42<01:39,  3.48it/s, now=None]"
     ]
    },
    {
     "name": "stdout",
     "output_type": "stream",
     "text": [
      "failed\n",
      "No x, y points to fit a line\n",
      "failed\n",
      "No x, y points to fit a line\n",
      "Fail sanity check - roughly parallel (maximum distance) 765.7446083534705\n"
     ]
    },
    {
     "name": "stderr",
     "output_type": "stream",
     "text": [
      "t:  29%|██▊       | 139/485 [00:42<01:40,  3.44it/s, now=None]"
     ]
    },
    {
     "name": "stdout",
     "output_type": "stream",
     "text": [
      "failed\n",
      "No x, y points to fit a line\n",
      "failed\n",
      "No x, y points to fit a line\n",
      "Fail sanity check - roughly parallel (maximum distance) 765.7446083534705\n"
     ]
    },
    {
     "name": "stderr",
     "output_type": "stream",
     "text": [
      "t:  29%|██▉       | 140/485 [00:43<01:39,  3.47it/s, now=None]"
     ]
    },
    {
     "name": "stdout",
     "output_type": "stream",
     "text": [
      "failed\n",
      "No x, y points to fit a line\n",
      "failed\n",
      "No x, y points to fit a line\n",
      "Fail sanity check - roughly parallel (maximum distance) 765.7446083534705\n"
     ]
    },
    {
     "name": "stderr",
     "output_type": "stream",
     "text": [
      "t:  29%|██▉       | 141/485 [00:43<01:37,  3.52it/s, now=None]"
     ]
    },
    {
     "name": "stdout",
     "output_type": "stream",
     "text": [
      "failed\n",
      "No x, y points to fit a line\n",
      "failed\n",
      "No x, y points to fit a line\n",
      "Fail sanity check - roughly parallel (maximum distance) 765.7446083534705\n"
     ]
    },
    {
     "name": "stderr",
     "output_type": "stream",
     "text": [
      "t:  29%|██▉       | 142/485 [00:43<01:36,  3.54it/s, now=None]"
     ]
    },
    {
     "name": "stdout",
     "output_type": "stream",
     "text": [
      "failed\n",
      "No x, y points to fit a line\n",
      "failed\n",
      "No x, y points to fit a line\n",
      "Fail sanity check - roughly parallel (maximum distance) 765.7446083534705\n"
     ]
    },
    {
     "name": "stderr",
     "output_type": "stream",
     "text": [
      "t:  29%|██▉       | 143/485 [00:43<01:41,  3.37it/s, now=None]"
     ]
    },
    {
     "name": "stdout",
     "output_type": "stream",
     "text": [
      "failed\n",
      "No x, y points to fit a line\n",
      "failed\n",
      "No x, y points to fit a line\n",
      "Fail sanity check - roughly parallel (maximum distance) 765.7446083534705\n"
     ]
    },
    {
     "name": "stderr",
     "output_type": "stream",
     "text": [
      "t:  30%|██▉       | 144/485 [00:44<01:40,  3.40it/s, now=None]"
     ]
    },
    {
     "name": "stdout",
     "output_type": "stream",
     "text": [
      "failed\n",
      "No x, y points to fit a line\n",
      "failed\n",
      "No x, y points to fit a line\n",
      "Fail sanity check - roughly parallel (maximum distance) 765.7446083534705\n"
     ]
    },
    {
     "name": "stderr",
     "output_type": "stream",
     "text": [
      "t:  30%|██▉       | 145/485 [00:44<01:35,  3.57it/s, now=None]"
     ]
    },
    {
     "name": "stdout",
     "output_type": "stream",
     "text": [
      "failed\n",
      "No x, y points to fit a line\n",
      "failed\n",
      "No x, y points to fit a line\n",
      "Fail sanity check - roughly parallel (maximum distance) 765.7446083534705\n"
     ]
    },
    {
     "name": "stderr",
     "output_type": "stream",
     "text": [
      "t:  30%|███       | 146/485 [00:44<01:38,  3.44it/s, now=None]"
     ]
    },
    {
     "name": "stdout",
     "output_type": "stream",
     "text": [
      "failed\n",
      "No x, y points to fit a line\n",
      "failed\n",
      "No x, y points to fit a line\n",
      "Fail sanity check - roughly parallel (maximum distance) 765.7446083534705\n"
     ]
    },
    {
     "name": "stderr",
     "output_type": "stream",
     "text": [
      "t:  30%|███       | 147/485 [00:45<01:42,  3.31it/s, now=None]"
     ]
    },
    {
     "name": "stdout",
     "output_type": "stream",
     "text": [
      "failed\n",
      "No x, y points to fit a line\n",
      "failed\n",
      "No x, y points to fit a line\n",
      "Fail sanity check - roughly parallel (maximum distance) 765.7446083534705\n"
     ]
    },
    {
     "name": "stderr",
     "output_type": "stream",
     "text": [
      "t:  31%|███       | 148/485 [00:45<01:38,  3.41it/s, now=None]"
     ]
    },
    {
     "name": "stdout",
     "output_type": "stream",
     "text": [
      "failed\n",
      "No x, y points to fit a line\n",
      "Fail sanity check - roughly parallel (maximum distance) 762.7297687582627\n"
     ]
    },
    {
     "name": "stderr",
     "output_type": "stream",
     "text": [
      "t:  31%|███       | 149/485 [00:45<01:37,  3.43it/s, now=None]"
     ]
    },
    {
     "name": "stdout",
     "output_type": "stream",
     "text": [
      "Fail sanity check - roughly parallel (maximum distance) 769.3830953160657\n"
     ]
    },
    {
     "name": "stderr",
     "output_type": "stream",
     "text": [
      "t:  31%|███       | 150/485 [00:46<01:39,  3.37it/s, now=None]"
     ]
    },
    {
     "name": "stdout",
     "output_type": "stream",
     "text": [
      "Fail sanity check - roughly parallel (maximum distance) 773.2066990692165\n"
     ]
    },
    {
     "name": "stderr",
     "output_type": "stream",
     "text": [
      "t:  31%|███       | 151/485 [00:46<01:40,  3.33it/s, now=None]"
     ]
    },
    {
     "name": "stdout",
     "output_type": "stream",
     "text": [
      "Fail sanity check - roughly parallel (maximum distance) 772.6399066393979\n"
     ]
    },
    {
     "name": "stderr",
     "output_type": "stream",
     "text": [
      "t:  31%|███▏      | 152/485 [00:46<01:40,  3.30it/s, now=None]"
     ]
    },
    {
     "name": "stdout",
     "output_type": "stream",
     "text": [
      "Fail sanity check - roughly parallel (maximum distance) 760.4165761165202\n"
     ]
    },
    {
     "name": "stderr",
     "output_type": "stream",
     "text": [
      "t:  32%|███▏      | 153/485 [00:46<01:38,  3.38it/s, now=None]"
     ]
    },
    {
     "name": "stdout",
     "output_type": "stream",
     "text": [
      "Fail sanity check - roughly parallel (maximum distance) 752.7274010271439\n"
     ]
    },
    {
     "name": "stderr",
     "output_type": "stream",
     "text": [
      "t:  32%|███▏      | 155/485 [00:47<01:41,  3.25it/s, now=None]"
     ]
    },
    {
     "name": "stdout",
     "output_type": "stream",
     "text": [
      "Fail sanity check - roughly parallel (maximum distance) 750.6709784081817\n"
     ]
    },
    {
     "name": "stderr",
     "output_type": "stream",
     "text": [
      "t:  32%|███▏      | 156/485 [00:47<01:39,  3.32it/s, now=None]"
     ]
    },
    {
     "name": "stdout",
     "output_type": "stream",
     "text": [
      "failed\n",
      "No x, y points to fit a line\n"
     ]
    },
    {
     "name": "stderr",
     "output_type": "stream",
     "text": [
      "t:  34%|███▎      | 163/485 [00:50<02:02,  2.63it/s, now=None]"
     ]
    },
    {
     "name": "stdout",
     "output_type": "stream",
     "text": [
      "Fail sanity check - roughly parallel (maximum distance) 756.417355627023\n"
     ]
    },
    {
     "name": "stderr",
     "output_type": "stream",
     "text": [
      "t:  34%|███▍      | 164/485 [00:50<02:04,  2.58it/s, now=None]"
     ]
    },
    {
     "name": "stdout",
     "output_type": "stream",
     "text": [
      "failed\n",
      "No x, y points to fit a line\n",
      "Fail sanity check - roughly parallel (maximum distance) 769.9373529593717\n"
     ]
    },
    {
     "name": "stderr",
     "output_type": "stream",
     "text": [
      "t:  34%|███▍      | 165/485 [00:51<02:01,  2.63it/s, now=None]"
     ]
    },
    {
     "name": "stdout",
     "output_type": "stream",
     "text": [
      "Fail sanity check - roughly parallel (maximum distance) 783.2799659818093\n"
     ]
    },
    {
     "name": "stderr",
     "output_type": "stream",
     "text": [
      "t:  34%|███▍      | 166/485 [00:51<02:26,  2.18it/s, now=None]"
     ]
    },
    {
     "name": "stdout",
     "output_type": "stream",
     "text": [
      "Fail sanity check - roughly parallel (maximum distance) 785.5156823279835\n"
     ]
    },
    {
     "name": "stderr",
     "output_type": "stream",
     "text": [
      "t:  34%|███▍      | 167/485 [00:52<02:23,  2.22it/s, now=None]"
     ]
    },
    {
     "name": "stdout",
     "output_type": "stream",
     "text": [
      "Fail sanity check - roughly parallel (maximum distance) 785.9736732204333\n"
     ]
    },
    {
     "name": "stderr",
     "output_type": "stream",
     "text": [
      "t:  35%|███▍      | 168/485 [00:52<02:14,  2.36it/s, now=None]"
     ]
    },
    {
     "name": "stdout",
     "output_type": "stream",
     "text": [
      "failed\n",
      "No x, y points to fit a line\n",
      "Fail sanity check - roughly parallel (maximum distance) 783.2758566948128\n"
     ]
    },
    {
     "name": "stderr",
     "output_type": "stream",
     "text": [
      "t:  35%|███▍      | 169/485 [00:52<02:06,  2.51it/s, now=None]"
     ]
    },
    {
     "name": "stdout",
     "output_type": "stream",
     "text": [
      "Fail sanity check - roughly parallel (maximum distance) 783.0035004634047\n"
     ]
    },
    {
     "name": "stderr",
     "output_type": "stream",
     "text": [
      "t:  35%|███▌      | 170/485 [00:53<02:07,  2.48it/s, now=None]"
     ]
    },
    {
     "name": "stdout",
     "output_type": "stream",
     "text": [
      "Fail sanity check - roughly parallel (maximum distance) 782.7876109047711\n"
     ]
    },
    {
     "name": "stderr",
     "output_type": "stream",
     "text": [
      "t:  35%|███▌      | 171/485 [00:53<02:16,  2.29it/s, now=None]"
     ]
    },
    {
     "name": "stdout",
     "output_type": "stream",
     "text": [
      "Fail sanity check - roughly parallel (maximum distance) 782.6124617481096\n"
     ]
    },
    {
     "name": "stderr",
     "output_type": "stream",
     "text": [
      "t:  35%|███▌      | 172/485 [00:54<02:15,  2.31it/s, now=None]"
     ]
    },
    {
     "name": "stdout",
     "output_type": "stream",
     "text": [
      "Fail sanity check - roughly parallel (maximum distance) 775.1866905698424\n"
     ]
    },
    {
     "name": "stderr",
     "output_type": "stream",
     "text": [
      "t:  36%|███▌      | 173/485 [00:54<02:06,  2.47it/s, now=None]"
     ]
    },
    {
     "name": "stdout",
     "output_type": "stream",
     "text": [
      "Fail sanity check - roughly parallel (maximum distance) 760.5899872920529\n"
     ]
    },
    {
     "name": "stderr",
     "output_type": "stream",
     "text": [
      "t:  38%|███▊      | 182/485 [00:58<02:18,  2.18it/s, now=None]"
     ]
    },
    {
     "name": "stdout",
     "output_type": "stream",
     "text": [
      "Fail sanity check - roughly parallel (maximum distance) 750.2692929493724\n"
     ]
    },
    {
     "name": "stderr",
     "output_type": "stream",
     "text": [
      "t:  38%|███▊      | 183/485 [00:59<02:18,  2.18it/s, now=None]"
     ]
    },
    {
     "name": "stdout",
     "output_type": "stream",
     "text": [
      "Fail sanity check - roughly parallel (maximum distance) 752.2912134035722\n"
     ]
    },
    {
     "name": "stderr",
     "output_type": "stream",
     "text": [
      "t:  38%|███▊      | 184/485 [00:59<02:14,  2.24it/s, now=None]"
     ]
    },
    {
     "name": "stdout",
     "output_type": "stream",
     "text": [
      "failed\n",
      "No x, y points to fit a line\n",
      "Fail sanity check - roughly parallel (maximum distance) 750.9538454899817\n"
     ]
    },
    {
     "name": "stderr",
     "output_type": "stream",
     "text": [
      "t:  38%|███▊      | 185/485 [00:59<02:02,  2.44it/s, now=None]"
     ]
    },
    {
     "name": "stdout",
     "output_type": "stream",
     "text": [
      "failed\n",
      "No x, y points to fit a line\n",
      "Fail sanity check - roughly parallel (maximum distance) 753.0892601865136\n"
     ]
    },
    {
     "name": "stderr",
     "output_type": "stream",
     "text": [
      "t:  38%|███▊      | 186/485 [01:00<02:07,  2.35it/s, now=None]"
     ]
    },
    {
     "name": "stdout",
     "output_type": "stream",
     "text": [
      "failed\n",
      "No x, y points to fit a line\n",
      "Fail sanity check - roughly parallel (maximum distance) 754.7531619784628\n"
     ]
    },
    {
     "name": "stderr",
     "output_type": "stream",
     "text": [
      "t:  39%|███▊      | 187/485 [01:00<01:57,  2.54it/s, now=None]"
     ]
    },
    {
     "name": "stdout",
     "output_type": "stream",
     "text": [
      "failed\n",
      "No x, y points to fit a line\n",
      "Fail sanity check - roughly parallel (maximum distance) 756.5853888047444\n"
     ]
    },
    {
     "name": "stderr",
     "output_type": "stream",
     "text": [
      "t:  39%|███▉      | 188/485 [01:00<01:53,  2.63it/s, now=None]"
     ]
    },
    {
     "name": "stdout",
     "output_type": "stream",
     "text": [
      "failed\n",
      "No x, y points to fit a line\n",
      "failed\n",
      "No x, y points to fit a line\n",
      "Fail sanity check - roughly parallel (maximum distance) 756.5853888047444\n"
     ]
    },
    {
     "name": "stderr",
     "output_type": "stream",
     "text": [
      "t:  39%|███▉      | 189/485 [01:01<01:56,  2.54it/s, now=None]"
     ]
    },
    {
     "name": "stdout",
     "output_type": "stream",
     "text": [
      "failed\n",
      "No x, y points to fit a line\n",
      "failed\n",
      "No x, y points to fit a line\n",
      "Fail sanity check - roughly parallel (maximum distance) 756.5853888047444\n"
     ]
    },
    {
     "name": "stderr",
     "output_type": "stream",
     "text": [
      "t:  39%|███▉      | 190/485 [01:01<01:54,  2.57it/s, now=None]"
     ]
    },
    {
     "name": "stdout",
     "output_type": "stream",
     "text": [
      "Fail sanity check - roughly parallel (maximum distance) 768.376138675343\n"
     ]
    },
    {
     "name": "stderr",
     "output_type": "stream",
     "text": [
      "t:  39%|███▉      | 191/485 [01:02<01:47,  2.73it/s, now=None]"
     ]
    },
    {
     "name": "stdout",
     "output_type": "stream",
     "text": [
      "Fail sanity check - roughly parallel (maximum distance) 760.2028292230476\n"
     ]
    },
    {
     "name": "stderr",
     "output_type": "stream",
     "text": [
      "t:  40%|███▉      | 192/485 [01:02<01:53,  2.59it/s, now=None]"
     ]
    },
    {
     "name": "stdout",
     "output_type": "stream",
     "text": [
      "failed\n",
      "No x, y points to fit a line\n",
      "Fail sanity check - roughly parallel (maximum distance) 758.7150931116815\n"
     ]
    },
    {
     "name": "stderr",
     "output_type": "stream",
     "text": [
      "t:  40%|███▉      | 193/485 [01:02<01:46,  2.74it/s, now=None]"
     ]
    },
    {
     "name": "stdout",
     "output_type": "stream",
     "text": [
      "failed\n",
      "No x, y points to fit a line\n",
      "Fail sanity check - roughly parallel (maximum distance) 757.5162947923621\n"
     ]
    },
    {
     "name": "stderr",
     "output_type": "stream",
     "text": [
      "t:  40%|████      | 194/485 [01:03<01:42,  2.84it/s, now=None]"
     ]
    },
    {
     "name": "stdout",
     "output_type": "stream",
     "text": [
      "failed\n",
      "No x, y points to fit a line\n",
      "Fail sanity check - roughly parallel (maximum distance) 754.9643544379436\n"
     ]
    },
    {
     "name": "stderr",
     "output_type": "stream",
     "text": [
      "t:  42%|████▏     | 205/485 [01:06<01:28,  3.18it/s, now=None]"
     ]
    },
    {
     "name": "stdout",
     "output_type": "stream",
     "text": [
      "Fail sanity check - roughly parallel (maximum distance) 751.4220002532574\n"
     ]
    },
    {
     "name": "stderr",
     "output_type": "stream",
     "text": [
      "t:  43%|████▎     | 208/485 [01:07<01:38,  2.81it/s, now=None]"
     ]
    },
    {
     "name": "stdout",
     "output_type": "stream",
     "text": [
      "Fail sanity check - roughly parallel (maximum distance) 750.981632666264\n"
     ]
    },
    {
     "name": "stderr",
     "output_type": "stream",
     "text": [
      "t:  43%|████▎     | 210/485 [01:08<01:33,  2.95it/s, now=None]"
     ]
    },
    {
     "name": "stdout",
     "output_type": "stream",
     "text": [
      "Fail sanity check - roughly parallel (maximum distance) 751.3949693911256\n"
     ]
    },
    {
     "name": "stderr",
     "output_type": "stream",
     "text": [
      "t:  44%|████▎     | 211/485 [01:08<01:30,  3.04it/s, now=None]"
     ]
    },
    {
     "name": "stdout",
     "output_type": "stream",
     "text": [
      "failed\n",
      "No x, y points to fit a line\n",
      "Fail sanity check - roughly parallel (maximum distance) 755.3779813805743\n"
     ]
    },
    {
     "name": "stderr",
     "output_type": "stream",
     "text": [
      "t:  46%|████▌     | 222/485 [01:13<01:41,  2.60it/s, now=None]"
     ]
    },
    {
     "name": "stdout",
     "output_type": "stream",
     "text": [
      "Fail sanity check - roughly parallel (maximum distance) 752.8483423289047\n"
     ]
    },
    {
     "name": "stderr",
     "output_type": "stream",
     "text": [
      "t:  46%|████▌     | 223/485 [01:13<01:33,  2.81it/s, now=None]"
     ]
    },
    {
     "name": "stdout",
     "output_type": "stream",
     "text": [
      "Fail sanity check - roughly parallel (maximum distance) 752.459473578381\n"
     ]
    },
    {
     "name": "stderr",
     "output_type": "stream",
     "text": [
      "t:  53%|█████▎    | 258/485 [01:26<01:10,  3.22it/s, now=None]"
     ]
    },
    {
     "name": "stdout",
     "output_type": "stream",
     "text": [
      "Fail sanity check - roughly parallel (maximum distance) 752.4168437895379\n"
     ]
    },
    {
     "name": "stderr",
     "output_type": "stream",
     "text": [
      "t:  53%|█████▎    | 259/485 [01:26<01:10,  3.23it/s, now=None]"
     ]
    },
    {
     "name": "stdout",
     "output_type": "stream",
     "text": [
      "failed\n",
      "No x, y points to fit a line\n"
     ]
    },
    {
     "name": "stderr",
     "output_type": "stream",
     "text": [
      "t:  54%|█████▎    | 260/485 [01:27<01:08,  3.29it/s, now=None]"
     ]
    },
    {
     "name": "stdout",
     "output_type": "stream",
     "text": [
      "Fail sanity check - roughly parallel (maximum distance) 753.3182105621898\n"
     ]
    },
    {
     "name": "stderr",
     "output_type": "stream",
     "text": [
      "t:  54%|█████▍    | 261/485 [01:27<01:08,  3.27it/s, now=None]"
     ]
    },
    {
     "name": "stdout",
     "output_type": "stream",
     "text": [
      "failed\n",
      "No x, y points to fit a line\n",
      "Fail sanity check - roughly parallel (maximum distance) 750.6177635272124\n"
     ]
    },
    {
     "name": "stderr",
     "output_type": "stream",
     "text": [
      "t:  54%|█████▍    | 262/485 [01:27<01:07,  3.30it/s, now=None]"
     ]
    },
    {
     "name": "stdout",
     "output_type": "stream",
     "text": [
      "Fail sanity check - roughly parallel (maximum distance) 750.9063713553847\n"
     ]
    },
    {
     "name": "stderr",
     "output_type": "stream",
     "text": [
      "t:  54%|█████▍    | 264/485 [01:28<01:06,  3.33it/s, now=None]"
     ]
    },
    {
     "name": "stdout",
     "output_type": "stream",
     "text": [
      "Fail sanity check - roughly parallel (maximum distance) 750.4997603593094\n"
     ]
    },
    {
     "name": "stderr",
     "output_type": "stream",
     "text": [
      "t:  55%|█████▍    | 266/485 [01:29<01:09,  3.14it/s, now=None]"
     ]
    },
    {
     "name": "stdout",
     "output_type": "stream",
     "text": [
      "Fail sanity check - roughly parallel (maximum distance) 750.6937121984416\n"
     ]
    },
    {
     "name": "stderr",
     "output_type": "stream",
     "text": [
      "t:  56%|█████▋    | 273/485 [01:31<01:14,  2.86it/s, now=None]"
     ]
    },
    {
     "name": "stdout",
     "output_type": "stream",
     "text": [
      "Fail sanity check - roughly parallel (maximum distance) 750.2572489843576\n"
     ]
    },
    {
     "name": "stderr",
     "output_type": "stream",
     "text": [
      "t:  72%|███████▏  | 351/485 [01:56<00:43,  3.07it/s, now=None]"
     ]
    },
    {
     "name": "stdout",
     "output_type": "stream",
     "text": [
      "Fail sanity check - curvature left curvature: 2141.0 right curvature: 357.0\n"
     ]
    },
    {
     "name": "stderr",
     "output_type": "stream",
     "text": [
      "t:  73%|███████▎  | 352/485 [01:57<00:50,  2.63it/s, now=None]"
     ]
    },
    {
     "name": "stdout",
     "output_type": "stream",
     "text": [
      "Fail sanity check - curvature left curvature: 3002.0 right curvature: 366.0\n"
     ]
    },
    {
     "name": "stderr",
     "output_type": "stream",
     "text": [
      "t:  75%|███████▍  | 362/485 [02:00<00:40,  3.03it/s, now=None]"
     ]
    },
    {
     "name": "stdout",
     "output_type": "stream",
     "text": [
      "Fail sanity check - curvature left curvature: 3005.0 right curvature: 376.0\n"
     ]
    },
    {
     "name": "stderr",
     "output_type": "stream",
     "text": [
      "t:  75%|███████▍  | 363/485 [02:00<00:39,  3.07it/s, now=None]"
     ]
    },
    {
     "name": "stdout",
     "output_type": "stream",
     "text": [
      "Fail sanity check - curvature left curvature: 3143.0 right curvature: 364.0\n"
     ]
    },
    {
     "name": "stderr",
     "output_type": "stream",
     "text": [
      "t:  75%|███████▌  | 364/485 [02:01<00:39,  3.08it/s, now=None]"
     ]
    },
    {
     "name": "stdout",
     "output_type": "stream",
     "text": [
      "Fail sanity check - curvature left curvature: 2997.0 right curvature: 345.0\n"
     ]
    },
    {
     "name": "stderr",
     "output_type": "stream",
     "text": [
      "t:  75%|███████▌  | 365/485 [02:01<00:39,  3.07it/s, now=None]"
     ]
    },
    {
     "name": "stdout",
     "output_type": "stream",
     "text": [
      "Fail sanity check - curvature left curvature: 3261.0 right curvature: 335.0\n"
     ]
    },
    {
     "name": "stderr",
     "output_type": "stream",
     "text": [
      "t:  76%|███████▌  | 369/485 [02:03<00:51,  2.26it/s, now=None]"
     ]
    },
    {
     "name": "stdout",
     "output_type": "stream",
     "text": [
      "Fail sanity check - curvature left curvature: 2838.0 right curvature: 333.0\n"
     ]
    },
    {
     "name": "stderr",
     "output_type": "stream",
     "text": [
      "t:  76%|███████▋  | 370/485 [02:04<00:53,  2.14it/s, now=None]"
     ]
    },
    {
     "name": "stdout",
     "output_type": "stream",
     "text": [
      "Fail sanity check - curvature left curvature: 2415.0 right curvature: 332.0\n"
     ]
    },
    {
     "name": "stderr",
     "output_type": "stream",
     "text": [
      "t:  76%|███████▋  | 371/485 [02:04<00:50,  2.27it/s, now=None]"
     ]
    },
    {
     "name": "stdout",
     "output_type": "stream",
     "text": [
      "Fail sanity check - curvature left curvature: 2241.0 right curvature: 316.0\n"
     ]
    },
    {
     "name": "stderr",
     "output_type": "stream",
     "text": [
      "t:  77%|███████▋  | 372/485 [02:04<00:51,  2.20it/s, now=None]"
     ]
    },
    {
     "name": "stdout",
     "output_type": "stream",
     "text": [
      "Fail sanity check - curvature left curvature: 2143.0 right curvature: 308.0\n"
     ]
    },
    {
     "name": "stderr",
     "output_type": "stream",
     "text": [
      "t:  77%|███████▋  | 373/485 [02:05<00:53,  2.08it/s, now=None]"
     ]
    },
    {
     "name": "stdout",
     "output_type": "stream",
     "text": [
      "Fail sanity check - curvature left curvature: 1732.0 right curvature: 300.0\n"
     ]
    },
    {
     "name": "stderr",
     "output_type": "stream",
     "text": [
      "t:  79%|███████▊  | 381/485 [02:08<00:43,  2.40it/s, now=None]"
     ]
    },
    {
     "name": "stdout",
     "output_type": "stream",
     "text": [
      "Fail sanity check - curvature left curvature: 1270.0 right curvature: 228.0\n"
     ]
    },
    {
     "name": "stderr",
     "output_type": "stream",
     "text": [
      "t:  79%|███████▉  | 382/485 [02:09<00:40,  2.52it/s, now=None]"
     ]
    },
    {
     "name": "stdout",
     "output_type": "stream",
     "text": [
      "Fail sanity check - curvature left curvature: 1335.0 right curvature: 222.0\n"
     ]
    },
    {
     "name": "stderr",
     "output_type": "stream",
     "text": [
      "t:  79%|███████▉  | 383/485 [02:09<00:38,  2.68it/s, now=None]"
     ]
    },
    {
     "name": "stdout",
     "output_type": "stream",
     "text": [
      "Fail sanity check - curvature left curvature: 1188.0 right curvature: 218.0\n"
     ]
    },
    {
     "name": "stderr",
     "output_type": "stream",
     "text": [
      "t:  79%|███████▉  | 384/485 [02:09<00:36,  2.73it/s, now=None]"
     ]
    },
    {
     "name": "stdout",
     "output_type": "stream",
     "text": [
      "Fail sanity check - curvature left curvature: 1120.0 right curvature: 214.0\n"
     ]
    },
    {
     "name": "stderr",
     "output_type": "stream",
     "text": [
      "t:  79%|███████▉  | 385/485 [02:10<00:34,  2.88it/s, now=None]"
     ]
    },
    {
     "name": "stdout",
     "output_type": "stream",
     "text": [
      "Fail sanity check - curvature left curvature: 1069.0 right curvature: 212.0\n",
      "Fail sanity check - roughly parallel (maximum distance) 752.1708191510318\n"
     ]
    },
    {
     "name": "stderr",
     "output_type": "stream",
     "text": [
      "t:  98%|█████████▊| 473/485 [02:37<00:02,  4.05it/s, now=None]"
     ]
    },
    {
     "name": "stdout",
     "output_type": "stream",
     "text": [
      "Fail sanity check - roughly parallel (maximum distance) 750.0084439221661\n"
     ]
    },
    {
     "name": "stderr",
     "output_type": "stream",
     "text": [
      "t:  98%|█████████▊| 474/485 [02:37<00:02,  4.07it/s, now=None]"
     ]
    },
    {
     "name": "stdout",
     "output_type": "stream",
     "text": [
      "Fail sanity check - curvature left curvature: 456.0 right curvature: 2567.0\n",
      "Fail sanity check - roughly parallel (maximum distance) 752.6395185649716\n"
     ]
    },
    {
     "name": "stderr",
     "output_type": "stream",
     "text": [
      "t:  98%|█████████▊| 475/485 [02:38<00:02,  4.06it/s, now=None]"
     ]
    },
    {
     "name": "stdout",
     "output_type": "stream",
     "text": [
      "Fail sanity check - curvature left curvature: 426.0 right curvature: 3077.0\n",
      "Fail sanity check - roughly parallel (maximum distance) 756.8778419629978\n"
     ]
    },
    {
     "name": "stderr",
     "output_type": "stream",
     "text": [
      "t:  98%|█████████▊| 476/485 [02:38<00:02,  4.05it/s, now=None]"
     ]
    },
    {
     "name": "stdout",
     "output_type": "stream",
     "text": [
      "Fail sanity check - roughly parallel (maximum distance) 755.3929841624896\n"
     ]
    },
    {
     "name": "stderr",
     "output_type": "stream",
     "text": [
      "t:  98%|█████████▊| 477/485 [02:38<00:01,  4.04it/s, now=None]"
     ]
    },
    {
     "name": "stdout",
     "output_type": "stream",
     "text": [
      "failed\n",
      "No x, y points to fit a line\n",
      "Fail sanity check - roughly parallel (maximum distance) 753.637709392508\n"
     ]
    },
    {
     "name": "stderr",
     "output_type": "stream",
     "text": [
      "t:  99%|█████████▊| 478/485 [02:38<00:01,  4.07it/s, now=None]"
     ]
    },
    {
     "name": "stdout",
     "output_type": "stream",
     "text": [
      "failed\n",
      "No x, y points to fit a line\n",
      "Fail sanity check - roughly parallel (maximum distance) 752.5723255921563\n"
     ]
    },
    {
     "name": "stderr",
     "output_type": "stream",
     "text": [
      "                                                              \r"
     ]
    },
    {
     "name": "stdout",
     "output_type": "stream",
     "text": [
      "Moviepy - Done !\n",
      "Moviepy - video ready challenge_video_output.mp4\n",
      "CPU times: user 2min 39s, sys: 36 s, total: 3min 15s\n",
      "Wall time: 2min 42s\n"
     ]
    }
   ],
   "source": [
    "if True:\n",
    "#if False:\n",
    "    white_output = 'challenge_video_output.mp4'\n",
    "    clip1 = VideoFileClip(\"challenge_video.mp4\")\n",
    "    white_clip = clip1.fl_image(Frame(mtx, dist, M_1, M_inv_1, img_size, 2)) #.subclip(0,5) #NOTE: this function expects color images!!\n",
    "    %time white_clip.write_videofile(white_output, audio=False)"
   ]
  },
  {
   "cell_type": "code",
   "execution_count": 13,
   "metadata": {},
   "outputs": [
    {
     "data": {
      "text/html": [
       "\n",
       "<video width=\"960\" height=\"540\" controls>\n",
       "  <source src=\"challenge_video_output.mp4\">\n",
       "</video>\n"
      ],
      "text/plain": [
       "<IPython.core.display.HTML object>"
      ]
     },
     "execution_count": 13,
     "metadata": {},
     "output_type": "execute_result"
    }
   ],
   "source": [
    "HTML(\"\"\"\n",
    "<video width=\"960\" height=\"540\" controls>\n",
    "  <source src=\"{0}\">\n",
    "</video>\n",
    "\"\"\".format(white_output))"
   ]
  },
  {
   "cell_type": "code",
   "execution_count": 14,
   "metadata": {},
   "outputs": [],
   "source": [
    "def process_image_1(original_image, fname, mtx, dist, M, M_inv):\n",
    "    \n",
    "    ## 1 - Apply a distortion correction to the image ##\n",
    "    undist = undistort_image(original_image, mtx, dist)\n",
    "    save_undistorted_images(output_path, fname, original_image, undist)\n",
    "\n",
    "    ## 2 - Use color transforms, gradients, etc., to create a thresholded binary image ##\n",
    "    ksize = 3 # Sobel kernel size \n",
    "\n",
    "    # Apply each of the gradient thresholding functions\n",
    "    gradx = abs_sobel_thresh(undist, orient='x', sobel_kernel=ksize, thresh=(30, 200))\n",
    "    grady = abs_sobel_thresh(undist, orient='y', sobel_kernel=ksize, thresh=(50, 200))\n",
    "    mag_binary = mag_thresh(undist, sobel_kernel=ksize, mag_thresh=(30, 200))\n",
    "    dir_binary = dir_threshold(undist, sobel_kernel=ksize, thresh=(0.7, 1.3))\n",
    "\n",
    "    # Apply each of the color thresholding functions for HLS color space\n",
    "    hls_colors_binary = hls_select(undist, s_thresh=(170, 240), l_thresh=(255, 255)) # l - 200\n",
    "\n",
    "    # Apply each of the color thresholding functions for HSV color space\n",
    "    hsv_colors_binary = hsv_select(undist, s_thresh=(170,240), v_thresh=(255, 255), vs_thresh=(200, 255)) # v - 200\n",
    "        \n",
    "    # Combine all of the thresholding binaries\n",
    "    binary_image = np.zeros_like(mag_binary)\n",
    "    binary_image[(hsv_colors_binary == 1) | (hls_colors_binary == 1) | ((mag_binary == 1) & (dir_binary == 1)) ] = 1\n",
    "    #binary_image = hls_colors_binary\n",
    "    save_binary_images(output_path, fname, undist, binary_image)\n",
    "    \n",
    "    # 3 - Apply a perspective transform to rectify binary image (\"birds-eye view\") ##\n",
    "\n",
    "    # Warp the image to a top-down view\n",
    "    img_size = (undist.shape[1], undist.shape[0])\n",
    "    binary_warped = cv2.warpPerspective(binary_image, M, img_size, flags=cv2.INTER_LINEAR)\n",
    "    \n",
    "    warped = cv2.warpPerspective(undist, M, img_size, flags=cv2.INTER_LINEAR)\n",
    "    save_warped_images(output_path, fname, binary_warped, warped)\n",
    "\n",
    "    ## 4 - Detect lane pixels and fit to find the lane boundary ##\n",
    "    \n",
    "    # Create a sliding window and find out which activated pixels fall into the window\n",
    "    out_img, left_fit, right_fit, left_fitx, right_fitx, ploty = fit_polynomial(binary_warped)\n",
    "\n",
    "    ## 5 - Determine the curvature of the lane and vehicle position with respect to center ##\n",
    "    \n",
    "    radius_curvature, left_radius_curvature , right_radius_curvature = measure_curvature_real(out_img.shape[0], left_fit, right_fit)\n",
    "\n",
    "    rel_vehicle_position = measure_rel_vehicle_position(out_img.shape, left_fit, right_fit)\n",
    "\n",
    "    ## 6 - Warp the detected lane boundaries back onto the original image ##\n",
    "\n",
    "    # Create an image to draw the lines on\n",
    "    warp_zero = np.zeros_like(binary_warped).astype(np.uint8)\n",
    "    color_warp = np.dstack((warp_zero, warp_zero, warp_zero))\n",
    "\n",
    "    # Recast the x and y points into usable format for cv2.fillPoly()\n",
    "    pts_left = np.array([np.transpose(np.vstack([left_fitx, ploty]))])\n",
    "    pts_right = np.array([np.flipud(np.transpose(np.vstack([right_fitx, ploty])))])\n",
    "    pts = np.hstack((pts_left, pts_right))\n",
    "\n",
    "    # Draw the lane onto the warped blank image\n",
    "    cv2.fillPoly(color_warp, np.int_([pts]), (0,255, 0))\n",
    "\n",
    "    # Warp the blank back to original image space using inverse perspective matrix (Minv)\n",
    "    newwarp = cv2.warpPerspective(color_warp, M_inv, img_size) \n",
    "\n",
    "    ## 7 - Output visual display of the lane boundaries and numerical estimation of lane curvature and vehicle position ##\n",
    "    # Combine the result with the original image\n",
    "    result = cv2.addWeighted(undist, 1, newwarp, 0.3, 0)\n",
    "    result = cv2.addWeighted(original_image, 1, newwarp, 0.3, 0)\n",
    "\n",
    "    save_lane_lines_image(output_path, fname, out_img)\n",
    "\n",
    "    print(\"Radius curvature = \", radius_curvature, 'm')\n",
    "    print(\"Left Radius curvature = \", left_radius_curvature, 'm', \"Right Radius curvature = \", right_radius_curvature, 'm', )\n",
    "    print(\"Relative vehicle position with respect to the line lane center = \",rel_vehicle_position, 'm')\n",
    "\n",
    "    save_pipeline_image(output_path, fname, result, radius_curvature, rel_vehicle_position )"
   ]
  },
  {
   "cell_type": "code",
   "execution_count": 15,
   "metadata": {},
   "outputs": [
    {
     "name": "stdout",
     "output_type": "stream",
     "text": [
      "Radius curvature =  49.0 m\n",
      "Left Radius curvature =  54.0 m Right Radius curvature =  44.0 m\n",
      "Relative vehicle position with respect to the line lane center =  0.25 m\n",
      "\n",
      "\n"
     ]
    }
   ],
   "source": [
    "# Get the transform matrix using 4 source and destination points calculated looking to the straight line image\n",
    "src = np.float32([[250, 720],[1050, 720],[605, 480],[715, 480]])\n",
    "dst = np.float32([[350, 720],[950, 720],[350,0],[950,0]])\n",
    "\n",
    "# Get the transform matrix M using the src and dst points\n",
    "M_1 = cv2.getPerspectiveTransform(src, dst)\n",
    "\n",
    "# Get the invert transform matrix M using the src and dst points\n",
    "M_inv_1 = cv2.getPerspectiveTransform(dst, src)\n",
    "\n",
    "fname = \"challenge_video.jpg\"\n",
    "\n",
    "# Read the image\n",
    "clip1 = VideoFileClip(\"harder_challenge_video.mp4\")\n",
    "img = clip1.get_frame(100 / clip1.fps) # get frame by index\n",
    "img_size = img.shape\n",
    "\n",
    "process_image_1(img, fname, mtx, dist, M, M_inv)\n",
    "\n",
    "print('\\n')"
   ]
  },
  {
   "cell_type": "code",
   "execution_count": 16,
   "metadata": {},
   "outputs": [
    {
     "name": "stderr",
     "output_type": "stream",
     "text": [
      "t:   0%|          | 0/1199 [00:00<?, ?it/s, now=None]"
     ]
    },
    {
     "name": "stdout",
     "output_type": "stream",
     "text": [
      "Fail sanity check - curvature left curvature: 3213.0 right curvature: 365.0\n",
      "Fail sanity check - roughly parallel (maximum distance) 881.5906050870943\n",
      "Moviepy - Building video harder_challenge_video_output.mp4.\n",
      "Moviepy - Writing video harder_challenge_video_output.mp4\n",
      "\n"
     ]
    },
    {
     "name": "stderr",
     "output_type": "stream",
     "text": [
      "t:   0%|          | 2/1199 [00:01<12:44,  1.57it/s, now=None]"
     ]
    },
    {
     "name": "stdout",
     "output_type": "stream",
     "text": [
      "Fail sanity check - curvature left curvature: 3213.0 right curvature: 365.0\n",
      "Fail sanity check - roughly parallel (maximum distance) 881.5906050870943\n"
     ]
    },
    {
     "name": "stderr",
     "output_type": "stream",
     "text": [
      "t:   0%|          | 3/1199 [00:02<17:12,  1.16it/s, now=None]"
     ]
    },
    {
     "name": "stdout",
     "output_type": "stream",
     "text": [
      "Fail sanity check - roughly parallel (maximum distance) 779.8502650266375\n"
     ]
    },
    {
     "name": "stderr",
     "output_type": "stream",
     "text": [
      "t:   1%|          | 8/1199 [00:09<23:42,  1.19s/it, now=None]"
     ]
    },
    {
     "name": "stdout",
     "output_type": "stream",
     "text": [
      "Fail sanity check - roughly parallel (maximum distance) 755.3116461086933\n"
     ]
    },
    {
     "name": "stderr",
     "output_type": "stream",
     "text": [
      "t:   1%|          | 14/1199 [00:17<27:41,  1.40s/it, now=None]"
     ]
    },
    {
     "name": "stdout",
     "output_type": "stream",
     "text": [
      "Fail sanity check - roughly parallel (maximum distance) 766.523511435078\n"
     ]
    },
    {
     "name": "stderr",
     "output_type": "stream",
     "text": [
      "t:   1%|▏         | 15/1199 [00:19<26:50,  1.36s/it, now=None]"
     ]
    },
    {
     "name": "stdout",
     "output_type": "stream",
     "text": [
      "Fail sanity check - roughly parallel (maximum distance) 759.082710196245\n"
     ]
    },
    {
     "name": "stderr",
     "output_type": "stream",
     "text": [
      "t:   1%|▏         | 16/1199 [00:20<26:12,  1.33s/it, now=None]"
     ]
    },
    {
     "name": "stdout",
     "output_type": "stream",
     "text": [
      "Fail sanity check - roughly parallel (maximum distance) 774.881618468238\n"
     ]
    },
    {
     "name": "stderr",
     "output_type": "stream",
     "text": [
      "t:   1%|▏         | 17/1199 [00:21<25:53,  1.31s/it, now=None]"
     ]
    },
    {
     "name": "stdout",
     "output_type": "stream",
     "text": [
      "Fail sanity check - roughly parallel (maximum distance) 761.5929103560118\n"
     ]
    },
    {
     "name": "stderr",
     "output_type": "stream",
     "text": [
      "t:   2%|▏         | 18/1199 [00:22<26:05,  1.33s/it, now=None]"
     ]
    },
    {
     "name": "stdout",
     "output_type": "stream",
     "text": [
      "Fail sanity check - roughly parallel (maximum distance) 773.1032209339692\n"
     ]
    },
    {
     "name": "stderr",
     "output_type": "stream",
     "text": [
      "t:   2%|▏         | 19/1199 [00:24<25:44,  1.31s/it, now=None]"
     ]
    },
    {
     "name": "stdout",
     "output_type": "stream",
     "text": [
      "Fail sanity check - roughly parallel (maximum distance) 806.8981573816712\n"
     ]
    },
    {
     "name": "stderr",
     "output_type": "stream",
     "text": [
      "t:   2%|▏         | 20/1199 [00:25<25:10,  1.28s/it, now=None]"
     ]
    },
    {
     "name": "stdout",
     "output_type": "stream",
     "text": [
      "Fail sanity check - roughly parallel (maximum distance) 819.277081242038\n"
     ]
    },
    {
     "name": "stderr",
     "output_type": "stream",
     "text": [
      "t:   2%|▏         | 21/1199 [00:26<24:48,  1.26s/it, now=None]"
     ]
    },
    {
     "name": "stdout",
     "output_type": "stream",
     "text": [
      "Fail sanity check - roughly parallel (maximum distance) 831.2696355543524\n"
     ]
    },
    {
     "name": "stderr",
     "output_type": "stream",
     "text": [
      "t:   2%|▏         | 22/1199 [00:27<24:38,  1.26s/it, now=None]"
     ]
    },
    {
     "name": "stdout",
     "output_type": "stream",
     "text": [
      "Fail sanity check - curvature left curvature: 2566.0 right curvature: 316.0\n",
      "Fail sanity check - roughly parallel (maximum distance) 853.4802869327216\n"
     ]
    },
    {
     "name": "stderr",
     "output_type": "stream",
     "text": [
      "t:   2%|▏         | 23/1199 [00:29<25:40,  1.31s/it, now=None]"
     ]
    },
    {
     "name": "stdout",
     "output_type": "stream",
     "text": [
      "Fail sanity check - curvature left curvature: 1897.0 right curvature: 315.0\n",
      "Fail sanity check - roughly parallel (maximum distance) 878.9548353571088\n"
     ]
    },
    {
     "name": "stderr",
     "output_type": "stream",
     "text": [
      "t:   2%|▏         | 24/1199 [00:30<25:26,  1.30s/it, now=None]"
     ]
    },
    {
     "name": "stdout",
     "output_type": "stream",
     "text": [
      "Fail sanity check - roughly parallel (maximum distance) 901.0097997063302\n"
     ]
    },
    {
     "name": "stderr",
     "output_type": "stream",
     "text": [
      "t:   2%|▏         | 25/1199 [00:31<25:29,  1.30s/it, now=None]"
     ]
    },
    {
     "name": "stdout",
     "output_type": "stream",
     "text": [
      "Fail sanity check - roughly parallel (maximum distance) 937.1998185291623\n"
     ]
    },
    {
     "name": "stderr",
     "output_type": "stream",
     "text": [
      "t:   2%|▏         | 26/1199 [00:33<26:17,  1.34s/it, now=None]"
     ]
    },
    {
     "name": "stdout",
     "output_type": "stream",
     "text": [
      "Fail sanity check - roughly parallel (maximum distance) 917.7798367439112\n"
     ]
    },
    {
     "name": "stderr",
     "output_type": "stream",
     "text": [
      "t:   2%|▏         | 27/1199 [00:34<25:36,  1.31s/it, now=None]"
     ]
    },
    {
     "name": "stdout",
     "output_type": "stream",
     "text": [
      "Fail sanity check - roughly parallel (maximum distance) 926.4008633300667\n"
     ]
    },
    {
     "name": "stderr",
     "output_type": "stream",
     "text": [
      "t:   2%|▏         | 28/1199 [00:35<25:36,  1.31s/it, now=None]"
     ]
    },
    {
     "name": "stdout",
     "output_type": "stream",
     "text": [
      "Fail sanity check - roughly parallel (maximum distance) 909.6806508147326\n"
     ]
    },
    {
     "name": "stderr",
     "output_type": "stream",
     "text": [
      "t:   2%|▏         | 29/1199 [00:37<25:48,  1.32s/it, now=None]"
     ]
    },
    {
     "name": "stdout",
     "output_type": "stream",
     "text": [
      "Fail sanity check - roughly parallel (maximum distance) 895.6557704676827\n"
     ]
    },
    {
     "name": "stderr",
     "output_type": "stream",
     "text": [
      "t:   3%|▎         | 30/1199 [00:38<25:27,  1.31s/it, now=None]"
     ]
    },
    {
     "name": "stdout",
     "output_type": "stream",
     "text": [
      "Fail sanity check - roughly parallel (maximum distance) 882.5246007548075\n"
     ]
    },
    {
     "name": "stderr",
     "output_type": "stream",
     "text": [
      "t:   3%|▎         | 31/1199 [00:39<25:37,  1.32s/it, now=None]"
     ]
    },
    {
     "name": "stdout",
     "output_type": "stream",
     "text": [
      "Fail sanity check - roughly parallel (maximum distance) 867.9503088996038\n"
     ]
    },
    {
     "name": "stderr",
     "output_type": "stream",
     "text": [
      "t:   3%|▎         | 32/1199 [00:41<25:33,  1.31s/it, now=None]"
     ]
    },
    {
     "name": "stdout",
     "output_type": "stream",
     "text": [
      "Fail sanity check - roughly parallel (maximum distance) 846.7632743983522\n"
     ]
    },
    {
     "name": "stderr",
     "output_type": "stream",
     "text": [
      "t:   3%|▎         | 33/1199 [00:42<26:13,  1.35s/it, now=None]"
     ]
    },
    {
     "name": "stdout",
     "output_type": "stream",
     "text": [
      "Fail sanity check - roughly parallel (maximum distance) 825.1974081388842\n"
     ]
    },
    {
     "name": "stderr",
     "output_type": "stream",
     "text": [
      "t:   3%|▎         | 34/1199 [00:43<26:29,  1.36s/it, now=None]"
     ]
    },
    {
     "name": "stdout",
     "output_type": "stream",
     "text": [
      "Fail sanity check - roughly parallel (maximum distance) 804.6466876822342\n"
     ]
    },
    {
     "name": "stderr",
     "output_type": "stream",
     "text": [
      "t:   3%|▎         | 35/1199 [00:45<27:06,  1.40s/it, now=None]"
     ]
    },
    {
     "name": "stdout",
     "output_type": "stream",
     "text": [
      "Fail sanity check - roughly parallel (maximum distance) 774.0890090403922\n",
      "failed\n",
      "No x, y points to fit a line\n"
     ]
    },
    {
     "name": "stderr",
     "output_type": "stream",
     "text": [
      "t:   3%|▎         | 36/1199 [00:46<26:19,  1.36s/it, now=None]"
     ]
    },
    {
     "name": "stdout",
     "output_type": "stream",
     "text": [
      "Fail sanity check - roughly parallel (maximum distance) 772.5444892564591\n",
      "failed\n",
      "No x, y points to fit a line\n"
     ]
    },
    {
     "name": "stderr",
     "output_type": "stream",
     "text": [
      "t:   3%|▎         | 37/1199 [00:47<25:52,  1.34s/it, now=None]"
     ]
    },
    {
     "name": "stdout",
     "output_type": "stream",
     "text": [
      "Fail sanity check - roughly parallel (maximum distance) 771.4057545004464\n",
      "failed\n",
      "No x, y points to fit a line\n"
     ]
    },
    {
     "name": "stderr",
     "output_type": "stream",
     "text": [
      "t:   3%|▎         | 38/1199 [00:49<25:22,  1.31s/it, now=None]"
     ]
    },
    {
     "name": "stdout",
     "output_type": "stream",
     "text": [
      "Fail sanity check - roughly parallel (maximum distance) 772.1331539313925\n",
      "failed\n",
      "No x, y points to fit a line\n"
     ]
    },
    {
     "name": "stderr",
     "output_type": "stream",
     "text": [
      "t:   3%|▎         | 39/1199 [00:50<24:57,  1.29s/it, now=None]"
     ]
    },
    {
     "name": "stdout",
     "output_type": "stream",
     "text": [
      "Fail sanity check - roughly parallel (maximum distance) 772.2524461904235\n",
      "failed\n",
      "No x, y points to fit a line\n"
     ]
    },
    {
     "name": "stderr",
     "output_type": "stream",
     "text": [
      "t:   3%|▎         | 40/1199 [00:51<24:48,  1.28s/it, now=None]"
     ]
    },
    {
     "name": "stdout",
     "output_type": "stream",
     "text": [
      "Fail sanity check - roughly parallel (maximum distance) 773.8352850542271\n",
      "failed\n",
      "No x, y points to fit a line\n"
     ]
    },
    {
     "name": "stderr",
     "output_type": "stream",
     "text": [
      "t:   3%|▎         | 41/1199 [00:53<24:43,  1.28s/it, now=None]"
     ]
    },
    {
     "name": "stdout",
     "output_type": "stream",
     "text": [
      "Fail sanity check - roughly parallel (maximum distance) 777.9116432175325\n"
     ]
    },
    {
     "name": "stderr",
     "output_type": "stream",
     "text": [
      "t:   4%|▎         | 42/1199 [00:54<24:39,  1.28s/it, now=None]"
     ]
    },
    {
     "name": "stdout",
     "output_type": "stream",
     "text": [
      "Fail sanity check - roughly parallel (maximum distance) 766.4074451918109\n"
     ]
    },
    {
     "name": "stderr",
     "output_type": "stream",
     "text": [
      "t:   4%|▎         | 43/1199 [00:55<24:40,  1.28s/it, now=None]"
     ]
    },
    {
     "name": "stdout",
     "output_type": "stream",
     "text": [
      "Fail sanity check - roughly parallel (maximum distance) 755.193637729458\n"
     ]
    },
    {
     "name": "stderr",
     "output_type": "stream",
     "text": [
      "t:   4%|▍         | 45/1199 [00:58<24:58,  1.30s/it, now=None]"
     ]
    },
    {
     "name": "stdout",
     "output_type": "stream",
     "text": [
      "Fail sanity check - roughly parallel (maximum distance) 750.4650397490761\n"
     ]
    },
    {
     "name": "stderr",
     "output_type": "stream",
     "text": [
      "t:   4%|▍         | 48/1199 [01:02<26:25,  1.38s/it, now=None]"
     ]
    },
    {
     "name": "stdout",
     "output_type": "stream",
     "text": [
      "Fail sanity check - curvature left curvature: 209.0 right curvature: 1117.0\n"
     ]
    },
    {
     "name": "stderr",
     "output_type": "stream",
     "text": [
      "t:   4%|▍         | 49/1199 [01:04<27:52,  1.45s/it, now=None]"
     ]
    },
    {
     "name": "stdout",
     "output_type": "stream",
     "text": [
      "Fail sanity check - curvature left curvature: 198.0 right curvature: 2061.0\n"
     ]
    },
    {
     "name": "stderr",
     "output_type": "stream",
     "text": [
      "t:   4%|▍         | 51/1199 [01:06<26:57,  1.41s/it, now=None]"
     ]
    },
    {
     "name": "stdout",
     "output_type": "stream",
     "text": [
      "Fail sanity check - curvature left curvature: 182.0 right curvature: 2462.0\n"
     ]
    },
    {
     "name": "stderr",
     "output_type": "stream",
     "text": [
      "t:   4%|▍         | 52/1199 [01:08<26:33,  1.39s/it, now=None]"
     ]
    },
    {
     "name": "stdout",
     "output_type": "stream",
     "text": [
      "Fail sanity check - curvature left curvature: 175.0 right curvature: 2172.0\n"
     ]
    },
    {
     "name": "stderr",
     "output_type": "stream",
     "text": [
      "t:   4%|▍         | 53/1199 [01:09<26:43,  1.40s/it, now=None]"
     ]
    },
    {
     "name": "stdout",
     "output_type": "stream",
     "text": [
      "Fail sanity check - curvature left curvature: 168.0 right curvature: 1724.0\n",
      "Fail sanity check - roughly parallel (maximum distance) 755.422083458825\n"
     ]
    },
    {
     "name": "stderr",
     "output_type": "stream",
     "text": [
      "t:   5%|▍         | 54/1199 [01:10<26:25,  1.38s/it, now=None]"
     ]
    },
    {
     "name": "stdout",
     "output_type": "stream",
     "text": [
      "Fail sanity check - curvature left curvature: 179.0 right curvature: 1084.0\n",
      "Fail sanity check - roughly parallel (maximum distance) 754.9899828935916\n"
     ]
    },
    {
     "name": "stderr",
     "output_type": "stream",
     "text": [
      "t:   5%|▍         | 55/1199 [01:12<26:58,  1.41s/it, now=None]"
     ]
    },
    {
     "name": "stdout",
     "output_type": "stream",
     "text": [
      "Fail sanity check - roughly parallel (maximum distance) 751.0372700986244\n"
     ]
    },
    {
     "name": "stderr",
     "output_type": "stream",
     "text": [
      "t:   5%|▍         | 56/1199 [01:13<26:11,  1.38s/it, now=None]"
     ]
    },
    {
     "name": "stdout",
     "output_type": "stream",
     "text": [
      "Fail sanity check - roughly parallel (maximum distance) 766.2716759749787\n"
     ]
    },
    {
     "name": "stderr",
     "output_type": "stream",
     "text": [
      "t:   5%|▍         | 57/1199 [01:14<25:36,  1.35s/it, now=None]"
     ]
    },
    {
     "name": "stdout",
     "output_type": "stream",
     "text": [
      "Fail sanity check - roughly parallel (maximum distance) 771.3588257924782\n"
     ]
    },
    {
     "name": "stderr",
     "output_type": "stream",
     "text": [
      "t:   5%|▍         | 58/1199 [01:16<26:07,  1.37s/it, now=None]"
     ]
    },
    {
     "name": "stdout",
     "output_type": "stream",
     "text": [
      "Fail sanity check - roughly parallel (maximum distance) 777.1170517107396\n"
     ]
    },
    {
     "name": "stderr",
     "output_type": "stream",
     "text": [
      "t:   5%|▍         | 59/1199 [01:18<27:36,  1.45s/it, now=None]"
     ]
    },
    {
     "name": "stdout",
     "output_type": "stream",
     "text": [
      "Fail sanity check - roughly parallel (maximum distance) 753.3980149514161\n"
     ]
    },
    {
     "name": "stderr",
     "output_type": "stream",
     "text": [
      "t:   6%|▌         | 70/1199 [01:33<26:17,  1.40s/it, now=None]"
     ]
    },
    {
     "name": "stdout",
     "output_type": "stream",
     "text": [
      "Fail sanity check - vehicle position from the lane center 0.54\n"
     ]
    },
    {
     "name": "stderr",
     "output_type": "stream",
     "text": [
      "t:   6%|▌         | 71/1199 [01:35<26:20,  1.40s/it, now=None]"
     ]
    },
    {
     "name": "stdout",
     "output_type": "stream",
     "text": [
      "Fail sanity check - vehicle position from the lane center 0.52\n"
     ]
    },
    {
     "name": "stderr",
     "output_type": "stream",
     "text": [
      "t:   6%|▋         | 75/1199 [01:40<25:06,  1.34s/it, now=None]"
     ]
    },
    {
     "name": "stdout",
     "output_type": "stream",
     "text": [
      "Fail sanity check - vehicle position from the lane center 0.52\n"
     ]
    },
    {
     "name": "stderr",
     "output_type": "stream",
     "text": [
      "t:   7%|▋         | 82/1199 [01:49<25:53,  1.39s/it, now=None]"
     ]
    },
    {
     "name": "stdout",
     "output_type": "stream",
     "text": [
      "Fail sanity check - vehicle position from the lane center 0.53\n"
     ]
    },
    {
     "name": "stderr",
     "output_type": "stream",
     "text": [
      "t:   9%|▊         | 103/1199 [02:16<22:29,  1.23s/it, now=None]"
     ]
    },
    {
     "name": "stdout",
     "output_type": "stream",
     "text": [
      "Fail sanity check - roughly parallel (minimum distance) 477.52007992246104\n",
      "failed\n",
      "No x, y points to fit a line\n",
      "failed\n",
      "No x, y points to fit a line\n"
     ]
    },
    {
     "name": "stderr",
     "output_type": "stream",
     "text": [
      "t:   9%|▊         | 104/1199 [02:17<22:02,  1.21s/it, now=None]"
     ]
    },
    {
     "name": "stdout",
     "output_type": "stream",
     "text": [
      "Fail sanity check - roughly parallel (minimum distance) 477.52007992246104\n",
      "failed\n",
      "No x, y points to fit a line\n",
      "failed\n",
      "No x, y points to fit a line\n"
     ]
    },
    {
     "name": "stderr",
     "output_type": "stream",
     "text": [
      "t:   9%|▉         | 105/1199 [02:19<24:34,  1.35s/it, now=None]"
     ]
    },
    {
     "name": "stdout",
     "output_type": "stream",
     "text": [
      "Fail sanity check - roughly parallel (minimum distance) 477.52007992246104\n",
      "failed\n",
      "No x, y points to fit a line\n",
      "failed\n",
      "No x, y points to fit a line\n"
     ]
    },
    {
     "name": "stderr",
     "output_type": "stream",
     "text": [
      "t:   9%|▉         | 106/1199 [02:20<23:51,  1.31s/it, now=None]"
     ]
    },
    {
     "name": "stdout",
     "output_type": "stream",
     "text": [
      "Fail sanity check - roughly parallel (minimum distance) 477.52007992246104\n",
      "failed\n",
      "No x, y points to fit a line\n",
      "failed\n",
      "No x, y points to fit a line\n"
     ]
    },
    {
     "name": "stderr",
     "output_type": "stream",
     "text": [
      "t:   9%|▉         | 107/1199 [02:21<23:12,  1.27s/it, now=None]"
     ]
    },
    {
     "name": "stdout",
     "output_type": "stream",
     "text": [
      "Fail sanity check - roughly parallel (minimum distance) 477.52007992246104\n",
      "failed\n",
      "No x, y points to fit a line\n"
     ]
    },
    {
     "name": "stderr",
     "output_type": "stream",
     "text": [
      "t:  11%|█         | 126/1199 [02:47<23:38,  1.32s/it, now=None]"
     ]
    },
    {
     "name": "stdout",
     "output_type": "stream",
     "text": [
      "Fail sanity check - roughly parallel (maximum distance) 806.6487902594491\n"
     ]
    },
    {
     "name": "stderr",
     "output_type": "stream",
     "text": [
      "t:  11%|█         | 127/1199 [02:48<23:45,  1.33s/it, now=None]"
     ]
    },
    {
     "name": "stdout",
     "output_type": "stream",
     "text": [
      "Fail sanity check - roughly parallel (maximum distance) 784.9053630947452\n"
     ]
    },
    {
     "name": "stderr",
     "output_type": "stream",
     "text": [
      "t:  11%|█         | 128/1199 [02:49<23:20,  1.31s/it, now=None]"
     ]
    },
    {
     "name": "stdout",
     "output_type": "stream",
     "text": [
      "Fail sanity check - roughly parallel (maximum distance) 772.1482434148734\n"
     ]
    },
    {
     "name": "stderr",
     "output_type": "stream",
     "text": [
      "t:  11%|█         | 129/1199 [02:50<22:59,  1.29s/it, now=None]"
     ]
    },
    {
     "name": "stdout",
     "output_type": "stream",
     "text": [
      "Fail sanity check - roughly parallel (maximum distance) 757.3000047921535\n"
     ]
    },
    {
     "name": "stderr",
     "output_type": "stream",
     "text": [
      "t:  11%|█▏        | 137/1199 [03:01<24:21,  1.38s/it, now=None]"
     ]
    },
    {
     "name": "stdout",
     "output_type": "stream",
     "text": [
      "Fail sanity check - roughly parallel (maximum distance) 770.940838503373\n",
      "failed\n",
      "No x, y points to fit a line\n"
     ]
    },
    {
     "name": "stderr",
     "output_type": "stream",
     "text": [
      "t:  12%|█▏        | 138/1199 [03:03<23:47,  1.35s/it, now=None]"
     ]
    },
    {
     "name": "stdout",
     "output_type": "stream",
     "text": [
      "Fail sanity check - roughly parallel (maximum distance) 788.5983469905987\n",
      "failed\n",
      "No x, y points to fit a line\n",
      "failed\n",
      "No x, y points to fit a line\n"
     ]
    },
    {
     "name": "stderr",
     "output_type": "stream",
     "text": [
      "t:  12%|█▏        | 139/1199 [03:04<25:10,  1.42s/it, now=None]"
     ]
    },
    {
     "name": "stdout",
     "output_type": "stream",
     "text": [
      "Fail sanity check - roughly parallel (maximum distance) 788.5983469905987\n",
      "failed\n",
      "No x, y points to fit a line\n"
     ]
    },
    {
     "name": "stderr",
     "output_type": "stream",
     "text": [
      "t:  12%|█▏        | 140/1199 [03:06<24:24,  1.38s/it, now=None]"
     ]
    },
    {
     "name": "stdout",
     "output_type": "stream",
     "text": [
      "Fail sanity check - roughly parallel (maximum distance) 816.2574078642415\n",
      "failed\n",
      "No x, y points to fit a line\n"
     ]
    },
    {
     "name": "stderr",
     "output_type": "stream",
     "text": [
      "t:  12%|█▏        | 141/1199 [03:07<23:31,  1.33s/it, now=None]"
     ]
    },
    {
     "name": "stdout",
     "output_type": "stream",
     "text": [
      "Fail sanity check - roughly parallel (maximum distance) 844.8572945913302\n"
     ]
    },
    {
     "name": "stderr",
     "output_type": "stream",
     "text": [
      "t:  12%|█▏        | 142/1199 [03:08<23:20,  1.33s/it, now=None]"
     ]
    },
    {
     "name": "stdout",
     "output_type": "stream",
     "text": [
      "Fail sanity check - roughly parallel (maximum distance) 852.9297951575124\n",
      "failed\n",
      "No x, y points to fit a line\n"
     ]
    },
    {
     "name": "stderr",
     "output_type": "stream",
     "text": [
      "t:  12%|█▏        | 143/1199 [03:09<22:45,  1.29s/it, now=None]"
     ]
    },
    {
     "name": "stdout",
     "output_type": "stream",
     "text": [
      "Fail sanity check - curvature left curvature: 139.0 right curvature: 1266.0\n",
      "Fail sanity check - roughly parallel (maximum distance) 864.4639935965299\n",
      "failed\n",
      "No x, y points to fit a line\n"
     ]
    },
    {
     "name": "stderr",
     "output_type": "stream",
     "text": [
      "t:  12%|█▏        | 144/1199 [03:11<22:40,  1.29s/it, now=None]"
     ]
    },
    {
     "name": "stdout",
     "output_type": "stream",
     "text": [
      "Fail sanity check - roughly parallel (maximum distance) 871.5783689798682\n",
      "failed\n",
      "No x, y points to fit a line\n"
     ]
    },
    {
     "name": "stderr",
     "output_type": "stream",
     "text": [
      "t:  12%|█▏        | 145/1199 [03:12<23:59,  1.37s/it, now=None]"
     ]
    },
    {
     "name": "stdout",
     "output_type": "stream",
     "text": [
      "Fail sanity check - curvature left curvature: 139.0 right curvature: 1398.0\n",
      "Fail sanity check - roughly parallel (maximum distance) 877.0146850328117\n",
      "test\n"
     ]
    },
    {
     "name": "stderr",
     "output_type": "stream",
     "text": [
      "t:  12%|█▏        | 146/1199 [03:13<23:29,  1.34s/it, now=None]"
     ]
    },
    {
     "name": "stdout",
     "output_type": "stream",
     "text": [
      "Fail sanity check - curvature left curvature: 27.0 right curvature: 780.0\n",
      "Fail sanity check - roughly parallel (maximum distance) 2822.6925992966944\n",
      "Fail sanity check - roughly parallel (mean distance) 1234.1726108586815\n",
      "test\n"
     ]
    },
    {
     "name": "stderr",
     "output_type": "stream",
     "text": [
      "t:  12%|█▏        | 147/1199 [03:15<22:54,  1.31s/it, now=None]"
     ]
    },
    {
     "name": "stdout",
     "output_type": "stream",
     "text": [
      "Fail sanity check - roughly parallel (maximum distance) 1032.5479665729256\n"
     ]
    },
    {
     "name": "stderr",
     "output_type": "stream",
     "text": [
      "t:  12%|█▏        | 148/1199 [03:16<22:13,  1.27s/it, now=None]"
     ]
    },
    {
     "name": "stdout",
     "output_type": "stream",
     "text": [
      "test\n",
      "Fail sanity check - curvature left curvature: 13.0 right curvature: 355.0\n",
      "Fail sanity check - distance at the bottom 257.71756118308747 right x point: 628.1600078340291 left x point: 370.44244665094163\n",
      "Fail sanity check - roughly parallel (minimum distance) -29903.946238682176\n",
      "Fail sanity check - roughly parallel (mean distance) -8570.699800204036\n",
      "Fail sanity check - vehicle position from the lane center -0.9\n",
      "failed\n",
      "No x, y points to fit a line\n",
      "test\n"
     ]
    },
    {
     "name": "stderr",
     "output_type": "stream",
     "text": [
      "t:  12%|█▏        | 149/1199 [03:17<22:10,  1.27s/it, now=None]"
     ]
    },
    {
     "name": "stdout",
     "output_type": "stream",
     "text": [
      "Fail sanity check - curvature left curvature: 13.0 right curvature: 355.0\n",
      "Fail sanity check - distance at the bottom 283.3911965239597 right x point: 653.8336431749013 left x point: 370.44244665094163\n",
      "Fail sanity check - roughly parallel (minimum distance) -29918.618848394646\n",
      "Fail sanity check - roughly parallel (mean distance) -8550.641656459176\n",
      "Fail sanity check - vehicle position from the lane center -0.82\n",
      "failed\n",
      "No x, y points to fit a line\n",
      "test\n",
      "Fail sanity check - curvature left curvature: 13.0 right curvature: 355.0\n",
      "Fail sanity check - distance at the bottom 311.1834627064068 right x point: 681.6259093573484 left x point: 370.44244665094163\n",
      "Fail sanity check - roughly parallel (minimum distance) -29930.598787123887\n",
      "Fail sanity check - roughly parallel (mean distance) -8530.647130430918\n",
      "Fail sanity check - vehicle position from the lane center -0.74\n"
     ]
    },
    {
     "name": "stderr",
     "output_type": "stream",
     "text": [
      "t:  13%|█▎        | 151/1199 [03:19<20:46,  1.19s/it, now=None]"
     ]
    },
    {
     "name": "stdout",
     "output_type": "stream",
     "text": [
      "failed\n",
      "No x, y points to fit a line\n",
      "test\n",
      "Fail sanity check - curvature left curvature: 14.0 right curvature: 355.0\n",
      "Fail sanity check - distance at the bottom 316.8133583735472 right x point: 687.2558050244888 left x point: 370.44244665094163\n",
      "Fail sanity check - roughly parallel (minimum distance) -30465.672907684908\n",
      "Fail sanity check - roughly parallel (mean distance) -8641.566981737305\n",
      "Fail sanity check - vehicle position from the lane center -0.72\n"
     ]
    },
    {
     "name": "stderr",
     "output_type": "stream",
     "text": [
      "t:  13%|█▎        | 152/1199 [03:20<20:20,  1.17s/it, now=None]"
     ]
    },
    {
     "name": "stdout",
     "output_type": "stream",
     "text": [
      "failed\n",
      "No x, y points to fit a line\n",
      "test\n",
      "Fail sanity check - curvature left curvature: 17.0 right curvature: 355.0\n",
      "Fail sanity check - distance at the bottom 288.33735229246076 right x point: 658.7797989434024 left x point: 370.44244665094163\n",
      "Fail sanity check - roughly parallel (minimum distance) -36923.82653136917\n",
      "Fail sanity check - roughly parallel (mean distance) -10582.62618856242\n",
      "Fail sanity check - vehicle position from the lane center -0.82\n",
      "failed\n",
      "No x, y points to fit a line\n",
      "test\n"
     ]
    },
    {
     "name": "stderr",
     "output_type": "stream",
     "text": [
      "t:  13%|█▎        | 153/1199 [03:22<20:27,  1.17s/it, now=None]"
     ]
    },
    {
     "name": "stdout",
     "output_type": "stream",
     "text": [
      "Fail sanity check - curvature left curvature: 18.0 right curvature: 355.0\n",
      "Fail sanity check - distance at the bottom 309.8085985339047 right x point: 680.2510451848464 left x point: 370.44244665094163\n",
      "Fail sanity check - roughly parallel (minimum distance) -37088.83585215873\n",
      "Fail sanity check - roughly parallel (maximum distance) 778.7360632469447\n",
      "Fail sanity check - roughly parallel (mean distance) -10606.296299828191\n",
      "Fail sanity check - vehicle position from the lane center -0.75\n"
     ]
    },
    {
     "name": "stderr",
     "output_type": "stream",
     "text": [
      "t:  13%|█▎        | 154/1199 [03:23<20:10,  1.16s/it, now=None]"
     ]
    },
    {
     "name": "stdout",
     "output_type": "stream",
     "text": [
      "failed\n",
      "No x, y points to fit a line\n",
      "failed\n",
      "No x, y points to fit a line\n",
      "Fail sanity check - curvature left curvature: 18.0 right curvature: 355.0\n",
      "Fail sanity check - distance at the bottom 309.8085985339047 right x point: 680.2510451848464 left x point: 370.44244665094163\n",
      "Fail sanity check - roughly parallel (minimum distance) -37088.83585215873\n",
      "Fail sanity check - roughly parallel (maximum distance) 778.7360632469447\n",
      "Fail sanity check - roughly parallel (mean distance) -10606.296299828191\n",
      "Fail sanity check - vehicle position from the lane center -0.75\n"
     ]
    },
    {
     "name": "stderr",
     "output_type": "stream",
     "text": [
      "t:  13%|█▎        | 155/1199 [03:24<19:43,  1.13s/it, now=None]"
     ]
    },
    {
     "name": "stdout",
     "output_type": "stream",
     "text": [
      "failed\n",
      "No x, y points to fit a line\n",
      "failed\n",
      "No x, y points to fit a line\n",
      "Fail sanity check - curvature left curvature: 18.0 right curvature: 355.0\n",
      "Fail sanity check - distance at the bottom 309.8085985339047 right x point: 680.2510451848464 left x point: 370.44244665094163\n",
      "Fail sanity check - roughly parallel (minimum distance) -37088.83585215873\n",
      "Fail sanity check - roughly parallel (maximum distance) 778.7360632469447\n",
      "Fail sanity check - roughly parallel (mean distance) -10606.296299828191\n",
      "Fail sanity check - vehicle position from the lane center -0.75\n"
     ]
    },
    {
     "name": "stderr",
     "output_type": "stream",
     "text": [
      "t:  13%|█▎        | 156/1199 [03:25<19:13,  1.11s/it, now=None]"
     ]
    },
    {
     "name": "stdout",
     "output_type": "stream",
     "text": [
      "failed\n",
      "No x, y points to fit a line\n",
      "failed\n",
      "No x, y points to fit a line\n",
      "Fail sanity check - curvature left curvature: 18.0 right curvature: 355.0\n",
      "Fail sanity check - distance at the bottom 309.8085985339047 right x point: 680.2510451848464 left x point: 370.44244665094163\n",
      "Fail sanity check - roughly parallel (minimum distance) -37088.83585215873\n",
      "Fail sanity check - roughly parallel (maximum distance) 778.7360632469447\n",
      "Fail sanity check - roughly parallel (mean distance) -10606.296299828191\n",
      "Fail sanity check - vehicle position from the lane center -0.75\n"
     ]
    },
    {
     "name": "stderr",
     "output_type": "stream",
     "text": [
      "t:  13%|█▎        | 157/1199 [03:26<19:13,  1.11s/it, now=None]"
     ]
    },
    {
     "name": "stdout",
     "output_type": "stream",
     "text": [
      "failed\n",
      "No x, y points to fit a line\n",
      "failed\n",
      "No x, y points to fit a line\n",
      "Fail sanity check - curvature left curvature: 18.0 right curvature: 355.0\n",
      "Fail sanity check - distance at the bottom 309.8085985339047 right x point: 680.2510451848464 left x point: 370.44244665094163\n",
      "Fail sanity check - roughly parallel (minimum distance) -37088.83585215873\n",
      "Fail sanity check - roughly parallel (maximum distance) 778.7360632469447\n",
      "Fail sanity check - roughly parallel (mean distance) -10606.296299828191\n",
      "Fail sanity check - vehicle position from the lane center -0.75\n",
      "failed\n",
      "No x, y points to fit a line\n",
      "failed\n",
      "No x, y points to fit a line\n"
     ]
    },
    {
     "name": "stderr",
     "output_type": "stream",
     "text": [
      "t:  13%|█▎        | 158/1199 [03:27<20:01,  1.15s/it, now=None]"
     ]
    },
    {
     "name": "stdout",
     "output_type": "stream",
     "text": [
      "Fail sanity check - curvature left curvature: 18.0 right curvature: 355.0\n",
      "Fail sanity check - distance at the bottom 309.8085985339047 right x point: 680.2510451848464 left x point: 370.44244665094163\n",
      "Fail sanity check - roughly parallel (minimum distance) -37088.83585215873\n",
      "Fail sanity check - roughly parallel (maximum distance) 778.7360632469447\n",
      "Fail sanity check - roughly parallel (mean distance) -10606.296299828191\n",
      "Fail sanity check - vehicle position from the lane center -0.75\n",
      "failed\n",
      "No x, y points to fit a line\n",
      "failed\n",
      "No x, y points to fit a line\n",
      "Fail sanity check - curvature left curvature: 18.0 right curvature: 355.0\n",
      "Fail sanity check - distance at the bottom 309.8085985339047 right x point: 680.2510451848464 left x point: 370.44244665094163\n",
      "Fail sanity check - roughly parallel (minimum distance) -37088.83585215873\n",
      "Fail sanity check - roughly parallel (maximum distance) 778.7360632469447\n",
      "Fail sanity check - roughly parallel (mean distance) -10606.296299828191\n",
      "Fail sanity check - vehicle position from the lane center -0.75\n"
     ]
    },
    {
     "name": "stderr",
     "output_type": "stream",
     "text": [
      "t:  13%|█▎        | 160/1199 [03:30<20:28,  1.18s/it, now=None]"
     ]
    },
    {
     "name": "stdout",
     "output_type": "stream",
     "text": [
      "failed\n",
      "No x, y points to fit a line\n",
      "failed\n",
      "No x, y points to fit a line\n",
      "Fail sanity check - curvature left curvature: 18.0 right curvature: 355.0\n",
      "Fail sanity check - distance at the bottom 309.8085985339047 right x point: 680.2510451848464 left x point: 370.44244665094163\n",
      "Fail sanity check - roughly parallel (minimum distance) -37088.83585215873\n",
      "Fail sanity check - roughly parallel (maximum distance) 778.7360632469447\n",
      "Fail sanity check - roughly parallel (mean distance) -10606.296299828191\n",
      "Fail sanity check - vehicle position from the lane center -0.75\n"
     ]
    },
    {
     "name": "stderr",
     "output_type": "stream",
     "text": [
      "t:  13%|█▎        | 161/1199 [03:31<20:11,  1.17s/it, now=None]"
     ]
    },
    {
     "name": "stdout",
     "output_type": "stream",
     "text": [
      "failed\n",
      "No x, y points to fit a line\n",
      "failed\n",
      "No x, y points to fit a line\n",
      "Fail sanity check - curvature left curvature: 18.0 right curvature: 355.0\n",
      "Fail sanity check - distance at the bottom 309.8085985339047 right x point: 680.2510451848464 left x point: 370.44244665094163\n",
      "Fail sanity check - roughly parallel (minimum distance) -37088.83585215873\n",
      "Fail sanity check - roughly parallel (maximum distance) 778.7360632469447\n",
      "Fail sanity check - roughly parallel (mean distance) -10606.296299828191\n",
      "Fail sanity check - vehicle position from the lane center -0.75\n"
     ]
    },
    {
     "name": "stderr",
     "output_type": "stream",
     "text": [
      "t:  14%|█▎        | 162/1199 [03:32<20:03,  1.16s/it, now=None]"
     ]
    },
    {
     "name": "stdout",
     "output_type": "stream",
     "text": [
      "failed\n",
      "No x, y points to fit a line\n",
      "failed\n",
      "No x, y points to fit a line\n",
      "Fail sanity check - curvature left curvature: 18.0 right curvature: 355.0\n",
      "Fail sanity check - distance at the bottom 309.8085985339047 right x point: 680.2510451848464 left x point: 370.44244665094163\n",
      "Fail sanity check - roughly parallel (minimum distance) -37088.83585215873\n",
      "Fail sanity check - roughly parallel (maximum distance) 778.7360632469447\n",
      "Fail sanity check - roughly parallel (mean distance) -10606.296299828191\n",
      "Fail sanity check - vehicle position from the lane center -0.75\n",
      "failed\n",
      "No x, y points to fit a line\n",
      "failed\n",
      "No x, y points to fit a line\n",
      "Fail sanity check - curvature left curvature: 18.0 right curvature: 355.0\n",
      "Fail sanity check - distance at the bottom 309.8085985339047 right x point: 680.2510451848464 left x point: 370.44244665094163\n",
      "Fail sanity check - roughly parallel (minimum distance) -37088.83585215873\n",
      "Fail sanity check - roughly parallel (maximum distance) 778.7360632469447\n",
      "Fail sanity check - roughly parallel (mean distance) -10606.296299828191\n",
      "Fail sanity check - vehicle position from the lane center -0.75\n"
     ]
    },
    {
     "name": "stderr",
     "output_type": "stream",
     "text": [
      "t:  14%|█▎        | 164/1199 [03:34<19:41,  1.14s/it, now=None]"
     ]
    },
    {
     "name": "stdout",
     "output_type": "stream",
     "text": [
      "failed\n",
      "No x, y points to fit a line\n",
      "failed\n",
      "No x, y points to fit a line\n",
      "Fail sanity check - curvature left curvature: 18.0 right curvature: 355.0\n",
      "Fail sanity check - distance at the bottom 309.8085985339047 right x point: 680.2510451848464 left x point: 370.44244665094163\n",
      "Fail sanity check - roughly parallel (minimum distance) -37088.83585215873\n",
      "Fail sanity check - roughly parallel (maximum distance) 778.7360632469447\n",
      "Fail sanity check - roughly parallel (mean distance) -10606.296299828191\n",
      "Fail sanity check - vehicle position from the lane center -0.75\n"
     ]
    },
    {
     "name": "stderr",
     "output_type": "stream",
     "text": [
      "t:  14%|█▍        | 165/1199 [03:35<19:12,  1.11s/it, now=None]"
     ]
    },
    {
     "name": "stdout",
     "output_type": "stream",
     "text": [
      "failed\n",
      "No x, y points to fit a line\n",
      "failed\n",
      "No x, y points to fit a line\n",
      "Fail sanity check - curvature left curvature: 18.0 right curvature: 355.0\n",
      "Fail sanity check - distance at the bottom 309.8085985339047 right x point: 680.2510451848464 left x point: 370.44244665094163\n",
      "Fail sanity check - roughly parallel (minimum distance) -37088.83585215873\n",
      "Fail sanity check - roughly parallel (maximum distance) 778.7360632469447\n",
      "Fail sanity check - roughly parallel (mean distance) -10606.296299828191\n",
      "Fail sanity check - vehicle position from the lane center -0.75\n"
     ]
    },
    {
     "name": "stderr",
     "output_type": "stream",
     "text": [
      "t:  14%|█▍        | 166/1199 [03:36<19:04,  1.11s/it, now=None]"
     ]
    },
    {
     "name": "stdout",
     "output_type": "stream",
     "text": [
      "failed\n",
      "No x, y points to fit a line\n",
      "failed\n",
      "No x, y points to fit a line\n",
      "Fail sanity check - curvature left curvature: 18.0 right curvature: 355.0\n",
      "Fail sanity check - distance at the bottom 309.8085985339047 right x point: 680.2510451848464 left x point: 370.44244665094163\n",
      "Fail sanity check - roughly parallel (minimum distance) -37088.83585215873\n",
      "Fail sanity check - roughly parallel (maximum distance) 778.7360632469447\n",
      "Fail sanity check - roughly parallel (mean distance) -10606.296299828191\n",
      "Fail sanity check - vehicle position from the lane center -0.75\n"
     ]
    },
    {
     "name": "stderr",
     "output_type": "stream",
     "text": [
      "t:  14%|█▍        | 167/1199 [03:38<19:06,  1.11s/it, now=None]"
     ]
    },
    {
     "name": "stdout",
     "output_type": "stream",
     "text": [
      "failed\n",
      "No x, y points to fit a line\n",
      "failed\n",
      "No x, y points to fit a line\n",
      "Fail sanity check - curvature left curvature: 18.0 right curvature: 355.0\n",
      "Fail sanity check - distance at the bottom 309.8085985339047 right x point: 680.2510451848464 left x point: 370.44244665094163\n",
      "Fail sanity check - roughly parallel (minimum distance) -37088.83585215873\n",
      "Fail sanity check - roughly parallel (maximum distance) 778.7360632469447\n",
      "Fail sanity check - roughly parallel (mean distance) -10606.296299828191\n",
      "Fail sanity check - vehicle position from the lane center -0.75\n",
      "failed\n",
      "No x, y points to fit a line\n",
      "failed\n",
      "No x, y points to fit a line\n"
     ]
    },
    {
     "name": "stderr",
     "output_type": "stream",
     "text": [
      "t:  14%|█▍        | 168/1199 [03:39<19:21,  1.13s/it, now=None]"
     ]
    },
    {
     "name": "stdout",
     "output_type": "stream",
     "text": [
      "Fail sanity check - curvature left curvature: 18.0 right curvature: 355.0\n",
      "Fail sanity check - distance at the bottom 309.8085985339047 right x point: 680.2510451848464 left x point: 370.44244665094163\n",
      "Fail sanity check - roughly parallel (minimum distance) -37088.83585215873\n",
      "Fail sanity check - roughly parallel (maximum distance) 778.7360632469447\n",
      "Fail sanity check - roughly parallel (mean distance) -10606.296299828191\n",
      "Fail sanity check - vehicle position from the lane center -0.75\n"
     ]
    },
    {
     "name": "stderr",
     "output_type": "stream",
     "text": [
      "t:  14%|█▍        | 169/1199 [03:40<19:49,  1.15s/it, now=None]"
     ]
    },
    {
     "name": "stdout",
     "output_type": "stream",
     "text": [
      "failed\n",
      "No x, y points to fit a line\n",
      "failed\n",
      "No x, y points to fit a line\n",
      "Fail sanity check - curvature left curvature: 18.0 right curvature: 355.0\n",
      "Fail sanity check - distance at the bottom 309.8085985339047 right x point: 680.2510451848464 left x point: 370.44244665094163\n",
      "Fail sanity check - roughly parallel (minimum distance) -37088.83585215873\n",
      "Fail sanity check - roughly parallel (maximum distance) 778.7360632469447\n",
      "Fail sanity check - roughly parallel (mean distance) -10606.296299828191\n",
      "Fail sanity check - vehicle position from the lane center -0.75\n",
      "failed\n",
      "No x, y points to fit a line\n"
     ]
    },
    {
     "name": "stderr",
     "output_type": "stream",
     "text": [
      "t:  14%|█▍        | 170/1199 [03:42<22:57,  1.34s/it, now=None]"
     ]
    },
    {
     "name": "stdout",
     "output_type": "stream",
     "text": [
      "failed\n",
      "No x, y points to fit a line\n",
      "Fail sanity check - curvature left curvature: 18.0 right curvature: 355.0\n",
      "Fail sanity check - distance at the bottom 309.8085985339047 right x point: 680.2510451848464 left x point: 370.44244665094163\n",
      "Fail sanity check - roughly parallel (minimum distance) -37088.83585215873\n",
      "Fail sanity check - roughly parallel (maximum distance) 778.7360632469447\n",
      "Fail sanity check - roughly parallel (mean distance) -10606.296299828191\n",
      "Fail sanity check - vehicle position from the lane center -0.75\n"
     ]
    },
    {
     "name": "stderr",
     "output_type": "stream",
     "text": [
      "t:  14%|█▍        | 171/1199 [03:43<21:33,  1.26s/it, now=None]"
     ]
    },
    {
     "name": "stdout",
     "output_type": "stream",
     "text": [
      "failed\n",
      "No x, y points to fit a line\n",
      "failed\n",
      "No x, y points to fit a line\n",
      "Fail sanity check - curvature left curvature: 18.0 right curvature: 355.0\n",
      "Fail sanity check - distance at the bottom 309.8085985339047 right x point: 680.2510451848464 left x point: 370.44244665094163\n",
      "Fail sanity check - roughly parallel (minimum distance) -37088.83585215873\n",
      "Fail sanity check - roughly parallel (maximum distance) 778.7360632469447\n",
      "Fail sanity check - roughly parallel (mean distance) -10606.296299828191\n",
      "Fail sanity check - vehicle position from the lane center -0.75\n"
     ]
    },
    {
     "name": "stderr",
     "output_type": "stream",
     "text": [
      "t:  14%|█▍        | 172/1199 [03:44<20:51,  1.22s/it, now=None]"
     ]
    },
    {
     "name": "stdout",
     "output_type": "stream",
     "text": [
      "failed\n",
      "No x, y points to fit a line\n",
      "failed\n",
      "No x, y points to fit a line\n",
      "Fail sanity check - curvature left curvature: 18.0 right curvature: 355.0\n",
      "Fail sanity check - distance at the bottom 309.8085985339047 right x point: 680.2510451848464 left x point: 370.44244665094163\n",
      "Fail sanity check - roughly parallel (minimum distance) -37088.83585215873\n",
      "Fail sanity check - roughly parallel (maximum distance) 778.7360632469447\n",
      "Fail sanity check - roughly parallel (mean distance) -10606.296299828191\n",
      "Fail sanity check - vehicle position from the lane center -0.75\n",
      "failed\n",
      "No x, y points to fit a line\n",
      "failed\n",
      "No x, y points to fit a line\n",
      "Fail sanity check - curvature left curvature: 18.0 right curvature: 355.0\n",
      "Fail sanity check - distance at the bottom 309.8085985339047 right x point: 680.2510451848464 left x point: 370.44244665094163\n",
      "Fail sanity check - roughly parallel (minimum distance) -37088.83585215873\n",
      "Fail sanity check - roughly parallel (maximum distance) 778.7360632469447\n",
      "Fail sanity check - roughly parallel (mean distance) -10606.296299828191\n",
      "Fail sanity check - vehicle position from the lane center -0.75\n"
     ]
    },
    {
     "name": "stderr",
     "output_type": "stream",
     "text": [
      "t:  15%|█▍        | 174/1199 [03:46<21:03,  1.23s/it, now=None]"
     ]
    },
    {
     "name": "stdout",
     "output_type": "stream",
     "text": [
      "failed\n",
      "No x, y points to fit a line\n",
      "failed\n",
      "No x, y points to fit a line\n",
      "Fail sanity check - curvature left curvature: 18.0 right curvature: 355.0\n",
      "Fail sanity check - distance at the bottom 309.8085985339047 right x point: 680.2510451848464 left x point: 370.44244665094163\n",
      "Fail sanity check - roughly parallel (minimum distance) -37088.83585215873\n",
      "Fail sanity check - roughly parallel (maximum distance) 778.7360632469447\n",
      "Fail sanity check - roughly parallel (mean distance) -10606.296299828191\n",
      "Fail sanity check - vehicle position from the lane center -0.75\n"
     ]
    },
    {
     "name": "stderr",
     "output_type": "stream",
     "text": [
      "t:  15%|█▍        | 175/1199 [03:47<20:20,  1.19s/it, now=None]"
     ]
    },
    {
     "name": "stdout",
     "output_type": "stream",
     "text": [
      "failed\n",
      "No x, y points to fit a line\n",
      "failed\n",
      "No x, y points to fit a line\n",
      "Fail sanity check - curvature left curvature: 18.0 right curvature: 355.0\n",
      "Fail sanity check - distance at the bottom 309.8085985339047 right x point: 680.2510451848464 left x point: 370.44244665094163\n",
      "Fail sanity check - roughly parallel (minimum distance) -37088.83585215873\n",
      "Fail sanity check - roughly parallel (maximum distance) 778.7360632469447\n",
      "Fail sanity check - roughly parallel (mean distance) -10606.296299828191\n",
      "Fail sanity check - vehicle position from the lane center -0.75\n"
     ]
    },
    {
     "name": "stderr",
     "output_type": "stream",
     "text": [
      "t:  15%|█▍        | 176/1199 [03:49<19:42,  1.16s/it, now=None]"
     ]
    },
    {
     "name": "stdout",
     "output_type": "stream",
     "text": [
      "failed\n",
      "No x, y points to fit a line\n",
      "failed\n",
      "No x, y points to fit a line\n",
      "Fail sanity check - curvature left curvature: 18.0 right curvature: 355.0\n",
      "Fail sanity check - distance at the bottom 309.8085985339047 right x point: 680.2510451848464 left x point: 370.44244665094163\n",
      "Fail sanity check - roughly parallel (minimum distance) -37088.83585215873\n",
      "Fail sanity check - roughly parallel (maximum distance) 778.7360632469447\n",
      "Fail sanity check - roughly parallel (mean distance) -10606.296299828191\n",
      "Fail sanity check - vehicle position from the lane center -0.75\n"
     ]
    },
    {
     "name": "stderr",
     "output_type": "stream",
     "text": [
      "t:  15%|█▍        | 177/1199 [03:50<19:21,  1.14s/it, now=None]"
     ]
    },
    {
     "name": "stdout",
     "output_type": "stream",
     "text": [
      "failed\n",
      "No x, y points to fit a line\n",
      "failed\n",
      "No x, y points to fit a line\n",
      "Fail sanity check - curvature left curvature: 18.0 right curvature: 355.0\n",
      "Fail sanity check - distance at the bottom 309.8085985339047 right x point: 680.2510451848464 left x point: 370.44244665094163\n",
      "Fail sanity check - roughly parallel (minimum distance) -37088.83585215873\n",
      "Fail sanity check - roughly parallel (maximum distance) 778.7360632469447\n",
      "Fail sanity check - roughly parallel (mean distance) -10606.296299828191\n",
      "Fail sanity check - vehicle position from the lane center -0.75\n"
     ]
    },
    {
     "name": "stderr",
     "output_type": "stream",
     "text": [
      "t:  15%|█▍        | 178/1199 [03:51<20:19,  1.19s/it, now=None]"
     ]
    },
    {
     "name": "stdout",
     "output_type": "stream",
     "text": [
      "failed\n",
      "No x, y points to fit a line\n",
      "failed\n",
      "No x, y points to fit a line\n",
      "Fail sanity check - curvature left curvature: 18.0 right curvature: 355.0\n",
      "Fail sanity check - distance at the bottom 309.8085985339047 right x point: 680.2510451848464 left x point: 370.44244665094163\n",
      "Fail sanity check - roughly parallel (minimum distance) -37088.83585215873\n",
      "Fail sanity check - roughly parallel (maximum distance) 778.7360632469447\n",
      "Fail sanity check - roughly parallel (mean distance) -10606.296299828191\n",
      "Fail sanity check - vehicle position from the lane center -0.75\n"
     ]
    },
    {
     "name": "stderr",
     "output_type": "stream",
     "text": [
      "t:  15%|█▍        | 179/1199 [03:52<20:07,  1.18s/it, now=None]"
     ]
    },
    {
     "name": "stdout",
     "output_type": "stream",
     "text": [
      "failed\n",
      "No x, y points to fit a line\n",
      "failed\n",
      "No x, y points to fit a line\n",
      "Fail sanity check - curvature left curvature: 18.0 right curvature: 355.0\n",
      "Fail sanity check - distance at the bottom 309.8085985339047 right x point: 680.2510451848464 left x point: 370.44244665094163\n",
      "Fail sanity check - roughly parallel (minimum distance) -37088.83585215873\n",
      "Fail sanity check - roughly parallel (maximum distance) 778.7360632469447\n",
      "Fail sanity check - roughly parallel (mean distance) -10606.296299828191\n",
      "Fail sanity check - vehicle position from the lane center -0.75\n"
     ]
    },
    {
     "name": "stderr",
     "output_type": "stream",
     "text": [
      "t:  15%|█▌        | 180/1199 [03:53<20:14,  1.19s/it, now=None]"
     ]
    },
    {
     "name": "stdout",
     "output_type": "stream",
     "text": [
      "failed\n",
      "No x, y points to fit a line\n",
      "failed\n",
      "No x, y points to fit a line\n",
      "Fail sanity check - curvature left curvature: 18.0 right curvature: 355.0\n",
      "Fail sanity check - distance at the bottom 309.8085985339047 right x point: 680.2510451848464 left x point: 370.44244665094163\n",
      "Fail sanity check - roughly parallel (minimum distance) -37088.83585215873\n",
      "Fail sanity check - roughly parallel (maximum distance) 778.7360632469447\n",
      "Fail sanity check - roughly parallel (mean distance) -10606.296299828191\n",
      "Fail sanity check - vehicle position from the lane center -0.75\n"
     ]
    },
    {
     "name": "stderr",
     "output_type": "stream",
     "text": [
      "t:  15%|█▌        | 181/1199 [03:55<20:06,  1.19s/it, now=None]"
     ]
    },
    {
     "name": "stdout",
     "output_type": "stream",
     "text": [
      "failed\n",
      "No x, y points to fit a line\n",
      "test\n",
      "Fail sanity check - curvature left curvature: 22.0 right curvature: 355.0\n",
      "Fail sanity check - distance at the bottom 263.7626846478656 right x point: 634.2051312988073 left x point: 370.44244665094163\n",
      "Fail sanity check - roughly parallel (minimum distance) -42801.57923692502\n",
      "Fail sanity check - roughly parallel (maximum distance) 812.5645678017268\n",
      "Fail sanity check - roughly parallel (mean distance) -12290.080317501512\n",
      "Fail sanity check - vehicle position from the lane center -0.9\n",
      "failed\n",
      "No x, y points to fit a line\n",
      "failed\n",
      "No x, y points to fit a line\n",
      "Fail sanity check - curvature left curvature: 22.0 right curvature: 355.0\n",
      "Fail sanity check - distance at the bottom 263.7626846478656 right x point: 634.2051312988073 left x point: 370.44244665094163\n",
      "Fail sanity check - roughly parallel (minimum distance) -42801.57923692502\n",
      "Fail sanity check - roughly parallel (maximum distance) 812.5645678017268\n",
      "Fail sanity check - roughly parallel (mean distance) -12290.080317501512\n",
      "Fail sanity check - vehicle position from the lane center -0.9\n"
     ]
    },
    {
     "name": "stderr",
     "output_type": "stream",
     "text": [
      "t:  15%|█▌        | 183/1199 [03:57<21:38,  1.28s/it, now=None]"
     ]
    },
    {
     "name": "stdout",
     "output_type": "stream",
     "text": [
      "failed\n",
      "No x, y points to fit a line\n",
      "failed\n",
      "No x, y points to fit a line\n",
      "Fail sanity check - curvature left curvature: 22.0 right curvature: 355.0\n",
      "Fail sanity check - distance at the bottom 263.7626846478656 right x point: 634.2051312988073 left x point: 370.44244665094163\n",
      "Fail sanity check - roughly parallel (minimum distance) -42801.57923692502\n",
      "Fail sanity check - roughly parallel (maximum distance) 812.5645678017268\n",
      "Fail sanity check - roughly parallel (mean distance) -12290.080317501512\n",
      "Fail sanity check - vehicle position from the lane center -0.9\n",
      "failed\n",
      "No x, y points to fit a line\n",
      "failed\n",
      "No x, y points to fit a line\n"
     ]
    },
    {
     "name": "stderr",
     "output_type": "stream",
     "text": [
      "t:  15%|█▌        | 184/1199 [03:59<22:17,  1.32s/it, now=None]"
     ]
    },
    {
     "name": "stdout",
     "output_type": "stream",
     "text": [
      "Fail sanity check - curvature left curvature: 22.0 right curvature: 355.0\n",
      "Fail sanity check - distance at the bottom 263.7626846478656 right x point: 634.2051312988073 left x point: 370.44244665094163\n",
      "Fail sanity check - roughly parallel (minimum distance) -42801.57923692502\n",
      "Fail sanity check - roughly parallel (maximum distance) 812.5645678017268\n",
      "Fail sanity check - roughly parallel (mean distance) -12290.080317501512\n",
      "Fail sanity check - vehicle position from the lane center -0.9\n",
      "failed\n",
      "No x, y points to fit a line\n",
      "failed\n",
      "No x, y points to fit a line\n",
      "Fail sanity check - curvature left curvature: 22.0 right curvature: 355.0\n",
      "Fail sanity check - distance at the bottom 263.7626846478656 right x point: 634.2051312988073 left x point: 370.44244665094163\n",
      "Fail sanity check - roughly parallel (minimum distance) -42801.57923692502\n",
      "Fail sanity check - roughly parallel (maximum distance) 812.5645678017268\n",
      "Fail sanity check - roughly parallel (mean distance) -12290.080317501512\n",
      "Fail sanity check - vehicle position from the lane center -0.9\n"
     ]
    },
    {
     "name": "stderr",
     "output_type": "stream",
     "text": [
      "t:  16%|█▌        | 186/1199 [04:01<21:35,  1.28s/it, now=None]"
     ]
    },
    {
     "name": "stdout",
     "output_type": "stream",
     "text": [
      "failed\n",
      "No x, y points to fit a line\n",
      "failed\n",
      "No x, y points to fit a line\n",
      "Fail sanity check - curvature left curvature: 22.0 right curvature: 355.0\n",
      "Fail sanity check - distance at the bottom 263.7626846478656 right x point: 634.2051312988073 left x point: 370.44244665094163\n",
      "Fail sanity check - roughly parallel (minimum distance) -42801.57923692502\n",
      "Fail sanity check - roughly parallel (maximum distance) 812.5645678017268\n",
      "Fail sanity check - roughly parallel (mean distance) -12290.080317501512\n",
      "Fail sanity check - vehicle position from the lane center -0.9\n"
     ]
    },
    {
     "name": "stderr",
     "output_type": "stream",
     "text": [
      "t:  16%|█▌        | 187/1199 [04:02<20:42,  1.23s/it, now=None]"
     ]
    },
    {
     "name": "stdout",
     "output_type": "stream",
     "text": [
      "failed\n",
      "No x, y points to fit a line\n",
      "failed\n",
      "No x, y points to fit a line\n",
      "Fail sanity check - curvature left curvature: 22.0 right curvature: 355.0\n",
      "Fail sanity check - distance at the bottom 263.7626846478656 right x point: 634.2051312988073 left x point: 370.44244665094163\n",
      "Fail sanity check - roughly parallel (minimum distance) -42801.57923692502\n",
      "Fail sanity check - roughly parallel (maximum distance) 812.5645678017268\n",
      "Fail sanity check - roughly parallel (mean distance) -12290.080317501512\n",
      "Fail sanity check - vehicle position from the lane center -0.9\n"
     ]
    },
    {
     "name": "stderr",
     "output_type": "stream",
     "text": [
      "t:  16%|█▌        | 188/1199 [04:03<20:12,  1.20s/it, now=None]"
     ]
    },
    {
     "name": "stdout",
     "output_type": "stream",
     "text": [
      "failed\n",
      "No x, y points to fit a line\n",
      "failed\n",
      "No x, y points to fit a line\n",
      "Fail sanity check - curvature left curvature: 22.0 right curvature: 355.0\n",
      "Fail sanity check - distance at the bottom 263.7626846478656 right x point: 634.2051312988073 left x point: 370.44244665094163\n",
      "Fail sanity check - roughly parallel (minimum distance) -42801.57923692502\n",
      "Fail sanity check - roughly parallel (maximum distance) 812.5645678017268\n",
      "Fail sanity check - roughly parallel (mean distance) -12290.080317501512\n",
      "Fail sanity check - vehicle position from the lane center -0.9\n"
     ]
    },
    {
     "name": "stderr",
     "output_type": "stream",
     "text": [
      "t:  16%|█▌        | 189/1199 [04:05<19:49,  1.18s/it, now=None]"
     ]
    },
    {
     "name": "stdout",
     "output_type": "stream",
     "text": [
      "failed\n",
      "No x, y points to fit a line\n",
      "Fail sanity check - curvature left curvature: 22.0 right curvature: 414.0\n",
      "Fail sanity check - distance at the bottom 249.03865729328305 right x point: 634.2051312988073 left x point: 385.1664740055242\n",
      "Fail sanity check - roughly parallel (minimum distance) -42810.812436960696\n",
      "Fail sanity check - roughly parallel (maximum distance) 801.1075911233889\n",
      "Fail sanity check - roughly parallel (mean distance) -12297.115292958828\n",
      "Fail sanity check - vehicle position from the lane center -0.85\n"
     ]
    },
    {
     "name": "stderr",
     "output_type": "stream",
     "text": [
      "t:  16%|█▌        | 190/1199 [04:06<19:39,  1.17s/it, now=None]"
     ]
    },
    {
     "name": "stdout",
     "output_type": "stream",
     "text": [
      "Fail sanity check - curvature left curvature: 22.0 right curvature: 513.0\n",
      "Fail sanity check - distance at the bottom 206.85733860646985 right x point: 608.1386695576156 left x point: 401.2813309511457\n",
      "Fail sanity check - roughly parallel (minimum distance) -42840.00062255018\n",
      "Fail sanity check - roughly parallel (maximum distance) 757.9577133272579\n",
      "Fail sanity check - roughly parallel (mean distance) -12336.9740734339\n",
      "Fail sanity check - vehicle position from the lane center -0.88\n"
     ]
    },
    {
     "name": "stderr",
     "output_type": "stream",
     "text": [
      "t:  16%|█▌        | 191/1199 [04:07<19:06,  1.14s/it, now=None]"
     ]
    },
    {
     "name": "stdout",
     "output_type": "stream",
     "text": [
      "failed\n",
      "No x, y points to fit a line\n",
      "Fail sanity check - curvature left curvature: 22.0 right curvature: 513.0\n",
      "Fail sanity check - distance at the bottom 151.17202267106393 right x point: 552.4533536222096 left x point: 401.2813309511457\n",
      "Fail sanity check - roughly parallel (minimum distance) -44769.61178015836\n",
      "Fail sanity check - roughly parallel (mean distance) -12974.697255000749\n",
      "Fail sanity check - vehicle position from the lane center -1.06\n"
     ]
    },
    {
     "name": "stderr",
     "output_type": "stream",
     "text": [
      "t:  16%|█▌        | 192/1199 [04:08<18:39,  1.11s/it, now=None]"
     ]
    },
    {
     "name": "stdout",
     "output_type": "stream",
     "text": [
      "failed\n",
      "No x, y points to fit a line\n",
      "failed\n",
      "No x, y points to fit a line\n",
      "Fail sanity check - curvature left curvature: 22.0 right curvature: 513.0\n",
      "Fail sanity check - distance at the bottom 151.17202267106393 right x point: 552.4533536222096 left x point: 401.2813309511457\n",
      "Fail sanity check - roughly parallel (minimum distance) -44769.61178015836\n",
      "Fail sanity check - roughly parallel (mean distance) -12974.697255000749\n",
      "Fail sanity check - vehicle position from the lane center -1.06\n"
     ]
    },
    {
     "name": "stderr",
     "output_type": "stream",
     "text": [
      "t:  16%|█▌        | 193/1199 [04:09<18:20,  1.09s/it, now=None]"
     ]
    },
    {
     "name": "stdout",
     "output_type": "stream",
     "text": [
      "failed\n",
      "No x, y points to fit a line\n",
      "Fail sanity check - curvature left curvature: 22.0 right curvature: 612.0\n",
      "Fail sanity check - distance at the bottom 150.08905599548132 right x point: 552.4533536222096 left x point: 402.36429762672833\n",
      "Fail sanity check - roughly parallel (minimum distance) -44765.48378927301\n",
      "Fail sanity check - roughly parallel (mean distance) -12969.33682121877\n",
      "Fail sanity check - vehicle position from the lane center -1.05\n"
     ]
    },
    {
     "name": "stderr",
     "output_type": "stream",
     "text": [
      "t:  16%|█▌        | 194/1199 [04:10<18:13,  1.09s/it, now=None]"
     ]
    },
    {
     "name": "stdout",
     "output_type": "stream",
     "text": [
      "failed\n",
      "No x, y points to fit a line\n",
      "Fail sanity check - curvature left curvature: 22.0 right curvature: 887.0\n",
      "Fail sanity check - distance at the bottom 151.19971005457091 right x point: 552.4533536222096 left x point: 401.25364356763873\n",
      "Fail sanity check - roughly parallel (minimum distance) -44762.64590649139\n",
      "Fail sanity check - roughly parallel (mean distance) -12961.22366289559\n",
      "Fail sanity check - vehicle position from the lane center -1.06\n"
     ]
    },
    {
     "name": "stderr",
     "output_type": "stream",
     "text": [
      "t:  16%|█▋        | 195/1199 [04:11<18:01,  1.08s/it, now=None]"
     ]
    },
    {
     "name": "stdout",
     "output_type": "stream",
     "text": [
      "failed\n",
      "No x, y points to fit a line\n",
      "test\n",
      "No x, y points to fit a line\n",
      "Fail sanity check - curvature left curvature: 22.0 right curvature: 887.0\n",
      "Fail sanity check - distance at the bottom 151.19971005457091 right x point: 552.4533536222096 left x point: 401.25364356763873\n",
      "Fail sanity check - roughly parallel (minimum distance) -44762.64590649139\n",
      "Fail sanity check - roughly parallel (mean distance) -12961.22366289559\n",
      "Fail sanity check - vehicle position from the lane center -1.06\n"
     ]
    },
    {
     "name": "stderr",
     "output_type": "stream",
     "text": [
      "t:  16%|█▋        | 196/1199 [04:12<17:53,  1.07s/it, now=None]"
     ]
    },
    {
     "name": "stdout",
     "output_type": "stream",
     "text": [
      "failed\n",
      "No x, y points to fit a line\n",
      "test\n",
      "Fail sanity check - curvature left curvature: 20.0 right curvature: 887.0\n",
      "Fail sanity check - distance at the bottom 196.09701779893498 right x point: 597.3506613665737 left x point: 401.25364356763873\n",
      "Fail sanity check - roughly parallel (minimum distance) -43028.52453103452\n",
      "Fail sanity check - roughly parallel (mean distance) -12465.615162515616\n",
      "Fail sanity check - vehicle position from the lane center -0.91\n"
     ]
    },
    {
     "name": "stderr",
     "output_type": "stream",
     "text": [
      "t:  16%|█▋        | 197/1199 [04:13<17:45,  1.06s/it, now=None]"
     ]
    },
    {
     "name": "stdout",
     "output_type": "stream",
     "text": [
      "failed\n",
      "No x, y points to fit a line\n",
      "failed\n",
      "No x, y points to fit a line\n",
      "Fail sanity check - curvature left curvature: 20.0 right curvature: 887.0\n",
      "Fail sanity check - distance at the bottom 196.09701779893498 right x point: 597.3506613665737 left x point: 401.25364356763873\n",
      "Fail sanity check - roughly parallel (minimum distance) -43028.52453103452\n",
      "Fail sanity check - roughly parallel (mean distance) -12465.615162515616\n",
      "Fail sanity check - vehicle position from the lane center -0.91\n"
     ]
    },
    {
     "name": "stderr",
     "output_type": "stream",
     "text": [
      "t:  17%|█▋        | 198/1199 [04:14<17:52,  1.07s/it, now=None]"
     ]
    },
    {
     "name": "stdout",
     "output_type": "stream",
     "text": [
      "failed\n",
      "No x, y points to fit a line\n",
      "failed\n",
      "No x, y points to fit a line\n",
      "Fail sanity check - curvature left curvature: 20.0 right curvature: 887.0\n",
      "Fail sanity check - distance at the bottom 196.09701779893498 right x point: 597.3506613665737 left x point: 401.25364356763873\n",
      "Fail sanity check - roughly parallel (minimum distance) -43028.52453103452\n",
      "Fail sanity check - roughly parallel (mean distance) -12465.615162515616\n",
      "Fail sanity check - vehicle position from the lane center -0.91\n"
     ]
    },
    {
     "name": "stderr",
     "output_type": "stream",
     "text": [
      "t:  17%|█▋        | 199/1199 [04:15<17:46,  1.07s/it, now=None]"
     ]
    },
    {
     "name": "stdout",
     "output_type": "stream",
     "text": [
      "failed\n",
      "No x, y points to fit a line\n",
      "Fail sanity check - curvature left curvature: 20.0 right curvature: 701.0\n",
      "Fail sanity check - distance at the bottom 195.15075470930037 right x point: 597.3506613665737 left x point: 402.19990665727335\n",
      "Fail sanity check - roughly parallel (minimum distance) -43052.776877163466\n",
      "Fail sanity check - roughly parallel (mean distance) -12481.842002036627\n",
      "Fail sanity check - vehicle position from the lane center -0.91\n"
     ]
    },
    {
     "name": "stderr",
     "output_type": "stream",
     "text": [
      "t:  17%|█▋        | 200/1199 [04:16<18:05,  1.09s/it, now=None]"
     ]
    },
    {
     "name": "stdout",
     "output_type": "stream",
     "text": [
      "failed\n",
      "No x, y points to fit a line\n",
      "failed\n",
      "No x, y points to fit a line\n",
      "Fail sanity check - curvature left curvature: 20.0 right curvature: 701.0\n",
      "Fail sanity check - distance at the bottom 195.15075470930037 right x point: 597.3506613665737 left x point: 402.19990665727335\n",
      "Fail sanity check - roughly parallel (minimum distance) -43052.776877163466\n",
      "Fail sanity check - roughly parallel (mean distance) -12481.842002036627\n",
      "Fail sanity check - vehicle position from the lane center -0.91\n",
      "test\n",
      "Fail sanity check - curvature left curvature: 9.0 right curvature: 1287.0\n",
      "Fail sanity check - distance at the bottom 475.85998888058134 right x point: 875.9035987254389 left x point: 400.04360984485754\n",
      "Fail sanity check - roughly parallel (minimum distance) -20321.556207333495\n",
      "Fail sanity check - roughly parallel (mean distance) -5633.3176057199735\n"
     ]
    },
    {
     "name": "stderr",
     "output_type": "stream",
     "text": [
      "t:  17%|█▋        | 202/1199 [04:19<18:54,  1.14s/it, now=None]"
     ]
    },
    {
     "name": "stdout",
     "output_type": "stream",
     "text": [
      "test\n",
      "Fail sanity check - curvature left curvature: 13.0 right curvature: 2718.0\n",
      "Fail sanity check - distance at the bottom 349.3366237119533 right x point: 740.1787623162719 left x point: 390.8421386043186\n",
      "Fail sanity check - roughly parallel (minimum distance) -34263.37327202044\n",
      "Fail sanity check - roughly parallel (mean distance) -9842.290970699612\n",
      "test\n",
      "Fail sanity check - curvature left curvature: 14.0 right curvature: 3119.0\n",
      "Fail sanity check - distance at the bottom 353.76334972556134 right x point: 728.6624944346369 left x point: 374.89914470907553\n",
      "Fail sanity check - roughly parallel (minimum distance) -34530.49900572027\n",
      "Fail sanity check - roughly parallel (maximum distance) 754.0392636123423\n",
      "Fail sanity check - roughly parallel (mean distance) -9898.19553535434\n",
      "Fail sanity check - vehicle position from the lane center -0.58\n"
     ]
    },
    {
     "name": "stderr",
     "output_type": "stream",
     "text": [
      "t:  17%|█▋        | 204/1199 [04:21<19:48,  1.19s/it, now=None]"
     ]
    },
    {
     "name": "stdout",
     "output_type": "stream",
     "text": [
      "Fail sanity check - curvature left curvature: 13.0 right curvature: 1822.0\n",
      "Fail sanity check - distance at the bottom 365.450581228308 right x point: 749.9627768293495 left x point: 384.5121956010415\n",
      "Fail sanity check - roughly parallel (minimum distance) -34008.477148035345\n",
      "Fail sanity check - roughly parallel (mean distance) -9778.133245006007\n"
     ]
    },
    {
     "name": "stderr",
     "output_type": "stream",
     "text": [
      "t:  17%|█▋        | 205/1199 [04:22<20:03,  1.21s/it, now=None]"
     ]
    },
    {
     "name": "stdout",
     "output_type": "stream",
     "text": [
      "Fail sanity check - curvature left curvature: 11.0 right curvature: 1915.0\n",
      "Fail sanity check - distance at the bottom 400.11417918487257 right x point: 795.8249652942832 left x point: 395.7107861094106\n",
      "Fail sanity check - roughly parallel (minimum distance) -27561.553576526712\n",
      "Fail sanity check - roughly parallel (mean distance) -7830.260357541893\n"
     ]
    },
    {
     "name": "stderr",
     "output_type": "stream",
     "text": [
      "t:  17%|█▋        | 206/1199 [04:24<20:39,  1.25s/it, now=None]"
     ]
    },
    {
     "name": "stdout",
     "output_type": "stream",
     "text": [
      "Fail sanity check - curvature left curvature: 10.0 right curvature: 929.0\n",
      "Fail sanity check - distance at the bottom 404.67663551871726 right x point: 793.6186973357601 left x point: 388.9420618170428\n",
      "Fail sanity check - roughly parallel (minimum distance) -27481.483633722575\n",
      "Fail sanity check - roughly parallel (mean distance) -7819.1871000716865\n"
     ]
    },
    {
     "name": "stderr",
     "output_type": "stream",
     "text": [
      "t:  17%|█▋        | 207/1199 [04:25<21:36,  1.31s/it, now=None]"
     ]
    },
    {
     "name": "stdout",
     "output_type": "stream",
     "text": [
      "Fail sanity check - curvature left curvature: 8.0 right curvature: 677.0\n",
      "Fail sanity check - distance at the bottom 468.04411605100324 right x point: 852.3653626171132 left x point: 384.32124656610995\n",
      "Fail sanity check - roughly parallel (minimum distance) -21862.23544640502\n",
      "Fail sanity check - roughly parallel (mean distance) -6153.158103700952\n"
     ]
    },
    {
     "name": "stderr",
     "output_type": "stream",
     "text": [
      "t:  17%|█▋        | 208/1199 [04:27<21:42,  1.31s/it, now=None]"
     ]
    },
    {
     "name": "stdout",
     "output_type": "stream",
     "text": [
      "Fail sanity check - curvature left curvature: 8.0 right curvature: 506.0\n",
      "Fail sanity check - roughly parallel (minimum distance) -21829.92796969212\n",
      "Fail sanity check - roughly parallel (mean distance) -6118.729920366859\n"
     ]
    },
    {
     "name": "stderr",
     "output_type": "stream",
     "text": [
      "t:  17%|█▋        | 209/1199 [04:28<21:33,  1.31s/it, now=None]"
     ]
    },
    {
     "name": "stdout",
     "output_type": "stream",
     "text": [
      "Fail sanity check - curvature left curvature: 8.0 right curvature: 404.0\n",
      "Fail sanity check - roughly parallel (minimum distance) -21848.05456196187\n",
      "Fail sanity check - roughly parallel (maximum distance) 754.5621855007876\n",
      "Fail sanity check - roughly parallel (mean distance) -6107.517182500536\n"
     ]
    },
    {
     "name": "stderr",
     "output_type": "stream",
     "text": [
      "t:  18%|█▊        | 210/1199 [04:29<21:59,  1.33s/it, now=None]"
     ]
    },
    {
     "name": "stdout",
     "output_type": "stream",
     "text": [
      "Fail sanity check - curvature left curvature: 9.0 right curvature: 497.0\n",
      "Fail sanity check - roughly parallel (minimum distance) -21770.41663618873\n",
      "Fail sanity check - roughly parallel (mean distance) -6072.99783465724\n"
     ]
    },
    {
     "name": "stderr",
     "output_type": "stream",
     "text": [
      "t:  18%|█▊        | 211/1199 [04:31<22:35,  1.37s/it, now=None]"
     ]
    },
    {
     "name": "stdout",
     "output_type": "stream",
     "text": [
      "Fail sanity check - curvature left curvature: 8.0 right curvature: 391.0\n",
      "Fail sanity check - roughly parallel (minimum distance) -13566.793360202588\n",
      "Fail sanity check - roughly parallel (mean distance) -3620.559214025499\n"
     ]
    },
    {
     "name": "stderr",
     "output_type": "stream",
     "text": [
      "t:  18%|█▊        | 212/1199 [04:32<22:31,  1.37s/it, now=None]"
     ]
    },
    {
     "name": "stdout",
     "output_type": "stream",
     "text": [
      "Fail sanity check - roughly parallel (minimum distance) 378.822344050935\n",
      "Fail sanity check - vehicle position from the lane center 0.54\n"
     ]
    },
    {
     "name": "stderr",
     "output_type": "stream",
     "text": [
      "t:  18%|█▊        | 213/1199 [04:33<22:32,  1.37s/it, now=None]"
     ]
    },
    {
     "name": "stdout",
     "output_type": "stream",
     "text": [
      "Fail sanity check - vehicle position from the lane center 0.56\n"
     ]
    },
    {
     "name": "stderr",
     "output_type": "stream",
     "text": [
      "t:  18%|█▊        | 217/1199 [04:40<28:38,  1.75s/it, now=None]"
     ]
    },
    {
     "name": "stdout",
     "output_type": "stream",
     "text": [
      "Fail sanity check - curvature left curvature: 2160.0 right curvature: 394.0\n"
     ]
    },
    {
     "name": "stderr",
     "output_type": "stream",
     "text": [
      "t:  18%|█▊        | 221/1199 [04:46<24:03,  1.48s/it, now=None]"
     ]
    },
    {
     "name": "stdout",
     "output_type": "stream",
     "text": [
      "Fail sanity check - curvature left curvature: 2508.0 right curvature: 342.0\n"
     ]
    },
    {
     "name": "stderr",
     "output_type": "stream",
     "text": [
      "t:  19%|█▊        | 222/1199 [04:47<23:33,  1.45s/it, now=None]"
     ]
    },
    {
     "name": "stdout",
     "output_type": "stream",
     "text": [
      "Fail sanity check - curvature left curvature: 2155.0 right curvature: 330.0\n"
     ]
    },
    {
     "name": "stderr",
     "output_type": "stream",
     "text": [
      "t:  19%|█▊        | 223/1199 [04:49<22:58,  1.41s/it, now=None]"
     ]
    },
    {
     "name": "stdout",
     "output_type": "stream",
     "text": [
      "Fail sanity check - curvature left curvature: 1707.0 right curvature: 286.0\n"
     ]
    },
    {
     "name": "stderr",
     "output_type": "stream",
     "text": [
      "t:  19%|█▊        | 224/1199 [04:50<22:30,  1.38s/it, now=None]"
     ]
    },
    {
     "name": "stdout",
     "output_type": "stream",
     "text": [
      "Fail sanity check - curvature left curvature: 1328.0 right curvature: 247.0\n"
     ]
    },
    {
     "name": "stderr",
     "output_type": "stream",
     "text": [
      "t:  19%|█▉        | 225/1199 [04:51<22:21,  1.38s/it, now=None]"
     ]
    },
    {
     "name": "stdout",
     "output_type": "stream",
     "text": [
      "Fail sanity check - curvature left curvature: 1172.0 right curvature: 232.0\n"
     ]
    },
    {
     "name": "stderr",
     "output_type": "stream",
     "text": [
      "t:  19%|█▉        | 226/1199 [04:53<23:17,  1.44s/it, now=None]"
     ]
    },
    {
     "name": "stdout",
     "output_type": "stream",
     "text": [
      "Fail sanity check - curvature left curvature: 1130.0 right curvature: 222.0\n"
     ]
    },
    {
     "name": "stderr",
     "output_type": "stream",
     "text": [
      "t:  19%|█▉        | 233/1199 [05:03<22:30,  1.40s/it, now=None]"
     ]
    },
    {
     "name": "stdout",
     "output_type": "stream",
     "text": [
      "Fail sanity check - curvature left curvature: 1012.0 right curvature: 190.0\n"
     ]
    },
    {
     "name": "stderr",
     "output_type": "stream",
     "text": [
      "t:  20%|█▉        | 234/1199 [05:04<23:46,  1.48s/it, now=None]"
     ]
    },
    {
     "name": "stdout",
     "output_type": "stream",
     "text": [
      "Fail sanity check - curvature left curvature: 994.0 right curvature: 196.0\n"
     ]
    },
    {
     "name": "stderr",
     "output_type": "stream",
     "text": [
      "t:  20%|██        | 241/1199 [05:14<21:35,  1.35s/it, now=None]"
     ]
    },
    {
     "name": "stdout",
     "output_type": "stream",
     "text": [
      "Fail sanity check - distance at the bottom 721.3365282205948 right x point: 1020.6013827569047 left x point: 299.26485453631\n",
      "failed\n",
      "No x, y points to fit a line\n"
     ]
    },
    {
     "name": "stderr",
     "output_type": "stream",
     "text": [
      "t:  22%|██▏       | 265/1199 [05:47<21:07,  1.36s/it, now=None]"
     ]
    },
    {
     "name": "stdout",
     "output_type": "stream",
     "text": [
      "Fail sanity check - curvature left curvature: 217.0 right curvature: 1411.0\n"
     ]
    },
    {
     "name": "stderr",
     "output_type": "stream",
     "text": [
      "t:  22%|██▏       | 266/1199 [05:48<20:50,  1.34s/it, now=None]"
     ]
    },
    {
     "name": "stdout",
     "output_type": "stream",
     "text": [
      "Fail sanity check - curvature left curvature: 219.0 right curvature: 3533.0\n"
     ]
    },
    {
     "name": "stderr",
     "output_type": "stream",
     "text": [
      "t:  23%|██▎       | 270/1199 [05:54<21:29,  1.39s/it, now=None]"
     ]
    },
    {
     "name": "stdout",
     "output_type": "stream",
     "text": [
      "Fail sanity check - roughly parallel (minimum distance) 452.5252620269232\n",
      "failed\n",
      "No x, y points to fit a line\n"
     ]
    },
    {
     "name": "stderr",
     "output_type": "stream",
     "text": [
      "t:  23%|██▎       | 271/1199 [05:56<21:11,  1.37s/it, now=None]"
     ]
    },
    {
     "name": "stdout",
     "output_type": "stream",
     "text": [
      "Fail sanity check - roughly parallel (minimum distance) 439.4073016934608\n",
      "failed\n",
      "No x, y points to fit a line\n"
     ]
    },
    {
     "name": "stderr",
     "output_type": "stream",
     "text": [
      "t:  23%|██▎       | 272/1199 [05:57<21:23,  1.38s/it, now=None]"
     ]
    },
    {
     "name": "stdout",
     "output_type": "stream",
     "text": [
      "Fail sanity check - roughly parallel (minimum distance) 428.938807575724\n"
     ]
    },
    {
     "name": "stderr",
     "output_type": "stream",
     "text": [
      "t:  23%|██▎       | 273/1199 [06:00<28:10,  1.83s/it, now=None]"
     ]
    },
    {
     "name": "stdout",
     "output_type": "stream",
     "text": [
      "Fail sanity check - roughly parallel (minimum distance) 373.74836731585265\n"
     ]
    },
    {
     "name": "stderr",
     "output_type": "stream",
     "text": [
      "t:  23%|██▎       | 274/1199 [06:01<27:04,  1.76s/it, now=None]"
     ]
    },
    {
     "name": "stdout",
     "output_type": "stream",
     "text": [
      "Fail sanity check - roughly parallel (minimum distance) 315.7247667612776\n",
      "Fail sanity check - roughly parallel (mean distance) 475.956050092261\n",
      "failed\n",
      "No x, y points to fit a line\n"
     ]
    },
    {
     "name": "stderr",
     "output_type": "stream",
     "text": [
      "t:  23%|██▎       | 275/1199 [06:03<25:37,  1.66s/it, now=None]"
     ]
    },
    {
     "name": "stdout",
     "output_type": "stream",
     "text": [
      "Fail sanity check - roughly parallel (minimum distance) 290.93281580173357\n",
      "Fail sanity check - roughly parallel (mean distance) 464.53017044761947\n",
      "failed\n",
      "No x, y points to fit a line\n"
     ]
    },
    {
     "name": "stderr",
     "output_type": "stream",
     "text": [
      "t:  23%|██▎       | 276/1199 [06:04<24:20,  1.58s/it, now=None]"
     ]
    },
    {
     "name": "stdout",
     "output_type": "stream",
     "text": [
      "Fail sanity check - roughly parallel (minimum distance) 271.1577114172169\n",
      "Fail sanity check - roughly parallel (mean distance) 455.3574291534802\n",
      "failed\n",
      "No x, y points to fit a line\n"
     ]
    },
    {
     "name": "stderr",
     "output_type": "stream",
     "text": [
      "t:  23%|██▎       | 277/1199 [06:06<22:59,  1.50s/it, now=None]"
     ]
    },
    {
     "name": "stdout",
     "output_type": "stream",
     "text": [
      "Fail sanity check - roughly parallel (minimum distance) 249.98616977089932\n",
      "Fail sanity check - roughly parallel (mean distance) 446.0857929100593\n",
      "failed\n",
      "No x, y points to fit a line\n"
     ]
    },
    {
     "name": "stderr",
     "output_type": "stream",
     "text": [
      "t:  23%|██▎       | 278/1199 [06:07<22:04,  1.44s/it, now=None]"
     ]
    },
    {
     "name": "stdout",
     "output_type": "stream",
     "text": [
      "Fail sanity check - roughly parallel (minimum distance) 242.14386060431775\n",
      "Fail sanity check - roughly parallel (mean distance) 441.0446850845438\n"
     ]
    },
    {
     "name": "stderr",
     "output_type": "stream",
     "text": [
      "t:  23%|██▎       | 279/1199 [06:08<21:44,  1.42s/it, now=None]"
     ]
    },
    {
     "name": "stdout",
     "output_type": "stream",
     "text": [
      "Fail sanity check - roughly parallel (minimum distance) 263.1201755728523\n",
      "Fail sanity check - roughly parallel (mean distance) 448.98191345353615\n"
     ]
    },
    {
     "name": "stderr",
     "output_type": "stream",
     "text": [
      "t:  23%|██▎       | 280/1199 [06:09<21:04,  1.38s/it, now=None]"
     ]
    },
    {
     "name": "stdout",
     "output_type": "stream",
     "text": [
      "Fail sanity check - roughly parallel (minimum distance) 286.7102943828071\n",
      "Fail sanity check - roughly parallel (mean distance) 456.776858570807\n"
     ]
    },
    {
     "name": "stderr",
     "output_type": "stream",
     "text": [
      "t:  23%|██▎       | 281/1199 [06:11<21:16,  1.39s/it, now=None]"
     ]
    },
    {
     "name": "stdout",
     "output_type": "stream",
     "text": [
      "Fail sanity check - roughly parallel (minimum distance) 334.18081123910474\n",
      "Fail sanity check - roughly parallel (mean distance) 469.5394325606048\n"
     ]
    },
    {
     "name": "stderr",
     "output_type": "stream",
     "text": [
      "t:  24%|██▎       | 282/1199 [06:12<21:58,  1.44s/it, now=None]"
     ]
    },
    {
     "name": "stdout",
     "output_type": "stream",
     "text": [
      "Fail sanity check - roughly parallel (minimum distance) 397.865444913004\n",
      "failed\n",
      "No x, y points to fit a line\n"
     ]
    },
    {
     "name": "stderr",
     "output_type": "stream",
     "text": [
      "t:  24%|██▎       | 283/1199 [06:14<21:00,  1.38s/it, now=None]"
     ]
    },
    {
     "name": "stdout",
     "output_type": "stream",
     "text": [
      "Fail sanity check - roughly parallel (minimum distance) 429.97493146690294\n",
      "failed\n",
      "No x, y points to fit a line\n",
      "Fail sanity check - roughly parallel (minimum distance) 456.29550160516004\n"
     ]
    },
    {
     "name": "stderr",
     "output_type": "stream",
     "text": [
      "t:  24%|██▎       | 284/1199 [06:15<19:56,  1.31s/it, now=None]"
     ]
    },
    {
     "name": "stdout",
     "output_type": "stream",
     "text": [
      "failed\n",
      "No x, y points to fit a line\n"
     ]
    },
    {
     "name": "stderr",
     "output_type": "stream",
     "text": [
      "t:  24%|██▍       | 288/1199 [06:20<19:20,  1.27s/it, now=None]"
     ]
    },
    {
     "name": "stdout",
     "output_type": "stream",
     "text": [
      "Fail sanity check - roughly parallel (maximum distance) 751.2347377308199\n",
      "failed\n",
      "No x, y points to fit a line\n",
      "failed\n",
      "No x, y points to fit a line\n"
     ]
    },
    {
     "name": "stderr",
     "output_type": "stream",
     "text": [
      "t:  24%|██▍       | 289/1199 [06:21<19:29,  1.29s/it, now=None]"
     ]
    },
    {
     "name": "stdout",
     "output_type": "stream",
     "text": [
      "Fail sanity check - roughly parallel (maximum distance) 751.2347377308199\n",
      "failed\n",
      "No x, y points to fit a line\n",
      "failed\n",
      "No x, y points to fit a line\n"
     ]
    },
    {
     "name": "stderr",
     "output_type": "stream",
     "text": [
      "t:  24%|██▍       | 290/1199 [06:23<20:21,  1.34s/it, now=None]"
     ]
    },
    {
     "name": "stdout",
     "output_type": "stream",
     "text": [
      "Fail sanity check - roughly parallel (maximum distance) 751.2347377308199\n",
      "failed\n",
      "No x, y points to fit a line\n",
      "failed\n",
      "No x, y points to fit a line\n"
     ]
    },
    {
     "name": "stderr",
     "output_type": "stream",
     "text": [
      "t:  24%|██▍       | 291/1199 [06:24<20:23,  1.35s/it, now=None]"
     ]
    },
    {
     "name": "stdout",
     "output_type": "stream",
     "text": [
      "Fail sanity check - roughly parallel (maximum distance) 751.2347377308199\n",
      "failed\n",
      "No x, y points to fit a line\n",
      "failed\n",
      "No x, y points to fit a line\n"
     ]
    },
    {
     "name": "stderr",
     "output_type": "stream",
     "text": [
      "t:  24%|██▍       | 292/1199 [06:25<20:16,  1.34s/it, now=None]"
     ]
    },
    {
     "name": "stdout",
     "output_type": "stream",
     "text": [
      "Fail sanity check - roughly parallel (maximum distance) 751.2347377308199\n",
      "failed\n",
      "No x, y points to fit a line\n"
     ]
    },
    {
     "name": "stderr",
     "output_type": "stream",
     "text": [
      "t:  24%|██▍       | 293/1199 [06:27<21:09,  1.40s/it, now=None]"
     ]
    },
    {
     "name": "stdout",
     "output_type": "stream",
     "text": [
      "Fail sanity check - roughly parallel (maximum distance) 757.2770859028594\n",
      "failed\n",
      "No x, y points to fit a line\n"
     ]
    },
    {
     "name": "stderr",
     "output_type": "stream",
     "text": [
      "t:  25%|██▍       | 294/1199 [06:29<22:00,  1.46s/it, now=None]"
     ]
    },
    {
     "name": "stdout",
     "output_type": "stream",
     "text": [
      "Fail sanity check - roughly parallel (maximum distance) 762.8541962967599\n",
      "failed\n",
      "No x, y points to fit a line\n",
      "failed\n",
      "No x, y points to fit a line\n"
     ]
    },
    {
     "name": "stderr",
     "output_type": "stream",
     "text": [
      "t:  25%|██▍       | 295/1199 [06:30<21:18,  1.41s/it, now=None]"
     ]
    },
    {
     "name": "stdout",
     "output_type": "stream",
     "text": [
      "Fail sanity check - roughly parallel (maximum distance) 762.8541962967599\n",
      "failed\n",
      "No x, y points to fit a line\n"
     ]
    },
    {
     "name": "stderr",
     "output_type": "stream",
     "text": [
      "t:  25%|██▍       | 296/1199 [06:31<21:00,  1.40s/it, now=None]"
     ]
    },
    {
     "name": "stdout",
     "output_type": "stream",
     "text": [
      "Fail sanity check - roughly parallel (maximum distance) 762.5063984940396\n",
      "failed\n",
      "No x, y points to fit a line\n"
     ]
    },
    {
     "name": "stderr",
     "output_type": "stream",
     "text": [
      "t:  25%|██▍       | 297/1199 [06:32<20:10,  1.34s/it, now=None]"
     ]
    },
    {
     "name": "stdout",
     "output_type": "stream",
     "text": [
      "Fail sanity check - roughly parallel (maximum distance) 768.9531986488977\n",
      "failed\n",
      "No x, y points to fit a line\n",
      "failed\n",
      "No x, y points to fit a line\n"
     ]
    },
    {
     "name": "stderr",
     "output_type": "stream",
     "text": [
      "t:  25%|██▍       | 298/1199 [06:34<19:15,  1.28s/it, now=None]"
     ]
    },
    {
     "name": "stdout",
     "output_type": "stream",
     "text": [
      "Fail sanity check - roughly parallel (maximum distance) 768.9531986488977\n",
      "failed\n",
      "No x, y points to fit a line\n"
     ]
    },
    {
     "name": "stderr",
     "output_type": "stream",
     "text": [
      "t:  25%|██▍       | 299/1199 [06:35<18:54,  1.26s/it, now=None]"
     ]
    },
    {
     "name": "stdout",
     "output_type": "stream",
     "text": [
      "Fail sanity check - roughly parallel (maximum distance) 773.7225672557888\n"
     ]
    },
    {
     "name": "stderr",
     "output_type": "stream",
     "text": [
      "t:  25%|██▌       | 300/1199 [06:36<19:00,  1.27s/it, now=None]"
     ]
    },
    {
     "name": "stdout",
     "output_type": "stream",
     "text": [
      "Fail sanity check - curvature left curvature: 231.0 right curvature: 1469.0\n",
      "Fail sanity check - roughly parallel (maximum distance) 783.0321049998045\n",
      "failed\n",
      "No x, y points to fit a line\n"
     ]
    },
    {
     "name": "stderr",
     "output_type": "stream",
     "text": [
      "t:  25%|██▌       | 301/1199 [06:37<18:48,  1.26s/it, now=None]"
     ]
    },
    {
     "name": "stdout",
     "output_type": "stream",
     "text": [
      "Fail sanity check - curvature left curvature: 231.0 right curvature: 2826.0\n",
      "Fail sanity check - roughly parallel (maximum distance) 794.226197602061\n",
      "failed\n",
      "No x, y points to fit a line\n"
     ]
    },
    {
     "name": "stderr",
     "output_type": "stream",
     "text": [
      "t:  25%|██▌       | 302/1199 [06:39<18:59,  1.27s/it, now=None]"
     ]
    },
    {
     "name": "stdout",
     "output_type": "stream",
     "text": [
      "Fail sanity check - roughly parallel (maximum distance) 800.2889475594277\n",
      "failed\n",
      "No x, y points to fit a line\n"
     ]
    },
    {
     "name": "stderr",
     "output_type": "stream",
     "text": [
      "t:  25%|██▌       | 303/1199 [06:40<19:32,  1.31s/it, now=None]"
     ]
    },
    {
     "name": "stdout",
     "output_type": "stream",
     "text": [
      "Fail sanity check - roughly parallel (maximum distance) 806.1823480673133\n"
     ]
    },
    {
     "name": "stderr",
     "output_type": "stream",
     "text": [
      "t:  25%|██▌       | 304/1199 [06:41<19:19,  1.30s/it, now=None]"
     ]
    },
    {
     "name": "stdout",
     "output_type": "stream",
     "text": [
      "Fail sanity check - curvature left curvature: 223.0 right curvature: 2901.0\n",
      "Fail sanity check - roughly parallel (maximum distance) 811.9083886096313\n"
     ]
    },
    {
     "name": "stderr",
     "output_type": "stream",
     "text": [
      "t:  25%|██▌       | 305/1199 [06:43<19:21,  1.30s/it, now=None]"
     ]
    },
    {
     "name": "stdout",
     "output_type": "stream",
     "text": [
      "Fail sanity check - curvature left curvature: 206.0 right curvature: 1936.0\n",
      "Fail sanity check - roughly parallel (maximum distance) 831.8877635553606\n"
     ]
    },
    {
     "name": "stderr",
     "output_type": "stream",
     "text": [
      "t:  26%|██▌       | 306/1199 [06:44<20:55,  1.41s/it, now=None]"
     ]
    },
    {
     "name": "stdout",
     "output_type": "stream",
     "text": [
      "Fail sanity check - curvature left curvature: 203.0 right curvature: 1680.0\n",
      "Fail sanity check - roughly parallel (maximum distance) 838.3711534269829\n",
      "failed\n",
      "No x, y points to fit a line\n"
     ]
    },
    {
     "name": "stderr",
     "output_type": "stream",
     "text": [
      "t:  26%|██▌       | 307/1199 [06:46<21:45,  1.46s/it, now=None]"
     ]
    },
    {
     "name": "stdout",
     "output_type": "stream",
     "text": [
      "Fail sanity check - roughly parallel (maximum distance) 851.9599987185431\n",
      "failed\n",
      "No x, y points to fit a line\n"
     ]
    },
    {
     "name": "stderr",
     "output_type": "stream",
     "text": [
      "t:  26%|██▌       | 308/1199 [06:47<21:02,  1.42s/it, now=None]"
     ]
    },
    {
     "name": "stdout",
     "output_type": "stream",
     "text": [
      "Fail sanity check - roughly parallel (maximum distance) 831.979230584364\n"
     ]
    },
    {
     "name": "stderr",
     "output_type": "stream",
     "text": [
      "t:  26%|██▌       | 309/1199 [06:48<20:21,  1.37s/it, now=None]"
     ]
    },
    {
     "name": "stdout",
     "output_type": "stream",
     "text": [
      "Fail sanity check - curvature left curvature: 209.0 right curvature: 1156.0\n",
      "Fail sanity check - roughly parallel (maximum distance) 801.1766243063988\n"
     ]
    },
    {
     "name": "stderr",
     "output_type": "stream",
     "text": [
      "t:  26%|██▌       | 310/1199 [06:50<19:27,  1.31s/it, now=None]"
     ]
    },
    {
     "name": "stdout",
     "output_type": "stream",
     "text": [
      "Fail sanity check - curvature left curvature: 228.0 right curvature: 2539.0\n"
     ]
    },
    {
     "name": "stderr",
     "output_type": "stream",
     "text": [
      "t:  26%|██▋       | 315/1199 [06:56<18:21,  1.25s/it, now=None]"
     ]
    },
    {
     "name": "stdout",
     "output_type": "stream",
     "text": [
      "Fail sanity check - curvature left curvature: 263.0 right curvature: 2948.0\n"
     ]
    },
    {
     "name": "stderr",
     "output_type": "stream",
     "text": [
      "t:  27%|██▋       | 320/1199 [07:02<18:26,  1.26s/it, now=None]"
     ]
    },
    {
     "name": "stdout",
     "output_type": "stream",
     "text": [
      "Fail sanity check - roughly parallel (minimum distance) 451.96727903406054\n",
      "failed\n",
      "No x, y points to fit a line\n"
     ]
    },
    {
     "name": "stderr",
     "output_type": "stream",
     "text": [
      "t:  27%|██▋       | 321/1199 [07:03<18:17,  1.25s/it, now=None]"
     ]
    },
    {
     "name": "stdout",
     "output_type": "stream",
     "text": [
      "Fail sanity check - roughly parallel (minimum distance) 450.6240697881169\n",
      "failed\n",
      "No x, y points to fit a line\n"
     ]
    },
    {
     "name": "stderr",
     "output_type": "stream",
     "text": [
      "t:  27%|██▋       | 322/1199 [07:05<18:20,  1.25s/it, now=None]"
     ]
    },
    {
     "name": "stdout",
     "output_type": "stream",
     "text": [
      "Fail sanity check - curvature left curvature: 1587.0 right curvature: 270.0\n",
      "Fail sanity check - roughly parallel (minimum distance) 441.71916566964273\n",
      "failed\n",
      "No x, y points to fit a line\n"
     ]
    },
    {
     "name": "stderr",
     "output_type": "stream",
     "text": [
      "t:  27%|██▋       | 323/1199 [07:06<18:39,  1.28s/it, now=None]"
     ]
    },
    {
     "name": "stdout",
     "output_type": "stream",
     "text": [
      "Fail sanity check - curvature left curvature: 2939.0 right curvature: 270.0\n",
      "Fail sanity check - roughly parallel (minimum distance) 446.24456309366883\n",
      "failed\n",
      "No x, y points to fit a line\n"
     ]
    },
    {
     "name": "stderr",
     "output_type": "stream",
     "text": [
      "t:  27%|██▋       | 324/1199 [07:08<20:31,  1.41s/it, now=None]"
     ]
    },
    {
     "name": "stdout",
     "output_type": "stream",
     "text": [
      "Fail sanity check - roughly parallel (minimum distance) 435.31223532812237\n",
      "failed\n",
      "No x, y points to fit a line\n"
     ]
    },
    {
     "name": "stderr",
     "output_type": "stream",
     "text": [
      "t:  27%|██▋       | 325/1199 [07:09<20:39,  1.42s/it, now=None]"
     ]
    },
    {
     "name": "stdout",
     "output_type": "stream",
     "text": [
      "Fail sanity check - roughly parallel (minimum distance) 436.6741369512431\n",
      "failed\n",
      "No x, y points to fit a line\n"
     ]
    },
    {
     "name": "stderr",
     "output_type": "stream",
     "text": [
      "t:  27%|██▋       | 326/1199 [07:10<20:12,  1.39s/it, now=None]"
     ]
    },
    {
     "name": "stdout",
     "output_type": "stream",
     "text": [
      "Fail sanity check - roughly parallel (minimum distance) 433.28757255661776\n",
      "failed\n",
      "No x, y points to fit a line\n"
     ]
    },
    {
     "name": "stderr",
     "output_type": "stream",
     "text": [
      "t:  27%|██▋       | 327/1199 [07:12<19:44,  1.36s/it, now=None]"
     ]
    },
    {
     "name": "stdout",
     "output_type": "stream",
     "text": [
      "Fail sanity check - roughly parallel (minimum distance) 427.90375655111154\n",
      "failed\n",
      "No x, y points to fit a line\n"
     ]
    },
    {
     "name": "stderr",
     "output_type": "stream",
     "text": [
      "t:  27%|██▋       | 328/1199 [07:13<19:11,  1.32s/it, now=None]"
     ]
    },
    {
     "name": "stdout",
     "output_type": "stream",
     "text": [
      "Fail sanity check - roughly parallel (minimum distance) 428.3852200045727\n",
      "failed\n",
      "No x, y points to fit a line\n",
      "test\n",
      "No x, y points to fit a line\n"
     ]
    },
    {
     "name": "stderr",
     "output_type": "stream",
     "text": [
      "t:  27%|██▋       | 329/1199 [07:14<18:36,  1.28s/it, now=None]"
     ]
    },
    {
     "name": "stdout",
     "output_type": "stream",
     "text": [
      "Fail sanity check - roughly parallel (minimum distance) 428.3852200045727\n",
      "failed\n",
      "No x, y points to fit a line\n"
     ]
    },
    {
     "name": "stderr",
     "output_type": "stream",
     "text": [
      "t:  28%|██▊       | 330/1199 [07:15<18:24,  1.27s/it, now=None]"
     ]
    },
    {
     "name": "stdout",
     "output_type": "stream",
     "text": [
      "Fail sanity check - roughly parallel (minimum distance) 429.7283257874359\n",
      "failed\n",
      "No x, y points to fit a line\n"
     ]
    },
    {
     "name": "stderr",
     "output_type": "stream",
     "text": [
      "t:  28%|██▊       | 331/1199 [07:17<18:17,  1.26s/it, now=None]"
     ]
    },
    {
     "name": "stdout",
     "output_type": "stream",
     "text": [
      "Fail sanity check - roughly parallel (minimum distance) 431.7644743590089\n",
      "failed\n",
      "No x, y points to fit a line\n",
      "test\n"
     ]
    },
    {
     "name": "stderr",
     "output_type": "stream",
     "text": [
      "t:  28%|██▊       | 335/1199 [07:22<17:52,  1.24s/it, now=None]"
     ]
    },
    {
     "name": "stdout",
     "output_type": "stream",
     "text": [
      "Fail sanity check - vehicle position from the lane center 0.52\n",
      "failed\n",
      "No x, y points to fit a line\n",
      "test\n"
     ]
    },
    {
     "name": "stderr",
     "output_type": "stream",
     "text": [
      "t:  28%|██▊       | 336/1199 [07:23<17:31,  1.22s/it, now=None]"
     ]
    },
    {
     "name": "stdout",
     "output_type": "stream",
     "text": [
      "Fail sanity check - curvature left curvature: 34.0 right curvature: 437.0\n",
      "Fail sanity check - roughly parallel (maximum distance) 2633.608062359642\n",
      "Fail sanity check - roughly parallel (mean distance) 1316.8481113364533\n",
      "Fail sanity check - vehicle position from the lane center 0.62\n",
      "failed\n",
      "No x, y points to fit a line\n"
     ]
    },
    {
     "name": "stderr",
     "output_type": "stream",
     "text": [
      "t:  28%|██▊       | 337/1199 [07:24<17:27,  1.22s/it, now=None]"
     ]
    },
    {
     "name": "stdout",
     "output_type": "stream",
     "text": [
      "Fail sanity check - curvature left curvature: 33.0 right curvature: 437.0\n",
      "Fail sanity check - roughly parallel (maximum distance) 2641.6778393017557\n",
      "Fail sanity check - roughly parallel (mean distance) 1321.9150118463854\n",
      "Fail sanity check - vehicle position from the lane center 0.69\n",
      "failed\n",
      "No x, y points to fit a line\n"
     ]
    },
    {
     "name": "stderr",
     "output_type": "stream",
     "text": [
      "t:  28%|██▊       | 338/1199 [07:25<17:36,  1.23s/it, now=None]"
     ]
    },
    {
     "name": "stdout",
     "output_type": "stream",
     "text": [
      "Fail sanity check - curvature left curvature: 32.0 right curvature: 437.0\n",
      "Fail sanity check - roughly parallel (maximum distance) 2647.095648693861\n",
      "Fail sanity check - roughly parallel (mean distance) 1326.6890717675485\n",
      "Fail sanity check - vehicle position from the lane center 0.79\n",
      "failed\n",
      "No x, y points to fit a line\n",
      "test\n"
     ]
    },
    {
     "name": "stderr",
     "output_type": "stream",
     "text": [
      "t:  28%|██▊       | 339/1199 [07:26<17:26,  1.22s/it, now=None]"
     ]
    },
    {
     "name": "stdout",
     "output_type": "stream",
     "text": [
      "Fail sanity check - roughly parallel (maximum distance) 936.5682980155166\n",
      "Fail sanity check - roughly parallel (mean distance) 848.1712182405305\n",
      "test\n"
     ]
    },
    {
     "name": "stderr",
     "output_type": "stream",
     "text": [
      "t:  28%|██▊       | 340/1199 [07:28<17:32,  1.22s/it, now=None]"
     ]
    },
    {
     "name": "stdout",
     "output_type": "stream",
     "text": [
      "Fail sanity check - distance at the bottom 443.4128180178757 right x point: 988.7825219065537 left x point: 545.369703888678\n",
      "Fail sanity check - roughly parallel (minimum distance) 443.4128180178757\n",
      "Fail sanity check - roughly parallel (maximum distance) 890.6291899787059\n",
      "Fail sanity check - vehicle position from the lane center 0.78\n",
      "test\n"
     ]
    },
    {
     "name": "stderr",
     "output_type": "stream",
     "text": [
      "t:  28%|██▊       | 341/1199 [07:29<17:29,  1.22s/it, now=None]"
     ]
    },
    {
     "name": "stdout",
     "output_type": "stream",
     "text": [
      "Fail sanity check - distance at the bottom 368.0749768981483 right x point: 999.307684247951 left x point: 631.2327073498027\n",
      "Fail sanity check - roughly parallel (minimum distance) 368.0749768981483\n",
      "Fail sanity check - roughly parallel (maximum distance) 920.0627849797581\n",
      "Fail sanity check - roughly parallel (mean distance) 766.2353834806165\n",
      "Fail sanity check - vehicle position from the lane center 1.08\n",
      "test\n"
     ]
    },
    {
     "name": "stderr",
     "output_type": "stream",
     "text": [
      "t:  29%|██▊       | 342/1199 [07:30<17:31,  1.23s/it, now=None]"
     ]
    },
    {
     "name": "stdout",
     "output_type": "stream",
     "text": [
      "Fail sanity check - distance at the bottom 293.4995155454395 right x point: 1011.9649316355641 left x point: 718.4654160901246\n",
      "Fail sanity check - roughly parallel (minimum distance) 293.4995155454395\n",
      "Fail sanity check - roughly parallel (maximum distance) 916.8001683942132\n",
      "Fail sanity check - roughly parallel (mean distance) 754.2524650097885\n",
      "Fail sanity check - vehicle position from the lane center 1.39\n",
      "test\n"
     ]
    },
    {
     "name": "stderr",
     "output_type": "stream",
     "text": [
      "t:  29%|██▊       | 343/1199 [07:34<27:37,  1.94s/it, now=None]"
     ]
    },
    {
     "name": "stdout",
     "output_type": "stream",
     "text": [
      "Fail sanity check - distance at the bottom 241.2058086365795 right x point: 1020.497693443194 left x point: 779.2918848066145\n",
      "Fail sanity check - roughly parallel (minimum distance) 241.2058086365795\n",
      "Fail sanity check - roughly parallel (maximum distance) 891.68439918264\n",
      "Fail sanity check - vehicle position from the lane center 1.6\n",
      "failed\n",
      "No x, y points to fit a line\n",
      "test\n"
     ]
    },
    {
     "name": "stderr",
     "output_type": "stream",
     "text": [
      "t:  29%|██▊       | 344/1199 [07:35<24:22,  1.71s/it, now=None]"
     ]
    },
    {
     "name": "stdout",
     "output_type": "stream",
     "text": [
      "Fail sanity check - distance at the bottom 249.81802072689538 right x point: 1029.1099055335098 left x point: 779.2918848066145\n",
      "Fail sanity check - roughly parallel (minimum distance) 249.81802072689538\n",
      "Fail sanity check - roughly parallel (maximum distance) 893.0146448511314\n",
      "Fail sanity check - vehicle position from the lane center 1.63\n",
      "failed\n",
      "No x, y points to fit a line\n",
      "test\n"
     ]
    },
    {
     "name": "stderr",
     "output_type": "stream",
     "text": [
      "t:  29%|██▉       | 345/1199 [07:36<22:19,  1.57s/it, now=None]"
     ]
    },
    {
     "name": "stdout",
     "output_type": "stream",
     "text": [
      "Fail sanity check - distance at the bottom 261.2273571472217 right x point: 1040.5192419538362 left x point: 779.2918848066145\n",
      "Fail sanity check - roughly parallel (minimum distance) 261.2273571472217\n",
      "Fail sanity check - roughly parallel (maximum distance) 892.1022737289883\n",
      "Fail sanity check - vehicle position from the lane center 1.66\n",
      "failed\n",
      "No x, y points to fit a line\n",
      "failed\n",
      "No x, y points to fit a line\n"
     ]
    },
    {
     "name": "stderr",
     "output_type": "stream",
     "text": [
      "t:  29%|██▉       | 346/1199 [07:37<20:47,  1.46s/it, now=None]"
     ]
    },
    {
     "name": "stdout",
     "output_type": "stream",
     "text": [
      "Fail sanity check - distance at the bottom 261.2273571472217 right x point: 1040.5192419538362 left x point: 779.2918848066145\n",
      "Fail sanity check - roughly parallel (minimum distance) 261.2273571472217\n",
      "Fail sanity check - roughly parallel (maximum distance) 892.1022737289883\n",
      "Fail sanity check - vehicle position from the lane center 1.66\n",
      "failed\n",
      "No x, y points to fit a line\n",
      "failed\n",
      "No x, y points to fit a line\n"
     ]
    },
    {
     "name": "stderr",
     "output_type": "stream",
     "text": [
      "t:  29%|██▉       | 347/1199 [07:38<19:26,  1.37s/it, now=None]"
     ]
    },
    {
     "name": "stdout",
     "output_type": "stream",
     "text": [
      "Fail sanity check - distance at the bottom 261.2273571472217 right x point: 1040.5192419538362 left x point: 779.2918848066145\n",
      "Fail sanity check - roughly parallel (minimum distance) 261.2273571472217\n",
      "Fail sanity check - roughly parallel (maximum distance) 892.1022737289883\n",
      "Fail sanity check - vehicle position from the lane center 1.66\n",
      "failed\n",
      "No x, y points to fit a line\n"
     ]
    },
    {
     "name": "stderr",
     "output_type": "stream",
     "text": [
      "t:  29%|██▉       | 348/1199 [07:40<18:56,  1.34s/it, now=None]"
     ]
    },
    {
     "name": "stdout",
     "output_type": "stream",
     "text": [
      "Fail sanity check - distance at the bottom 230.92935220046058 right x point: 1040.5192419538362 left x point: 809.5898897533756\n",
      "Fail sanity check - roughly parallel (minimum distance) 230.92935220046058\n",
      "Fail sanity check - roughly parallel (maximum distance) 873.9651663375734\n",
      "Fail sanity check - vehicle position from the lane center 1.76\n",
      "test\n"
     ]
    },
    {
     "name": "stderr",
     "output_type": "stream",
     "text": [
      "t:  29%|██▉       | 349/1199 [07:41<18:25,  1.30s/it, now=None]"
     ]
    },
    {
     "name": "stdout",
     "output_type": "stream",
     "text": [
      "Fail sanity check - distance at the bottom 194.7326190727423 right x point: 1025.772577306495 left x point: 831.0399582337526\n",
      "Fail sanity check - roughly parallel (minimum distance) -1619.3931199074677\n",
      "Fail sanity check - roughly parallel (mean distance) 43.499305010947985\n",
      "Fail sanity check - vehicle position from the lane center 1.78\n",
      "failed\n",
      "No x, y points to fit a line\n",
      "failed\n",
      "No x, y points to fit a line\n"
     ]
    },
    {
     "name": "stderr",
     "output_type": "stream",
     "text": [
      "t:  29%|██▉       | 350/1199 [07:42<17:42,  1.25s/it, now=None]"
     ]
    },
    {
     "name": "stdout",
     "output_type": "stream",
     "text": [
      "Fail sanity check - distance at the bottom 194.7326190727423 right x point: 1025.772577306495 left x point: 831.0399582337526\n",
      "Fail sanity check - roughly parallel (minimum distance) -1619.3931199074677\n",
      "Fail sanity check - roughly parallel (mean distance) 43.499305010947985\n",
      "Fail sanity check - vehicle position from the lane center 1.78\n",
      "failed\n",
      "No x, y points to fit a line\n",
      "failed\n",
      "No x, y points to fit a line\n"
     ]
    },
    {
     "name": "stderr",
     "output_type": "stream",
     "text": [
      "t:  29%|██▉       | 351/1199 [07:43<17:20,  1.23s/it, now=None]"
     ]
    },
    {
     "name": "stdout",
     "output_type": "stream",
     "text": [
      "Fail sanity check - distance at the bottom 194.7326190727423 right x point: 1025.772577306495 left x point: 831.0399582337526\n",
      "Fail sanity check - roughly parallel (minimum distance) -1619.3931199074677\n",
      "Fail sanity check - roughly parallel (mean distance) 43.499305010947985\n",
      "Fail sanity check - vehicle position from the lane center 1.78\n",
      "failed\n",
      "No x, y points to fit a line\n"
     ]
    },
    {
     "name": "stderr",
     "output_type": "stream",
     "text": [
      "t:  29%|██▉       | 352/1199 [07:44<17:23,  1.23s/it, now=None]"
     ]
    },
    {
     "name": "stdout",
     "output_type": "stream",
     "text": [
      "Fail sanity check - distance at the bottom 174.83025679308616 right x point: 1025.772577306495 left x point: 850.9423205134087\n",
      "Fail sanity check - roughly parallel (minimum distance) -1578.635191121038\n",
      "Fail sanity check - roughly parallel (mean distance) 38.7848718305924\n",
      "Fail sanity check - vehicle position from the lane center 1.84\n",
      "failed\n",
      "No x, y points to fit a line\n",
      "test\n"
     ]
    },
    {
     "name": "stderr",
     "output_type": "stream",
     "text": [
      "t:  29%|██▉       | 353/1199 [07:46<17:25,  1.24s/it, now=None]"
     ]
    },
    {
     "name": "stdout",
     "output_type": "stream",
     "text": [
      "Fail sanity check - distance at the bottom 180.58211433667225 right x point: 1031.524434850081 left x point: 850.9423205134087\n",
      "Fail sanity check - roughly parallel (minimum distance) -1537.521834029011\n",
      "Fail sanity check - roughly parallel (mean distance) 57.42142464615718\n",
      "Fail sanity check - vehicle position from the lane center 1.86\n",
      "failed\n",
      "No x, y points to fit a line\n",
      "test\n"
     ]
    },
    {
     "name": "stderr",
     "output_type": "stream",
     "text": [
      "t:  30%|██▉       | 354/1199 [07:47<17:31,  1.24s/it, now=None]"
     ]
    },
    {
     "name": "stdout",
     "output_type": "stream",
     "text": [
      "Fail sanity check - distance at the bottom 188.4997719883895 right x point: 1039.4420925017982 left x point: 850.9423205134087\n",
      "Fail sanity check - roughly parallel (minimum distance) -1491.2010846872606\n",
      "Fail sanity check - roughly parallel (mean distance) 78.20950497462647\n",
      "Fail sanity check - vehicle position from the lane center 1.88\n",
      "failed\n",
      "No x, y points to fit a line\n"
     ]
    },
    {
     "name": "stderr",
     "output_type": "stream",
     "text": [
      "t:  30%|██▉       | 355/1199 [07:48<17:32,  1.25s/it, now=None]"
     ]
    },
    {
     "name": "stdout",
     "output_type": "stream",
     "text": [
      "Fail sanity check - distance at the bottom 310.61318785137905 right x point: 1161.5555083647878 left x point: 850.9423205134087\n",
      "Fail sanity check - roughly parallel (minimum distance) 310.61318785137905\n",
      "Fail sanity check - vehicle position from the lane center 2.26\n",
      "failed\n",
      "No x, y points to fit a line\n"
     ]
    },
    {
     "name": "stderr",
     "output_type": "stream",
     "text": [
      "t:  30%|██▉       | 356/1199 [07:49<17:36,  1.25s/it, now=None]"
     ]
    },
    {
     "name": "stdout",
     "output_type": "stream",
     "text": [
      "Fail sanity check - curvature left curvature: 726.0 right curvature: 68.0\n",
      "Fail sanity check - distance at the bottom 322.9157478967172 right x point: 1173.858068410126 left x point: 850.9423205134087\n",
      "Fail sanity check - roughly parallel (minimum distance) 322.9157478967172\n",
      "Fail sanity check - vehicle position from the lane center 2.3\n",
      "failed\n",
      "No x, y points to fit a line\n"
     ]
    },
    {
     "name": "stderr",
     "output_type": "stream",
     "text": [
      "t:  30%|██▉       | 357/1199 [07:51<17:39,  1.26s/it, now=None]"
     ]
    },
    {
     "name": "stdout",
     "output_type": "stream",
     "text": [
      "Fail sanity check - curvature left curvature: 875.0 right curvature: 68.0\n",
      "Fail sanity check - distance at the bottom 313.1055107267657 right x point: 1164.0478312401744 left x point: 850.9423205134087\n",
      "Fail sanity check - roughly parallel (minimum distance) 313.1055107267657\n",
      "Fail sanity check - vehicle position from the lane center 2.27\n"
     ]
    },
    {
     "name": "stderr",
     "output_type": "stream",
     "text": [
      "t:  30%|██▉       | 358/1199 [07:52<17:53,  1.28s/it, now=None]"
     ]
    },
    {
     "name": "stdout",
     "output_type": "stream",
     "text": [
      "Fail sanity check - distance at the bottom 281.8659439029211 right x point: 1150.6696248206838 left x point: 868.8036809177627\n",
      "Fail sanity check - roughly parallel (minimum distance) 112.55859131959585\n",
      "Fail sanity check - roughly parallel (mean distance) 464.06186767650684\n",
      "Fail sanity check - vehicle position from the lane center 2.28\n"
     ]
    },
    {
     "name": "stderr",
     "output_type": "stream",
     "text": [
      "t:  30%|██▉       | 359/1199 [07:53<18:07,  1.29s/it, now=None]"
     ]
    },
    {
     "name": "stdout",
     "output_type": "stream",
     "text": [
      "Fail sanity check - curvature left curvature: 334.0 right curvature: 65.0\n",
      "Fail sanity check - distance at the bottom 271.96344347967033 right x point: 1149.7308959088616 left x point: 877.7674524291913\n",
      "Fail sanity check - roughly parallel (minimum distance) 205.50223305363158\n",
      "Fail sanity check - roughly parallel (mean distance) 479.30279540460225\n",
      "Fail sanity check - vehicle position from the lane center 2.31\n"
     ]
    },
    {
     "name": "stderr",
     "output_type": "stream",
     "text": [
      "t:  30%|███       | 360/1199 [07:55<18:11,  1.30s/it, now=None]"
     ]
    },
    {
     "name": "stdout",
     "output_type": "stream",
     "text": [
      "Fail sanity check - curvature left curvature: 1066.0 right curvature: 61.0\n",
      "Fail sanity check - distance at the bottom 254.74402777885746 right x point: 1154.22225114394 left x point: 899.4782233650825\n",
      "Fail sanity check - roughly parallel (minimum distance) 225.0110433063062\n",
      "Fail sanity check - roughly parallel (mean distance) 467.81729082324586\n",
      "Fail sanity check - vehicle position from the lane center 2.39\n"
     ]
    },
    {
     "name": "stderr",
     "output_type": "stream",
     "text": [
      "t:  30%|███       | 361/1199 [07:56<18:37,  1.33s/it, now=None]"
     ]
    },
    {
     "name": "stdout",
     "output_type": "stream",
     "text": [
      "Fail sanity check - curvature left curvature: 1629.0 right curvature: 84.0\n",
      "Fail sanity check - distance at the bottom 361.70720498821595 right x point: 1152.486406596377 left x point: 790.7792016081611\n",
      "Fail sanity check - roughly parallel (minimum distance) 361.70720498821595\n",
      "Fail sanity check - vehicle position from the lane center 2.05\n",
      "failed\n",
      "No x, y points to fit a line\n"
     ]
    },
    {
     "name": "stderr",
     "output_type": "stream",
     "text": [
      "t:  30%|███       | 362/1199 [07:57<18:32,  1.33s/it, now=None]"
     ]
    },
    {
     "name": "stdout",
     "output_type": "stream",
     "text": [
      "Fail sanity check - curvature left curvature: 1996.0 right curvature: 84.0\n",
      "Fail sanity check - distance at the bottom 350.16236222847795 right x point: 1140.941563836639 left x point: 790.7792016081611\n",
      "Fail sanity check - roughly parallel (minimum distance) 350.16236222847795\n",
      "Fail sanity check - vehicle position from the lane center 2.01\n",
      "failed\n",
      "No x, y points to fit a line\n"
     ]
    },
    {
     "name": "stderr",
     "output_type": "stream",
     "text": [
      "t:  30%|███       | 363/1199 [07:59<18:29,  1.33s/it, now=None]"
     ]
    },
    {
     "name": "stdout",
     "output_type": "stream",
     "text": [
      "Fail sanity check - distance at the bottom 337.6556583134537 right x point: 1128.4348599216148 left x point: 790.7792016081611\n",
      "Fail sanity check - roughly parallel (minimum distance) 310.581216704314\n",
      "Fail sanity check - roughly parallel (mean distance) 474.750577028957\n",
      "Fail sanity check - vehicle position from the lane center 1.97\n"
     ]
    },
    {
     "name": "stderr",
     "output_type": "stream",
     "text": [
      "t:  30%|███       | 364/1199 [08:00<18:52,  1.36s/it, now=None]"
     ]
    },
    {
     "name": "stdout",
     "output_type": "stream",
     "text": [
      "Fail sanity check - curvature left curvature: 1628.0 right curvature: 105.0\n",
      "Fail sanity check - distance at the bottom 399.6717560985928 right x point: 1121.0164255301643 left x point: 721.3446694315714\n",
      "Fail sanity check - roughly parallel (minimum distance) 297.5649011536299\n",
      "Fail sanity check - roughly parallel (mean distance) 474.51517486388144\n",
      "Fail sanity check - vehicle position from the lane center 1.74\n",
      "failed\n",
      "No x, y points to fit a line\n"
     ]
    },
    {
     "name": "stderr",
     "output_type": "stream",
     "text": [
      "t:  30%|███       | 365/1199 [08:01<18:35,  1.34s/it, now=None]"
     ]
    },
    {
     "name": "stdout",
     "output_type": "stream",
     "text": [
      "Fail sanity check - curvature left curvature: 1932.0 right curvature: 105.0\n",
      "Fail sanity check - distance at the bottom 399.4068072018795 right x point: 1120.751476633451 left x point: 721.3446694315714\n",
      "Fail sanity check - roughly parallel (minimum distance) 286.9366532481255\n",
      "Fail sanity check - roughly parallel (mean distance) 467.89580397923265\n",
      "Fail sanity check - vehicle position from the lane center 1.74\n",
      "failed\n",
      "No x, y points to fit a line\n"
     ]
    },
    {
     "name": "stderr",
     "output_type": "stream",
     "text": [
      "t:  31%|███       | 366/1199 [08:03<18:22,  1.32s/it, now=None]"
     ]
    },
    {
     "name": "stdout",
     "output_type": "stream",
     "text": [
      "Fail sanity check - curvature left curvature: 2538.0 right curvature: 105.0\n",
      "Fail sanity check - distance at the bottom 388.2479741999148 right x point: 1109.5926436314862 left x point: 721.3446694315714\n",
      "Fail sanity check - roughly parallel (minimum distance) 267.0891093254885\n",
      "Fail sanity check - roughly parallel (mean distance) 450.89743421484206\n",
      "Fail sanity check - vehicle position from the lane center 1.7\n"
     ]
    },
    {
     "name": "stderr",
     "output_type": "stream",
     "text": [
      "t:  31%|███       | 367/1199 [08:04<18:23,  1.33s/it, now=None]"
     ]
    },
    {
     "name": "stdout",
     "output_type": "stream",
     "text": [
      "Fail sanity check - distance at the bottom 448.49956277692286 right x point: 1099.3567265855588 left x point: 650.857163808636\n",
      "Fail sanity check - roughly parallel (minimum distance) 326.61070428559185\n",
      "Fail sanity check - roughly parallel (mean distance) 460.2748969581106\n",
      "Fail sanity check - vehicle position from the lane center 1.45\n"
     ]
    },
    {
     "name": "stderr",
     "output_type": "stream",
     "text": [
      "t:  31%|███       | 368/1199 [08:05<17:46,  1.28s/it, now=None]"
     ]
    },
    {
     "name": "stdout",
     "output_type": "stream",
     "text": [
      "test\n",
      "Fail sanity check - curvature left curvature: 16.0 right curvature: 314.0\n",
      "Fail sanity check - distance at the bottom 39.981039007606114 right x point: 650.1312706430078 left x point: 610.1502316354017\n",
      "Fail sanity check - roughly parallel (minimum distance) -30699.145439667183\n",
      "Fail sanity check - roughly parallel (mean distance) -8779.13990567666\n"
     ]
    },
    {
     "name": "stderr",
     "output_type": "stream",
     "text": [
      "t:  31%|███       | 369/1199 [08:07<17:50,  1.29s/it, now=None]"
     ]
    },
    {
     "name": "stdout",
     "output_type": "stream",
     "text": [
      "Fail sanity check - curvature left curvature: 16.0 right curvature: 404.0\n",
      "Fail sanity check - distance at the bottom 63.195790763180185 right x point: 661.3193269980566 left x point: 598.1235362348764\n",
      "Fail sanity check - roughly parallel (minimum distance) -30673.921126265537\n",
      "Fail sanity check - roughly parallel (mean distance) -8764.461408907904\n"
     ]
    },
    {
     "name": "stderr",
     "output_type": "stream",
     "text": [
      "t:  31%|███       | 370/1199 [08:08<17:35,  1.27s/it, now=None]"
     ]
    },
    {
     "name": "stdout",
     "output_type": "stream",
     "text": [
      "Fail sanity check - curvature left curvature: 16.0 right curvature: 354.0\n",
      "Fail sanity check - distance at the bottom 77.58102041765449 right x point: 662.7320497697547 left x point: 585.1510293521002\n",
      "Fail sanity check - roughly parallel (minimum distance) -30682.92685419512\n",
      "Fail sanity check - roughly parallel (mean distance) -8757.847036703864\n"
     ]
    },
    {
     "name": "stderr",
     "output_type": "stream",
     "text": [
      "t:  31%|███       | 371/1199 [08:09<17:26,  1.26s/it, now=None]"
     ]
    },
    {
     "name": "stdout",
     "output_type": "stream",
     "text": [
      "Fail sanity check - curvature left curvature: 16.0 right curvature: 319.0\n",
      "Fail sanity check - distance at the bottom 46.946276892150195 right x point: 634.6468320080428 left x point: 587.7005551158926\n",
      "Fail sanity check - roughly parallel (minimum distance) -30725.04040204852\n",
      "Fail sanity check - roughly parallel (mean distance) -8791.146640220804\n"
     ]
    },
    {
     "name": "stderr",
     "output_type": "stream",
     "text": [
      "t:  31%|███       | 372/1199 [08:10<17:34,  1.28s/it, now=None]"
     ]
    },
    {
     "name": "stdout",
     "output_type": "stream",
     "text": [
      "Fail sanity check - curvature left curvature: 16.0 right curvature: 366.0\n",
      "Fail sanity check - distance at the bottom 18.772106379678576 right x point: 610.0399851679655 left x point: 591.2678787882869\n",
      "Fail sanity check - roughly parallel (minimum distance) -30738.111242710547\n",
      "Fail sanity check - roughly parallel (mean distance) -8816.827812382382\n"
     ]
    },
    {
     "name": "stderr",
     "output_type": "stream",
     "text": [
      "t:  31%|███       | 373/1199 [08:12<17:24,  1.26s/it, now=None]"
     ]
    },
    {
     "name": "stdout",
     "output_type": "stream",
     "text": [
      "Fail sanity check - curvature left curvature: 16.0 right curvature: 358.0\n",
      "Fail sanity check - distance at the bottom -27.190891491980892 right x point: 577.7810096077294 left x point: 604.9719010997103\n",
      "Fail sanity check - roughly parallel (minimum distance) -30795.485262029382\n",
      "Fail sanity check - roughly parallel (mean distance) -8868.24869548306\n"
     ]
    },
    {
     "name": "stderr",
     "output_type": "stream",
     "text": [
      "t:  31%|███       | 374/1199 [08:13<17:14,  1.25s/it, now=None]"
     ]
    },
    {
     "name": "stdout",
     "output_type": "stream",
     "text": [
      "Fail sanity check - curvature left curvature: 16.0 right curvature: 459.0\n",
      "Fail sanity check - distance at the bottom -65.69944225152699 right x point: 539.7011050872609 left x point: 605.4005473387879\n",
      "Fail sanity check - roughly parallel (minimum distance) -30812.827641668646\n",
      "Fail sanity check - roughly parallel (mean distance) -8903.581660378422\n"
     ]
    },
    {
     "name": "stderr",
     "output_type": "stream",
     "text": [
      "t:  31%|███▏      | 375/1199 [08:14<17:01,  1.24s/it, now=None]"
     ]
    },
    {
     "name": "stdout",
     "output_type": "stream",
     "text": [
      "test\n",
      "Fail sanity check - curvature left curvature: 17.0 right curvature: 787.0\n",
      "Fail sanity check - distance at the bottom -73.49015327559289 right x point: 532.4478091772695 left x point: 605.9379624528624\n",
      "Fail sanity check - roughly parallel (minimum distance) -32382.594164693943\n",
      "Fail sanity check - roughly parallel (mean distance) -9367.88081824731\n"
     ]
    },
    {
     "name": "stderr",
     "output_type": "stream",
     "text": [
      "t:  31%|███▏      | 376/1199 [08:15<16:56,  1.23s/it, now=None]"
     ]
    },
    {
     "name": "stdout",
     "output_type": "stream",
     "text": [
      "test\n",
      "Fail sanity check - distance at the bottom -66.57889381994983 right x point: 541.7581234620477 left x point: 608.3370172819975\n",
      "Fail sanity check - roughly parallel (minimum distance) -32227.812217445608\n",
      "Fail sanity check - roughly parallel (mean distance) -9299.476943046851\n",
      "test\n",
      "Fail sanity check - curvature left curvature: 17.0 right curvature: 2358.0\n",
      "Fail sanity check - distance at the bottom -50.91768197682666 right x point: 560.0472223099212 left x point: 610.9649042867478\n",
      "Fail sanity check - roughly parallel (minimum distance) -32227.244196686093\n",
      "Fail sanity check - roughly parallel (mean distance) -9285.995554675968\n"
     ]
    },
    {
     "name": "stderr",
     "output_type": "stream",
     "text": [
      "t:  32%|███▏      | 378/1199 [08:18<17:21,  1.27s/it, now=None]"
     ]
    },
    {
     "name": "stdout",
     "output_type": "stream",
     "text": [
      "Fail sanity check - curvature left curvature: 35.0 right curvature: 2039.0\n",
      "Fail sanity check - distance at the bottom 405.05960760094183 right x point: 1014.9790234843797 left x point: 609.9194158834379\n",
      "Fail sanity check - roughly parallel (minimum distance) -1147.2288637009856\n",
      "Fail sanity check - roughly parallel (mean distance) -28.51184731487075\n",
      "Fail sanity check - vehicle position from the lane center 1.06\n"
     ]
    },
    {
     "name": "stderr",
     "output_type": "stream",
     "text": [
      "t:  32%|███▏      | 379/1199 [08:19<17:30,  1.28s/it, now=None]"
     ]
    },
    {
     "name": "stdout",
     "output_type": "stream",
     "text": [
      "Fail sanity check - curvature left curvature: 35.0 right curvature: 1867.0\n",
      "Fail sanity check - distance at the bottom 404.89953264244514 right x point: 1013.7633557673014 left x point: 608.8638231248563\n",
      "Fail sanity check - roughly parallel (minimum distance) -1139.8666799245257\n",
      "Fail sanity check - roughly parallel (mean distance) -25.60221194052596\n",
      "Fail sanity check - vehicle position from the lane center 1.05\n"
     ]
    },
    {
     "name": "stderr",
     "output_type": "stream",
     "text": [
      "t:  32%|███▏      | 380/1199 [08:20<17:36,  1.29s/it, now=None]"
     ]
    },
    {
     "name": "stdout",
     "output_type": "stream",
     "text": [
      "Fail sanity check - curvature left curvature: 35.0 right curvature: 1912.0\n",
      "Fail sanity check - distance at the bottom 398.16118895897876 right x point: 1017.1632776183797 left x point: 619.0020886594009\n",
      "Fail sanity check - roughly parallel (minimum distance) -1133.4127798188147\n",
      "Fail sanity check - roughly parallel (mean distance) -25.45709832093457\n",
      "Fail sanity check - vehicle position from the lane center 1.1\n"
     ]
    },
    {
     "name": "stderr",
     "output_type": "stream",
     "text": [
      "t:  32%|███▏      | 381/1199 [08:22<17:44,  1.30s/it, now=None]"
     ]
    },
    {
     "name": "stdout",
     "output_type": "stream",
     "text": [
      "Fail sanity check - curvature left curvature: 35.0 right curvature: 1989.0\n",
      "Fail sanity check - distance at the bottom 436.8905544480965 right x point: 1050.4889316633084 left x point: 613.5983772152119\n",
      "Fail sanity check - roughly parallel (minimum distance) -1091.9398566289997\n",
      "Fail sanity check - roughly parallel (mean distance) 15.471934274895748\n",
      "Fail sanity check - vehicle position from the lane center 1.18\n"
     ]
    },
    {
     "name": "stderr",
     "output_type": "stream",
     "text": [
      "t:  32%|███▏      | 382/1199 [08:23<17:45,  1.30s/it, now=None]"
     ]
    },
    {
     "name": "stdout",
     "output_type": "stream",
     "text": [
      "Fail sanity check - curvature left curvature: 35.0 right curvature: 2504.0\n",
      "Fail sanity check - distance at the bottom 475.6060370889611 right x point: 1083.9745571190329 left x point: 608.3685200300717\n",
      "Fail sanity check - roughly parallel (minimum distance) -1053.1410315992614\n",
      "Fail sanity check - roughly parallel (mean distance) 56.157296730973556\n",
      "Fail sanity check - vehicle position from the lane center 1.27\n"
     ]
    },
    {
     "name": "stderr",
     "output_type": "stream",
     "text": [
      "t:  32%|███▏      | 383/1199 [08:24<17:43,  1.30s/it, now=None]"
     ]
    },
    {
     "name": "stdout",
     "output_type": "stream",
     "text": [
      "Fail sanity check - curvature left curvature: 35.0 right curvature: 3118.0\n",
      "Fail sanity check - roughly parallel (minimum distance) -1004.1141859177739\n",
      "Fail sanity check - roughly parallel (mean distance) 106.82610620748427\n",
      "Fail sanity check - vehicle position from the lane center 1.37\n"
     ]
    },
    {
     "name": "stderr",
     "output_type": "stream",
     "text": [
      "t:  32%|███▏      | 384/1199 [08:26<17:44,  1.31s/it, now=None]"
     ]
    },
    {
     "name": "stdout",
     "output_type": "stream",
     "text": [
      "Fail sanity check - curvature left curvature: 35.0 right curvature: 3544.0\n",
      "Fail sanity check - roughly parallel (minimum distance) -950.6595789933712\n",
      "Fail sanity check - roughly parallel (mean distance) 161.30141247525884\n",
      "Fail sanity check - vehicle position from the lane center 1.48\n"
     ]
    },
    {
     "name": "stderr",
     "output_type": "stream",
     "text": [
      "t:  32%|███▏      | 385/1199 [08:27<17:54,  1.32s/it, now=None]"
     ]
    },
    {
     "name": "stdout",
     "output_type": "stream",
     "text": [
      "Fail sanity check - vehicle position from the lane center 1.51\n"
     ]
    },
    {
     "name": "stderr",
     "output_type": "stream",
     "text": [
      "t:  32%|███▏      | 386/1199 [08:28<17:57,  1.32s/it, now=None]"
     ]
    },
    {
     "name": "stdout",
     "output_type": "stream",
     "text": [
      "Fail sanity check - vehicle position from the lane center 1.52\n"
     ]
    },
    {
     "name": "stderr",
     "output_type": "stream",
     "text": [
      "t:  32%|███▏      | 387/1199 [08:30<18:07,  1.34s/it, now=None]"
     ]
    },
    {
     "name": "stdout",
     "output_type": "stream",
     "text": [
      "Fail sanity check - vehicle position from the lane center 1.5\n"
     ]
    },
    {
     "name": "stderr",
     "output_type": "stream",
     "text": [
      "t:  32%|███▏      | 388/1199 [08:31<18:21,  1.36s/it, now=None]"
     ]
    },
    {
     "name": "stdout",
     "output_type": "stream",
     "text": [
      "Fail sanity check - vehicle position from the lane center 1.49\n"
     ]
    },
    {
     "name": "stderr",
     "output_type": "stream",
     "text": [
      "t:  32%|███▏      | 389/1199 [08:33<18:19,  1.36s/it, now=None]"
     ]
    },
    {
     "name": "stdout",
     "output_type": "stream",
     "text": [
      "Fail sanity check - vehicle position from the lane center 1.46\n"
     ]
    },
    {
     "name": "stderr",
     "output_type": "stream",
     "text": [
      "t:  33%|███▎      | 390/1199 [08:34<18:18,  1.36s/it, now=None]"
     ]
    },
    {
     "name": "stdout",
     "output_type": "stream",
     "text": [
      "Fail sanity check - vehicle position from the lane center 1.43\n"
     ]
    },
    {
     "name": "stderr",
     "output_type": "stream",
     "text": [
      "t:  33%|███▎      | 391/1199 [08:35<18:12,  1.35s/it, now=None]"
     ]
    },
    {
     "name": "stdout",
     "output_type": "stream",
     "text": [
      "Fail sanity check - vehicle position from the lane center 1.4\n"
     ]
    },
    {
     "name": "stderr",
     "output_type": "stream",
     "text": [
      "t:  33%|███▎      | 392/1199 [08:37<18:07,  1.35s/it, now=None]"
     ]
    },
    {
     "name": "stdout",
     "output_type": "stream",
     "text": [
      "Fail sanity check - vehicle position from the lane center 1.39\n"
     ]
    },
    {
     "name": "stderr",
     "output_type": "stream",
     "text": [
      "t:  33%|███▎      | 393/1199 [08:38<18:15,  1.36s/it, now=None]"
     ]
    },
    {
     "name": "stdout",
     "output_type": "stream",
     "text": [
      "Fail sanity check - vehicle position from the lane center 1.38\n"
     ]
    },
    {
     "name": "stderr",
     "output_type": "stream",
     "text": [
      "t:  33%|███▎      | 394/1199 [08:39<18:11,  1.36s/it, now=None]"
     ]
    },
    {
     "name": "stdout",
     "output_type": "stream",
     "text": [
      "Fail sanity check - vehicle position from the lane center 1.32\n"
     ]
    },
    {
     "name": "stderr",
     "output_type": "stream",
     "text": [
      "t:  33%|███▎      | 395/1199 [08:41<18:02,  1.35s/it, now=None]"
     ]
    },
    {
     "name": "stdout",
     "output_type": "stream",
     "text": [
      "Fail sanity check - vehicle position from the lane center 1.25\n"
     ]
    },
    {
     "name": "stderr",
     "output_type": "stream",
     "text": [
      "t:  33%|███▎      | 396/1199 [08:42<17:58,  1.34s/it, now=None]"
     ]
    },
    {
     "name": "stdout",
     "output_type": "stream",
     "text": [
      "Fail sanity check - roughly parallel (minimum distance) 475.8465263147091\n",
      "Fail sanity check - vehicle position from the lane center 1.19\n"
     ]
    },
    {
     "name": "stderr",
     "output_type": "stream",
     "text": [
      "t:  33%|███▎      | 397/1199 [08:43<17:57,  1.34s/it, now=None]"
     ]
    },
    {
     "name": "stdout",
     "output_type": "stream",
     "text": [
      "Fail sanity check - distance at the bottom 466.5456949615624 right x point: 1055.1374588361828 left x point: 588.5917638746204\n",
      "Fail sanity check - roughly parallel (minimum distance) 445.26817109553986\n",
      "Fail sanity check - roughly parallel (mean distance) 454.6096551366902\n",
      "Fail sanity check - vehicle position from the lane center 1.12\n"
     ]
    },
    {
     "name": "stderr",
     "output_type": "stream",
     "text": [
      "t:  33%|███▎      | 398/1199 [08:45<19:49,  1.48s/it, now=None]"
     ]
    },
    {
     "name": "stdout",
     "output_type": "stream",
     "text": [
      "Fail sanity check - distance at the bottom 433.62549365209713 right x point: 1028.9819443747924 left x point: 595.3564507226953\n",
      "Fail sanity check - roughly parallel (minimum distance) 414.9483007062679\n",
      "Fail sanity check - roughly parallel (mean distance) 421.86677507799646\n",
      "Fail sanity check - vehicle position from the lane center 1.06\n"
     ]
    },
    {
     "name": "stderr",
     "output_type": "stream",
     "text": [
      "t:  33%|███▎      | 399/1199 [08:47<20:04,  1.51s/it, now=None]"
     ]
    },
    {
     "name": "stdout",
     "output_type": "stream",
     "text": [
      "Fail sanity check - distance at the bottom 401.15131068462244 right x point: 1004.4798661658955 left x point: 603.328555481273\n",
      "Fail sanity check - roughly parallel (minimum distance) 384.8000333959269\n",
      "Fail sanity check - roughly parallel (mean distance) 389.66993642899484\n",
      "Fail sanity check - vehicle position from the lane center 1.01\n"
     ]
    },
    {
     "name": "stderr",
     "output_type": "stream",
     "text": [
      "t:  33%|███▎      | 400/1199 [08:48<20:20,  1.53s/it, now=None]"
     ]
    },
    {
     "name": "stdout",
     "output_type": "stream",
     "text": [
      "Fail sanity check - distance at the bottom 377.5022603805644 right x point: 990.2741258085947 left x point: 612.7718654280303\n",
      "Fail sanity check - roughly parallel (minimum distance) 361.2394954792643\n",
      "Fail sanity check - roughly parallel (mean distance) 365.58280736264885\n",
      "Fail sanity check - vehicle position from the lane center 1.0\n"
     ]
    },
    {
     "name": "stderr",
     "output_type": "stream",
     "text": [
      "t:  33%|███▎      | 401/1199 [08:50<22:04,  1.66s/it, now=None]"
     ]
    },
    {
     "name": "stdout",
     "output_type": "stream",
     "text": [
      "Fail sanity check - distance at the bottom 350.4982251260118 right x point: 966.787164679064 left x point: 616.2889395530522\n",
      "Fail sanity check - roughly parallel (minimum distance) 333.2694907822706\n",
      "Fail sanity check - roughly parallel (mean distance) 337.7964795734595\n",
      "Fail sanity check - vehicle position from the lane center 0.93\n"
     ]
    },
    {
     "name": "stderr",
     "output_type": "stream",
     "text": [
      "t:  34%|███▎      | 402/1199 [08:52<22:07,  1.67s/it, now=None]"
     ]
    },
    {
     "name": "stdout",
     "output_type": "stream",
     "text": [
      "Fail sanity check - distance at the bottom 324.3308397741457 right x point: 945.7411734707987 left x point: 621.410333696653\n",
      "Fail sanity check - roughly parallel (minimum distance) 307.0808395470035\n",
      "Fail sanity check - roughly parallel (mean distance) 311.4087970134386\n",
      "Fail sanity check - vehicle position from the lane center 0.89\n"
     ]
    },
    {
     "name": "stderr",
     "output_type": "stream",
     "text": [
      "t:  34%|███▎      | 403/1199 [08:53<20:57,  1.58s/it, now=None]"
     ]
    },
    {
     "name": "stdout",
     "output_type": "stream",
     "text": [
      "Fail sanity check - distance at the bottom 298.4219832672045 right x point: 925.0214795254344 left x point: 626.5994962582299\n",
      "Fail sanity check - roughly parallel (minimum distance) 280.7578517542461\n",
      "Fail sanity check - roughly parallel (mean distance) 285.3549299098047\n",
      "Fail sanity check - vehicle position from the lane center 0.84\n"
     ]
    },
    {
     "name": "stderr",
     "output_type": "stream",
     "text": [
      "t:  34%|███▎      | 404/1199 [08:55<19:58,  1.51s/it, now=None]"
     ]
    },
    {
     "name": "stdout",
     "output_type": "stream",
     "text": [
      "Fail sanity check - distance at the bottom 328.68013983699393 right x point: 944.3610217330672 left x point: 615.6808818960733\n",
      "Fail sanity check - roughly parallel (minimum distance) 306.23766599719545\n",
      "Fail sanity check - roughly parallel (mean distance) 311.9149191187195\n",
      "Fail sanity check - vehicle position from the lane center 0.86\n"
     ]
    },
    {
     "name": "stderr",
     "output_type": "stream",
     "text": [
      "t:  34%|███▍      | 405/1199 [08:56<19:26,  1.47s/it, now=None]"
     ]
    },
    {
     "name": "stdout",
     "output_type": "stream",
     "text": [
      "Fail sanity check - distance at the bottom 357.7827367846987 right x point: 963.413972414678 left x point: 605.6312356299793\n",
      "Fail sanity check - roughly parallel (minimum distance) 331.30014363323346\n",
      "Fail sanity check - roughly parallel (mean distance) 337.9467763467515\n",
      "Fail sanity check - vehicle position from the lane center 0.89\n"
     ]
    },
    {
     "name": "stderr",
     "output_type": "stream",
     "text": [
      "t:  34%|███▍      | 406/1199 [08:57<18:57,  1.43s/it, now=None]"
     ]
    },
    {
     "name": "stdout",
     "output_type": "stream",
     "text": [
      "Fail sanity check - distance at the bottom 360.6688934404241 right x point: 964.3342807495267 left x point: 603.6653873091026\n",
      "Fail sanity check - roughly parallel (minimum distance) 332.57097009802567\n",
      "Fail sanity check - roughly parallel (mean distance) 339.63836728349764\n",
      "Fail sanity check - vehicle position from the lane center 0.89\n"
     ]
    },
    {
     "name": "stderr",
     "output_type": "stream",
     "text": [
      "t:  34%|███▍      | 407/1199 [08:59<18:33,  1.41s/it, now=None]"
     ]
    },
    {
     "name": "stdout",
     "output_type": "stream",
     "text": [
      "Fail sanity check - distance at the bottom 389.2283020891009 right x point: 983.9692333983451 left x point: 594.7409313092442\n",
      "Fail sanity check - roughly parallel (minimum distance) 355.3881374929131\n",
      "Fail sanity check - roughly parallel (mean distance) 363.90784428933085\n",
      "Fail sanity check - vehicle position from the lane center 0.92\n"
     ]
    },
    {
     "name": "stderr",
     "output_type": "stream",
     "text": [
      "t:  34%|███▍      | 408/1199 [09:00<18:22,  1.39s/it, now=None]"
     ]
    },
    {
     "name": "stdout",
     "output_type": "stream",
     "text": [
      "Fail sanity check - distance at the bottom 391.4070189515554 right x point: 984.363698976631 left x point: 592.9566800250756\n",
      "Fail sanity check - roughly parallel (minimum distance) 357.1874606051341\n",
      "Fail sanity check - roughly parallel (mean distance) 365.9299119799224\n",
      "Fail sanity check - vehicle position from the lane center 0.92\n"
     ]
    },
    {
     "name": "stderr",
     "output_type": "stream",
     "text": [
      "t:  34%|███▍      | 409/1199 [09:01<18:20,  1.39s/it, now=None]"
     ]
    },
    {
     "name": "stdout",
     "output_type": "stream",
     "text": [
      "Fail sanity check - distance at the bottom 393.49755263642635 right x point: 984.4915729160255 left x point: 590.9940202795991\n",
      "Fail sanity check - roughly parallel (minimum distance) 358.6256331014141\n",
      "Fail sanity check - roughly parallel (mean distance) 367.76873106569315\n",
      "Fail sanity check - vehicle position from the lane center 0.91\n"
     ]
    },
    {
     "name": "stderr",
     "output_type": "stream",
     "text": [
      "t:  34%|███▍      | 410/1199 [09:03<18:12,  1.38s/it, now=None]"
     ]
    },
    {
     "name": "stdout",
     "output_type": "stream",
     "text": [
      "Fail sanity check - distance at the bottom 385.312569627406 right x point: 975.6253982331094 left x point: 590.3128286057034\n",
      "Fail sanity check - roughly parallel (minimum distance) 353.6212983734546\n",
      "Fail sanity check - roughly parallel (mean distance) 361.97649193622107\n",
      "Fail sanity check - vehicle position from the lane center 0.88\n"
     ]
    },
    {
     "name": "stderr",
     "output_type": "stream",
     "text": [
      "t:  34%|███▍      | 411/1199 [09:04<18:01,  1.37s/it, now=None]"
     ]
    },
    {
     "name": "stdout",
     "output_type": "stream",
     "text": [
      "Fail sanity check - distance at the bottom 412.19063157659684 right x point: 976.4943320480736 left x point: 564.3037004714768\n",
      "Fail sanity check - roughly parallel (minimum distance) 387.09705379763614\n",
      "Fail sanity check - roughly parallel (mean distance) 393.6936384208989\n",
      "Fail sanity check - vehicle position from the lane center 0.8\n"
     ]
    },
    {
     "name": "stderr",
     "output_type": "stream",
     "text": [
      "t:  34%|███▍      | 412/1199 [09:06<17:58,  1.37s/it, now=None]"
     ]
    },
    {
     "name": "stdout",
     "output_type": "stream",
     "text": [
      "Fail sanity check - distance at the bottom 455.52157727527026 right x point: 989.5756118635578 left x point: 534.0540345882875\n",
      "Fail sanity check - roughly parallel (minimum distance) 436.53419039247683\n",
      "Fail sanity check - roughly parallel (mean distance) 441.55279648647297\n",
      "Fail sanity check - vehicle position from the lane center 0.75\n"
     ]
    },
    {
     "name": "stderr",
     "output_type": "stream",
     "text": [
      "t:  34%|███▍      | 413/1199 [09:07<18:02,  1.38s/it, now=None]"
     ]
    },
    {
     "name": "stdout",
     "output_type": "stream",
     "text": [
      "Fail sanity check - vehicle position from the lane center 0.69\n"
     ]
    },
    {
     "name": "stderr",
     "output_type": "stream",
     "text": [
      "t:  35%|███▍      | 414/1199 [09:08<17:57,  1.37s/it, now=None]"
     ]
    },
    {
     "name": "stdout",
     "output_type": "stream",
     "text": [
      "Fail sanity check - vehicle position from the lane center 0.62\n"
     ]
    },
    {
     "name": "stderr",
     "output_type": "stream",
     "text": [
      "t:  35%|███▍      | 415/1199 [09:10<17:43,  1.36s/it, now=None]"
     ]
    },
    {
     "name": "stdout",
     "output_type": "stream",
     "text": [
      "Fail sanity check - vehicle position from the lane center 0.54\n"
     ]
    },
    {
     "name": "stderr",
     "output_type": "stream",
     "text": [
      "t:  36%|███▌      | 434/1199 [09:37<18:17,  1.43s/it, now=None]"
     ]
    },
    {
     "name": "stdout",
     "output_type": "stream",
     "text": [
      "Fail sanity check - curvature left curvature: 2889.0 right curvature: 509.0\n"
     ]
    },
    {
     "name": "stderr",
     "output_type": "stream",
     "text": [
      "t:  37%|███▋      | 444/1199 [09:50<16:10,  1.29s/it, now=None]"
     ]
    },
    {
     "name": "stdout",
     "output_type": "stream",
     "text": [
      "Fail sanity check - curvature left curvature: 1563.0 right curvature: 311.0\n"
     ]
    },
    {
     "name": "stderr",
     "output_type": "stream",
     "text": [
      "t:  38%|███▊      | 450/1199 [09:58<16:08,  1.29s/it, now=None]"
     ]
    },
    {
     "name": "stdout",
     "output_type": "stream",
     "text": [
      "Fail sanity check - distance at the bottom 721.0541644736085 right x point: 1054.820309846112 left x point: 333.7661453725035\n",
      "test\n"
     ]
    },
    {
     "name": "stderr",
     "output_type": "stream",
     "text": [
      "t:  38%|███▊      | 451/1199 [09:59<15:53,  1.27s/it, now=None]"
     ]
    },
    {
     "name": "stdout",
     "output_type": "stream",
     "text": [
      "Fail sanity check - curvature left curvature: 627.0 right curvature: 31.0\n",
      "Fail sanity check - distance at the bottom 778.5756761602426 right x point: 1057.6059698560177 left x point: 279.0302936957752\n",
      "Fail sanity check - roughly parallel (maximum distance) 2808.7448433279196\n",
      "Fail sanity check - roughly parallel (mean distance) 1385.673351127632\n",
      "test\n"
     ]
    },
    {
     "name": "stderr",
     "output_type": "stream",
     "text": [
      "t:  38%|███▊      | 452/1199 [10:00<15:36,  1.25s/it, now=None]"
     ]
    },
    {
     "name": "stdout",
     "output_type": "stream",
     "text": [
      "Fail sanity check - curvature left curvature: 634.0 right curvature: 45.0\n",
      "Fail sanity check - distance at the bottom 801.3184516011336 right x point: 1060.642156032934 left x point: 259.32370443180054\n",
      "Fail sanity check - roughly parallel (maximum distance) 2264.1671965340774\n",
      "Fail sanity check - roughly parallel (mean distance) 1243.4090081456266\n",
      "test\n"
     ]
    },
    {
     "name": "stderr",
     "output_type": "stream",
     "text": [
      "t:  38%|███▊      | 453/1199 [10:01<15:38,  1.26s/it, now=None]"
     ]
    },
    {
     "name": "stdout",
     "output_type": "stream",
     "text": [
      "Fail sanity check - curvature left curvature: 644.0 right curvature: 43.0\n",
      "Fail sanity check - distance at the bottom 834.5895019964257 right x point: 1064.746226390882 left x point: 230.15672439445615\n",
      "Fail sanity check - roughly parallel (maximum distance) 2344.2599501557893\n",
      "Fail sanity check - roughly parallel (mean distance) 1287.4377165862907\n",
      "test\n"
     ]
    },
    {
     "name": "stderr",
     "output_type": "stream",
     "text": [
      "t:  38%|███▊      | 454/1199 [10:03<15:34,  1.25s/it, now=None]"
     ]
    },
    {
     "name": "stdout",
     "output_type": "stream",
     "text": [
      "Fail sanity check - distance at the bottom 847.3649494878817 right x point: 1069.5930288143386 left x point: 222.22807932645682\n",
      "Fail sanity check - roughly parallel (maximum distance) 861.5392276960492\n",
      "Fail sanity check - roughly parallel (mean distance) 833.61086690806\n",
      "test\n",
      "test\n",
      "Fail sanity check - distance at the bottom 890.641401461054 right x point: 1104.8811954161788 left x point: 214.23979395512478\n",
      "Fail sanity check - roughly parallel (maximum distance) 3066.1125482829443\n",
      "Fail sanity check - roughly parallel (mean distance) 1601.1451543681003\n"
     ]
    },
    {
     "name": "stderr",
     "output_type": "stream",
     "text": [
      "t:  38%|███▊      | 455/1199 [10:04<15:09,  1.22s/it, now=None]"
     ]
    },
    {
     "name": "stdout",
     "output_type": "stream",
     "text": [
      "test\n"
     ]
    },
    {
     "name": "stderr",
     "output_type": "stream",
     "text": [
      "t:  38%|███▊      | 456/1199 [10:05<15:15,  1.23s/it, now=None]"
     ]
    },
    {
     "name": "stdout",
     "output_type": "stream",
     "text": [
      "Fail sanity check - distance at the bottom 865.45823393922 right x point: 1053.974327167017 left x point: 188.51609322779703\n",
      "Fail sanity check - roughly parallel (minimum distance) -3788.673760305912\n",
      "Fail sanity check - roughly parallel (maximum distance) 952.1878794534618\n",
      "Fail sanity check - roughly parallel (mean distance) -444.68077578419326\n",
      "test\n"
     ]
    },
    {
     "name": "stderr",
     "output_type": "stream",
     "text": [
      "t:  38%|███▊      | 457/1199 [10:06<15:18,  1.24s/it, now=None]"
     ]
    },
    {
     "name": "stdout",
     "output_type": "stream",
     "text": [
      "Fail sanity check - distance at the bottom 902.614989001322 right x point: 1065.543407117634 left x point: 162.92841811631197\n",
      "Fail sanity check - roughly parallel (minimum distance) -3791.9974942061926\n",
      "Fail sanity check - roughly parallel (maximum distance) 992.9154095316994\n",
      "Fail sanity check - roughly parallel (mean distance) -414.4808487531864\n",
      "test\n"
     ]
    },
    {
     "name": "stderr",
     "output_type": "stream",
     "text": [
      "t:  38%|███▊      | 458/1199 [10:07<15:07,  1.23s/it, now=None]"
     ]
    },
    {
     "name": "stdout",
     "output_type": "stream",
     "text": [
      "Fail sanity check - distance at the bottom 908.3495669228296 right x point: 1048.3910320689602 left x point: 140.04146514613058\n",
      "Fail sanity check - roughly parallel (minimum distance) -4668.789869245082\n",
      "Fail sanity check - roughly parallel (maximum distance) 1032.9592363665233\n",
      "Fail sanity check - roughly parallel (mean distance) -629.9291366878657\n"
     ]
    },
    {
     "name": "stderr",
     "output_type": "stream",
     "text": [
      "t:  38%|███▊      | 459/1199 [10:09<14:56,  1.21s/it, now=None]"
     ]
    },
    {
     "name": "stdout",
     "output_type": "stream",
     "text": [
      "test\n",
      "Fail sanity check - distance at the bottom -486.0507857719066 right x point: -369.85074702814126 left x point: 116.2000387437653\n",
      "Fail sanity check - roughly parallel (minimum distance) -169195.0316595353\n",
      "Fail sanity check - roughly parallel (maximum distance) 1057.8931322062683\n",
      "Fail sanity check - roughly parallel (mean distance) -50850.54760674872\n",
      "Fail sanity check - vehicle position from the lane center -4.88\n"
     ]
    },
    {
     "name": "stderr",
     "output_type": "stream",
     "text": [
      "t:  38%|███▊      | 460/1199 [10:10<14:45,  1.20s/it, now=None]"
     ]
    },
    {
     "name": "stdout",
     "output_type": "stream",
     "text": [
      "test\n",
      "No x, y points to fit a line\n",
      "Fail sanity check - distance at the bottom -461.23053350554267 right x point: -369.85074702814126 left x point: 91.37978647740141\n",
      "Fail sanity check - roughly parallel (minimum distance) -169160.10088831192\n",
      "Fail sanity check - roughly parallel (maximum distance) 1080.116909273562\n",
      "Fail sanity check - roughly parallel (mean distance) -50827.96821303741\n",
      "Fail sanity check - vehicle position from the lane center -4.95\n"
     ]
    },
    {
     "name": "stderr",
     "output_type": "stream",
     "text": [
      "t:  38%|███▊      | 461/1199 [10:11<14:31,  1.18s/it, now=None]"
     ]
    },
    {
     "name": "stdout",
     "output_type": "stream",
     "text": [
      "test\n",
      "Fail sanity check - curvature left curvature: 110.0 right curvature: 16.0\n",
      "Fail sanity check - distance at the bottom -289.43539283205064 right x point: -168.0335745634853 left x point: 121.40181826856534\n",
      "Fail sanity check - roughly parallel (minimum distance) -139279.52745318995\n",
      "Fail sanity check - roughly parallel (maximum distance) 1099.80421236189\n",
      "Fail sanity check - roughly parallel (mean distance) -41540.72925206526\n",
      "Fail sanity check - vehicle position from the lane center -4.21\n",
      "test\n",
      "test\n",
      "No x, y points to fit a line\n"
     ]
    },
    {
     "name": "stderr",
     "output_type": "stream",
     "text": [
      "t:  39%|███▊      | 462/1199 [10:12<14:22,  1.17s/it, now=None]"
     ]
    },
    {
     "name": "stdout",
     "output_type": "stream",
     "text": [
      "Fail sanity check - curvature left curvature: 110.0 right curvature: 19.0\n",
      "Fail sanity check - distance at the bottom -278.9644208638459 right x point: -168.0335745634853 left x point: 110.93084630036056\n",
      "Fail sanity check - roughly parallel (minimum distance) -138639.13325262335\n",
      "Fail sanity check - roughly parallel (maximum distance) 1099.749347527386\n",
      "Fail sanity check - roughly parallel (mean distance) -41351.86216458791\n",
      "Fail sanity check - vehicle position from the lane center -4.25\n"
     ]
    },
    {
     "name": "stderr",
     "output_type": "stream",
     "text": [
      "t:  39%|███▊      | 463/1199 [10:13<14:00,  1.14s/it, now=None]"
     ]
    },
    {
     "name": "stdout",
     "output_type": "stream",
     "text": [
      "test\n",
      "test\n",
      "Fail sanity check - distance at the bottom -234.11758498924945 right x point: -139.33892049833037 left x point: 94.7786644909191\n",
      "Fail sanity check - roughly parallel (minimum distance) -137444.1809949792\n",
      "Fail sanity check - roughly parallel (maximum distance) 1116.580261529438\n",
      "Fail sanity check - roughly parallel (mean distance) -40999.109232638024\n",
      "Fail sanity check - vehicle position from the lane center -4.21\n"
     ]
    },
    {
     "name": "stderr",
     "output_type": "stream",
     "text": [
      "t:  39%|███▊      | 464/1199 [10:14<13:46,  1.12s/it, now=None]"
     ]
    },
    {
     "name": "stdout",
     "output_type": "stream",
     "text": [
      "test\n",
      "test\n",
      "Fail sanity check - distance at the bottom -85.04793088762024 right x point: -43.677199266393885 left x point: 41.370731621226355\n",
      "Fail sanity check - roughly parallel (minimum distance) -133221.89809943407\n",
      "Fail sanity check - roughly parallel (maximum distance) 1138.3845779372807\n",
      "Fail sanity check - roughly parallel (mean distance) -39819.77057877868\n",
      "Fail sanity check - vehicle position from the lane center -4.08\n",
      "test\n"
     ]
    },
    {
     "name": "stderr",
     "output_type": "stream",
     "text": [
      "t:  39%|███▉      | 465/1199 [10:15<13:59,  1.14s/it, now=None]"
     ]
    },
    {
     "name": "stdout",
     "output_type": "stream",
     "text": [
      "Fail sanity check - curvature left curvature: 100.0 right curvature: 15.0\n",
      "Fail sanity check - distance at the bottom -107.82239231351834 right x point: -87.75390494720725 left x point: 20.068487366311093\n",
      "Fail sanity check - roughly parallel (minimum distance) -131554.51292698915\n",
      "Fail sanity check - roughly parallel (maximum distance) 1093.2158364731556\n",
      "Fail sanity check - roughly parallel (mean distance) -39352.43877981743\n",
      "Fail sanity check - vehicle position from the lane center -4.28\n",
      "test\n"
     ]
    },
    {
     "name": "stderr",
     "output_type": "stream",
     "text": [
      "t:  39%|███▉      | 466/1199 [10:17<14:07,  1.16s/it, now=None]"
     ]
    },
    {
     "name": "stdout",
     "output_type": "stream",
     "text": [
      "Fail sanity check - curvature left curvature: 100.0 right curvature: 15.0\n",
      "Fail sanity check - distance at the bottom -144.07649380568085 right x point: -128.22017617065984 left x point: 15.856317635021004\n",
      "Fail sanity check - roughly parallel (minimum distance) -131564.19839364692\n",
      "Fail sanity check - roughly parallel (maximum distance) 1054.4694136290082\n",
      "Fail sanity check - roughly parallel (mean distance) -39385.51220502624\n",
      "Fail sanity check - vehicle position from the lane center -4.42\n",
      "test\n"
     ]
    },
    {
     "name": "stderr",
     "output_type": "stream",
     "text": [
      "t:  39%|███▉      | 467/1199 [10:18<14:09,  1.16s/it, now=None]"
     ]
    },
    {
     "name": "stdout",
     "output_type": "stream",
     "text": [
      "Fail sanity check - curvature left curvature: 103.0 right curvature: 14.0\n",
      "Fail sanity check - distance at the bottom -214.1632280643894 right x point: -203.450237377014 left x point: 10.712990687375406\n",
      "Fail sanity check - roughly parallel (minimum distance) -135512.02292127645\n",
      "Fail sanity check - roughly parallel (maximum distance) 1001.533791685494\n",
      "Fail sanity check - roughly parallel (mean distance) -40651.945208953155\n",
      "Fail sanity check - vehicle position from the lane center -4.67\n",
      "test\n"
     ]
    },
    {
     "name": "stderr",
     "output_type": "stream",
     "text": [
      "t:  39%|███▉      | 468/1199 [10:19<14:06,  1.16s/it, now=None]"
     ]
    },
    {
     "name": "stdout",
     "output_type": "stream",
     "text": [
      "Fail sanity check - curvature left curvature: 93.0 right curvature: 14.0\n",
      "Fail sanity check - distance at the bottom -195.646386506693 right x point: -192.19917154019427 left x point: 3.447214966498734\n",
      "Fail sanity check - roughly parallel (minimum distance) -128606.38105771464\n",
      "Fail sanity check - roughly parallel (maximum distance) 946.2822304390088\n",
      "Fail sanity check - roughly parallel (mean distance) -38600.111209497154\n",
      "Fail sanity check - vehicle position from the lane center -4.65\n",
      "test\n"
     ]
    },
    {
     "name": "stderr",
     "output_type": "stream",
     "text": [
      "t:  39%|███▉      | 469/1199 [10:20<14:11,  1.17s/it, now=None]"
     ]
    },
    {
     "name": "stdout",
     "output_type": "stream",
     "text": [
      "Fail sanity check - curvature left curvature: 92.0 right curvature: 14.0\n",
      "Fail sanity check - distance at the bottom -230.4158791374474 right x point: -233.10580113922228 left x point: -2.6899220017748804\n",
      "Fail sanity check - roughly parallel (minimum distance) -128527.40461596\n",
      "Fail sanity check - roughly parallel (maximum distance) 904.7123669381969\n",
      "Fail sanity check - roughly parallel (mean distance) -38613.089611965865\n",
      "Fail sanity check - vehicle position from the lane center -4.8\n",
      "test\n"
     ]
    },
    {
     "name": "stderr",
     "output_type": "stream",
     "text": [
      "t:  39%|███▉      | 470/1199 [10:21<14:10,  1.17s/it, now=None]"
     ]
    },
    {
     "name": "stdout",
     "output_type": "stream",
     "text": [
      "Fail sanity check - curvature left curvature: 89.0 right curvature: 14.0\n",
      "Fail sanity check - distance at the bottom -236.6356519301101 right x point: -244.73280321495136 left x point: -8.097151284841265\n",
      "Fail sanity check - roughly parallel (minimum distance) -127579.95333764354\n",
      "Fail sanity check - roughly parallel (maximum distance) 866.7402014131957\n",
      "Fail sanity check - roughly parallel (mean distance) -38383.88875591705\n",
      "Fail sanity check - vehicle position from the lane center -4.85\n",
      "test\n"
     ]
    },
    {
     "name": "stderr",
     "output_type": "stream",
     "text": [
      "t:  39%|███▉      | 471/1199 [10:22<14:08,  1.16s/it, now=None]"
     ]
    },
    {
     "name": "stdout",
     "output_type": "stream",
     "text": [
      "Fail sanity check - distance at the bottom 1151.447661601745 right x point: 1137.2186805374317 left x point: -14.228981064313325\n",
      "Fail sanity check - roughly parallel (maximum distance) 37012.09931754482\n",
      "Fail sanity check - roughly parallel (mean distance) 11848.077703335512\n",
      "test\n"
     ]
    },
    {
     "name": "stderr",
     "output_type": "stream",
     "text": [
      "t:  39%|███▉      | 472/1199 [10:24<14:10,  1.17s/it, now=None]"
     ]
    },
    {
     "name": "stdout",
     "output_type": "stream",
     "text": [
      "Fail sanity check - curvature left curvature: 168.0 right curvature: 14.0\n",
      "Fail sanity check - distance at the bottom 912.0001818829872 right x point: 895.6281113605359 left x point: -16.372070522451395\n",
      "Fail sanity check - roughly parallel (maximum distance) 4899.384367964364\n",
      "Fail sanity check - roughly parallel (mean distance) 1856.732644904244\n",
      "Fail sanity check - vehicle position from the lane center -1.24\n",
      "test\n"
     ]
    },
    {
     "name": "stderr",
     "output_type": "stream",
     "text": [
      "t:  39%|███▉      | 473/1199 [10:25<14:14,  1.18s/it, now=None]"
     ]
    },
    {
     "name": "stdout",
     "output_type": "stream",
     "text": [
      "Fail sanity check - curvature left curvature: 187.0 right curvature: 18.0\n",
      "Fail sanity check - distance at the bottom 837.0649046574844 right x point: 834.8492916027344 left x point: -2.215613054749929\n",
      "Fail sanity check - roughly parallel (maximum distance) 3708.980034461492\n",
      "Fail sanity check - roughly parallel (mean distance) 1481.2430385666007\n",
      "Fail sanity check - vehicle position from the lane center -1.38\n",
      "test\n"
     ]
    },
    {
     "name": "stderr",
     "output_type": "stream",
     "text": [
      "t:  40%|███▉      | 474/1199 [10:26<14:25,  1.19s/it, now=None]"
     ]
    },
    {
     "name": "stdout",
     "output_type": "stream",
     "text": [
      "Fail sanity check - roughly parallel (maximum distance) 1152.2701011165648\n",
      "Fail sanity check - roughly parallel (mean distance) 769.1149711868532\n",
      "Fail sanity check - vehicle position from the lane center -1.71\n",
      "test\n",
      "failed\n",
      "No x, y points to fit a line\n"
     ]
    },
    {
     "name": "stderr",
     "output_type": "stream",
     "text": [
      "t:  40%|███▉      | 475/1199 [10:27<14:26,  1.20s/it, now=None]"
     ]
    },
    {
     "name": "stdout",
     "output_type": "stream",
     "text": [
      "Fail sanity check - roughly parallel (maximum distance) 1163.1669202253534\n",
      "Fail sanity check - roughly parallel (mean distance) 771.4590970599525\n",
      "Fail sanity check - vehicle position from the lane center -1.71\n",
      "test\n",
      "failed\n",
      "No x, y points to fit a line\n"
     ]
    },
    {
     "name": "stderr",
     "output_type": "stream",
     "text": [
      "t:  40%|███▉      | 476/1199 [10:28<14:36,  1.21s/it, now=None]"
     ]
    },
    {
     "name": "stdout",
     "output_type": "stream",
     "text": [
      "Fail sanity check - roughly parallel (maximum distance) 1008.3413612768215\n",
      "Fail sanity check - vehicle position from the lane center -1.7\n",
      "test\n",
      "failed\n",
      "No x, y points to fit a line\n"
     ]
    },
    {
     "name": "stderr",
     "output_type": "stream",
     "text": [
      "t:  40%|███▉      | 477/1199 [10:30<14:41,  1.22s/it, now=None]"
     ]
    },
    {
     "name": "stdout",
     "output_type": "stream",
     "text": [
      "Fail sanity check - roughly parallel (maximum distance) 804.7560253778182\n",
      "Fail sanity check - vehicle position from the lane center -1.68\n",
      "test\n",
      "failed\n",
      "No x, y points to fit a line\n"
     ]
    },
    {
     "name": "stderr",
     "output_type": "stream",
     "text": [
      "t:  40%|███▉      | 478/1199 [10:31<14:53,  1.24s/it, now=None]"
     ]
    },
    {
     "name": "stdout",
     "output_type": "stream",
     "text": [
      "Fail sanity check - vehicle position from the lane center -1.65\n",
      "test\n",
      "failed\n",
      "No x, y points to fit a line\n"
     ]
    },
    {
     "name": "stderr",
     "output_type": "stream",
     "text": [
      "t:  40%|███▉      | 479/1199 [10:32<14:36,  1.22s/it, now=None]"
     ]
    },
    {
     "name": "stdout",
     "output_type": "stream",
     "text": [
      "Fail sanity check - roughly parallel (minimum distance) 399.49657357967254\n",
      "Fail sanity check - vehicle position from the lane center -1.63\n",
      "test\n",
      "failed\n",
      "No x, y points to fit a line\n"
     ]
    },
    {
     "name": "stderr",
     "output_type": "stream",
     "text": [
      "t:  40%|████      | 480/1199 [10:33<14:22,  1.20s/it, now=None]"
     ]
    },
    {
     "name": "stdout",
     "output_type": "stream",
     "text": [
      "Fail sanity check - roughly parallel (minimum distance) 148.970580377979\n",
      "Fail sanity check - vehicle position from the lane center -1.61\n",
      "test\n",
      "failed\n",
      "No x, y points to fit a line\n"
     ]
    },
    {
     "name": "stderr",
     "output_type": "stream",
     "text": [
      "t:  40%|████      | 481/1199 [10:34<14:25,  1.21s/it, now=None]"
     ]
    },
    {
     "name": "stdout",
     "output_type": "stream",
     "text": [
      "Fail sanity check - roughly parallel (minimum distance) 148.72140186920683\n",
      "Fail sanity check - vehicle position from the lane center -1.61\n"
     ]
    },
    {
     "name": "stderr",
     "output_type": "stream",
     "text": [
      "t:  40%|████      | 482/1199 [10:36<13:56,  1.17s/it, now=None]"
     ]
    },
    {
     "name": "stdout",
     "output_type": "stream",
     "text": [
      "test\n",
      "failed\n",
      "No x, y points to fit a line\n",
      "Fail sanity check - distance at the bottom 219.65485675644084 right x point: 698.0150824208384 left x point: 478.3602256643976\n",
      "Fail sanity check - roughly parallel (minimum distance) -54123.68169493396\n",
      "Fail sanity check - roughly parallel (mean distance) -16153.73953657971\n"
     ]
    },
    {
     "name": "stderr",
     "output_type": "stream",
     "text": [
      "t:  40%|████      | 483/1199 [10:37<13:33,  1.14s/it, now=None]"
     ]
    },
    {
     "name": "stdout",
     "output_type": "stream",
     "text": [
      "test\n",
      "failed\n",
      "No x, y points to fit a line\n",
      "Fail sanity check - distance at the bottom 1035.349504907078 right x point: 698.0150824208384 left x point: -337.3344224862394\n",
      "Fail sanity check - roughly parallel (maximum distance) 27989.836853265435\n",
      "Fail sanity check - roughly parallel (mean distance) 8784.148961986377\n",
      "Fail sanity check - vehicle position from the lane center -2.87\n"
     ]
    },
    {
     "name": "stderr",
     "output_type": "stream",
     "text": [
      "t:  40%|████      | 484/1199 [10:38<13:23,  1.12s/it, now=None]"
     ]
    },
    {
     "name": "stdout",
     "output_type": "stream",
     "text": [
      "test\n",
      "failed\n",
      "No x, y points to fit a line\n",
      "Fail sanity check - distance at the bottom 1702.5443516874402 right x point: 698.0150824208384 left x point: -1004.5292692666019\n",
      "Fail sanity check - roughly parallel (maximum distance) 94144.07610801246\n",
      "Fail sanity check - roughly parallel (mean distance) 28861.028620360405\n",
      "Fail sanity check - vehicle position from the lane center -4.99\n"
     ]
    },
    {
     "name": "stderr",
     "output_type": "stream",
     "text": [
      "t:  40%|████      | 485/1199 [10:39<13:10,  1.11s/it, now=None]"
     ]
    },
    {
     "name": "stdout",
     "output_type": "stream",
     "text": [
      "test\n",
      "failed\n",
      "No x, y points to fit a line\n",
      "Fail sanity check - distance at the bottom 3106.0873377278094 right x point: 698.0150824208384 left x point: -2408.072255306971\n",
      "Fail sanity check - roughly parallel (maximum distance) 243243.0640280579\n",
      "Fail sanity check - roughly parallel (mean distance) 74246.25299610799\n",
      "Fail sanity check - vehicle position from the lane center -9.45\n"
     ]
    },
    {
     "name": "stderr",
     "output_type": "stream",
     "text": [
      "t:  41%|████      | 486/1199 [10:40<12:57,  1.09s/it, now=None]"
     ]
    },
    {
     "name": "stdout",
     "output_type": "stream",
     "text": [
      "test\n",
      "failed\n",
      "No x, y points to fit a line\n",
      "Fail sanity check - distance at the bottom 3878.8221180133223 right x point: 698.0150824208384 left x point: -3180.8070355924838\n",
      "Fail sanity check - roughly parallel (maximum distance) 323957.5746430841\n",
      "Fail sanity check - roughly parallel (mean distance) 98800.02055547504\n",
      "Fail sanity check - vehicle position from the lane center -11.91\n",
      "failed\n",
      "No x, y points to fit a line\n"
     ]
    },
    {
     "name": "stderr",
     "output_type": "stream",
     "text": [
      "t:  41%|████      | 487/1199 [10:41<13:07,  1.11s/it, now=None]"
     ]
    },
    {
     "name": "stdout",
     "output_type": "stream",
     "text": [
      "Fail sanity check - distance at the bottom 3940.2028804298816 right x point: 759.3958448373976 left x point: -3180.8070355924838\n",
      "Fail sanity check - roughly parallel (maximum distance) 324014.18517834845\n",
      "Fail sanity check - roughly parallel (mean distance) 98855.49656488159\n",
      "Fail sanity check - vehicle position from the lane center -11.72\n",
      "failed\n",
      "No x, y points to fit a line\n",
      "Fail sanity check - distance at the bottom 3998.1439772413405 right x point: 817.3369416488567 left x point: -3180.8070355924838\n"
     ]
    },
    {
     "name": "stderr",
     "output_type": "stream",
     "text": [
      "t:  41%|████      | 488/1199 [10:42<13:16,  1.12s/it, now=None]"
     ]
    },
    {
     "name": "stdout",
     "output_type": "stream",
     "text": [
      "Fail sanity check - roughly parallel (maximum distance) 324069.2448266487\n",
      "Fail sanity check - roughly parallel (mean distance) 98909.67532888016\n",
      "Fail sanity check - vehicle position from the lane center -11.54\n",
      "failed\n",
      "No x, y points to fit a line\n",
      "Fail sanity check - distance at the bottom 4064.4912523092885 right x point: 883.6842167168046 left x point: -3180.8070355924838\n",
      "Fail sanity check - roughly parallel (maximum distance) 324127.0632978697\n",
      "Fail sanity check - roughly parallel (mean distance) 98966.82221829699\n",
      "Fail sanity check - vehicle position from the lane center -11.34\n"
     ]
    },
    {
     "name": "stderr",
     "output_type": "stream",
     "text": [
      "t:  41%|████      | 490/1199 [10:44<13:17,  1.12s/it, now=None]"
     ]
    },
    {
     "name": "stdout",
     "output_type": "stream",
     "text": [
      "Fail sanity check - distance at the bottom 4073.6956237219606 right x point: 947.0426048623355 left x point: -3126.6530188596253\n",
      "Fail sanity check - roughly parallel (maximum distance) 324341.1246929696\n",
      "Fail sanity check - roughly parallel (mean distance) 99019.15735555156\n",
      "Fail sanity check - vehicle position from the lane center -10.97\n"
     ]
    },
    {
     "name": "stderr",
     "output_type": "stream",
     "text": [
      "t:  41%|████      | 491/1199 [10:46<13:18,  1.13s/it, now=None]"
     ]
    },
    {
     "name": "stdout",
     "output_type": "stream",
     "text": [
      "Fail sanity check - distance at the bottom 4076.135149561359 right x point: 1002.8529874167149 left x point: -3073.282162144644\n",
      "Fail sanity check - roughly parallel (maximum distance) 324529.3445162693\n",
      "Fail sanity check - roughly parallel (mean distance) 99058.07726204193\n",
      "Fail sanity check - vehicle position from the lane center -10.64\n"
     ]
    },
    {
     "name": "stderr",
     "output_type": "stream",
     "text": [
      "t:  41%|████      | 492/1199 [10:47<13:21,  1.13s/it, now=None]"
     ]
    },
    {
     "name": "stdout",
     "output_type": "stream",
     "text": [
      "Fail sanity check - distance at the bottom 4072.1001733462035 right x point: 1052.0038176237388 left x point: -3020.0963557224645\n",
      "Fail sanity check - roughly parallel (maximum distance) 324723.5816647734\n",
      "Fail sanity check - roughly parallel (mean distance) 99098.47542906042\n",
      "Fail sanity check - vehicle position from the lane center -10.32\n"
     ]
    },
    {
     "name": "stderr",
     "output_type": "stream",
     "text": [
      "t:  41%|████      | 493/1199 [10:48<13:21,  1.13s/it, now=None]"
     ]
    },
    {
     "name": "stdout",
     "output_type": "stream",
     "text": [
      "Fail sanity check - distance at the bottom 4083.0486393407555 right x point: 1115.2162824379632 left x point: -2967.832356902792\n",
      "Fail sanity check - roughly parallel (maximum distance) 324950.0450648154\n",
      "Fail sanity check - roughly parallel (mean distance) 99149.75770759309\n",
      "Fail sanity check - vehicle position from the lane center -9.97\n",
      "failed\n",
      "No x, y points to fit a line\n",
      "Fail sanity check - distance at the bottom 4152.758617526422 right x point: 1184.9262606236302 left x point: -2967.832356902792\n",
      "Fail sanity check - roughly parallel (maximum distance) 325001.2564793004\n",
      "Fail sanity check - roughly parallel (mean distance) 99203.12164706223\n",
      "Fail sanity check - vehicle position from the lane center -9.75\n"
     ]
    },
    {
     "name": "stderr",
     "output_type": "stream",
     "text": [
      "t:  41%|████▏     | 495/1199 [10:50<13:16,  1.13s/it, now=None]"
     ]
    },
    {
     "name": "stdout",
     "output_type": "stream",
     "text": [
      "Fail sanity check - distance at the bottom 4152.427670006336 right x point: 1246.3139575729358 left x point: -2906.1137124333995\n",
      "Fail sanity check - roughly parallel (maximum distance) 324985.9094437412\n",
      "Fail sanity check - roughly parallel (mean distance) 99184.64787872066\n",
      "Fail sanity check - vehicle position from the lane center -9.37\n"
     ]
    },
    {
     "name": "stderr",
     "output_type": "stream",
     "text": [
      "t:  41%|████▏     | 496/1199 [10:51<13:21,  1.14s/it, now=None]"
     ]
    },
    {
     "name": "stdout",
     "output_type": "stream",
     "text": [
      "Fail sanity check - distance at the bottom 4578.852933094154 right x point: 1315.4743987295308 left x point: -3263.378534364623\n",
      "Fail sanity check - roughly parallel (maximum distance) 379254.400630522\n",
      "Fail sanity check - roughly parallel (mean distance) 115825.65422702393\n",
      "Fail sanity check - vehicle position from the lane center -10.31\n"
     ]
    },
    {
     "name": "stderr",
     "output_type": "stream",
     "text": [
      "t:  41%|████▏     | 497/1199 [10:52<13:11,  1.13s/it, now=None]"
     ]
    },
    {
     "name": "stdout",
     "output_type": "stream",
     "text": [
      "test\n",
      "No x, y points to fit a line\n",
      "test\n",
      "No x, y points to fit a line\n",
      "Fail sanity check - distance at the bottom 4578.852933094154 right x point: 1315.4743987295308 left x point: -3263.378534364623\n",
      "Fail sanity check - roughly parallel (maximum distance) 379254.400630522\n",
      "Fail sanity check - roughly parallel (mean distance) 115825.65422702393\n",
      "Fail sanity check - vehicle position from the lane center -10.31\n",
      "failed\n",
      "No x, y points to fit a line\n",
      "Fail sanity check - distance at the bottom 4587.196339658549 right x point: 1323.8178052939254 left x point: -3263.378534364623\n"
     ]
    },
    {
     "name": "stderr",
     "output_type": "stream",
     "text": [
      "t:  42%|████▏     | 498/1199 [10:54<13:18,  1.14s/it, now=None]"
     ]
    },
    {
     "name": "stdout",
     "output_type": "stream",
     "text": [
      "Fail sanity check - roughly parallel (maximum distance) 379259.6944807545\n",
      "Fail sanity check - roughly parallel (mean distance) 115827.69625677571\n",
      "Fail sanity check - vehicle position from the lane center -10.28\n",
      "failed\n",
      "No x, y points to fit a line\n",
      "Fail sanity check - distance at the bottom 4589.637516832462 right x point: 1326.2589824678387 left x point: -3263.378534364623\n",
      "Fail sanity check - roughly parallel (maximum distance) 379253.5010104691\n",
      "Fail sanity check - roughly parallel (mean distance) "
     ]
    },
    {
     "name": "stderr",
     "output_type": "stream",
     "text": [
      "t:  42%|████▏     | 499/1199 [10:55<13:20,  1.14s/it, now=None]"
     ]
    },
    {
     "name": "stdout",
     "output_type": "stream",
     "text": [
      "115826.72509126742\n",
      "Fail sanity check - vehicle position from the lane center -10.27\n",
      "failed\n",
      "No x, y points to fit a line\n"
     ]
    },
    {
     "name": "stderr",
     "output_type": "stream",
     "text": [
      "t:  42%|████▏     | 500/1199 [10:56<13:19,  1.14s/it, now=None]"
     ]
    },
    {
     "name": "stdout",
     "output_type": "stream",
     "text": [
      "Fail sanity check - distance at the bottom 4584.814302908821 right x point: 1321.4357685441983 left x point: -3263.378534364623\n",
      "Fail sanity check - roughly parallel (maximum distance) 379238.2513198541\n",
      "Fail sanity check - roughly parallel (mean distance) 115822.75774324106\n",
      "Fail sanity check - vehicle position from the lane center -10.29\n"
     ]
    },
    {
     "name": "stderr",
     "output_type": "stream",
     "text": [
      "t:  42%|████▏     | 501/1199 [10:57<13:04,  1.12s/it, now=None]"
     ]
    },
    {
     "name": "stdout",
     "output_type": "stream",
     "text": [
      "failed\n",
      "No x, y points to fit a line\n",
      "test\n",
      "Fail sanity check - curvature left curvature: 71.0 right curvature: 809.0\n",
      "Fail sanity check - distance at the bottom 4567.628917733144 right x point: 1304.250383368521 left x point: -3263.378534364623\n",
      "Fail sanity check - roughly parallel (maximum distance) 378232.59071623517\n",
      "Fail sanity check - roughly parallel (mean distance) 115521.33487589205\n",
      "Fail sanity check - vehicle position from the lane center -10.34\n"
     ]
    },
    {
     "name": "stderr",
     "output_type": "stream",
     "text": [
      "t:  42%|████▏     | 502/1199 [10:58<12:55,  1.11s/it, now=None]"
     ]
    },
    {
     "name": "stdout",
     "output_type": "stream",
     "text": [
      "failed\n",
      "No x, y points to fit a line\n",
      "test\n",
      "Fail sanity check - distance at the bottom 4565.95657441654 right x point: 1302.578040051917 left x point: -3263.378534364623\n",
      "Fail sanity check - roughly parallel (maximum distance) 378729.4706422031\n",
      "Fail sanity check - roughly parallel (mean distance) 115671.43204805604\n",
      "Fail sanity check - vehicle position from the lane center -10.35\n"
     ]
    },
    {
     "name": "stderr",
     "output_type": "stream",
     "text": [
      "t:  42%|████▏     | 503/1199 [10:59<12:45,  1.10s/it, now=None]"
     ]
    },
    {
     "name": "stdout",
     "output_type": "stream",
     "text": [
      "failed\n",
      "No x, y points to fit a line\n",
      "test\n",
      "Fail sanity check - curvature left curvature: 58.0 right curvature: 809.0\n",
      "Fail sanity check - distance at the bottom 4556.816451135023 right x point: 1293.4379167703999 left x point: -3263.378534364623\n",
      "Fail sanity check - roughly parallel (maximum distance) 378075.49022205564\n",
      "Fail sanity check - roughly parallel (mean distance) 115474.89239304072\n",
      "Fail sanity check - vehicle position from the lane center -10.38\n"
     ]
    },
    {
     "name": "stderr",
     "output_type": "stream",
     "text": [
      "t:  42%|████▏     | 504/1199 [11:00<12:35,  1.09s/it, now=None]"
     ]
    },
    {
     "name": "stdout",
     "output_type": "stream",
     "text": [
      "test\n",
      "test\n",
      "Fail sanity check - curvature left curvature: 32.0 right curvature: 559.0\n",
      "Fail sanity check - distance at the bottom 3904.907700105101 right x point: 1275.469068788526 left x point: -2629.438631316575\n",
      "Fail sanity check - roughly parallel (maximum distance) 315453.53989685833\n",
      "Fail sanity check - roughly parallel (mean distance) 96486.5955234918\n",
      "Fail sanity check - vehicle position from the lane center -8.42\n"
     ]
    },
    {
     "name": "stderr",
     "output_type": "stream",
     "text": [
      "t:  42%|████▏     | 505/1199 [11:01<12:35,  1.09s/it, now=None]"
     ]
    },
    {
     "name": "stdout",
     "output_type": "stream",
     "text": [
      "failed\n",
      "No x, y points to fit a line\n",
      "test\n",
      "Fail sanity check - curvature left curvature: 15.0 right curvature: 559.0\n",
      "Fail sanity check - distance at the bottom 3872.745711381479 right x point: 1243.3070800649036 left x point: -2629.438631316575\n",
      "Fail sanity check - roughly parallel (maximum distance) 313256.45112269087\n",
      "Fail sanity check - roughly parallel (mean distance) 95820.23560743926\n",
      "Fail sanity check - vehicle position from the lane center -8.52\n",
      "test\n",
      "test\n"
     ]
    },
    {
     "name": "stderr",
     "output_type": "stream",
     "text": [
      "t:  42%|████▏     | 506/1199 [11:02<12:51,  1.11s/it, now=None]"
     ]
    },
    {
     "name": "stdout",
     "output_type": "stream",
     "text": [
      "Fail sanity check - curvature left curvature: 14.0 right curvature: 346.0\n",
      "Fail sanity check - distance at the bottom 3198.979709651374 right x point: 1230.1392634672654 left x point: -1968.8404461841087\n",
      "Fail sanity check - roughly parallel (maximum distance) 246909.97017090794\n",
      "Fail sanity check - roughly parallel (mean distance) 75683.2992494205\n",
      "Fail sanity check - vehicle position from the lane center -6.46\n"
     ]
    },
    {
     "name": "stderr",
     "output_type": "stream",
     "text": [
      "t:  42%|████▏     | 507/1199 [11:03<12:38,  1.10s/it, now=None]"
     ]
    },
    {
     "name": "stdout",
     "output_type": "stream",
     "text": [
      "failed\n",
      "No x, y points to fit a line\n",
      "test\n",
      "Fail sanity check - curvature left curvature: 11.0 right curvature: 346.0\n",
      "Fail sanity check - distance at the bottom 3167.0439458386063 right x point: 1198.2034996544976 left x point: -1968.8404461841087\n",
      "Fail sanity check - roughly parallel (maximum distance) 245047.06310129177\n",
      "Fail sanity check - roughly parallel (mean distance) 75124.31835741087\n",
      "Fail sanity check - vehicle position from the lane center -6.56\n"
     ]
    },
    {
     "name": "stderr",
     "output_type": "stream",
     "text": [
      "t:  42%|████▏     | 508/1199 [11:04<12:26,  1.08s/it, now=None]"
     ]
    },
    {
     "name": "stdout",
     "output_type": "stream",
     "text": [
      "failed\n",
      "No x, y points to fit a line\n",
      "test\n",
      "Fail sanity check - curvature left curvature: 9.0 right curvature: 346.0\n",
      "Fail sanity check - distance at the bottom 3138.900929372086 right x point: 1170.0604831879773 left x point: -1968.8404461841087\n",
      "Fail sanity check - roughly parallel (maximum distance) 243517.94433956424\n",
      "Fail sanity check - roughly parallel (mean distance) 74669.09510063933\n",
      "Fail sanity check - vehicle position from the lane center -6.65\n"
     ]
    },
    {
     "name": "stderr",
     "output_type": "stream",
     "text": [
      "t:  42%|████▏     | 509/1199 [11:06<12:25,  1.08s/it, now=None]"
     ]
    },
    {
     "name": "stdout",
     "output_type": "stream",
     "text": [
      "failed\n",
      "No x, y points to fit a line\n",
      "test\n",
      "Fail sanity check - curvature left curvature: 8.0 right curvature: 346.0\n",
      "Fail sanity check - distance at the bottom 3101.4201016525853 right x point: 1132.5796554684766 left x point: -1968.8404461841087\n",
      "Fail sanity check - roughly parallel (maximum distance) 240529.71030792958\n",
      "Fail sanity check - roughly parallel (mean distance) 73769.63801187543\n",
      "Fail sanity check - vehicle position from the lane center -6.77\n"
     ]
    },
    {
     "name": "stderr",
     "output_type": "stream",
     "text": [
      "t:  43%|████▎     | 510/1199 [11:07<12:26,  1.08s/it, now=None]"
     ]
    },
    {
     "name": "stdout",
     "output_type": "stream",
     "text": [
      "failed\n",
      "No x, y points to fit a line\n",
      "test\n",
      "Fail sanity check - curvature left curvature: 8.0 right curvature: 346.0\n",
      "Fail sanity check - distance at the bottom 3098.2114830330406 right x point: 1129.371036848932 left x point: -1968.8404461841087\n",
      "Fail sanity check - roughly parallel (maximum distance) 240292.46256462848\n",
      "Fail sanity check - roughly parallel (mean distance) 73697.22274761215\n",
      "Fail sanity check - vehicle position from the lane center -6.78\n",
      "failed\n",
      "No x, y points to fit a line\n",
      "test\n"
     ]
    },
    {
     "name": "stderr",
     "output_type": "stream",
     "text": [
      "t:  43%|████▎     | 511/1199 [11:08<13:04,  1.14s/it, now=None]"
     ]
    },
    {
     "name": "stdout",
     "output_type": "stream",
     "text": [
      "Fail sanity check - curvature left curvature: 8.0 right curvature: 346.0\n",
      "Fail sanity check - distance at the bottom 3103.8965505374836 right x point: 1135.0561043533748 left x point: -1968.8404461841087\n",
      "Fail sanity check - roughly parallel (maximum distance) 240678.94445743423\n",
      "Fail sanity check - roughly parallel (mean distance) 73813.23738027691\n",
      "Fail sanity check - vehicle position from the lane center -6.76\n"
     ]
    },
    {
     "name": "stderr",
     "output_type": "stream",
     "text": [
      "t:  43%|████▎     | 512/1199 [11:09<12:59,  1.13s/it, now=None]"
     ]
    },
    {
     "name": "stdout",
     "output_type": "stream",
     "text": [
      "failed\n",
      "No x, y points to fit a line\n",
      "test\n",
      "Fail sanity check - curvature left curvature: 8.0 right curvature: 346.0\n",
      "Fail sanity check - distance at the bottom 3078.9440563189646 right x point: 1110.103610134856 left x point: -1968.8404461841087\n",
      "Fail sanity check - roughly parallel (maximum distance) 238384.0389121364\n",
      "Fail sanity check - roughly parallel (mean distance) 73120.64828889717\n",
      "Fail sanity check - vehicle position from the lane center -6.84\n"
     ]
    },
    {
     "name": "stderr",
     "output_type": "stream",
     "text": [
      "t:  43%|████▎     | 513/1199 [11:10<13:33,  1.19s/it, now=None]"
     ]
    },
    {
     "name": "stdout",
     "output_type": "stream",
     "text": [
      "failed\n",
      "No x, y points to fit a line\n",
      "test\n",
      "Fail sanity check - curvature left curvature: 7.0 right curvature: 346.0\n",
      "Fail sanity check - distance at the bottom 3070.1918438259163 right x point: 1101.3513976418078 left x point: -1968.8404461841087\n",
      "Fail sanity check - roughly parallel (maximum distance) 237637.97558617961\n",
      "Fail sanity check - roughly parallel (mean distance) 72897.8481311375\n",
      "Fail sanity check - vehicle position from the lane center -6.87\n"
     ]
    },
    {
     "name": "stderr",
     "output_type": "stream",
     "text": [
      "t:  43%|████▎     | 514/1199 [11:11<13:19,  1.17s/it, now=None]"
     ]
    },
    {
     "name": "stdout",
     "output_type": "stream",
     "text": [
      "failed\n",
      "No x, y points to fit a line\n",
      "test\n",
      "Fail sanity check - curvature left curvature: 7.0 right curvature: 346.0\n",
      "Fail sanity check - distance at the bottom 3061.2535864142674 right x point: 1092.4131402301587 left x point: -1968.8404461841087\n",
      "Fail sanity check - roughly parallel (maximum distance) 236819.40157539523\n",
      "Fail sanity check - roughly parallel (mean distance) 72652.28437729242\n",
      "Fail sanity check - vehicle position from the lane center -6.9\n"
     ]
    },
    {
     "name": "stderr",
     "output_type": "stream",
     "text": [
      "t:  43%|████▎     | 515/1199 [11:13<13:05,  1.15s/it, now=None]"
     ]
    },
    {
     "name": "stdout",
     "output_type": "stream",
     "text": [
      "failed\n",
      "No x, y points to fit a line\n",
      "test\n",
      "Fail sanity check - curvature left curvature: 8.0 right curvature: 346.0\n",
      "Fail sanity check - distance at the bottom 3060.018338015566 right x point: 1091.1778918314571 left x point: -1968.8404461841087\n",
      "Fail sanity check - roughly parallel (maximum distance) 237077.84077961362\n",
      "Fail sanity check - roughly parallel (mean distance) 72737.52996620147\n",
      "Fail sanity check - vehicle position from the lane center -6.9\n"
     ]
    },
    {
     "name": "stderr",
     "output_type": "stream",
     "text": [
      "t:  43%|████▎     | 516/1199 [11:14<12:42,  1.12s/it, now=None]"
     ]
    },
    {
     "name": "stdout",
     "output_type": "stream",
     "text": [
      "failed\n",
      "No x, y points to fit a line\n",
      "test\n",
      "Fail sanity check - curvature left curvature: 8.0 right curvature: 346.0\n",
      "Fail sanity check - distance at the bottom 3054.7564715134968 right x point: 1085.916025329388 left x point: -1968.8404461841087\n",
      "Fail sanity check - roughly parallel (maximum distance) 236617.78438470647\n",
      "Fail sanity check - roughly parallel (mean distance) 72601.47252246345\n",
      "Fail sanity check - vehicle position from the lane center -6.92\n"
     ]
    },
    {
     "name": "stderr",
     "output_type": "stream",
     "text": [
      "t:  43%|████▎     | 517/1199 [11:15<12:26,  1.09s/it, now=None]"
     ]
    },
    {
     "name": "stdout",
     "output_type": "stream",
     "text": [
      "failed\n",
      "No x, y points to fit a line\n",
      "test\n",
      "Fail sanity check - curvature left curvature: 8.0 right curvature: 346.0\n",
      "Fail sanity check - distance at the bottom 3070.9228821841516 right x point: 1102.082436000043 left x point: -1968.8404461841087\n",
      "Fail sanity check - roughly parallel (maximum distance) 237886.43680971107\n",
      "Fail sanity check - roughly parallel (mean distance) 72985.30390420204\n",
      "Fail sanity check - vehicle position from the lane center -6.87\n"
     ]
    },
    {
     "name": "stderr",
     "output_type": "stream",
     "text": [
      "t:  43%|████▎     | 518/1199 [11:16<12:14,  1.08s/it, now=None]"
     ]
    },
    {
     "name": "stdout",
     "output_type": "stream",
     "text": [
      "failed\n",
      "No x, y points to fit a line\n",
      "test\n",
      "Fail sanity check - curvature left curvature: 8.0 right curvature: 346.0\n",
      "Fail sanity check - distance at the bottom 3099.177723240643 right x point: 1130.3372770565345 left x point: -1968.8404461841087\n",
      "Fail sanity check - roughly parallel (maximum distance) 240029.94648154537\n",
      "Fail sanity check - roughly parallel (mean distance) 73630.82769961708\n",
      "Fail sanity check - vehicle position from the lane center -6.78\n"
     ]
    },
    {
     "name": "stderr",
     "output_type": "stream",
     "text": [
      "t:  43%|████▎     | 519/1199 [11:17<12:16,  1.08s/it, now=None]"
     ]
    },
    {
     "name": "stdout",
     "output_type": "stream",
     "text": [
      "failed\n",
      "No x, y points to fit a line\n",
      "test\n",
      "Fail sanity check - curvature left curvature: 9.0 right curvature: 346.0\n",
      "Fail sanity check - distance at the bottom 3135.563080378058 right x point: 1166.7226341939495 left x point: -1968.8404461841087\n",
      "Fail sanity check - roughly parallel (maximum distance) 243177.1567765624\n",
      "Fail sanity check - roughly parallel (mean distance) 74583.9823221745\n",
      "Fail sanity check - vehicle position from the lane center -6.66\n",
      "failed\n",
      "No x, y points to fit a line\n",
      "Fail sanity check - curvature left curvature: 9.0 right curvature: 346.0\n",
      "Fail sanity check - distance at the bottom 3098.7518432664974 right x point: 1129.911397082389 left x point: -1968.8404461841087\n",
      "Fail sanity check - roughly parallel (maximum distance) 243351.56039836656\n",
      "Fail sanity check - roughly parallel (mean distance) 74608.05773099192\n",
      "Fail sanity check - vehicle position from the lane center -6.77\n"
     ]
    },
    {
     "name": "stderr",
     "output_type": "stream",
     "text": [
      "t:  43%|████▎     | 520/1199 [11:18<12:31,  1.11s/it, now=None]"
     ]
    },
    {
     "name": "stdout",
     "output_type": "stream",
     "text": [
      "failed\n",
      "No x, y points to fit a line\n",
      "Fail sanity check - curvature left curvature: 10.0 right curvature: 346.0\n",
      "Fail sanity check - distance at the bottom 3067.6998768212893 right x point: 1098.8594306371806 left x point: -1968.8404461841087\n",
      "Fail sanity check - roughly parallel (maximum distance) 243895.50452320397\n",
      "Fail sanity check - roughly parallel (mean distance) 74741.53971464203\n"
     ]
    },
    {
     "name": "stderr",
     "output_type": "stream",
     "text": [
      "t:  43%|████▎     | 521/1199 [11:19<12:35,  1.11s/it, now=None]"
     ]
    },
    {
     "name": "stdout",
     "output_type": "stream",
     "text": [
      "Fail sanity check - vehicle position from the lane center -6.87\n"
     ]
    },
    {
     "name": "stderr",
     "output_type": "stream",
     "text": [
      "t:  44%|████▎     | 522/1199 [11:20<12:36,  1.12s/it, now=None]"
     ]
    },
    {
     "name": "stdout",
     "output_type": "stream",
     "text": [
      "Fail sanity check - curvature left curvature: 12.0 right curvature: 61.0\n",
      "Fail sanity check - distance at the bottom 1619.3710645447109 right x point: 1079.6593067338856 left x point: -539.7117578108252\n",
      "Fail sanity check - roughly parallel (maximum distance) 96488.03277506075\n",
      "Fail sanity check - roughly parallel (mean distance) 29829.697904225613\n",
      "Fail sanity check - vehicle position from the lane center -2.38\n"
     ]
    },
    {
     "name": "stderr",
     "output_type": "stream",
     "text": [
      "t:  44%|████▎     | 523/1199 [11:21<12:44,  1.13s/it, now=None]"
     ]
    },
    {
     "name": "stdout",
     "output_type": "stream",
     "text": [
      "Fail sanity check - distance at the bottom 804.4517601949735 right x point: 1057.7197206454603 left x point: 253.26796045048667\n",
      "Fail sanity check - roughly parallel (maximum distance) 17243.34596196494\n",
      "Fail sanity check - roughly parallel (mean distance) 5673.495173610305\n"
     ]
    },
    {
     "name": "stderr",
     "output_type": "stream",
     "text": [
      "t:  44%|████▎     | 524/1199 [11:22<12:40,  1.13s/it, now=None]"
     ]
    },
    {
     "name": "stdout",
     "output_type": "stream",
     "text": [
      "failed\n",
      "No x, y points to fit a line\n",
      "Fail sanity check - distance at the bottom 838.9299368467692 right x point: 1057.7197206454603 left x point: 218.789783798691\n",
      "Fail sanity check - roughly parallel (maximum distance) 17261.795568077327\n",
      "Fail sanity check - roughly parallel (mean distance) 5715.580046571588\n"
     ]
    },
    {
     "name": "stderr",
     "output_type": "stream",
     "text": [
      "t:  44%|████▍     | 525/1199 [11:24<12:41,  1.13s/it, now=None]"
     ]
    },
    {
     "name": "stdout",
     "output_type": "stream",
     "text": [
      "failed\n",
      "No x, y points to fit a line\n",
      "Fail sanity check - distance at the bottom 872.7403019044866 right x point: 1057.7197206454603 left x point: 184.97941874097359\n",
      "Fail sanity check - roughly parallel (maximum distance) 17279.013211572474\n",
      "Fail sanity check - roughly parallel (mean distance) 5756.575431058346\n"
     ]
    },
    {
     "name": "stderr",
     "output_type": "stream",
     "text": [
      "t:  44%|████▍     | 526/1199 [11:25<12:42,  1.13s/it, now=None]"
     ]
    },
    {
     "name": "stdout",
     "output_type": "stream",
     "text": [
      "failed\n",
      "No x, y points to fit a line\n",
      "Fail sanity check - distance at the bottom 906.2091899039378 right x point: 1057.7197206454603 left x point: 151.5105307415224\n",
      "Fail sanity check - roughly parallel (maximum distance) 17295.651924600585\n",
      "Fail sanity check - roughly parallel (mean distance) 5796.807845465587\n",
      "failed\n",
      "No x, y points to fit a line\n",
      "Fail sanity check - distance at the bottom 939.623477815831 right x point: 1057.7197206454603 left x point: 118.09624282962923\n",
      "Fail sanity check - roughly parallel (maximum distance) 17311.518878008163\n",
      "Fail sanity check - roughly parallel (mean distance) 5836.2039842421755\n"
     ]
    },
    {
     "name": "stderr",
     "output_type": "stream",
     "text": [
      "t:  44%|████▍     | 528/1199 [11:27<12:47,  1.14s/it, now=None]"
     ]
    },
    {
     "name": "stdout",
     "output_type": "stream",
     "text": [
      "failed\n",
      "No x, y points to fit a line\n",
      "Fail sanity check - distance at the bottom 972.3572829748821 right x point: 1057.7197206454603 left x point: 85.36243767057812\n",
      "Fail sanity check - roughly parallel (maximum distance) 17327.033226063868\n",
      "Fail sanity check - roughly parallel (mean distance) 5874.577046534164\n"
     ]
    },
    {
     "name": "stderr",
     "output_type": "stream",
     "text": [
      "t:  44%|████▍     | 529/1199 [11:28<12:45,  1.14s/it, now=None]"
     ]
    },
    {
     "name": "stdout",
     "output_type": "stream",
     "text": [
      "failed\n",
      "No x, y points to fit a line\n",
      "Fail sanity check - distance at the bottom 1004.7843569056088 right x point: 1057.7197206454603 left x point: 52.93536373985146\n",
      "Fail sanity check - roughly parallel (maximum distance) 17342.409933243933\n",
      "Fail sanity check - roughly parallel (mean distance) 5912.317863315777\n",
      "Fail sanity check - vehicle position from the lane center -0.54\n",
      "failed\n",
      "No x, y points to fit a line\n"
     ]
    },
    {
     "name": "stderr",
     "output_type": "stream",
     "text": [
      "t:  44%|████▍     | 530/1199 [11:29<13:04,  1.17s/it, now=None]"
     ]
    },
    {
     "name": "stdout",
     "output_type": "stream",
     "text": [
      "Fail sanity check - curvature left curvature: 15.0 right curvature: 192.0\n",
      "Fail sanity check - distance at the bottom 794.4107170964463 right x point: 1057.7197206454603 left x point: 263.30900354901394\n",
      "Fail sanity check - roughly parallel (minimum distance) -3034.79534764491\n",
      "Fail sanity check - roughly parallel (maximum distance) 847.4947673884096\n",
      "Fail sanity check - roughly parallel (mean distance) -314.095134883804\n",
      "failed\n",
      "No x, y points to fit a line\n"
     ]
    },
    {
     "name": "stderr",
     "output_type": "stream",
     "text": [
      "t:  44%|████▍     | 531/1199 [11:32<16:09,  1.45s/it, now=None]"
     ]
    },
    {
     "name": "stdout",
     "output_type": "stream",
     "text": [
      "Fail sanity check - curvature left curvature: 15.0 right curvature: 350.0\n",
      "Fail sanity check - distance at the bottom 758.7562737568934 right x point: 1057.7197206454603 left x point: 298.96344688856686\n",
      "Fail sanity check - roughly parallel (minimum distance) -3122.877678333356\n",
      "Fail sanity check - roughly parallel (maximum distance) 822.6712018985539\n",
      "Fail sanity check - roughly parallel (mean distance) -347.58685229606243\n",
      "failed\n",
      "No x, y points to fit a line\n"
     ]
    },
    {
     "name": "stderr",
     "output_type": "stream",
     "text": [
      "t:  44%|████▍     | 532/1199 [11:33<16:13,  1.46s/it, now=None]"
     ]
    },
    {
     "name": "stdout",
     "output_type": "stream",
     "text": [
      "Fail sanity check - curvature left curvature: 15.0 right curvature: 372.0\n",
      "Fail sanity check - distance at the bottom 754.5284993252011 right x point: 1057.7197206454603 left x point: 303.19122132025916\n",
      "Fail sanity check - roughly parallel (minimum distance) -3145.472000369224\n",
      "Fail sanity check - roughly parallel (maximum distance) 817.6324690522741\n",
      "Fail sanity check - roughly parallel (mean distance) -358.90316362793664\n",
      "failed\n",
      "No x, y points to fit a line\n",
      "failed\n",
      "No x, y points to fit a line\n"
     ]
    },
    {
     "name": "stderr",
     "output_type": "stream",
     "text": [
      "t:  44%|████▍     | 533/1199 [11:35<18:14,  1.64s/it, now=None]"
     ]
    },
    {
     "name": "stdout",
     "output_type": "stream",
     "text": [
      "Fail sanity check - curvature left curvature: 15.0 right curvature: 372.0\n",
      "Fail sanity check - distance at the bottom 754.5284993252011 right x point: 1057.7197206454603 left x point: 303.19122132025916\n",
      "Fail sanity check - roughly parallel (minimum distance) -3145.472000369224\n",
      "Fail sanity check - roughly parallel (maximum distance) 817.6324690522741\n",
      "Fail sanity check - roughly parallel (mean distance) -358.90316362793664\n",
      "failed\n",
      "No x, y points to fit a line\n",
      "failed\n",
      "No x, y points to fit a line\n"
     ]
    },
    {
     "name": "stderr",
     "output_type": "stream",
     "text": [
      "t:  45%|████▍     | 534/1199 [11:37<17:48,  1.61s/it, now=None]"
     ]
    },
    {
     "name": "stdout",
     "output_type": "stream",
     "text": [
      "Fail sanity check - curvature left curvature: 15.0 right curvature: 372.0\n",
      "Fail sanity check - distance at the bottom 754.5284993252011 right x point: 1057.7197206454603 left x point: 303.19122132025916\n",
      "Fail sanity check - roughly parallel (minimum distance) -3145.472000369224\n",
      "Fail sanity check - roughly parallel (maximum distance) 817.6324690522741\n",
      "Fail sanity check - roughly parallel (mean distance) -358.90316362793664\n",
      "failed\n",
      "No x, y points to fit a line\n",
      "failed\n",
      "No x, y points to fit a line\n"
     ]
    },
    {
     "name": "stderr",
     "output_type": "stream",
     "text": [
      "t:  45%|████▍     | 535/1199 [11:38<17:44,  1.60s/it, now=None]"
     ]
    },
    {
     "name": "stdout",
     "output_type": "stream",
     "text": [
      "Fail sanity check - curvature left curvature: 15.0 right curvature: 372.0\n",
      "Fail sanity check - distance at the bottom 754.5284993252011 right x point: 1057.7197206454603 left x point: 303.19122132025916\n",
      "Fail sanity check - roughly parallel (minimum distance) -3145.472000369224\n",
      "Fail sanity check - roughly parallel (maximum distance) 817.6324690522741\n",
      "Fail sanity check - roughly parallel (mean distance) -358.90316362793664\n",
      "failed\n",
      "No x, y points to fit a line\n",
      "failed\n",
      "No x, y points to fit a line\n",
      "Fail sanity check - curvature left curvature: 15.0 right curvature: 372.0\n",
      "Fail sanity check - distance at the bottom 754.5284993252011 right x point: 1057.7197206454603 left x point: 303.19122132025916\n",
      "Fail sanity check - roughly parallel (minimum distance) -3145.472000369224\n",
      "Fail sanity check - roughly parallel (maximum distance) 817.6324690522741\n",
      "Fail sanity check - roughly parallel (mean distance) -358.90316362793664\n"
     ]
    },
    {
     "name": "stderr",
     "output_type": "stream",
     "text": [
      "t:  45%|████▍     | 536/1199 [11:39<16:24,  1.48s/it, now=None]"
     ]
    },
    {
     "name": "stdout",
     "output_type": "stream",
     "text": [
      "failed\n",
      "No x, y points to fit a line\n"
     ]
    },
    {
     "name": "stderr",
     "output_type": "stream",
     "text": [
      "t:  45%|████▍     | 537/1199 [11:41<15:27,  1.40s/it, now=None]"
     ]
    },
    {
     "name": "stdout",
     "output_type": "stream",
     "text": [
      "Fail sanity check - curvature left curvature: 23.0 right curvature: 372.0\n",
      "Fail sanity check - distance at the bottom 735.3944946356384 right x point: 1038.5857159558975 left x point: 303.19122132025916\n",
      "Fail sanity check - roughly parallel (minimum distance) -1566.9130950953004\n",
      "Fail sanity check - roughly parallel (maximum distance) 777.3510994599178\n",
      "Fail sanity check - roughly parallel (mean distance) 85.78580334218383\n",
      "failed\n",
      "No x, y points to fit a line\n"
     ]
    },
    {
     "name": "stderr",
     "output_type": "stream",
     "text": [
      "t:  45%|████▍     | 538/1199 [11:42<14:51,  1.35s/it, now=None]"
     ]
    },
    {
     "name": "stdout",
     "output_type": "stream",
     "text": [
      "Fail sanity check - roughly parallel (minimum distance) 296.92583859710396\n",
      "failed\n",
      "No x, y points to fit a line\n"
     ]
    },
    {
     "name": "stderr",
     "output_type": "stream",
     "text": [
      "t:  45%|████▍     | 539/1199 [11:43<14:30,  1.32s/it, now=None]"
     ]
    },
    {
     "name": "stdout",
     "output_type": "stream",
     "text": [
      "Fail sanity check - roughly parallel (maximum distance) 900.4434144342806\n",
      "Fail sanity check - roughly parallel (mean distance) 764.8224009972845\n"
     ]
    },
    {
     "name": "stderr",
     "output_type": "stream",
     "text": [
      "t:  45%|████▌     | 540/1199 [11:49<29:54,  2.72s/it, now=None]"
     ]
    },
    {
     "name": "stdout",
     "output_type": "stream",
     "text": [
      "Fail sanity check - roughly parallel (maximum distance) 1398.4900536303169\n",
      "Fail sanity check - roughly parallel (mean distance) 877.0753579384286\n"
     ]
    },
    {
     "name": "stderr",
     "output_type": "stream",
     "text": [
      "t:  45%|████▌     | 542/1199 [11:52<21:46,  1.99s/it, now=None]"
     ]
    },
    {
     "name": "stdout",
     "output_type": "stream",
     "text": [
      "Fail sanity check - roughly parallel (minimum distance) 453.9813620153924\n"
     ]
    },
    {
     "name": "stderr",
     "output_type": "stream",
     "text": [
      "t:  45%|████▌     | 543/1199 [11:53<19:29,  1.78s/it, now=None]"
     ]
    },
    {
     "name": "stdout",
     "output_type": "stream",
     "text": [
      "Fail sanity check - roughly parallel (minimum distance) 443.8861273968447\n"
     ]
    },
    {
     "name": "stderr",
     "output_type": "stream",
     "text": [
      "t:  45%|████▌     | 544/1199 [11:54<17:44,  1.63s/it, now=None]"
     ]
    },
    {
     "name": "stdout",
     "output_type": "stream",
     "text": [
      "Fail sanity check - roughly parallel (minimum distance) 437.9089035073958\n",
      "failed\n",
      "No x, y points to fit a line\n"
     ]
    },
    {
     "name": "stderr",
     "output_type": "stream",
     "text": [
      "t:  45%|████▌     | 545/1199 [11:55<16:25,  1.51s/it, now=None]"
     ]
    },
    {
     "name": "stdout",
     "output_type": "stream",
     "text": [
      "Fail sanity check - roughly parallel (minimum distance) 451.69137687750487\n",
      "failed\n",
      "No x, y points to fit a line\n"
     ]
    },
    {
     "name": "stderr",
     "output_type": "stream",
     "text": [
      "t:  46%|████▌     | 546/1199 [11:57<15:30,  1.43s/it, now=None]"
     ]
    },
    {
     "name": "stdout",
     "output_type": "stream",
     "text": [
      "Fail sanity check - roughly parallel (minimum distance) 467.26212599291483\n",
      "failed\n",
      "No x, y points to fit a line\n"
     ]
    },
    {
     "name": "stderr",
     "output_type": "stream",
     "text": [
      "t:  47%|████▋     | 565/1199 [12:21<13:33,  1.28s/it, now=None]"
     ]
    },
    {
     "name": "stdout",
     "output_type": "stream",
     "text": [
      "Fail sanity check - roughly parallel (maximum distance) 797.4559795189542\n",
      "failed\n",
      "No x, y points to fit a line\n"
     ]
    },
    {
     "name": "stderr",
     "output_type": "stream",
     "text": [
      "t:  47%|████▋     | 566/1199 [12:22<13:35,  1.29s/it, now=None]"
     ]
    },
    {
     "name": "stdout",
     "output_type": "stream",
     "text": [
      "Fail sanity check - roughly parallel (maximum distance) 809.05911777594\n",
      "failed\n",
      "No x, y points to fit a line\n"
     ]
    },
    {
     "name": "stderr",
     "output_type": "stream",
     "text": [
      "t:  47%|████▋     | 567/1199 [12:23<13:41,  1.30s/it, now=None]"
     ]
    },
    {
     "name": "stdout",
     "output_type": "stream",
     "text": [
      "Fail sanity check - curvature left curvature: 714.0 right curvature: 141.0\n",
      "Fail sanity check - roughly parallel (maximum distance) 820.5727359663457\n",
      "failed\n",
      "No x, y points to fit a line\n"
     ]
    },
    {
     "name": "stderr",
     "output_type": "stream",
     "text": [
      "t:  47%|████▋     | 568/1199 [12:25<13:38,  1.30s/it, now=None]"
     ]
    },
    {
     "name": "stdout",
     "output_type": "stream",
     "text": [
      "Fail sanity check - curvature left curvature: 784.0 right curvature: 141.0\n",
      "Fail sanity check - roughly parallel (maximum distance) 833.0358078455116\n",
      "failed\n",
      "No x, y points to fit a line\n"
     ]
    },
    {
     "name": "stderr",
     "output_type": "stream",
     "text": [
      "t:  47%|████▋     | 569/1199 [12:26<13:30,  1.29s/it, now=None]"
     ]
    },
    {
     "name": "stdout",
     "output_type": "stream",
     "text": [
      "Fail sanity check - curvature left curvature: 857.0 right curvature: 141.0\n",
      "Fail sanity check - roughly parallel (maximum distance) 846.1022309546447\n",
      "failed\n",
      "No x, y points to fit a line\n"
     ]
    },
    {
     "name": "stderr",
     "output_type": "stream",
     "text": [
      "t:  48%|████▊     | 570/1199 [12:27<13:15,  1.26s/it, now=None]"
     ]
    },
    {
     "name": "stdout",
     "output_type": "stream",
     "text": [
      "Fail sanity check - curvature left curvature: 936.0 right curvature: 141.0\n",
      "Fail sanity check - roughly parallel (maximum distance) 859.952530979417\n",
      "failed\n",
      "No x, y points to fit a line\n"
     ]
    },
    {
     "name": "stderr",
     "output_type": "stream",
     "text": [
      "t:  48%|████▊     | 571/1199 [12:28<13:07,  1.25s/it, now=None]"
     ]
    },
    {
     "name": "stdout",
     "output_type": "stream",
     "text": [
      "Fail sanity check - curvature left curvature: 1036.0 right curvature: 141.0\n",
      "Fail sanity check - roughly parallel (maximum distance) 875.0590848012891\n",
      "failed\n",
      "No x, y points to fit a line\n"
     ]
    },
    {
     "name": "stderr",
     "output_type": "stream",
     "text": [
      "t:  48%|████▊     | 572/1199 [12:30<13:13,  1.26s/it, now=None]"
     ]
    },
    {
     "name": "stdout",
     "output_type": "stream",
     "text": [
      "Fail sanity check - curvature left curvature: 1155.0 right curvature: 141.0\n",
      "Fail sanity check - roughly parallel (maximum distance) 890.4285246435293\n",
      "failed\n",
      "No x, y points to fit a line\n"
     ]
    },
    {
     "name": "stderr",
     "output_type": "stream",
     "text": [
      "t:  48%|████▊     | 573/1199 [12:31<13:20,  1.28s/it, now=None]"
     ]
    },
    {
     "name": "stdout",
     "output_type": "stream",
     "text": [
      "Fail sanity check - curvature left curvature: 1261.0 right curvature: 141.0\n",
      "Fail sanity check - roughly parallel (maximum distance) 904.8764514857257\n",
      "failed\n",
      "No x, y points to fit a line\n"
     ]
    },
    {
     "name": "stderr",
     "output_type": "stream",
     "text": [
      "t:  48%|████▊     | 574/1199 [12:32<13:44,  1.32s/it, now=None]"
     ]
    },
    {
     "name": "stdout",
     "output_type": "stream",
     "text": [
      "Fail sanity check - curvature left curvature: 1303.0 right curvature: 141.0\n",
      "Fail sanity check - roughly parallel (maximum distance) 918.6505292230215\n",
      "failed\n",
      "No x, y points to fit a line\n"
     ]
    },
    {
     "name": "stderr",
     "output_type": "stream",
     "text": [
      "t:  48%|████▊     | 575/1199 [12:34<13:46,  1.32s/it, now=None]"
     ]
    },
    {
     "name": "stdout",
     "output_type": "stream",
     "text": [
      "Fail sanity check - curvature left curvature: 1335.0 right curvature: 141.0\n",
      "Fail sanity check - roughly parallel (maximum distance) 933.1741441986962\n",
      "failed\n",
      "No x, y points to fit a line\n"
     ]
    },
    {
     "name": "stderr",
     "output_type": "stream",
     "text": [
      "t:  48%|████▊     | 576/1199 [12:35<13:24,  1.29s/it, now=None]"
     ]
    },
    {
     "name": "stdout",
     "output_type": "stream",
     "text": [
      "Fail sanity check - curvature left curvature: 1345.0 right curvature: 141.0\n",
      "Fail sanity check - roughly parallel (maximum distance) 947.8873247984166\n",
      "failed\n",
      "No x, y points to fit a line\n"
     ]
    },
    {
     "name": "stderr",
     "output_type": "stream",
     "text": [
      "t:  48%|████▊     | 577/1199 [12:36<13:10,  1.27s/it, now=None]"
     ]
    },
    {
     "name": "stdout",
     "output_type": "stream",
     "text": [
      "Fail sanity check - curvature left curvature: 1306.0 right curvature: 141.0\n",
      "Fail sanity check - roughly parallel (maximum distance) 960.2048218445749\n",
      "failed\n",
      "No x, y points to fit a line\n"
     ]
    },
    {
     "name": "stderr",
     "output_type": "stream",
     "text": [
      "t:  48%|████▊     | 578/1199 [12:37<12:56,  1.25s/it, now=None]"
     ]
    },
    {
     "name": "stdout",
     "output_type": "stream",
     "text": [
      "Fail sanity check - curvature left curvature: 1251.0 right curvature: 141.0\n",
      "Fail sanity check - roughly parallel (maximum distance) 970.432452800033\n",
      "failed\n",
      "No x, y points to fit a line\n"
     ]
    },
    {
     "name": "stderr",
     "output_type": "stream",
     "text": [
      "t:  48%|████▊     | 579/1199 [12:39<12:51,  1.24s/it, now=None]"
     ]
    },
    {
     "name": "stdout",
     "output_type": "stream",
     "text": [
      "Fail sanity check - curvature left curvature: 1189.0 right curvature: 141.0\n",
      "Fail sanity check - roughly parallel (maximum distance) 977.3995235716752\n",
      "failed\n",
      "No x, y points to fit a line\n"
     ]
    },
    {
     "name": "stderr",
     "output_type": "stream",
     "text": [
      "t:  48%|████▊     | 580/1199 [12:40<12:53,  1.25s/it, now=None]"
     ]
    },
    {
     "name": "stdout",
     "output_type": "stream",
     "text": [
      "Fail sanity check - curvature left curvature: 1111.0 right curvature: 141.0\n",
      "Fail sanity check - roughly parallel (maximum distance) 980.5771568085129\n",
      "failed\n",
      "No x, y points to fit a line\n",
      "failed\n",
      "No x, y points to fit a line\n"
     ]
    },
    {
     "name": "stderr",
     "output_type": "stream",
     "text": [
      "t:  48%|████▊     | 581/1199 [12:41<12:34,  1.22s/it, now=None]"
     ]
    },
    {
     "name": "stdout",
     "output_type": "stream",
     "text": [
      "Fail sanity check - curvature left curvature: 1111.0 right curvature: 141.0\n",
      "Fail sanity check - roughly parallel (maximum distance) 980.5771568085129\n",
      "failed\n",
      "No x, y points to fit a line\n"
     ]
    },
    {
     "name": "stderr",
     "output_type": "stream",
     "text": [
      "t:  49%|████▊     | 582/1199 [12:42<12:43,  1.24s/it, now=None]"
     ]
    },
    {
     "name": "stdout",
     "output_type": "stream",
     "text": [
      "Fail sanity check - curvature left curvature: 1026.0 right curvature: 141.0\n",
      "Fail sanity check - roughly parallel (maximum distance) 980.9637550834303\n",
      "failed\n",
      "No x, y points to fit a line\n"
     ]
    },
    {
     "name": "stderr",
     "output_type": "stream",
     "text": [
      "t:  49%|████▊     | 583/1199 [12:44<12:52,  1.25s/it, now=None]"
     ]
    },
    {
     "name": "stdout",
     "output_type": "stream",
     "text": [
      "Fail sanity check - curvature left curvature: 910.0 right curvature: 141.0\n",
      "Fail sanity check - roughly parallel (maximum distance) 978.2542142557685\n",
      "failed\n",
      "No x, y points to fit a line\n"
     ]
    },
    {
     "name": "stderr",
     "output_type": "stream",
     "text": [
      "t:  49%|████▊     | 584/1199 [12:45<12:41,  1.24s/it, now=None]"
     ]
    },
    {
     "name": "stdout",
     "output_type": "stream",
     "text": [
      "Fail sanity check - curvature left curvature: 810.0 right curvature: 141.0\n",
      "Fail sanity check - roughly parallel (maximum distance) 973.5744330977445\n",
      "failed\n",
      "No x, y points to fit a line\n"
     ]
    },
    {
     "name": "stderr",
     "output_type": "stream",
     "text": [
      "t:  49%|████▉     | 585/1199 [12:46<12:35,  1.23s/it, now=None]"
     ]
    },
    {
     "name": "stdout",
     "output_type": "stream",
     "text": [
      "Fail sanity check - curvature left curvature: 771.0 right curvature: 141.0\n",
      "Fail sanity check - roughly parallel (maximum distance) 969.9960229045175\n",
      "failed\n",
      "No x, y points to fit a line\n"
     ]
    },
    {
     "name": "stderr",
     "output_type": "stream",
     "text": [
      "t:  49%|████▉     | 586/1199 [12:47<12:31,  1.23s/it, now=None]"
     ]
    },
    {
     "name": "stdout",
     "output_type": "stream",
     "text": [
      "Fail sanity check - curvature left curvature: 749.0 right curvature: 141.0\n",
      "Fail sanity check - roughly parallel (maximum distance) 965.9873412364268\n",
      "failed\n",
      "No x, y points to fit a line\n"
     ]
    },
    {
     "name": "stderr",
     "output_type": "stream",
     "text": [
      "t:  49%|████▉     | 587/1199 [12:49<12:38,  1.24s/it, now=None]"
     ]
    },
    {
     "name": "stdout",
     "output_type": "stream",
     "text": [
      "Fail sanity check - curvature left curvature: 728.0 right curvature: 141.0\n",
      "Fail sanity check - roughly parallel (maximum distance) 961.0094684151245\n",
      "failed\n",
      "No x, y points to fit a line\n"
     ]
    },
    {
     "name": "stderr",
     "output_type": "stream",
     "text": [
      "t:  49%|████▉     | 588/1199 [12:50<12:36,  1.24s/it, now=None]"
     ]
    },
    {
     "name": "stdout",
     "output_type": "stream",
     "text": [
      "Fail sanity check - curvature left curvature: 742.0 right curvature: 141.0\n",
      "Fail sanity check - roughly parallel (maximum distance) 957.7837728320201\n",
      "failed\n",
      "No x, y points to fit a line\n"
     ]
    },
    {
     "name": "stderr",
     "output_type": "stream",
     "text": [
      "t:  49%|████▉     | 589/1199 [12:51<12:31,  1.23s/it, now=None]"
     ]
    },
    {
     "name": "stdout",
     "output_type": "stream",
     "text": [
      "Fail sanity check - curvature left curvature: 790.0 right curvature: 141.0\n",
      "Fail sanity check - roughly parallel (maximum distance) 954.6159204684745\n",
      "failed\n",
      "No x, y points to fit a line\n"
     ]
    },
    {
     "name": "stderr",
     "output_type": "stream",
     "text": [
      "t:  49%|████▉     | 590/1199 [12:52<12:26,  1.23s/it, now=None]"
     ]
    },
    {
     "name": "stdout",
     "output_type": "stream",
     "text": [
      "Fail sanity check - curvature left curvature: 846.0 right curvature: 141.0\n",
      "Fail sanity check - roughly parallel (maximum distance) 951.976448540569\n",
      "failed\n",
      "No x, y points to fit a line\n"
     ]
    },
    {
     "name": "stderr",
     "output_type": "stream",
     "text": [
      "t:  49%|████▉     | 591/1199 [12:53<12:24,  1.22s/it, now=None]"
     ]
    },
    {
     "name": "stdout",
     "output_type": "stream",
     "text": [
      "Fail sanity check - curvature left curvature: 1099.0 right curvature: 141.0\n",
      "Fail sanity check - roughly parallel (maximum distance) 952.2095377415061\n",
      "failed\n",
      "No x, y points to fit a line\n"
     ]
    },
    {
     "name": "stderr",
     "output_type": "stream",
     "text": [
      "t:  49%|████▉     | 592/1199 [12:55<12:17,  1.22s/it, now=None]"
     ]
    },
    {
     "name": "stdout",
     "output_type": "stream",
     "text": [
      "Fail sanity check - curvature left curvature: 1666.0 right curvature: 141.0\n",
      "Fail sanity check - roughly parallel (maximum distance) 952.8761740301238\n",
      "failed\n",
      "No x, y points to fit a line\n"
     ]
    },
    {
     "name": "stderr",
     "output_type": "stream",
     "text": [
      "t:  49%|████▉     | 593/1199 [12:56<12:09,  1.20s/it, now=None]"
     ]
    },
    {
     "name": "stdout",
     "output_type": "stream",
     "text": [
      "Fail sanity check - roughly parallel (maximum distance) 956.1002573257491\n",
      "failed\n",
      "No x, y points to fit a line\n"
     ]
    },
    {
     "name": "stderr",
     "output_type": "stream",
     "text": [
      "t:  50%|████▉     | 594/1199 [12:57<12:05,  1.20s/it, now=None]"
     ]
    },
    {
     "name": "stdout",
     "output_type": "stream",
     "text": [
      "Fail sanity check - curvature left curvature: 3147.0 right curvature: 141.0\n",
      "Fail sanity check - roughly parallel (maximum distance) 962.0671336063417\n",
      "failed\n",
      "No x, y points to fit a line\n"
     ]
    },
    {
     "name": "stderr",
     "output_type": "stream",
     "text": [
      "t:  50%|████▉     | 595/1199 [12:58<12:09,  1.21s/it, now=None]"
     ]
    },
    {
     "name": "stdout",
     "output_type": "stream",
     "text": [
      "Fail sanity check - curvature left curvature: 1387.0 right curvature: 141.0\n",
      "Fail sanity check - roughly parallel (maximum distance) 966.1737665538718\n",
      "failed\n",
      "No x, y points to fit a line\n"
     ]
    },
    {
     "name": "stderr",
     "output_type": "stream",
     "text": [
      "t:  50%|████▉     | 596/1199 [12:59<12:05,  1.20s/it, now=None]"
     ]
    },
    {
     "name": "stdout",
     "output_type": "stream",
     "text": [
      "Fail sanity check - curvature left curvature: 889.0 right curvature: 141.0\n",
      "Fail sanity check - roughly parallel (maximum distance) 971.13322448903\n",
      "failed\n",
      "No x, y points to fit a line\n",
      "failed\n",
      "No x, y points to fit a line\n"
     ]
    },
    {
     "name": "stderr",
     "output_type": "stream",
     "text": [
      "t:  50%|████▉     | 597/1199 [13:01<11:54,  1.19s/it, now=None]"
     ]
    },
    {
     "name": "stdout",
     "output_type": "stream",
     "text": [
      "Fail sanity check - curvature left curvature: 889.0 right curvature: 141.0\n",
      "Fail sanity check - roughly parallel (maximum distance) 971.13322448903\n",
      "failed\n",
      "No x, y points to fit a line\n",
      "failed\n",
      "No x, y points to fit a line\n"
     ]
    },
    {
     "name": "stderr",
     "output_type": "stream",
     "text": [
      "t:  50%|████▉     | 598/1199 [13:02<11:49,  1.18s/it, now=None]"
     ]
    },
    {
     "name": "stdout",
     "output_type": "stream",
     "text": [
      "Fail sanity check - curvature left curvature: 889.0 right curvature: 141.0\n",
      "Fail sanity check - roughly parallel (maximum distance) 971.13322448903\n",
      "failed\n",
      "No x, y points to fit a line\n",
      "failed\n",
      "No x, y points to fit a line\n"
     ]
    },
    {
     "name": "stderr",
     "output_type": "stream",
     "text": [
      "t:  50%|████▉     | 599/1199 [13:03<11:49,  1.18s/it, now=None]"
     ]
    },
    {
     "name": "stdout",
     "output_type": "stream",
     "text": [
      "Fail sanity check - curvature left curvature: 889.0 right curvature: 141.0\n",
      "Fail sanity check - roughly parallel (maximum distance) 971.13322448903\n",
      "failed\n",
      "No x, y points to fit a line\n"
     ]
    },
    {
     "name": "stderr",
     "output_type": "stream",
     "text": [
      "t:  50%|█████     | 600/1199 [13:04<11:52,  1.19s/it, now=None]"
     ]
    },
    {
     "name": "stdout",
     "output_type": "stream",
     "text": [
      "Fail sanity check - curvature left curvature: 715.0 right curvature: 141.0\n",
      "Fail sanity check - roughly parallel (maximum distance) 980.6380304445522\n",
      "failed\n",
      "No x, y points to fit a line\n"
     ]
    },
    {
     "name": "stderr",
     "output_type": "stream",
     "text": [
      "t:  50%|█████     | 601/1199 [13:05<11:50,  1.19s/it, now=None]"
     ]
    },
    {
     "name": "stdout",
     "output_type": "stream",
     "text": [
      "Fail sanity check - roughly parallel (maximum distance) 990.886954543362\n",
      "failed\n",
      "No x, y points to fit a line\n"
     ]
    },
    {
     "name": "stderr",
     "output_type": "stream",
     "text": [
      "t:  50%|█████     | 602/1199 [13:07<11:51,  1.19s/it, now=None]"
     ]
    },
    {
     "name": "stdout",
     "output_type": "stream",
     "text": [
      "Fail sanity check - roughly parallel (maximum distance) 1002.8487675116978\n",
      "failed\n",
      "No x, y points to fit a line\n"
     ]
    },
    {
     "name": "stderr",
     "output_type": "stream",
     "text": [
      "t:  50%|█████     | 603/1199 [13:08<11:52,  1.20s/it, now=None]"
     ]
    },
    {
     "name": "stdout",
     "output_type": "stream",
     "text": [
      "Fail sanity check - roughly parallel (maximum distance) 1016.1738690849916\n",
      "failed\n",
      "No x, y points to fit a line\n",
      "failed\n",
      "No x, y points to fit a line\n"
     ]
    },
    {
     "name": "stderr",
     "output_type": "stream",
     "text": [
      "t:  50%|█████     | 604/1199 [13:09<11:38,  1.17s/it, now=None]"
     ]
    },
    {
     "name": "stdout",
     "output_type": "stream",
     "text": [
      "Fail sanity check - roughly parallel (maximum distance) 1016.1738690849916\n",
      "failed\n",
      "No x, y points to fit a line\n"
     ]
    },
    {
     "name": "stderr",
     "output_type": "stream",
     "text": [
      "t:  50%|█████     | 605/1199 [13:10<11:41,  1.18s/it, now=None]"
     ]
    },
    {
     "name": "stdout",
     "output_type": "stream",
     "text": [
      "Fail sanity check - roughly parallel (maximum distance) 1034.026994929859\n",
      "failed\n",
      "No x, y points to fit a line\n"
     ]
    },
    {
     "name": "stderr",
     "output_type": "stream",
     "text": [
      "t:  51%|█████     | 606/1199 [13:11<11:42,  1.18s/it, now=None]"
     ]
    },
    {
     "name": "stdout",
     "output_type": "stream",
     "text": [
      "Fail sanity check - roughly parallel (maximum distance) 1045.0773305458329\n",
      "failed\n",
      "No x, y points to fit a line\n"
     ]
    },
    {
     "name": "stderr",
     "output_type": "stream",
     "text": [
      "t:  51%|█████     | 607/1199 [13:12<11:46,  1.19s/it, now=None]"
     ]
    },
    {
     "name": "stdout",
     "output_type": "stream",
     "text": [
      "Fail sanity check - roughly parallel (maximum distance) 1054.554523940456\n",
      "failed\n",
      "No x, y points to fit a line\n"
     ]
    },
    {
     "name": "stderr",
     "output_type": "stream",
     "text": [
      "t:  51%|█████     | 608/1199 [13:14<11:46,  1.20s/it, now=None]"
     ]
    },
    {
     "name": "stdout",
     "output_type": "stream",
     "text": [
      "Fail sanity check - roughly parallel (maximum distance) 1062.5647546580744\n",
      "failed\n",
      "No x, y points to fit a line\n"
     ]
    },
    {
     "name": "stderr",
     "output_type": "stream",
     "text": [
      "t:  51%|█████     | 609/1199 [13:15<11:44,  1.19s/it, now=None]"
     ]
    },
    {
     "name": "stdout",
     "output_type": "stream",
     "text": [
      "Fail sanity check - roughly parallel (maximum distance) 1070.5124560421605\n",
      "failed\n",
      "No x, y points to fit a line\n"
     ]
    },
    {
     "name": "stderr",
     "output_type": "stream",
     "text": [
      "t:  51%|█████     | 610/1199 [13:16<11:43,  1.20s/it, now=None]"
     ]
    },
    {
     "name": "stdout",
     "output_type": "stream",
     "text": [
      "Fail sanity check - roughly parallel (maximum distance) 1076.5374041609246\n",
      "failed\n",
      "No x, y points to fit a line\n"
     ]
    },
    {
     "name": "stderr",
     "output_type": "stream",
     "text": [
      "t:  51%|█████     | 611/1199 [13:17<12:00,  1.23s/it, now=None]"
     ]
    },
    {
     "name": "stdout",
     "output_type": "stream",
     "text": [
      "Fail sanity check - curvature left curvature: 729.0 right curvature: 141.0\n",
      "Fail sanity check - roughly parallel (maximum distance) 1077.3481816484589\n",
      "failed\n",
      "No x, y points to fit a line\n"
     ]
    },
    {
     "name": "stderr",
     "output_type": "stream",
     "text": [
      "t:  51%|█████     | 612/1199 [13:19<12:12,  1.25s/it, now=None]"
     ]
    },
    {
     "name": "stdout",
     "output_type": "stream",
     "text": [
      "Fail sanity check - curvature left curvature: 937.0 right curvature: 141.0\n",
      "Fail sanity check - roughly parallel (maximum distance) 1075.7110683666995\n",
      "failed\n",
      "No x, y points to fit a line\n"
     ]
    },
    {
     "name": "stderr",
     "output_type": "stream",
     "text": [
      "t:  51%|█████     | 613/1199 [13:20<12:07,  1.24s/it, now=None]"
     ]
    },
    {
     "name": "stdout",
     "output_type": "stream",
     "text": [
      "Fail sanity check - curvature left curvature: 1575.0 right curvature: 141.0\n",
      "Fail sanity check - roughly parallel (maximum distance) 1072.1351939988203\n"
     ]
    },
    {
     "name": "stderr",
     "output_type": "stream",
     "text": [
      "t:  51%|█████     | 614/1199 [13:21<12:05,  1.24s/it, now=None]"
     ]
    },
    {
     "name": "stdout",
     "output_type": "stream",
     "text": [
      "Fail sanity check - roughly parallel (maximum distance) 1032.556117190408\n"
     ]
    },
    {
     "name": "stderr",
     "output_type": "stream",
     "text": [
      "t:  51%|█████▏    | 615/1199 [13:22<12:10,  1.25s/it, now=None]"
     ]
    },
    {
     "name": "stdout",
     "output_type": "stream",
     "text": [
      "Fail sanity check - curvature left curvature: 2642.0 right curvature: 161.0\n",
      "Fail sanity check - roughly parallel (maximum distance) 976.3277779669306\n"
     ]
    },
    {
     "name": "stderr",
     "output_type": "stream",
     "text": [
      "t:  51%|█████▏    | 616/1199 [13:24<12:06,  1.25s/it, now=None]"
     ]
    },
    {
     "name": "stdout",
     "output_type": "stream",
     "text": [
      "Fail sanity check - curvature left curvature: 1658.0 right curvature: 180.0\n",
      "Fail sanity check - roughly parallel (maximum distance) 925.6300324178266\n"
     ]
    },
    {
     "name": "stderr",
     "output_type": "stream",
     "text": [
      "t:  51%|█████▏    | 617/1199 [13:25<12:02,  1.24s/it, now=None]"
     ]
    },
    {
     "name": "stdout",
     "output_type": "stream",
     "text": [
      "Fail sanity check - curvature left curvature: 1197.0 right curvature: 207.0\n",
      "Fail sanity check - roughly parallel (maximum distance) 872.4837350463599\n"
     ]
    },
    {
     "name": "stderr",
     "output_type": "stream",
     "text": [
      "t:  52%|█████▏    | 618/1199 [13:26<11:59,  1.24s/it, now=None]"
     ]
    },
    {
     "name": "stdout",
     "output_type": "stream",
     "text": [
      "Fail sanity check - roughly parallel (maximum distance) 811.5526561078309\n",
      "failed\n",
      "No x, y points to fit a line\n"
     ]
    },
    {
     "name": "stderr",
     "output_type": "stream",
     "text": [
      "t:  52%|█████▏    | 619/1199 [13:27<12:12,  1.26s/it, now=None]"
     ]
    },
    {
     "name": "stdout",
     "output_type": "stream",
     "text": [
      "Fail sanity check - roughly parallel (maximum distance) 812.4328952141858\n",
      "failed\n",
      "No x, y points to fit a line\n"
     ]
    },
    {
     "name": "stderr",
     "output_type": "stream",
     "text": [
      "t:  52%|█████▏    | 620/1199 [13:29<12:37,  1.31s/it, now=None]"
     ]
    },
    {
     "name": "stdout",
     "output_type": "stream",
     "text": [
      "Fail sanity check - roughly parallel (maximum distance) 813.0378879839197\n",
      "failed\n",
      "No x, y points to fit a line\n"
     ]
    },
    {
     "name": "stderr",
     "output_type": "stream",
     "text": [
      "t:  52%|█████▏    | 621/1199 [13:30<12:24,  1.29s/it, now=None]"
     ]
    },
    {
     "name": "stdout",
     "output_type": "stream",
     "text": [
      "Fail sanity check - roughly parallel (maximum distance) 815.0117736615185\n"
     ]
    },
    {
     "name": "stderr",
     "output_type": "stream",
     "text": [
      "t:  52%|█████▏    | 622/1199 [13:31<12:23,  1.29s/it, now=None]"
     ]
    },
    {
     "name": "stdout",
     "output_type": "stream",
     "text": [
      "Fail sanity check - roughly parallel (maximum distance) 760.8636621931241\n"
     ]
    },
    {
     "name": "stderr",
     "output_type": "stream",
     "text": [
      "t:  54%|█████▍    | 650/1199 [14:09<12:11,  1.33s/it, now=None]"
     ]
    },
    {
     "ename": "KeyboardInterrupt",
     "evalue": "",
     "output_type": "error",
     "traceback": [
      "\u001b[0;31m---------------------------------------------------------------------------\u001b[0m",
      "\u001b[0;31mKeyboardInterrupt\u001b[0m                         Traceback (most recent call last)",
      "\u001b[0;31mKeyboardInterrupt\u001b[0m: ",
      "\nThe above exception was the direct cause of the following exception:\n",
      "\u001b[0;31mSystemError\u001b[0m                               Traceback (most recent call last)",
      "\u001b[0;31mSystemError\u001b[0m: <built-in method write of _io.BufferedWriter object at 0x3bba55a90> returned a result with an error set",
      "\nThe above exception was the direct cause of the following exception:\n",
      "\u001b[0;31mSystemError\u001b[0m                               Traceback (most recent call last)",
      "\u001b[0;31mSystemError\u001b[0m: <built-in method write of _io.BufferedWriter object at 0x3bba55a90> returned a result with an error set",
      "\nThe above exception was the direct cause of the following exception:\n",
      "\u001b[0;31mSystemError\u001b[0m                               Traceback (most recent call last)",
      "\u001b[0;31mSystemError\u001b[0m: <built-in method write of _io.BufferedWriter object at 0x3bba55a90> returned a result with an error set",
      "\nThe above exception was the direct cause of the following exception:\n",
      "\u001b[0;31mSystemError\u001b[0m                               Traceback (most recent call last)",
      "\u001b[0;31mSystemError\u001b[0m: <built-in method write of _io.BufferedWriter object at 0x3bba55a90> returned a result with an error set",
      "\nThe above exception was the direct cause of the following exception:\n",
      "\u001b[0;31mSystemError\u001b[0m                               Traceback (most recent call last)",
      "\u001b[0;31mSystemError\u001b[0m: <built-in method write of _io.BufferedWriter object at 0x3bba55a90> returned a result with an error set",
      "\nThe above exception was the direct cause of the following exception:\n",
      "\u001b[0;31mSystemError\u001b[0m                               Traceback (most recent call last)",
      "\u001b[0;31mSystemError\u001b[0m: <built-in method write of _io.BufferedWriter object at 0x3bba55a90> returned a result with an error set",
      "\nThe above exception was the direct cause of the following exception:\n",
      "\u001b[0;31mSystemError\u001b[0m                               Traceback (most recent call last)",
      "\u001b[0;31mSystemError\u001b[0m: <built-in method write of _io.BufferedWriter object at 0x3bba55a90> returned a result with an error set",
      "\nThe above exception was the direct cause of the following exception:\n",
      "\u001b[0;31mSystemError\u001b[0m                               Traceback (most recent call last)",
      "\u001b[0;32m~/opt/miniconda3/envs/carnd-term1/lib/python3.8/site-packages/moviepy/video/io/ffmpeg_writer.py\u001b[0m in \u001b[0;36mffmpeg_write_video\u001b[0;34m(clip, filename, fps, codec, bitrate, preset, withmask, write_logfile, audiofile, verbose, threads, ffmpeg_params, logger)\u001b[0m\n\u001b[1;32m    214\u001b[0m \u001b[0;34m\u001b[0m\u001b[0m\n\u001b[0;32m--> 215\u001b[0;31m         for t,frame in clip.iter_frames(logger=logger, with_times=True,\n\u001b[0m\u001b[1;32m    216\u001b[0m                                         fps=fps, dtype=\"uint8\"):\n",
      "\u001b[0;32m~/opt/miniconda3/envs/carnd-term1/lib/python3.8/site-packages/moviepy/Clip.py\u001b[0m in \u001b[0;36miter_frames\u001b[0;34m(self, fps, with_times, logger, dtype)\u001b[0m\n\u001b[1;32m    474\u001b[0m         \u001b[0;32mfor\u001b[0m \u001b[0mt\u001b[0m \u001b[0;32min\u001b[0m \u001b[0mlogger\u001b[0m\u001b[0;34m.\u001b[0m\u001b[0miter_bar\u001b[0m\u001b[0;34m(\u001b[0m\u001b[0mt\u001b[0m\u001b[0;34m=\u001b[0m\u001b[0mnp\u001b[0m\u001b[0;34m.\u001b[0m\u001b[0marange\u001b[0m\u001b[0;34m(\u001b[0m\u001b[0;36m0\u001b[0m\u001b[0;34m,\u001b[0m \u001b[0mself\u001b[0m\u001b[0;34m.\u001b[0m\u001b[0mduration\u001b[0m\u001b[0;34m,\u001b[0m \u001b[0;36m1.0\u001b[0m\u001b[0;34m/\u001b[0m\u001b[0mfps\u001b[0m\u001b[0;34m)\u001b[0m\u001b[0;34m)\u001b[0m\u001b[0;34m:\u001b[0m\u001b[0;34m\u001b[0m\u001b[0;34m\u001b[0m\u001b[0m\n\u001b[0;32m--> 475\u001b[0;31m             \u001b[0mframe\u001b[0m \u001b[0;34m=\u001b[0m \u001b[0mself\u001b[0m\u001b[0;34m.\u001b[0m\u001b[0mget_frame\u001b[0m\u001b[0;34m(\u001b[0m\u001b[0mt\u001b[0m\u001b[0;34m)\u001b[0m\u001b[0;34m\u001b[0m\u001b[0;34m\u001b[0m\u001b[0m\n\u001b[0m\u001b[1;32m    476\u001b[0m             \u001b[0;32mif\u001b[0m \u001b[0;34m(\u001b[0m\u001b[0mdtype\u001b[0m \u001b[0;32mis\u001b[0m \u001b[0;32mnot\u001b[0m \u001b[0;32mNone\u001b[0m\u001b[0;34m)\u001b[0m \u001b[0;32mand\u001b[0m \u001b[0;34m(\u001b[0m\u001b[0mframe\u001b[0m\u001b[0;34m.\u001b[0m\u001b[0mdtype\u001b[0m \u001b[0;34m!=\u001b[0m \u001b[0mdtype\u001b[0m\u001b[0;34m)\u001b[0m\u001b[0;34m:\u001b[0m\u001b[0;34m\u001b[0m\u001b[0;34m\u001b[0m\u001b[0m\n",
      "\u001b[0;32m<decorator-gen-135>\u001b[0m in \u001b[0;36mget_frame\u001b[0;34m(self, t)\u001b[0m\n",
      "\u001b[0;32m~/opt/miniconda3/envs/carnd-term1/lib/python3.8/site-packages/moviepy/decorators.py\u001b[0m in \u001b[0;36mwrapper\u001b[0;34m(f, *a, **kw)\u001b[0m\n\u001b[1;32m     88\u001b[0m                  for (k,v) in kw.items()}\n\u001b[0;32m---> 89\u001b[0;31m         \u001b[0;32mreturn\u001b[0m \u001b[0mf\u001b[0m\u001b[0;34m(\u001b[0m\u001b[0;34m*\u001b[0m\u001b[0mnew_a\u001b[0m\u001b[0;34m,\u001b[0m \u001b[0;34m**\u001b[0m\u001b[0mnew_kw\u001b[0m\u001b[0;34m)\u001b[0m\u001b[0;34m\u001b[0m\u001b[0;34m\u001b[0m\u001b[0m\n\u001b[0m\u001b[1;32m     90\u001b[0m     \u001b[0;32mreturn\u001b[0m \u001b[0mdecorator\u001b[0m\u001b[0;34m.\u001b[0m\u001b[0mdecorator\u001b[0m\u001b[0;34m(\u001b[0m\u001b[0mwrapper\u001b[0m\u001b[0;34m)\u001b[0m\u001b[0;34m\u001b[0m\u001b[0;34m\u001b[0m\u001b[0m\n",
      "\u001b[0;32m~/opt/miniconda3/envs/carnd-term1/lib/python3.8/site-packages/moviepy/Clip.py\u001b[0m in \u001b[0;36mget_frame\u001b[0;34m(self, t)\u001b[0m\n\u001b[1;32m     94\u001b[0m         \u001b[0;32melse\u001b[0m\u001b[0;34m:\u001b[0m\u001b[0;34m\u001b[0m\u001b[0;34m\u001b[0m\u001b[0m\n\u001b[0;32m---> 95\u001b[0;31m             \u001b[0;32mreturn\u001b[0m \u001b[0mself\u001b[0m\u001b[0;34m.\u001b[0m\u001b[0mmake_frame\u001b[0m\u001b[0;34m(\u001b[0m\u001b[0mt\u001b[0m\u001b[0;34m)\u001b[0m\u001b[0;34m\u001b[0m\u001b[0;34m\u001b[0m\u001b[0m\n\u001b[0m\u001b[1;32m     96\u001b[0m \u001b[0;34m\u001b[0m\u001b[0m\n",
      "\u001b[0;32m~/opt/miniconda3/envs/carnd-term1/lib/python3.8/site-packages/moviepy/Clip.py\u001b[0m in \u001b[0;36m<lambda>\u001b[0;34m(t)\u001b[0m\n\u001b[1;32m    137\u001b[0m         \u001b[0;31m#mf = copy(self.make_frame)\u001b[0m\u001b[0;34m\u001b[0m\u001b[0;34m\u001b[0m\u001b[0;34m\u001b[0m\u001b[0m\n\u001b[0;32m--> 138\u001b[0;31m         \u001b[0mnewclip\u001b[0m \u001b[0;34m=\u001b[0m \u001b[0mself\u001b[0m\u001b[0;34m.\u001b[0m\u001b[0mset_make_frame\u001b[0m\u001b[0;34m(\u001b[0m\u001b[0;32mlambda\u001b[0m \u001b[0mt\u001b[0m\u001b[0;34m:\u001b[0m \u001b[0mfun\u001b[0m\u001b[0;34m(\u001b[0m\u001b[0mself\u001b[0m\u001b[0;34m.\u001b[0m\u001b[0mget_frame\u001b[0m\u001b[0;34m,\u001b[0m \u001b[0mt\u001b[0m\u001b[0;34m)\u001b[0m\u001b[0;34m)\u001b[0m\u001b[0;34m\u001b[0m\u001b[0;34m\u001b[0m\u001b[0m\n\u001b[0m\u001b[1;32m    139\u001b[0m \u001b[0;34m\u001b[0m\u001b[0m\n",
      "\u001b[0;32m~/opt/miniconda3/envs/carnd-term1/lib/python3.8/site-packages/moviepy/video/VideoClip.py\u001b[0m in \u001b[0;36m<lambda>\u001b[0;34m(gf, t)\u001b[0m\n\u001b[1;32m    517\u001b[0m             \u001b[0mapply_to\u001b[0m \u001b[0;34m=\u001b[0m \u001b[0;34m[\u001b[0m\u001b[0;34m]\u001b[0m\u001b[0;34m\u001b[0m\u001b[0;34m\u001b[0m\u001b[0m\n\u001b[0;32m--> 518\u001b[0;31m         \u001b[0;32mreturn\u001b[0m \u001b[0mself\u001b[0m\u001b[0;34m.\u001b[0m\u001b[0mfl\u001b[0m\u001b[0;34m(\u001b[0m\u001b[0;32mlambda\u001b[0m \u001b[0mgf\u001b[0m\u001b[0;34m,\u001b[0m \u001b[0mt\u001b[0m\u001b[0;34m:\u001b[0m \u001b[0mimage_func\u001b[0m\u001b[0;34m(\u001b[0m\u001b[0mgf\u001b[0m\u001b[0;34m(\u001b[0m\u001b[0mt\u001b[0m\u001b[0;34m)\u001b[0m\u001b[0;34m)\u001b[0m\u001b[0;34m,\u001b[0m \u001b[0mapply_to\u001b[0m\u001b[0;34m)\u001b[0m\u001b[0;34m\u001b[0m\u001b[0;34m\u001b[0m\u001b[0m\n\u001b[0m\u001b[1;32m    519\u001b[0m \u001b[0;34m\u001b[0m\u001b[0m\n",
      "\u001b[0;32m~/PycharmProjects/self-driving-car/CarND-AdvancedLaneLines/CarND-Advanced-Lane-Lines/frame.py\u001b[0m in \u001b[0;36m__call__\u001b[0;34m(self, frame)\u001b[0m\n\u001b[1;32m    104\u001b[0m         \u001b[0;32mif\u001b[0m \u001b[0;34m(\u001b[0m\u001b[0mself\u001b[0m\u001b[0;34m.\u001b[0m\u001b[0mdebug\u001b[0m\u001b[0;34m)\u001b[0m \u001b[0;34m&\u001b[0m \u001b[0;34m(\u001b[0m\u001b[0;34m(\u001b[0m\u001b[0mself\u001b[0m\u001b[0;34m.\u001b[0m\u001b[0mcount\u001b[0m \u001b[0;34m%\u001b[0m \u001b[0mself\u001b[0m\u001b[0;34m.\u001b[0m\u001b[0mcount_max\u001b[0m\u001b[0;34m)\u001b[0m \u001b[0;34m==\u001b[0m \u001b[0;36m0\u001b[0m\u001b[0;34m)\u001b[0m \u001b[0;34m:\u001b[0m\u001b[0;34m\u001b[0m\u001b[0;34m\u001b[0m\u001b[0m\n\u001b[0;32m--> 105\u001b[0;31m             \u001b[0msave_lane_lines_image\u001b[0m\u001b[0;34m(\u001b[0m\u001b[0;34m\"output_images/test_images/challenge\"\u001b[0m\u001b[0;34m,\u001b[0m \u001b[0;34m\"challenge\"\u001b[0m \u001b[0;34m+\u001b[0m \u001b[0mstr\u001b[0m\u001b[0;34m(\u001b[0m\u001b[0mself\u001b[0m\u001b[0;34m.\u001b[0m\u001b[0mcount\u001b[0m\u001b[0;34m)\u001b[0m \u001b[0;34m,\u001b[0m \u001b[0mout_img\u001b[0m\u001b[0;34m)\u001b[0m\u001b[0;34m\u001b[0m\u001b[0;34m\u001b[0m\u001b[0m\n\u001b[0m\u001b[1;32m    106\u001b[0m \u001b[0;34m\u001b[0m\u001b[0m\n",
      "\u001b[0;32m~/PycharmProjects/self-driving-car/CarND-AdvancedLaneLines/CarND-Advanced-Lane-Lines/helper_functions.py\u001b[0m in \u001b[0;36msave_lane_lines_image\u001b[0;34m(output_path, image_name, image)\u001b[0m\n\u001b[1;32m    360\u001b[0m     \u001b[0mplt\u001b[0m\u001b[0;34m.\u001b[0m\u001b[0mtitle\u001b[0m\u001b[0;34m(\u001b[0m\u001b[0;34m'Lane Lines Image'\u001b[0m\u001b[0;34m,\u001b[0m \u001b[0mfontsize\u001b[0m\u001b[0;34m=\u001b[0m\u001b[0;36m20\u001b[0m\u001b[0;34m)\u001b[0m\u001b[0;34m\u001b[0m\u001b[0;34m\u001b[0m\u001b[0m\n\u001b[0;32m--> 361\u001b[0;31m     \u001b[0mplt\u001b[0m\u001b[0;34m.\u001b[0m\u001b[0msavefig\u001b[0m\u001b[0;34m(\u001b[0m\u001b[0mos\u001b[0m\u001b[0;34m.\u001b[0m\u001b[0mpath\u001b[0m\u001b[0;34m.\u001b[0m\u001b[0mjoin\u001b[0m\u001b[0;34m(\u001b[0m\u001b[0moutput_path\u001b[0m\u001b[0;34m,\u001b[0m \u001b[0;34m\"lane_lines_\"\u001b[0m \u001b[0;34m+\u001b[0m \u001b[0mos\u001b[0m\u001b[0;34m.\u001b[0m\u001b[0mpath\u001b[0m\u001b[0;34m.\u001b[0m\u001b[0mbasename\u001b[0m\u001b[0;34m(\u001b[0m\u001b[0mimage_name\u001b[0m\u001b[0;34m)\u001b[0m\u001b[0;34m)\u001b[0m\u001b[0;34m)\u001b[0m\u001b[0;34m\u001b[0m\u001b[0;34m\u001b[0m\u001b[0m\n\u001b[0m\u001b[1;32m    362\u001b[0m \u001b[0;34m\u001b[0m\u001b[0m\n",
      "\u001b[0;32m~/opt/miniconda3/envs/carnd-term1/lib/python3.8/site-packages/matplotlib/pyplot.py\u001b[0m in \u001b[0;36msavefig\u001b[0;34m(*args, **kwargs)\u001b[0m\n\u001b[1;32m    722\u001b[0m     \u001b[0mfig\u001b[0m \u001b[0;34m=\u001b[0m \u001b[0mgcf\u001b[0m\u001b[0;34m(\u001b[0m\u001b[0;34m)\u001b[0m\u001b[0;34m\u001b[0m\u001b[0;34m\u001b[0m\u001b[0m\n\u001b[0;32m--> 723\u001b[0;31m     \u001b[0mres\u001b[0m \u001b[0;34m=\u001b[0m \u001b[0mfig\u001b[0m\u001b[0;34m.\u001b[0m\u001b[0msavefig\u001b[0m\u001b[0;34m(\u001b[0m\u001b[0;34m*\u001b[0m\u001b[0margs\u001b[0m\u001b[0;34m,\u001b[0m \u001b[0;34m**\u001b[0m\u001b[0mkwargs\u001b[0m\u001b[0;34m)\u001b[0m\u001b[0;34m\u001b[0m\u001b[0;34m\u001b[0m\u001b[0m\n\u001b[0m\u001b[1;32m    724\u001b[0m     \u001b[0mfig\u001b[0m\u001b[0;34m.\u001b[0m\u001b[0mcanvas\u001b[0m\u001b[0;34m.\u001b[0m\u001b[0mdraw_idle\u001b[0m\u001b[0;34m(\u001b[0m\u001b[0;34m)\u001b[0m   \u001b[0;31m# need this if 'transparent=True' to reset colors\u001b[0m\u001b[0;34m\u001b[0m\u001b[0;34m\u001b[0m\u001b[0m\n",
      "\u001b[0;32m~/opt/miniconda3/envs/carnd-term1/lib/python3.8/site-packages/matplotlib/figure.py\u001b[0m in \u001b[0;36msavefig\u001b[0;34m(self, fname, transparent, **kwargs)\u001b[0m\n\u001b[1;32m   2202\u001b[0m \u001b[0;34m\u001b[0m\u001b[0m\n\u001b[0;32m-> 2203\u001b[0;31m         \u001b[0mself\u001b[0m\u001b[0;34m.\u001b[0m\u001b[0mcanvas\u001b[0m\u001b[0;34m.\u001b[0m\u001b[0mprint_figure\u001b[0m\u001b[0;34m(\u001b[0m\u001b[0mfname\u001b[0m\u001b[0;34m,\u001b[0m \u001b[0;34m**\u001b[0m\u001b[0mkwargs\u001b[0m\u001b[0;34m)\u001b[0m\u001b[0;34m\u001b[0m\u001b[0;34m\u001b[0m\u001b[0m\n\u001b[0m\u001b[1;32m   2204\u001b[0m \u001b[0;34m\u001b[0m\u001b[0m\n",
      "\u001b[0;32m~/opt/miniconda3/envs/carnd-term1/lib/python3.8/site-packages/matplotlib/backend_bases.py\u001b[0m in \u001b[0;36mprint_figure\u001b[0;34m(self, filename, dpi, facecolor, edgecolor, orientation, format, bbox_inches, **kwargs)\u001b[0m\n\u001b[1;32m   2097\u001b[0m             \u001b[0;32mtry\u001b[0m\u001b[0;34m:\u001b[0m\u001b[0;34m\u001b[0m\u001b[0;34m\u001b[0m\u001b[0m\n\u001b[0;32m-> 2098\u001b[0;31m                 result = print_method(\n\u001b[0m\u001b[1;32m   2099\u001b[0m                     \u001b[0mfilename\u001b[0m\u001b[0;34m,\u001b[0m\u001b[0;34m\u001b[0m\u001b[0;34m\u001b[0m\u001b[0m\n",
      "\u001b[0;32m~/opt/miniconda3/envs/carnd-term1/lib/python3.8/site-packages/matplotlib/backends/backend_agg.py\u001b[0m in \u001b[0;36mprint_png\u001b[0;34m(self, filename_or_obj, metadata, pil_kwargs, *args, **kwargs)\u001b[0m\n\u001b[1;32m    535\u001b[0m             \u001b[0;32mwith\u001b[0m \u001b[0mcbook\u001b[0m\u001b[0;34m.\u001b[0m\u001b[0mopen_file_cm\u001b[0m\u001b[0;34m(\u001b[0m\u001b[0mfilename_or_obj\u001b[0m\u001b[0;34m,\u001b[0m \u001b[0;34m\"wb\"\u001b[0m\u001b[0;34m)\u001b[0m \u001b[0;32mas\u001b[0m \u001b[0mfh\u001b[0m\u001b[0;34m:\u001b[0m\u001b[0;34m\u001b[0m\u001b[0;34m\u001b[0m\u001b[0m\n\u001b[0;32m--> 536\u001b[0;31m                 _png.write_png(renderer._renderer, fh, self.figure.dpi,\n\u001b[0m\u001b[1;32m    537\u001b[0m                                metadata={**default_metadata, **metadata})\n",
      "\u001b[0;31mSystemError\u001b[0m: <built-in method write of _io.BufferedWriter object at 0x3bba55a90> returned a result with an error set",
      "\nDuring handling of the above exception, another exception occurred:\n",
      "\u001b[0;31mKeyboardInterrupt\u001b[0m                         Traceback (most recent call last)",
      "\u001b[0;32m<timed eval>\u001b[0m in \u001b[0;36m<module>\u001b[0;34m\u001b[0m\n",
      "\u001b[0;32m<decorator-gen-176>\u001b[0m in \u001b[0;36mwrite_videofile\u001b[0;34m(self, filename, fps, codec, bitrate, audio, audio_fps, preset, audio_nbytes, audio_codec, audio_bitrate, audio_bufsize, temp_audiofile, rewrite_audio, remove_temp, write_logfile, verbose, threads, ffmpeg_params, logger)\u001b[0m\n",
      "\u001b[0;32m~/opt/miniconda3/envs/carnd-term1/lib/python3.8/site-packages/moviepy/decorators.py\u001b[0m in \u001b[0;36mrequires_duration\u001b[0;34m(f, clip, *a, **k)\u001b[0m\n\u001b[1;32m     52\u001b[0m         \u001b[0;32mraise\u001b[0m \u001b[0mValueError\u001b[0m\u001b[0;34m(\u001b[0m\u001b[0;34m\"Attribute 'duration' not set\"\u001b[0m\u001b[0;34m)\u001b[0m\u001b[0;34m\u001b[0m\u001b[0;34m\u001b[0m\u001b[0m\n\u001b[1;32m     53\u001b[0m     \u001b[0;32melse\u001b[0m\u001b[0;34m:\u001b[0m\u001b[0;34m\u001b[0m\u001b[0;34m\u001b[0m\u001b[0m\n\u001b[0;32m---> 54\u001b[0;31m         \u001b[0;32mreturn\u001b[0m \u001b[0mf\u001b[0m\u001b[0;34m(\u001b[0m\u001b[0mclip\u001b[0m\u001b[0;34m,\u001b[0m \u001b[0;34m*\u001b[0m\u001b[0ma\u001b[0m\u001b[0;34m,\u001b[0m \u001b[0;34m**\u001b[0m\u001b[0mk\u001b[0m\u001b[0;34m)\u001b[0m\u001b[0;34m\u001b[0m\u001b[0;34m\u001b[0m\u001b[0m\n\u001b[0m\u001b[1;32m     55\u001b[0m \u001b[0;34m\u001b[0m\u001b[0m\n\u001b[1;32m     56\u001b[0m \u001b[0;34m\u001b[0m\u001b[0m\n",
      "\u001b[0;32m<decorator-gen-175>\u001b[0m in \u001b[0;36mwrite_videofile\u001b[0;34m(self, filename, fps, codec, bitrate, audio, audio_fps, preset, audio_nbytes, audio_codec, audio_bitrate, audio_bufsize, temp_audiofile, rewrite_audio, remove_temp, write_logfile, verbose, threads, ffmpeg_params, logger)\u001b[0m\n",
      "\u001b[0;32m~/opt/miniconda3/envs/carnd-term1/lib/python3.8/site-packages/moviepy/decorators.py\u001b[0m in \u001b[0;36muse_clip_fps_by_default\u001b[0;34m(f, clip, *a, **k)\u001b[0m\n\u001b[1;32m    135\u001b[0m              for (k,v) in k.items()}\n\u001b[1;32m    136\u001b[0m \u001b[0;34m\u001b[0m\u001b[0m\n\u001b[0;32m--> 137\u001b[0;31m     \u001b[0;32mreturn\u001b[0m \u001b[0mf\u001b[0m\u001b[0;34m(\u001b[0m\u001b[0mclip\u001b[0m\u001b[0;34m,\u001b[0m \u001b[0;34m*\u001b[0m\u001b[0mnew_a\u001b[0m\u001b[0;34m,\u001b[0m \u001b[0;34m**\u001b[0m\u001b[0mnew_kw\u001b[0m\u001b[0;34m)\u001b[0m\u001b[0;34m\u001b[0m\u001b[0;34m\u001b[0m\u001b[0m\n\u001b[0m",
      "\u001b[0;32m<decorator-gen-174>\u001b[0m in \u001b[0;36mwrite_videofile\u001b[0;34m(self, filename, fps, codec, bitrate, audio, audio_fps, preset, audio_nbytes, audio_codec, audio_bitrate, audio_bufsize, temp_audiofile, rewrite_audio, remove_temp, write_logfile, verbose, threads, ffmpeg_params, logger)\u001b[0m\n",
      "\u001b[0;32m~/opt/miniconda3/envs/carnd-term1/lib/python3.8/site-packages/moviepy/decorators.py\u001b[0m in \u001b[0;36mconvert_masks_to_RGB\u001b[0;34m(f, clip, *a, **k)\u001b[0m\n\u001b[1;32m     20\u001b[0m     \u001b[0;32mif\u001b[0m \u001b[0mclip\u001b[0m\u001b[0;34m.\u001b[0m\u001b[0mismask\u001b[0m\u001b[0;34m:\u001b[0m\u001b[0;34m\u001b[0m\u001b[0;34m\u001b[0m\u001b[0m\n\u001b[1;32m     21\u001b[0m         \u001b[0mclip\u001b[0m \u001b[0;34m=\u001b[0m \u001b[0mclip\u001b[0m\u001b[0;34m.\u001b[0m\u001b[0mto_RGB\u001b[0m\u001b[0;34m(\u001b[0m\u001b[0;34m)\u001b[0m\u001b[0;34m\u001b[0m\u001b[0;34m\u001b[0m\u001b[0m\n\u001b[0;32m---> 22\u001b[0;31m     \u001b[0;32mreturn\u001b[0m \u001b[0mf\u001b[0m\u001b[0;34m(\u001b[0m\u001b[0mclip\u001b[0m\u001b[0;34m,\u001b[0m \u001b[0;34m*\u001b[0m\u001b[0ma\u001b[0m\u001b[0;34m,\u001b[0m \u001b[0;34m**\u001b[0m\u001b[0mk\u001b[0m\u001b[0;34m)\u001b[0m\u001b[0;34m\u001b[0m\u001b[0;34m\u001b[0m\u001b[0m\n\u001b[0m\u001b[1;32m     23\u001b[0m \u001b[0;34m\u001b[0m\u001b[0m\n\u001b[1;32m     24\u001b[0m \u001b[0;34m@\u001b[0m\u001b[0mdecorator\u001b[0m\u001b[0;34m.\u001b[0m\u001b[0mdecorator\u001b[0m\u001b[0;34m\u001b[0m\u001b[0;34m\u001b[0m\u001b[0m\n",
      "\u001b[0;32m~/opt/miniconda3/envs/carnd-term1/lib/python3.8/site-packages/moviepy/video/VideoClip.py\u001b[0m in \u001b[0;36mwrite_videofile\u001b[0;34m(self, filename, fps, codec, bitrate, audio, audio_fps, preset, audio_nbytes, audio_codec, audio_bitrate, audio_bufsize, temp_audiofile, rewrite_audio, remove_temp, write_logfile, verbose, threads, ffmpeg_params, logger)\u001b[0m\n\u001b[1;32m    317\u001b[0m                                        logger=logger)\n\u001b[1;32m    318\u001b[0m \u001b[0;34m\u001b[0m\u001b[0m\n\u001b[0;32m--> 319\u001b[0;31m         ffmpeg_write_video(self, filename, fps, codec,\n\u001b[0m\u001b[1;32m    320\u001b[0m                            \u001b[0mbitrate\u001b[0m\u001b[0;34m=\u001b[0m\u001b[0mbitrate\u001b[0m\u001b[0;34m,\u001b[0m\u001b[0;34m\u001b[0m\u001b[0;34m\u001b[0m\u001b[0m\n\u001b[1;32m    321\u001b[0m                            \u001b[0mpreset\u001b[0m\u001b[0;34m=\u001b[0m\u001b[0mpreset\u001b[0m\u001b[0;34m,\u001b[0m\u001b[0;34m\u001b[0m\u001b[0;34m\u001b[0m\u001b[0m\n",
      "\u001b[0;32m~/opt/miniconda3/envs/carnd-term1/lib/python3.8/site-packages/moviepy/video/io/ffmpeg_writer.py\u001b[0m in \u001b[0;36mffmpeg_write_video\u001b[0;34m(clip, filename, fps, codec, bitrate, preset, withmask, write_logfile, audiofile, verbose, threads, ffmpeg_params, logger)\u001b[0m\n\u001b[1;32m    221\u001b[0m                 \u001b[0mframe\u001b[0m \u001b[0;34m=\u001b[0m \u001b[0mnp\u001b[0m\u001b[0;34m.\u001b[0m\u001b[0mdstack\u001b[0m\u001b[0;34m(\u001b[0m\u001b[0;34m[\u001b[0m\u001b[0mframe\u001b[0m\u001b[0;34m,\u001b[0m\u001b[0mmask\u001b[0m\u001b[0;34m]\u001b[0m\u001b[0;34m)\u001b[0m\u001b[0;34m\u001b[0m\u001b[0;34m\u001b[0m\u001b[0m\n\u001b[1;32m    222\u001b[0m \u001b[0;34m\u001b[0m\u001b[0m\n\u001b[0;32m--> 223\u001b[0;31m             \u001b[0mwriter\u001b[0m\u001b[0;34m.\u001b[0m\u001b[0mwrite_frame\u001b[0m\u001b[0;34m(\u001b[0m\u001b[0mframe\u001b[0m\u001b[0;34m)\u001b[0m\u001b[0;34m\u001b[0m\u001b[0;34m\u001b[0m\u001b[0m\n\u001b[0m\u001b[1;32m    224\u001b[0m \u001b[0;34m\u001b[0m\u001b[0m\n\u001b[1;32m    225\u001b[0m     \u001b[0;32mif\u001b[0m \u001b[0mwrite_logfile\u001b[0m\u001b[0;34m:\u001b[0m\u001b[0;34m\u001b[0m\u001b[0;34m\u001b[0m\u001b[0m\n",
      "\u001b[0;32m~/opt/miniconda3/envs/carnd-term1/lib/python3.8/site-packages/moviepy/video/io/ffmpeg_writer.py\u001b[0m in \u001b[0;36m__exit__\u001b[0;34m(self, exc_type, exc_value, traceback)\u001b[0m\n\u001b[1;32m    192\u001b[0m \u001b[0;34m\u001b[0m\u001b[0m\n\u001b[1;32m    193\u001b[0m     \u001b[0;32mdef\u001b[0m \u001b[0m__exit__\u001b[0m\u001b[0;34m(\u001b[0m\u001b[0mself\u001b[0m\u001b[0;34m,\u001b[0m \u001b[0mexc_type\u001b[0m\u001b[0;34m,\u001b[0m \u001b[0mexc_value\u001b[0m\u001b[0;34m,\u001b[0m \u001b[0mtraceback\u001b[0m\u001b[0;34m)\u001b[0m\u001b[0;34m:\u001b[0m\u001b[0;34m\u001b[0m\u001b[0;34m\u001b[0m\u001b[0m\n\u001b[0;32m--> 194\u001b[0;31m         \u001b[0mself\u001b[0m\u001b[0;34m.\u001b[0m\u001b[0mclose\u001b[0m\u001b[0;34m(\u001b[0m\u001b[0;34m)\u001b[0m\u001b[0;34m\u001b[0m\u001b[0;34m\u001b[0m\u001b[0m\n\u001b[0m\u001b[1;32m    195\u001b[0m \u001b[0;34m\u001b[0m\u001b[0m\n\u001b[1;32m    196\u001b[0m def ffmpeg_write_video(clip, filename, fps, codec=\"libx264\", bitrate=None,\n",
      "\u001b[0;32m~/opt/miniconda3/envs/carnd-term1/lib/python3.8/site-packages/moviepy/video/io/ffmpeg_writer.py\u001b[0m in \u001b[0;36mclose\u001b[0;34m(self)\u001b[0m\n\u001b[1;32m    182\u001b[0m             \u001b[0;32mif\u001b[0m \u001b[0mself\u001b[0m\u001b[0;34m.\u001b[0m\u001b[0mproc\u001b[0m\u001b[0;34m.\u001b[0m\u001b[0mstderr\u001b[0m \u001b[0;32mis\u001b[0m \u001b[0;32mnot\u001b[0m \u001b[0;32mNone\u001b[0m\u001b[0;34m:\u001b[0m\u001b[0;34m\u001b[0m\u001b[0;34m\u001b[0m\u001b[0m\n\u001b[1;32m    183\u001b[0m                 \u001b[0mself\u001b[0m\u001b[0;34m.\u001b[0m\u001b[0mproc\u001b[0m\u001b[0;34m.\u001b[0m\u001b[0mstderr\u001b[0m\u001b[0;34m.\u001b[0m\u001b[0mclose\u001b[0m\u001b[0;34m(\u001b[0m\u001b[0;34m)\u001b[0m\u001b[0;34m\u001b[0m\u001b[0;34m\u001b[0m\u001b[0m\n\u001b[0;32m--> 184\u001b[0;31m             \u001b[0mself\u001b[0m\u001b[0;34m.\u001b[0m\u001b[0mproc\u001b[0m\u001b[0;34m.\u001b[0m\u001b[0mwait\u001b[0m\u001b[0;34m(\u001b[0m\u001b[0;34m)\u001b[0m\u001b[0;34m\u001b[0m\u001b[0;34m\u001b[0m\u001b[0m\n\u001b[0m\u001b[1;32m    185\u001b[0m \u001b[0;34m\u001b[0m\u001b[0m\n\u001b[1;32m    186\u001b[0m         \u001b[0mself\u001b[0m\u001b[0;34m.\u001b[0m\u001b[0mproc\u001b[0m \u001b[0;34m=\u001b[0m \u001b[0;32mNone\u001b[0m\u001b[0;34m\u001b[0m\u001b[0;34m\u001b[0m\u001b[0m\n",
      "\u001b[0;32m~/opt/miniconda3/envs/carnd-term1/lib/python3.8/subprocess.py\u001b[0m in \u001b[0;36mwait\u001b[0;34m(self, timeout)\u001b[0m\n\u001b[1;32m   1077\u001b[0m             \u001b[0mendtime\u001b[0m \u001b[0;34m=\u001b[0m \u001b[0m_time\u001b[0m\u001b[0;34m(\u001b[0m\u001b[0;34m)\u001b[0m \u001b[0;34m+\u001b[0m \u001b[0mtimeout\u001b[0m\u001b[0;34m\u001b[0m\u001b[0;34m\u001b[0m\u001b[0m\n\u001b[1;32m   1078\u001b[0m         \u001b[0;32mtry\u001b[0m\u001b[0;34m:\u001b[0m\u001b[0;34m\u001b[0m\u001b[0;34m\u001b[0m\u001b[0m\n\u001b[0;32m-> 1079\u001b[0;31m             \u001b[0;32mreturn\u001b[0m \u001b[0mself\u001b[0m\u001b[0;34m.\u001b[0m\u001b[0m_wait\u001b[0m\u001b[0;34m(\u001b[0m\u001b[0mtimeout\u001b[0m\u001b[0;34m=\u001b[0m\u001b[0mtimeout\u001b[0m\u001b[0;34m)\u001b[0m\u001b[0;34m\u001b[0m\u001b[0;34m\u001b[0m\u001b[0m\n\u001b[0m\u001b[1;32m   1080\u001b[0m         \u001b[0;32mexcept\u001b[0m \u001b[0mKeyboardInterrupt\u001b[0m\u001b[0;34m:\u001b[0m\u001b[0;34m\u001b[0m\u001b[0;34m\u001b[0m\u001b[0m\n\u001b[1;32m   1081\u001b[0m             \u001b[0;31m# https://bugs.python.org/issue25942\u001b[0m\u001b[0;34m\u001b[0m\u001b[0;34m\u001b[0m\u001b[0;34m\u001b[0m\u001b[0m\n",
      "\u001b[0;32m~/opt/miniconda3/envs/carnd-term1/lib/python3.8/subprocess.py\u001b[0m in \u001b[0;36m_wait\u001b[0;34m(self, timeout)\u001b[0m\n\u001b[1;32m   1802\u001b[0m                         \u001b[0;32mif\u001b[0m \u001b[0mself\u001b[0m\u001b[0;34m.\u001b[0m\u001b[0mreturncode\u001b[0m \u001b[0;32mis\u001b[0m \u001b[0;32mnot\u001b[0m \u001b[0;32mNone\u001b[0m\u001b[0;34m:\u001b[0m\u001b[0;34m\u001b[0m\u001b[0;34m\u001b[0m\u001b[0m\n\u001b[1;32m   1803\u001b[0m                             \u001b[0;32mbreak\u001b[0m  \u001b[0;31m# Another thread waited.\u001b[0m\u001b[0;34m\u001b[0m\u001b[0;34m\u001b[0m\u001b[0m\n\u001b[0;32m-> 1804\u001b[0;31m                         \u001b[0;34m(\u001b[0m\u001b[0mpid\u001b[0m\u001b[0;34m,\u001b[0m \u001b[0msts\u001b[0m\u001b[0;34m)\u001b[0m \u001b[0;34m=\u001b[0m \u001b[0mself\u001b[0m\u001b[0;34m.\u001b[0m\u001b[0m_try_wait\u001b[0m\u001b[0;34m(\u001b[0m\u001b[0;36m0\u001b[0m\u001b[0;34m)\u001b[0m\u001b[0;34m\u001b[0m\u001b[0;34m\u001b[0m\u001b[0m\n\u001b[0m\u001b[1;32m   1805\u001b[0m                         \u001b[0;31m# Check the pid and loop as waitpid has been known to\u001b[0m\u001b[0;34m\u001b[0m\u001b[0;34m\u001b[0m\u001b[0;34m\u001b[0m\u001b[0m\n\u001b[1;32m   1806\u001b[0m                         \u001b[0;31m# return 0 even without WNOHANG in odd situations.\u001b[0m\u001b[0;34m\u001b[0m\u001b[0;34m\u001b[0m\u001b[0;34m\u001b[0m\u001b[0m\n",
      "\u001b[0;32m~/opt/miniconda3/envs/carnd-term1/lib/python3.8/subprocess.py\u001b[0m in \u001b[0;36m_try_wait\u001b[0;34m(self, wait_flags)\u001b[0m\n\u001b[1;32m   1760\u001b[0m             \u001b[0;34m\"\"\"All callers to this function MUST hold self._waitpid_lock.\"\"\"\u001b[0m\u001b[0;34m\u001b[0m\u001b[0;34m\u001b[0m\u001b[0m\n\u001b[1;32m   1761\u001b[0m             \u001b[0;32mtry\u001b[0m\u001b[0;34m:\u001b[0m\u001b[0;34m\u001b[0m\u001b[0;34m\u001b[0m\u001b[0m\n\u001b[0;32m-> 1762\u001b[0;31m                 \u001b[0;34m(\u001b[0m\u001b[0mpid\u001b[0m\u001b[0;34m,\u001b[0m \u001b[0msts\u001b[0m\u001b[0;34m)\u001b[0m \u001b[0;34m=\u001b[0m \u001b[0mos\u001b[0m\u001b[0;34m.\u001b[0m\u001b[0mwaitpid\u001b[0m\u001b[0;34m(\u001b[0m\u001b[0mself\u001b[0m\u001b[0;34m.\u001b[0m\u001b[0mpid\u001b[0m\u001b[0;34m,\u001b[0m \u001b[0mwait_flags\u001b[0m\u001b[0;34m)\u001b[0m\u001b[0;34m\u001b[0m\u001b[0;34m\u001b[0m\u001b[0m\n\u001b[0m\u001b[1;32m   1763\u001b[0m             \u001b[0;32mexcept\u001b[0m \u001b[0mChildProcessError\u001b[0m\u001b[0;34m:\u001b[0m\u001b[0;34m\u001b[0m\u001b[0;34m\u001b[0m\u001b[0m\n\u001b[1;32m   1764\u001b[0m                 \u001b[0;31m# This happens if SIGCLD is set to be ignored or waiting\u001b[0m\u001b[0;34m\u001b[0m\u001b[0;34m\u001b[0m\u001b[0;34m\u001b[0m\u001b[0m\n",
      "\u001b[0;31mKeyboardInterrupt\u001b[0m: "
     ]
    },
    {
     "data": {
      "image/png": "[encoded data removed]",
      "text/plain": [
       "<Figure size 432x288 with 1 Axes>"
      ]
     },
     "metadata": {
      "needs_background": "light"
     },
     "output_type": "display_data"
    }
   ],
   "source": [
    "white_output = 'harder_challenge_video_output.mp4'\n",
    "clip1 = VideoFileClip(\"harder_challenge_video.mp4\")\n",
    "white_clip = clip1.fl_image(Frame(mtx, dist, M, M_inv, img_size, 2, False)) #.subclip(0,5) #NOTE: this function expects color images!!\n",
    "%time white_clip.write_videofile(white_output, audio=False)"
   ]
  },
  {
   "cell_type": "code",
   "execution_count": 17,
   "metadata": {},
   "outputs": [
    {
     "data": {
      "text/html": [
       "\n",
       "<video width=\"960\" height=\"540\" controls>\n",
       "  <source src=\"harder_challenge_video_output.mp4\">\n",
       "</video>\n"
      ],
      "text/plain": [
       "<IPython.core.display.HTML object>"
      ]
     },
     "execution_count": 17,
     "metadata": {},
     "output_type": "execute_result"
    }
   ],
   "source": [
    "HTML(\"\"\"\n",
    "<video width=\"960\" height=\"540\" controls>\n",
    "  <source src=\"{0}\">\n",
    "</video>\n",
    "\"\"\".format(white_output))"
   ]
  },
  {
   "cell_type": "code",
   "execution_count": null,
   "metadata": {},
   "outputs": [],
   "source": []
  }
 ],
 "metadata": {
  "anaconda-cloud": {},
  "kernelspec": {
   "display_name": "Python 3",
   "language": "python",
   "name": "python3"
  },
  "language_info": {
   "codemirror_mode": {
    "name": "ipython",
    "version": 3
   },
   "file_extension": ".py",
   "mimetype": "text/x-python",
   "name": "python",
   "nbconvert_exporter": "python",
   "pygments_lexer": "ipython3",
   "version": "3.8.2"
  }
 },
 "nbformat": 4,
 "nbformat_minor": 4
}
