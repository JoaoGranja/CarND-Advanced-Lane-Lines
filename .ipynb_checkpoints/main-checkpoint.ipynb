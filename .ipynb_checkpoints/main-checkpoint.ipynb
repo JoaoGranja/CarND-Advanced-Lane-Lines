{
 "cells": [
  {
   "cell_type": "markdown",
   "metadata": {},
   "source": [
    "# Advanced Lane Finding Project\n",
    "\n",
    "The goals / steps of this project are the following:\n",
    "\n",
    "* Compute the camera calibration matrix and distortion coefficients given a set of chessboard images.\n",
    "* Apply a distortion correction to raw images.\n",
    "* Use color transforms, gradients, etc., to create a thresholded binary image.\n",
    "* Apply a perspective transform to rectify binary image (\"birds-eye view\").\n",
    "* Detect lane pixels and fit to find the lane boundary.\n",
    "* Determine the curvature of the lane and vehicle position with respect to center.\n",
    "* Warp the detected lane boundaries back onto the original image.\n",
    "* Output visual display of the lane boundaries and numerical estimation of lane curvature and vehicle position.\n",
    "\n",
    "## The project is divided in the four following phases:\n",
    "\n",
    "1 - Compute the camera calibration using chessboard images\n",
    "\n",
    "2 - Build a Lane finding Pipeline for single images\n",
    "\n",
    "3 - Build a Lane finding Pipeline to a video\n",
    "\n",
    "4 - Reinforce the video Pipeline using the provided challenge videos \n",
    "\n",
    "---"
   ]
  },
  {
   "cell_type": "markdown",
   "metadata": {},
   "source": [
    "## Import Packages"
   ]
  },
  {
   "cell_type": "code",
   "execution_count": 1,
   "metadata": {
    "ExecuteTime": {
     "end_time": "2020-05-14T13:19:27.806418Z",
     "start_time": "2020-05-14T13:19:26.028101Z"
    }
   },
   "outputs": [],
   "source": [
    "# Importing some useful packages\n",
    "import numpy as np\n",
    "import cv2\n",
    "import glob\n",
    "import matplotlib.pyplot as plt\n",
    "import matplotlib.image as mpimg\n",
    "import os\n",
    "from helper_functions import *\n",
    "import pickle\n",
    "\n",
    "#Import everything needed to edit/save/watch video clips\n",
    "from moviepy.editor import VideoFileClip\n",
    "from IPython.display import HTML\n",
    "%matplotlib qt\n"
   ]
  },
  {
   "cell_type": "markdown",
   "metadata": {},
   "source": [
    "## 1 - Compute the camera calibration using chessboard images"
   ]
  },
  {
   "cell_type": "code",
   "execution_count": 2,
   "metadata": {},
   "outputs": [],
   "source": [
    "# define the name of the output directory to store the output images\n",
    "output_path = \"output_images/camera_calibration\"\n",
    "\n",
    "# Create output_path directory if doesn't exist\n",
    "if not os.path.exists(output_path):\n",
    "    os.mkdir(output_path)"
   ]
  },
  {
   "cell_type": "code",
   "execution_count": 3,
   "metadata": {
    "ExecuteTime": {
     "end_time": "2020-05-14T13:19:31.648297Z",
     "start_time": "2020-05-14T13:19:27.811639Z"
    }
   },
   "outputs": [],
   "source": [
    "# To avoid running the calibration step everytime, in case the camera coefficients already exist, just load it\n",
    "if os.path.exists('camera_coeff.pkl'):\n",
    "    # Getting back the values:\n",
    "    with open('camera_coeff.pkl', 'rb') as f:  \n",
    "        mtx, dist = pickle.load(f)\n",
    "    \n",
    "else:  \n",
    "    # Prepare object points, like (0,0,0), (1,0,0), (2,0,0) ....,(9,6,0)\n",
    "    objp = np.zeros((9*6,3), np.float32)\n",
    "    objp[:,:2] = np.mgrid[0:9,0:6].T.reshape(-1,2)\n",
    "\n",
    "    # Arrays to store object points and image points from all the images.\n",
    "    objpoints = [] # 3d points in real world space\n",
    "    imgpoints = [] # 2d points in image plane.\n",
    "\n",
    "    # Make a list of calibration images\n",
    "    images = glob.glob('camera_cal/calibration*.jpg')\n",
    "\n",
    "    # Step through the list and search for chessboard corners\n",
    "    for fname in images:\n",
    "\n",
    "        # Read the image\n",
    "        img = cv2.imread(fname)\n",
    "\n",
    "        # Convert the image to gray scale\n",
    "        gray = cv2.cvtColor(img,cv2.COLOR_BGR2GRAY)\n",
    "\n",
    "        # Find the chessboard 54 (9*6) corners \n",
    "        ret, corners = cv2.findChessboardCorners(gray, (9,6),None)\n",
    "\n",
    "        # If found, append object points, image points\n",
    "        if ret == True:\n",
    "            objpoints.append(objp)\n",
    "            imgpoints.append(corners)\n",
    "\n",
    "            # Draw and display the corners\n",
    "            img = cv2.drawChessboardCorners(img, (9,6), corners, ret)\n",
    "            #cv2.imshow('img',img)\n",
    "            #cv2.waitKey(500)\n",
    "\n",
    "    #cv2.destroyAllWindows()\n",
    "\n",
    "    # Perform the camera calibration\n",
    "    ret, mtx, dist, rvecs, tvecs = cv2.calibrateCamera(objpoints, imgpoints, gray.shape[::-1], None, None) \n",
    "\n",
    "    # Store the camera calibration coefficients for future use\n",
    "    with open('camera_coeff.pkl', 'wb') as f:  \n",
    "        pickle.dump([mtx, dist], f)\n",
    "        \n",
    "    # Perform distortion correction on chessboard images to verify the process is doing well\n",
    "\n",
    "    # Step through the list and undistort each image\n",
    "    for fname in images:\n",
    "\n",
    "        # Read the image\n",
    "        image = mpimg.imread(fname)\n",
    "\n",
    "        # Undistort the image an display it \n",
    "        undist = cv2.undistort(image, mtx, dist, None, mtx)\n",
    "\n",
    "        # Save images on output_path Directory\n",
    "        f, (ax1, ax2) = plt.subplots(1, 2, figsize=(24, 9))\n",
    "        f.tight_layout()\n",
    "\n",
    "        ax1.imshow(image)\n",
    "        ax1.set_title('Original Image', fontsize=30)\n",
    "\n",
    "        ax2.imshow(undist)\n",
    "        ax2.set_title('Undistorted Image', fontsize=30)\n",
    "        plt.subplots_adjust(left=0.1, right=0.9, top=1, bottom=0, wspace = 0.1)\n",
    "\n",
    "\n",
    "        plt.savefig(os.path.join(output_path, \"undist_\" + os.path.basename(fname)))\n",
    "        plt.close()"
   ]
  },
  {
   "cell_type": "markdown",
   "metadata": {},
   "source": [
    "## 2 - Build a Lane finding Pipeline for single images\n",
    "The pipeline will be composed by the following steps:\n",
    "\n",
    "1 - Read and apply a distortion correction to the image\n",
    "\n",
    "2 - Use color transforms, gradients, etc., to create a thresholded binary image\n",
    "\n",
    "3 - Apply a perspective transform to rectify binary image (\"birds-eye view\")\n",
    "\n",
    "4 - Detect lane pixels and fit to find the lane boundary\n",
    "\n",
    "5 - Determine the curvature of the lane and vehicle position with respect to center \n",
    "\n",
    "6 - Warp the detected lane boundaries back onto the original image\n",
    "\n",
    "7 - Output visual display of the lane boundaries and numerical estimation of lane curvature and vehicle position"
   ]
  },
  {
   "cell_type": "code",
   "execution_count": 4,
   "metadata": {},
   "outputs": [],
   "source": [
    "# define the name of the directory to store the output images\n",
    "output_path = \"output_images/test_images\"\n",
    "\n",
    "# Create output_path directory if doesn't exist\n",
    "if not os.path.exists(output_path):\n",
    "    os.mkdir(output_path)"
   ]
  },
  {
   "cell_type": "code",
   "execution_count": 5,
   "metadata": {},
   "outputs": [],
   "source": [
    "# Get the transform matrix using 4 source and destination points calculated manually looking to \n",
    "# the straight line images\n",
    "\n",
    "src = np.float32([[195, 720],[1125, 720],[578, 460],[705, 460]])\n",
    "dst = np.float32([[350, 720],[950, 720],[350,0],[950,0]])\n",
    "\n",
    "# Get the transform matrix M using the src and dst points\n",
    "M = cv2.getPerspectiveTransform(src, dst)\n",
    "\n",
    "# Get the invert transform matrix M_inv using the src and dst points\n",
    "M_inv = cv2.getPerspectiveTransform(dst, src)\n",
    "        "
   ]
  },
  {
   "cell_type": "code",
   "execution_count": 6,
   "metadata": {},
   "outputs": [],
   "source": [
    "def process_image(original_image, fname, mtx, dist, M, M_inv):\n",
    "    \n",
    "    ## 1 - Apply a distortion correction to the image ##\n",
    "    undist = undistort_image(original_image, mtx, dist)\n",
    "    save_undistorted_images(output_path, fname, original_image, undist)\n",
    "\n",
    "    ## 2 - Use color transforms, gradients, etc., to create a thresholded binary image ##\n",
    "    ksize = 3 # Sobel kernel size \n",
    "\n",
    "    # Apply each of the gradient thresholding functions\n",
    "    gradx = abs_sobel_thresh(undist, orient='x', sobel_kernel=ksize, thresh=(30, 200))\n",
    "    grady = abs_sobel_thresh(undist, orient='y', sobel_kernel=ksize, thresh=(50, 200))\n",
    "    mag_binary = mag_thresh(undist, sobel_kernel=ksize, mag_thresh=(30, 200))\n",
    "    dir_binary = dir_threshold(undist, sobel_kernel=ksize, thresh=(0.7, 1.3))\n",
    "\n",
    "    # Apply each of the color thresholding functions for HLS color space\n",
    "    hls_colors_binary = hls_select(undist, s_thresh=(170, 240), l_thresh=(200, 255))\n",
    "\n",
    "    # Apply each of the color thresholding functions for HSV color space\n",
    "    hsv_colors_binary = hsv_select(undist, s_thresh=(130,255), v_thresh=(240, 255), vs_thresh=(200, 255))\n",
    "        \n",
    "    # Combine all of the thresholding binaries\n",
    "    binary_image = np.zeros_like(mag_binary)\n",
    "    binary_image[(hsv_colors_binary == 1) | (hls_colors_binary == 1) | ((mag_binary == 1) & (dir_binary == 1)) ] = 1\n",
    "    save_binary_images(output_path, fname, undist, binary_image)\n",
    "    \n",
    "    # 3 - Apply a perspective transform to rectify binary image (\"birds-eye view\") ##\n",
    "\n",
    "    # Warp the image to a top-down view\n",
    "    img_size = (undist.shape[1], undist.shape[0])\n",
    "    binary_warped = cv2.warpPerspective(binary_image, M, img_size, flags=cv2.INTER_LINEAR)\n",
    "    \n",
    "    warped = cv2.warpPerspective(undist, M, img_size, flags=cv2.INTER_LINEAR)\n",
    "    save_warped_images(output_path, fname, original_image, warped)\n",
    "\n",
    "    ## 4 - Detect lane pixels and fit to find the lane boundary ##\n",
    "    \n",
    "    # Create a sliding window and find out which activated pixels fall into the window\n",
    "    out_img, left_fit, right_fit, left_fitx, right_fitx, ploty = fit_polynomial(binary_warped)\n",
    "\n",
    "    ## 5 - Determine the curvature of the lane and vehicle position with respect to center ##\n",
    "    \n",
    "    radius_curvature, left_radius_curvature , right_radius_curvature = measure_curvature_real(out_img.shape[0], left_fit, right_fit)\n",
    "    \n",
    "    rel_vehicle_position = measure_rel_vehicle_position(out_img.shape, left_fit, right_fit)\n",
    "\n",
    "    ## 6 - Warp the detected lane boundaries back onto the original image ##\n",
    "\n",
    "    # Create an image to draw the lines on\n",
    "    warp_zero = np.zeros_like(binary_warped).astype(np.uint8)\n",
    "    color_warp = np.dstack((warp_zero, warp_zero, warp_zero))\n",
    "\n",
    "    # Recast the x and y points into usable format for cv2.fillPoly()\n",
    "    pts_left = np.array([np.transpose(np.vstack([left_fitx, ploty]))])\n",
    "    pts_right = np.array([np.flipud(np.transpose(np.vstack([right_fitx, ploty])))])\n",
    "    pts = np.hstack((pts_left, pts_right))\n",
    "\n",
    "    # Draw the lane onto the warped blank image\n",
    "    cv2.fillPoly(color_warp, np.int_([pts]), (0,255, 0))\n",
    "\n",
    "    # Warp the blank back to original image space using inverse perspective matrix (Minv)\n",
    "    newwarp = cv2.warpPerspective(color_warp, M_inv, img_size) \n",
    "\n",
    "    ## 7 - Output visual display of the lane boundaries and numerical estimation of lane curvature and vehicle position ##\n",
    "    # Combine the result with the original image\n",
    "    result = cv2.addWeighted(original_image, 1, newwarp, 0.3, 0)\n",
    "\n",
    "    save_lane_lines_image(output_path, fname, out_img)\n",
    "\n",
    "    print(\"Radius curvature = \", radius_curvature, 'm')\n",
    "    print(\"Left Radius curvature = \", left_radius_curvature, 'm', \"Right Radius curvature = \", right_radius_curvature, 'm', )\n",
    "    print(\"Relative vehicle position with respect to the line lane center = \",rel_vehicle_position, 'm')\n",
    "\n",
    "    save_pipeline_image(output_path, fname, result, radius_curvature, rel_vehicle_position )"
   ]
  },
  {
   "cell_type": "code",
   "execution_count": 7,
   "metadata": {
    "ExecuteTime": {
     "end_time": "2020-05-14T13:26:17.757281Z",
     "start_time": "2020-05-14T13:26:17.693455Z"
    }
   },
   "outputs": [],
   "source": [
    "%matplotlib inline\n",
    "\n",
    "# Make a list of test images\n",
    "images = glob.glob('test_images/*.jpg')\n",
    "images = []\n",
    "\n",
    "# Step through the list, read the image and apply the lane finding pipeline\n",
    "for fname in images:\n",
    "\n",
    "    print(\"-----------------------\", fname, \"-----------------------\")\n",
    "    \n",
    "    # Read the image\n",
    "    img = mpimg.imread(fname)\n",
    "\n",
    "    process_image(img, fname, mtx, dist, M, M_inv)\n",
    "\n",
    "    print('\\n')"
   ]
  },
  {
   "cell_type": "markdown",
   "metadata": {},
   "source": [
    "## 3 -  Build a Lane finding Pipeline to a video"
   ]
  },
  {
   "cell_type": "code",
   "execution_count": 8,
   "metadata": {
    "ExecuteTime": {
     "end_time": "2020-05-14T13:44:25.527191Z",
     "start_time": "2020-05-14T13:44:25.087142Z"
    }
   },
   "outputs": [],
   "source": [
    "from frame import *\n",
    "img_size = (720,1280)"
   ]
  },
  {
   "cell_type": "code",
   "execution_count": 9,
   "metadata": {},
   "outputs": [],
   "source": [
    "#if True:\n",
    "if False:\n",
    "    white_output = 'project_video_output.mp4'\n",
    "    clip1 = VideoFileClip(\"project_video.mp4\")\n",
    "    white_clip = clip1.fl_image(Frame(mtx, dist, M, M_inv, img_size, 2))#.subclip(0,5)\n",
    "    %time white_clip.write_videofile(white_output, audio=False)\n"
   ]
  },
  {
   "cell_type": "code",
   "execution_count": 10,
   "metadata": {},
   "outputs": [
    {
     "data": {
      "text/html": [
       "\n",
       "<video width=\"960\" height=\"540\" controls>\n",
       "  <source src=\"project_video_output.mp4\">\n",
       "</video>\n"
      ],
      "text/plain": [
       "<IPython.core.display.HTML object>"
      ]
     },
     "execution_count": 10,
     "metadata": {},
     "output_type": "execute_result"
    }
   ],
   "source": [
    "HTML(\"\"\"\n",
    "<video width=\"960\" height=\"540\" controls>\n",
    "  <source src=\"{0}\">\n",
    "</video>\n",
    "\"\"\".format(white_output))"
   ]
  },
  {
   "cell_type": "markdown",
   "metadata": {},
   "source": [
    "## 4 - Test the pipeline on Challenge Videos"
   ]
  },
  {
   "cell_type": "code",
   "execution_count": 10,
   "metadata": {},
   "outputs": [
    {
     "name": "stdout",
     "output_type": "stream",
     "text": [
      "Radius curvature =  474.0 m\n",
      "Left Radius curvature =  628.0 m Right Radius curvature =  320.0 m\n",
      "Relative vehicle position with respect to the line lane center =  0.02 m\n",
      "\n",
      "\n"
     ]
    }
   ],
   "source": [
    "# Get the transform matrix using 4 source and destination points calculated looking to the straight line image\n",
    "src = np.float32([[250, 720],[1050, 720],[605, 480],[715, 480]])\n",
    "dst = np.float32([[350, 720],[950, 720],[350,0],[950,0]])\n",
    "\n",
    "# Get the transform matrix M using the src and dst points\n",
    "M_1 = cv2.getPerspectiveTransform(src, dst)\n",
    "\n",
    "# Get the invert transform matrix M_inv using the src and dst points\n",
    "M_inv_1 = cv2.getPerspectiveTransform(dst, src)\n",
    "\n",
    "fname = \"challenge_video.jpg\"\n",
    "\n",
    "# Read the image\n",
    "clip1 = VideoFileClip(\"challenge_video.mp4\")\n",
    "img = clip1.get_frame(52 / clip1.fps) # get frame by index\n",
    "img_size = img.shape\n",
    "\n",
    "process_image(img, fname, mtx, dist, M_1, M_inv_1)\n",
    "\n",
    "print('\\n')"
   ]
  },
  {
   "cell_type": "code",
   "execution_count": 13,
   "metadata": {},
   "outputs": [
    {
     "name": "stderr",
     "output_type": "stream",
     "text": [
      "                                                              \n",
      "t:  27%|██▋       | 132/485 [02:13<01:09,  5.07it/s, now=None]\n",
      "                                                              \u001b[A\n",
      "t:  27%|██▋       | 132/485 [02:13<01:09,  5.07it/s, now=None]\n",
      "t:  88%|████████▊ | 132/150 [00:44<00:04,  4.02it/s, now=None]\u001b[A\n",
      "\n",
      "t:   0%|          | 0/120 [00:00<?, ?it/s, now=None]\u001b[A\u001b[A"
     ]
    },
    {
     "name": "stdout",
     "output_type": "stream",
     "text": [
      "Moviepy - Building video challenge_video_output.mp4.\n",
      "Moviepy - Writing video challenge_video_output.mp4\n",
      "\n"
     ]
    },
    {
     "name": "stderr",
     "output_type": "stream",
     "text": [
      "\n",
      "\n",
      "t:   2%|▏         | 2/120 [00:00<00:16,  7.27it/s, now=None]\u001b[A\u001b[A\n",
      "\n",
      "t:   2%|▎         | 3/120 [00:00<00:20,  5.64it/s, now=None]\u001b[A\u001b[A\n",
      "\n",
      "t:   3%|▎         | 4/120 [00:00<00:23,  4.96it/s, now=None]\u001b[A\u001b[A\n",
      "\n",
      "t:   4%|▍         | 5/120 [00:01<00:25,  4.58it/s, now=None]\u001b[A\u001b[A\n",
      "\n",
      "t:   5%|▌         | 6/120 [00:01<00:27,  4.21it/s, now=None]\u001b[A\u001b[A\n",
      "\n",
      "t:   6%|▌         | 7/120 [00:01<00:30,  3.74it/s, now=None]\u001b[A\u001b[A\n",
      "\n",
      "t:   7%|▋         | 8/120 [00:02<00:38,  2.88it/s, now=None]\u001b[A\u001b[A\n",
      "\n",
      "t:   8%|▊         | 9/120 [00:02<00:41,  2.66it/s, now=None]\u001b[A\u001b[A\n",
      "\n",
      "t:   8%|▊         | 10/120 [00:02<00:37,  2.94it/s, now=None]\u001b[A\u001b[A\n",
      "\n",
      "t:   9%|▉         | 11/120 [00:03<00:34,  3.18it/s, now=None]\u001b[A\u001b[A\n",
      "\n",
      "t:  10%|█         | 12/120 [00:03<00:32,  3.32it/s, now=None]\u001b[A\u001b[A\n",
      "\n",
      "t:  11%|█         | 13/120 [00:03<00:31,  3.43it/s, now=None]\u001b[A\u001b[A\n",
      "\n",
      "t:  12%|█▏        | 14/120 [00:03<00:29,  3.55it/s, now=None]\u001b[A\u001b[A\n",
      "\n",
      "t:  12%|█▎        | 15/120 [00:04<00:28,  3.65it/s, now=None]\u001b[A\u001b[A\n",
      "\n",
      "t:  13%|█▎        | 16/120 [00:04<00:27,  3.74it/s, now=None]\u001b[A\u001b[A\n",
      "\n",
      "t:  14%|█▍        | 17/120 [00:04<00:27,  3.72it/s, now=None]\u001b[A\u001b[A\n",
      "\n",
      "t:  15%|█▌        | 18/120 [00:05<00:27,  3.77it/s, now=None]\u001b[A\u001b[A\n",
      "\n",
      "t:  16%|█▌        | 19/120 [00:05<00:26,  3.77it/s, now=None]\u001b[A\u001b[A\n",
      "\n",
      "t:  17%|█▋        | 20/120 [00:05<00:26,  3.82it/s, now=None]\u001b[A\u001b[A\n",
      "\n",
      "t:  18%|█▊        | 21/120 [00:05<00:25,  3.89it/s, now=None]\u001b[A\u001b[A\n",
      "\n",
      "t:  18%|█▊        | 22/120 [00:06<00:24,  3.93it/s, now=None]\u001b[A\u001b[A\n",
      "\n",
      "t:  19%|█▉        | 23/120 [00:06<00:24,  3.91it/s, now=None]\u001b[A\u001b[A\n",
      "\n",
      "t:  20%|██        | 24/120 [00:06<00:24,  3.84it/s, now=None]\u001b[A\u001b[A\n",
      "\n",
      "t:  21%|██        | 25/120 [00:06<00:27,  3.42it/s, now=None]\u001b[A\u001b[A\n",
      "\n",
      "t:  22%|██▏       | 26/120 [00:07<00:27,  3.47it/s, now=None]\u001b[A\u001b[A\n",
      "\n",
      "t:  22%|██▎       | 27/120 [00:07<00:26,  3.56it/s, now=None]\u001b[A\u001b[A\n",
      "\n",
      "t:  23%|██▎       | 28/120 [00:07<00:25,  3.67it/s, now=None]\u001b[A\u001b[A\n",
      "\n",
      "t:  24%|██▍       | 29/120 [00:07<00:24,  3.68it/s, now=None]\u001b[A\u001b[A\n",
      "\n",
      "t:  25%|██▌       | 30/120 [00:08<00:24,  3.72it/s, now=None]\u001b[A\u001b[A"
     ]
    },
    {
     "name": "stdout",
     "output_type": "stream",
     "text": [
      "Fail sanity check - curvature left curvature: 534.0 right curvature: 2999.0\n"
     ]
    },
    {
     "name": "stderr",
     "output_type": "stream",
     "text": [
      "\n",
      "\n",
      "t:  26%|██▌       | 31/120 [00:08<00:23,  3.77it/s, now=None]\u001b[A\u001b[A"
     ]
    },
    {
     "name": "stdout",
     "output_type": "stream",
     "text": [
      "failed\n",
      "failed\n",
      "Fail sanity check - curvature left curvature: 534.0 right curvature: 2999.0\n"
     ]
    },
    {
     "name": "stderr",
     "output_type": "stream",
     "text": [
      "\n",
      "\n",
      "t:  27%|██▋       | 32/120 [00:08<00:22,  3.98it/s, now=None]\u001b[A\u001b[A\n",
      "\n",
      "t:  28%|██▊       | 33/120 [00:09<00:23,  3.72it/s, now=None]\u001b[A\u001b[A\n",
      "\n",
      "t:  28%|██▊       | 34/120 [00:09<00:24,  3.44it/s, now=None]\u001b[A\u001b[A\n",
      "\n",
      "t:  29%|██▉       | 35/120 [00:09<00:23,  3.57it/s, now=None]\u001b[A\u001b[A\n",
      "\n",
      "t:  30%|███       | 36/120 [00:09<00:22,  3.70it/s, now=None]\u001b[A\u001b[A\n",
      "\n",
      "t:  31%|███       | 37/120 [00:10<00:21,  3.78it/s, now=None]\u001b[A\u001b[A\n",
      "\n",
      "t:  32%|███▏      | 38/120 [00:10<00:21,  3.82it/s, now=None]\u001b[A\u001b[A\n",
      "\n",
      "t:  32%|███▎      | 39/120 [00:10<00:21,  3.84it/s, now=None]\u001b[A\u001b[A\n",
      "\n",
      "t:  33%|███▎      | 40/120 [00:10<00:21,  3.76it/s, now=None]\u001b[A\u001b[A\n",
      "\n",
      "t:  34%|███▍      | 41/120 [00:11<00:21,  3.69it/s, now=None]\u001b[A\u001b[A\n",
      "\n",
      "t:  35%|███▌      | 42/120 [00:11<00:21,  3.59it/s, now=None]\u001b[A\u001b[A\n",
      "\n",
      "t:  36%|███▌      | 43/120 [00:11<00:20,  3.69it/s, now=None]\u001b[A\u001b[A\n",
      "\n",
      "t:  37%|███▋      | 44/120 [00:12<00:21,  3.54it/s, now=None]\u001b[A\u001b[A\n",
      "\n",
      "t:  38%|███▊      | 45/120 [00:12<00:22,  3.36it/s, now=None]\u001b[A\u001b[A\n",
      "\n",
      "t:  38%|███▊      | 46/120 [00:12<00:22,  3.30it/s, now=None]\u001b[A\u001b[A\n",
      "\n",
      "t:  39%|███▉      | 47/120 [00:13<00:21,  3.33it/s, now=None]\u001b[A\u001b[A\n",
      "\n",
      "t:  40%|████      | 48/120 [00:13<00:21,  3.40it/s, now=None]\u001b[A\u001b[A\n",
      "\n",
      "t:  41%|████      | 49/120 [00:13<00:20,  3.47it/s, now=None]\u001b[A\u001b[A\n",
      "\n",
      "t:  42%|████▏     | 50/120 [00:13<00:20,  3.38it/s, now=None]\u001b[A\u001b[A\n",
      "\n",
      "t:  42%|████▎     | 51/120 [00:14<00:20,  3.31it/s, now=None]\u001b[A\u001b[A\n",
      "\n",
      "t:  43%|████▎     | 52/120 [00:14<00:20,  3.30it/s, now=None]\u001b[A\u001b[A"
     ]
    },
    {
     "name": "stdout",
     "output_type": "stream",
     "text": [
      "Fail sanity check - distance at the bottom 724.4858526406919 right x point: 1078.6045414640237 left x point: 354.1186888233318\n"
     ]
    },
    {
     "name": "stderr",
     "output_type": "stream",
     "text": [
      "\n",
      "\n",
      "t:  44%|████▍     | 53/120 [00:14<00:22,  3.03it/s, now=None]\u001b[A\u001b[A\n",
      "\n",
      "t:  45%|████▌     | 54/120 [00:15<00:20,  3.21it/s, now=None]\u001b[A\u001b[A"
     ]
    },
    {
     "name": "stdout",
     "output_type": "stream",
     "text": [
      "Fail sanity check - distance at the bottom 727.6918065462092 right x point: 1073.484962751171 left x point: 345.79315620496175\n"
     ]
    },
    {
     "name": "stderr",
     "output_type": "stream",
     "text": [
      "\n",
      "\n",
      "t:  46%|████▌     | 55/120 [00:15<00:20,  3.25it/s, now=None]\u001b[A\u001b[A"
     ]
    },
    {
     "name": "stdout",
     "output_type": "stream",
     "text": [
      "failed\n",
      "Fail sanity check - distance at the bottom 730.892838951446 right x point: 1073.484962751171 left x point: 342.59212379972496\n"
     ]
    },
    {
     "name": "stderr",
     "output_type": "stream",
     "text": [
      "\n",
      "\n",
      "t:  47%|████▋     | 56/120 [00:15<00:19,  3.37it/s, now=None]\u001b[A\u001b[A"
     ]
    },
    {
     "name": "stdout",
     "output_type": "stream",
     "text": [
      "Fail sanity check - distance at the bottom 725.3862037088586 right x point: 1065.5223087618135 left x point: 340.136105052955\n"
     ]
    },
    {
     "name": "stderr",
     "output_type": "stream",
     "text": [
      "\n",
      "\n",
      "t:  48%|████▊     | 57/120 [00:16<00:18,  3.43it/s, now=None]\u001b[A\u001b[A"
     ]
    },
    {
     "name": "stdout",
     "output_type": "stream",
     "text": [
      "failed\n",
      "Fail sanity check - distance at the bottom 725.9392762101517 right x point: 1065.5223087618135 left x point: 339.58303255166186\n"
     ]
    },
    {
     "name": "stderr",
     "output_type": "stream",
     "text": [
      "\n",
      "\n",
      "t:  48%|████▊     | 58/120 [00:16<00:17,  3.55it/s, now=None]\u001b[A\u001b[A"
     ]
    },
    {
     "name": "stdout",
     "output_type": "stream",
     "text": [
      "failed\n",
      "Fail sanity check - distance at the bottom 725.6673542943338 right x point: 1065.5223087618135 left x point: 339.8549544674797\n"
     ]
    },
    {
     "name": "stderr",
     "output_type": "stream",
     "text": [
      "\n",
      "\n",
      "t:  49%|████▉     | 59/120 [00:16<00:16,  3.74it/s, now=None]\u001b[A\u001b[A"
     ]
    },
    {
     "name": "stdout",
     "output_type": "stream",
     "text": [
      "failed\n",
      "Fail sanity check - distance at the bottom 723.9430056414155 right x point: 1065.5223087618135 left x point: 341.579303120398\n"
     ]
    },
    {
     "name": "stderr",
     "output_type": "stream",
     "text": [
      "\n",
      "\n",
      "t:  50%|█████     | 60/120 [00:16<00:15,  3.78it/s, now=None]\u001b[A\u001b[A"
     ]
    },
    {
     "name": "stdout",
     "output_type": "stream",
     "text": [
      "failed\n",
      "Fail sanity check - distance at the bottom 723.2845139178976 right x point: 1065.5223087618135 left x point: 342.237794843916\n"
     ]
    },
    {
     "name": "stderr",
     "output_type": "stream",
     "text": [
      "\n",
      "\n",
      "t:  51%|█████     | 61/120 [00:17<00:15,  3.80it/s, now=None]\u001b[A\u001b[A"
     ]
    },
    {
     "name": "stdout",
     "output_type": "stream",
     "text": [
      "failed\n",
      "Fail sanity check - distance at the bottom 721.7019626747032 right x point: 1065.5223087618135 left x point: 343.82034608711035\n"
     ]
    },
    {
     "name": "stderr",
     "output_type": "stream",
     "text": [
      "\n",
      "\n",
      "t:  52%|█████▏    | 62/120 [00:17<00:15,  3.77it/s, now=None]\u001b[A\u001b[A"
     ]
    },
    {
     "name": "stdout",
     "output_type": "stream",
     "text": [
      "failed\n",
      "Fail sanity check - distance at the bottom 722.8196851093953 right x point: 1065.5223087618135 left x point: 342.70262365241825\n"
     ]
    },
    {
     "name": "stderr",
     "output_type": "stream",
     "text": [
      "\n",
      "\n",
      "t:  52%|█████▎    | 63/120 [00:17<00:15,  3.77it/s, now=None]\u001b[A\u001b[A"
     ]
    },
    {
     "name": "stdout",
     "output_type": "stream",
     "text": [
      "failed\n",
      "Fail sanity check - distance at the bottom 723.9555934142378 right x point: 1065.5223087618135 left x point: 341.5667153475757\n"
     ]
    },
    {
     "name": "stderr",
     "output_type": "stream",
     "text": [
      "\n",
      "\n",
      "t:  53%|█████▎    | 64/120 [00:17<00:14,  3.78it/s, now=None]\u001b[A\u001b[A"
     ]
    },
    {
     "name": "stdout",
     "output_type": "stream",
     "text": [
      "failed\n",
      "Fail sanity check - distance at the bottom 724.4791595663432 right x point: 1065.5223087618135 left x point: 341.0431491954702\n"
     ]
    },
    {
     "name": "stderr",
     "output_type": "stream",
     "text": [
      "\n",
      "\n",
      "t:  54%|█████▍    | 65/120 [00:18<00:14,  3.72it/s, now=None]\u001b[A\u001b[A"
     ]
    },
    {
     "name": "stdout",
     "output_type": "stream",
     "text": [
      "failed\n",
      "Fail sanity check - distance at the bottom 725.298323736752 right x point: 1065.5223087618135 left x point: 340.22398502506155\n"
     ]
    },
    {
     "name": "stderr",
     "output_type": "stream",
     "text": [
      "\n",
      "\n",
      "t:  55%|█████▌    | 66/120 [00:18<00:14,  3.64it/s, now=None]\u001b[A\u001b[A"
     ]
    },
    {
     "name": "stdout",
     "output_type": "stream",
     "text": [
      "failed\n",
      "Fail sanity check - distance at the bottom 725.1260133781897 right x point: 1065.5223087618135 left x point: 340.39629538362385\n"
     ]
    },
    {
     "name": "stderr",
     "output_type": "stream",
     "text": [
      "\n",
      "\n",
      "t:  56%|█████▌    | 67/120 [00:18<00:15,  3.52it/s, now=None]\u001b[A\u001b[A\n",
      "\n",
      "t:  57%|█████▋    | 68/120 [00:19<00:15,  3.38it/s, now=None]\u001b[A\u001b[A"
     ]
    },
    {
     "name": "stdout",
     "output_type": "stream",
     "text": [
      "Fail sanity check - curvature left curvature: 131.0 right curvature: 702.0\n"
     ]
    },
    {
     "name": "stderr",
     "output_type": "stream",
     "text": [
      "\n",
      "\n",
      "t:  57%|█████▊    | 69/120 [00:19<00:15,  3.39it/s, now=None]\u001b[A\u001b[A"
     ]
    },
    {
     "name": "stdout",
     "output_type": "stream",
     "text": [
      "failed\n",
      "Fail sanity check - curvature left curvature: 131.0 right curvature: 678.0\n"
     ]
    },
    {
     "name": "stderr",
     "output_type": "stream",
     "text": [
      "\n",
      "\n",
      "t:  58%|█████▊    | 70/120 [00:19<00:15,  3.28it/s, now=None]\u001b[A\u001b[A"
     ]
    },
    {
     "name": "stdout",
     "output_type": "stream",
     "text": [
      "failed\n",
      "Fail sanity check - curvature left curvature: 131.0 right curvature: 664.0\n"
     ]
    },
    {
     "name": "stderr",
     "output_type": "stream",
     "text": [
      "\n",
      "\n",
      "t:  59%|█████▉    | 71/120 [00:19<00:14,  3.32it/s, now=None]\u001b[A\u001b[A"
     ]
    },
    {
     "name": "stdout",
     "output_type": "stream",
     "text": [
      "failed\n",
      "Fail sanity check - curvature left curvature: 131.0 right curvature: 969.0\n"
     ]
    },
    {
     "name": "stderr",
     "output_type": "stream",
     "text": [
      "\n",
      "\n",
      "t:  60%|██████    | 72/120 [00:20<00:14,  3.35it/s, now=None]\u001b[A\u001b[A"
     ]
    },
    {
     "name": "stdout",
     "output_type": "stream",
     "text": [
      "failed\n",
      "Fail sanity check - curvature left curvature: 131.0 right curvature: 1838.0\n"
     ]
    },
    {
     "name": "stderr",
     "output_type": "stream",
     "text": [
      "\n",
      "\n",
      "t:  61%|██████    | 73/120 [00:20<00:14,  3.16it/s, now=None]\u001b[A\u001b[A"
     ]
    },
    {
     "name": "stdout",
     "output_type": "stream",
     "text": [
      "failed\n"
     ]
    },
    {
     "name": "stderr",
     "output_type": "stream",
     "text": [
      "\n",
      "\n",
      "t:  62%|██████▏   | 74/120 [00:20<00:13,  3.32it/s, now=None]\u001b[A\u001b[A"
     ]
    },
    {
     "name": "stdout",
     "output_type": "stream",
     "text": [
      "failed\n",
      "Fail sanity check - curvature left curvature: 131.0 right curvature: 2847.0\n"
     ]
    },
    {
     "name": "stderr",
     "output_type": "stream",
     "text": [
      "\n",
      "\n",
      "t:  62%|██████▎   | 75/120 [00:21<00:13,  3.44it/s, now=None]\u001b[A\u001b[A"
     ]
    },
    {
     "name": "stdout",
     "output_type": "stream",
     "text": [
      "failed\n",
      "Fail sanity check - curvature left curvature: 131.0 right curvature: 1140.0\n"
     ]
    },
    {
     "name": "stderr",
     "output_type": "stream",
     "text": [
      "\n",
      "\n",
      "t:  63%|██████▎   | 76/120 [00:21<00:12,  3.53it/s, now=None]\u001b[A\u001b[A"
     ]
    },
    {
     "name": "stdout",
     "output_type": "stream",
     "text": [
      "failed\n",
      "Fail sanity check - curvature left curvature: 131.0 right curvature: 721.0\n"
     ]
    },
    {
     "name": "stderr",
     "output_type": "stream",
     "text": [
      "\n",
      "\n",
      "t:  64%|██████▍   | 77/120 [00:21<00:12,  3.56it/s, now=None]\u001b[A\u001b[A"
     ]
    },
    {
     "name": "stdout",
     "output_type": "stream",
     "text": [
      "failed\n"
     ]
    },
    {
     "name": "stderr",
     "output_type": "stream",
     "text": [
      "\n",
      "\n",
      "t:  65%|██████▌   | 78/120 [00:21<00:11,  3.61it/s, now=None]\u001b[A\u001b[A"
     ]
    },
    {
     "name": "stdout",
     "output_type": "stream",
     "text": [
      "failed\n"
     ]
    },
    {
     "name": "stderr",
     "output_type": "stream",
     "text": [
      "\n",
      "\n",
      "t:  66%|██████▌   | 79/120 [00:22<00:11,  3.64it/s, now=None]\u001b[A\u001b[A"
     ]
    },
    {
     "name": "stdout",
     "output_type": "stream",
     "text": [
      "failed\n"
     ]
    },
    {
     "name": "stderr",
     "output_type": "stream",
     "text": [
      "\n",
      "\n",
      "t:  67%|██████▋   | 80/120 [00:22<00:10,  3.68it/s, now=None]\u001b[A\u001b[A\n",
      "\n",
      "t:  68%|██████▊   | 81/120 [00:22<00:10,  3.69it/s, now=None]\u001b[A\u001b[A\n",
      "\n",
      "t:  68%|██████▊   | 82/120 [00:22<00:10,  3.74it/s, now=None]\u001b[A\u001b[A\n",
      "\n",
      "t:  69%|██████▉   | 83/120 [00:23<00:09,  3.79it/s, now=None]\u001b[A\u001b[A\n",
      "\n",
      "t:  70%|███████   | 84/120 [00:23<00:09,  3.83it/s, now=None]\u001b[A\u001b[A\n",
      "\n",
      "t:  71%|███████   | 85/120 [00:23<00:09,  3.81it/s, now=None]\u001b[A\u001b[A\n",
      "\n",
      "t:  72%|███████▏  | 86/120 [00:24<00:09,  3.76it/s, now=None]\u001b[A\u001b[A\n",
      "\n",
      "t:  72%|███████▎  | 87/120 [00:24<00:08,  3.71it/s, now=None]\u001b[A\u001b[A\n",
      "\n",
      "t:  73%|███████▎  | 88/120 [00:24<00:08,  3.74it/s, now=None]\u001b[A\u001b[A\n",
      "\n",
      "t:  74%|███████▍  | 89/120 [00:24<00:08,  3.57it/s, now=None]\u001b[A\u001b[A\n",
      "\n",
      "t:  75%|███████▌  | 90/120 [00:25<00:08,  3.65it/s, now=None]\u001b[A\u001b[A\n",
      "\n",
      "t:  76%|███████▌  | 91/120 [00:25<00:07,  3.64it/s, now=None]\u001b[A\u001b[A\n",
      "\n",
      "t:  77%|███████▋  | 92/120 [00:25<00:07,  3.57it/s, now=None]\u001b[A\u001b[A\n",
      "\n",
      "t:  78%|███████▊  | 93/120 [00:26<00:08,  3.31it/s, now=None]\u001b[A\u001b[A\n",
      "\n",
      "t:  78%|███████▊  | 94/120 [00:26<00:07,  3.35it/s, now=None]\u001b[A\u001b[A\n",
      "\n",
      "t:  79%|███████▉  | 95/120 [00:26<00:07,  3.38it/s, now=None]\u001b[A\u001b[A\n",
      "\n",
      "t:  80%|████████  | 96/120 [00:26<00:06,  3.56it/s, now=None]\u001b[A\u001b[A\n",
      "\n",
      "t:  81%|████████  | 97/120 [00:27<00:06,  3.32it/s, now=None]\u001b[A\u001b[A\n",
      "\n",
      "t:  82%|████████▏ | 98/120 [00:27<00:07,  3.08it/s, now=None]\u001b[A\u001b[A\n",
      "\n",
      "t:  82%|████████▎ | 99/120 [00:27<00:06,  3.12it/s, now=None]\u001b[A\u001b[A\n",
      "\n",
      "t:  83%|████████▎ | 100/120 [00:28<00:05,  3.36it/s, now=None]\u001b[A\u001b[A\n",
      "\n",
      "t:  84%|████████▍ | 101/120 [00:28<00:06,  3.11it/s, now=None]\u001b[A\u001b[A\n",
      "\n",
      "t:  85%|████████▌ | 102/120 [00:28<00:05,  3.34it/s, now=None]\u001b[A\u001b[A\n",
      "\n",
      "t:  86%|████████▌ | 103/120 [00:29<00:05,  3.27it/s, now=None]\u001b[A\u001b[A\n",
      "\n",
      "t:  87%|████████▋ | 104/120 [00:29<00:04,  3.47it/s, now=None]\u001b[A\u001b[A\n",
      "\n",
      "t:  88%|████████▊ | 105/120 [00:29<00:04,  3.58it/s, now=None]\u001b[A\u001b[A\n",
      "\n",
      "t:  88%|████████▊ | 106/120 [00:29<00:03,  3.66it/s, now=None]\u001b[A\u001b[A\n",
      "\n",
      "t:  89%|████████▉ | 107/120 [00:30<00:03,  3.76it/s, now=None]\u001b[A\u001b[A\n",
      "\n",
      "t:  90%|█████████ | 108/120 [00:30<00:03,  3.83it/s, now=None]\u001b[A\u001b[A"
     ]
    },
    {
     "name": "stdout",
     "output_type": "stream",
     "text": [
      "Fail sanity check - curvature left curvature: 307.0 right curvature: 2008.0\n"
     ]
    },
    {
     "name": "stderr",
     "output_type": "stream",
     "text": [
      "\n",
      "\n",
      "t:  91%|█████████ | 109/120 [00:30<00:02,  3.86it/s, now=None]\u001b[A\u001b[A"
     ]
    },
    {
     "name": "stdout",
     "output_type": "stream",
     "text": [
      "failed\n"
     ]
    },
    {
     "name": "stderr",
     "output_type": "stream",
     "text": [
      "\n",
      "\n",
      "t:  92%|█████████▏| 110/120 [00:30<00:02,  3.90it/s, now=None]\u001b[A\u001b[A"
     ]
    },
    {
     "name": "stdout",
     "output_type": "stream",
     "text": [
      "failed\n",
      "Fail sanity check - curvature left curvature: 307.0 right curvature: 2661.0\n"
     ]
    },
    {
     "name": "stderr",
     "output_type": "stream",
     "text": [
      "\n",
      "\n",
      "t:  92%|█████████▎| 111/120 [00:31<00:02,  3.93it/s, now=None]\u001b[A\u001b[A"
     ]
    },
    {
     "name": "stdout",
     "output_type": "stream",
     "text": [
      "failed\n",
      "Fail sanity check - curvature left curvature: 307.0 right curvature: 1865.0\n"
     ]
    },
    {
     "name": "stderr",
     "output_type": "stream",
     "text": [
      "\n",
      "\n",
      "t:  93%|█████████▎| 112/120 [00:31<00:02,  3.95it/s, now=None]\u001b[A\u001b[A"
     ]
    },
    {
     "name": "stdout",
     "output_type": "stream",
     "text": [
      "failed\n",
      "Fail sanity check - curvature left curvature: 307.0 right curvature: 2671.0\n"
     ]
    },
    {
     "name": "stderr",
     "output_type": "stream",
     "text": [
      "\n",
      "\n",
      "t:  94%|█████████▍| 113/120 [00:31<00:01,  3.96it/s, now=None]\u001b[A\u001b[A"
     ]
    },
    {
     "name": "stdout",
     "output_type": "stream",
     "text": [
      "failed\n",
      "Fail sanity check - curvature left curvature: 307.0 right curvature: 2615.0\n"
     ]
    },
    {
     "name": "stderr",
     "output_type": "stream",
     "text": [
      "\n",
      "\n",
      "t:  95%|█████████▌| 114/120 [00:31<00:01,  3.98it/s, now=None]\u001b[A\u001b[A"
     ]
    },
    {
     "name": "stdout",
     "output_type": "stream",
     "text": [
      "failed\n"
     ]
    },
    {
     "name": "stderr",
     "output_type": "stream",
     "text": [
      "\n",
      "\n",
      "t:  96%|█████████▌| 115/120 [00:32<00:01,  3.96it/s, now=None]\u001b[A\u001b[A"
     ]
    },
    {
     "name": "stdout",
     "output_type": "stream",
     "text": [
      "failed\n",
      "Fail sanity check - curvature left curvature: 307.0 right curvature: 3593.0\n"
     ]
    },
    {
     "name": "stderr",
     "output_type": "stream",
     "text": [
      "\n",
      "\n",
      "t:  97%|█████████▋| 116/120 [00:32<00:00,  4.02it/s, now=None]\u001b[A\u001b[A"
     ]
    },
    {
     "name": "stdout",
     "output_type": "stream",
     "text": [
      "failed\n",
      "failed\n",
      "Fail sanity check - curvature left curvature: 307.0 right curvature: 3593.0\n",
      "failed\n"
     ]
    },
    {
     "name": "stderr",
     "output_type": "stream",
     "text": [
      "\n",
      "\n",
      "t:  98%|█████████▊| 117/120 [00:32<00:00,  4.27it/s, now=None]\u001b[A\u001b[A"
     ]
    },
    {
     "name": "stdout",
     "output_type": "stream",
     "text": [
      "failed\n",
      "Fail sanity check - curvature left curvature: 307.0 right curvature: 3593.0\n",
      "failed\n",
      "failed\n",
      "Fail sanity check - curvature left curvature: 307.0 right curvature: 3593.0\n"
     ]
    },
    {
     "name": "stderr",
     "output_type": "stream",
     "text": [
      "\n",
      "\n",
      "t:  98%|█████████▊| 118/120 [00:32<00:00,  4.46it/s, now=None]\u001b[A\u001b[A\n",
      "\n",
      "t:  99%|█████████▉| 119/120 [00:32<00:00,  4.50it/s, now=None]\u001b[A\u001b[A"
     ]
    },
    {
     "name": "stdout",
     "output_type": "stream",
     "text": [
      "failed\n",
      "failed\n",
      "Fail sanity check - curvature left curvature: 307.0 right curvature: 3593.0\n",
      "failed\n"
     ]
    },
    {
     "name": "stderr",
     "output_type": "stream",
     "text": [
      "\n",
      "\n",
      "t: 100%|██████████| 120/120 [00:33<00:00,  4.64it/s, now=None]\u001b[A\u001b[A"
     ]
    },
    {
     "name": "stdout",
     "output_type": "stream",
     "text": [
      "failed\n",
      "Fail sanity check - curvature left curvature: 307.0 right curvature: 3593.0\n",
      "failed\n",
      "failed\n",
      "Fail sanity check - curvature left curvature: 307.0 right curvature: 3593.0\n"
     ]
    },
    {
     "name": "stderr",
     "output_type": "stream",
     "text": [
      "\n",
      "\n",
      "                                                              \u001b[A\u001b[A\n",
      "t:  27%|██▋       | 132/485 [02:48<01:09,  5.07it/s, now=None]\n",
      "                                                              \u001b[A\n",
      "t:  27%|██▋       | 132/485 [02:48<01:09,  5.07it/s, now=None]\n",
      "t:  88%|████████▊ | 132/150 [01:19<00:04,  4.02it/s, now=None]\u001b[A"
     ]
    },
    {
     "name": "stdout",
     "output_type": "stream",
     "text": [
      "Moviepy - Done !\n",
      "Moviepy - video ready challenge_video_output.mp4\n",
      "CPU times: user 1min 3s, sys: 9.84 s, total: 1min 13s\n",
      "Wall time: 35.3 s\n"
     ]
    }
   ],
   "source": [
    "if True:\n",
    "#if False:\n",
    "    white_output = 'challenge_video_output.mp4'\n",
    "    clip1 = VideoFileClip(\"challenge_video.mp4\")\n",
    "    white_clip = clip1.fl_image(Frame(mtx, dist, M_1, M_inv_1, img_size,2, True)).subclip(0,5) #NOTE: this function expects color images!!\n",
    "    %time white_clip.write_videofile(white_output, audio=False)"
   ]
  },
  {
   "cell_type": "code",
   "execution_count": 14,
   "metadata": {},
   "outputs": [
    {
     "data": {
      "text/html": [
       "\n",
       "<video width=\"960\" height=\"540\" controls>\n",
       "  <source src=\"challenge_video_output.mp4\">\n",
       "</video>\n"
      ],
      "text/plain": [
       "<IPython.core.display.HTML object>"
      ]
     },
     "execution_count": 14,
     "metadata": {},
     "output_type": "execute_result"
    }
   ],
   "source": [
    "HTML(\"\"\"\n",
    "<video width=\"960\" height=\"540\" controls>\n",
    "  <source src=\"{0}\">\n",
    "</video>\n",
    "\"\"\".format(white_output))"
   ]
  },
  {
   "cell_type": "code",
   "execution_count": 14,
   "metadata": {},
   "outputs": [],
   "source": [
    "def process_image_1(original_image, fname, mtx, dist, M, M_inv):\n",
    "    \n",
    "    ## 1 - Apply a distortion correction to the image ##\n",
    "    undist = undistort_image(original_image, mtx, dist)\n",
    "    save_undistorted_images(output_path, fname, original_image, undist)\n",
    "\n",
    "    ## 2 - Use color transforms, gradients, etc., to create a thresholded binary image ##\n",
    "    ksize = 3 # Sobel kernel size \n",
    "\n",
    "    # Apply each of the gradient thresholding functions\n",
    "    gradx = abs_sobel_thresh(undist, orient='x', sobel_kernel=ksize, thresh=(30, 200))\n",
    "    grady = abs_sobel_thresh(undist, orient='y', sobel_kernel=ksize, thresh=(50, 200))\n",
    "    mag_binary = mag_thresh(undist, sobel_kernel=ksize, mag_thresh=(30, 200))\n",
    "    dir_binary = dir_threshold(undist, sobel_kernel=ksize, thresh=(0.7, 1.3))\n",
    "\n",
    "    # Apply each of the color thresholding functions for HLS color space\n",
    "    hls_colors_binary = hls_select(undist, s_thresh=(170, 240), l_thresh=(255, 255)) # l - 200\n",
    "\n",
    "    # Apply each of the color thresholding functions for HSV color space\n",
    "    hsv_colors_binary = hsv_select(undist, s_thresh=(170,240), v_thresh=(255, 255), vs_thresh=(200, 255)) # v - 200\n",
    "        \n",
    "    # Combine all of the thresholding binaries\n",
    "    binary_image = np.zeros_like(mag_binary)\n",
    "    binary_image[(hsv_colors_binary == 1) | (hls_colors_binary == 1) | ((mag_binary == 1) & (dir_binary == 1)) ] = 1\n",
    "    #binary_image = hls_colors_binary\n",
    "    save_binary_images(output_path, fname, undist, binary_image)\n",
    "    \n",
    "    # 3 - Apply a perspective transform to rectify binary image (\"birds-eye view\") ##\n",
    "\n",
    "    # Warp the image to a top-down view\n",
    "    img_size = (undist.shape[1], undist.shape[0])\n",
    "    binary_warped = cv2.warpPerspective(binary_image, M, img_size, flags=cv2.INTER_LINEAR)\n",
    "    \n",
    "    warped = cv2.warpPerspective(undist, M, img_size, flags=cv2.INTER_LINEAR)\n",
    "    save_warped_images(output_path, fname, binary_warped, warped)\n",
    "\n",
    "    ## 4 - Detect lane pixels and fit to find the lane boundary ##\n",
    "    \n",
    "    # Create a sliding window and find out which activated pixels fall into the window\n",
    "    out_img, left_fit, right_fit, left_fitx, right_fitx, ploty = fit_polynomial(binary_warped)\n",
    "\n",
    "    ## 5 - Determine the curvature of the lane and vehicle position with respect to center ##\n",
    "    \n",
    "    radius_curvature, left_radius_curvature , right_radius_curvature = measure_curvature_real(out_img.shape[0], left_fit, right_fit)\n",
    "\n",
    "    rel_vehicle_position = measure_rel_vehicle_position(out_img.shape, left_fit, right_fit)\n",
    "\n",
    "    ## 6 - Warp the detected lane boundaries back onto the original image ##\n",
    "\n",
    "    # Create an image to draw the lines on\n",
    "    warp_zero = np.zeros_like(binary_warped).astype(np.uint8)\n",
    "    color_warp = np.dstack((warp_zero, warp_zero, warp_zero))\n",
    "\n",
    "    # Recast the x and y points into usable format for cv2.fillPoly()\n",
    "    pts_left = np.array([np.transpose(np.vstack([left_fitx, ploty]))])\n",
    "    pts_right = np.array([np.flipud(np.transpose(np.vstack([right_fitx, ploty])))])\n",
    "    pts = np.hstack((pts_left, pts_right))\n",
    "\n",
    "    # Draw the lane onto the warped blank image\n",
    "    cv2.fillPoly(color_warp, np.int_([pts]), (0,255, 0))\n",
    "\n",
    "    # Warp the blank back to original image space using inverse perspective matrix (Minv)\n",
    "    newwarp = cv2.warpPerspective(color_warp, M_inv, img_size) \n",
    "\n",
    "    ## 7 - Output visual display of the lane boundaries and numerical estimation of lane curvature and vehicle position ##\n",
    "    # Combine the result with the original image\n",
    "    result = cv2.addWeighted(undist, 1, newwarp, 0.3, 0)\n",
    "    result = cv2.addWeighted(original_image, 1, newwarp, 0.3, 0)\n",
    "\n",
    "    save_lane_lines_image(output_path, fname, out_img)\n",
    "\n",
    "    print(\"Radius curvature = \", radius_curvature, 'm')\n",
    "    print(\"Left Radius curvature = \", left_radius_curvature, 'm', \"Right Radius curvature = \", right_radius_curvature, 'm', )\n",
    "    print(\"Relative vehicle position with respect to the line lane center = \",rel_vehicle_position, 'm')\n",
    "\n",
    "    save_pipeline_image(output_path, fname, result, radius_curvature, rel_vehicle_position )"
   ]
  },
  {
   "cell_type": "code",
   "execution_count": 15,
   "metadata": {},
   "outputs": [
    {
     "name": "stdout",
     "output_type": "stream",
     "text": [
      "teste\n",
      "Radius curvature =  954.0 m\n",
      "Left Radius curvature =  1688.0 m Right Radius curvature =  220.0 m\n",
      "Relative vehicle position with respect to the line lane center =  0.29 m\n",
      "\n",
      "\n"
     ]
    }
   ],
   "source": [
    "# Get the transform matrix using 4 source and destination points calculated looking to the straight line image\n",
    "src = np.float32([[250, 720],[1050, 720],[605, 480],[715, 480]])\n",
    "dst = np.float32([[350, 720],[950, 720],[350,0],[950,0]])\n",
    "\n",
    "# Get the transform matrix M using the src and dst points\n",
    "M_1 = cv2.getPerspectiveTransform(src, dst)\n",
    "\n",
    "# Get the invert transform matrix M using the src and dst points\n",
    "M_inv_1 = cv2.getPerspectiveTransform(dst, src)\n",
    "\n",
    "fname = \"challenge_video.jpg\"\n",
    "\n",
    "# Read the image\n",
    "clip1 = VideoFileClip(\"harder_challenge_video.mp4\")\n",
    "img = clip1.get_frame(100 / clip1.fps) # get frame by index\n",
    "img_size = img.shape\n",
    "\n",
    "process_image_1(img, fname, mtx, dist, M, M_inv)\n",
    "\n",
    "print('\\n')"
   ]
  },
  {
   "cell_type": "code",
   "execution_count": 16,
   "metadata": {},
   "outputs": [
    {
     "name": "stderr",
     "output_type": "stream",
     "text": [
      "t:  27%|██▋       | 132/485 [00:44<01:16,  4.63it/s, now=None]\n",
      "t:   0%|          | 0/125 [00:00<?, ?it/s, now=None]\u001b[A"
     ]
    },
    {
     "name": "stdout",
     "output_type": "stream",
     "text": [
      "Moviepy - Building video harder_challenge_video_output.mp4.\n",
      "Moviepy - Writing video harder_challenge_video_output.mp4\n",
      "\n"
     ]
    },
    {
     "name": "stderr",
     "output_type": "stream",
     "text": [
      "\n",
      "t:   2%|▏         | 2/125 [00:01<01:27,  1.40it/s, now=None]\u001b[A\n",
      "t:   2%|▏         | 3/125 [00:02<01:49,  1.12it/s, now=None]\u001b[A\n",
      "t:   3%|▎         | 4/125 [00:04<02:02,  1.02s/it, now=None]\u001b[A\n",
      "t:   4%|▍         | 5/125 [00:05<02:11,  1.10s/it, now=None]\u001b[A\n",
      "t:   5%|▍         | 6/125 [00:06<02:20,  1.18s/it, now=None]\u001b[A\n",
      "t:   6%|▌         | 7/125 [00:08<02:30,  1.27s/it, now=None]\u001b[A\n",
      "t:   6%|▋         | 8/125 [00:09<02:30,  1.29s/it, now=None]\u001b[A\n",
      "t:   7%|▋         | 9/125 [00:10<02:30,  1.30s/it, now=None]\u001b[A\n",
      "t:   8%|▊         | 10/125 [00:12<02:29,  1.30s/it, now=None]\u001b[A\n",
      "t:   9%|▉         | 11/125 [00:13<02:27,  1.29s/it, now=None]\u001b[A\n",
      "t:  10%|▉         | 12/125 [00:14<02:27,  1.30s/it, now=None]\u001b[A\n",
      "t:  10%|█         | 13/125 [00:16<02:29,  1.33s/it, now=None]\u001b[A\n",
      "t:  11%|█         | 14/125 [00:17<02:28,  1.34s/it, now=None]\u001b[A\n",
      "t:  12%|█▏        | 15/125 [00:18<02:26,  1.33s/it, now=None]\u001b[A\n",
      "t:  13%|█▎        | 16/125 [00:20<02:24,  1.33s/it, now=None]\u001b[A\n",
      "t:  14%|█▎        | 17/125 [00:21<02:27,  1.37s/it, now=None]\u001b[A\n",
      "t:  14%|█▍        | 18/125 [00:23<02:28,  1.39s/it, now=None]\u001b[A\n",
      "t:  15%|█▌        | 19/125 [00:24<02:25,  1.38s/it, now=None]\u001b[A\n",
      "t:  16%|█▌        | 20/125 [00:25<02:30,  1.43s/it, now=None]\u001b[A\n",
      "t:  17%|█▋        | 21/125 [00:27<02:28,  1.43s/it, now=None]\u001b[A\n",
      "t:  18%|█▊        | 22/125 [00:28<02:28,  1.45s/it, now=None]\u001b[A"
     ]
    },
    {
     "name": "stdout",
     "output_type": "stream",
     "text": [
      "Fail sanity check - curvature left curvature: 1285.0 right curvature: 184.0\n",
      "test\n",
      "teste2 540 720\n",
      "720 720\n",
      "test\n",
      "teste2 360 720\n",
      "720 720\n"
     ]
    },
    {
     "name": "stderr",
     "output_type": "stream",
     "text": [
      "\n",
      "t:  18%|█▊        | 23/125 [00:30<02:27,  1.45s/it, now=None]\u001b[A"
     ]
    },
    {
     "name": "stdout",
     "output_type": "stream",
     "text": [
      "teste2 540 720\n",
      "720 720\n",
      "teste2 360 720\n",
      "720 720\n"
     ]
    },
    {
     "name": "stderr",
     "output_type": "stream",
     "text": [
      "\n",
      "t:  19%|█▉        | 24/125 [00:31<02:28,  1.48s/it, now=None]\u001b[A"
     ]
    },
    {
     "name": "stdout",
     "output_type": "stream",
     "text": [
      "Fail sanity check - curvature left curvature: 2424.0 right curvature: 158.0\n",
      "test\n",
      "teste2 540 720\n",
      "720 720\n",
      "test\n",
      "teste2 360 720\n",
      "720 720\n"
     ]
    },
    {
     "name": "stderr",
     "output_type": "stream",
     "text": [
      "\n",
      "t:  20%|██        | 25/125 [00:33<02:26,  1.46s/it, now=None]\u001b[A"
     ]
    },
    {
     "name": "stdout",
     "output_type": "stream",
     "text": [
      "teste2 540 720\n",
      "720 720\n",
      "teste2 360 720\n",
      "720 720\n"
     ]
    },
    {
     "name": "stderr",
     "output_type": "stream",
     "text": [
      "\n",
      "t:  21%|██        | 26/125 [00:34<02:24,  1.46s/it, now=None]\u001b[A"
     ]
    },
    {
     "name": "stdout",
     "output_type": "stream",
     "text": [
      "teste2 540 720\n",
      "720 720\n",
      "teste2 360 720\n",
      "720 720\n"
     ]
    },
    {
     "name": "stderr",
     "output_type": "stream",
     "text": [
      "\n",
      "t:  22%|██▏       | 27/125 [00:36<02:18,  1.41s/it, now=None]\u001b[A"
     ]
    },
    {
     "name": "stdout",
     "output_type": "stream",
     "text": [
      "teste2 540 720\n",
      "720 720\n",
      "teste2 360 720\n",
      "720 720\n"
     ]
    },
    {
     "name": "stderr",
     "output_type": "stream",
     "text": [
      "\n",
      "t:  22%|██▏       | 28/125 [00:37<02:13,  1.37s/it, now=None]\u001b[A"
     ]
    },
    {
     "name": "stdout",
     "output_type": "stream",
     "text": [
      "teste2 540 720\n",
      "720 720\n",
      "teste2 360 720\n",
      "720 720\n"
     ]
    },
    {
     "name": "stderr",
     "output_type": "stream",
     "text": [
      "\n",
      "t:  23%|██▎       | 29/125 [00:38<02:14,  1.40s/it, now=None]\u001b[A"
     ]
    },
    {
     "name": "stdout",
     "output_type": "stream",
     "text": [
      "teste2 540 720\n",
      "720 720\n",
      "teste2 360 720\n",
      "720 720\n"
     ]
    },
    {
     "name": "stderr",
     "output_type": "stream",
     "text": [
      "\n",
      "t:  24%|██▍       | 30/125 [00:40<02:09,  1.36s/it, now=None]\u001b[A"
     ]
    },
    {
     "name": "stdout",
     "output_type": "stream",
     "text": [
      "Fail sanity check - roughly parallel (mean distance) 735.1728810860836\n",
      "test\n",
      "teste2 540 720\n",
      "720 720\n"
     ]
    },
    {
     "name": "stderr",
     "output_type": "stream",
     "text": [
      "\n",
      "t:  25%|██▍       | 31/125 [00:41<02:07,  1.35s/it, now=None]\u001b[A"
     ]
    },
    {
     "name": "stdout",
     "output_type": "stream",
     "text": [
      "Fail sanity check - curvature left curvature: 725.0 right curvature: 107.0\n",
      "Fail sanity check - roughly parallel (maximum distance) 961.4403091499863\n",
      "Fail sanity check - roughly parallel (mean distance) 766.7265700870033\n",
      "test\n",
      "teste2 540 720\n",
      "720 720\n"
     ]
    },
    {
     "name": "stderr",
     "output_type": "stream",
     "text": [
      "\n",
      "t:  26%|██▌       | 32/125 [00:42<02:05,  1.35s/it, now=None]\u001b[A"
     ]
    },
    {
     "name": "stdout",
     "output_type": "stream",
     "text": [
      "Fail sanity check - roughly parallel (maximum distance) 1027.8964778306458\n",
      "Fail sanity check - roughly parallel (mean distance) 800.1799319054273\n",
      "test\n",
      "teste2 540 720\n",
      "720 720\n"
     ]
    },
    {
     "name": "stderr",
     "output_type": "stream",
     "text": [
      "\n",
      "t:  26%|██▋       | 33/125 [00:44<02:10,  1.42s/it, now=None]\u001b[A"
     ]
    },
    {
     "name": "stdout",
     "output_type": "stream",
     "text": [
      "Fail sanity check - roughly parallel (maximum distance) 982.4413045753687\n",
      "Fail sanity check - roughly parallel (mean distance) 769.1425563319553\n",
      "test\n",
      "teste2 540 720\n",
      "720 720\n"
     ]
    },
    {
     "name": "stderr",
     "output_type": "stream",
     "text": [
      "\n",
      "t:  27%|██▋       | 34/125 [00:45<02:12,  1.46s/it, now=None]\u001b[A"
     ]
    },
    {
     "name": "stdout",
     "output_type": "stream",
     "text": [
      "Fail sanity check - roughly parallel (maximum distance) 975.763887989197\n",
      "Fail sanity check - roughly parallel (mean distance) 766.2294080152194\n",
      "test\n",
      "teste2 540 720\n",
      "720 720\n"
     ]
    },
    {
     "name": "stderr",
     "output_type": "stream",
     "text": [
      "\n",
      "t:  28%|██▊       | 35/125 [00:47<02:12,  1.47s/it, now=None]\u001b[A"
     ]
    },
    {
     "name": "stdout",
     "output_type": "stream",
     "text": [
      "Fail sanity check - roughly parallel (maximum distance) 929.8078165390017\n",
      "Fail sanity check - roughly parallel (mean distance) 732.9951895689744\n",
      "test\n",
      "teste2 540 720\n",
      "720 720\n"
     ]
    },
    {
     "name": "stderr",
     "output_type": "stream",
     "text": [
      "\n",
      "t:  29%|██▉       | 36/125 [00:48<02:09,  1.45s/it, now=None]\u001b[A"
     ]
    },
    {
     "name": "stdout",
     "output_type": "stream",
     "text": [
      "Fail sanity check - roughly parallel (maximum distance) 921.5873732973703\n",
      "Fail sanity check - roughly parallel (mean distance) 726.6318746046173\n",
      "test\n",
      "teste2 480 720\n",
      "720 720\n"
     ]
    },
    {
     "name": "stderr",
     "output_type": "stream",
     "text": [
      "\n",
      "t:  30%|██▉       | 37/125 [00:50<02:14,  1.52s/it, now=None]\u001b[A"
     ]
    },
    {
     "name": "stdout",
     "output_type": "stream",
     "text": [
      "Fail sanity check - roughly parallel (maximum distance) 906.4104020480754\n",
      "test\n",
      "teste2 480 720\n",
      "720 720\n"
     ]
    },
    {
     "name": "stderr",
     "output_type": "stream",
     "text": [
      "\n",
      "t:  30%|███       | 38/125 [00:52<02:14,  1.54s/it, now=None]\u001b[A"
     ]
    },
    {
     "name": "stdout",
     "output_type": "stream",
     "text": [
      "teste2 480 720\n",
      "720 720\n"
     ]
    },
    {
     "name": "stderr",
     "output_type": "stream",
     "text": [
      "\n",
      "t:  31%|███       | 39/125 [00:53<02:18,  1.61s/it, now=None]\u001b[A"
     ]
    },
    {
     "name": "stdout",
     "output_type": "stream",
     "text": [
      "teste2 480 720\n",
      "720 720\n"
     ]
    },
    {
     "name": "stderr",
     "output_type": "stream",
     "text": [
      "\n",
      "t:  32%|███▏      | 40/125 [00:56<02:31,  1.78s/it, now=None]\u001b[A"
     ]
    },
    {
     "name": "stdout",
     "output_type": "stream",
     "text": [
      "teste2 480 720\n",
      "720 720\n"
     ]
    },
    {
     "name": "stderr",
     "output_type": "stream",
     "text": [
      "\n",
      "t:  33%|███▎      | 41/125 [00:57<02:30,  1.79s/it, now=None]\u001b[A"
     ]
    },
    {
     "name": "stdout",
     "output_type": "stream",
     "text": [
      "teste2 480 720\n",
      "720 720\n"
     ]
    },
    {
     "name": "stderr",
     "output_type": "stream",
     "text": [
      "\n",
      "t:  34%|███▎      | 42/125 [00:59<02:19,  1.68s/it, now=None]\u001b[A"
     ]
    },
    {
     "name": "stdout",
     "output_type": "stream",
     "text": [
      "teste2 480 720\n",
      "720 720\n"
     ]
    },
    {
     "name": "stderr",
     "output_type": "stream",
     "text": [
      "\n",
      "t:  34%|███▍      | 43/125 [01:00<02:14,  1.63s/it, now=None]\u001b[A"
     ]
    },
    {
     "name": "stdout",
     "output_type": "stream",
     "text": [
      "teste2 480 720\n",
      "720 720\n"
     ]
    },
    {
     "name": "stderr",
     "output_type": "stream",
     "text": [
      "\n",
      "t:  35%|███▌      | 44/125 [01:02<02:07,  1.58s/it, now=None]\u001b[A"
     ]
    },
    {
     "name": "stdout",
     "output_type": "stream",
     "text": [
      "teste2 480 720\n",
      "720 720\n"
     ]
    },
    {
     "name": "stderr",
     "output_type": "stream",
     "text": [
      "\n",
      "t:  36%|███▌      | 45/125 [01:03<01:58,  1.48s/it, now=None]\u001b[A"
     ]
    },
    {
     "name": "stdout",
     "output_type": "stream",
     "text": [
      "teste2 480 720\n",
      "720 720\n"
     ]
    },
    {
     "name": "stderr",
     "output_type": "stream",
     "text": [
      "\n",
      "t:  37%|███▋      | 46/125 [01:05<02:01,  1.53s/it, now=None]\u001b[A"
     ]
    },
    {
     "name": "stdout",
     "output_type": "stream",
     "text": [
      "teste2 480 720\n",
      "720 720\n"
     ]
    },
    {
     "name": "stderr",
     "output_type": "stream",
     "text": [
      "\n",
      "t:  38%|███▊      | 47/125 [01:06<02:04,  1.59s/it, now=None]\u001b[A"
     ]
    },
    {
     "name": "stdout",
     "output_type": "stream",
     "text": [
      "Fail sanity check - roughly parallel (maximum distance) 902.7614729206817\n"
     ]
    },
    {
     "name": "stderr",
     "output_type": "stream",
     "text": [
      "\n",
      "t:  38%|███▊      | 48/125 [01:08<01:55,  1.50s/it, now=None]\u001b[A"
     ]
    },
    {
     "name": "stdout",
     "output_type": "stream",
     "text": [
      "Fail sanity check - curvature left curvature: 134.0 right curvature: 2512.0\n"
     ]
    },
    {
     "name": "stderr",
     "output_type": "stream",
     "text": [
      "\n",
      "t:  39%|███▉      | 49/125 [01:09<01:49,  1.44s/it, now=None]\u001b[A"
     ]
    },
    {
     "name": "stdout",
     "output_type": "stream",
     "text": [
      "Fail sanity check - curvature left curvature: 127.0 right curvature: 856.0\n"
     ]
    },
    {
     "name": "stderr",
     "output_type": "stream",
     "text": [
      "\n",
      "t:  40%|████      | 50/125 [01:10<01:45,  1.41s/it, now=None]\u001b[A\n",
      "t:  41%|████      | 51/125 [01:12<01:43,  1.40s/it, now=None]\u001b[A"
     ]
    },
    {
     "name": "stdout",
     "output_type": "stream",
     "text": [
      "Fail sanity check - roughly parallel (maximum distance) 928.5405083616819\n"
     ]
    },
    {
     "name": "stderr",
     "output_type": "stream",
     "text": [
      "\n",
      "t:  42%|████▏     | 52/125 [01:13<01:41,  1.39s/it, now=None]\u001b[A"
     ]
    },
    {
     "name": "stdout",
     "output_type": "stream",
     "text": [
      "Fail sanity check - curvature left curvature: 127.0 right curvature: 1077.0\n",
      "Fail sanity check - roughly parallel (maximum distance) 904.5492694003035\n"
     ]
    },
    {
     "name": "stderr",
     "output_type": "stream",
     "text": [
      "\n",
      "t:  42%|████▏     | 53/125 [01:14<01:38,  1.37s/it, now=None]\u001b[A"
     ]
    },
    {
     "name": "stdout",
     "output_type": "stream",
     "text": [
      "Fail sanity check - curvature left curvature: 137.0 right curvature: 1077.0\n",
      "test\n",
      "teste2 420 720\n",
      "720 720\n"
     ]
    },
    {
     "name": "stderr",
     "output_type": "stream",
     "text": [
      "\n",
      "t:  43%|████▎     | 54/125 [01:16<01:44,  1.47s/it, now=None]\u001b[A"
     ]
    },
    {
     "name": "stdout",
     "output_type": "stream",
     "text": [
      "teste2 420 720\n",
      "720 720\n"
     ]
    },
    {
     "name": "stderr",
     "output_type": "stream",
     "text": [
      "\n",
      "t:  44%|████▍     | 55/125 [01:18<01:43,  1.48s/it, now=None]\u001b[A"
     ]
    },
    {
     "name": "stdout",
     "output_type": "stream",
     "text": [
      "teste2 420 720\n",
      "720 720\n"
     ]
    },
    {
     "name": "stderr",
     "output_type": "stream",
     "text": [
      "\n",
      "t:  45%|████▍     | 56/125 [01:19<01:43,  1.50s/it, now=None]\u001b[A"
     ]
    },
    {
     "name": "stdout",
     "output_type": "stream",
     "text": [
      "teste2 420 720\n",
      "720 720\n"
     ]
    },
    {
     "name": "stderr",
     "output_type": "stream",
     "text": [
      "\n",
      "t:  46%|████▌     | 57/125 [01:21<01:41,  1.49s/it, now=None]\u001b[A"
     ]
    },
    {
     "name": "stdout",
     "output_type": "stream",
     "text": [
      "teste2 420 720\n",
      "720 720\n"
     ]
    },
    {
     "name": "stderr",
     "output_type": "stream",
     "text": [
      "\n",
      "t:  46%|████▋     | 58/125 [01:22<01:38,  1.46s/it, now=None]\u001b[A"
     ]
    },
    {
     "name": "stdout",
     "output_type": "stream",
     "text": [
      "teste2 420 720\n",
      "720 720\n"
     ]
    },
    {
     "name": "stderr",
     "output_type": "stream",
     "text": [
      "\n",
      "t:  47%|████▋     | 59/125 [01:23<01:35,  1.45s/it, now=None]\u001b[A"
     ]
    },
    {
     "name": "stdout",
     "output_type": "stream",
     "text": [
      "teste2 420 720\n",
      "720 720\n"
     ]
    },
    {
     "name": "stderr",
     "output_type": "stream",
     "text": [
      "\n",
      "t:  48%|████▊     | 60/125 [01:25<01:32,  1.42s/it, now=None]\u001b[A"
     ]
    },
    {
     "name": "stdout",
     "output_type": "stream",
     "text": [
      "teste2 420 720\n",
      "720 720\n"
     ]
    },
    {
     "name": "stderr",
     "output_type": "stream",
     "text": [
      "\n",
      "t:  49%|████▉     | 61/125 [01:26<01:32,  1.45s/it, now=None]\u001b[A"
     ]
    },
    {
     "name": "stdout",
     "output_type": "stream",
     "text": [
      "teste2 420 720\n",
      "720 720\n"
     ]
    },
    {
     "name": "stderr",
     "output_type": "stream",
     "text": [
      "\n",
      "t:  50%|████▉     | 62/125 [01:28<01:32,  1.46s/it, now=None]\u001b[A"
     ]
    },
    {
     "name": "stdout",
     "output_type": "stream",
     "text": [
      "teste2 420 720\n",
      "720 720\n"
     ]
    },
    {
     "name": "stderr",
     "output_type": "stream",
     "text": [
      "\n",
      "t:  50%|█████     | 63/125 [01:29<01:30,  1.46s/it, now=None]\u001b[A"
     ]
    },
    {
     "name": "stdout",
     "output_type": "stream",
     "text": [
      "Fail sanity check - curvature left curvature: 255.0 right curvature: 50.0\n",
      "test\n",
      "teste2 420 720\n",
      "720 720\n"
     ]
    },
    {
     "name": "stderr",
     "output_type": "stream",
     "text": [
      "\n",
      "t:  51%|█████     | 64/125 [01:31<01:28,  1.45s/it, now=None]\u001b[A"
     ]
    },
    {
     "name": "stdout",
     "output_type": "stream",
     "text": [
      "teste2 420 720\n",
      "720 720\n"
     ]
    },
    {
     "name": "stderr",
     "output_type": "stream",
     "text": [
      "\n",
      "t:  52%|█████▏    | 65/125 [01:32<01:23,  1.39s/it, now=None]\u001b[A"
     ]
    },
    {
     "name": "stdout",
     "output_type": "stream",
     "text": [
      "teste2 420 720\n",
      "720 720\n"
     ]
    },
    {
     "name": "stderr",
     "output_type": "stream",
     "text": [
      "\n",
      "t:  53%|█████▎    | 66/125 [01:33<01:20,  1.36s/it, now=None]\u001b[A"
     ]
    },
    {
     "name": "stdout",
     "output_type": "stream",
     "text": [
      "teste2 420 720\n",
      "720 720\n"
     ]
    },
    {
     "name": "stderr",
     "output_type": "stream",
     "text": [
      "\n",
      "t:  54%|█████▎    | 67/125 [01:35<01:22,  1.42s/it, now=None]\u001b[A"
     ]
    },
    {
     "name": "stdout",
     "output_type": "stream",
     "text": [
      "teste2 420 720\n",
      "720 720\n"
     ]
    },
    {
     "name": "stderr",
     "output_type": "stream",
     "text": [
      "\n",
      "t:  54%|█████▍    | 68/125 [01:36<01:21,  1.43s/it, now=None]\u001b[A"
     ]
    },
    {
     "name": "stdout",
     "output_type": "stream",
     "text": [
      "teste2 420 720\n",
      "720 720\n"
     ]
    },
    {
     "name": "stderr",
     "output_type": "stream",
     "text": [
      "\n",
      "t:  55%|█████▌    | 69/125 [01:38<01:21,  1.46s/it, now=None]\u001b[A"
     ]
    },
    {
     "name": "stdout",
     "output_type": "stream",
     "text": [
      "teste2 420 720\n",
      "720 720\n"
     ]
    },
    {
     "name": "stderr",
     "output_type": "stream",
     "text": [
      "\n",
      "t:  56%|█████▌    | 70/125 [01:39<01:19,  1.44s/it, now=None]\u001b[A"
     ]
    },
    {
     "name": "stdout",
     "output_type": "stream",
     "text": [
      "teste2 420 720\n",
      "720 720\n"
     ]
    },
    {
     "name": "stderr",
     "output_type": "stream",
     "text": [
      "\n",
      "t:  57%|█████▋    | 71/125 [01:41<01:21,  1.50s/it, now=None]\u001b[A"
     ]
    },
    {
     "name": "stdout",
     "output_type": "stream",
     "text": [
      "teste2 420 720\n",
      "720 720\n"
     ]
    },
    {
     "name": "stderr",
     "output_type": "stream",
     "text": [
      "\n",
      "t:  58%|█████▊    | 72/125 [01:42<01:16,  1.45s/it, now=None]\u001b[A"
     ]
    },
    {
     "name": "stdout",
     "output_type": "stream",
     "text": [
      "teste2 420 720\n",
      "720 720\n"
     ]
    },
    {
     "name": "stderr",
     "output_type": "stream",
     "text": [
      "\n",
      "t:  58%|█████▊    | 73/125 [01:43<01:12,  1.39s/it, now=None]\u001b[A"
     ]
    },
    {
     "name": "stdout",
     "output_type": "stream",
     "text": [
      "teste2 420 720\n",
      "720 720\n"
     ]
    },
    {
     "name": "stderr",
     "output_type": "stream",
     "text": [
      "\n",
      "t:  59%|█████▉    | 74/125 [01:45<01:09,  1.36s/it, now=None]\u001b[A"
     ]
    },
    {
     "name": "stdout",
     "output_type": "stream",
     "text": [
      "teste2 420 720\n",
      "720 720\n"
     ]
    },
    {
     "name": "stderr",
     "output_type": "stream",
     "text": [
      "\n",
      "t:  60%|██████    | 75/125 [01:46<01:06,  1.34s/it, now=None]\u001b[A"
     ]
    },
    {
     "name": "stdout",
     "output_type": "stream",
     "text": [
      "teste2 420 720\n",
      "720 720\n"
     ]
    },
    {
     "name": "stderr",
     "output_type": "stream",
     "text": [
      "\n",
      "t:  61%|██████    | 76/125 [01:47<01:04,  1.32s/it, now=None]\u001b[A"
     ]
    },
    {
     "name": "stdout",
     "output_type": "stream",
     "text": [
      "teste2 420 720\n",
      "720 720\n"
     ]
    },
    {
     "name": "stderr",
     "output_type": "stream",
     "text": [
      "\n",
      "t:  62%|██████▏   | 77/125 [01:48<01:02,  1.31s/it, now=None]\u001b[A"
     ]
    },
    {
     "name": "stdout",
     "output_type": "stream",
     "text": [
      "teste2 420 720\n",
      "720 720\n"
     ]
    },
    {
     "name": "stderr",
     "output_type": "stream",
     "text": [
      "\n",
      "t:  62%|██████▏   | 78/125 [01:50<01:01,  1.32s/it, now=None]\u001b[A"
     ]
    },
    {
     "name": "stdout",
     "output_type": "stream",
     "text": [
      "Fail sanity check - roughly parallel (mean distance) 723.3270096769344\n",
      "test\n",
      "teste2 360 720\n",
      "720 720\n"
     ]
    },
    {
     "name": "stderr",
     "output_type": "stream",
     "text": [
      "\n",
      "t:  63%|██████▎   | 79/125 [01:51<01:00,  1.31s/it, now=None]\u001b[A"
     ]
    },
    {
     "name": "stdout",
     "output_type": "stream",
     "text": [
      "Fail sanity check - roughly parallel (maximum distance) 907.430240206787\n",
      "Fail sanity check - roughly parallel (mean distance) 730.3421574297839\n"
     ]
    },
    {
     "name": "stderr",
     "output_type": "stream",
     "text": [
      "\n",
      "t:  64%|██████▍   | 80/125 [01:52<00:58,  1.29s/it, now=None]\u001b[A"
     ]
    },
    {
     "name": "stdout",
     "output_type": "stream",
     "text": [
      "Fail sanity check - roughly parallel (maximum distance) 947.8350976492055\n",
      "Fail sanity check - roughly parallel (mean distance) 758.5340286564689\n",
      "test\n",
      "teste2 360 720\n",
      "720 720\n"
     ]
    },
    {
     "name": "stderr",
     "output_type": "stream",
     "text": [
      "\n",
      "t:  65%|██████▍   | 81/125 [01:54<00:56,  1.28s/it, now=None]\u001b[A"
     ]
    },
    {
     "name": "stdout",
     "output_type": "stream",
     "text": [
      "Fail sanity check - roughly parallel (maximum distance) 964.5937894828442\n",
      "Fail sanity check - roughly parallel (mean distance) 766.2287310503203\n",
      "test\n",
      "teste2 360 720\n",
      "720 720\n"
     ]
    },
    {
     "name": "stderr",
     "output_type": "stream",
     "text": [
      "\n",
      "t:  66%|██████▌   | 82/125 [01:55<00:55,  1.29s/it, now=None]\u001b[A"
     ]
    },
    {
     "name": "stdout",
     "output_type": "stream",
     "text": [
      "Fail sanity check - roughly parallel (maximum distance) 980.8451223887146\n",
      "Fail sanity check - roughly parallel (mean distance) 778.9738120087598\n"
     ]
    },
    {
     "name": "stderr",
     "output_type": "stream",
     "text": [
      "\n",
      "t:  66%|██████▋   | 83/125 [01:56<00:55,  1.31s/it, now=None]\u001b[A"
     ]
    },
    {
     "name": "stdout",
     "output_type": "stream",
     "text": [
      "Fail sanity check - roughly parallel (maximum distance) 1005.562775889374\n",
      "Fail sanity check - roughly parallel (mean distance) 807.2042664155318\n",
      "test\n",
      "teste2 360 720\n",
      "720 720\n"
     ]
    },
    {
     "name": "stderr",
     "output_type": "stream",
     "text": [
      "\n",
      "t:  67%|██████▋   | 84/125 [01:58<00:54,  1.33s/it, now=None]\u001b[A"
     ]
    },
    {
     "name": "stdout",
     "output_type": "stream",
     "text": [
      "Fail sanity check - roughly parallel (maximum distance) 988.2562787898904\n",
      "Fail sanity check - roughly parallel (mean distance) 803.7425882468964\n",
      "test\n",
      "teste2 360 720\n",
      "720 720\n"
     ]
    },
    {
     "name": "stderr",
     "output_type": "stream",
     "text": [
      "\n",
      "t:  68%|██████▊   | 85/125 [01:59<00:54,  1.37s/it, now=None]\u001b[A"
     ]
    },
    {
     "name": "stdout",
     "output_type": "stream",
     "text": [
      "Fail sanity check - roughly parallel (maximum distance) 998.9503046163659\n",
      "Fail sanity check - roughly parallel (mean distance) 811.2398196933448\n",
      "test\n",
      "teste2 360 720\n",
      "720 720\n"
     ]
    },
    {
     "name": "stderr",
     "output_type": "stream",
     "text": [
      "\n",
      "t:  69%|██████▉   | 86/125 [02:00<00:52,  1.34s/it, now=None]\u001b[A"
     ]
    },
    {
     "name": "stdout",
     "output_type": "stream",
     "text": [
      "Fail sanity check - roughly parallel (maximum distance) 1015.3086595094308\n",
      "Fail sanity check - roughly parallel (mean distance) 822.1829294431861\n",
      "test\n",
      "teste2 360 720\n",
      "720 720\n"
     ]
    },
    {
     "name": "stderr",
     "output_type": "stream",
     "text": [
      "\n",
      "t:  70%|██████▉   | 87/125 [02:02<00:50,  1.34s/it, now=None]\u001b[A"
     ]
    },
    {
     "name": "stdout",
     "output_type": "stream",
     "text": [
      "Fail sanity check - roughly parallel (maximum distance) 999.2376504174489\n",
      "Fail sanity check - roughly parallel (mean distance) 823.3081488929589\n",
      "test\n",
      "teste2 360 720\n",
      "720 720\n"
     ]
    },
    {
     "name": "stderr",
     "output_type": "stream",
     "text": [
      "\n",
      "t:  70%|███████   | 88/125 [02:03<00:49,  1.33s/it, now=None]\u001b[A"
     ]
    },
    {
     "name": "stdout",
     "output_type": "stream",
     "text": [
      "Fail sanity check - curvature left curvature: 360.0 right curvature: 59.0\n",
      "Fail sanity check - roughly parallel (maximum distance) 980.8141149766882\n",
      "Fail sanity check - roughly parallel (mean distance) 823.2674862448246\n",
      "test\n",
      "teste2 360 720\n",
      "720 720\n"
     ]
    },
    {
     "name": "stderr",
     "output_type": "stream",
     "text": [
      "\n",
      "t:  71%|███████   | 89/125 [02:04<00:47,  1.32s/it, now=None]\u001b[A"
     ]
    },
    {
     "name": "stdout",
     "output_type": "stream",
     "text": [
      "Fail sanity check - curvature left curvature: 683.0 right curvature: 60.0\n",
      "Fail sanity check - roughly parallel (maximum distance) 930.8081004513975\n",
      "Fail sanity check - roughly parallel (mean distance) 812.6196706069585\n",
      "test\n",
      "teste2 360 720\n",
      "720 720\n"
     ]
    },
    {
     "name": "stderr",
     "output_type": "stream",
     "text": [
      "\n",
      "t:  72%|███████▏  | 90/125 [02:06<00:47,  1.36s/it, now=None]\u001b[A"
     ]
    },
    {
     "name": "stdout",
     "output_type": "stream",
     "text": [
      "Fail sanity check - curvature left curvature: 1177.0 right curvature: 60.0\n",
      "Fail sanity check - roughly parallel (mean distance) 785.0421074056209\n",
      "test\n",
      "teste2 360 720\n",
      "720 720\n"
     ]
    },
    {
     "name": "stderr",
     "output_type": "stream",
     "text": [
      "\n",
      "t:  73%|███████▎  | 91/125 [02:07<00:50,  1.47s/it, now=None]\u001b[A"
     ]
    },
    {
     "name": "stdout",
     "output_type": "stream",
     "text": [
      "Fail sanity check - roughly parallel (mean distance) 779.5028844111166\n"
     ]
    },
    {
     "name": "stderr",
     "output_type": "stream",
     "text": [
      "\n",
      "t:  74%|███████▎  | 92/125 [02:09<00:53,  1.62s/it, now=None]\u001b[A"
     ]
    },
    {
     "name": "stdout",
     "output_type": "stream",
     "text": [
      "Fail sanity check - roughly parallel (mean distance) 754.2811960249501\n"
     ]
    },
    {
     "name": "stderr",
     "output_type": "stream",
     "text": [
      "\n",
      "t:  74%|███████▍  | 93/125 [02:11<00:52,  1.63s/it, now=None]\u001b[A"
     ]
    },
    {
     "name": "stdout",
     "output_type": "stream",
     "text": [
      "Fail sanity check - curvature left curvature: 1570.0 right curvature: 124.0\n"
     ]
    },
    {
     "name": "stderr",
     "output_type": "stream",
     "text": [
      "\n",
      "t:  75%|███████▌  | 94/125 [02:13<00:48,  1.56s/it, now=None]\u001b[A"
     ]
    },
    {
     "name": "stdout",
     "output_type": "stream",
     "text": [
      "Fail sanity check - curvature left curvature: 981.0 right curvature: 124.0\n"
     ]
    },
    {
     "name": "stderr",
     "output_type": "stream",
     "text": [
      "\n",
      "t:  76%|███████▌  | 95/125 [02:14<00:45,  1.50s/it, now=None]\u001b[A"
     ]
    },
    {
     "name": "stdout",
     "output_type": "stream",
     "text": [
      "Fail sanity check - curvature left curvature: 614.0 right curvature: 117.0\n",
      "test\n",
      "teste2 360 720\n",
      "720 720\n"
     ]
    },
    {
     "name": "stderr",
     "output_type": "stream",
     "text": [
      "\n",
      "t:  77%|███████▋  | 96/125 [02:15<00:42,  1.46s/it, now=None]\u001b[A"
     ]
    },
    {
     "name": "stdout",
     "output_type": "stream",
     "text": [
      "teste2 360 720\n",
      "720 720\n"
     ]
    },
    {
     "name": "stderr",
     "output_type": "stream",
     "text": [
      "\n",
      "t:  78%|███████▊  | 97/125 [02:16<00:38,  1.39s/it, now=None]\u001b[A"
     ]
    },
    {
     "name": "stdout",
     "output_type": "stream",
     "text": [
      "teste2 360 720\n",
      "720 720\n"
     ]
    },
    {
     "name": "stderr",
     "output_type": "stream",
     "text": [
      "\n",
      "t:  78%|███████▊  | 98/125 [02:18<00:36,  1.35s/it, now=None]\u001b[A"
     ]
    },
    {
     "name": "stdout",
     "output_type": "stream",
     "text": [
      "teste2 360 720\n",
      "720 720\n"
     ]
    },
    {
     "name": "stderr",
     "output_type": "stream",
     "text": [
      "\n",
      "t:  79%|███████▉  | 99/125 [02:19<00:34,  1.32s/it, now=None]\u001b[A"
     ]
    },
    {
     "name": "stdout",
     "output_type": "stream",
     "text": [
      "Fail sanity check - curvature left curvature: 161.0 right curvature: 1488.0\n",
      "test\n",
      "teste2 360 720\n",
      "720 720\n"
     ]
    },
    {
     "name": "stderr",
     "output_type": "stream",
     "text": [
      "\n",
      "t:  80%|████████  | 100/125 [02:20<00:32,  1.31s/it, now=None]\u001b[A"
     ]
    },
    {
     "name": "stdout",
     "output_type": "stream",
     "text": [
      "Fail sanity check - curvature left curvature: 129.0 right curvature: 3363.0\n",
      "test\n",
      "teste2 420 720\n",
      "720 720\n"
     ]
    },
    {
     "name": "stderr",
     "output_type": "stream",
     "text": [
      "\n",
      "t:  81%|████████  | 101/125 [02:22<00:32,  1.37s/it, now=None]\u001b[A"
     ]
    },
    {
     "name": "stdout",
     "output_type": "stream",
     "text": [
      "Fail sanity check - roughly parallel (maximum distance) 932.8384896944076\n",
      "test\n",
      "teste2 420 720\n",
      "720 720\n"
     ]
    },
    {
     "name": "stderr",
     "output_type": "stream",
     "text": [
      "\n",
      "t:  82%|████████▏ | 102/125 [02:23<00:33,  1.48s/it, now=None]\u001b[A"
     ]
    },
    {
     "name": "stdout",
     "output_type": "stream",
     "text": [
      "Fail sanity check - roughly parallel (maximum distance) 997.9888320113413\n",
      "Fail sanity check - roughly parallel (mean distance) 731.6732397771256\n",
      "test\n",
      "teste2 420 720\n",
      "720 720\n"
     ]
    },
    {
     "name": "stderr",
     "output_type": "stream",
     "text": [
      "\n",
      "t:  82%|████████▏ | 103/125 [02:25<00:31,  1.43s/it, now=None]\u001b[A"
     ]
    },
    {
     "name": "stdout",
     "output_type": "stream",
     "text": [
      "Fail sanity check - roughly parallel (maximum distance) 1056.858304885512\n",
      "Fail sanity check - roughly parallel (mean distance) 767.1489320755251\n",
      "test\n",
      "teste2 420 720\n",
      "720 720\n"
     ]
    },
    {
     "name": "stderr",
     "output_type": "stream",
     "text": [
      "\n",
      "t:  83%|████████▎ | 104/125 [02:26<00:28,  1.38s/it, now=None]\u001b[A"
     ]
    },
    {
     "name": "stdout",
     "output_type": "stream",
     "text": [
      "Fail sanity check - roughly parallel (maximum distance) 1092.626288772371\n",
      "Fail sanity check - roughly parallel (mean distance) 785.3059520501107\n"
     ]
    },
    {
     "name": "stderr",
     "output_type": "stream",
     "text": [
      "\n",
      "t:  84%|████████▍ | 105/125 [02:27<00:26,  1.33s/it, now=None]\u001b[A"
     ]
    },
    {
     "name": "stdout",
     "output_type": "stream",
     "text": [
      "Fail sanity check - roughly parallel (maximum distance) 1099.3237327939046\n",
      "Fail sanity check - roughly parallel (mean distance) 769.2250464585193\n",
      "test\n",
      "teste2 420 720\n",
      "720 720\n"
     ]
    },
    {
     "name": "stderr",
     "output_type": "stream",
     "text": [
      "\n",
      "t:  85%|████████▍ | 106/125 [02:29<00:24,  1.31s/it, now=None]\u001b[A"
     ]
    },
    {
     "name": "stdout",
     "output_type": "stream",
     "text": [
      "Fail sanity check - roughly parallel (maximum distance) 1079.2831294459659\n",
      "Fail sanity check - roughly parallel (mean distance) 752.3069046597593\n",
      "test\n",
      "teste2 420 720\n",
      "720 720\n"
     ]
    },
    {
     "name": "stderr",
     "output_type": "stream",
     "text": [
      "\n",
      "t:  86%|████████▌ | 107/125 [02:30<00:24,  1.36s/it, now=None]\u001b[A"
     ]
    },
    {
     "name": "stdout",
     "output_type": "stream",
     "text": [
      "Fail sanity check - roughly parallel (maximum distance) 1056.597399891215\n",
      "Fail sanity check - roughly parallel (mean distance) 734.4364801737822\n",
      "test\n",
      "teste2 420 720\n",
      "720 720\n"
     ]
    },
    {
     "name": "stderr",
     "output_type": "stream",
     "text": [
      "\n",
      "t:  86%|████████▋ | 108/125 [02:31<00:22,  1.34s/it, now=None]\u001b[A"
     ]
    },
    {
     "name": "stdout",
     "output_type": "stream",
     "text": [
      "Fail sanity check - roughly parallel (maximum distance) 1025.3952766927493\n",
      "test\n",
      "teste2 420 720\n",
      "720 720\n"
     ]
    },
    {
     "name": "stderr",
     "output_type": "stream",
     "text": [
      "\n",
      "t:  87%|████████▋ | 109/125 [02:33<00:20,  1.31s/it, now=None]\u001b[A"
     ]
    },
    {
     "name": "stdout",
     "output_type": "stream",
     "text": [
      "Fail sanity check - roughly parallel (maximum distance) 976.6780681271179\n",
      "test\n",
      "teste2 420 720\n",
      "720 720\n"
     ]
    },
    {
     "name": "stderr",
     "output_type": "stream",
     "text": [
      "\n",
      "t:  88%|████████▊ | 110/125 [02:34<00:19,  1.29s/it, now=None]\u001b[A"
     ]
    },
    {
     "name": "stdout",
     "output_type": "stream",
     "text": [
      "Fail sanity check - roughly parallel (maximum distance) 949.6471666950058\n",
      "test\n",
      "teste2 420 720\n",
      "720 720\n"
     ]
    },
    {
     "name": "stderr",
     "output_type": "stream",
     "text": [
      "\n",
      "t:  89%|████████▉ | 111/125 [02:35<00:18,  1.31s/it, now=None]\u001b[A"
     ]
    },
    {
     "name": "stdout",
     "output_type": "stream",
     "text": [
      "Fail sanity check - roughly parallel (maximum distance) 909.3047089322965\n",
      "test\n"
     ]
    },
    {
     "ename": "ValueError",
     "evalue": "all the input array dimensions for the concatenation axis must match exactly, but along dimension 1, the array at index 0 has size 720 and the array at index 1 has size 0",
     "output_type": "error",
     "traceback": [
      "\u001b[0;31m---------------------------------------------------------------------------\u001b[0m",
      "\u001b[0;31mValueError\u001b[0m                                Traceback (most recent call last)",
      "\u001b[0;32m<timed eval>\u001b[0m in \u001b[0;36m<module>\u001b[0;34m\u001b[0m\n",
      "\u001b[0;32m<decorator-gen-176>\u001b[0m in \u001b[0;36mwrite_videofile\u001b[0;34m(self, filename, fps, codec, bitrate, audio, audio_fps, preset, audio_nbytes, audio_codec, audio_bitrate, audio_bufsize, temp_audiofile, rewrite_audio, remove_temp, write_logfile, verbose, threads, ffmpeg_params, logger)\u001b[0m\n",
      "\u001b[0;32m~/opt/miniconda3/envs/carnd-term1/lib/python3.8/site-packages/moviepy/decorators.py\u001b[0m in \u001b[0;36mrequires_duration\u001b[0;34m(f, clip, *a, **k)\u001b[0m\n\u001b[1;32m     52\u001b[0m         \u001b[0;32mraise\u001b[0m \u001b[0mValueError\u001b[0m\u001b[0;34m(\u001b[0m\u001b[0;34m\"Attribute 'duration' not set\"\u001b[0m\u001b[0;34m)\u001b[0m\u001b[0;34m\u001b[0m\u001b[0;34m\u001b[0m\u001b[0m\n\u001b[1;32m     53\u001b[0m     \u001b[0;32melse\u001b[0m\u001b[0;34m:\u001b[0m\u001b[0;34m\u001b[0m\u001b[0;34m\u001b[0m\u001b[0m\n\u001b[0;32m---> 54\u001b[0;31m         \u001b[0;32mreturn\u001b[0m \u001b[0mf\u001b[0m\u001b[0;34m(\u001b[0m\u001b[0mclip\u001b[0m\u001b[0;34m,\u001b[0m \u001b[0;34m*\u001b[0m\u001b[0ma\u001b[0m\u001b[0;34m,\u001b[0m \u001b[0;34m**\u001b[0m\u001b[0mk\u001b[0m\u001b[0;34m)\u001b[0m\u001b[0;34m\u001b[0m\u001b[0;34m\u001b[0m\u001b[0m\n\u001b[0m\u001b[1;32m     55\u001b[0m \u001b[0;34m\u001b[0m\u001b[0m\n\u001b[1;32m     56\u001b[0m \u001b[0;34m\u001b[0m\u001b[0m\n",
      "\u001b[0;32m<decorator-gen-175>\u001b[0m in \u001b[0;36mwrite_videofile\u001b[0;34m(self, filename, fps, codec, bitrate, audio, audio_fps, preset, audio_nbytes, audio_codec, audio_bitrate, audio_bufsize, temp_audiofile, rewrite_audio, remove_temp, write_logfile, verbose, threads, ffmpeg_params, logger)\u001b[0m\n",
      "\u001b[0;32m~/opt/miniconda3/envs/carnd-term1/lib/python3.8/site-packages/moviepy/decorators.py\u001b[0m in \u001b[0;36muse_clip_fps_by_default\u001b[0;34m(f, clip, *a, **k)\u001b[0m\n\u001b[1;32m    135\u001b[0m              for (k,v) in k.items()}\n\u001b[1;32m    136\u001b[0m \u001b[0;34m\u001b[0m\u001b[0m\n\u001b[0;32m--> 137\u001b[0;31m     \u001b[0;32mreturn\u001b[0m \u001b[0mf\u001b[0m\u001b[0;34m(\u001b[0m\u001b[0mclip\u001b[0m\u001b[0;34m,\u001b[0m \u001b[0;34m*\u001b[0m\u001b[0mnew_a\u001b[0m\u001b[0;34m,\u001b[0m \u001b[0;34m**\u001b[0m\u001b[0mnew_kw\u001b[0m\u001b[0;34m)\u001b[0m\u001b[0;34m\u001b[0m\u001b[0;34m\u001b[0m\u001b[0m\n\u001b[0m",
      "\u001b[0;32m<decorator-gen-174>\u001b[0m in \u001b[0;36mwrite_videofile\u001b[0;34m(self, filename, fps, codec, bitrate, audio, audio_fps, preset, audio_nbytes, audio_codec, audio_bitrate, audio_bufsize, temp_audiofile, rewrite_audio, remove_temp, write_logfile, verbose, threads, ffmpeg_params, logger)\u001b[0m\n",
      "\u001b[0;32m~/opt/miniconda3/envs/carnd-term1/lib/python3.8/site-packages/moviepy/decorators.py\u001b[0m in \u001b[0;36mconvert_masks_to_RGB\u001b[0;34m(f, clip, *a, **k)\u001b[0m\n\u001b[1;32m     20\u001b[0m     \u001b[0;32mif\u001b[0m \u001b[0mclip\u001b[0m\u001b[0;34m.\u001b[0m\u001b[0mismask\u001b[0m\u001b[0;34m:\u001b[0m\u001b[0;34m\u001b[0m\u001b[0;34m\u001b[0m\u001b[0m\n\u001b[1;32m     21\u001b[0m         \u001b[0mclip\u001b[0m \u001b[0;34m=\u001b[0m \u001b[0mclip\u001b[0m\u001b[0;34m.\u001b[0m\u001b[0mto_RGB\u001b[0m\u001b[0;34m(\u001b[0m\u001b[0;34m)\u001b[0m\u001b[0;34m\u001b[0m\u001b[0;34m\u001b[0m\u001b[0m\n\u001b[0;32m---> 22\u001b[0;31m     \u001b[0;32mreturn\u001b[0m \u001b[0mf\u001b[0m\u001b[0;34m(\u001b[0m\u001b[0mclip\u001b[0m\u001b[0;34m,\u001b[0m \u001b[0;34m*\u001b[0m\u001b[0ma\u001b[0m\u001b[0;34m,\u001b[0m \u001b[0;34m**\u001b[0m\u001b[0mk\u001b[0m\u001b[0;34m)\u001b[0m\u001b[0;34m\u001b[0m\u001b[0;34m\u001b[0m\u001b[0m\n\u001b[0m\u001b[1;32m     23\u001b[0m \u001b[0;34m\u001b[0m\u001b[0m\n\u001b[1;32m     24\u001b[0m \u001b[0;34m@\u001b[0m\u001b[0mdecorator\u001b[0m\u001b[0;34m.\u001b[0m\u001b[0mdecorator\u001b[0m\u001b[0;34m\u001b[0m\u001b[0;34m\u001b[0m\u001b[0m\n",
      "\u001b[0;32m~/opt/miniconda3/envs/carnd-term1/lib/python3.8/site-packages/moviepy/video/VideoClip.py\u001b[0m in \u001b[0;36mwrite_videofile\u001b[0;34m(self, filename, fps, codec, bitrate, audio, audio_fps, preset, audio_nbytes, audio_codec, audio_bitrate, audio_bufsize, temp_audiofile, rewrite_audio, remove_temp, write_logfile, verbose, threads, ffmpeg_params, logger)\u001b[0m\n\u001b[1;32m    317\u001b[0m                                        logger=logger)\n\u001b[1;32m    318\u001b[0m \u001b[0;34m\u001b[0m\u001b[0m\n\u001b[0;32m--> 319\u001b[0;31m         ffmpeg_write_video(self, filename, fps, codec,\n\u001b[0m\u001b[1;32m    320\u001b[0m                            \u001b[0mbitrate\u001b[0m\u001b[0;34m=\u001b[0m\u001b[0mbitrate\u001b[0m\u001b[0;34m,\u001b[0m\u001b[0;34m\u001b[0m\u001b[0;34m\u001b[0m\u001b[0m\n\u001b[1;32m    321\u001b[0m                            \u001b[0mpreset\u001b[0m\u001b[0;34m=\u001b[0m\u001b[0mpreset\u001b[0m\u001b[0;34m,\u001b[0m\u001b[0;34m\u001b[0m\u001b[0;34m\u001b[0m\u001b[0m\n",
      "\u001b[0;32m~/opt/miniconda3/envs/carnd-term1/lib/python3.8/site-packages/moviepy/video/io/ffmpeg_writer.py\u001b[0m in \u001b[0;36mffmpeg_write_video\u001b[0;34m(clip, filename, fps, codec, bitrate, preset, withmask, write_logfile, audiofile, verbose, threads, ffmpeg_params, logger)\u001b[0m\n\u001b[1;32m    213\u001b[0m         \u001b[0mnframes\u001b[0m \u001b[0;34m=\u001b[0m \u001b[0mint\u001b[0m\u001b[0;34m(\u001b[0m\u001b[0mclip\u001b[0m\u001b[0;34m.\u001b[0m\u001b[0mduration\u001b[0m\u001b[0;34m*\u001b[0m\u001b[0mfps\u001b[0m\u001b[0;34m)\u001b[0m\u001b[0;34m\u001b[0m\u001b[0;34m\u001b[0m\u001b[0m\n\u001b[1;32m    214\u001b[0m \u001b[0;34m\u001b[0m\u001b[0m\n\u001b[0;32m--> 215\u001b[0;31m         for t,frame in clip.iter_frames(logger=logger, with_times=True,\n\u001b[0m\u001b[1;32m    216\u001b[0m                                         fps=fps, dtype=\"uint8\"):\n\u001b[1;32m    217\u001b[0m             \u001b[0;32mif\u001b[0m \u001b[0mwithmask\u001b[0m\u001b[0;34m:\u001b[0m\u001b[0;34m\u001b[0m\u001b[0;34m\u001b[0m\u001b[0m\n",
      "\u001b[0;32m~/opt/miniconda3/envs/carnd-term1/lib/python3.8/site-packages/moviepy/Clip.py\u001b[0m in \u001b[0;36miter_frames\u001b[0;34m(self, fps, with_times, logger, dtype)\u001b[0m\n\u001b[1;32m    473\u001b[0m         \u001b[0mlogger\u001b[0m \u001b[0;34m=\u001b[0m \u001b[0mproglog\u001b[0m\u001b[0;34m.\u001b[0m\u001b[0mdefault_bar_logger\u001b[0m\u001b[0;34m(\u001b[0m\u001b[0mlogger\u001b[0m\u001b[0;34m)\u001b[0m\u001b[0;34m\u001b[0m\u001b[0;34m\u001b[0m\u001b[0m\n\u001b[1;32m    474\u001b[0m         \u001b[0;32mfor\u001b[0m \u001b[0mt\u001b[0m \u001b[0;32min\u001b[0m \u001b[0mlogger\u001b[0m\u001b[0;34m.\u001b[0m\u001b[0miter_bar\u001b[0m\u001b[0;34m(\u001b[0m\u001b[0mt\u001b[0m\u001b[0;34m=\u001b[0m\u001b[0mnp\u001b[0m\u001b[0;34m.\u001b[0m\u001b[0marange\u001b[0m\u001b[0;34m(\u001b[0m\u001b[0;36m0\u001b[0m\u001b[0;34m,\u001b[0m \u001b[0mself\u001b[0m\u001b[0;34m.\u001b[0m\u001b[0mduration\u001b[0m\u001b[0;34m,\u001b[0m \u001b[0;36m1.0\u001b[0m\u001b[0;34m/\u001b[0m\u001b[0mfps\u001b[0m\u001b[0;34m)\u001b[0m\u001b[0;34m)\u001b[0m\u001b[0;34m:\u001b[0m\u001b[0;34m\u001b[0m\u001b[0;34m\u001b[0m\u001b[0m\n\u001b[0;32m--> 475\u001b[0;31m             \u001b[0mframe\u001b[0m \u001b[0;34m=\u001b[0m \u001b[0mself\u001b[0m\u001b[0;34m.\u001b[0m\u001b[0mget_frame\u001b[0m\u001b[0;34m(\u001b[0m\u001b[0mt\u001b[0m\u001b[0;34m)\u001b[0m\u001b[0;34m\u001b[0m\u001b[0;34m\u001b[0m\u001b[0m\n\u001b[0m\u001b[1;32m    476\u001b[0m             \u001b[0;32mif\u001b[0m \u001b[0;34m(\u001b[0m\u001b[0mdtype\u001b[0m \u001b[0;32mis\u001b[0m \u001b[0;32mnot\u001b[0m \u001b[0;32mNone\u001b[0m\u001b[0;34m)\u001b[0m \u001b[0;32mand\u001b[0m \u001b[0;34m(\u001b[0m\u001b[0mframe\u001b[0m\u001b[0;34m.\u001b[0m\u001b[0mdtype\u001b[0m \u001b[0;34m!=\u001b[0m \u001b[0mdtype\u001b[0m\u001b[0;34m)\u001b[0m\u001b[0;34m:\u001b[0m\u001b[0;34m\u001b[0m\u001b[0;34m\u001b[0m\u001b[0m\n\u001b[1;32m    477\u001b[0m                 \u001b[0mframe\u001b[0m \u001b[0;34m=\u001b[0m \u001b[0mframe\u001b[0m\u001b[0;34m.\u001b[0m\u001b[0mastype\u001b[0m\u001b[0;34m(\u001b[0m\u001b[0mdtype\u001b[0m\u001b[0;34m)\u001b[0m\u001b[0;34m\u001b[0m\u001b[0;34m\u001b[0m\u001b[0m\n",
      "\u001b[0;32m<decorator-gen-135>\u001b[0m in \u001b[0;36mget_frame\u001b[0;34m(self, t)\u001b[0m\n",
      "\u001b[0;32m~/opt/miniconda3/envs/carnd-term1/lib/python3.8/site-packages/moviepy/decorators.py\u001b[0m in \u001b[0;36mwrapper\u001b[0;34m(f, *a, **kw)\u001b[0m\n\u001b[1;32m     87\u001b[0m         new_kw = {k: fun(v) if k in varnames else v\n\u001b[1;32m     88\u001b[0m                  for (k,v) in kw.items()}\n\u001b[0;32m---> 89\u001b[0;31m         \u001b[0;32mreturn\u001b[0m \u001b[0mf\u001b[0m\u001b[0;34m(\u001b[0m\u001b[0;34m*\u001b[0m\u001b[0mnew_a\u001b[0m\u001b[0;34m,\u001b[0m \u001b[0;34m**\u001b[0m\u001b[0mnew_kw\u001b[0m\u001b[0;34m)\u001b[0m\u001b[0;34m\u001b[0m\u001b[0;34m\u001b[0m\u001b[0m\n\u001b[0m\u001b[1;32m     90\u001b[0m     \u001b[0;32mreturn\u001b[0m \u001b[0mdecorator\u001b[0m\u001b[0;34m.\u001b[0m\u001b[0mdecorator\u001b[0m\u001b[0;34m(\u001b[0m\u001b[0mwrapper\u001b[0m\u001b[0;34m)\u001b[0m\u001b[0;34m\u001b[0m\u001b[0;34m\u001b[0m\u001b[0m\n\u001b[1;32m     91\u001b[0m \u001b[0;34m\u001b[0m\u001b[0m\n",
      "\u001b[0;32m~/opt/miniconda3/envs/carnd-term1/lib/python3.8/site-packages/moviepy/Clip.py\u001b[0m in \u001b[0;36mget_frame\u001b[0;34m(self, t)\u001b[0m\n\u001b[1;32m     93\u001b[0m                 \u001b[0;32mreturn\u001b[0m \u001b[0mframe\u001b[0m\u001b[0;34m\u001b[0m\u001b[0;34m\u001b[0m\u001b[0m\n\u001b[1;32m     94\u001b[0m         \u001b[0;32melse\u001b[0m\u001b[0;34m:\u001b[0m\u001b[0;34m\u001b[0m\u001b[0;34m\u001b[0m\u001b[0m\n\u001b[0;32m---> 95\u001b[0;31m             \u001b[0;32mreturn\u001b[0m \u001b[0mself\u001b[0m\u001b[0;34m.\u001b[0m\u001b[0mmake_frame\u001b[0m\u001b[0;34m(\u001b[0m\u001b[0mt\u001b[0m\u001b[0;34m)\u001b[0m\u001b[0;34m\u001b[0m\u001b[0;34m\u001b[0m\u001b[0m\n\u001b[0m\u001b[1;32m     96\u001b[0m \u001b[0;34m\u001b[0m\u001b[0m\n\u001b[1;32m     97\u001b[0m     \u001b[0;32mdef\u001b[0m \u001b[0mfl\u001b[0m\u001b[0;34m(\u001b[0m\u001b[0mself\u001b[0m\u001b[0;34m,\u001b[0m \u001b[0mfun\u001b[0m\u001b[0;34m,\u001b[0m \u001b[0mapply_to\u001b[0m\u001b[0;34m=\u001b[0m\u001b[0;32mNone\u001b[0m\u001b[0;34m,\u001b[0m \u001b[0mkeep_duration\u001b[0m\u001b[0;34m=\u001b[0m\u001b[0;32mTrue\u001b[0m\u001b[0;34m)\u001b[0m\u001b[0;34m:\u001b[0m\u001b[0;34m\u001b[0m\u001b[0;34m\u001b[0m\u001b[0m\n",
      "\u001b[0;32m~/opt/miniconda3/envs/carnd-term1/lib/python3.8/site-packages/moviepy/Clip.py\u001b[0m in \u001b[0;36m<lambda>\u001b[0;34m(t)\u001b[0m\n\u001b[1;32m    136\u001b[0m \u001b[0;34m\u001b[0m\u001b[0m\n\u001b[1;32m    137\u001b[0m         \u001b[0;31m#mf = copy(self.make_frame)\u001b[0m\u001b[0;34m\u001b[0m\u001b[0;34m\u001b[0m\u001b[0;34m\u001b[0m\u001b[0m\n\u001b[0;32m--> 138\u001b[0;31m         \u001b[0mnewclip\u001b[0m \u001b[0;34m=\u001b[0m \u001b[0mself\u001b[0m\u001b[0;34m.\u001b[0m\u001b[0mset_make_frame\u001b[0m\u001b[0;34m(\u001b[0m\u001b[0;32mlambda\u001b[0m \u001b[0mt\u001b[0m\u001b[0;34m:\u001b[0m \u001b[0mfun\u001b[0m\u001b[0;34m(\u001b[0m\u001b[0mself\u001b[0m\u001b[0;34m.\u001b[0m\u001b[0mget_frame\u001b[0m\u001b[0;34m,\u001b[0m \u001b[0mt\u001b[0m\u001b[0;34m)\u001b[0m\u001b[0;34m)\u001b[0m\u001b[0;34m\u001b[0m\u001b[0;34m\u001b[0m\u001b[0m\n\u001b[0m\u001b[1;32m    139\u001b[0m \u001b[0;34m\u001b[0m\u001b[0m\n\u001b[1;32m    140\u001b[0m         \u001b[0;32mif\u001b[0m \u001b[0;32mnot\u001b[0m \u001b[0mkeep_duration\u001b[0m\u001b[0;34m:\u001b[0m\u001b[0;34m\u001b[0m\u001b[0;34m\u001b[0m\u001b[0m\n",
      "\u001b[0;32m~/opt/miniconda3/envs/carnd-term1/lib/python3.8/site-packages/moviepy/Clip.py\u001b[0m in \u001b[0;36m<lambda>\u001b[0;34m(gf, t)\u001b[0m\n\u001b[1;32m    188\u001b[0m             \u001b[0mapply_to\u001b[0m \u001b[0;34m=\u001b[0m \u001b[0;34m[\u001b[0m\u001b[0;34m]\u001b[0m\u001b[0;34m\u001b[0m\u001b[0;34m\u001b[0m\u001b[0m\n\u001b[1;32m    189\u001b[0m \u001b[0;34m\u001b[0m\u001b[0m\n\u001b[0;32m--> 190\u001b[0;31m         return self.fl(lambda gf, t: gf(t_func(t)), apply_to,\n\u001b[0m\u001b[1;32m    191\u001b[0m                        keep_duration=keep_duration)\n\u001b[1;32m    192\u001b[0m \u001b[0;34m\u001b[0m\u001b[0m\n",
      "\u001b[0;32m<decorator-gen-135>\u001b[0m in \u001b[0;36mget_frame\u001b[0;34m(self, t)\u001b[0m\n",
      "\u001b[0;32m~/opt/miniconda3/envs/carnd-term1/lib/python3.8/site-packages/moviepy/decorators.py\u001b[0m in \u001b[0;36mwrapper\u001b[0;34m(f, *a, **kw)\u001b[0m\n\u001b[1;32m     87\u001b[0m         new_kw = {k: fun(v) if k in varnames else v\n\u001b[1;32m     88\u001b[0m                  for (k,v) in kw.items()}\n\u001b[0;32m---> 89\u001b[0;31m         \u001b[0;32mreturn\u001b[0m \u001b[0mf\u001b[0m\u001b[0;34m(\u001b[0m\u001b[0;34m*\u001b[0m\u001b[0mnew_a\u001b[0m\u001b[0;34m,\u001b[0m \u001b[0;34m**\u001b[0m\u001b[0mnew_kw\u001b[0m\u001b[0;34m)\u001b[0m\u001b[0;34m\u001b[0m\u001b[0;34m\u001b[0m\u001b[0m\n\u001b[0m\u001b[1;32m     90\u001b[0m     \u001b[0;32mreturn\u001b[0m \u001b[0mdecorator\u001b[0m\u001b[0;34m.\u001b[0m\u001b[0mdecorator\u001b[0m\u001b[0;34m(\u001b[0m\u001b[0mwrapper\u001b[0m\u001b[0;34m)\u001b[0m\u001b[0;34m\u001b[0m\u001b[0;34m\u001b[0m\u001b[0m\n\u001b[1;32m     91\u001b[0m \u001b[0;34m\u001b[0m\u001b[0m\n",
      "\u001b[0;32m~/opt/miniconda3/envs/carnd-term1/lib/python3.8/site-packages/moviepy/Clip.py\u001b[0m in \u001b[0;36mget_frame\u001b[0;34m(self, t)\u001b[0m\n\u001b[1;32m     93\u001b[0m                 \u001b[0;32mreturn\u001b[0m \u001b[0mframe\u001b[0m\u001b[0;34m\u001b[0m\u001b[0;34m\u001b[0m\u001b[0m\n\u001b[1;32m     94\u001b[0m         \u001b[0;32melse\u001b[0m\u001b[0;34m:\u001b[0m\u001b[0;34m\u001b[0m\u001b[0;34m\u001b[0m\u001b[0m\n\u001b[0;32m---> 95\u001b[0;31m             \u001b[0;32mreturn\u001b[0m \u001b[0mself\u001b[0m\u001b[0;34m.\u001b[0m\u001b[0mmake_frame\u001b[0m\u001b[0;34m(\u001b[0m\u001b[0mt\u001b[0m\u001b[0;34m)\u001b[0m\u001b[0;34m\u001b[0m\u001b[0;34m\u001b[0m\u001b[0m\n\u001b[0m\u001b[1;32m     96\u001b[0m \u001b[0;34m\u001b[0m\u001b[0m\n\u001b[1;32m     97\u001b[0m     \u001b[0;32mdef\u001b[0m \u001b[0mfl\u001b[0m\u001b[0;34m(\u001b[0m\u001b[0mself\u001b[0m\u001b[0;34m,\u001b[0m \u001b[0mfun\u001b[0m\u001b[0;34m,\u001b[0m \u001b[0mapply_to\u001b[0m\u001b[0;34m=\u001b[0m\u001b[0;32mNone\u001b[0m\u001b[0;34m,\u001b[0m \u001b[0mkeep_duration\u001b[0m\u001b[0;34m=\u001b[0m\u001b[0;32mTrue\u001b[0m\u001b[0;34m)\u001b[0m\u001b[0;34m:\u001b[0m\u001b[0;34m\u001b[0m\u001b[0;34m\u001b[0m\u001b[0m\n",
      "\u001b[0;32m~/opt/miniconda3/envs/carnd-term1/lib/python3.8/site-packages/moviepy/Clip.py\u001b[0m in \u001b[0;36m<lambda>\u001b[0;34m(t)\u001b[0m\n\u001b[1;32m    136\u001b[0m \u001b[0;34m\u001b[0m\u001b[0m\n\u001b[1;32m    137\u001b[0m         \u001b[0;31m#mf = copy(self.make_frame)\u001b[0m\u001b[0;34m\u001b[0m\u001b[0;34m\u001b[0m\u001b[0;34m\u001b[0m\u001b[0m\n\u001b[0;32m--> 138\u001b[0;31m         \u001b[0mnewclip\u001b[0m \u001b[0;34m=\u001b[0m \u001b[0mself\u001b[0m\u001b[0;34m.\u001b[0m\u001b[0mset_make_frame\u001b[0m\u001b[0;34m(\u001b[0m\u001b[0;32mlambda\u001b[0m \u001b[0mt\u001b[0m\u001b[0;34m:\u001b[0m \u001b[0mfun\u001b[0m\u001b[0;34m(\u001b[0m\u001b[0mself\u001b[0m\u001b[0;34m.\u001b[0m\u001b[0mget_frame\u001b[0m\u001b[0;34m,\u001b[0m \u001b[0mt\u001b[0m\u001b[0;34m)\u001b[0m\u001b[0;34m)\u001b[0m\u001b[0;34m\u001b[0m\u001b[0;34m\u001b[0m\u001b[0m\n\u001b[0m\u001b[1;32m    139\u001b[0m \u001b[0;34m\u001b[0m\u001b[0m\n\u001b[1;32m    140\u001b[0m         \u001b[0;32mif\u001b[0m \u001b[0;32mnot\u001b[0m \u001b[0mkeep_duration\u001b[0m\u001b[0;34m:\u001b[0m\u001b[0;34m\u001b[0m\u001b[0;34m\u001b[0m\u001b[0m\n",
      "\u001b[0;32m~/opt/miniconda3/envs/carnd-term1/lib/python3.8/site-packages/moviepy/video/VideoClip.py\u001b[0m in \u001b[0;36m<lambda>\u001b[0;34m(gf, t)\u001b[0m\n\u001b[1;32m    516\u001b[0m         \u001b[0;32mif\u001b[0m \u001b[0mapply_to\u001b[0m \u001b[0;32mis\u001b[0m \u001b[0;32mNone\u001b[0m\u001b[0;34m:\u001b[0m\u001b[0;34m\u001b[0m\u001b[0;34m\u001b[0m\u001b[0m\n\u001b[1;32m    517\u001b[0m             \u001b[0mapply_to\u001b[0m \u001b[0;34m=\u001b[0m \u001b[0;34m[\u001b[0m\u001b[0;34m]\u001b[0m\u001b[0;34m\u001b[0m\u001b[0;34m\u001b[0m\u001b[0m\n\u001b[0;32m--> 518\u001b[0;31m         \u001b[0;32mreturn\u001b[0m \u001b[0mself\u001b[0m\u001b[0;34m.\u001b[0m\u001b[0mfl\u001b[0m\u001b[0;34m(\u001b[0m\u001b[0;32mlambda\u001b[0m \u001b[0mgf\u001b[0m\u001b[0;34m,\u001b[0m \u001b[0mt\u001b[0m\u001b[0;34m:\u001b[0m \u001b[0mimage_func\u001b[0m\u001b[0;34m(\u001b[0m\u001b[0mgf\u001b[0m\u001b[0;34m(\u001b[0m\u001b[0mt\u001b[0m\u001b[0;34m)\u001b[0m\u001b[0;34m)\u001b[0m\u001b[0;34m,\u001b[0m \u001b[0mapply_to\u001b[0m\u001b[0;34m)\u001b[0m\u001b[0;34m\u001b[0m\u001b[0;34m\u001b[0m\u001b[0m\n\u001b[0m\u001b[1;32m    519\u001b[0m \u001b[0;34m\u001b[0m\u001b[0m\n\u001b[1;32m    520\u001b[0m     \u001b[0;31m# --------------------------------------------------------------\u001b[0m\u001b[0;34m\u001b[0m\u001b[0;34m\u001b[0m\u001b[0;34m\u001b[0m\u001b[0m\n",
      "\u001b[0;32m~/PycharmProjects/self-driving-car/CarND-AdvancedLaneLines/CarND-Advanced-Lane-Lines/frame.py\u001b[0m in \u001b[0;36m__call__\u001b[0;34m(self, frame)\u001b[0m\n\u001b[1;32m    153\u001b[0m         \u001b[0;31m# Recast the x and y points into usable format for cv2.fillPoly()\u001b[0m\u001b[0;34m\u001b[0m\u001b[0;34m\u001b[0m\u001b[0;34m\u001b[0m\u001b[0m\n\u001b[1;32m    154\u001b[0m         \u001b[0mpts_left\u001b[0m \u001b[0;34m=\u001b[0m \u001b[0mnp\u001b[0m\u001b[0;34m.\u001b[0m\u001b[0marray\u001b[0m\u001b[0;34m(\u001b[0m\u001b[0;34m[\u001b[0m\u001b[0mnp\u001b[0m\u001b[0;34m.\u001b[0m\u001b[0mtranspose\u001b[0m\u001b[0;34m(\u001b[0m\u001b[0mnp\u001b[0m\u001b[0;34m.\u001b[0m\u001b[0mvstack\u001b[0m\u001b[0;34m(\u001b[0m\u001b[0;34m[\u001b[0m\u001b[0mself\u001b[0m\u001b[0;34m.\u001b[0m\u001b[0mleft_line\u001b[0m\u001b[0;34m.\u001b[0m\u001b[0mbestx\u001b[0m\u001b[0;34m[\u001b[0m\u001b[0;34m-\u001b[0m\u001b[0mlen\u001b[0m\u001b[0;34m(\u001b[0m\u001b[0mself\u001b[0m\u001b[0;34m.\u001b[0m\u001b[0mleft_line\u001b[0m\u001b[0;34m.\u001b[0m\u001b[0mline_y\u001b[0m\u001b[0;34m)\u001b[0m\u001b[0;34m:\u001b[0m\u001b[0;34m]\u001b[0m\u001b[0;34m,\u001b[0m \u001b[0mself\u001b[0m\u001b[0;34m.\u001b[0m\u001b[0mleft_line\u001b[0m\u001b[0;34m.\u001b[0m\u001b[0mline_y\u001b[0m\u001b[0;34m]\u001b[0m\u001b[0;34m)\u001b[0m\u001b[0;34m)\u001b[0m\u001b[0;34m]\u001b[0m\u001b[0;34m)\u001b[0m\u001b[0;34m\u001b[0m\u001b[0;34m\u001b[0m\u001b[0m\n\u001b[0;32m--> 155\u001b[0;31m         \u001b[0mpts_right\u001b[0m \u001b[0;34m=\u001b[0m \u001b[0mnp\u001b[0m\u001b[0;34m.\u001b[0m\u001b[0marray\u001b[0m\u001b[0;34m(\u001b[0m\u001b[0;34m[\u001b[0m\u001b[0mnp\u001b[0m\u001b[0;34m.\u001b[0m\u001b[0mflipud\u001b[0m\u001b[0;34m(\u001b[0m\u001b[0mnp\u001b[0m\u001b[0;34m.\u001b[0m\u001b[0mtranspose\u001b[0m\u001b[0;34m(\u001b[0m\u001b[0mnp\u001b[0m\u001b[0;34m.\u001b[0m\u001b[0mvstack\u001b[0m\u001b[0;34m(\u001b[0m\u001b[0;34m[\u001b[0m\u001b[0mself\u001b[0m\u001b[0;34m.\u001b[0m\u001b[0mright_line\u001b[0m\u001b[0;34m.\u001b[0m\u001b[0mbestx\u001b[0m\u001b[0;34m[\u001b[0m\u001b[0;34m-\u001b[0m\u001b[0mlen\u001b[0m\u001b[0;34m(\u001b[0m\u001b[0mself\u001b[0m\u001b[0;34m.\u001b[0m\u001b[0mright_line\u001b[0m\u001b[0;34m.\u001b[0m\u001b[0mline_y\u001b[0m\u001b[0;34m)\u001b[0m\u001b[0;34m:\u001b[0m\u001b[0;34m]\u001b[0m\u001b[0;34m,\u001b[0m \u001b[0mself\u001b[0m\u001b[0;34m.\u001b[0m\u001b[0mright_line\u001b[0m\u001b[0;34m.\u001b[0m\u001b[0mline_y\u001b[0m\u001b[0;34m]\u001b[0m\u001b[0;34m)\u001b[0m\u001b[0;34m)\u001b[0m\u001b[0;34m)\u001b[0m\u001b[0;34m]\u001b[0m\u001b[0;34m)\u001b[0m\u001b[0;34m\u001b[0m\u001b[0;34m\u001b[0m\u001b[0m\n\u001b[0m\u001b[1;32m    156\u001b[0m         \u001b[0mpts\u001b[0m \u001b[0;34m=\u001b[0m \u001b[0mnp\u001b[0m\u001b[0;34m.\u001b[0m\u001b[0mhstack\u001b[0m\u001b[0;34m(\u001b[0m\u001b[0;34m(\u001b[0m\u001b[0mpts_left\u001b[0m\u001b[0;34m,\u001b[0m \u001b[0mpts_right\u001b[0m\u001b[0;34m)\u001b[0m\u001b[0;34m)\u001b[0m\u001b[0;34m\u001b[0m\u001b[0;34m\u001b[0m\u001b[0m\n\u001b[1;32m    157\u001b[0m \u001b[0;34m\u001b[0m\u001b[0m\n",
      "\u001b[0;32m<__array_function__ internals>\u001b[0m in \u001b[0;36mvstack\u001b[0;34m(*args, **kwargs)\u001b[0m\n",
      "\u001b[0;32m~/opt/miniconda3/envs/carnd-term1/lib/python3.8/site-packages/numpy/core/shape_base.py\u001b[0m in \u001b[0;36mvstack\u001b[0;34m(tup)\u001b[0m\n\u001b[1;32m    281\u001b[0m     \u001b[0;32mif\u001b[0m \u001b[0;32mnot\u001b[0m \u001b[0misinstance\u001b[0m\u001b[0;34m(\u001b[0m\u001b[0marrs\u001b[0m\u001b[0;34m,\u001b[0m \u001b[0mlist\u001b[0m\u001b[0;34m)\u001b[0m\u001b[0;34m:\u001b[0m\u001b[0;34m\u001b[0m\u001b[0;34m\u001b[0m\u001b[0m\n\u001b[1;32m    282\u001b[0m         \u001b[0marrs\u001b[0m \u001b[0;34m=\u001b[0m \u001b[0;34m[\u001b[0m\u001b[0marrs\u001b[0m\u001b[0;34m]\u001b[0m\u001b[0;34m\u001b[0m\u001b[0;34m\u001b[0m\u001b[0m\n\u001b[0;32m--> 283\u001b[0;31m     \u001b[0;32mreturn\u001b[0m \u001b[0m_nx\u001b[0m\u001b[0;34m.\u001b[0m\u001b[0mconcatenate\u001b[0m\u001b[0;34m(\u001b[0m\u001b[0marrs\u001b[0m\u001b[0;34m,\u001b[0m \u001b[0;36m0\u001b[0m\u001b[0;34m)\u001b[0m\u001b[0;34m\u001b[0m\u001b[0;34m\u001b[0m\u001b[0m\n\u001b[0m\u001b[1;32m    284\u001b[0m \u001b[0;34m\u001b[0m\u001b[0m\n\u001b[1;32m    285\u001b[0m \u001b[0;34m\u001b[0m\u001b[0m\n",
      "\u001b[0;32m<__array_function__ internals>\u001b[0m in \u001b[0;36mconcatenate\u001b[0;34m(*args, **kwargs)\u001b[0m\n",
      "\u001b[0;31mValueError\u001b[0m: all the input array dimensions for the concatenation axis must match exactly, but along dimension 1, the array at index 0 has size 720 and the array at index 1 has size 0"
     ]
    }
   ],
   "source": [
    "white_output = 'harder_challenge_video_output.mp4'\n",
    "clip1 = VideoFileClip(\"harder_challenge_video.mp4\")\n",
    "white_clip = clip1.fl_image(Frame(mtx, dist, M, M_inv, img_size, 2, True)).subclip(0,5) #NOTE: this function expects color images!!\n",
    "%time white_clip.write_videofile(white_output, audio=False)"
   ]
  },
  {
   "cell_type": "code",
   "execution_count": 17,
   "metadata": {},
   "outputs": [
    {
     "data": {
      "text/html": [
       "\n",
       "<video width=\"960\" height=\"540\" controls>\n",
       "  <source src=\"harder_challenge_video_output.mp4\">\n",
       "</video>\n"
      ],
      "text/plain": [
       "<IPython.core.display.HTML object>"
      ]
     },
     "execution_count": 17,
     "metadata": {},
     "output_type": "execute_result"
    }
   ],
   "source": [
    "HTML(\"\"\"\n",
    "<video width=\"960\" height=\"540\" controls>\n",
    "  <source src=\"{0}\">\n",
    "</video>\n",
    "\"\"\".format(white_output))"
   ]
  }
 ],
 "metadata": {
  "anaconda-cloud": {},
  "kernelspec": {
   "display_name": "Python 3",
   "language": "python",
   "name": "python3"
  },
  "language_info": {
   "codemirror_mode": {
    "name": "ipython",
    "version": 3
   },
   "file_extension": ".py",
   "mimetype": "text/x-python",
   "name": "python",
   "nbconvert_exporter": "python",
   "pygments_lexer": "ipython3",
   "version": "3.8.2"
  }
 },
 "nbformat": 4,
 "nbformat_minor": 4
}
